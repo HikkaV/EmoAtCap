{
 "cells": [
  {
   "cell_type": "code",
   "execution_count": 1,
   "id": "photographic-feelings",
   "metadata": {},
   "outputs": [],
   "source": [
    "import pandas as pd"
   ]
  },
  {
   "cell_type": "code",
   "execution_count": 2,
   "id": "quiet-requirement",
   "metadata": {},
   "outputs": [],
   "source": [
    "df = pd.read_csv('../data/imdb/annotations.csv')"
   ]
  },
  {
   "cell_type": "code",
   "execution_count": 10,
   "id": "economic-theory",
   "metadata": {},
   "outputs": [],
   "source": [
    "vals = df['annotation'].apply(lambda x: x.split(' ')).values"
   ]
  },
  {
   "cell_type": "code",
   "execution_count": 11,
   "id": "built-heritage",
   "metadata": {},
   "outputs": [],
   "source": [
    "with open('missing_in_w2v.txt','r') as f:\n",
    "    missing = f.read()"
   ]
  },
  {
   "cell_type": "code",
   "execution_count": 14,
   "id": "injured-index",
   "metadata": {},
   "outputs": [],
   "source": [
    "missing = [i for i in missing.split('\\n') if i]"
   ]
  },
  {
   "cell_type": "code",
   "execution_count": 18,
   "id": "decent-physiology",
   "metadata": {},
   "outputs": [
    {
     "data": {
      "text/plain": [
       "[(39, {'smilling'}), (85, {'surpsied'})]"
      ]
     },
     "execution_count": 18,
     "metadata": {},
     "output_type": "execute_result"
    }
   ],
   "source": [
    "[(c,set(missing).intersection(i)) for c, i in enumerate(vals) if set(missing).intersection(i)]"
   ]
  },
  {
   "cell_type": "code",
   "execution_count": 17,
   "id": "deluxe-trace",
   "metadata": {},
   "outputs": [
    {
     "data": {
      "text/plain": [
       "['A', 'girl', 'in', 'a', 'precious', 'dress', 'is', 'happily', 'smilling']"
      ]
     },
     "execution_count": 17,
     "metadata": {},
     "output_type": "execute_result"
    }
   ],
   "source": [
    "vals[39]"
   ]
  },
  {
   "cell_type": "code",
   "execution_count": 26,
   "id": "matched-airfare",
   "metadata": {},
   "outputs": [
    {
     "data": {
      "text/plain": [
       "39    A girl in a precious dress is happily smiling\n",
       "85    A woman is bored while her friend is surpsied\n",
       "Name: annotation, dtype: object"
      ]
     },
     "execution_count": 26,
     "metadata": {},
     "output_type": "execute_result"
    }
   ],
   "source": [
    "df.iloc[[39,85]]['annotation'] "
   ]
  },
  {
   "cell_type": "code",
   "execution_count": 25,
   "id": "returning-chase",
   "metadata": {},
   "outputs": [],
   "source": [
    "df[df['annotation']=='A girl in a precious dress is happily smilling'] = 'A girl in a precious dress is happily smiling'"
   ]
  },
  {
   "cell_type": "code",
   "execution_count": 27,
   "id": "ready-elite",
   "metadata": {},
   "outputs": [],
   "source": [
    "df[df['annotation']=='A woman is bored while her friend is surpsied'] = 'A woman is bored while her friend is surprised'"
   ]
  },
  {
   "cell_type": "code",
   "execution_count": 28,
   "id": "sacred-nancy",
   "metadata": {},
   "outputs": [],
   "source": [
    "df.to_csv('../data/imdb/annotations.csv')"
   ]
  },
  {
   "cell_type": "code",
   "execution_count": null,
   "id": "weekly-assistant",
   "metadata": {},
   "outputs": [],
   "source": []
  }
 ],
 "metadata": {
  "kernelspec": {
   "display_name": "Python 3",
   "language": "python",
   "name": "python3"
  },
  "language_info": {
   "codemirror_mode": {
    "name": "ipython",
    "version": 3
   },
   "file_extension": ".py",
   "mimetype": "text/x-python",
   "name": "python",
   "nbconvert_exporter": "python",
   "pygments_lexer": "ipython3",
   "version": "3.7.5"
  }
 },
 "nbformat": 4,
 "nbformat_minor": 5
}
