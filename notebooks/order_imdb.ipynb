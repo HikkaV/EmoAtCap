{
 "cells": [
  {
   "cell_type": "code",
   "execution_count": 1,
   "id": "joint-suspension",
   "metadata": {},
   "outputs": [],
   "source": [
    "import os\n",
    "from PIL import Image"
   ]
  },
  {
   "cell_type": "code",
   "execution_count": 4,
   "id": "known-bangkok",
   "metadata": {},
   "outputs": [
    {
     "name": "stdout",
     "output_type": "stream",
     "text": [
      "annotations  comics  imdb  new_annotations\r\n"
     ]
    }
   ],
   "source": [
    "! ls ../data"
   ]
  },
  {
   "cell_type": "markdown",
   "id": "partial-estonia",
   "metadata": {},
   "source": [
    "# data eda"
   ]
  },
  {
   "cell_type": "code",
   "execution_count": 5,
   "id": "fantastic-portal",
   "metadata": {},
   "outputs": [],
   "source": [
    "folders = os.listdir('../data/imdb')"
   ]
  },
  {
   "cell_type": "code",
   "execution_count": 51,
   "id": "dated-malawi",
   "metadata": {},
   "outputs": [],
   "source": [
    "pathes = []\n",
    "for folder in folders:\n",
    "    path = os.path.join('../data/imdb', folder)\n",
    "    for image in os.listdir(path):\n",
    "        tmp_path = os.path.join(path,image)\n",
    "        pathes.append(tmp_path)"
   ]
  },
  {
   "cell_type": "code",
   "execution_count": 52,
   "id": "express-military",
   "metadata": {},
   "outputs": [
    {
     "data": {
      "text/plain": [
       "16013"
      ]
     },
     "execution_count": 52,
     "metadata": {},
     "output_type": "execute_result"
    }
   ],
   "source": [
    "len(pathes)"
   ]
  },
  {
   "cell_type": "code",
   "execution_count": 28,
   "id": "governmental-swedish",
   "metadata": {},
   "outputs": [
    {
     "name": "stderr",
     "output_type": "stream",
     "text": [
      "/home/volodymyr/Parallel-emotional-intent-clustering/env/lib/python3.7/site-packages/PIL/Image.py:2850: DecompressionBombWarning: Image size (102273984 pixels) exceeds limit of 89478485 pixels, could be decompression bomb DOS attack.\n",
      "  DecompressionBombWarning,\n"
     ]
    }
   ],
   "source": [
    "heights_dist = []\n",
    "widths_dist = []\n",
    "size_dist = []\n",
    "for i in pathes:\n",
    "    tmp = Image.open(i)\n",
    "    heights_dist.append(tmp.height)\n",
    "    widths_dist.append(tmp.width)\n",
    "    size_dist.append(os.path.getsize(i)*1e-3)"
   ]
  },
  {
   "cell_type": "code",
   "execution_count": 29,
   "id": "welcome-cherry",
   "metadata": {},
   "outputs": [],
   "source": [
    "import seaborn as sns\n",
    "sns.set()"
   ]
  },
  {
   "cell_type": "code",
   "execution_count": 30,
   "id": "southwest-allen",
   "metadata": {},
   "outputs": [
    {
     "data": {
      "text/plain": [
       "<AxesSubplot:ylabel='Count'>"
      ]
     },
     "execution_count": 30,
     "metadata": {},
     "output_type": "execute_result"
    },
    {
     "data": {
      "image/png": "[encoded data removed]",
      "text/plain": [
       "<Figure size 432x288 with 1 Axes>"
      ]
     },
     "metadata": {},
     "output_type": "display_data"
    }
   ],
   "source": [
    "sns.histplot(heights_dist)"
   ]
  },
  {
   "cell_type": "code",
   "execution_count": 31,
   "id": "based-frequency",
   "metadata": {},
   "outputs": [
    {
     "data": {
      "text/plain": [
       "<AxesSubplot:ylabel='Count'>"
      ]
     },
     "execution_count": 31,
     "metadata": {},
     "output_type": "execute_result"
    },
    {
     "data": {
      "image/png": "[encoded data removed]",
      "text/plain": [
       "<Figure size 432x288 with 1 Axes>"
      ]
     },
     "metadata": {},
     "output_type": "display_data"
    }
   ],
   "source": [
    "sns.histplot(widths_dist)"
   ]
  },
  {
   "cell_type": "code",
   "execution_count": 32,
   "id": "peaceful-deployment",
   "metadata": {},
   "outputs": [
    {
     "data": {
      "text/plain": [
       "<AxesSubplot:ylabel='Count'>"
      ]
     },
     "execution_count": 32,
     "metadata": {},
     "output_type": "execute_result"
    },
    {
     "data": {
      "image/png": "[encoded data removed]",
      "text/plain": [
       "<Figure size 432x288 with 1 Axes>"
      ]
     },
     "metadata": {},
     "output_type": "display_data"
    }
   ],
   "source": [
    "sns.histplot(size_dist)"
   ]
  },
  {
   "cell_type": "markdown",
   "id": "loaded-beginning",
   "metadata": {},
   "source": [
    "# resizing images"
   ]
  },
  {
   "cell_type": "code",
   "execution_count": 33,
   "id": "collect-glass",
   "metadata": {},
   "outputs": [],
   "source": [
    "import tqdm"
   ]
  },
  {
   "cell_type": "code",
   "execution_count": 36,
   "id": "electoral-modem",
   "metadata": {},
   "outputs": [
    {
     "name": "stderr",
     "output_type": "stream",
     "text": [
      " 94%|█████████▍| 15018/16013 [03:32<00:14, 68.58it/s]/home/volodymyr/Parallel-emotional-intent-clustering/env/lib/python3.7/site-packages/PIL/Image.py:2850: DecompressionBombWarning: Image size (102273984 pixels) exceeds limit of 89478485 pixels, could be decompression bomb DOS attack.\n",
      "  DecompressionBombWarning,\n",
      "100%|██████████| 16013/16013 [03:51<00:00, 69.31it/s]\n"
     ]
    }
   ],
   "source": [
    "size = 300, 400\n",
    "for i in tqdm.tqdm(pathes):\n",
    "    im = Image.open(i)\n",
    "    try:\n",
    "        im.thumbnail(size, Image.ANTIALIAS)\n",
    "        im.save(i, \"JPEG\", quality=95)\n",
    "    except:\n",
    "        pass"
   ]
  },
  {
   "cell_type": "markdown",
   "id": "statewide-colorado",
   "metadata": {},
   "source": [
    "# data ordering"
   ]
  },
  {
   "cell_type": "code",
   "execution_count": 47,
   "id": "located-soviet",
   "metadata": {},
   "outputs": [],
   "source": [
    "import numpy as np"
   ]
  },
  {
   "cell_type": "code",
   "execution_count": 53,
   "id": "direct-vaccine",
   "metadata": {},
   "outputs": [],
   "source": [
    "pathes = [pathes[i:i+int(np.ceil(len(pathes)/4))] for i in range(0, len(pathes), int(np.ceil(len(pathes)/4)))]"
   ]
  },
  {
   "cell_type": "code",
   "execution_count": 54,
   "id": "silver-observation",
   "metadata": {},
   "outputs": [
    {
     "data": {
      "text/plain": [
       "[4004, 4004, 4004, 4001]"
      ]
     },
     "execution_count": 54,
     "metadata": {},
     "output_type": "execute_result"
    }
   ],
   "source": [
    "[len(i) for i in pathes]"
   ]
  },
  {
   "cell_type": "code",
   "execution_count": 55,
   "id": "quiet-johns",
   "metadata": {},
   "outputs": [],
   "source": [
    "import shutil"
   ]
  },
  {
   "cell_type": "code",
   "execution_count": 63,
   "id": "august-better",
   "metadata": {},
   "outputs": [],
   "source": [
    "dir_names = ['Vova_0','Oleksii_0', 'Dima_Tar_0', 'Dima_Mal_0']\n",
    "for dir_, chunk_path in zip(dir_names, pathes):\n",
    "    dir_path = os.path.join('../data/imdb/',dir_)\n",
    "    if not os.path.exists(dir_path):\n",
    "        os.mkdir(dir_path)\n",
    "    for path in chunk_path:\n",
    "        shutil.move(path, os.path.join(dir_path,path.split('/')[-1]))"
   ]
  },
  {
   "cell_type": "code",
   "execution_count": null,
   "id": "compliant-charleston",
   "metadata": {},
   "outputs": [],
   "source": []
  }
 ],
 "metadata": {
  "kernelspec": {
   "display_name": "Python 3",
   "language": "python",
   "name": "python3"
  },
  "language_info": {
   "codemirror_mode": {
    "name": "ipython",
    "version": 3
   },
   "file_extension": ".py",
   "mimetype": "text/x-python",
   "name": "python",
   "nbconvert_exporter": "python",
   "pygments_lexer": "ipython3",
   "version": "3.7.5"
  }
 },
 "nbformat": 4,
 "nbformat_minor": 5
}
