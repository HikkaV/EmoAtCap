{
 "cells": [
  {
   "cell_type": "code",
   "execution_count": 23,
   "id": "oriented-equality",
   "metadata": {},
   "outputs": [],
   "source": [
    "from skimage import transform\n",
    "import datetime\n",
    "import numpy as np\n",
    "import cv2\n",
    "from PIL import Image\n",
    "import math\n",
    "import os\n",
    "import json\n",
    "from tqdm import tqdm\n",
    "import matplotlib.pyplot as plt"
   ]
  },
  {
   "cell_type": "markdown",
   "id": "interpreted-mentor",
   "metadata": {},
   "source": [
    "## Additonal filtering using yolov3 on WIDER FACE"
   ]
  },
  {
   "cell_type": "code",
   "execution_count": 24,
   "id": "manufactured-heaven",
   "metadata": {},
   "outputs": [],
   "source": [
    "def get_outputs_names(net):\n",
    "    layers_names = net.getLayerNames()\n",
    "    return [layers_names[i[0] - 1] for i in net.getUnconnectedOutLayers()]\n",
    "\n",
    "def post_process(frame, outs, conf_threshold, nms_threshold):\n",
    "    frame_height = frame.shape[0]\n",
    "    frame_width = frame.shape[1]\n",
    "    confidences = []\n",
    "    boxes = []\n",
    "    last_box=[]\n",
    "    people_boxes = []\n",
    "    center = []\n",
    "    class_ids = []\n",
    "    if True:\n",
    "\n",
    "        for out in outs:\n",
    "            for detection in out:\n",
    "                scores = detection[5:]\n",
    "                class_id = np.argmax(scores)\n",
    "                confidence = scores[class_id]\n",
    "                if confidence > conf_threshold:\n",
    "                    center_x = int(detection[0] * frame_width)\n",
    "                    center_y = int(detection[1] * frame_height)\n",
    "                    width = int(detection[2] * frame_width)\n",
    "                    height = int(detection[3] * frame_height)\n",
    "                    left = int(center_x - width / 2)\n",
    "                    top = int(center_y - height / 2)\n",
    "                    confidences.append(float(confidence))\n",
    "                    boxes.append([left, top, width, height])\n",
    "                    center.append([center_x, center_y])\n",
    "                    class_ids.append(class_id)\n",
    "\n",
    "    indices = cv2.dnn.NMSBoxes(boxes, confidences, conf_threshold,\n",
    "                               nms_threshold)\n",
    "    \n",
    "    counter = 0\n",
    "    for i in indices:\n",
    "        i = i[0]\n",
    "        if class_ids[i]==0:\n",
    "            counter+=1\n",
    "    return counter==1"
   ]
  },
  {
   "cell_type": "code",
   "execution_count": 25,
   "id": "flexible-paradise",
   "metadata": {},
   "outputs": [],
   "source": [
    "CONF_THRESHOLD = 0.9\n",
    "NMS_THRESHOLD = 0.9\n",
    "IMG_WIDTH = 416\n",
    "IMG_HEIGHT = 416\n",
    "model_cfg = 'cfg/yolov3-face.cfg'\n",
    "model_weights = 'weights/yolov3-wider_16000.weights'\n",
    "annotations_path = \"../data/new_annotations/annot.json\"\n",
    "image_dir = \"../data/train2014/\"\n",
    "images_list = os.listdir(image_dir)"
   ]
  },
  {
   "cell_type": "code",
   "execution_count": 26,
   "id": "domestic-spanish",
   "metadata": {},
   "outputs": [],
   "source": [
    "annotations = json.load(open(annotations_path,'r'))"
   ]
  },
  {
   "cell_type": "code",
   "execution_count": 27,
   "id": "historical-shooting",
   "metadata": {},
   "outputs": [],
   "source": [
    "net = cv2.dnn.readNetFromDarknet(model_cfg, model_weights)\n",
    "\n",
    "net.setPreferableBackend(cv2.dnn.DNN_BACKEND_OPENCV)\n",
    "net.setPreferableTarget(cv2.dnn.DNN_TARGET_CPU)"
   ]
  },
  {
   "cell_type": "code",
   "execution_count": null,
   "id": "medieval-retrieval",
   "metadata": {},
   "outputs": [
    {
     "name": "stderr",
     "output_type": "stream",
     "text": [
      "  1%|▏         | 379/28647 [01:38<2:15:06,  3.49it/s]"
     ]
    }
   ],
   "source": [
    "new_annotations = {}\n",
    "for i in tqdm(annotations.keys()):\n",
    "    frame = cv2.imread(image_dir + '/' + i)\n",
    "    img = Image.open(image_dir + '/' + i)\n",
    "    width, height = img.size\n",
    "    blob = cv2.dnn.blobFromImage(frame, 1 / 255, (IMG_WIDTH, IMG_HEIGHT),\n",
    "                                [0, 0, 0], 1, crop=False)\n",
    "    net.setInput(blob)\n",
    "\n",
    "\n",
    "    outs = net.forward(get_outputs_names(net))\n",
    "\n",
    "    if not post_process(frame, outs, CONF_THRESHOLD, NMS_THRESHOLD\n",
    "                                       ):\n",
    "        new_annotations.update({i:annotations[i]})\n",
    "        \n",
    "print('Before filtering : {}'.format(len(annotations)))\n",
    "print('After filtering : {}'.format(len(new_annotations)))"
   ]
  },
  {
   "cell_type": "markdown",
   "id": "choice-pickup",
   "metadata": {},
   "source": [
    "## New annotations visualization"
   ]
  },
  {
   "cell_type": "code",
   "execution_count": null,
   "id": "overall-belief",
   "metadata": {
    "scrolled": true
   },
   "outputs": [],
   "source": [
    "idx = np.random.choice(range(len(new_annotations)))\n",
    "path, labels = list(new_annotations.items())[idx]\n",
    "image = np.array(Image.open(os.path.join(image_dir,path)))\n",
    "plt.imshow(image);\n",
    "print(labels)"
   ]
  },
  {
   "cell_type": "markdown",
   "id": "reliable-glucose",
   "metadata": {},
   "source": [
    "## Saving final annotations"
   ]
  },
  {
   "cell_type": "code",
   "execution_count": null,
   "id": "about-killing",
   "metadata": {},
   "outputs": [],
   "source": [
    "if not os.path.exists('../data/new_annotations'):\n",
    "    os.mkdir('../data/new_annotations')\n",
    "with open('../data/new_annotations/final_annot.json', 'w') as f:\n",
    "    json.dump(people_annot,f)"
   ]
  },
  {
   "cell_type": "code",
   "execution_count": null,
   "id": "raising-participation",
   "metadata": {},
   "outputs": [],
   "source": []
  }
 ],
 "metadata": {
  "kernelspec": {
   "display_name": "Python 3",
   "language": "python",
   "name": "python3"
  },
  "language_info": {
   "codemirror_mode": {
    "name": "ipython",
    "version": 3
   },
   "file_extension": ".py",
   "mimetype": "text/x-python",
   "name": "python",
   "nbconvert_exporter": "python",
   "pygments_lexer": "ipython3",
   "version": "3.7.5"
  }
 },
 "nbformat": 4,
 "nbformat_minor": 5
}
