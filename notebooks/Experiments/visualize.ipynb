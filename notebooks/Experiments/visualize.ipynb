{
 "cells": [
  {
   "cell_type": "code",
   "execution_count": 1,
   "id": "original-gothic",
   "metadata": {},
   "outputs": [],
   "source": [
    "import pandas as pd\n",
    "import os\n",
    "import shutil"
   ]
  },
  {
   "cell_type": "code",
   "execution_count": 2,
   "id": "growing-craft",
   "metadata": {},
   "outputs": [],
   "source": [
    "def load_data(folders_path, annotations_path):\n",
    "    df = pd.read_csv(annotations_path)\n",
    "    df = df[~df['human_sentiment'].isna()]\n",
    "    folders = [i for i in os.listdir(folders_path) if not (i.endswith('xlsx') or i.endswith('csv'))]\n",
    "    for folder in folders:\n",
    "        path = os.path.join(folders_path, folder)\n",
    "        in_folder = os.listdir(path)\n",
    "        df.loc[df['image_name'].isin(in_folder), 'image_name'] = \\\n",
    "        df.loc[df['image_name'].isin(in_folder), 'image_name'].apply(lambda x: os.path.join(path,x))\n",
    "    df = df[df['image_name'].apply(lambda x: 'data' in x.split('/'))]\n",
    "    return df"
   ]
  },
  {
   "cell_type": "code",
   "execution_count": 3,
   "id": "honey-ethics",
   "metadata": {},
   "outputs": [],
   "source": [
    "df = load_data(\"../../data/imdb/\", '../../data/annotations_excel.csv')"
   ]
  },
  {
   "cell_type": "code",
   "execution_count": 4,
   "id": "voluntary-savannah",
   "metadata": {},
   "outputs": [],
   "source": [
    "if not os.path.exists('sprite_folder'):\n",
    "    os.mkdir('sprite_folder')\n",
    "for path in df.image_name.values:\n",
    "    shutil.copy(path, os.path.join('sprite_folder',path.split('/')[-1]))"
   ]
  },
  {
   "cell_type": "code",
   "execution_count": 5,
   "id": "characteristic-morgan",
   "metadata": {},
   "outputs": [],
   "source": [
    "! montage sprite_folder/*.jpg -tile 50x50 -geometry 50x50! sprite.jpg"
   ]
  },
  {
   "cell_type": "code",
   "execution_count": 6,
   "id": "female-caribbean",
   "metadata": {},
   "outputs": [],
   "source": [
    "shutil.rmtree('sprite_folder/')"
   ]
  },
  {
   "cell_type": "code",
   "execution_count": 39,
   "id": "loose-overhead",
   "metadata": {},
   "outputs": [],
   "source": [
    "config = \"\"\"embeddings {\n",
    "              tensor_path: \"{0}\"\n",
    "              sprite {\n",
    "                image_path: \"sprite.jpg\"\n",
    "                single_image_dim: 50\n",
    "                single_image_dim: 50\n",
    "              }\n",
    "            }\"\"\""
   ]
  },
  {
   "cell_type": "code",
   "execution_count": 40,
   "id": "nuclear-underground",
   "metadata": {},
   "outputs": [],
   "source": [
    "config = config.split('\\n')"
   ]
  },
  {
   "cell_type": "code",
   "execution_count": 41,
   "id": "accredited-litigation",
   "metadata": {},
   "outputs": [],
   "source": [
    "config[1] = config[1].format('../text_features/stbs_bert.tsv')"
   ]
  },
  {
   "cell_type": "code",
   "execution_count": 42,
   "id": "instructional-annual",
   "metadata": {},
   "outputs": [],
   "source": [
    "config = '\\n'.join(config)"
   ]
  },
  {
   "cell_type": "code",
   "execution_count": 43,
   "id": "palestinian-marathon",
   "metadata": {},
   "outputs": [],
   "source": [
    "with open('projector_config.pbtxt','w') as f:\n",
    "    f.write(config)"
   ]
  },
  {
   "cell_type": "code",
   "execution_count": null,
   "id": "apart-trace",
   "metadata": {},
   "outputs": [
    {
     "name": "stdout",
     "output_type": "stream",
     "text": [
      "2021-05-18 18:06:09.833433: W tensorflow/stream_executor/platform/default/dso_loader.cc:60] Could not load dynamic library 'libcudart.so.11.0'; dlerror: libcudart.so.11.0: cannot open shared object file: No such file or directory; LD_LIBRARY_PATH: :/root/.mujoco/mujoco200/bin\n",
      "2021-05-18 18:06:09.833452: I tensorflow/stream_executor/cuda/cudart_stub.cc:29] Ignore above cudart dlerror if you do not have a GPU set up on your machine.\n",
      "\n",
      "NOTE: Using experimental fast data loading logic. To disable, pass\n",
      "    \"--load_fast=false\" and report issues on GitHub. More details:\n",
      "    https://github.com/tensorflow/tensorboard/issues/4784\n",
      "\n",
      "Serving TensorBoard on localhost; to expose to the network, use a proxy or pass --bind_all\n",
      "TensorBoard 2.5.0 at http://localhost:6006/ (Press CTRL+C to quit)\n"
     ]
    }
   ],
   "source": [
    "!tensorboard --logdir .\n"
   ]
  },
  {
   "cell_type": "code",
   "execution_count": null,
   "id": "greatest-module",
   "metadata": {},
   "outputs": [],
   "source": []
  }
 ],
 "metadata": {
  "kernelspec": {
   "display_name": "Python 3",
   "language": "python",
   "name": "python3"
  },
  "language_info": {
   "codemirror_mode": {
    "name": "ipython",
    "version": 3
   },
   "file_extension": ".py",
   "mimetype": "text/x-python",
   "name": "python",
   "nbconvert_exporter": "python",
   "pygments_lexer": "ipython3",
   "version": "3.7.5"
  }
 },
 "nbformat": 4,
 "nbformat_minor": 5
}
