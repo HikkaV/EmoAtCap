{
 "cells": [
  {
   "cell_type": "code",
   "execution_count": 1,
   "id": "fd38fb53",
   "metadata": {},
   "outputs": [],
   "source": [
    "import tensorflow as tf"
   ]
  },
  {
   "cell_type": "code",
   "execution_count": 2,
   "id": "2e856310",
   "metadata": {},
   "outputs": [],
   "source": [
    "import pandas as pd\n",
    "import os\n",
    "import numpy as np\n",
    "from sklearn.utils import class_weight\n",
    "from keras_preprocessing import image as im\n",
    "tf.random.set_seed(\n",
    "    5\n",
    ")"
   ]
  },
  {
   "cell_type": "markdown",
   "id": "3e1a2dc7",
   "metadata": {},
   "source": [
    "# Loading data"
   ]
  },
  {
   "cell_type": "code",
   "execution_count": 3,
   "id": "8ca79638",
   "metadata": {},
   "outputs": [],
   "source": [
    "def load_data(image_path, annotations_path):\n",
    "    df = pd.read_csv(annotations_path)\n",
    "    df = df[~df['human_sentiment'].isna()]\n",
    "    in_folder = os.listdir(image_path)\n",
    "    df.loc[df['image_name'].isin(in_folder), 'image_name'] = \\\n",
    "    df.loc[df['image_name'].isin(in_folder), 'image_name'].apply(lambda x: os.path.join(image_path,x))\n",
    "    images = []\n",
    "    for image_name in df['image_name'].values:\n",
    "        images.append(np.array(im.load_img(image_name, target_size=(224,224))))\n",
    "    images = np.array(images)\n",
    "    images = images/255\n",
    "    annotations = df['annotation'].str.lower().values\n",
    "    return images, annotations"
   ]
  },
  {
   "cell_type": "code",
   "execution_count": 4,
   "id": "e961e203",
   "metadata": {},
   "outputs": [],
   "source": [
    "images, annotations = load_data(\"../../../images/\", '../../../emo-at-cap.csv')"
   ]
  },
  {
   "cell_type": "markdown",
   "id": "6ff6b779",
   "metadata": {},
   "source": [
    "# Processing of data"
   ]
  },
  {
   "cell_type": "code",
   "execution_count": 5,
   "id": "00fdbc58",
   "metadata": {},
   "outputs": [],
   "source": [
    "import nltk"
   ]
  },
  {
   "cell_type": "code",
   "execution_count": 6,
   "id": "c68988ad",
   "metadata": {},
   "outputs": [],
   "source": [
    "tokenizer = nltk.tokenize.WordPunctTokenizer()"
   ]
  },
  {
   "cell_type": "code",
   "execution_count": 7,
   "id": "fdaada34",
   "metadata": {},
   "outputs": [],
   "source": [
    "tokenized = [tokenizer.tokenize(i) for i in annotations]"
   ]
  },
  {
   "cell_type": "code",
   "execution_count": 8,
   "id": "ea34b1ea",
   "metadata": {},
   "outputs": [],
   "source": [
    "unique_tokens, unique_counts = np.unique(np.hstack(tokenized), return_counts=True)"
   ]
  },
  {
   "cell_type": "code",
   "execution_count": 9,
   "id": "b7e7ff38",
   "metadata": {},
   "outputs": [
    {
     "name": "stderr",
     "output_type": "stream",
     "text": [
      "/home/ec2-user/anaconda3/envs/amazonei_tensorflow2_p36/lib/python3.6/site-packages/sklearn/utils/validation.py:72: FutureWarning: Pass classes=[\"'\" ',' '-' ... 'youth' 'исходный' 'текст'], y=['the' 'man' 'is' ... 'with' 'some' 'clothes'] as keyword args. From version 1.0 (renaming of 0.25) passing these as positional arguments will result in an error\n",
      "  \"will result in an error\", FutureWarning)\n"
     ]
    }
   ],
   "source": [
    "class_weights = class_weight.compute_class_weight('balanced', np.unique(np.hstack(tokenized)), np.hstack(tokenized))"
   ]
  },
  {
   "cell_type": "code",
   "execution_count": 10,
   "id": "c6a579ef",
   "metadata": {},
   "outputs": [],
   "source": [
    "frequency = sorted(list(zip(unique_tokens, unique_counts)), key = lambda x: x[1])[::-1][:50]"
   ]
  },
  {
   "cell_type": "code",
   "execution_count": 11,
   "id": "54491bc3",
   "metadata": {},
   "outputs": [
    {
     "data": {
      "text/plain": [
       "[('the', 3261),\n",
       " ('is', 2031),\n",
       " ('man', 1905),\n",
       " ('and', 1536),\n",
       " ('woman', 1361),\n",
       " ('are', 1036),\n",
       " ('a', 963),\n",
       " ('to', 891),\n",
       " ('looks', 751),\n",
       " ('happy', 705),\n",
       " ('with', 547),\n",
       " ('something', 480),\n",
       " ('men', 478),\n",
       " ('of', 463),\n",
       " ('two', 408),\n",
       " ('other', 361),\n",
       " ('people', 343),\n",
       " ('couple', 334),\n",
       " (',', 330),\n",
       " ('in', 278),\n",
       " ('look', 270),\n",
       " ('because', 265),\n",
       " ('they', 256),\n",
       " ('about', 247),\n",
       " ('on', 246),\n",
       " ('at', 192),\n",
       " ('trying', 190),\n",
       " ('serious', 189),\n",
       " ('women', 184),\n",
       " ('each', 179),\n",
       " ('together', 176),\n",
       " ('by', 175),\n",
       " ('having', 171),\n",
       " ('flirting', 165),\n",
       " ('he', 155),\n",
       " ('smiling', 151),\n",
       " ('arguing', 141),\n",
       " ('angry', 140),\n",
       " ('scared', 138),\n",
       " ('worried', 137),\n",
       " ('hugging', 135),\n",
       " ('surprised', 134),\n",
       " ('calm', 133),\n",
       " ('company', 131),\n",
       " ('her', 129),\n",
       " ('group', 123),\n",
       " ('for', 121),\n",
       " ('she', 117),\n",
       " ('looking', 117),\n",
       " ('his', 115)]"
      ]
     },
     "execution_count": 11,
     "metadata": {},
     "output_type": "execute_result"
    }
   ],
   "source": [
    "frequency"
   ]
  },
  {
   "cell_type": "code",
   "execution_count": 12,
   "id": "052011a8",
   "metadata": {},
   "outputs": [
    {
     "data": {
      "text/plain": [
       "2162"
      ]
     },
     "execution_count": 12,
     "metadata": {},
     "output_type": "execute_result"
    }
   ],
   "source": [
    "len(unique_tokens)"
   ]
  },
  {
   "cell_type": "code",
   "execution_count": 13,
   "id": "00395bcc",
   "metadata": {},
   "outputs": [],
   "source": [
    "pad_token = '<PAD>'\n",
    "start_token = '<S>'\n",
    "end_token = '<E>'"
   ]
  },
  {
   "cell_type": "code",
   "execution_count": 14,
   "id": "0b6aadfc",
   "metadata": {},
   "outputs": [],
   "source": [
    "vocab = dict(zip(unique_tokens,list(range(3,len(unique_tokens)+3))))\n",
    "vocab[pad_token] = 0\n",
    "vocab[start_token] = 1\n",
    "vocab[end_token] = 2"
   ]
  },
  {
   "cell_type": "code",
   "execution_count": 15,
   "id": "0830f4d0",
   "metadata": {},
   "outputs": [],
   "source": [
    "inverse_vocab = dict([(v,k) for k,v in vocab.items()])"
   ]
  },
  {
   "cell_type": "code",
   "execution_count": 16,
   "id": "6c4573ef",
   "metadata": {},
   "outputs": [],
   "source": [
    "add_special_tokens = lambda x: [start_token] + x + [end_token]"
   ]
  },
  {
   "cell_type": "code",
   "execution_count": 17,
   "id": "40fdc8bd",
   "metadata": {},
   "outputs": [],
   "source": [
    "tokenized_prepared = list(map(add_special_tokens,tokenized))"
   ]
  },
  {
   "cell_type": "code",
   "execution_count": 18,
   "id": "aaebc374",
   "metadata": {},
   "outputs": [],
   "source": [
    "max_len = len(max(tokenized_prepared, key=len))"
   ]
  },
  {
   "cell_type": "code",
   "execution_count": 19,
   "id": "6c6fd14c",
   "metadata": {},
   "outputs": [],
   "source": [
    "indexed = list(map(lambda x: [vocab[i] for i in x],tokenized_prepared))"
   ]
  },
  {
   "cell_type": "code",
   "execution_count": 20,
   "id": "ee94fdf4",
   "metadata": {},
   "outputs": [],
   "source": [
    "padded = tf.keras.preprocessing.sequence.pad_sequences(indexed, truncating='post')"
   ]
  },
  {
   "cell_type": "code",
   "execution_count": 21,
   "id": "757f12eb",
   "metadata": {},
   "outputs": [
    {
     "data": {
      "text/plain": [
       "(3840, 224, 224, 3)"
      ]
     },
     "execution_count": 21,
     "metadata": {},
     "output_type": "execute_result"
    }
   ],
   "source": [
    "images.shape"
   ]
  },
  {
   "cell_type": "code",
   "execution_count": 22,
   "id": "211e2ca6",
   "metadata": {},
   "outputs": [
    {
     "data": {
      "text/plain": [
       "2162"
      ]
     },
     "execution_count": 22,
     "metadata": {},
     "output_type": "execute_result"
    }
   ],
   "source": [
    "len(class_weights)"
   ]
  },
  {
   "cell_type": "code",
   "execution_count": 23,
   "id": "b27dbbe1",
   "metadata": {},
   "outputs": [],
   "source": [
    "class_weights = list(class_weights)\n",
    "class_weights.insert(0, 1)\n",
    "class_weights.insert(1, 1)\n",
    "class_weights.insert(2, 1)"
   ]
  },
  {
   "cell_type": "code",
   "execution_count": 24,
   "id": "73449ace",
   "metadata": {},
   "outputs": [
    {
     "data": {
      "text/plain": [
       "(2165, 2165)"
      ]
     },
     "execution_count": 24,
     "metadata": {},
     "output_type": "execute_result"
    }
   ],
   "source": [
    "len(class_weights), len(vocab)"
   ]
  },
  {
   "cell_type": "code",
   "execution_count": 25,
   "id": "25e32668",
   "metadata": {},
   "outputs": [
    {
     "data": {
      "text/plain": [
       "[1, 1, 1, 0.21013259327782918]"
      ]
     },
     "execution_count": 25,
     "metadata": {},
     "output_type": "execute_result"
    }
   ],
   "source": [
    "class_weights[:4]"
   ]
  },
  {
   "cell_type": "code",
   "execution_count": 26,
   "id": "413200a2",
   "metadata": {},
   "outputs": [],
   "source": [
    "class_weights = np.array(class_weights)"
   ]
  },
  {
   "cell_type": "code",
   "execution_count": 27,
   "id": "4a89b275",
   "metadata": {},
   "outputs": [
    {
     "data": {
      "text/plain": [
       "(2165,)"
      ]
     },
     "execution_count": 27,
     "metadata": {},
     "output_type": "execute_result"
    }
   ],
   "source": [
    "class_weights.shape"
   ]
  },
  {
   "cell_type": "markdown",
   "id": "741a47e0",
   "metadata": {},
   "source": [
    "# Model with transfer learning"
   ]
  },
  {
   "cell_type": "code",
   "execution_count": 28,
   "id": "f72cc1a4",
   "metadata": {},
   "outputs": [],
   "source": [
    "def calc_size(x, f, s, padding='same'):\n",
    "    p = 2 if padding=='same' else 1\n",
    "    return (x-f+2)/s+1"
   ]
  },
  {
   "cell_type": "markdown",
   "id": "b1145ef3",
   "metadata": {},
   "source": [
    "### Convolutional model"
   ]
  },
  {
   "cell_type": "code",
   "execution_count": 29,
   "id": "ce54846c",
   "metadata": {},
   "outputs": [],
   "source": [
    "import tensorflow.keras.applications as apps\n"
   ]
  },
  {
   "cell_type": "code",
   "execution_count": 30,
   "id": "ffd081fe",
   "metadata": {},
   "outputs": [],
   "source": [
    "class ConvEncoder(tf.keras.Model):\n",
    "    def __init__(self):\n",
    "        super(ConvEncoder, self).__init__()\n",
    "        #building resnet\n",
    "        resnet = apps.ResNet152V2(include_top=False, weights='imagenet')\n",
    "        outputs = [i for i in resnet.layers if i.name=='conv4_block5_out'][0]\n",
    "        inputs = resnet.layers[0]\n",
    "        self.resnet_extractor = tf.keras.models.Model(inputs=inputs.input, outputs=outputs.output)\n",
    "        self.resnet_extractor.trainable = False\n",
    "        \n",
    "        #batch norm\n",
    "        self.batch_norm1 =  tf.keras.layers.BatchNormalization()\n",
    "        self.batch_norm2 =  tf.keras.layers.BatchNormalization()\n",
    "        self.batch_norm3 =  tf.keras.layers.BatchNormalization()\n",
    "        #dropout\n",
    "        self.dropout = tf.keras.layers.Dropout(0.1)\n",
    "        \n",
    "        #on top extractors \n",
    "        self.conv1 = tf.keras.layers.Conv2D(filters=512, kernel_size=7, activation='relu',\n",
    "                               padding='same', name='conv1', strides=(2,2))\n",
    "        self.conv2 = tf.keras.layers.Conv2D(filters=256, kernel_size=5, activation='relu',\n",
    "                                       padding='same', name='conv2', strides=(2,2))\n",
    "        self.conv3 = tf.keras.layers.Conv2D(filters=256, kernel_size=4, activation='relu',\n",
    "                                       padding='same', name='conv3', strides=(2,2))\n",
    "        self.conv4 = tf.keras.layers.Conv2D(filters=256, kernel_size=1, activation='relu',\n",
    "                                       padding='same', name='conv4', strides=(2,2))\n",
    "        \n",
    "        self.conv5 = tf.keras.layers.Conv2D(filters=256, kernel_size=1, activation='relu',\n",
    "                                       padding='same', name='conv5', strides=(2,2))\n",
    "        self.flatten = tf.keras.layers.Flatten()\n",
    "        \n",
    "    def call(self, input):\n",
    "        resnet_features = self.resnet_extractor(input)\n",
    "        conv1_out = self.batch_norm1(self.conv1(resnet_features))\n",
    "        conv2_out = self.batch_norm2(self.conv2(conv1_out))\n",
    "        conv3_out = self.batch_norm3(self.conv3(conv2_out))\n",
    "        conv4_out = self.conv4(conv3_out)\n",
    "        conv5_out = self.conv5(conv3_out)\n",
    "        return [self.dropout(self.flatten(conv4_out)), self.dropout(self.flatten(conv5_out))]"
   ]
  },
  {
   "cell_type": "code",
   "execution_count": 31,
   "id": "4392e5fa",
   "metadata": {},
   "outputs": [],
   "source": [
    "conv_encoder = ConvEncoder()"
   ]
  },
  {
   "cell_type": "code",
   "execution_count": 32,
   "id": "bf2c7ca4",
   "metadata": {},
   "outputs": [
    {
     "name": "stdout",
     "output_type": "stream",
     "text": [
      "WARNING:tensorflow:Layer conv_encoder is casting an input tensor from dtype float64 to the layer's dtype of float32, which is new behavior in TensorFlow 2.  The layer has dtype float32 because its dtype defaults to floatx.\n",
      "\n",
      "If you intended to run this layer in float32, you can safely ignore this warning. If in doubt, this warning is likely only an issue if you are porting a TensorFlow 1.X model to TensorFlow 2.\n",
      "\n",
      "To change all layers to have dtype float64 by default, call `tf.keras.backend.set_floatx('float64')`. To change just this layer, pass dtype='float64' to the layer constructor. If you are the author of this layer, you can disable autocasting by passing autocast=False to the base Layer constructor.\n",
      "\n"
     ]
    }
   ],
   "source": [
    "conv_res = conv_encoder(np.expand_dims(images[0],axis=0))"
   ]
  },
  {
   "cell_type": "code",
   "execution_count": 33,
   "id": "6ec6d627",
   "metadata": {},
   "outputs": [
    {
     "data": {
      "text/plain": [
       "[<tf.Tensor: shape=(1, 256), dtype=float32, numpy=\n",
       " array([[0.05041423, 0.09749804, 0.        , 0.02701107, 0.03975146,\n",
       "         0.        , 0.        , 0.32627523, 0.0534508 , 0.        ,\n",
       "         0.08257668, 0.        , 0.        , 0.        , 0.03259445,\n",
       "         0.05163455, 0.        , 0.        , 0.        , 0.        ,\n",
       "         0.02202393, 0.02877493, 0.07785356, 0.        , 0.        ,\n",
       "         0.14094932, 0.04791108, 0.        , 0.        , 0.2222739 ,\n",
       "         0.        , 0.        , 0.        , 0.        , 0.01913678,\n",
       "         0.        , 0.1806327 , 0.        , 0.30753288, 0.22372732,\n",
       "         0.08873379, 0.10100619, 0.33505845, 0.        , 0.13308413,\n",
       "         0.        , 0.        , 0.09110429, 0.02646137, 0.13154534,\n",
       "         0.15735559, 0.        , 0.11541723, 0.        , 0.        ,\n",
       "         0.18316022, 0.20316902, 0.0039411 , 0.14447664, 0.        ,\n",
       "         0.11196961, 0.04121631, 0.09343475, 0.        , 0.        ,\n",
       "         0.        , 0.        , 0.        , 0.        , 0.17951709,\n",
       "         0.35432327, 0.19734491, 0.01369947, 0.        , 0.06352092,\n",
       "         0.09730324, 0.        , 0.        , 0.        , 0.        ,\n",
       "         0.09559172, 0.04063798, 0.        , 0.        , 0.04019641,\n",
       "         0.        , 0.17428823, 0.12047726, 0.        , 0.        ,\n",
       "         0.07911344, 0.03353366, 0.20344494, 0.04761227, 0.0240225 ,\n",
       "         0.        , 0.14707273, 0.        , 0.09039022, 0.05767847,\n",
       "         0.18444094, 0.01831282, 0.1613444 , 0.13253388, 0.06829733,\n",
       "         0.        , 0.        , 0.15752201, 0.23359776, 0.        ,\n",
       "         0.        , 0.        , 0.        , 0.00719886, 0.        ,\n",
       "         0.11163308, 0.01817884, 0.1175198 , 0.09215496, 0.04476918,\n",
       "         0.09494007, 0.04125931, 0.        , 0.        , 0.        ,\n",
       "         0.        , 0.        , 0.        , 0.        , 0.        ,\n",
       "         0.16311942, 0.11182403, 0.17887253, 0.        , 0.09540384,\n",
       "         0.        , 0.        , 0.09389564, 0.        , 0.        ,\n",
       "         0.        , 0.        , 0.        , 0.05547834, 0.        ,\n",
       "         0.        , 0.06434543, 0.        , 0.        , 0.02766195,\n",
       "         0.        , 0.03718597, 0.12036418, 0.0089192 , 0.06281323,\n",
       "         0.        , 0.10930003, 0.14036153, 0.17510016, 0.02178385,\n",
       "         0.        , 0.19051372, 0.05518996, 0.08071258, 0.        ,\n",
       "         0.05190939, 0.        , 0.        , 0.11670031, 0.085138  ,\n",
       "         0.        , 0.        , 0.11474065, 0.04670095, 0.        ,\n",
       "         0.        , 0.        , 0.03503143, 0.        , 0.06129699,\n",
       "         0.08209924, 0.03020692, 0.        , 0.        , 0.        ,\n",
       "         0.0861684 , 0.        , 0.24367815, 0.06186751, 0.        ,\n",
       "         0.        , 0.        , 0.0032996 , 0.        , 0.        ,\n",
       "         0.2373122 , 0.26632655, 0.        , 0.        , 0.        ,\n",
       "         0.17950454, 0.        , 0.20353645, 0.        , 0.09654044,\n",
       "         0.27665967, 0.31901705, 0.        , 0.01502944, 0.        ,\n",
       "         0.19073594, 0.14297844, 0.11457005, 0.        , 0.        ,\n",
       "         0.        , 0.        , 0.0688564 , 0.        , 0.10247581,\n",
       "         0.15951885, 0.        , 0.01399328, 0.        , 0.0787589 ,\n",
       "         0.02113203, 0.11656382, 0.2691907 , 0.        , 0.24226312,\n",
       "         0.05329469, 0.06682821, 0.        , 0.        , 0.        ,\n",
       "         0.        , 0.        , 0.30217826, 0.03184122, 0.5016517 ,\n",
       "         0.20261288, 0.        , 0.18598232, 0.04978518, 0.        ,\n",
       "         0.01578709, 0.        , 0.        , 0.        , 0.01258567,\n",
       "         0.01963878, 0.        , 0.        , 0.        , 0.13279201,\n",
       "         0.2607279 ]], dtype=float32)>,\n",
       " <tf.Tensor: shape=(1, 256), dtype=float32, numpy=\n",
       " array([[0.2709635 , 0.        , 0.06181172, 0.        , 0.12183479,\n",
       "         0.        , 0.02176315, 0.        , 0.        , 0.        ,\n",
       "         0.        , 0.15578887, 0.04394001, 0.26315996, 0.2297624 ,\n",
       "         0.        , 0.        , 0.09633042, 0.        , 0.        ,\n",
       "         0.        , 0.0595491 , 0.        , 0.15112503, 0.04735276,\n",
       "         0.18101706, 0.        , 0.        , 0.07742997, 0.        ,\n",
       "         0.        , 0.12141806, 0.15261573, 0.005208  , 0.        ,\n",
       "         0.        , 0.        , 0.01235911, 0.116956  , 0.        ,\n",
       "         0.09240194, 0.        , 0.        , 0.08590168, 0.07536769,\n",
       "         0.26781946, 0.14165455, 0.        , 0.        , 0.        ,\n",
       "         0.        , 0.        , 0.        , 0.        , 0.20969087,\n",
       "         0.        , 0.        , 0.        , 0.29305783, 0.        ,\n",
       "         0.04100445, 0.17915036, 0.        , 0.28621963, 0.        ,\n",
       "         0.28304037, 0.03558441, 0.03653892, 0.11250227, 0.        ,\n",
       "         0.20342872, 0.0039917 , 0.        , 0.01997062, 0.10513948,\n",
       "         0.        , 0.        , 0.08249594, 0.14861687, 0.21160027,\n",
       "         0.        , 0.        , 0.        , 0.28698975, 0.        ,\n",
       "         0.21856305, 0.        , 0.04363362, 0.00914005, 0.0317255 ,\n",
       "         0.        , 0.0727412 , 0.        , 0.        , 0.        ,\n",
       "         0.09507873, 0.0823953 , 0.        , 0.        , 0.        ,\n",
       "         0.        , 0.01551458, 0.05362787, 0.        , 0.        ,\n",
       "         0.18862556, 0.        , 0.15935738, 0.        , 0.        ,\n",
       "         0.        , 0.        , 0.        , 0.        , 0.06153503,\n",
       "         0.24547498, 0.20450032, 0.12446555, 0.        , 0.        ,\n",
       "         0.        , 0.        , 0.        , 0.        , 0.        ,\n",
       "         0.        , 0.11511949, 0.        , 0.13863832, 0.26372665,\n",
       "         0.        , 0.02702866, 0.02980658, 0.02534562, 0.05755476,\n",
       "         0.05590307, 0.        , 0.        , 0.17952442, 0.        ,\n",
       "         0.        , 0.03439471, 0.        , 0.26600948, 0.00313645,\n",
       "         0.01838871, 0.16128018, 0.01320272, 0.06081361, 0.18243006,\n",
       "         0.09011298, 0.00761563, 0.19219118, 0.        , 0.0484518 ,\n",
       "         0.03933196, 0.06139055, 0.02781611, 0.07710594, 0.24237558,\n",
       "         0.        , 0.        , 0.03268538, 0.        , 0.        ,\n",
       "         0.        , 0.        , 0.17094092, 0.        , 0.11940727,\n",
       "         0.        , 0.        , 0.09562295, 0.        , 0.        ,\n",
       "         0.05097663, 0.        , 0.        , 0.29285425, 0.08052859,\n",
       "         0.23376   , 0.        , 0.        , 0.21183535, 0.24386679,\n",
       "         0.0317725 , 0.01726263, 0.02057944, 0.        , 0.        ,\n",
       "         0.        , 0.        , 0.2870261 , 0.        , 0.        ,\n",
       "         0.        , 0.        , 0.15855557, 0.21997955, 0.        ,\n",
       "         0.        , 0.19282945, 0.14457157, 0.17994441, 0.        ,\n",
       "         0.        , 0.09871393, 0.        , 0.10455994, 0.14112964,\n",
       "         0.21344155, 0.        , 0.0468285 , 0.        , 0.        ,\n",
       "         0.19834147, 0.        , 0.        , 0.        , 0.        ,\n",
       "         0.0763289 , 0.        , 0.        , 0.        , 0.        ,\n",
       "         0.10383979, 0.        , 0.        , 0.        , 0.        ,\n",
       "         0.14712168, 0.18655731, 0.        , 0.00555418, 0.        ,\n",
       "         0.01533345, 0.        , 0.0841276 , 0.        , 0.        ,\n",
       "         0.12607688, 0.        , 0.004762  , 0.0530969 , 0.18172994,\n",
       "         0.16814116, 0.        , 0.01541908, 0.04298629, 0.03825017,\n",
       "         0.        , 0.05791197, 0.05012472, 0.2547389 , 0.22917058,\n",
       "         0.11608373]], dtype=float32)>]"
      ]
     },
     "execution_count": 33,
     "metadata": {},
     "output_type": "execute_result"
    }
   ],
   "source": [
    "conv_res"
   ]
  },
  {
   "cell_type": "markdown",
   "id": "344e929b",
   "metadata": {},
   "source": [
    "### LSTM model"
   ]
  },
  {
   "cell_type": "markdown",
   "id": "e5f65af6",
   "metadata": {},
   "source": [
    "### making w2v embeddings"
   ]
  },
  {
   "cell_type": "code",
   "execution_count": 34,
   "id": "88d4efce",
   "metadata": {},
   "outputs": [
    {
     "name": "stdout",
     "output_type": "stream",
     "text": [
      "Requirement already satisfied: gensim in /home/ec2-user/anaconda3/envs/amazonei_tensorflow2_p36/lib/python3.6/site-packages (4.0.1)\n",
      "Requirement already satisfied: dataclasses in /home/ec2-user/anaconda3/envs/amazonei_tensorflow2_p36/lib/python3.6/site-packages (from gensim) (0.8)\n",
      "Requirement already satisfied: smart-open>=1.8.1 in /home/ec2-user/anaconda3/envs/amazonei_tensorflow2_p36/lib/python3.6/site-packages (from gensim) (5.1.0)\n",
      "Requirement already satisfied: scipy>=0.18.1 in /home/ec2-user/anaconda3/envs/amazonei_tensorflow2_p36/lib/python3.6/site-packages (from gensim) (1.5.3)\n",
      "Requirement already satisfied: numpy>=1.11.3 in /home/ec2-user/anaconda3/envs/amazonei_tensorflow2_p36/lib/python3.6/site-packages (from gensim) (1.18.5)\n"
     ]
    }
   ],
   "source": [
    "!pip install gensim"
   ]
  },
  {
   "cell_type": "code",
   "execution_count": 35,
   "id": "17746b52",
   "metadata": {},
   "outputs": [
    {
     "name": "stderr",
     "output_type": "stream",
     "text": [
      "/home/ec2-user/anaconda3/envs/amazonei_tensorflow2_p36/lib/python3.6/site-packages/gensim/similarities/__init__.py:15: UserWarning: The gensim.similarities.levenshtein submodule is disabled, because the optional Levenshtein package <https://pypi.org/project/python-Levenshtein/> is unavailable. Install Levenhstein (e.g. `pip install python-Levenshtein`) to suppress this warning.\n",
      "  warnings.warn(msg)\n"
     ]
    }
   ],
   "source": [
    "import gensim.downloader as api"
   ]
  },
  {
   "cell_type": "code",
   "execution_count": 36,
   "id": "d57b797d",
   "metadata": {},
   "outputs": [],
   "source": [
    "w2v_embeddings = api.load('word2vec-google-news-300')"
   ]
  },
  {
   "cell_type": "code",
   "execution_count": 37,
   "id": "05bf8448",
   "metadata": {},
   "outputs": [],
   "source": [
    "def build_embeddings(vocab, word_vectors, embed_dim):\n",
    "    emb_matrix = np.zeros(shape=(len(vocab)+ 1 , embed_dim), dtype='float32')\n",
    "    count = 0\n",
    "    for word, i in vocab.items():\n",
    "        try:\n",
    "            emb_matrix[i, :] = word_vectors.get_vector(word)\n",
    "        except:\n",
    "            count += 1\n",
    "            emb_matrix[i, :] = np.random.uniform(-0.1, 0.1, embed_dim)\n",
    "    print('glove embedding out of vocabulary：', count)\n",
    "    return emb_matrix\n"
   ]
  },
  {
   "cell_type": "code",
   "execution_count": 38,
   "id": "a479c74b",
   "metadata": {},
   "outputs": [
    {
     "name": "stdout",
     "output_type": "stream",
     "text": [
      "glove embedding out of vocabulary： 22\n"
     ]
    }
   ],
   "source": [
    "w2v_embeddings = build_embeddings(vocab, w2v_embeddings, 300)"
   ]
  },
  {
   "cell_type": "markdown",
   "id": "bb09000e",
   "metadata": {},
   "source": [
    "### building model"
   ]
  },
  {
   "cell_type": "code",
   "execution_count": 39,
   "id": "4eae3e61",
   "metadata": {},
   "outputs": [],
   "source": [
    "class LSTMDecoder(tf.keras.Model):\n",
    "    def __init__(self, max_tokens, lstm_units, embeddings=None, dim=128):\n",
    "        super(LSTMDecoder, self).__init__()\n",
    "        self.embeddings = tf.keras.layers.Embedding(input_dim=max_tokens+1, output_dim=dim, name='embeddings',\n",
    "                                                   weights=[embeddings])\n",
    "        self.dropout = tf.keras.layers.SpatialDropout1D(0.2)\n",
    "        self.layer_norm = tf.keras.layers.LayerNormalization(epsilon=1e-6, name='layer_normalization')\n",
    "        self.lstm = tf.keras.layers.LSTM(units=lstm_units, return_state=True, name='lstm_decoder', recurrent_dropout=0.1)\n",
    "        self.output_dense = tf.keras.layers.Dense(units=max_tokens)\n",
    "        \n",
    "    def call(self, input, features):\n",
    "        embedded = self.dropout(self.embeddings(input))\n",
    "        result_lstm, state_h, state_c = self.lstm(embedded, initial_state=features)\n",
    "        normalized = self.layer_norm(result_lstm)\n",
    "        logits = self.output_dense(normalized)\n",
    "        return logits, [state_h, state_c]"
   ]
  },
  {
   "cell_type": "code",
   "execution_count": 40,
   "id": "6d76b47f",
   "metadata": {},
   "outputs": [
    {
     "name": "stdout",
     "output_type": "stream",
     "text": [
      "WARNING:tensorflow:Layer lstm_decoder will not use cuDNN kernel since it doesn't meet the cuDNN kernel criteria. It will use generic GPU kernel as fallback when running on GPU\n"
     ]
    }
   ],
   "source": [
    "lstm_decoder = LSTMDecoder(len(inverse_vocab), conv_res[0].shape[1], w2v_embeddings, dim=300)"
   ]
  },
  {
   "cell_type": "code",
   "execution_count": 41,
   "id": "d352ea08",
   "metadata": {},
   "outputs": [
    {
     "data": {
      "text/plain": [
       "(<tf.Tensor: shape=(1, 2165), dtype=float32, numpy=\n",
       " array([[-0.8647421 ,  0.13928807, -0.15495849, ..., -0.29805294,\n",
       "          0.22452053, -0.19010748]], dtype=float32)>,\n",
       " [<tf.Tensor: shape=(1, 256), dtype=float32, numpy=\n",
       "  array([[ 0.00905818,  0.02338702, -0.01968517, -0.01331714,  0.01733502,\n",
       "          -0.00162357, -0.01267059,  0.01338072,  0.00339338,  0.00068872,\n",
       "          -0.02804485,  0.00326388, -0.00916156,  0.0237418 , -0.01136087,\n",
       "          -0.01566917, -0.03129268, -0.0022044 ,  0.00150633, -0.01167883,\n",
       "          -0.0430945 , -0.03484535,  0.00023896,  0.02289682,  0.04014289,\n",
       "          -0.02414172,  0.01977983, -0.06223457, -0.01185651,  0.00063312,\n",
       "           0.05052601,  0.03592885, -0.01209313, -0.030912  ,  0.01987087,\n",
       "           0.03571814, -0.00321406, -0.00330174, -0.02273623, -0.02064167,\n",
       "          -0.02678557,  0.01746145, -0.01221942,  0.00333483, -0.05441971,\n",
       "          -0.00882068,  0.05151168, -0.00106198,  0.02162935,  0.01872452,\n",
       "           0.01708789,  0.00500245,  0.00702672, -0.01062771, -0.01766454,\n",
       "           0.0278509 ,  0.02207391,  0.04158684,  0.0454712 , -0.01654823,\n",
       "          -0.02837721,  0.00740318, -0.0098311 , -0.04757107, -0.00877095,\n",
       "           0.03387151, -0.02769469, -0.03883337, -0.01326044, -0.01883284,\n",
       "          -0.02052248, -0.03318252, -0.01580216,  0.01929889, -0.00315835,\n",
       "          -0.01974525,  0.00099187,  0.00869619,  0.04829804, -0.00978689,\n",
       "          -0.00619923, -0.00427388,  0.00256094,  0.04278115, -0.02440673,\n",
       "           0.00380823, -0.03475016,  0.04495931, -0.01163717,  0.00542377,\n",
       "          -0.00984564,  0.01562319, -0.00449947, -0.03850627,  0.03349345,\n",
       "           0.01529502,  0.03519348,  0.02241452,  0.00126679,  0.02520626,\n",
       "          -0.01837306,  0.03802288,  0.01326077, -0.0122602 ,  0.05135965,\n",
       "          -0.01882197, -0.01953976, -0.07350422, -0.03328369, -0.04078982,\n",
       "           0.0299594 , -0.04918084,  0.00946336, -0.0093182 ,  0.03168852,\n",
       "          -0.01790339, -0.03204644,  0.05684227,  0.01455405, -0.01529918,\n",
       "           0.01973306,  0.03898756,  0.0330965 ,  0.00650464,  0.00315833,\n",
       "          -0.01894549, -0.02886315, -0.00880591,  0.03796382, -0.02049866,\n",
       "           0.01366193, -0.02117865, -0.00642264,  0.00698786,  0.01062386,\n",
       "           0.0154325 ,  0.02054769,  0.03875047, -0.03587801, -0.00172124,\n",
       "          -0.02323548,  0.03549498,  0.01852093, -0.00366578,  0.0173078 ,\n",
       "          -0.03148566,  0.02218582,  0.00327756, -0.00633834,  0.03451608,\n",
       "          -0.05589101,  0.04714569,  0.04407506, -0.01318705, -0.00128488,\n",
       "           0.01151931,  0.00161383,  0.03417087,  0.00239036, -0.00288879,\n",
       "          -0.00502028, -0.03242209, -0.03203268,  0.00952017, -0.02782255,\n",
       "          -0.03344756,  0.00202973, -0.01900676,  0.01155507, -0.03664479,\n",
       "          -0.03506401, -0.00733296, -0.01653627, -0.01184707,  0.00885144,\n",
       "          -0.01515655,  0.00676465, -0.07564192,  0.01088475,  0.03043416,\n",
       "           0.02136418,  0.00331457,  0.00812301,  0.01599574,  0.01099588,\n",
       "          -0.00592086,  0.00750857, -0.01096486,  0.04440684,  0.01982262,\n",
       "           0.00096975, -0.03796797,  0.00123064,  0.02890086,  0.02805873,\n",
       "           0.00230617, -0.0606973 , -0.00887541,  0.0385152 ,  0.05734464,\n",
       "           0.03579882, -0.01788683, -0.01995222,  0.01418878, -0.06416772,\n",
       "          -0.04412448,  0.00934568,  0.06233207, -0.01716227, -0.0144528 ,\n",
       "          -0.03542779, -0.01895127,  0.01178473,  0.00168417, -0.04670107,\n",
       "          -0.03260785, -0.00252356, -0.06537239,  0.00135294,  0.00916343,\n",
       "          -0.02019997, -0.06453431, -0.02504727, -0.04348101,  0.02106855,\n",
       "          -0.02928224, -0.04272538, -0.01129463, -0.02541358, -0.0149739 ,\n",
       "           0.00054184,  0.01363928, -0.05479887, -0.05206841,  0.01182317,\n",
       "           0.04425823, -0.02304137,  0.05746101, -0.03552726,  0.01048462,\n",
       "          -0.06327343, -0.01562525, -0.00593716,  0.01619918, -0.01467294,\n",
       "           0.03006936, -0.03333566, -0.03654799, -0.04949535,  0.00839407,\n",
       "           0.02394191,  0.03521058,  0.0498777 , -0.01430973,  0.00688076,\n",
       "          -0.05021166]], dtype=float32)>,\n",
       "  <tf.Tensor: shape=(1, 256), dtype=float32, numpy=\n",
       "  array([[ 0.01780991,  0.04511386, -0.03853291, -0.02692224,  0.0347734 ,\n",
       "          -0.00320826, -0.02520906,  0.02657416,  0.00660646,  0.00139911,\n",
       "          -0.05718152,  0.00632776, -0.01818158,  0.04772907, -0.02250579,\n",
       "          -0.03073365, -0.06187939, -0.00441534,  0.00299881, -0.0236741 ,\n",
       "          -0.08600018, -0.06997684,  0.00048356,  0.045897  ,  0.07776737,\n",
       "          -0.04664201,  0.03844606, -0.12585951, -0.02428398,  0.00125152,\n",
       "           0.10167313,  0.07079021, -0.02452984, -0.06231034,  0.04097498,\n",
       "           0.07279515, -0.00652407, -0.00659411, -0.04606903, -0.04179946,\n",
       "          -0.05247085,  0.03389104, -0.02474855,  0.00654702, -0.10805429,\n",
       "          -0.01818696,  0.1050325 , -0.00220463,  0.04189283,  0.03753585,\n",
       "           0.03526407,  0.01022067,  0.01373512, -0.02123794, -0.03504917,\n",
       "           0.05580774,  0.04312348,  0.08105252,  0.09180143, -0.03278851,\n",
       "          -0.05806614,  0.01539933, -0.01923937, -0.09481782, -0.01734513,\n",
       "           0.069647  , -0.05615134, -0.07663854, -0.02700206, -0.03674325,\n",
       "          -0.04036789, -0.06860036, -0.03181917,  0.03695874, -0.00618723,\n",
       "          -0.03935007,  0.00199916,  0.01749064,  0.09649932, -0.01902734,\n",
       "          -0.01231616, -0.00838816,  0.00519918,  0.08741871, -0.04873372,\n",
       "           0.00782417, -0.06881356,  0.08841271, -0.02307662,  0.01114103,\n",
       "          -0.01920163,  0.03098369, -0.00884243, -0.08055814,  0.06762615,\n",
       "           0.03142808,  0.06874   ,  0.04719616,  0.00255062,  0.05010109,\n",
       "          -0.03891273,  0.07516266,  0.02593359, -0.02449539,  0.10097083,\n",
       "          -0.03799967, -0.0394952 , -0.1490249 , -0.06592811, -0.08119971,\n",
       "           0.05859619, -0.10312317,  0.01903043, -0.01838842,  0.0647453 ,\n",
       "          -0.0366886 , -0.06425747,  0.11761863,  0.02810661, -0.03194847,\n",
       "           0.04025193,  0.07814402,  0.06532925,  0.01329244,  0.00630543,\n",
       "          -0.03794716, -0.05818078, -0.01726267,  0.07696596, -0.04060077,\n",
       "           0.02752344, -0.04106132, -0.01257258,  0.01362929,  0.02158361,\n",
       "           0.03309153,  0.04087298,  0.07803445, -0.06946519, -0.00355258,\n",
       "          -0.04572213,  0.07014592,  0.03695593, -0.00740789,  0.03487262,\n",
       "          -0.06340607,  0.04508499,  0.00620511, -0.01277386,  0.07013479,\n",
       "          -0.1140902 ,  0.0940316 ,  0.08794503, -0.02546927, -0.00254374,\n",
       "           0.02286533,  0.00317007,  0.07047954,  0.00470469, -0.00552644,\n",
       "          -0.01006609, -0.06537793, -0.06397979,  0.01847668, -0.0566581 ,\n",
       "          -0.06852321,  0.00418148, -0.03731561,  0.02349088, -0.07560578,\n",
       "          -0.07042491, -0.01470355, -0.03164485, -0.02313599,  0.01758215,\n",
       "          -0.03014667,  0.01328923, -0.15406498,  0.02165109,  0.0626847 ,\n",
       "           0.04307555,  0.00692792,  0.01659557,  0.0319166 ,  0.02307143,\n",
       "          -0.01178243,  0.01494401, -0.02120895,  0.08749823,  0.04039939,\n",
       "           0.00196346, -0.07628918,  0.00244609,  0.05734439,  0.05518864,\n",
       "           0.00456874, -0.12656327, -0.01807215,  0.07699168,  0.11343562,\n",
       "           0.06918608, -0.03625673, -0.04035399,  0.02797395, -0.13091224,\n",
       "          -0.08775884,  0.01885652,  0.1317758 , -0.03351847, -0.02916376,\n",
       "          -0.07091767, -0.03838798,  0.02392682,  0.00345885, -0.09489791,\n",
       "          -0.06523625, -0.00496954, -0.12972917,  0.00275251,  0.01884188,\n",
       "          -0.0404418 , -0.12855935, -0.04902632, -0.08603528,  0.0446254 ,\n",
       "          -0.06049957, -0.08570798, -0.022782  , -0.05214379, -0.02965013,\n",
       "           0.00105978,  0.02709475, -0.10479104, -0.1048699 ,  0.02404424,\n",
       "           0.09049471, -0.0463752 ,  0.11629239, -0.07245473,  0.02128367,\n",
       "          -0.125119  , -0.03149225, -0.0119599 ,  0.03169257, -0.02901613,\n",
       "           0.05971027, -0.06692492, -0.07193661, -0.09994566,  0.01702477,\n",
       "           0.04915554,  0.07084869,  0.10072099, -0.02889901,  0.01368846,\n",
       "          -0.1001327 ]], dtype=float32)>])"
      ]
     },
     "execution_count": 41,
     "metadata": {},
     "output_type": "execute_result"
    }
   ],
   "source": [
    "lstm_decoder(np.expand_dims(padded[0],axis=0), conv_res)"
   ]
  },
  {
   "cell_type": "markdown",
   "id": "c062ff55",
   "metadata": {},
   "source": [
    "### Training"
   ]
  },
  {
   "cell_type": "code",
   "execution_count": 42,
   "id": "e571342b",
   "metadata": {},
   "outputs": [],
   "source": [
    "from sklearn.model_selection import train_test_split"
   ]
  },
  {
   "cell_type": "code",
   "execution_count": 43,
   "id": "ac48e8f9",
   "metadata": {},
   "outputs": [],
   "source": [
    "loss_object = tf.keras.losses.SparseCategoricalCrossentropy(reduction='none',\n",
    "                                                                         from_logits=True)\n",
    "optimizer = tf.keras.optimizers.RMSprop(learning_rate=1e-5)\n",
    "with_weights = False"
   ]
  },
  {
   "cell_type": "code",
   "execution_count": 44,
   "id": "6d1889ab",
   "metadata": {},
   "outputs": [],
   "source": [
    "def loss_function(real, pred, loss_weights):\n",
    "        mask = tf.math.logical_not(tf.math.equal(real, vocab[pad_token]))\n",
    "        loss_ = loss_object(real, pred)\n",
    "        mask = tf.cast(mask, dtype=loss_.dtype)\n",
    "        loss_ *= mask\n",
    "        loss_weights = tf.cast(loss_weights, dtype=loss_.dtype)\n",
    "        loss_*=loss_weights\n",
    "        return loss_"
   ]
  },
  {
   "cell_type": "code",
   "execution_count": 45,
   "id": "38e94cc5",
   "metadata": {},
   "outputs": [],
   "source": [
    "@tf.function\n",
    "def train_step(image, target, lengths, optimizer):\n",
    "\n",
    "    with tf.GradientTape() as tape:\n",
    "        initial_state = conv_encoder(image)\n",
    "        # Teacher forcing - feeding the target as the next input\n",
    "        batched_loss = []\n",
    "        for t in range(1, target.shape[1]):\n",
    "            \n",
    "            dec_input = tf.expand_dims(target[:, t-1], 1)\n",
    "            result, initial_state = lstm_decoder(input=dec_input, features=initial_state)\n",
    "            weights = tf.broadcast_to(class_weights, shape=(target[:,t].shape[0], class_weights.shape[0]))\n",
    "            weights = tf.gather(weights, target[:,t],axis=1, batch_dims=1)\n",
    "            batched_loss.append(loss_function(target[:, t], result, weights))\n",
    "        batched_loss = tf.reshape(tf.stack(batched_loss), shape=target[:,1:].shape)\n",
    "        batched_loss = tf.reduce_sum(batched_loss, axis=1)\n",
    "        lengths = tf.cast(lengths, dtype=batched_loss.dtype)\n",
    "        loss = tf.reduce_mean(batched_loss / lengths)\n",
    "\n",
    "    perplexity = tf.exp(loss)\n",
    "\n",
    "    variables = conv_encoder.trainable_variables + lstm_decoder.trainable_variables\n",
    "    gradients = tape.gradient(loss, variables)\n",
    "\n",
    "    optimizer.apply_gradients(zip(gradients, variables))\n",
    "\n",
    "    return loss, perplexity"
   ]
  },
  {
   "cell_type": "code",
   "execution_count": 46,
   "id": "31435b8c",
   "metadata": {},
   "outputs": [],
   "source": [
    "@tf.function\n",
    "def evaluate(image, target, lengths, optimizer):\n",
    "\n",
    "    initial_state = conv_encoder(image)\n",
    "    # Teacher forcing - feeding the target as the next input\n",
    "    batched_loss = []\n",
    "    for t in range(1, target.shape[1]):\n",
    "\n",
    "        dec_input = tf.expand_dims(target[:, t-1], 1)\n",
    "        result, initial_state = lstm_decoder(input=dec_input, features=initial_state)\n",
    "        weights = tf.broadcast_to(class_weights, shape=(target[:,t].shape[0], class_weights.shape[0]))\n",
    "        weights = tf.gather(weights, target[:,t],axis=1, batch_dims=1)\n",
    "        batched_loss.append(loss_function(target[:, t], result,weights))\n",
    "    \n",
    "    batched_loss = tf.reshape(tf.stack(batched_loss), shape=target[:,1:].shape)\n",
    "    batched_loss = tf.reduce_sum(batched_loss, axis=1)\n",
    "    lengths = tf.cast(lengths, dtype=batched_loss.dtype)\n",
    "    loss = tf.reduce_mean(batched_loss / lengths)\n",
    "    perplexity = tf.exp(loss)\n",
    "\n",
    "\n",
    "    return loss, perplexity"
   ]
  },
  {
   "cell_type": "code",
   "execution_count": 47,
   "id": "c8840255",
   "metadata": {},
   "outputs": [],
   "source": [
    "train_images, test_images, train_sequences, test_sequences =  train_test_split(images, padded, test_size=0.1, random_state=9)"
   ]
  },
  {
   "cell_type": "code",
   "execution_count": 48,
   "id": "5b743938",
   "metadata": {},
   "outputs": [],
   "source": [
    "train_length = (train_sequences!=vocab[pad_token]).sum(axis=1)-2"
   ]
  },
  {
   "cell_type": "code",
   "execution_count": 49,
   "id": "4021c1f4",
   "metadata": {},
   "outputs": [],
   "source": [
    "test_length = (test_sequences!=vocab[pad_token]).sum(axis=1)-2"
   ]
  },
  {
   "cell_type": "code",
   "execution_count": 50,
   "id": "88b8b10b",
   "metadata": {},
   "outputs": [],
   "source": [
    "epochs = 100\n",
    "batch_size= 64\n",
    "train_images = np.array(np.array_split(train_images, len(train_images)//batch_size))\n",
    "test_images = np.array(np.array_split(test_images, len(test_images)//batch_size))\n",
    "train_sequences = np.array(np.array_split(train_sequences, len(train_sequences)//batch_size))\n",
    "test_sequences = np.array(np.array_split(test_sequences, len(test_sequences)//batch_size))\n",
    "train_length = np.array(np.array_split(train_length, len(train_length)//batch_size))\n",
    "test_length = np.array(np.array_split(test_length, len(test_length)//batch_size))"
   ]
  },
  {
   "cell_type": "code",
   "execution_count": 51,
   "id": "cafb8d7b",
   "metadata": {},
   "outputs": [
    {
     "data": {
      "text/plain": [
       "((54, 64, 224, 224, 3), (54, 64, 37), (54, 64))"
      ]
     },
     "execution_count": 51,
     "metadata": {},
     "output_type": "execute_result"
    }
   ],
   "source": [
    "train_images.shape, train_sequences.shape, train_length.shape"
   ]
  },
  {
   "cell_type": "code",
   "execution_count": 52,
   "id": "bc94697b",
   "metadata": {},
   "outputs": [
    {
     "name": "stdout",
     "output_type": "stream",
     "text": [
      "Requirement already satisfied: tqdm in /home/ec2-user/anaconda3/envs/amazonei_tensorflow2_p36/lib/python3.6/site-packages (4.61.1)\n"
     ]
    }
   ],
   "source": [
    "!pip install tqdm"
   ]
  },
  {
   "cell_type": "code",
   "execution_count": 55,
   "id": "16674ddd",
   "metadata": {},
   "outputs": [],
   "source": [
    "if not with_weights:\n",
    "    class_weights = np.array([1 for i in range(len(class_weights))])"
   ]
  },
  {
   "cell_type": "code",
   "execution_count": 56,
   "id": "f5d2cbf8",
   "metadata": {},
   "outputs": [],
   "source": [
    "from tqdm import tqdm"
   ]
  },
  {
   "cell_type": "code",
   "execution_count": 57,
   "id": "40d3f49c",
   "metadata": {},
   "outputs": [
    {
     "name": "stderr",
     "output_type": "stream",
     "text": [
      "54it [01:41,  1.88s/it]\n"
     ]
    },
    {
     "name": "stdout",
     "output_type": "stream",
     "text": [
      "Finished epoch 0; Train loss : 10.26700210571289; Train perplexity : 37735.921875\n"
     ]
    },
    {
     "name": "stderr",
     "output_type": "stream",
     "text": [
      "0it [00:00, ?it/s]"
     ]
    },
    {
     "name": "stdout",
     "output_type": "stream",
     "text": [
      "Test loss : 9.733646392822266; Test perplexity : 19581.099609375\n"
     ]
    },
    {
     "name": "stderr",
     "output_type": "stream",
     "text": [
      "54it [00:42,  1.29it/s]\n"
     ]
    },
    {
     "name": "stdout",
     "output_type": "stream",
     "text": [
      "Finished epoch 1; Train loss : 9.529335021972656; Train perplexity : 16952.865234375\n"
     ]
    },
    {
     "name": "stderr",
     "output_type": "stream",
     "text": [
      "0it [00:00, ?it/s]"
     ]
    },
    {
     "name": "stdout",
     "output_type": "stream",
     "text": [
      "Test loss : 9.147725105285645; Test perplexity : 10784.1484375\n"
     ]
    },
    {
     "name": "stderr",
     "output_type": "stream",
     "text": [
      "54it [00:42,  1.28it/s]\n"
     ]
    },
    {
     "name": "stdout",
     "output_type": "stream",
     "text": [
      "Finished epoch 2; Train loss : 9.010578155517578; Train perplexity : 9790.7021484375\n"
     ]
    },
    {
     "name": "stderr",
     "output_type": "stream",
     "text": [
      "0it [00:00, ?it/s]"
     ]
    },
    {
     "name": "stdout",
     "output_type": "stream",
     "text": [
      "Test loss : 8.698413848876953; Test perplexity : 6833.25341796875\n"
     ]
    },
    {
     "name": "stderr",
     "output_type": "stream",
     "text": [
      "54it [00:42,  1.28it/s]\n"
     ]
    },
    {
     "name": "stdout",
     "output_type": "stream",
     "text": [
      "Finished epoch 3; Train loss : 8.588410377502441; Train perplexity : 6291.97509765625\n"
     ]
    },
    {
     "name": "stderr",
     "output_type": "stream",
     "text": [
      "0it [00:00, ?it/s]"
     ]
    },
    {
     "name": "stdout",
     "output_type": "stream",
     "text": [
      "Test loss : 8.321731567382812; Test perplexity : 4662.09716796875\n"
     ]
    },
    {
     "name": "stderr",
     "output_type": "stream",
     "text": [
      "54it [00:42,  1.27it/s]\n"
     ]
    },
    {
     "name": "stdout",
     "output_type": "stream",
     "text": [
      "Finished epoch 4; Train loss : 8.231669425964355; Train perplexity : 4337.85595703125\n"
     ]
    },
    {
     "name": "stderr",
     "output_type": "stream",
     "text": [
      "0it [00:00, ?it/s]"
     ]
    },
    {
     "name": "stdout",
     "output_type": "stream",
     "text": [
      "Test loss : 8.000935554504395; Test perplexity : 3365.595458984375\n"
     ]
    },
    {
     "name": "stderr",
     "output_type": "stream",
     "text": [
      "54it [00:42,  1.28it/s]\n"
     ]
    },
    {
     "name": "stdout",
     "output_type": "stream",
     "text": [
      "Finished epoch 5; Train loss : 7.926275730133057; Train perplexity : 3159.7265625\n"
     ]
    },
    {
     "name": "stderr",
     "output_type": "stream",
     "text": [
      "0it [00:00, ?it/s]"
     ]
    },
    {
     "name": "stdout",
     "output_type": "stream",
     "text": [
      "Test loss : 7.725081920623779; Test perplexity : 2542.87060546875\n"
     ]
    },
    {
     "name": "stderr",
     "output_type": "stream",
     "text": [
      "54it [00:42,  1.28it/s]\n"
     ]
    },
    {
     "name": "stdout",
     "output_type": "stream",
     "text": [
      "Finished epoch 6; Train loss : 7.660521507263184; Train perplexity : 2400.44482421875\n"
     ]
    },
    {
     "name": "stderr",
     "output_type": "stream",
     "text": [
      "0it [00:00, ?it/s]"
     ]
    },
    {
     "name": "stdout",
     "output_type": "stream",
     "text": [
      "Test loss : 7.479528903961182; Test perplexity : 1980.1651611328125\n"
     ]
    },
    {
     "name": "stderr",
     "output_type": "stream",
     "text": [
      "54it [00:42,  1.28it/s]\n"
     ]
    },
    {
     "name": "stdout",
     "output_type": "stream",
     "text": [
      "Finished epoch 7; Train loss : 7.426215171813965; Train perplexity : 1885.17333984375\n"
     ]
    },
    {
     "name": "stderr",
     "output_type": "stream",
     "text": [
      "0it [00:00, ?it/s]"
     ]
    },
    {
     "name": "stdout",
     "output_type": "stream",
     "text": [
      "Test loss : 7.2631072998046875; Test perplexity : 1588.3677978515625\n"
     ]
    },
    {
     "name": "stderr",
     "output_type": "stream",
     "text": [
      "54it [00:41,  1.29it/s]\n"
     ]
    },
    {
     "name": "stdout",
     "output_type": "stream",
     "text": [
      "Finished epoch 8; Train loss : 7.217815399169922; Train perplexity : 1521.2320556640625\n"
     ]
    },
    {
     "name": "stderr",
     "output_type": "stream",
     "text": [
      "0it [00:00, ?it/s]"
     ]
    },
    {
     "name": "stdout",
     "output_type": "stream",
     "text": [
      "Test loss : 7.0682830810546875; Test perplexity : 1302.1307373046875\n"
     ]
    },
    {
     "name": "stderr",
     "output_type": "stream",
     "text": [
      "54it [00:42,  1.28it/s]\n"
     ]
    },
    {
     "name": "stdout",
     "output_type": "stream",
     "text": [
      "Finished epoch 9; Train loss : 7.028415679931641; Train perplexity : 1252.082275390625\n"
     ]
    },
    {
     "name": "stderr",
     "output_type": "stream",
     "text": [
      "0it [00:00, ?it/s]"
     ]
    },
    {
     "name": "stdout",
     "output_type": "stream",
     "text": [
      "Test loss : 6.892065525054932; Test perplexity : 1088.1212158203125\n"
     ]
    },
    {
     "name": "stderr",
     "output_type": "stream",
     "text": [
      "54it [00:42,  1.28it/s]\n"
     ]
    },
    {
     "name": "stdout",
     "output_type": "stream",
     "text": [
      "Finished epoch 10; Train loss : 6.856729030609131; Train perplexity : 1049.923828125\n"
     ]
    },
    {
     "name": "stderr",
     "output_type": "stream",
     "text": [
      "0it [00:00, ?it/s]"
     ]
    },
    {
     "name": "stdout",
     "output_type": "stream",
     "text": [
      "Test loss : 6.732062816619873; Test perplexity : 924.40087890625\n"
     ]
    },
    {
     "name": "stderr",
     "output_type": "stream",
     "text": [
      "54it [00:42,  1.28it/s]\n"
     ]
    },
    {
     "name": "stdout",
     "output_type": "stream",
     "text": [
      "Finished epoch 11; Train loss : 6.7003021240234375; Train perplexity : 894.4302368164062\n"
     ]
    },
    {
     "name": "stderr",
     "output_type": "stream",
     "text": [
      "0it [00:00, ?it/s]"
     ]
    },
    {
     "name": "stdout",
     "output_type": "stream",
     "text": [
      "Test loss : 6.585566997528076; Test perplexity : 796.1650390625\n"
     ]
    },
    {
     "name": "stderr",
     "output_type": "stream",
     "text": [
      "54it [00:42,  1.28it/s]\n"
     ]
    },
    {
     "name": "stdout",
     "output_type": "stream",
     "text": [
      "Finished epoch 12; Train loss : 6.557163238525391; Train perplexity : 772.490478515625\n"
     ]
    },
    {
     "name": "stderr",
     "output_type": "stream",
     "text": [
      "0it [00:00, ?it/s]"
     ]
    },
    {
     "name": "stdout",
     "output_type": "stream",
     "text": [
      "Test loss : 6.451606750488281; Test perplexity : 694.5944213867188\n"
     ]
    },
    {
     "name": "stderr",
     "output_type": "stream",
     "text": [
      "54it [00:42,  1.27it/s]\n"
     ]
    },
    {
     "name": "stdout",
     "output_type": "stream",
     "text": [
      "Finished epoch 13; Train loss : 6.425290584564209; Train perplexity : 675.0927124023438\n"
     ]
    },
    {
     "name": "stderr",
     "output_type": "stream",
     "text": [
      "0it [00:00, ?it/s]"
     ]
    },
    {
     "name": "stdout",
     "output_type": "stream",
     "text": [
      "Test loss : 6.3284759521484375; Test perplexity : 612.7389526367188\n"
     ]
    },
    {
     "name": "stderr",
     "output_type": "stream",
     "text": [
      "54it [00:42,  1.28it/s]\n"
     ]
    },
    {
     "name": "stdout",
     "output_type": "stream",
     "text": [
      "Finished epoch 14; Train loss : 6.303703784942627; Train perplexity : 596.3037719726562\n"
     ]
    },
    {
     "name": "stderr",
     "output_type": "stream",
     "text": [
      "0it [00:00, ?it/s]"
     ]
    },
    {
     "name": "stdout",
     "output_type": "stream",
     "text": [
      "Test loss : 6.21508264541626; Test perplexity : 545.9242553710938\n"
     ]
    },
    {
     "name": "stderr",
     "output_type": "stream",
     "text": [
      "54it [00:42,  1.27it/s]\n"
     ]
    },
    {
     "name": "stdout",
     "output_type": "stream",
     "text": [
      "Finished epoch 15; Train loss : 6.191214561462402; Train perplexity : 531.707763671875\n"
     ]
    },
    {
     "name": "stderr",
     "output_type": "stream",
     "text": [
      "0it [00:00, ?it/s]"
     ]
    },
    {
     "name": "stdout",
     "output_type": "stream",
     "text": [
      "Test loss : 6.1096673011779785; Test perplexity : 490.3722839355469\n"
     ]
    },
    {
     "name": "stderr",
     "output_type": "stream",
     "text": [
      "54it [00:42,  1.28it/s]\n"
     ]
    },
    {
     "name": "stdout",
     "output_type": "stream",
     "text": [
      "Finished epoch 16; Train loss : 6.086681842803955; Train perplexity : 478.0048828125\n"
     ]
    },
    {
     "name": "stderr",
     "output_type": "stream",
     "text": [
      "0it [00:00, ?it/s]"
     ]
    },
    {
     "name": "stdout",
     "output_type": "stream",
     "text": [
      "Test loss : 6.012482166290283; Test perplexity : 444.203125\n"
     ]
    },
    {
     "name": "stderr",
     "output_type": "stream",
     "text": [
      "54it [00:42,  1.28it/s]\n"
     ]
    },
    {
     "name": "stdout",
     "output_type": "stream",
     "text": [
      "Finished epoch 17; Train loss : 5.989336967468262; Train perplexity : 432.96002197265625\n"
     ]
    },
    {
     "name": "stderr",
     "output_type": "stream",
     "text": [
      "0it [00:00, ?it/s]"
     ]
    },
    {
     "name": "stdout",
     "output_type": "stream",
     "text": [
      "Test loss : 5.921478271484375; Test perplexity : 404.943603515625\n"
     ]
    },
    {
     "name": "stderr",
     "output_type": "stream",
     "text": [
      "54it [00:42,  1.28it/s]\n"
     ]
    },
    {
     "name": "stdout",
     "output_type": "stream",
     "text": [
      "Finished epoch 18; Train loss : 5.898373603820801; Train perplexity : 394.73138427734375\n"
     ]
    },
    {
     "name": "stderr",
     "output_type": "stream",
     "text": [
      "0it [00:00, ?it/s]"
     ]
    },
    {
     "name": "stdout",
     "output_type": "stream",
     "text": [
      "Test loss : 5.836542129516602; Test perplexity : 371.45263671875\n"
     ]
    },
    {
     "name": "stderr",
     "output_type": "stream",
     "text": [
      "54it [00:42,  1.28it/s]\n"
     ]
    },
    {
     "name": "stdout",
     "output_type": "stream",
     "text": [
      "Finished epoch 19; Train loss : 5.812743186950684; Train perplexity : 361.89105224609375\n"
     ]
    },
    {
     "name": "stderr",
     "output_type": "stream",
     "text": [
      "0it [00:00, ?it/s]"
     ]
    },
    {
     "name": "stdout",
     "output_type": "stream",
     "text": [
      "Test loss : 5.757272243499756; Test perplexity : 342.7570495605469\n"
     ]
    },
    {
     "name": "stderr",
     "output_type": "stream",
     "text": [
      "54it [00:42,  1.27it/s]\n"
     ]
    },
    {
     "name": "stdout",
     "output_type": "stream",
     "text": [
      "Finished epoch 20; Train loss : 5.73237943649292; Train perplexity : 333.5841369628906\n"
     ]
    },
    {
     "name": "stderr",
     "output_type": "stream",
     "text": [
      "0it [00:00, ?it/s]"
     ]
    },
    {
     "name": "stdout",
     "output_type": "stream",
     "text": [
      "Test loss : 5.683229923248291; Test perplexity : 317.97235107421875\n"
     ]
    },
    {
     "name": "stderr",
     "output_type": "stream",
     "text": [
      "54it [00:42,  1.28it/s]\n"
     ]
    },
    {
     "name": "stdout",
     "output_type": "stream",
     "text": [
      "Finished epoch 21; Train loss : 5.656369209289551; Train perplexity : 308.8499450683594\n"
     ]
    },
    {
     "name": "stderr",
     "output_type": "stream",
     "text": [
      "0it [00:00, ?it/s]"
     ]
    },
    {
     "name": "stdout",
     "output_type": "stream",
     "text": [
      "Test loss : 5.613037586212158; Test perplexity : 296.12652587890625\n"
     ]
    },
    {
     "name": "stderr",
     "output_type": "stream",
     "text": [
      "54it [00:43,  1.24it/s]\n"
     ]
    },
    {
     "name": "stdout",
     "output_type": "stream",
     "text": [
      "Finished epoch 22; Train loss : 5.584640979766846; Train perplexity : 287.2115783691406\n"
     ]
    },
    {
     "name": "stderr",
     "output_type": "stream",
     "text": [
      "0it [00:00, ?it/s]"
     ]
    },
    {
     "name": "stdout",
     "output_type": "stream",
     "text": [
      "Test loss : 5.547260284423828; Test perplexity : 277.0689392089844\n"
     ]
    },
    {
     "name": "stderr",
     "output_type": "stream",
     "text": [
      "54it [00:43,  1.24it/s]\n"
     ]
    },
    {
     "name": "stdout",
     "output_type": "stream",
     "text": [
      "Finished epoch 23; Train loss : 5.5166802406311035; Train perplexity : 268.14801025390625\n"
     ]
    },
    {
     "name": "stderr",
     "output_type": "stream",
     "text": [
      "0it [00:00, ?it/s]"
     ]
    },
    {
     "name": "stdout",
     "output_type": "stream",
     "text": [
      "Test loss : 5.485363483428955; Test perplexity : 260.2635192871094\n"
     ]
    },
    {
     "name": "stderr",
     "output_type": "stream",
     "text": [
      "54it [00:43,  1.25it/s]\n"
     ]
    },
    {
     "name": "stdout",
     "output_type": "stream",
     "text": [
      "Finished epoch 24; Train loss : 5.452191352844238; Train perplexity : 251.2266387939453\n"
     ]
    },
    {
     "name": "stderr",
     "output_type": "stream",
     "text": [
      "0it [00:00, ?it/s]"
     ]
    },
    {
     "name": "stdout",
     "output_type": "stream",
     "text": [
      "Test loss : 5.426734447479248; Test perplexity : 245.25132751464844\n"
     ]
    },
    {
     "name": "stderr",
     "output_type": "stream",
     "text": [
      "54it [00:42,  1.28it/s]\n"
     ]
    },
    {
     "name": "stdout",
     "output_type": "stream",
     "text": [
      "Finished epoch 25; Train loss : 5.391046524047852; Train perplexity : 236.1705322265625\n"
     ]
    },
    {
     "name": "stderr",
     "output_type": "stream",
     "text": [
      "0it [00:00, ?it/s]"
     ]
    },
    {
     "name": "stdout",
     "output_type": "stream",
     "text": [
      "Test loss : 5.371517658233643; Test perplexity : 231.9373779296875\n"
     ]
    },
    {
     "name": "stderr",
     "output_type": "stream",
     "text": [
      "54it [00:42,  1.28it/s]\n"
     ]
    },
    {
     "name": "stdout",
     "output_type": "stream",
     "text": [
      "Finished epoch 26; Train loss : 5.332779407501221; Train perplexity : 222.67066955566406\n"
     ]
    },
    {
     "name": "stderr",
     "output_type": "stream",
     "text": [
      "0it [00:00, ?it/s]"
     ]
    },
    {
     "name": "stdout",
     "output_type": "stream",
     "text": [
      "Test loss : 5.318881511688232; Test perplexity : 219.91908264160156\n"
     ]
    },
    {
     "name": "stderr",
     "output_type": "stream",
     "text": [
      "54it [00:42,  1.29it/s]\n"
     ]
    },
    {
     "name": "stdout",
     "output_type": "stream",
     "text": [
      "Finished epoch 27; Train loss : 5.277338027954102; Train perplexity : 210.55320739746094\n"
     ]
    },
    {
     "name": "stderr",
     "output_type": "stream",
     "text": [
      "0it [00:00, ?it/s]"
     ]
    },
    {
     "name": "stdout",
     "output_type": "stream",
     "text": [
      "Test loss : 5.269052982330322; Test perplexity : 209.11053466796875\n"
     ]
    },
    {
     "name": "stderr",
     "output_type": "stream",
     "text": [
      "54it [00:42,  1.28it/s]\n"
     ]
    },
    {
     "name": "stdout",
     "output_type": "stream",
     "text": [
      "Finished epoch 28; Train loss : 5.224449634552002; Train perplexity : 199.59698486328125\n"
     ]
    },
    {
     "name": "stderr",
     "output_type": "stream",
     "text": [
      "0it [00:00, ?it/s]"
     ]
    },
    {
     "name": "stdout",
     "output_type": "stream",
     "text": [
      "Test loss : 5.221811294555664; Test perplexity : 199.3742218017578\n"
     ]
    },
    {
     "name": "stderr",
     "output_type": "stream",
     "text": [
      "54it [00:41,  1.29it/s]\n"
     ]
    },
    {
     "name": "stdout",
     "output_type": "stream",
     "text": [
      "Finished epoch 29; Train loss : 5.173679828643799; Train perplexity : 189.61936950683594\n"
     ]
    },
    {
     "name": "stderr",
     "output_type": "stream",
     "text": [
      "0it [00:00, ?it/s]"
     ]
    },
    {
     "name": "stdout",
     "output_type": "stream",
     "text": [
      "Test loss : 5.176730632781982; Test perplexity : 190.4967041015625\n"
     ]
    },
    {
     "name": "stderr",
     "output_type": "stream",
     "text": [
      "54it [00:42,  1.27it/s]\n"
     ]
    },
    {
     "name": "stdout",
     "output_type": "stream",
     "text": [
      "Finished epoch 30; Train loss : 5.124972343444824; Train perplexity : 180.51959228515625\n"
     ]
    },
    {
     "name": "stderr",
     "output_type": "stream",
     "text": [
      "0it [00:00, ?it/s]"
     ]
    },
    {
     "name": "stdout",
     "output_type": "stream",
     "text": [
      "Test loss : 5.1337056159973145; Test perplexity : 182.39784240722656\n"
     ]
    },
    {
     "name": "stderr",
     "output_type": "stream",
     "text": [
      "54it [00:42,  1.28it/s]\n"
     ]
    },
    {
     "name": "stdout",
     "output_type": "stream",
     "text": [
      "Finished epoch 31; Train loss : 5.078153610229492; Train perplexity : 172.1813201904297\n"
     ]
    },
    {
     "name": "stderr",
     "output_type": "stream",
     "text": [
      "0it [00:00, ?it/s]"
     ]
    },
    {
     "name": "stdout",
     "output_type": "stream",
     "text": [
      "Test loss : 5.092578411102295; Test perplexity : 174.99159240722656\n"
     ]
    },
    {
     "name": "stderr",
     "output_type": "stream",
     "text": [
      "54it [00:42,  1.28it/s]\n"
     ]
    },
    {
     "name": "stdout",
     "output_type": "stream",
     "text": [
      "Finished epoch 32; Train loss : 5.033109188079834; Train perplexity : 164.5245819091797\n"
     ]
    },
    {
     "name": "stderr",
     "output_type": "stream",
     "text": [
      "0it [00:00, ?it/s]"
     ]
    },
    {
     "name": "stdout",
     "output_type": "stream",
     "text": [
      "Test loss : 5.052842140197754; Test perplexity : 168.09893798828125\n"
     ]
    },
    {
     "name": "stderr",
     "output_type": "stream",
     "text": [
      "54it [00:42,  1.28it/s]\n"
     ]
    },
    {
     "name": "stdout",
     "output_type": "stream",
     "text": [
      "Finished epoch 33; Train loss : 4.989599227905273; Train perplexity : 157.44850158691406\n"
     ]
    },
    {
     "name": "stderr",
     "output_type": "stream",
     "text": [
      "0it [00:00, ?it/s]"
     ]
    },
    {
     "name": "stdout",
     "output_type": "stream",
     "text": [
      "Test loss : 5.0149102210998535; Test perplexity : 161.77699279785156\n"
     ]
    },
    {
     "name": "stderr",
     "output_type": "stream",
     "text": [
      "54it [00:42,  1.28it/s]\n"
     ]
    },
    {
     "name": "stdout",
     "output_type": "stream",
     "text": [
      "Finished epoch 34; Train loss : 4.947682857513428; Train perplexity : 150.91900634765625\n"
     ]
    },
    {
     "name": "stderr",
     "output_type": "stream",
     "text": [
      "0it [00:00, ?it/s]"
     ]
    },
    {
     "name": "stdout",
     "output_type": "stream",
     "text": [
      "Test loss : 4.978358745574951; Test perplexity : 155.92620849609375\n"
     ]
    },
    {
     "name": "stderr",
     "output_type": "stream",
     "text": [
      "54it [00:42,  1.28it/s]\n"
     ]
    },
    {
     "name": "stdout",
     "output_type": "stream",
     "text": [
      "Finished epoch 35; Train loss : 4.907108783721924; Train perplexity : 144.8584747314453\n"
     ]
    },
    {
     "name": "stderr",
     "output_type": "stream",
     "text": [
      "0it [00:00, ?it/s]"
     ]
    },
    {
     "name": "stdout",
     "output_type": "stream",
     "text": [
      "Test loss : 4.943516254425049; Test perplexity : 150.54183959960938\n"
     ]
    },
    {
     "name": "stderr",
     "output_type": "stream",
     "text": [
      "54it [00:42,  1.27it/s]\n"
     ]
    },
    {
     "name": "stdout",
     "output_type": "stream",
     "text": [
      "Finished epoch 36; Train loss : 4.867832660675049; Train perplexity : 139.21847534179688\n"
     ]
    },
    {
     "name": "stderr",
     "output_type": "stream",
     "text": [
      "0it [00:00, ?it/s]"
     ]
    },
    {
     "name": "stdout",
     "output_type": "stream",
     "text": [
      "Test loss : 4.909678936004639; Test perplexity : 145.4840545654297\n"
     ]
    },
    {
     "name": "stderr",
     "output_type": "stream",
     "text": [
      "54it [00:42,  1.28it/s]\n"
     ]
    },
    {
     "name": "stdout",
     "output_type": "stream",
     "text": [
      "Finished epoch 37; Train loss : 4.829861164093018; Train perplexity : 133.97802734375\n"
     ]
    },
    {
     "name": "stderr",
     "output_type": "stream",
     "text": [
      "0it [00:00, ?it/s]"
     ]
    },
    {
     "name": "stdout",
     "output_type": "stream",
     "text": [
      "Test loss : 4.877580165863037; Test perplexity : 140.85638427734375\n"
     ]
    },
    {
     "name": "stderr",
     "output_type": "stream",
     "text": [
      "54it [00:42,  1.28it/s]\n"
     ]
    },
    {
     "name": "stdout",
     "output_type": "stream",
     "text": [
      "Finished epoch 38; Train loss : 4.792961597442627; Train perplexity : 129.07191467285156\n"
     ]
    },
    {
     "name": "stderr",
     "output_type": "stream",
     "text": [
      "0it [00:00, ?it/s]"
     ]
    },
    {
     "name": "stdout",
     "output_type": "stream",
     "text": [
      "Test loss : 4.846696376800537; Test perplexity : 136.5341033935547\n"
     ]
    },
    {
     "name": "stderr",
     "output_type": "stream",
     "text": [
      "54it [00:42,  1.27it/s]\n"
     ]
    },
    {
     "name": "stdout",
     "output_type": "stream",
     "text": [
      "Finished epoch 39; Train loss : 4.757025241851807; Train perplexity : 124.45970916748047\n"
     ]
    },
    {
     "name": "stderr",
     "output_type": "stream",
     "text": [
      "0it [00:00, ?it/s]"
     ]
    },
    {
     "name": "stdout",
     "output_type": "stream",
     "text": [
      "Test loss : 4.816544055938721; Test perplexity : 132.43878173828125\n"
     ]
    },
    {
     "name": "stderr",
     "output_type": "stream",
     "text": [
      "54it [00:42,  1.28it/s]\n"
     ]
    },
    {
     "name": "stdout",
     "output_type": "stream",
     "text": [
      "Finished epoch 40; Train loss : 4.722264766693115; Train perplexity : 120.16146087646484\n"
     ]
    },
    {
     "name": "stderr",
     "output_type": "stream",
     "text": [
      "0it [00:00, ?it/s]"
     ]
    },
    {
     "name": "stdout",
     "output_type": "stream",
     "text": [
      "Test loss : 4.787564754486084; Test perplexity : 128.6233673095703\n"
     ]
    },
    {
     "name": "stderr",
     "output_type": "stream",
     "text": [
      "54it [00:42,  1.28it/s]\n"
     ]
    },
    {
     "name": "stdout",
     "output_type": "stream",
     "text": [
      "Finished epoch 41; Train loss : 4.688343524932861; Train perplexity : 116.1048812866211\n"
     ]
    },
    {
     "name": "stderr",
     "output_type": "stream",
     "text": [
      "0it [00:00, ?it/s]"
     ]
    },
    {
     "name": "stdout",
     "output_type": "stream",
     "text": [
      "Test loss : 4.759878635406494; Test perplexity : 125.08568572998047\n"
     ]
    },
    {
     "name": "stderr",
     "output_type": "stream",
     "text": [
      "54it [00:42,  1.28it/s]\n"
     ]
    },
    {
     "name": "stdout",
     "output_type": "stream",
     "text": [
      "Finished epoch 42; Train loss : 4.655397415161133; Train perplexity : 112.29780578613281\n"
     ]
    },
    {
     "name": "stderr",
     "output_type": "stream",
     "text": [
      "0it [00:00, ?it/s]"
     ]
    },
    {
     "name": "stdout",
     "output_type": "stream",
     "text": [
      "Test loss : 4.733134746551514; Test perplexity : 121.76028442382812\n"
     ]
    },
    {
     "name": "stderr",
     "output_type": "stream",
     "text": [
      "54it [00:42,  1.28it/s]\n"
     ]
    },
    {
     "name": "stdout",
     "output_type": "stream",
     "text": [
      "Finished epoch 43; Train loss : 4.623248100280762; Train perplexity : 108.70039367675781\n"
     ]
    },
    {
     "name": "stderr",
     "output_type": "stream",
     "text": [
      "0it [00:00, ?it/s]"
     ]
    },
    {
     "name": "stdout",
     "output_type": "stream",
     "text": [
      "Test loss : 4.707489013671875; Test perplexity : 118.6533432006836\n"
     ]
    },
    {
     "name": "stderr",
     "output_type": "stream",
     "text": [
      "54it [00:42,  1.27it/s]\n"
     ]
    },
    {
     "name": "stdout",
     "output_type": "stream",
     "text": [
      "Finished epoch 44; Train loss : 4.59188985824585; Train perplexity : 105.29356384277344\n"
     ]
    },
    {
     "name": "stderr",
     "output_type": "stream",
     "text": [
      "0it [00:00, ?it/s]"
     ]
    },
    {
     "name": "stdout",
     "output_type": "stream",
     "text": [
      "Test loss : 4.682991981506348; Test perplexity : 115.7660903930664\n"
     ]
    },
    {
     "name": "stderr",
     "output_type": "stream",
     "text": [
      "54it [00:42,  1.28it/s]\n"
     ]
    },
    {
     "name": "stdout",
     "output_type": "stream",
     "text": [
      "Finished epoch 45; Train loss : 4.5612921714782715; Train perplexity : 102.08330535888672\n"
     ]
    },
    {
     "name": "stderr",
     "output_type": "stream",
     "text": [
      "0it [00:00, ?it/s]"
     ]
    },
    {
     "name": "stdout",
     "output_type": "stream",
     "text": [
      "Test loss : 4.660089015960693; Test perplexity : 113.1323471069336\n"
     ]
    },
    {
     "name": "stderr",
     "output_type": "stream",
     "text": [
      "54it [00:43,  1.24it/s]\n"
     ]
    },
    {
     "name": "stdout",
     "output_type": "stream",
     "text": [
      "Finished epoch 46; Train loss : 4.531779766082764; Train perplexity : 99.07997131347656\n"
     ]
    },
    {
     "name": "stderr",
     "output_type": "stream",
     "text": [
      "0it [00:00, ?it/s]"
     ]
    },
    {
     "name": "stdout",
     "output_type": "stream",
     "text": [
      "Test loss : 4.638086795806885; Test perplexity : 110.66570281982422\n"
     ]
    },
    {
     "name": "stderr",
     "output_type": "stream",
     "text": [
      "54it [00:43,  1.23it/s]\n"
     ]
    },
    {
     "name": "stdout",
     "output_type": "stream",
     "text": [
      "Finished epoch 47; Train loss : 4.5028157234191895; Train perplexity : 96.21380615234375\n"
     ]
    },
    {
     "name": "stderr",
     "output_type": "stream",
     "text": [
      "0it [00:00, ?it/s]"
     ]
    },
    {
     "name": "stdout",
     "output_type": "stream",
     "text": [
      "Test loss : 4.61439847946167; Test perplexity : 108.05768585205078\n"
     ]
    },
    {
     "name": "stderr",
     "output_type": "stream",
     "text": [
      "54it [00:43,  1.25it/s]\n"
     ]
    },
    {
     "name": "stdout",
     "output_type": "stream",
     "text": [
      "Finished epoch 48; Train loss : 4.474865436553955; Train perplexity : 93.52869415283203\n"
     ]
    },
    {
     "name": "stderr",
     "output_type": "stream",
     "text": [
      "0it [00:00, ?it/s]"
     ]
    },
    {
     "name": "stdout",
     "output_type": "stream",
     "text": [
      "Test loss : 4.592393398284912; Test perplexity : 105.66268920898438\n"
     ]
    },
    {
     "name": "stderr",
     "output_type": "stream",
     "text": [
      "54it [00:42,  1.28it/s]\n"
     ]
    },
    {
     "name": "stdout",
     "output_type": "stream",
     "text": [
      "Finished epoch 49; Train loss : 4.447055339813232; Train perplexity : 90.93704986572266\n",
      "Test loss : 4.571944713592529; Test perplexity : 103.50292205810547\n"
     ]
    }
   ],
   "source": [
    "train_loss = []\n",
    "train_perplexity = []\n",
    "test_loss = []\n",
    "test_perplexity = []\n",
    "for epoch in range(epochs):\n",
    "    epoch_train_loss = 0\n",
    "    epoch_train_perplexity = 0\n",
    "    epoch_test_loss = 0\n",
    "    epoch_test_perplexity = 0\n",
    "    for batch_train_images, batch_train_sequences, batched_train_length in tqdm(zip(train_images,train_sequences,train_length)):\n",
    "        batched_train_loss, batched_train_perplexity = train_step(batch_train_images,batch_train_sequences,batched_train_length, optimizer)\n",
    "        epoch_train_loss+=batched_train_loss\n",
    "        epoch_train_perplexity+=batched_train_perplexity\n",
    "    epoch_train_loss = epoch_train_loss/train_images.shape[0]\n",
    "    epoch_train_perplexity = epoch_train_perplexity/train_images.shape[0]\n",
    "    train_loss.append(epoch_train_loss)\n",
    "    train_perplexity.append(epoch_train_perplexity)\n",
    "    print('Finished epoch {}; Train loss : {}; Train perplexity : {}'.format(epoch,epoch_train_loss,epoch_train_perplexity))\n",
    "    for batch_test_images, batch_test_sequences, batched_test_length in zip(test_images,test_sequences,test_length):\n",
    "        batched_test_loss, batched_test_perplexity = evaluate(batch_test_images,batch_test_sequences,batched_test_length, optimizer)\n",
    "        epoch_test_loss+=batched_test_loss\n",
    "        epoch_test_perplexity+=batched_test_perplexity\n",
    "    epoch_test_loss = epoch_test_loss/test_images.shape[0]\n",
    "    epoch_test_perplexity = epoch_test_perplexity/test_images.shape[0]\n",
    "    test_perplexity.append(epoch_test_perplexity)\n",
    "    test_loss.append(epoch_test_loss)\n",
    "    print('Test loss : {}; Test perplexity : {}'.format(epoch_test_loss,epoch_test_perplexity))\n"
   ]
  },
  {
   "cell_type": "markdown",
   "id": "b42fb688",
   "metadata": {},
   "source": [
    "# Viewing and saving results"
   ]
  },
  {
   "cell_type": "code",
   "execution_count": 58,
   "id": "2b203753",
   "metadata": {},
   "outputs": [],
   "source": [
    "df = pd.DataFrame()\n",
    "model_name = 'conv_lstm_transfer_learning'\n",
    "df['train_perplexity_{}'.format(model_name)] = [i.numpy() for i in train_perplexity]\n",
    "df['test_perplexity_{}'.format(model_name)] = [i.numpy() for i in test_perplexity]\n",
    "df['train_loss_{}'.format(model_name)] = [i.numpy() for i in train_loss]\n",
    "df['test_loss_{}'.format(model_name)] = [i.numpy() for i in test_loss]\n",
    "df.to_csv('{}_logs.csv'.format(model_name),index=False)"
   ]
  },
  {
   "cell_type": "code",
   "execution_count": 59,
   "id": "4a37e9e5",
   "metadata": {},
   "outputs": [],
   "source": [
    "import matplotlib.pyplot as plt\n",
    "import seaborn as sns\n",
    "sns.set()"
   ]
  },
  {
   "cell_type": "code",
   "execution_count": 60,
   "id": "c4ce4c82",
   "metadata": {},
   "outputs": [
    {
     "data": {
      "image/png": "[encoded data removed]",
      "text/plain": [
       "<Figure size 1080x864 with 1 Axes>"
      ]
     },
     "metadata": {},
     "output_type": "display_data"
    }
   ],
   "source": [
    "plt.figure(figsize=(15,12))\n",
    "plt.title('Perplexity results')\n",
    "plt.plot(df['train_perplexity_{}'.format(model_name)])\n",
    "plt.plot(df['test_perplexity_{}'.format(model_name)])\n",
    "plt.xlabel('Epochs')\n",
    "plt.ylabel('Perplexity')\n",
    "plt.yticks(np.arange(min(df['train_perplexity_{}'.format(model_name)]), max(df['train_perplexity_{}'.format(model_name)]),5000))\n",
    "plt.legend(['Train', 'Test']);"
   ]
  },
  {
   "cell_type": "code",
   "execution_count": 61,
   "id": "eb248163",
   "metadata": {},
   "outputs": [
    {
     "data": {
      "image/png": "[encoded data removed]",
      "text/plain": [
       "<Figure size 1080x864 with 1 Axes>"
      ]
     },
     "metadata": {},
     "output_type": "display_data"
    }
   ],
   "source": [
    "plt.figure(figsize=(15,12))\n",
    "plt.title('Loss results')\n",
    "plt.plot(df['train_loss_{}'.format(model_name)])\n",
    "plt.plot(df['test_loss_{}'.format(model_name)])\n",
    "plt.xlabel('Epochs')\n",
    "plt.ylabel('Loss')\n",
    "plt.yticks(np.arange(min(df['train_loss_{}'.format(model_name)]),max(df['train_loss_{}'.format(model_name)]),0.1));"
   ]
  },
  {
   "cell_type": "markdown",
   "id": "dd81ad45",
   "metadata": {},
   "source": [
    "# Testing model"
   ]
  },
  {
   "cell_type": "code",
   "execution_count": 62,
   "id": "6b7eb574",
   "metadata": {},
   "outputs": [],
   "source": [
    "import matplotlib.pyplot as plt\n",
    "import seaborn as sns"
   ]
  },
  {
   "cell_type": "code",
   "execution_count": 63,
   "id": "4ca16f10",
   "metadata": {},
   "outputs": [],
   "source": [
    "class Decoder:\n",
    "    def __init__(self, encoder: tf.keras.Model,\n",
    "                 decoder: tf.keras.Model,\n",
    "                 start_token: int,\n",
    "                 end_token: int,\n",
    "                 max_len: int = 10, ):\n",
    "        self.encoder = encoder\n",
    "        self.decoder = decoder\n",
    "        self.max_len = max_len\n",
    "        self.start_token = start_token\n",
    "        self.end_token = end_token\n",
    "\n",
    "    def decode(self, input):\n",
    "        pass\n",
    "\n",
    "\n",
    "class GreedyDecoder(Decoder):\n",
    "    def __init__(self, encoder: tf.keras.Model,\n",
    "                 decoder: tf.keras.Model,\n",
    "                 start_token: int,\n",
    "                 end_token: int,\n",
    "                 max_len: int = 10,\n",
    "                 ):\n",
    "        super().__init__(encoder,\n",
    "                         decoder,\n",
    "                         start_token,\n",
    "                         end_token,\n",
    "                         max_len\n",
    "                         )\n",
    "\n",
    "    def decode(self, input, max_len_output=50):\n",
    "        initial_state = self.encoder(np.expand_dims(input, axis=0))\n",
    "\n",
    "        target_seq = np.zeros((1, 1))\n",
    "        target_seq[0, 0] = self.start_token\n",
    "\n",
    "        res = []\n",
    "        while True:\n",
    "            # Sample a token\n",
    "            output, initial_state = self.decoder(target_seq,initial_state)\n",
    "            sampled_token_index = np.argmax(output)\n",
    "\n",
    "            if len(res) > max_len_output or sampled_token_index == self.end_token:\n",
    "                break\n",
    "\n",
    "            res.append(sampled_token_index)\n",
    "\n",
    "            target_seq = np.zeros((1, 1))\n",
    "            target_seq[0, 0] = sampled_token_index\n",
    "\n",
    "       \n",
    "        return res\n"
   ]
  },
  {
   "cell_type": "code",
   "execution_count": 64,
   "id": "835b533b",
   "metadata": {},
   "outputs": [],
   "source": [
    "class BeamSearchDecoder(Decoder):\n",
    "    def __init__(self, encoder: tf.keras.Model,\n",
    "                 decoder: tf.keras.Model,\n",
    "                 start_token: int,\n",
    "                 end_token: int,\n",
    "                 max_len: int = 10,\n",
    "                 ):\n",
    "        super().__init__(encoder,\n",
    "                         decoder,\n",
    "                         start_token,\n",
    "                         end_token,\n",
    "                         max_len\n",
    "                         )\n",
    "\n",
    "    def decode(self, input, beam_size=3):\n",
    "        start = [self.start_token]\n",
    "        initial_state = self.encoder(np.expand_dims(input,axis=0))\n",
    "\n",
    "\n",
    "        start_word = [[start, 0.0, initial_state]]\n",
    "\n",
    "        while len(start_word[0][0]) < self.max_len:\n",
    "            temp = []\n",
    "            for s in start_word:\n",
    "                target_seq = np.array([[s[0][-1]]])\n",
    "                initial_state = s[-1]\n",
    "                output, initial_state= self.decoder(target_seq, initial_state)\n",
    "                output = np.hstack(output)\n",
    "                output = tf.nn.softmax(output).numpy()\n",
    "                word_preds = np.argsort(output)[-beam_size:]\n",
    "\n",
    "                for w in word_preds:\n",
    "                    next_cap, prob = s[0][:], s[1]\n",
    "                    next_cap.append(w)\n",
    "                    prob += output[w]\n",
    "                    temp.append([next_cap, prob, initial_state])\n",
    "\n",
    "            start_word = temp\n",
    "            # Sorting according to the probabilities\n",
    "            start_word = sorted(start_word, reverse=False, key=lambda l: l[1])\n",
    "            # Getting the top words\n",
    "            start_word = start_word[-beam_size:]\n",
    "\n",
    "        start_word = start_word[-1][0]\n",
    "\n",
    "        final_caption = []\n",
    "\n",
    "        for i in start_word:\n",
    "            if i != self.end_token:\n",
    "                final_caption.append(i)\n",
    "            else:\n",
    "                break\n",
    "        return final_caption[1:]"
   ]
  },
  {
   "cell_type": "code",
   "execution_count": 65,
   "id": "a7ca95df",
   "metadata": {},
   "outputs": [],
   "source": [
    "def predict(data, decoder, inverse_vocab,\n",
    "           beam_size=None):\n",
    "    if beam_size:\n",
    "        result = decoder.decode(data, beam_size=beam_size)\n",
    "    else:\n",
    "        result = decoder.decode(data)\n",
    "    return ' '.join([inverse_vocab[i] for i in result])"
   ]
  },
  {
   "cell_type": "code",
   "execution_count": 66,
   "id": "52fe0cbb",
   "metadata": {},
   "outputs": [],
   "source": [
    "greedy_decoder = GreedyDecoder(conv_encoder, lstm_decoder, vocab[start_token], vocab[end_token],\n",
    "             max_len=39)"
   ]
  },
  {
   "cell_type": "code",
   "execution_count": 67,
   "id": "86f133d6",
   "metadata": {},
   "outputs": [],
   "source": [
    "beam_decoder = BeamSearchDecoder(conv_encoder, lstm_decoder, vocab[start_token], vocab[end_token],\n",
    "             max_len=39)"
   ]
  },
  {
   "cell_type": "code",
   "execution_count": 68,
   "id": "b8e9a939",
   "metadata": {},
   "outputs": [
    {
     "data": {
      "text/plain": [
       "(3840, 224, 224, 3)"
      ]
     },
     "execution_count": 68,
     "metadata": {},
     "output_type": "execute_result"
    }
   ],
   "source": [
    "images.shape"
   ]
  },
  {
   "cell_type": "code",
   "execution_count": 81,
   "id": "df841ae2",
   "metadata": {},
   "outputs": [],
   "source": [
    "sample = np.random.choice(range(len(images)))\n",
    "sample = images[sample]"
   ]
  },
  {
   "cell_type": "code",
   "execution_count": 82,
   "id": "58b907e7",
   "metadata": {},
   "outputs": [
    {
     "data": {
      "image/png": "[encoded data removed]",
      "text/plain": [
       "<Figure size 576x576 with 1 Axes>"
      ]
     },
     "metadata": {},
     "output_type": "display_data"
    }
   ],
   "source": [
    "plt.figure(figsize=(8,8))\n",
    "plt.imshow(sample)\n",
    "plt.grid([])\n",
    "plt.axis('off');"
   ]
  },
  {
   "cell_type": "code",
   "execution_count": 83,
   "id": "bf541b1b",
   "metadata": {},
   "outputs": [
    {
     "data": {
      "text/plain": [
       "'is man a a a a a a a a a a a a a a a a a a a man looks and and , and , , and the man is trying to to the other man'"
      ]
     },
     "execution_count": 83,
     "metadata": {},
     "output_type": "execute_result"
    }
   ],
   "source": [
    "predict(sample, greedy_decoder, inverse_vocab)"
   ]
  },
  {
   "cell_type": "code",
   "execution_count": 84,
   "id": "c4e3c03b",
   "metadata": {},
   "outputs": [
    {
     "data": {
      "text/plain": [
       "'is a a a man a a a a a a a a a a a a a man looks and and and a , , and the man is trying to to the the woman'"
      ]
     },
     "execution_count": 84,
     "metadata": {},
     "output_type": "execute_result"
    }
   ],
   "source": [
    "predict(sample, beam_decoder, inverse_vocab, beam_size=5)"
   ]
  },
  {
   "cell_type": "markdown",
   "id": "2073cf47",
   "metadata": {},
   "source": [
    "# Blue score calculation"
   ]
  },
  {
   "cell_type": "code",
   "execution_count": 92,
   "id": "e2fb9803",
   "metadata": {},
   "outputs": [],
   "source": [
    "from nltk.translate.bleu_score import sentence_bleu\n"
   ]
  },
  {
   "cell_type": "markdown",
   "id": "d19e7e17",
   "metadata": {},
   "source": [
    "### making predictions on test dataset with beam_size of 5"
   ]
  },
  {
   "cell_type": "code",
   "execution_count": 105,
   "id": "9c54e7c6",
   "metadata": {},
   "outputs": [
    {
     "name": "stderr",
     "output_type": "stream",
     "text": [
      "100%|██████████| 6/6 [13:56<00:00, 139.41s/it]\n"
     ]
    }
   ],
   "source": [
    "test_predictions = []\n",
    "for batch in tqdm(test_images):\n",
    "    for image in batch:\n",
    "        result = predict(image, beam_decoder, inverse_vocab, beam_size=5)\n",
    "        test_predictions.append(result)"
   ]
  },
  {
   "cell_type": "code",
   "execution_count": 111,
   "id": "4270b4d7",
   "metadata": {},
   "outputs": [],
   "source": [
    "test_predictions = [i.split(' ') for i in test_predictions]"
   ]
  },
  {
   "cell_type": "code",
   "execution_count": 107,
   "id": "9b865bd1",
   "metadata": {},
   "outputs": [],
   "source": [
    "reshaped_sequences = test_sequences.reshape(test_sequences.shape[0]*test_sequences.shape[1],-1)"
   ]
  },
  {
   "cell_type": "code",
   "execution_count": 108,
   "id": "b3b991a5",
   "metadata": {},
   "outputs": [],
   "source": [
    "test_sentences = []\n",
    "for i in reshaped_sequences:\n",
    "    tmp = []\n",
    "    for word in i:\n",
    "        if word!=0 and word!=1 and word!=2:\n",
    "            tmp.append(inverse_vocab[word])\n",
    "    test_sentences.append(tmp)"
   ]
  },
  {
   "cell_type": "code",
   "execution_count": 115,
   "id": "32053e24",
   "metadata": {},
   "outputs": [
    {
     "name": "stdout",
     "output_type": "stream",
     "text": [
      "Bleu score on test data : 4.2958840740224755e-156\n"
     ]
    }
   ],
   "source": [
    "bleu_score = []\n",
    "for reference, prediction in zip(test_sentences, test_predictions):\n",
    "    bleu_score.append(sentence_bleu(reference, prediction,weights=(0.5, 0.5)))\n",
    "print('Bleu score on test data : {}'.format(np.mean(bleu_score)))"
   ]
  },
  {
   "cell_type": "markdown",
   "id": "f2b0633c",
   "metadata": {},
   "source": [
    "### making predictions on test dataset with beam_size of 10"
   ]
  },
  {
   "cell_type": "code",
   "execution_count": null,
   "id": "a7602a66",
   "metadata": {},
   "outputs": [],
   "source": [
    "test_predictions = []\n",
    "for batch in tqdm(test_images):\n",
    "    for image in batch:\n",
    "        result = predict(image, beam_decoder, inverse_vocab, beam_size=10)\n",
    "        test_predictions.append(result)"
   ]
  },
  {
   "cell_type": "code",
   "execution_count": null,
   "id": "14ca927e",
   "metadata": {},
   "outputs": [],
   "source": [
    "bleu_score = []\n",
    "for reference, prediction in zip(test_sentences, test_predictions):\n",
    "    bleu_score.append(sentence_bleu(reference, prediction))\n",
    "print('Bleu score on test data : {}'.format(np.mean(bleu_score)))"
   ]
  },
  {
   "cell_type": "code",
   "execution_count": null,
   "id": "7a19dbd6",
   "metadata": {},
   "outputs": [],
   "source": []
  }
 ],
 "metadata": {
  "kernelspec": {
   "display_name": "conda_amazonei_tensorflow2_p36",
   "language": "python",
   "name": "conda_amazonei_tensorflow2_p36"
  },
  "language_info": {
   "codemirror_mode": {
    "name": "ipython",
    "version": 3
   },
   "file_extension": ".py",
   "mimetype": "text/x-python",
   "name": "python",
   "nbconvert_exporter": "python",
   "pygments_lexer": "ipython3",
   "version": "3.6.13"
  }
 },
 "nbformat": 4,
 "nbformat_minor": 5
}
