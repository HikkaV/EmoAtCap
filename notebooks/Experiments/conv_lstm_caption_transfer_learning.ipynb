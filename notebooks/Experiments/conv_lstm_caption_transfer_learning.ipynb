{
 "cells": [
  {
   "cell_type": "code",
   "execution_count": 1,
   "id": "fb4c0650",
   "metadata": {},
   "outputs": [],
   "source": [
    "import tensorflow as tf"
   ]
  },
  {
   "cell_type": "code",
   "execution_count": 2,
   "id": "e5c359f1",
   "metadata": {},
   "outputs": [],
   "source": [
    "import pandas as pd\n",
    "import os\n",
    "import numpy as np\n",
    "from keras_preprocessing import image as im\n",
    "tf.random.set_seed(\n",
    "    5\n",
    ")"
   ]
  },
  {
   "cell_type": "markdown",
   "id": "99fa9b81",
   "metadata": {},
   "source": [
    "# Loading data"
   ]
  },
  {
   "cell_type": "code",
   "execution_count": 3,
   "id": "421e0ba6",
   "metadata": {},
   "outputs": [],
   "source": [
    "def load_data(image_path, annotations_path):\n",
    "    df = pd.read_csv(annotations_path)\n",
    "    df = df[~df['human_sentiment'].isna()]\n",
    "    in_folder = os.listdir(image_path)\n",
    "    df.loc[df['image_name'].isin(in_folder), 'image_name'] = \\\n",
    "    df.loc[df['image_name'].isin(in_folder), 'image_name'].apply(lambda x: os.path.join(image_path,x))\n",
    "    images = []\n",
    "    for image_name in df['image_name'].values:\n",
    "        images.append(np.array(im.load_img(image_name, target_size=(224,224))))\n",
    "    images = np.array(images)\n",
    "    images = images/255\n",
    "    annotations = df['annotation'].str.lower().values\n",
    "    return images, annotations"
   ]
  },
  {
   "cell_type": "code",
   "execution_count": 4,
   "id": "e3d1b0af",
   "metadata": {},
   "outputs": [],
   "source": [
    "images, annotations = load_data(\"../../../images/\", '../../../emo-at-cap.csv')"
   ]
  },
  {
   "cell_type": "markdown",
   "id": "530fa10a",
   "metadata": {},
   "source": [
    "# Processing of data"
   ]
  },
  {
   "cell_type": "code",
   "execution_count": 5,
   "id": "92e35012",
   "metadata": {},
   "outputs": [],
   "source": [
    "import nltk"
   ]
  },
  {
   "cell_type": "code",
   "execution_count": 6,
   "id": "d3efe992",
   "metadata": {},
   "outputs": [],
   "source": [
    "tokenizer = nltk.tokenize.WordPunctTokenizer()"
   ]
  },
  {
   "cell_type": "code",
   "execution_count": 7,
   "id": "99b1d964",
   "metadata": {},
   "outputs": [],
   "source": [
    "tokenized = [tokenizer.tokenize(i) for i in annotations]"
   ]
  },
  {
   "cell_type": "code",
   "execution_count": 8,
   "id": "8a70ba92",
   "metadata": {},
   "outputs": [],
   "source": [
    "unique_tokens, unique_counts = np.unique(np.hstack(tokenized), return_counts=True)"
   ]
  },
  {
   "cell_type": "code",
   "execution_count": 9,
   "id": "0fd46a8d",
   "metadata": {},
   "outputs": [
    {
     "data": {
      "text/plain": [
       "[('the', 3261),\n",
       " ('is', 2031),\n",
       " ('man', 1905),\n",
       " ('and', 1536),\n",
       " ('woman', 1361),\n",
       " ('are', 1036),\n",
       " ('a', 963),\n",
       " ('to', 891),\n",
       " ('looks', 751),\n",
       " ('happy', 705),\n",
       " ('with', 547),\n",
       " ('something', 480),\n",
       " ('men', 478),\n",
       " ('of', 463),\n",
       " ('two', 408),\n",
       " ('other', 361),\n",
       " ('people', 343),\n",
       " ('couple', 334),\n",
       " (',', 330),\n",
       " ('in', 278),\n",
       " ('look', 270),\n",
       " ('because', 265),\n",
       " ('they', 256),\n",
       " ('about', 247),\n",
       " ('on', 246),\n",
       " ('at', 192),\n",
       " ('trying', 190),\n",
       " ('serious', 189),\n",
       " ('women', 184),\n",
       " ('each', 179),\n",
       " ('together', 176),\n",
       " ('by', 175),\n",
       " ('having', 171),\n",
       " ('flirting', 165),\n",
       " ('he', 155),\n",
       " ('smiling', 151),\n",
       " ('arguing', 141),\n",
       " ('angry', 140),\n",
       " ('scared', 138),\n",
       " ('worried', 137),\n",
       " ('hugging', 135),\n",
       " ('surprised', 134),\n",
       " ('calm', 133),\n",
       " ('company', 131),\n",
       " ('her', 129),\n",
       " ('group', 123),\n",
       " ('for', 121),\n",
       " ('she', 117),\n",
       " ('looking', 117),\n",
       " ('his', 115)]"
      ]
     },
     "execution_count": 9,
     "metadata": {},
     "output_type": "execute_result"
    }
   ],
   "source": [
    "sorted(list(zip(unique_tokens, unique_counts)), key = lambda x: x[1])[::-1][:50]"
   ]
  },
  {
   "cell_type": "code",
   "execution_count": 10,
   "id": "b64d9498",
   "metadata": {},
   "outputs": [
    {
     "data": {
      "text/plain": [
       "2162"
      ]
     },
     "execution_count": 10,
     "metadata": {},
     "output_type": "execute_result"
    }
   ],
   "source": [
    "len(unique_tokens)"
   ]
  },
  {
   "cell_type": "code",
   "execution_count": 11,
   "id": "17a83658",
   "metadata": {},
   "outputs": [],
   "source": [
    "pad_token = '<PAD>'\n",
    "start_token = '<S>'\n",
    "end_token = '<E>'"
   ]
  },
  {
   "cell_type": "code",
   "execution_count": 12,
   "id": "e13ecad9",
   "metadata": {},
   "outputs": [],
   "source": [
    "vocab = dict(zip(unique_tokens,list(range(3,len(unique_tokens)+3))))\n",
    "vocab[pad_token] = 0\n",
    "vocab[start_token] = 1\n",
    "vocab[end_token] = 2"
   ]
  },
  {
   "cell_type": "code",
   "execution_count": 13,
   "id": "310d7f7c",
   "metadata": {},
   "outputs": [],
   "source": [
    "inverse_vocab = dict([(v,k) for k,v in vocab.items()])"
   ]
  },
  {
   "cell_type": "code",
   "execution_count": 14,
   "id": "421b2b1a",
   "metadata": {},
   "outputs": [],
   "source": [
    "add_special_tokens = lambda x: [start_token] + x + [end_token]"
   ]
  },
  {
   "cell_type": "code",
   "execution_count": 15,
   "id": "e5c5e90c",
   "metadata": {},
   "outputs": [],
   "source": [
    "tokenized = list(map(add_special_tokens,tokenized))"
   ]
  },
  {
   "cell_type": "code",
   "execution_count": 16,
   "id": "d308d0ff",
   "metadata": {},
   "outputs": [],
   "source": [
    "max_len = len(max(tokenized, key=len))"
   ]
  },
  {
   "cell_type": "code",
   "execution_count": 17,
   "id": "bad2f267",
   "metadata": {},
   "outputs": [],
   "source": [
    "indexed = list(map(lambda x: [vocab[i] for i in x],tokenized))"
   ]
  },
  {
   "cell_type": "code",
   "execution_count": 18,
   "id": "49da5a92",
   "metadata": {},
   "outputs": [],
   "source": [
    "padded = tf.keras.preprocessing.sequence.pad_sequences(indexed, truncating='post')"
   ]
  },
  {
   "cell_type": "code",
   "execution_count": 19,
   "id": "5a812db6",
   "metadata": {},
   "outputs": [
    {
     "data": {
      "text/plain": [
       "(3840, 224, 224, 3)"
      ]
     },
     "execution_count": 19,
     "metadata": {},
     "output_type": "execute_result"
    }
   ],
   "source": [
    "images.shape"
   ]
  },
  {
   "cell_type": "markdown",
   "id": "40a72972",
   "metadata": {},
   "source": [
    "# Model with transfer learning"
   ]
  },
  {
   "cell_type": "code",
   "execution_count": 20,
   "id": "2c8981cf",
   "metadata": {},
   "outputs": [],
   "source": [
    "def calc_size(x, f, s, padding='same'):\n",
    "    p = 2 if padding=='same' else 1\n",
    "    return (x-f+2)/s+1"
   ]
  },
  {
   "cell_type": "markdown",
   "id": "7cb14f37",
   "metadata": {},
   "source": [
    "### Convolutional model"
   ]
  },
  {
   "cell_type": "code",
   "execution_count": 92,
   "id": "f87176e1",
   "metadata": {},
   "outputs": [],
   "source": [
    "import tensorflow.keras.applications as apps\n"
   ]
  },
  {
   "cell_type": "code",
   "execution_count": 93,
   "id": "407868cc",
   "metadata": {},
   "outputs": [],
   "source": [
    "class ConvEncoder(tf.keras.Model):\n",
    "    def __init__(self):\n",
    "        super(ConvEncoder, self).__init__()\n",
    "        #building resnet\n",
    "        resnet = apps.ResNet152V2(include_top=False, weights='imagenet')\n",
    "        outputs = [i for i in resnet.layers if i.name=='conv4_block5_out'][0]\n",
    "        inputs = resnet.layers[0]\n",
    "        self.resnet_extractor = tf.keras.models.Model(inputs=inputs.input, outputs=outputs.output)\n",
    "        self.resnet_extractor.trainable = False\n",
    "        \n",
    "        #batch norm\n",
    "        self.batch_norm1 =  tf.keras.layers.BatchNormalization()\n",
    "        self.batch_norm2 =  tf.keras.layers.BatchNormalization()\n",
    "        self.batch_norm3 =  tf.keras.layers.BatchNormalization()\n",
    "\n",
    "        \n",
    "        #on top extractors \n",
    "        self.conv1 = tf.keras.layers.Conv2D(filters=512, kernel_size=7, activation='relu',\n",
    "                               padding='same', name='conv1', strides=(2,2))\n",
    "        self.conv2 = tf.keras.layers.Conv2D(filters=256, kernel_size=5, activation='relu',\n",
    "                                       padding='same', name='conv2', strides=(2,2))\n",
    "        self.conv3 = tf.keras.layers.Conv2D(filters=256, kernel_size=4, activation='relu',\n",
    "                                       padding='same', name='conv3', strides=(2,2))\n",
    "        self.conv4 = tf.keras.layers.Conv2D(filters=256, kernel_size=1, activation='relu',\n",
    "                                       padding='same', name='conv4', strides=(2,2))\n",
    "        \n",
    "        self.conv5 = tf.keras.layers.Conv2D(filters=256, kernel_size=1, activation='relu',\n",
    "                                       padding='same', name='conv5', strides=(2,2))\n",
    "        self.flatten = tf.keras.layers.Flatten()\n",
    "        \n",
    "    def call(self, input):\n",
    "        resnet_features = self.resnet_extractor(input)\n",
    "        conv1_out = self.batch_norm1(self.conv1(resnet_features))\n",
    "        conv2_out = self.batch_norm2(self.conv2(conv1_out))\n",
    "        conv3_out = self.batch_norm3(self.conv3(conv2_out))\n",
    "        conv4_out = self.conv4(conv3_out)\n",
    "        conv5_out = self.conv5(conv3_out)\n",
    "        return [self.flatten(conv4_out), self.flatten(conv5_out)]"
   ]
  },
  {
   "cell_type": "code",
   "execution_count": 94,
   "id": "95b95d61",
   "metadata": {},
   "outputs": [],
   "source": [
    "conv_encoder = ConvEncoder()"
   ]
  },
  {
   "cell_type": "code",
   "execution_count": 95,
   "id": "8262445a",
   "metadata": {},
   "outputs": [
    {
     "name": "stdout",
     "output_type": "stream",
     "text": [
      "WARNING:tensorflow:Layer conv_encoder_1 is casting an input tensor from dtype float64 to the layer's dtype of float32, which is new behavior in TensorFlow 2.  The layer has dtype float32 because its dtype defaults to floatx.\n",
      "\n",
      "If you intended to run this layer in float32, you can safely ignore this warning. If in doubt, this warning is likely only an issue if you are porting a TensorFlow 1.X model to TensorFlow 2.\n",
      "\n",
      "To change all layers to have dtype float64 by default, call `tf.keras.backend.set_floatx('float64')`. To change just this layer, pass dtype='float64' to the layer constructor. If you are the author of this layer, you can disable autocasting by passing autocast=False to the base Layer constructor.\n",
      "\n"
     ]
    }
   ],
   "source": [
    "conv_res = conv_encoder(np.expand_dims(images[0],axis=0))"
   ]
  },
  {
   "cell_type": "code",
   "execution_count": 96,
   "id": "5083b753",
   "metadata": {},
   "outputs": [
    {
     "data": {
      "text/plain": [
       "[<tf.Tensor: shape=(1, 256), dtype=float32, numpy=\n",
       " array([[0.18044674, 0.        , 0.        , 0.        , 0.17836721,\n",
       "         0.07201549, 0.        , 0.07633087, 0.08137889, 0.        ,\n",
       "         0.        , 0.06016247, 0.0271579 , 0.01130108, 0.        ,\n",
       "         0.05635251, 0.11776319, 0.2944244 , 0.        , 0.        ,\n",
       "         0.21907699, 0.16431975, 0.21890369, 0.        , 0.2201566 ,\n",
       "         0.17337525, 0.        , 0.        , 0.        , 0.29836762,\n",
       "         0.05729098, 0.        , 0.08942068, 0.        , 0.10094642,\n",
       "         0.        , 0.        , 0.        , 0.        , 0.03347997,\n",
       "         0.        , 0.0825975 , 0.        , 0.16253117, 0.37322557,\n",
       "         0.        , 0.        , 0.14317966, 0.        , 0.        ,\n",
       "         0.22419856, 0.11687281, 0.04424128, 0.10621466, 0.03909818,\n",
       "         0.11569512, 0.1303684 , 0.        , 0.        , 0.        ,\n",
       "         0.10384209, 0.        , 0.        , 0.        , 0.09321293,\n",
       "         0.        , 0.01423153, 0.02838157, 0.05860944, 0.14258927,\n",
       "         0.10841344, 0.07302295, 0.        , 0.        , 0.        ,\n",
       "         0.18020025, 0.        , 0.        , 0.        , 0.        ,\n",
       "         0.        , 0.        , 0.01041538, 0.        , 0.0679009 ,\n",
       "         0.        , 0.16563821, 0.02116064, 0.        , 0.        ,\n",
       "         0.        , 0.09326269, 0.0490775 , 0.00263639, 0.03651477,\n",
       "         0.        , 0.02366822, 0.        , 0.        , 0.09359276,\n",
       "         0.        , 0.        , 0.        , 0.14664195, 0.        ,\n",
       "         0.02835345, 0.        , 0.        , 0.        , 0.        ,\n",
       "         0.12443815, 0.        , 0.1292094 , 0.        , 0.        ,\n",
       "         0.02666374, 0.10981046, 0.19358702, 0.042445  , 0.        ,\n",
       "         0.13665363, 0.03280541, 0.        , 0.26173946, 0.        ,\n",
       "         0.12377254, 0.02777904, 0.01884316, 0.        , 0.04694288,\n",
       "         0.01091956, 0.        , 0.17011768, 0.        , 0.10782865,\n",
       "         0.        , 0.22786948, 0.        , 0.15776008, 0.        ,\n",
       "         0.03215559, 0.09265094, 0.13966322, 0.        , 0.08385285,\n",
       "         0.12480962, 0.06896145, 0.08802678, 0.08783276, 0.        ,\n",
       "         0.00519769, 0.        , 0.055168  , 0.        , 0.        ,\n",
       "         0.        , 0.05809094, 0.        , 0.        , 0.12018438,\n",
       "         0.        , 0.02160814, 0.        , 0.1318314 , 0.        ,\n",
       "         0.        , 0.08415283, 0.02794077, 0.        , 0.12405234,\n",
       "         0.        , 0.        , 0.00619886, 0.14694251, 0.        ,\n",
       "         0.        , 0.09344146, 0.01497711, 0.        , 0.        ,\n",
       "         0.        , 0.03498489, 0.24745153, 0.        , 0.        ,\n",
       "         0.11661946, 0.12885585, 0.        , 0.        , 0.        ,\n",
       "         0.        , 0.00233766, 0.06706636, 0.        , 0.11313087,\n",
       "         0.        , 0.03129908, 0.        , 0.        , 0.        ,\n",
       "         0.00189002, 0.        , 0.        , 0.        , 0.0951998 ,\n",
       "         0.05053414, 0.11155713, 0.153673  , 0.12112741, 0.        ,\n",
       "         0.        , 0.        , 0.04324771, 0.3173344 , 0.        ,\n",
       "         0.10264615, 0.042889  , 0.00933534, 0.        , 0.        ,\n",
       "         0.        , 0.        , 0.07050768, 0.        , 0.        ,\n",
       "         0.        , 0.        , 0.00728891, 0.        , 0.11503682,\n",
       "         0.        , 0.        , 0.        , 0.10417867, 0.        ,\n",
       "         0.        , 0.        , 0.10473553, 0.09087779, 0.03968617,\n",
       "         0.17070171, 0.11994564, 0.1073814 , 0.        , 0.07355176,\n",
       "         0.        , 0.0813627 , 0.        , 0.        , 0.14352834,\n",
       "         0.07179398, 0.25323975, 0.16096285, 0.        , 0.        ,\n",
       "         0.        ]], dtype=float32)>,\n",
       " <tf.Tensor: shape=(1, 256), dtype=float32, numpy=\n",
       " array([[0.        , 0.        , 0.        , 0.02693959, 0.03903335,\n",
       "         0.        , 0.11115463, 0.        , 0.        , 0.16661306,\n",
       "         0.08745249, 0.13946642, 0.        , 0.        , 0.        ,\n",
       "         0.09923395, 0.24419618, 0.        , 0.02801901, 0.        ,\n",
       "         0.01984864, 0.10274467, 0.07896881, 0.        , 0.08040076,\n",
       "         0.        , 0.        , 0.16122918, 0.        , 0.02968625,\n",
       "         0.08002306, 0.16044852, 0.04848412, 0.12160231, 0.04267594,\n",
       "         0.        , 0.00536379, 0.        , 0.11828157, 0.        ,\n",
       "         0.        , 0.03782977, 0.        , 0.        , 0.00340705,\n",
       "         0.        , 0.        , 0.0087344 , 0.03308395, 0.        ,\n",
       "         0.        , 0.03940154, 0.08448549, 0.        , 0.        ,\n",
       "         0.        , 0.        , 0.        , 0.14364634, 0.10460723,\n",
       "         0.        , 0.02004508, 0.        , 0.        , 0.        ,\n",
       "         0.05211533, 0.        , 0.04299469, 0.11827958, 0.12310106,\n",
       "         0.09007711, 0.03638567, 0.03676708, 0.02945413, 0.        ,\n",
       "         0.        , 0.        , 0.03121372, 0.        , 0.        ,\n",
       "         0.10869459, 0.10655794, 0.14409657, 0.        , 0.        ,\n",
       "         0.        , 0.        , 0.13728897, 0.01319139, 0.06362292,\n",
       "         0.1474124 , 0.33259934, 0.30353308, 0.0407004 , 0.10740934,\n",
       "         0.        , 0.        , 0.10171638, 0.02174316, 0.01853274,\n",
       "         0.02007372, 0.        , 0.048342  , 0.        , 0.04568945,\n",
       "         0.2983963 , 0.        , 0.1071109 , 0.07944348, 0.03449292,\n",
       "         0.11573518, 0.        , 0.        , 0.06661649, 0.0697454 ,\n",
       "         0.        , 0.        , 0.        , 0.15632685, 0.2723094 ,\n",
       "         0.06564431, 0.06916314, 0.        , 0.20976001, 0.06440137,\n",
       "         0.        , 0.00057084, 0.        , 0.07947916, 0.13248165,\n",
       "         0.11565254, 0.05046271, 0.        , 0.        , 0.0143252 ,\n",
       "         0.05880241, 0.        , 0.        , 0.03978169, 0.12878406,\n",
       "         0.        , 0.        , 0.13632366, 0.        , 0.        ,\n",
       "         0.00229662, 0.02925233, 0.        , 0.        , 0.09297007,\n",
       "         0.04609101, 0.        , 0.04600236, 0.        , 0.        ,\n",
       "         0.1102875 , 0.04812363, 0.05666644, 0.        , 0.11128061,\n",
       "         0.        , 0.        , 0.04286592, 0.02542321, 0.        ,\n",
       "         0.        , 0.        , 0.        , 0.        , 0.        ,\n",
       "         0.11855917, 0.06672481, 0.09881107, 0.        , 0.        ,\n",
       "         0.        , 0.        , 0.01926469, 0.        , 0.13502976,\n",
       "         0.2243079 , 0.        , 0.2043715 , 0.        , 0.        ,\n",
       "         0.10459014, 0.        , 0.15278536, 0.        , 0.0469727 ,\n",
       "         0.0009528 , 0.        , 0.0876075 , 0.12000428, 0.        ,\n",
       "         0.        , 0.        , 0.24600698, 0.03243618, 0.        ,\n",
       "         0.07317671, 0.08425865, 0.11641979, 0.        , 0.04658814,\n",
       "         0.        , 0.02089028, 0.14415921, 0.        , 0.03152651,\n",
       "         0.11229551, 0.11378033, 0.        , 0.08520123, 0.17612551,\n",
       "         0.        , 0.25055772, 0.        , 0.03044404, 0.        ,\n",
       "         0.        , 0.0216761 , 0.        , 0.        , 0.        ,\n",
       "         0.08205627, 0.04873641, 0.        , 0.02099366, 0.07951166,\n",
       "         0.13567016, 0.        , 0.06147656, 0.        , 0.        ,\n",
       "         0.22523579, 0.02707368, 0.02519229, 0.07504204, 0.        ,\n",
       "         0.01312228, 0.        , 0.        , 0.01557485, 0.06421757,\n",
       "         0.08911022, 0.        , 0.        , 0.        , 0.        ,\n",
       "         0.11441579, 0.09921657, 0.04338524, 0.        , 0.17104709,\n",
       "         0.        ]], dtype=float32)>]"
      ]
     },
     "execution_count": 96,
     "metadata": {},
     "output_type": "execute_result"
    }
   ],
   "source": [
    "conv_res"
   ]
  },
  {
   "cell_type": "markdown",
   "id": "321e1d93",
   "metadata": {},
   "source": [
    "### LSTM model"
   ]
  },
  {
   "cell_type": "markdown",
   "id": "511ff481",
   "metadata": {},
   "source": [
    "### making w2v embeddings"
   ]
  },
  {
   "cell_type": "code",
   "execution_count": 26,
   "id": "36f187b5",
   "metadata": {},
   "outputs": [
    {
     "name": "stdout",
     "output_type": "stream",
     "text": [
      "Requirement already satisfied: gensim in /home/ec2-user/anaconda3/envs/amazonei_tensorflow2_p36/lib/python3.6/site-packages (4.0.1)\n",
      "Requirement already satisfied: scipy>=0.18.1 in /home/ec2-user/anaconda3/envs/amazonei_tensorflow2_p36/lib/python3.6/site-packages (from gensim) (1.5.3)\n",
      "Requirement already satisfied: smart-open>=1.8.1 in /home/ec2-user/anaconda3/envs/amazonei_tensorflow2_p36/lib/python3.6/site-packages (from gensim) (5.1.0)\n",
      "Requirement already satisfied: numpy>=1.11.3 in /home/ec2-user/anaconda3/envs/amazonei_tensorflow2_p36/lib/python3.6/site-packages (from gensim) (1.18.5)\n",
      "Requirement already satisfied: dataclasses in /home/ec2-user/anaconda3/envs/amazonei_tensorflow2_p36/lib/python3.6/site-packages (from gensim) (0.8)\n"
     ]
    }
   ],
   "source": [
    "!pip install gensim"
   ]
  },
  {
   "cell_type": "code",
   "execution_count": 33,
   "id": "c0835267",
   "metadata": {},
   "outputs": [],
   "source": [
    "import gensim.downloader as api"
   ]
  },
  {
   "cell_type": "code",
   "execution_count": 35,
   "id": "418855dd",
   "metadata": {},
   "outputs": [
    {
     "name": "stdout",
     "output_type": "stream",
     "text": [
      "[================================================--] 97.6% 1622.5/1662.8MB downloaded"
     ]
    }
   ],
   "source": [
    "w2v_embeddings = api.load('word2vec-google-news-300')"
   ]
  },
  {
   "cell_type": "code",
   "execution_count": 45,
   "id": "37fb2a71",
   "metadata": {},
   "outputs": [],
   "source": [
    "def build_embeddings(vocab, word_vectors, embed_dim):\n",
    "    emb_matrix = np.zeros(shape=(len(vocab)+ 1 , embed_dim), dtype='float32')\n",
    "    count = 0\n",
    "    for word, i in vocab.items():\n",
    "        try:\n",
    "            emb_matrix[i, :] = word_vectors.get_vector(word)\n",
    "        except:\n",
    "            count += 1\n",
    "            emb_matrix[i, :] = np.random.uniform(-0.1, 0.1, embed_dim)\n",
    "    print('glove embedding out of vocabulary：', count)\n",
    "    return emb_matrix\n"
   ]
  },
  {
   "cell_type": "code",
   "execution_count": 46,
   "id": "bb29a6d9",
   "metadata": {},
   "outputs": [
    {
     "name": "stdout",
     "output_type": "stream",
     "text": [
      "glove embedding out of vocabulary： 22\n"
     ]
    }
   ],
   "source": [
    "w2v_embeddings = build_embeddings(vocab, w2v_embeddings, 300)"
   ]
  },
  {
   "cell_type": "markdown",
   "id": "4f2a0d97",
   "metadata": {},
   "source": [
    "### building model"
   ]
  },
  {
   "cell_type": "code",
   "execution_count": 105,
   "id": "cb7d4c01",
   "metadata": {},
   "outputs": [],
   "source": [
    "class LSTMDecoder(tf.keras.Model):\n",
    "    def __init__(self, max_tokens, lstm_units, embeddings=None, dim=128):\n",
    "        super(LSTMDecoder, self).__init__()\n",
    "        self.embeddings = tf.keras.layers.Embedding(input_dim=max_tokens+1, output_dim=dim, name='embeddings',\n",
    "                                                   weights=[embeddings])\n",
    "        self.dropout = tf.keras.layers.SpatialDropout1D(0.1)\n",
    "        self.layer_norm = tf.keras.layers.LayerNormalization(epsilon=1e-6, name='layer_normalization')\n",
    "        self.lstm = tf.keras.layers.LSTM(units=lstm_units, return_state=True, name='lstm_decoder')\n",
    "        self.output_dense = tf.keras.layers.Dense(units=max_tokens)\n",
    "        \n",
    "    def call(self, input, features):\n",
    "        embedded = self.dropout(self.embeddings(input))\n",
    "        result_lstm, state_h, state_c = self.lstm(embedded, initial_state=features)\n",
    "        normalized = self.layer_norm(result_lstm)\n",
    "        logits = self.output_dense(normalized)\n",
    "        return logits, [state_h, state_c]"
   ]
  },
  {
   "cell_type": "code",
   "execution_count": 106,
   "id": "7554b1e5",
   "metadata": {},
   "outputs": [],
   "source": [
    "lstm_decoder = LSTMDecoder(len(inverse_vocab), conv_res[0].shape[1], w2v_embeddings, dim=300)"
   ]
  },
  {
   "cell_type": "code",
   "execution_count": 107,
   "id": "3e59b7d1",
   "metadata": {},
   "outputs": [
    {
     "data": {
      "text/plain": [
       "(<tf.Tensor: shape=(1, 2165), dtype=float32, numpy=\n",
       " array([[-0.20875634, -0.12613702,  0.5828515 , ..., -0.26522648,\n",
       "         -0.3224231 ,  0.620824  ]], dtype=float32)>,\n",
       " [<tf.Tensor: shape=(1, 256), dtype=float32, numpy=\n",
       "  array([[ 2.99951178e-03, -1.77181140e-02, -2.55098231e-02,\n",
       "           2.17046421e-02,  3.97079550e-02,  6.50589243e-02,\n",
       "          -2.37859394e-02, -6.65025378e-04,  4.43915464e-03,\n",
       "          -6.23601377e-02, -2.38624867e-02,  4.40784320e-02,\n",
       "           2.67916918e-02, -6.37600869e-02,  9.63066064e-04,\n",
       "          -2.41358951e-02, -5.66397086e-02, -1.51813952e-02,\n",
       "          -3.27920131e-02,  1.40118478e-02, -9.64830630e-03,\n",
       "           6.89840168e-02, -4.33490388e-02,  4.21012938e-02,\n",
       "           1.96354985e-02, -1.20948283e-02, -2.90787648e-02,\n",
       "           7.94745702e-03, -4.35594171e-02, -1.33421095e-02,\n",
       "           2.75331400e-02, -1.40970154e-02,  2.23335903e-02,\n",
       "           4.46693338e-02,  1.51427286e-02, -4.59675677e-02,\n",
       "           2.72657839e-03,  4.03401516e-02, -2.24442221e-02,\n",
       "          -1.08130267e-02, -2.45832969e-02,  2.50491370e-02,\n",
       "           2.76429038e-02, -3.87436245e-03,  2.49414891e-02,\n",
       "           7.35962624e-03,  6.75136037e-03, -1.56362839e-02,\n",
       "          -5.06740287e-02,  2.28924528e-02, -4.41150405e-02,\n",
       "          -9.03854519e-03, -1.86487734e-02, -3.29334773e-02,\n",
       "           1.20945713e-02,  4.16344441e-02, -1.30876312e-02,\n",
       "          -6.98708091e-03, -4.06069532e-02,  1.22464504e-02,\n",
       "           2.80048493e-02, -1.26089863e-02, -2.18009460e-03,\n",
       "          -2.10514199e-02,  8.17403942e-03, -3.19471508e-02,\n",
       "           3.60267609e-02, -4.10085395e-02, -3.83107886e-02,\n",
       "           5.26440330e-02, -3.37079866e-03, -2.54154913e-02,\n",
       "           1.78916957e-02, -1.85358543e-02,  3.02833132e-03,\n",
       "          -5.00767380e-02,  5.42491935e-02, -1.71485189e-02,\n",
       "          -1.28805274e-02, -1.41239436e-02,  4.15492877e-02,\n",
       "          -3.22433450e-04,  1.68752521e-02,  3.95119414e-02,\n",
       "           1.04901874e-02, -1.43876355e-02,  3.54129672e-02,\n",
       "          -3.88403796e-02, -2.49637309e-02,  2.02483553e-02,\n",
       "           7.62805529e-03, -3.39750610e-02,  3.84038985e-02,\n",
       "          -1.61798690e-02,  6.11547530e-02, -1.19545860e-02,\n",
       "          -1.28710065e-02,  7.00461958e-03, -5.70294075e-03,\n",
       "          -1.05918078e-02,  4.83375899e-02, -2.64714435e-02,\n",
       "          -2.96843052e-02, -3.72819379e-02, -2.09236678e-04,\n",
       "           1.31356353e-02, -1.15217678e-02, -4.35823537e-02,\n",
       "          -3.30727063e-02,  3.38500999e-02,  3.94087769e-02,\n",
       "          -4.95459661e-02,  1.20159695e-02, -1.25108417e-02,\n",
       "           2.06030793e-02, -4.51511983e-03,  3.87113877e-02,\n",
       "          -2.92674601e-02,  1.90512780e-02, -3.90606709e-02,\n",
       "           2.91735213e-02, -1.60929300e-02,  3.33918035e-02,\n",
       "          -4.17487174e-02,  5.45779690e-02,  2.09926181e-02,\n",
       "           6.55357772e-03, -1.32979592e-02,  2.65998244e-02,\n",
       "          -4.71944846e-02,  3.14462706e-02,  2.83198729e-02,\n",
       "          -7.87539594e-03, -6.42584916e-03,  4.94529903e-02,\n",
       "          -1.22998958e-03,  4.03135233e-02,  6.50695190e-02,\n",
       "           4.07858519e-03,  8.02624039e-03, -1.92921180e-02,\n",
       "           3.08637135e-02, -5.46325818e-02,  1.35624288e-02,\n",
       "          -1.11144157e-02, -2.20831763e-03, -5.44152185e-02,\n",
       "           2.57877894e-02, -3.28665483e-03, -6.60018846e-02,\n",
       "           1.19112562e-02,  2.11517736e-02,  1.86307146e-03,\n",
       "           7.38423616e-02, -3.91163072e-03,  4.79250588e-02,\n",
       "           7.08778249e-03,  3.71979773e-02,  1.75841514e-03,\n",
       "           5.86234778e-03, -1.91967897e-02, -8.07264820e-03,\n",
       "           2.58260197e-03, -2.95315944e-02, -1.45295244e-02,\n",
       "          -4.45820112e-03, -1.56887854e-05,  2.15707831e-02,\n",
       "          -3.33697610e-02,  3.40218619e-02,  1.42583558e-02,\n",
       "           4.53039110e-02,  2.21319813e-02,  4.14286554e-02,\n",
       "          -6.53450703e-03, -4.44863923e-03,  4.71441746e-02,\n",
       "           1.85433570e-02, -4.62012738e-03,  5.29319979e-02,\n",
       "           1.33698983e-02, -3.38298790e-02,  3.12085729e-02,\n",
       "           3.04949358e-02, -5.26213497e-02,  2.65336167e-02,\n",
       "          -3.05064153e-02,  7.04519916e-03, -3.73410918e-02,\n",
       "           3.89845185e-02, -1.35177495e-02, -1.78898517e-02,\n",
       "          -3.82653065e-02,  1.87391359e-02,  3.07830293e-02,\n",
       "           4.03540628e-03,  6.52617589e-02,  1.61972996e-02,\n",
       "          -3.08546778e-02,  4.28600237e-02,  2.22031716e-02,\n",
       "           6.39524758e-02, -2.81652100e-02,  1.43145109e-02,\n",
       "           8.66330881e-03,  1.71721596e-02, -3.68062444e-02,\n",
       "           1.44781554e-02, -2.92066727e-02,  2.91557945e-02,\n",
       "           5.26685640e-02,  1.28034605e-02,  6.08779304e-02,\n",
       "          -4.17325646e-02, -1.92920640e-02,  3.12670022e-02,\n",
       "           2.64337938e-02,  6.92060143e-02, -2.09594760e-02,\n",
       "          -2.37055751e-03,  1.53401541e-02, -7.25888764e-04,\n",
       "           1.85533203e-02,  2.31156796e-02, -3.08408160e-02,\n",
       "           4.67705131e-02, -1.39678884e-02, -2.84752641e-02,\n",
       "           2.00132336e-02, -4.66829687e-02, -1.72275826e-02,\n",
       "          -1.85215380e-02, -1.96319935e-03,  5.04359566e-02,\n",
       "          -2.12288573e-02,  3.45835797e-02, -3.92723158e-02,\n",
       "           5.48310168e-02,  1.37124292e-03,  1.74968108e-03,\n",
       "           4.24294546e-02, -5.42476820e-03, -1.58501565e-02,\n",
       "           1.70102547e-04, -2.05950364e-02, -1.99726708e-02,\n",
       "          -9.50285327e-03,  6.23291777e-03, -2.21983939e-02,\n",
       "           2.30207061e-03,  8.95599369e-03, -4.40007215e-03,\n",
       "           4.19326127e-02, -1.50348460e-02,  1.59759994e-03,\n",
       "          -4.19444144e-02]], dtype=float32)>,\n",
       "  <tf.Tensor: shape=(1, 256), dtype=float32, numpy=\n",
       "  array([[ 5.92843210e-03, -3.55353430e-02, -4.94863838e-02,\n",
       "           4.36528698e-02,  7.97519386e-02,  1.31740287e-01,\n",
       "          -4.82970700e-02, -1.35620672e-03,  8.85012746e-03,\n",
       "          -1.22957513e-01, -4.74985652e-02,  8.63638222e-02,\n",
       "           5.51310256e-02, -1.23941213e-01,  1.91630505e-03,\n",
       "          -4.92874533e-02, -1.12357520e-01, -3.12923975e-02,\n",
       "          -6.75237551e-02,  2.82721240e-02, -1.98232383e-02,\n",
       "           1.32446632e-01, -8.65877569e-02,  8.47555771e-02,\n",
       "           3.96337993e-02, -2.43888386e-02, -5.71894199e-02,\n",
       "           1.56338103e-02, -8.92593488e-02, -2.67349575e-02,\n",
       "           5.64869680e-02, -2.82123424e-02,  4.55877557e-02,\n",
       "           9.04969350e-02,  3.13113742e-02, -8.79733190e-02,\n",
       "           5.30270673e-03,  7.95975849e-02, -4.45729308e-02,\n",
       "          -2.23486479e-02, -4.80854027e-02,  5.02258427e-02,\n",
       "           5.62805347e-02, -7.84848165e-03,  5.20454161e-02,\n",
       "           1.45390034e-02,  1.38041331e-02, -3.19498666e-02,\n",
       "          -1.05387539e-01,  4.59466204e-02, -8.84162262e-02,\n",
       "          -1.79431215e-02, -3.71353887e-02, -6.57702759e-02,\n",
       "           2.38407627e-02,  8.21006671e-02, -2.57935524e-02,\n",
       "          -1.37363523e-02, -7.95010105e-02,  2.43767612e-02,\n",
       "           5.65018877e-02, -2.44466159e-02, -4.36860882e-03,\n",
       "          -4.32255976e-02,  1.66098326e-02, -6.31838739e-02,\n",
       "           7.24603459e-02, -8.47789571e-02, -7.72875175e-02,\n",
       "           1.05259202e-01, -6.90724980e-03, -5.31598628e-02,\n",
       "           3.63728255e-02, -3.72939669e-02,  6.21239375e-03,\n",
       "          -1.00002736e-01,  1.11601628e-01, -3.38724777e-02,\n",
       "          -2.63972338e-02, -2.89797075e-02,  8.33648220e-02,\n",
       "          -6.55705167e-04,  3.40979658e-02,  7.78650120e-02,\n",
       "           2.11967155e-02, -2.80490834e-02,  6.99936822e-02,\n",
       "          -7.57981315e-02, -5.01455106e-02,  4.09882814e-02,\n",
       "           1.47992568e-02, -6.57517016e-02,  7.92013332e-02,\n",
       "          -3.24199535e-02,  1.22498214e-01, -2.48623881e-02,\n",
       "          -2.61387303e-02,  1.37215042e-02, -1.15310568e-02,\n",
       "          -2.18554474e-02,  9.57103074e-02, -5.10547273e-02,\n",
       "          -6.05483316e-02, -7.33303949e-02, -4.14802926e-04,\n",
       "           2.61646025e-02, -2.20702011e-02, -8.42258409e-02,\n",
       "          -6.82729110e-02,  6.84628561e-02,  7.70962015e-02,\n",
       "          -9.63409841e-02,  2.34450679e-02, -2.46342290e-02,\n",
       "           4.19874825e-02, -8.95985123e-03,  7.86793455e-02,\n",
       "          -5.66279329e-02,  3.77685428e-02, -7.64625221e-02,\n",
       "           5.87922446e-02, -3.16970237e-02,  6.79854974e-02,\n",
       "          -8.30517039e-02,  1.06112190e-01,  4.22140472e-02,\n",
       "           1.27049722e-02, -2.62042619e-02,  5.30380830e-02,\n",
       "          -9.52091664e-02,  6.46980032e-02,  5.56688793e-02,\n",
       "          -1.60663221e-02, -1.30715305e-02,  9.87867787e-02,\n",
       "          -2.49662483e-03,  8.06659535e-02,  1.29351556e-01,\n",
       "           7.96845183e-03,  1.59411468e-02, -3.73089500e-02,\n",
       "           6.25075847e-02, -1.06768198e-01,  2.71705631e-02,\n",
       "          -2.21246053e-02, -4.45578387e-03, -1.10449530e-01,\n",
       "           5.22756279e-02, -6.33146847e-03, -1.34319663e-01,\n",
       "           2.37486213e-02,  4.14688475e-02,  3.71249416e-03,\n",
       "           1.55955777e-01, -7.83081912e-03,  9.78217050e-02,\n",
       "           1.41365863e-02,  7.33761936e-02,  3.49532743e-03,\n",
       "           1.19603416e-02, -3.74679416e-02, -1.61098652e-02,\n",
       "           5.16169239e-03, -6.06431663e-02, -2.78120209e-02,\n",
       "          -8.69926717e-03, -3.11911281e-05,  4.44764830e-02,\n",
       "          -6.74671829e-02,  6.52515516e-02,  2.78832316e-02,\n",
       "           8.94532129e-02,  4.27404605e-02,  8.61879662e-02,\n",
       "          -1.29710762e-02, -8.86167865e-03,  9.54925939e-02,\n",
       "           3.74526642e-02, -9.08266008e-03,  1.04371868e-01,\n",
       "           2.67638583e-02, -6.65772855e-02,  6.23534843e-02,\n",
       "           6.07209392e-02, -1.06439464e-01,  5.37175462e-02,\n",
       "          -6.25813082e-02,  1.38977636e-02, -7.37032816e-02,\n",
       "           7.86957145e-02, -2.67612711e-02, -3.60482372e-02,\n",
       "          -7.96939582e-02,  3.82161252e-02,  6.06420711e-02,\n",
       "           7.76101090e-03,  1.35582283e-01,  3.28930654e-02,\n",
       "          -6.18085116e-02,  8.50447267e-02,  4.34010737e-02,\n",
       "           1.28556341e-01, -5.56053221e-02,  2.85491329e-02,\n",
       "           1.80094261e-02,  3.39671038e-02, -7.43491873e-02,\n",
       "           2.92695072e-02, -5.58456741e-02,  5.89516535e-02,\n",
       "           1.02450617e-01,  2.53926460e-02,  1.24929398e-01,\n",
       "          -8.44563916e-02, -3.69329043e-02,  6.28343076e-02,\n",
       "           5.16830646e-02,  1.38875753e-01, -4.03580628e-02,\n",
       "          -4.63077798e-03,  3.11273113e-02, -1.41396420e-03,\n",
       "           3.75767834e-02,  4.57018241e-02, -6.21310323e-02,\n",
       "           9.11298916e-02, -2.89061684e-02, -5.80511801e-02,\n",
       "           3.96377295e-02, -9.34528708e-02, -3.55014615e-02,\n",
       "          -3.64808775e-02, -3.89098353e-03,  9.81578603e-02,\n",
       "          -4.24512103e-02,  6.76252842e-02, -7.76226446e-02,\n",
       "           1.08795755e-01,  2.70017190e-03,  3.41946189e-03,\n",
       "           8.45339000e-02, -1.10652791e-02, -3.06675397e-02,\n",
       "           3.35387740e-04, -4.17328328e-02, -3.87434103e-02,\n",
       "          -1.89894661e-02,  1.27420910e-02, -4.34193425e-02,\n",
       "           4.62491717e-03,  1.74601153e-02, -9.14447848e-03,\n",
       "           8.22822675e-02, -3.01418379e-02,  3.17206769e-03,\n",
       "          -8.75849575e-02]], dtype=float32)>])"
      ]
     },
     "execution_count": 107,
     "metadata": {},
     "output_type": "execute_result"
    }
   ],
   "source": [
    "lstm_decoder(np.expand_dims(padded[0],axis=0), conv_res)"
   ]
  },
  {
   "cell_type": "markdown",
   "id": "96970173",
   "metadata": {},
   "source": [
    "### Training"
   ]
  },
  {
   "cell_type": "code",
   "execution_count": 108,
   "id": "03d91de8",
   "metadata": {},
   "outputs": [],
   "source": [
    "from sklearn.model_selection import train_test_split"
   ]
  },
  {
   "cell_type": "code",
   "execution_count": 109,
   "id": "e918c0d4",
   "metadata": {},
   "outputs": [],
   "source": [
    "loss_object = tf.keras.losses.SparseCategoricalCrossentropy(reduction='none',\n",
    "                                                                         from_logits=True)\n",
    "optimizer = tf.keras.optimizers.Adam(learning_rate=1e-4)\n"
   ]
  },
  {
   "cell_type": "code",
   "execution_count": 110,
   "id": "0b962ebe",
   "metadata": {},
   "outputs": [],
   "source": [
    "def loss_function(real, pred):\n",
    "        mask = tf.math.logical_not(tf.math.equal(real, vocab[pad_token]))\n",
    "        loss_ = loss_object(real, pred)\n",
    "\n",
    "        mask = tf.cast(mask, dtype=loss_.dtype)\n",
    "        loss_ *= mask\n",
    "        return loss_"
   ]
  },
  {
   "cell_type": "code",
   "execution_count": 111,
   "id": "a9e43217",
   "metadata": {},
   "outputs": [],
   "source": [
    "@tf.function\n",
    "def train_step(image, target, lengths, optimizer):\n",
    "\n",
    "    with tf.GradientTape() as tape:\n",
    "        initial_state = conv_encoder(image)\n",
    "        # Teacher forcing - feeding the target as the next input\n",
    "        batched_loss = []\n",
    "        for t in range(1, target.shape[1]):\n",
    "            \n",
    "            dec_input = tf.expand_dims(target[:, t-1], 1)\n",
    "            result, initial_state = lstm_decoder(input=dec_input, features=initial_state)\n",
    "\n",
    "            batched_loss.append(loss_function(target[:, t], result))\n",
    "        batched_loss = tf.reshape(tf.stack(batched_loss), shape=target[:,1:].shape)\n",
    "        batched_loss = tf.reduce_sum(batched_loss, axis=1)\n",
    "        lengths = tf.cast(lengths, dtype=batched_loss.dtype)\n",
    "        loss = tf.reduce_mean(batched_loss / lengths)\n",
    "\n",
    "    perplexity = tf.exp(loss)\n",
    "\n",
    "    variables = conv_encoder.trainable_variables + lstm_decoder.trainable_variables\n",
    "    gradients = tape.gradient(loss, variables)\n",
    "\n",
    "    optimizer.apply_gradients(zip(gradients, variables))\n",
    "\n",
    "    return loss, perplexity"
   ]
  },
  {
   "cell_type": "code",
   "execution_count": 112,
   "id": "ef688e06",
   "metadata": {},
   "outputs": [],
   "source": [
    "@tf.function\n",
    "def evaluate(image, target, lengths, optimizer):\n",
    "\n",
    "    initial_state = conv_encoder(image)\n",
    "    # Teacher forcing - feeding the target as the next input\n",
    "    batched_loss = []\n",
    "    for t in range(1, target.shape[1]):\n",
    "\n",
    "        dec_input = tf.expand_dims(target[:, t-1], 1)\n",
    "        result, initial_state = lstm_decoder(input=dec_input, features=initial_state)\n",
    "\n",
    "        batched_loss.append(loss_function(target[:, t], result))\n",
    "\n",
    "    batched_loss = tf.reshape(tf.stack(batched_loss), shape=target[:,1:].shape)\n",
    "    batched_loss = tf.reduce_sum(batched_loss, axis=1)\n",
    "    lengths = tf.cast(lengths, dtype=batched_loss.dtype)\n",
    "    loss = tf.reduce_mean(batched_loss / lengths)\n",
    "\n",
    "    perplexity = tf.exp(loss)\n",
    "\n",
    "\n",
    "    return loss, perplexity"
   ]
  },
  {
   "cell_type": "code",
   "execution_count": 113,
   "id": "9249acf0",
   "metadata": {},
   "outputs": [],
   "source": [
    "train_images, test_images, train_sequences, test_sequences =  train_test_split(images, padded, test_size=0.1, random_state=9)"
   ]
  },
  {
   "cell_type": "code",
   "execution_count": 114,
   "id": "3fc04fb1",
   "metadata": {},
   "outputs": [],
   "source": [
    "train_length = (train_sequences!=vocab[pad_token]).sum(axis=1)-2"
   ]
  },
  {
   "cell_type": "code",
   "execution_count": 115,
   "id": "ae655045",
   "metadata": {},
   "outputs": [],
   "source": [
    "test_length = (test_sequences!=vocab[pad_token]).sum(axis=1)-2"
   ]
  },
  {
   "cell_type": "code",
   "execution_count": 116,
   "id": "db1474d1",
   "metadata": {},
   "outputs": [],
   "source": [
    "epochs = 30\n",
    "batch_size= 64\n",
    "train_images = np.array(np.array_split(train_images, len(train_images)//batch_size))\n",
    "test_images = np.array(np.array_split(test_images, len(test_images)//batch_size))\n",
    "train_sequences = np.array(np.array_split(train_sequences, len(train_sequences)//batch_size))\n",
    "test_sequences = np.array(np.array_split(test_sequences, len(test_sequences)//batch_size))\n",
    "train_length = np.array(np.array_split(train_length, len(train_length)//batch_size))\n",
    "test_length = np.array(np.array_split(test_length, len(test_length)//batch_size))"
   ]
  },
  {
   "cell_type": "code",
   "execution_count": 117,
   "id": "abb53ffd",
   "metadata": {},
   "outputs": [
    {
     "data": {
      "text/plain": [
       "((54, 64, 224, 224, 3), (54, 64, 37), (54, 64))"
      ]
     },
     "execution_count": 117,
     "metadata": {},
     "output_type": "execute_result"
    }
   ],
   "source": [
    "train_images.shape, train_sequences.shape, train_length.shape"
   ]
  },
  {
   "cell_type": "code",
   "execution_count": 118,
   "id": "ae8d8154",
   "metadata": {},
   "outputs": [
    {
     "name": "stdout",
     "output_type": "stream",
     "text": [
      "Requirement already satisfied: tqdm in /home/ec2-user/anaconda3/envs/amazonei_tensorflow2_p36/lib/python3.6/site-packages (4.61.1)\n"
     ]
    }
   ],
   "source": [
    "!pip install tqdm"
   ]
  },
  {
   "cell_type": "code",
   "execution_count": 119,
   "id": "71a84584",
   "metadata": {},
   "outputs": [],
   "source": [
    "from tqdm import tqdm"
   ]
  },
  {
   "cell_type": "code",
   "execution_count": 120,
   "id": "c0dedc42",
   "metadata": {},
   "outputs": [
    {
     "name": "stderr",
     "output_type": "stream",
     "text": [
      "54it [01:43,  1.91s/it]\n"
     ]
    },
    {
     "name": "stdout",
     "output_type": "stream",
     "text": [
      "Finished epoch 0; Train loss : 7.309874057769775; Train perplexity : 10257.3720703125\n"
     ]
    },
    {
     "name": "stderr",
     "output_type": "stream",
     "text": [
      "0it [00:00, ?it/s]"
     ]
    },
    {
     "name": "stdout",
     "output_type": "stream",
     "text": [
      "Test loss : 0.6760071516036987; Test perplexity : 140.18861389160156\n"
     ]
    },
    {
     "name": "stderr",
     "output_type": "stream",
     "text": [
      "54it [00:48,  1.11it/s]\n"
     ]
    },
    {
     "name": "stdout",
     "output_type": "stream",
     "text": [
      "Finished epoch 1; Train loss : 5.524888038635254; Train perplexity : 701.1524658203125\n"
     ]
    },
    {
     "name": "stderr",
     "output_type": "stream",
     "text": [
      "0it [00:00, ?it/s]"
     ]
    },
    {
     "name": "stdout",
     "output_type": "stream",
     "text": [
      "Test loss : 0.5589247941970825; Test perplexity : 39.397220611572266\n"
     ]
    },
    {
     "name": "stderr",
     "output_type": "stream",
     "text": [
      "54it [00:48,  1.11it/s]\n"
     ]
    },
    {
     "name": "stdout",
     "output_type": "stream",
     "text": [
      "Finished epoch 2; Train loss : 4.784228801727295; Train perplexity : 269.6246643066406\n"
     ]
    },
    {
     "name": "stderr",
     "output_type": "stream",
     "text": [
      "0it [00:00, ?it/s]"
     ]
    },
    {
     "name": "stdout",
     "output_type": "stream",
     "text": [
      "Test loss : 0.5036327242851257; Test perplexity : 21.692401885986328\n"
     ]
    },
    {
     "name": "stderr",
     "output_type": "stream",
     "text": [
      "54it [00:48,  1.10it/s]\n"
     ]
    },
    {
     "name": "stdout",
     "output_type": "stream",
     "text": [
      "Finished epoch 3; Train loss : 4.367570877075195; Train perplexity : 162.0404510498047\n"
     ]
    },
    {
     "name": "stderr",
     "output_type": "stream",
     "text": [
      "0it [00:00, ?it/s]"
     ]
    },
    {
     "name": "stdout",
     "output_type": "stream",
     "text": [
      "Test loss : 0.46781420707702637; Test perplexity : 14.73385238647461\n"
     ]
    },
    {
     "name": "stderr",
     "output_type": "stream",
     "text": [
      "54it [00:48,  1.11it/s]\n"
     ]
    },
    {
     "name": "stdout",
     "output_type": "stream",
     "text": [
      "Finished epoch 4; Train loss : 4.064328670501709; Train perplexity : 112.39606475830078\n"
     ]
    },
    {
     "name": "stderr",
     "output_type": "stream",
     "text": [
      "0it [00:00, ?it/s]"
     ]
    },
    {
     "name": "stdout",
     "output_type": "stream",
     "text": [
      "Test loss : 0.4417506158351898; Test perplexity : 11.114362716674805\n"
     ]
    },
    {
     "name": "stderr",
     "output_type": "stream",
     "text": [
      "54it [00:48,  1.11it/s]\n"
     ]
    },
    {
     "name": "stdout",
     "output_type": "stream",
     "text": [
      "Finished epoch 5; Train loss : 3.8222978115081787; Train perplexity : 83.98272705078125\n"
     ]
    },
    {
     "name": "stderr",
     "output_type": "stream",
     "text": [
      "0it [00:00, ?it/s]"
     ]
    },
    {
     "name": "stdout",
     "output_type": "stream",
     "text": [
      "Test loss : 0.4199855327606201; Test perplexity : 8.778703689575195\n"
     ]
    },
    {
     "name": "stderr",
     "output_type": "stream",
     "text": [
      "54it [00:48,  1.11it/s]\n"
     ]
    },
    {
     "name": "stdout",
     "output_type": "stream",
     "text": [
      "Finished epoch 6; Train loss : 3.622882843017578; Train perplexity : 66.03278350830078\n"
     ]
    },
    {
     "name": "stderr",
     "output_type": "stream",
     "text": [
      "0it [00:00, ?it/s]"
     ]
    },
    {
     "name": "stdout",
     "output_type": "stream",
     "text": [
      "Test loss : 0.4026850163936615; Test perplexity : 7.279776573181152\n"
     ]
    },
    {
     "name": "stderr",
     "output_type": "stream",
     "text": [
      "54it [00:48,  1.11it/s]\n"
     ]
    },
    {
     "name": "stdout",
     "output_type": "stream",
     "text": [
      "Finished epoch 7; Train loss : 3.4535317420959473; Train perplexity : 53.770362854003906\n"
     ]
    },
    {
     "name": "stderr",
     "output_type": "stream",
     "text": [
      "0it [00:00, ?it/s]"
     ]
    },
    {
     "name": "stdout",
     "output_type": "stream",
     "text": [
      "Test loss : 0.38891151547431946; Test perplexity : 6.273582935333252\n"
     ]
    },
    {
     "name": "stderr",
     "output_type": "stream",
     "text": [
      "54it [00:48,  1.11it/s]\n"
     ]
    },
    {
     "name": "stdout",
     "output_type": "stream",
     "text": [
      "Finished epoch 8; Train loss : 3.3086936473846436; Train perplexity : 45.0804557800293\n"
     ]
    },
    {
     "name": "stderr",
     "output_type": "stream",
     "text": [
      "0it [00:00, ?it/s]"
     ]
    },
    {
     "name": "stdout",
     "output_type": "stream",
     "text": [
      "Test loss : 0.37810295820236206; Test perplexity : 5.584174156188965\n"
     ]
    },
    {
     "name": "stderr",
     "output_type": "stream",
     "text": [
      "54it [00:49,  1.09it/s]\n"
     ]
    },
    {
     "name": "stdout",
     "output_type": "stream",
     "text": [
      "Finished epoch 9; Train loss : 3.1814146041870117; Train perplexity : 38.61697769165039\n"
     ]
    },
    {
     "name": "stderr",
     "output_type": "stream",
     "text": [
      "0it [00:00, ?it/s]"
     ]
    },
    {
     "name": "stdout",
     "output_type": "stream",
     "text": [
      "Test loss : 0.3690558075904846; Test perplexity : 5.064923286437988\n"
     ]
    },
    {
     "name": "stderr",
     "output_type": "stream",
     "text": [
      "54it [00:48,  1.10it/s]\n"
     ]
    },
    {
     "name": "stdout",
     "output_type": "stream",
     "text": [
      "Finished epoch 10; Train loss : 3.0652220249176025; Train perplexity : 33.512351989746094\n"
     ]
    },
    {
     "name": "stderr",
     "output_type": "stream",
     "text": [
      "0it [00:00, ?it/s]"
     ]
    },
    {
     "name": "stdout",
     "output_type": "stream",
     "text": [
      "Test loss : 0.3657762110233307; Test perplexity : 4.883938789367676\n"
     ]
    },
    {
     "name": "stderr",
     "output_type": "stream",
     "text": [
      "54it [00:49,  1.10it/s]\n"
     ]
    },
    {
     "name": "stdout",
     "output_type": "stream",
     "text": [
      "Finished epoch 11; Train loss : 2.9882876873016357; Train perplexity : 30.536861419677734\n"
     ]
    },
    {
     "name": "stderr",
     "output_type": "stream",
     "text": [
      "0it [00:00, ?it/s]"
     ]
    },
    {
     "name": "stdout",
     "output_type": "stream",
     "text": [
      "Test loss : 0.3564532995223999; Test perplexity : 4.415975093841553\n"
     ]
    },
    {
     "name": "stderr",
     "output_type": "stream",
     "text": [
      "54it [00:48,  1.11it/s]\n"
     ]
    },
    {
     "name": "stdout",
     "output_type": "stream",
     "text": [
      "Finished epoch 12; Train loss : 2.8944644927978516; Train perplexity : 27.233449935913086\n"
     ]
    },
    {
     "name": "stderr",
     "output_type": "stream",
     "text": [
      "0it [00:00, ?it/s]"
     ]
    },
    {
     "name": "stdout",
     "output_type": "stream",
     "text": [
      "Test loss : 0.35203272104263306; Test perplexity : 4.21450138092041\n"
     ]
    },
    {
     "name": "stderr",
     "output_type": "stream",
     "text": [
      "54it [00:49,  1.09it/s]\n"
     ]
    },
    {
     "name": "stdout",
     "output_type": "stream",
     "text": [
      "Finished epoch 13; Train loss : 2.80708384513855; Train perplexity : 24.46759605407715\n"
     ]
    },
    {
     "name": "stderr",
     "output_type": "stream",
     "text": [
      "0it [00:00, ?it/s]"
     ]
    },
    {
     "name": "stdout",
     "output_type": "stream",
     "text": [
      "Test loss : 0.3489188849925995; Test perplexity : 4.0754194259643555\n"
     ]
    },
    {
     "name": "stderr",
     "output_type": "stream",
     "text": [
      "54it [00:48,  1.11it/s]\n"
     ]
    },
    {
     "name": "stdout",
     "output_type": "stream",
     "text": [
      "Finished epoch 14; Train loss : 2.7384588718414307; Train perplexity : 22.533815383911133\n"
     ]
    },
    {
     "name": "stderr",
     "output_type": "stream",
     "text": [
      "0it [00:00, ?it/s]"
     ]
    },
    {
     "name": "stdout",
     "output_type": "stream",
     "text": [
      "Test loss : 0.34604278206825256; Test perplexity : 3.94573974609375\n"
     ]
    },
    {
     "name": "stderr",
     "output_type": "stream",
     "text": [
      "54it [00:49,  1.10it/s]\n"
     ]
    },
    {
     "name": "stdout",
     "output_type": "stream",
     "text": [
      "Finished epoch 15; Train loss : 2.6827759742736816; Train perplexity : 21.002517700195312\n"
     ]
    },
    {
     "name": "stderr",
     "output_type": "stream",
     "text": [
      "0it [00:00, ?it/s]"
     ]
    },
    {
     "name": "stdout",
     "output_type": "stream",
     "text": [
      "Test loss : 0.34435540437698364; Test perplexity : 3.8821070194244385\n"
     ]
    },
    {
     "name": "stderr",
     "output_type": "stream",
     "text": [
      "54it [00:50,  1.08it/s]\n"
     ]
    },
    {
     "name": "stdout",
     "output_type": "stream",
     "text": [
      "Finished epoch 16; Train loss : 2.6478822231292725; Train perplexity : 20.1877498626709\n"
     ]
    },
    {
     "name": "stderr",
     "output_type": "stream",
     "text": [
      "0it [00:00, ?it/s]"
     ]
    },
    {
     "name": "stdout",
     "output_type": "stream",
     "text": [
      "Test loss : 0.34048599004745483; Test perplexity : 3.7194902896881104\n"
     ]
    },
    {
     "name": "stderr",
     "output_type": "stream",
     "text": [
      "54it [00:49,  1.09it/s]\n"
     ]
    },
    {
     "name": "stdout",
     "output_type": "stream",
     "text": [
      "Finished epoch 17; Train loss : 2.5875484943389893; Train perplexity : 18.75516700744629\n"
     ]
    },
    {
     "name": "stderr",
     "output_type": "stream",
     "text": [
      "0it [00:00, ?it/s]"
     ]
    },
    {
     "name": "stdout",
     "output_type": "stream",
     "text": [
      "Test loss : 0.33844107389450073; Test perplexity : 3.636171579360962\n"
     ]
    },
    {
     "name": "stderr",
     "output_type": "stream",
     "text": [
      "54it [00:48,  1.11it/s]\n"
     ]
    },
    {
     "name": "stdout",
     "output_type": "stream",
     "text": [
      "Finished epoch 18; Train loss : 2.540431261062622; Train perplexity : 17.680221557617188\n"
     ]
    },
    {
     "name": "stderr",
     "output_type": "stream",
     "text": [
      "0it [00:00, ?it/s]"
     ]
    },
    {
     "name": "stdout",
     "output_type": "stream",
     "text": [
      "Test loss : 0.3388529121875763; Test perplexity : 3.6520047187805176\n"
     ]
    },
    {
     "name": "stderr",
     "output_type": "stream",
     "text": [
      "54it [00:48,  1.11it/s]\n"
     ]
    },
    {
     "name": "stdout",
     "output_type": "stream",
     "text": [
      "Finished epoch 19; Train loss : 2.490946054458618; Train perplexity : 16.64523696899414\n"
     ]
    },
    {
     "name": "stderr",
     "output_type": "stream",
     "text": [
      "0it [00:00, ?it/s]"
     ]
    },
    {
     "name": "stdout",
     "output_type": "stream",
     "text": [
      "Test loss : 0.33705466985702515; Test perplexity : 3.5806756019592285\n"
     ]
    },
    {
     "name": "stderr",
     "output_type": "stream",
     "text": [
      "54it [00:48,  1.11it/s]\n"
     ]
    },
    {
     "name": "stdout",
     "output_type": "stream",
     "text": [
      "Finished epoch 20; Train loss : 2.4296844005584717; Train perplexity : 15.44651985168457\n"
     ]
    },
    {
     "name": "stderr",
     "output_type": "stream",
     "text": [
      "0it [00:00, ?it/s]"
     ]
    },
    {
     "name": "stdout",
     "output_type": "stream",
     "text": [
      "Test loss : 0.3364376723766327; Test perplexity : 3.5504400730133057\n"
     ]
    },
    {
     "name": "stderr",
     "output_type": "stream",
     "text": [
      "54it [00:49,  1.10it/s]\n"
     ]
    },
    {
     "name": "stdout",
     "output_type": "stream",
     "text": [
      "Finished epoch 21; Train loss : 2.3807425498962402; Train perplexity : 14.552839279174805\n"
     ]
    },
    {
     "name": "stderr",
     "output_type": "stream",
     "text": [
      "0it [00:00, ?it/s]"
     ]
    },
    {
     "name": "stdout",
     "output_type": "stream",
     "text": [
      "Test loss : 0.3370898365974426; Test perplexity : 3.5750160217285156\n"
     ]
    },
    {
     "name": "stderr",
     "output_type": "stream",
     "text": [
      "54it [00:48,  1.11it/s]\n"
     ]
    },
    {
     "name": "stdout",
     "output_type": "stream",
     "text": [
      "Finished epoch 22; Train loss : 2.326982021331787; Train perplexity : 13.639692306518555\n"
     ]
    },
    {
     "name": "stderr",
     "output_type": "stream",
     "text": [
      "0it [00:00, ?it/s]"
     ]
    },
    {
     "name": "stdout",
     "output_type": "stream",
     "text": [
      "Test loss : 0.33584851026535034; Test perplexity : 3.5320229530334473\n"
     ]
    },
    {
     "name": "stderr",
     "output_type": "stream",
     "text": [
      "54it [00:48,  1.11it/s]\n"
     ]
    },
    {
     "name": "stdout",
     "output_type": "stream",
     "text": [
      "Finished epoch 23; Train loss : 2.2926230430603027; Train perplexity : 13.100852012634277\n"
     ]
    },
    {
     "name": "stderr",
     "output_type": "stream",
     "text": [
      "0it [00:00, ?it/s]"
     ]
    },
    {
     "name": "stdout",
     "output_type": "stream",
     "text": [
      "Test loss : 0.3369288146495819; Test perplexity : 3.5796329975128174\n"
     ]
    },
    {
     "name": "stderr",
     "output_type": "stream",
     "text": [
      "54it [00:48,  1.11it/s]\n"
     ]
    },
    {
     "name": "stdout",
     "output_type": "stream",
     "text": [
      "Finished epoch 24; Train loss : 2.2792563438415527; Train perplexity : 12.891822814941406\n"
     ]
    },
    {
     "name": "stderr",
     "output_type": "stream",
     "text": [
      "0it [00:00, ?it/s]"
     ]
    },
    {
     "name": "stdout",
     "output_type": "stream",
     "text": [
      "Test loss : 0.33936405181884766; Test perplexity : 3.661496639251709\n"
     ]
    },
    {
     "name": "stderr",
     "output_type": "stream",
     "text": [
      "54it [00:48,  1.11it/s]\n"
     ]
    },
    {
     "name": "stdout",
     "output_type": "stream",
     "text": [
      "Finished epoch 25; Train loss : 2.2480545043945312; Train perplexity : 12.394377708435059\n"
     ]
    },
    {
     "name": "stderr",
     "output_type": "stream",
     "text": [
      "0it [00:00, ?it/s]"
     ]
    },
    {
     "name": "stdout",
     "output_type": "stream",
     "text": [
      "Test loss : 0.3326718509197235; Test perplexity : 3.4154105186462402\n"
     ]
    },
    {
     "name": "stderr",
     "output_type": "stream",
     "text": [
      "54it [00:48,  1.11it/s]\n"
     ]
    },
    {
     "name": "stdout",
     "output_type": "stream",
     "text": [
      "Finished epoch 26; Train loss : 2.176668405532837; Train perplexity : 11.375617027282715\n"
     ]
    },
    {
     "name": "stderr",
     "output_type": "stream",
     "text": [
      "0it [00:00, ?it/s]"
     ]
    },
    {
     "name": "stdout",
     "output_type": "stream",
     "text": [
      "Test loss : 0.33388590812683105; Test perplexity : 3.4582998752593994\n"
     ]
    },
    {
     "name": "stderr",
     "output_type": "stream",
     "text": [
      "54it [00:48,  1.11it/s]\n"
     ]
    },
    {
     "name": "stdout",
     "output_type": "stream",
     "text": [
      "Finished epoch 27; Train loss : 2.1115365028381348; Train perplexity : 10.515596389770508\n"
     ]
    },
    {
     "name": "stderr",
     "output_type": "stream",
     "text": [
      "0it [00:00, ?it/s]"
     ]
    },
    {
     "name": "stdout",
     "output_type": "stream",
     "text": [
      "Test loss : 0.33690351247787476; Test perplexity : 3.5736331939697266\n"
     ]
    },
    {
     "name": "stderr",
     "output_type": "stream",
     "text": [
      "54it [00:48,  1.10it/s]\n"
     ]
    },
    {
     "name": "stdout",
     "output_type": "stream",
     "text": [
      "Finished epoch 28; Train loss : 2.0560991764068604; Train perplexity : 9.830327033996582\n"
     ]
    },
    {
     "name": "stderr",
     "output_type": "stream",
     "text": [
      "0it [00:00, ?it/s]"
     ]
    },
    {
     "name": "stdout",
     "output_type": "stream",
     "text": [
      "Test loss : 0.3398571312427521; Test perplexity : 3.690608501434326\n"
     ]
    },
    {
     "name": "stderr",
     "output_type": "stream",
     "text": [
      "54it [00:48,  1.11it/s]\n"
     ]
    },
    {
     "name": "stdout",
     "output_type": "stream",
     "text": [
      "Finished epoch 29; Train loss : 2.0081253051757812; Train perplexity : 9.277995109558105\n",
      "Test loss : 0.34259694814682007; Test perplexity : 3.81363582611084\n"
     ]
    }
   ],
   "source": [
    "train_loss = []\n",
    "train_perplexity = []\n",
    "test_loss = []\n",
    "test_perplexity = []\n",
    "for epoch in range(epochs):\n",
    "    epoch_train_loss = 0\n",
    "    epoch_train_perplexity = 0\n",
    "    epoch_test_loss = 0\n",
    "    epoch_test_perplexity = 0\n",
    "    for batch_train_images, batch_train_sequences, batched_train_length in tqdm(zip(train_images,train_sequences,train_length)):\n",
    "        batched_train_loss, batched_train_perplexity = train_step(batch_train_images,batch_train_sequences,batched_train_length, optimizer)\n",
    "        epoch_train_loss+=batched_train_loss\n",
    "        epoch_train_perplexity+=batched_train_perplexity\n",
    "    epoch_train_loss = epoch_train_loss/batch_size\n",
    "    epoch_train_perplexity =epoch_train_perplexity/batch_size\n",
    "    train_loss.append(epoch_train_loss)\n",
    "    train_perplexity.append(epoch_train_perplexity)\n",
    "    print('Finished epoch {}; Train loss : {}; Train perplexity : {}'.format(epoch,epoch_train_loss,epoch_train_perplexity))\n",
    "    for batch_test_images, batch_test_sequences, batched_test_length in zip(test_images,test_sequences,test_length):\n",
    "        batched_test_loss, batched_test_perplexity = evaluate(batch_test_images,batch_test_sequences,batched_test_length, optimizer)\n",
    "        epoch_test_loss+=batched_test_loss\n",
    "        epoch_test_perplexity+=batched_test_perplexity\n",
    "    epoch_test_loss = epoch_test_loss/batch_size\n",
    "    epoch_test_perplexity =epoch_test_perplexity/batch_size\n",
    "    test_perplexity.append(epoch_test_perplexity)\n",
    "    test_loss.append(epoch_test_loss)\n",
    "    print('Test loss : {}; Test perplexity : {}'.format(epoch_test_loss,epoch_test_perplexity))\n"
   ]
  },
  {
   "cell_type": "markdown",
   "id": "ca8c1deb",
   "metadata": {},
   "source": [
    "# Viewing and saving results"
   ]
  },
  {
   "cell_type": "code",
   "execution_count": 121,
   "id": "4f772d88",
   "metadata": {},
   "outputs": [],
   "source": [
    "df = pd.DataFrame()\n",
    "model_name = 'conv_lstm_transfer_learning'\n",
    "df['train_perplexity_{}'.format(model_name)] = train_perplexity\n",
    "df['test_perplexity_{}'.format(model_name)] = test_perplexity\n",
    "df['train_loss_{}'.format(model_name)] = train_loss\n",
    "df['test_loss_{}'.format(model_name)] = test_loss\n",
    "df.to_csv('{}_logs.csv'.format(model_name),index=False)"
   ]
  },
  {
   "cell_type": "code",
   "execution_count": 122,
   "id": "7889cb46",
   "metadata": {},
   "outputs": [],
   "source": [
    "import matplotlib.pyplot as plt\n",
    "import seaborn as sns\n",
    "sns.set()"
   ]
  },
  {
   "cell_type": "code",
   "execution_count": 123,
   "id": "55e57e7f",
   "metadata": {},
   "outputs": [
    {
     "data": {
      "text/plain": [
       "Text(0, 0.5, 'Perplexity')"
      ]
     },
     "execution_count": 123,
     "metadata": {},
     "output_type": "execute_result"
    },
    {
     "data": {
      "image/png": "[encoded data removed]",
      "text/plain": [
       "<Figure size 1080x864 with 1 Axes>"
      ]
     },
     "metadata": {},
     "output_type": "display_data"
    }
   ],
   "source": [
    "plt.figure(figsize=(15,12))\n",
    "plt.plot(df['train_perplexity_{}'.format(model_name)])\n",
    "plt.xlabel('Epochs')\n",
    "plt.ylabel('Perplexity')"
   ]
  },
  {
   "cell_type": "code",
   "execution_count": 124,
   "id": "3f81a489",
   "metadata": {},
   "outputs": [
    {
     "data": {
      "text/plain": [
       "Text(0, 0.5, 'Perplexity')"
      ]
     },
     "execution_count": 124,
     "metadata": {},
     "output_type": "execute_result"
    },
    {
     "data": {
      "image/png": "[encoded data removed]",
      "text/plain": [
       "<Figure size 1080x864 with 1 Axes>"
      ]
     },
     "metadata": {},
     "output_type": "display_data"
    }
   ],
   "source": [
    "plt.figure(figsize=(15,12))\n",
    "plt.plot(df['test_perplexity_{}'.format(model_name)])\n",
    "plt.xlabel('Epochs')\n",
    "plt.ylabel('Perplexity')"
   ]
  },
  {
   "cell_type": "code",
   "execution_count": 125,
   "id": "a2b010c9",
   "metadata": {},
   "outputs": [
    {
     "data": {
      "text/plain": [
       "array([0. , 0.5, 1. , 1.5, 2. , 2.5, 3. , 3.5, 4. , 4.5, 5. , 5.5, 6. ,\n",
       "       6.5, 7. ])"
      ]
     },
     "execution_count": 125,
     "metadata": {},
     "output_type": "execute_result"
    }
   ],
   "source": [
    "np.arange(0,max(df['train_loss_{}'.format(model_name)]),0.5)"
   ]
  },
  {
   "cell_type": "code",
   "execution_count": 126,
   "id": "4d0ef410",
   "metadata": {},
   "outputs": [
    {
     "data": {
      "image/png": "[encoded data removed]",
      "text/plain": [
       "<Figure size 1080x864 with 1 Axes>"
      ]
     },
     "metadata": {},
     "output_type": "display_data"
    }
   ],
   "source": [
    "plt.figure(figsize=(15,12))\n",
    "plt.plot(df['train_loss_{}'.format(model_name)])\n",
    "plt.xlabel('Epochs')\n",
    "plt.ylabel('Loss')\n",
    "plt.yticks(np.arange(min(df['train_loss_{}'.format(model_name)]),max(df['train_loss_{}'.format(model_name)]),0.5));"
   ]
  },
  {
   "cell_type": "code",
   "execution_count": 127,
   "id": "36e4087a",
   "metadata": {},
   "outputs": [
    {
     "data": {
      "image/png": "[encoded data removed]",
      "text/plain": [
       "<Figure size 1080x864 with 1 Axes>"
      ]
     },
     "metadata": {},
     "output_type": "display_data"
    }
   ],
   "source": [
    "plt.figure(figsize=(15,12))\n",
    "plt.plot(df['test_loss_{}'.format(model_name)])\n",
    "plt.xlabel('Epochs')\n",
    "plt.ylabel('Loss')\n",
    "plt.yticks(np.arange(min(df['test_loss_{}'.format(model_name)]),max(df['test_loss_{}'.format(model_name)]),0.05));"
   ]
  },
  {
   "cell_type": "markdown",
   "id": "a93e0bbd",
   "metadata": {},
   "source": [
    "# Testing model"
   ]
  },
  {
   "cell_type": "code",
   "execution_count": 128,
   "id": "0a763dd5",
   "metadata": {},
   "outputs": [],
   "source": [
    "import matplotlib.pyplot as plt\n",
    "import seaborn as sns"
   ]
  },
  {
   "cell_type": "code",
   "execution_count": 129,
   "id": "f998d6a7",
   "metadata": {},
   "outputs": [],
   "source": [
    "class Decoder:\n",
    "    def __init__(self, encoder: tf.keras.Model,\n",
    "                 decoder: tf.keras.Model,\n",
    "                 start_token: int,\n",
    "                 end_token: int,\n",
    "                 max_len: int = 10, ):\n",
    "        self.encoder = encoder\n",
    "        self.decoder = decoder\n",
    "        self.max_len = max_len\n",
    "        self.start_token = start_token\n",
    "        self.end_token = end_token\n",
    "\n",
    "    def decode(self, input):\n",
    "        pass\n",
    "\n",
    "\n",
    "class GreedyDecoder(Decoder):\n",
    "    def __init__(self, encoder: tf.keras.Model,\n",
    "                 decoder: tf.keras.Model,\n",
    "                 start_token: int,\n",
    "                 end_token: int,\n",
    "                 max_len: int = 10,\n",
    "                 ):\n",
    "        super().__init__(encoder,\n",
    "                         decoder,\n",
    "                         start_token,\n",
    "                         end_token,\n",
    "                         max_len\n",
    "                         )\n",
    "\n",
    "    def decode(self, input, max_len_output=50):\n",
    "        initial_state = self.encoder(np.expand_dims(input, axis=0))\n",
    "\n",
    "        target_seq = np.zeros((1, 1))\n",
    "        target_seq[0, 0] = self.start_token\n",
    "\n",
    "        res = []\n",
    "        while True:\n",
    "            # Sample a token\n",
    "            output, initial_state = self.decoder(target_seq,initial_state)\n",
    "            sampled_token_index = np.argmax(output)\n",
    "\n",
    "            if len(res) > max_len_output or sampled_token_index == self.end_token:\n",
    "                break\n",
    "\n",
    "            res.append(sampled_token_index)\n",
    "\n",
    "            target_seq = np.zeros((1, 1))\n",
    "            target_seq[0, 0] = sampled_token_index\n",
    "\n",
    "       \n",
    "        return res\n"
   ]
  },
  {
   "cell_type": "code",
   "execution_count": 130,
   "id": "74bdd787",
   "metadata": {},
   "outputs": [],
   "source": [
    "class BeamSearchDecoder(Decoder):\n",
    "    def __init__(self, encoder: tf.keras.Model,\n",
    "                 decoder: tf.keras.Model,\n",
    "                 start_token: int,\n",
    "                 end_token: int,\n",
    "                 max_len: int = 10,\n",
    "                 ):\n",
    "        super().__init__(encoder,\n",
    "                         decoder,\n",
    "                         start_token,\n",
    "                         end_token,\n",
    "                         max_len\n",
    "                         )\n",
    "\n",
    "    def decode(self, input, beam_size=3):\n",
    "        start = [self.start_token]\n",
    "        initial_state = self.encoder(np.expand_dims(input,axis=0))\n",
    "\n",
    "\n",
    "        start_word = [[start, 0.0, initial_state]]\n",
    "\n",
    "        while len(start_word[0][0]) < self.max_len:\n",
    "            temp = []\n",
    "            for s in start_word:\n",
    "                target_seq = np.array([[s[0][-1]]])\n",
    "                initial_state = s[-1]\n",
    "                output, initial_state= self.decoder(target_seq, initial_state)\n",
    "                output = np.hstack(output)\n",
    "                output = tf.nn.softmax(output).numpy()\n",
    "                word_preds = np.argsort(output)[-beam_size:]\n",
    "\n",
    "                for w in word_preds:\n",
    "                    next_cap, prob = s[0][:], s[1]\n",
    "                    next_cap.append(w)\n",
    "                    prob += output[w]\n",
    "                    temp.append([next_cap, prob, initial_state])\n",
    "\n",
    "            start_word = temp\n",
    "            # Sorting according to the probabilities\n",
    "            start_word = sorted(start_word, reverse=False, key=lambda l: l[1])\n",
    "            # Getting the top words\n",
    "            start_word = start_word[-beam_size:]\n",
    "\n",
    "        start_word = start_word[-1][0]\n",
    "\n",
    "        final_caption = []\n",
    "\n",
    "        for i in start_word:\n",
    "            if i != self.end_token:\n",
    "                final_caption.append(i)\n",
    "            else:\n",
    "                break\n",
    "        return final_caption[1:]"
   ]
  },
  {
   "cell_type": "code",
   "execution_count": 131,
   "id": "aba6a785",
   "metadata": {},
   "outputs": [],
   "source": [
    "def predict(data, decoder, inverse_vocab,\n",
    "           beam_size=None):\n",
    "    if beam_size:\n",
    "        result = decoder.decode(data, beam_size=beam_size)\n",
    "    else:\n",
    "        result = decoder.decode(data)\n",
    "    return ' '.join([inverse_vocab[i] for i in result])"
   ]
  },
  {
   "cell_type": "code",
   "execution_count": 132,
   "id": "f5f87487",
   "metadata": {},
   "outputs": [],
   "source": [
    "greedy_decoder = GreedyDecoder(conv_encoder, lstm_decoder, vocab[start_token], vocab[end_token],\n",
    "             max_len=39)"
   ]
  },
  {
   "cell_type": "code",
   "execution_count": 133,
   "id": "694bcbda",
   "metadata": {},
   "outputs": [],
   "source": [
    "beam_decoder = BeamSearchDecoder(conv_encoder, lstm_decoder, vocab[start_token], vocab[end_token],\n",
    "             max_len=39)"
   ]
  },
  {
   "cell_type": "code",
   "execution_count": 134,
   "id": "71218c21",
   "metadata": {},
   "outputs": [
    {
     "data": {
      "text/plain": [
       "(3840, 224, 224, 3)"
      ]
     },
     "execution_count": 134,
     "metadata": {},
     "output_type": "execute_result"
    }
   ],
   "source": [
    "images.shape"
   ]
  },
  {
   "cell_type": "code",
   "execution_count": 148,
   "id": "18613dcd",
   "metadata": {},
   "outputs": [],
   "source": [
    "sample = np.random.choice(range(len(images)))\n",
    "sample = images[sample]"
   ]
  },
  {
   "cell_type": "code",
   "execution_count": 149,
   "id": "7c0b1f67",
   "metadata": {},
   "outputs": [
    {
     "data": {
      "image/png": "[encoded data removed]",
      "text/plain": [
       "<Figure size 576x576 with 1 Axes>"
      ]
     },
     "metadata": {},
     "output_type": "display_data"
    }
   ],
   "source": [
    "plt.figure(figsize=(8,8))\n",
    "plt.imshow(sample)\n",
    "plt.grid([])\n",
    "plt.axis('off');"
   ]
  },
  {
   "cell_type": "code",
   "execution_count": 150,
   "id": "b7dbc306",
   "metadata": {},
   "outputs": [
    {
     "data": {
      "text/plain": [
       "'people man looks a man looks a a man looks and a family looks happy and a because they have a good because they are going to have a good time in the bed'"
      ]
     },
     "execution_count": 150,
     "metadata": {},
     "output_type": "execute_result"
    }
   ],
   "source": [
    "predict(sample, greedy_decoder, inverse_vocab)"
   ]
  },
  {
   "cell_type": "code",
   "execution_count": 151,
   "id": "4517e3c5",
   "metadata": {},
   "outputs": [
    {
     "data": {
      "text/plain": [
       "\"people people looks a man looks a a man and a couple looks despaired and aggressive , because they don ' t ' t pay attention to what he is trying to shoot somebody\""
      ]
     },
     "execution_count": 151,
     "metadata": {},
     "output_type": "execute_result"
    }
   ],
   "source": [
    "predict(sample, beam_decoder, inverse_vocab, beam_size=5)"
   ]
  },
  {
   "cell_type": "markdown",
   "id": "9f4084ff",
   "metadata": {},
   "source": [
    "# Blue score calculation"
   ]
  },
  {
   "cell_type": "code",
   "execution_count": 152,
   "id": "128a9391",
   "metadata": {},
   "outputs": [],
   "source": [
    "from nltk.translate.bleu_score import sentence_bleu\n"
   ]
  },
  {
   "cell_type": "markdown",
   "id": "28eb9904",
   "metadata": {},
   "source": [
    "### making predictions on test dataset with beam_size of 5"
   ]
  },
  {
   "cell_type": "code",
   "execution_count": 153,
   "id": "b1aa192b",
   "metadata": {},
   "outputs": [
    {
     "name": "stderr",
     "output_type": "stream",
     "text": [
      "100%|██████████| 6/6 [07:42<00:00, 77.06s/it]\n"
     ]
    }
   ],
   "source": [
    "test_predictions = []\n",
    "for batch in tqdm(test_images):\n",
    "    for image in batch:\n",
    "        result = predict(image, beam_decoder, inverse_vocab, beam_size=5)\n",
    "        test_predictions.append(result)"
   ]
  },
  {
   "cell_type": "code",
   "execution_count": 154,
   "id": "2a1f16ff",
   "metadata": {},
   "outputs": [],
   "source": [
    "test_predictions = [i.split(' ') for i in test_predictions]"
   ]
  },
  {
   "cell_type": "code",
   "execution_count": 155,
   "id": "c6f3cab9",
   "metadata": {},
   "outputs": [],
   "source": [
    "reshaped_sequences = test_sequences.reshape(test_sequences.shape[0]*test_sequences.shape[1],-1)"
   ]
  },
  {
   "cell_type": "code",
   "execution_count": 156,
   "id": "ad27a275",
   "metadata": {},
   "outputs": [],
   "source": [
    "test_sentences = []\n",
    "for i in reshaped_sequences:\n",
    "    tmp = []\n",
    "    for word in i:\n",
    "        if word!=0 and word!=1 and word!=2:\n",
    "            tmp.append(inverse_vocab[word])\n",
    "    test_sentences.append(tmp)"
   ]
  },
  {
   "cell_type": "code",
   "execution_count": 157,
   "id": "3e3f3b1a",
   "metadata": {},
   "outputs": [
    {
     "name": "stderr",
     "output_type": "stream",
     "text": [
      "/home/ec2-user/anaconda3/envs/amazonei_tensorflow2_p36/lib/python3.6/site-packages/nltk/translate/bleu_score.py:523: UserWarning: \n",
      "The hypothesis contains 0 counts of 2-gram overlaps.\n",
      "Therefore the BLEU score evaluates to 0, independently of\n",
      "how many N-gram overlaps of lower order it contains.\n",
      "Consider using lower n-gram order or use SmoothingFunction()\n",
      "  warnings.warn(_msg)\n",
      "/home/ec2-user/anaconda3/envs/amazonei_tensorflow2_p36/lib/python3.6/site-packages/nltk/translate/bleu_score.py:523: UserWarning: \n",
      "The hypothesis contains 0 counts of 3-gram overlaps.\n",
      "Therefore the BLEU score evaluates to 0, independently of\n",
      "how many N-gram overlaps of lower order it contains.\n",
      "Consider using lower n-gram order or use SmoothingFunction()\n",
      "  warnings.warn(_msg)\n",
      "/home/ec2-user/anaconda3/envs/amazonei_tensorflow2_p36/lib/python3.6/site-packages/nltk/translate/bleu_score.py:523: UserWarning: \n",
      "The hypothesis contains 0 counts of 4-gram overlaps.\n",
      "Therefore the BLEU score evaluates to 0, independently of\n",
      "how many N-gram overlaps of lower order it contains.\n",
      "Consider using lower n-gram order or use SmoothingFunction()\n",
      "  warnings.warn(_msg)\n"
     ]
    },
    {
     "name": "stdout",
     "output_type": "stream",
     "text": [
      "Bleu score on test data : 7.638488665736888e-232\n"
     ]
    }
   ],
   "source": [
    "bleu_score = []\n",
    "for reference, prediction in zip(test_sentences, test_predictions):\n",
    "    bleu_score.append(sentence_bleu(reference, prediction))\n",
    "print('Bleu score on test data : {}'.format(np.mean(bleu_score)))"
   ]
  },
  {
   "cell_type": "markdown",
   "id": "dfab434f",
   "metadata": {},
   "source": [
    "### making predictions on test dataset with beam_size of 10"
   ]
  },
  {
   "cell_type": "code",
   "execution_count": 158,
   "id": "aaa0a919",
   "metadata": {},
   "outputs": [
    {
     "name": "stderr",
     "output_type": "stream",
     "text": [
      "100%|██████████| 6/6 [14:59<00:00, 149.85s/it]\n"
     ]
    }
   ],
   "source": [
    "test_predictions = []\n",
    "for batch in tqdm(test_images):\n",
    "    for image in batch:\n",
    "        result = predict(image, beam_decoder, inverse_vocab, beam_size=10)\n",
    "        test_predictions.append(result)"
   ]
  },
  {
   "cell_type": "code",
   "execution_count": 159,
   "id": "9f1e345d",
   "metadata": {},
   "outputs": [],
   "source": [
    "test_predictions = [i.split(' ') for i in test_predictions]"
   ]
  },
  {
   "cell_type": "code",
   "execution_count": 160,
   "id": "4c4c9a26",
   "metadata": {},
   "outputs": [
    {
     "name": "stdout",
     "output_type": "stream",
     "text": [
      "Bleu score on test data : 7.531845725477715e-232\n"
     ]
    }
   ],
   "source": [
    "bleu_score = []\n",
    "for reference, prediction in zip(test_sentences, test_predictions):\n",
    "    bleu_score.append(sentence_bleu(reference, prediction))\n",
    "print('Bleu score on test data : {}'.format(np.mean(bleu_score)))"
   ]
  },
  {
   "cell_type": "code",
   "execution_count": null,
   "id": "cdaf578b",
   "metadata": {},
   "outputs": [],
   "source": []
  }
 ],
 "metadata": {
  "kernelspec": {
   "display_name": "conda_amazonei_tensorflow2_p36",
   "language": "python",
   "name": "conda_amazonei_tensorflow2_p36"
  },
  "language_info": {
   "codemirror_mode": {
    "name": "ipython",
    "version": 3
   },
   "file_extension": ".py",
   "mimetype": "text/x-python",
   "name": "python",
   "nbconvert_exporter": "python",
   "pygments_lexer": "ipython3",
   "version": "3.6.13"
  }
 },
 "nbformat": 4,
 "nbformat_minor": 5
}
