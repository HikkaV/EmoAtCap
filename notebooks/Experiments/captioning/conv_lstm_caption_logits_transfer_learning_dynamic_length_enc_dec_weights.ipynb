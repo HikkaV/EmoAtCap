{
 "cells": [
  {
   "cell_type": "code",
   "execution_count": 1,
   "id": "6b18a578",
   "metadata": {},
   "outputs": [],
   "source": [
    "import tensorflow as tf"
   ]
  },
  {
   "cell_type": "code",
   "execution_count": 2,
   "id": "1fc7c129",
   "metadata": {},
   "outputs": [],
   "source": [
    "import pandas as pd\n",
    "import os\n",
    "import numpy as np\n",
    "from sklearn.utils import class_weight\n",
    "from keras_preprocessing import image as im\n",
    "tf.random.set_seed(\n",
    "    5\n",
    ")"
   ]
  },
  {
   "cell_type": "markdown",
   "id": "0a5c463c",
   "metadata": {},
   "source": [
    "# Loading data"
   ]
  },
  {
   "cell_type": "code",
   "execution_count": 3,
   "id": "aa5fbc13",
   "metadata": {},
   "outputs": [],
   "source": [
    "def load_data(image_path, annotations_path):\n",
    "    df = pd.read_csv(annotations_path)\n",
    "    df = df[~df['human_sentiment'].isna()]\n",
    "    in_folder = os.listdir(image_path)\n",
    "    df.loc[df['image_name'].isin(in_folder), 'image_name'] = \\\n",
    "    df.loc[df['image_name'].isin(in_folder), 'image_name'].apply(lambda x: os.path.join(image_path,x))\n",
    "    images = []\n",
    "    for image_name in df['image_name'].values:\n",
    "        images.append(np.array(im.load_img(image_name, target_size=(224,224))))\n",
    "    images = np.array(images)\n",
    "    images = images/255\n",
    "    annotations = df['annotation'].str.lower().values\n",
    "    return images, annotations"
   ]
  },
  {
   "cell_type": "code",
   "execution_count": 4,
   "id": "5e078f9f",
   "metadata": {},
   "outputs": [],
   "source": [
    "images, annotations = load_data(\"../../../../images/\", '../../../../emo-at-cap.csv')"
   ]
  },
  {
   "cell_type": "markdown",
   "id": "dc37cc0f",
   "metadata": {},
   "source": [
    "# Processing of data"
   ]
  },
  {
   "cell_type": "code",
   "execution_count": 5,
   "id": "459ee78c",
   "metadata": {},
   "outputs": [],
   "source": [
    "import nltk\n",
    "import matplotlib.pyplot as plt"
   ]
  },
  {
   "cell_type": "code",
   "execution_count": 6,
   "id": "c9d0079f",
   "metadata": {},
   "outputs": [],
   "source": [
    "from sklearn.model_selection import train_test_split"
   ]
  },
  {
   "cell_type": "code",
   "execution_count": 7,
   "id": "c91d7d34",
   "metadata": {},
   "outputs": [],
   "source": [
    "tokenizer = nltk.tokenize.WordPunctTokenizer()"
   ]
  },
  {
   "cell_type": "code",
   "execution_count": 8,
   "id": "603d972f",
   "metadata": {},
   "outputs": [],
   "source": [
    "tokenized = [tokenizer.tokenize(i) for i in annotations]"
   ]
  },
  {
   "cell_type": "code",
   "execution_count": 9,
   "id": "9e8398a4",
   "metadata": {},
   "outputs": [],
   "source": [
    "length = [len(i) for i in tokenized]"
   ]
  },
  {
   "cell_type": "code",
   "execution_count": 10,
   "id": "3ef211c2",
   "metadata": {},
   "outputs": [
    {
     "data": {
      "text/plain": [
       "(array([3.060e+02, 1.992e+03, 8.900e+02, 3.930e+02, 1.490e+02, 8.000e+01,\n",
       "        2.500e+01, 3.000e+00, 1.000e+00, 1.000e+00]),\n",
       " array([ 2. ,  5.3,  8.6, 11.9, 15.2, 18.5, 21.8, 25.1, 28.4, 31.7, 35. ]),\n",
       " <BarContainer object of 10 artists>)"
      ]
     },
     "execution_count": 10,
     "metadata": {},
     "output_type": "execute_result"
    },
    {
     "data": {
      "image/png": "[encoded data removed]",
      "text/plain": [
       "<Figure size 432x288 with 1 Axes>"
      ]
     },
     "metadata": {
      "needs_background": "light"
     },
     "output_type": "display_data"
    }
   ],
   "source": [
    "plt.hist([len(i) for i in tokenized])"
   ]
  },
  {
   "cell_type": "code",
   "execution_count": 11,
   "id": "14107578",
   "metadata": {},
   "outputs": [
    {
     "data": {
      "text/plain": [
       "['a',\n",
       " 'woman',\n",
       " 'laughs',\n",
       " 'as',\n",
       " 'she',\n",
       " 'takes',\n",
       " 'part',\n",
       " 'in',\n",
       " 'some',\n",
       " 'traditional',\n",
       " 'or',\n",
       " 'national',\n",
       " 'custom',\n",
       " 'and',\n",
       " 'a',\n",
       " 'man',\n",
       " 'behind',\n",
       " 'her',\n",
       " 'screams',\n",
       " 'with',\n",
       " 'joy',\n",
       " 'to',\n",
       " 'amuse',\n",
       " 'her',\n",
       " 'even',\n",
       " 'more',\n",
       " 'while',\n",
       " 'people',\n",
       " 'on',\n",
       " 'the',\n",
       " 'background',\n",
       " 'are',\n",
       " 'dining',\n",
       " 'and',\n",
       " 'smiling']"
      ]
     },
     "execution_count": 11,
     "metadata": {},
     "output_type": "execute_result"
    }
   ],
   "source": [
    "max(tokenized, key=lambda x: len(x))"
   ]
  },
  {
   "cell_type": "code",
   "execution_count": 12,
   "id": "ac934198",
   "metadata": {},
   "outputs": [
    {
     "data": {
      "text/plain": [
       "(8.873177083333333, 8.0, 35, 2)"
      ]
     },
     "execution_count": 12,
     "metadata": {},
     "output_type": "execute_result"
    }
   ],
   "source": [
    "np.mean(length), np.median(length), np.max(length), np.min(length)"
   ]
  },
  {
   "cell_type": "code",
   "execution_count": 13,
   "id": "59bc5929",
   "metadata": {},
   "outputs": [
    {
     "data": {
      "text/plain": [
       "[(2, 1),\n",
       " (3, 19),\n",
       " (4, 68),\n",
       " (5, 218),\n",
       " (6, 526),\n",
       " (7, 862),\n",
       " (8, 604),\n",
       " (9, 437),\n",
       " (10, 278),\n",
       " (11, 175),\n",
       " (12, 143),\n",
       " (13, 105),\n",
       " (14, 83),\n",
       " (15, 62),\n",
       " (16, 61),\n",
       " (17, 50),\n",
       " (18, 38),\n",
       " (19, 34),\n",
       " (20, 27),\n",
       " (21, 19),\n",
       " (22, 9),\n",
       " (23, 7),\n",
       " (24, 5),\n",
       " (25, 4),\n",
       " (26, 1),\n",
       " (27, 1),\n",
       " (28, 1),\n",
       " (29, 1),\n",
       " (35, 1)]"
      ]
     },
     "execution_count": 13,
     "metadata": {},
     "output_type": "execute_result"
    }
   ],
   "source": [
    "unique_length, counts = np.unique(length, return_counts=True)\n",
    "list(zip(unique_length, counts))"
   ]
  },
  {
   "cell_type": "code",
   "execution_count": 14,
   "id": "3576e337",
   "metadata": {},
   "outputs": [],
   "source": [
    "unique_tokens, unique_counts = np.unique(np.hstack(tokenized), return_counts=True)"
   ]
  },
  {
   "cell_type": "code",
   "execution_count": 15,
   "id": "9b7e4bad",
   "metadata": {},
   "outputs": [
    {
     "name": "stderr",
     "output_type": "stream",
     "text": [
      "/home/ec2-user/anaconda3/envs/amazonei_tensorflow2_p36/lib/python3.6/site-packages/sklearn/utils/validation.py:72: FutureWarning: Pass classes=[\"'\" ',' '-' ... 'youth' 'исходный' 'текст'], y=['the' 'man' 'is' ... 'with' 'some' 'clothes'] as keyword args. From version 1.0 (renaming of 0.25) passing these as positional arguments will result in an error\n",
      "  \"will result in an error\", FutureWarning)\n"
     ]
    }
   ],
   "source": [
    "class_weights = class_weight.compute_class_weight('balanced', np.unique(np.hstack(tokenized)), np.hstack(tokenized))"
   ]
  },
  {
   "cell_type": "code",
   "execution_count": 16,
   "id": "d9060ac4",
   "metadata": {},
   "outputs": [],
   "source": [
    "frequency = sorted(list(zip(unique_tokens, unique_counts)), key = lambda x: x[1])[::-1][:50]"
   ]
  },
  {
   "cell_type": "code",
   "execution_count": 17,
   "id": "9986de80",
   "metadata": {},
   "outputs": [
    {
     "data": {
      "text/plain": [
       "[('the', 3261),\n",
       " ('is', 2031),\n",
       " ('man', 1905),\n",
       " ('and', 1536),\n",
       " ('woman', 1361),\n",
       " ('are', 1036),\n",
       " ('a', 963),\n",
       " ('to', 891),\n",
       " ('looks', 751),\n",
       " ('happy', 705),\n",
       " ('with', 547),\n",
       " ('something', 480),\n",
       " ('men', 478),\n",
       " ('of', 463),\n",
       " ('two', 408),\n",
       " ('other', 361),\n",
       " ('people', 343),\n",
       " ('couple', 334),\n",
       " (',', 330),\n",
       " ('in', 278),\n",
       " ('look', 270),\n",
       " ('because', 265),\n",
       " ('they', 256),\n",
       " ('about', 247),\n",
       " ('on', 246),\n",
       " ('at', 192),\n",
       " ('trying', 190),\n",
       " ('serious', 189),\n",
       " ('women', 184),\n",
       " ('each', 179),\n",
       " ('together', 176),\n",
       " ('by', 175),\n",
       " ('having', 171),\n",
       " ('flirting', 165),\n",
       " ('he', 155),\n",
       " ('smiling', 151),\n",
       " ('arguing', 141),\n",
       " ('angry', 140),\n",
       " ('scared', 138),\n",
       " ('worried', 137),\n",
       " ('hugging', 135),\n",
       " ('surprised', 134),\n",
       " ('calm', 133),\n",
       " ('company', 131),\n",
       " ('her', 129),\n",
       " ('group', 123),\n",
       " ('for', 121),\n",
       " ('she', 117),\n",
       " ('looking', 117),\n",
       " ('his', 115)]"
      ]
     },
     "execution_count": 17,
     "metadata": {},
     "output_type": "execute_result"
    }
   ],
   "source": [
    "frequency"
   ]
  },
  {
   "cell_type": "code",
   "execution_count": 18,
   "id": "4ee68159",
   "metadata": {},
   "outputs": [
    {
     "data": {
      "text/plain": [
       "2162"
      ]
     },
     "execution_count": 18,
     "metadata": {},
     "output_type": "execute_result"
    }
   ],
   "source": [
    "len(unique_tokens)"
   ]
  },
  {
   "cell_type": "code",
   "execution_count": 19,
   "id": "acbd72df",
   "metadata": {},
   "outputs": [],
   "source": [
    "pad_token = '<PAD>'\n",
    "start_token = '<S>'\n",
    "end_token = '<E>'"
   ]
  },
  {
   "cell_type": "code",
   "execution_count": 20,
   "id": "1fccc6f0",
   "metadata": {},
   "outputs": [],
   "source": [
    "vocab = dict(zip(unique_tokens,list(range(3,len(unique_tokens)+3))))\n",
    "vocab[pad_token] = 0\n",
    "vocab[start_token] = 1\n",
    "vocab[end_token] = 2"
   ]
  },
  {
   "cell_type": "code",
   "execution_count": 21,
   "id": "6508d98f",
   "metadata": {},
   "outputs": [],
   "source": [
    "inverse_vocab = dict([(v,k) for k,v in vocab.items()])"
   ]
  },
  {
   "cell_type": "code",
   "execution_count": 22,
   "id": "779a034c",
   "metadata": {},
   "outputs": [],
   "source": [
    "train_images, val_images, train_sequences, val_sequences =  train_test_split(images, tokenized, test_size=0.2, random_state=10)\n",
    "val_images, test_images, val_sequences, test_sequences =  train_test_split(val_images, val_sequences, test_size=0.5, random_state=10)"
   ]
  },
  {
   "cell_type": "code",
   "execution_count": 23,
   "id": "d5b03b76",
   "metadata": {},
   "outputs": [],
   "source": [
    "def sort(images, text):\n",
    "    length = [len(i) for i in text]\n",
    "    images, text, _ = zip(*sorted(zip(images, text, length), key = lambda x: x[-1]))\n",
    "    return images, text"
   ]
  },
  {
   "cell_type": "code",
   "execution_count": 24,
   "id": "2ee891bf",
   "metadata": {},
   "outputs": [],
   "source": [
    "def prepare(images, text, vocab, pad_token, start_token, end_token, batch_size=64):\n",
    "    images, text = sort(images, text)\n",
    "    images = np.array(np.array_split(images, len(images)//batch_size))\n",
    "    text = np.array(np.array_split(text, len(text)//batch_size))\n",
    "    prepared_text = []\n",
    "    length = []\n",
    "    for batched_text in text:\n",
    "        maxlen = max([len(i) for i in batched_text])\n",
    "        batch_padded = np.array(list(map(lambda x: [vocab[i] for i in x],padd(batched_text, pad_token, start_token, end_token, maxlen))))\n",
    "        length.append((batch_padded!=vocab[pad_token]).sum(axis=1)-2)\n",
    "        prepared_text.append(batch_padded)\n",
    "    return images, prepared_text, np.array(length)"
   ]
  },
  {
   "cell_type": "code",
   "execution_count": 25,
   "id": "922da081",
   "metadata": {},
   "outputs": [],
   "source": [
    "def padd(sentences, pad_token, start_token, end_token, maxlen=10):\n",
    "    padded_sentences = []\n",
    "    for i in sentences:\n",
    "        sentence = [start_token] + i + [end_token]\n",
    "        if len(sentence)>=maxlen+2:\n",
    "            sentence = sentence[:maxlen+2]\n",
    "        else:\n",
    "            sentence = sentence+[pad_token for i in range(maxlen+2-len(sentence))]\n",
    "        padded_sentences.append(sentence)\n",
    "    return padded_sentences"
   ]
  },
  {
   "cell_type": "code",
   "execution_count": 26,
   "id": "ccb2b89c",
   "metadata": {},
   "outputs": [],
   "source": [
    "class_weights = list(class_weights)\n",
    "class_weights.insert(0, 1)\n",
    "class_weights.insert(1, 1)\n",
    "class_weights.insert(2, 1)"
   ]
  },
  {
   "cell_type": "code",
   "execution_count": 27,
   "id": "211aee13",
   "metadata": {},
   "outputs": [
    {
     "data": {
      "text/plain": [
       "(2165, 2165)"
      ]
     },
     "execution_count": 27,
     "metadata": {},
     "output_type": "execute_result"
    }
   ],
   "source": [
    "len(class_weights), len(vocab)"
   ]
  },
  {
   "cell_type": "code",
   "execution_count": 28,
   "id": "011b4af6",
   "metadata": {},
   "outputs": [
    {
     "data": {
      "text/plain": [
       "[1, 1, 1, 0.21013259327782918]"
      ]
     },
     "execution_count": 28,
     "metadata": {},
     "output_type": "execute_result"
    }
   ],
   "source": [
    "class_weights[:4]"
   ]
  },
  {
   "cell_type": "code",
   "execution_count": 29,
   "id": "3e5c475b",
   "metadata": {},
   "outputs": [],
   "source": [
    "class_weights = np.array(class_weights)"
   ]
  },
  {
   "cell_type": "code",
   "execution_count": 30,
   "id": "68529cf2",
   "metadata": {},
   "outputs": [
    {
     "data": {
      "text/plain": [
       "(2165,)"
      ]
     },
     "execution_count": 30,
     "metadata": {},
     "output_type": "execute_result"
    }
   ],
   "source": [
    "class_weights.shape"
   ]
  },
  {
   "cell_type": "markdown",
   "id": "b83ef8b0",
   "metadata": {},
   "source": [
    "# Model with transfer learning"
   ]
  },
  {
   "cell_type": "code",
   "execution_count": 31,
   "id": "364dd3f9",
   "metadata": {},
   "outputs": [],
   "source": [
    "def calc_size(x, f, s, padding='same'):\n",
    "    p = 2 if padding=='same' else 1\n",
    "    return (x-f+2)/s+1"
   ]
  },
  {
   "cell_type": "markdown",
   "id": "26b8c149",
   "metadata": {},
   "source": [
    "### Convolutional model"
   ]
  },
  {
   "cell_type": "code",
   "execution_count": 32,
   "id": "319c4073",
   "metadata": {},
   "outputs": [],
   "source": [
    "import tensorflow.keras.applications as apps\n"
   ]
  },
  {
   "cell_type": "code",
   "execution_count": 33,
   "id": "61141f2a",
   "metadata": {},
   "outputs": [],
   "source": [
    "class ConvEncoder(tf.keras.Model):\n",
    "    def __init__(self):\n",
    "        super(ConvEncoder, self).__init__()\n",
    "        #building resnet\n",
    "        self.resnet_extractor = apps.ResNet152V2(include_top=False, weights='imagenet')\n",
    "        self.resnet_extractor.trainable = False\n",
    "        self.pooling = tf.keras.layers.GlobalAveragePooling2D()\n",
    "        self.dense1 = tf.keras.layers.Dense(units=256, activation='relu')\n",
    "        self.dense2 = tf.keras.layers.Dense(units=256, activation='relu')\n",
    "    def call(self, input):\n",
    "        extracted = self.pooling(self.resnet_extractor(input))\n",
    "        return [self.dense1(extracted), self.dense2(extracted)]"
   ]
  },
  {
   "cell_type": "code",
   "execution_count": 34,
   "id": "d36f77a6",
   "metadata": {},
   "outputs": [],
   "source": [
    "conv_encoder = ConvEncoder()"
   ]
  },
  {
   "cell_type": "code",
   "execution_count": 35,
   "id": "3c303aaf",
   "metadata": {},
   "outputs": [
    {
     "name": "stdout",
     "output_type": "stream",
     "text": [
      "WARNING:tensorflow:Layer conv_encoder is casting an input tensor from dtype float64 to the layer's dtype of float32, which is new behavior in TensorFlow 2.  The layer has dtype float32 because its dtype defaults to floatx.\n",
      "\n",
      "If you intended to run this layer in float32, you can safely ignore this warning. If in doubt, this warning is likely only an issue if you are porting a TensorFlow 1.X model to TensorFlow 2.\n",
      "\n",
      "To change all layers to have dtype float64 by default, call `tf.keras.backend.set_floatx('float64')`. To change just this layer, pass dtype='float64' to the layer constructor. If you are the author of this layer, you can disable autocasting by passing autocast=False to the base Layer constructor.\n",
      "\n"
     ]
    }
   ],
   "source": [
    "conv_res = conv_encoder(np.expand_dims(images[0],axis=0))"
   ]
  },
  {
   "cell_type": "markdown",
   "id": "bf45f945",
   "metadata": {},
   "source": [
    "### LSTM model"
   ]
  },
  {
   "cell_type": "markdown",
   "id": "34bf38ea",
   "metadata": {},
   "source": [
    "### making w2v embeddings"
   ]
  },
  {
   "cell_type": "code",
   "execution_count": 36,
   "id": "fe3bddab",
   "metadata": {},
   "outputs": [
    {
     "name": "stdout",
     "output_type": "stream",
     "text": [
      "Requirement already satisfied: gensim in /home/ec2-user/anaconda3/envs/amazonei_tensorflow2_p36/lib/python3.6/site-packages (4.0.1)\n",
      "Requirement already satisfied: smart-open>=1.8.1 in /home/ec2-user/anaconda3/envs/amazonei_tensorflow2_p36/lib/python3.6/site-packages (from gensim) (5.1.0)\n",
      "Requirement already satisfied: scipy>=0.18.1 in /home/ec2-user/anaconda3/envs/amazonei_tensorflow2_p36/lib/python3.6/site-packages (from gensim) (1.5.3)\n",
      "Requirement already satisfied: numpy>=1.11.3 in /home/ec2-user/anaconda3/envs/amazonei_tensorflow2_p36/lib/python3.6/site-packages (from gensim) (1.18.5)\n",
      "Requirement already satisfied: dataclasses in /home/ec2-user/anaconda3/envs/amazonei_tensorflow2_p36/lib/python3.6/site-packages (from gensim) (0.8)\n",
      "\u001b[33mWARNING: You are using pip version 21.1.2; however, version 21.1.3 is available.\n",
      "You should consider upgrading via the '/home/ec2-user/anaconda3/envs/amazonei_tensorflow2_p36/bin/python -m pip install --upgrade pip' command.\u001b[0m\n"
     ]
    }
   ],
   "source": [
    "!pip install gensim"
   ]
  },
  {
   "cell_type": "code",
   "execution_count": 37,
   "id": "8f3d94ea",
   "metadata": {},
   "outputs": [
    {
     "name": "stderr",
     "output_type": "stream",
     "text": [
      "/home/ec2-user/anaconda3/envs/amazonei_tensorflow2_p36/lib/python3.6/site-packages/gensim/similarities/__init__.py:15: UserWarning: The gensim.similarities.levenshtein submodule is disabled, because the optional Levenshtein package <https://pypi.org/project/python-Levenshtein/> is unavailable. Install Levenhstein (e.g. `pip install python-Levenshtein`) to suppress this warning.\n",
      "  warnings.warn(msg)\n"
     ]
    }
   ],
   "source": [
    "import gensim.downloader as api"
   ]
  },
  {
   "cell_type": "code",
   "execution_count": 38,
   "id": "d78ab186",
   "metadata": {},
   "outputs": [],
   "source": [
    "w2v_embeddings = api.load('word2vec-google-news-300')"
   ]
  },
  {
   "cell_type": "code",
   "execution_count": 39,
   "id": "155a6b08",
   "metadata": {},
   "outputs": [],
   "source": [
    "def build_embeddings(vocab, word_vectors, embed_dim):\n",
    "    emb_matrix = np.zeros(shape=(len(vocab)+ 1 , embed_dim), dtype='float32')\n",
    "    count = 0\n",
    "    for word, i in vocab.items():\n",
    "        try:\n",
    "            emb_matrix[i, :] = word_vectors.get_vector(word)\n",
    "        except:\n",
    "            count += 1\n",
    "            emb_matrix[i, :] = np.random.uniform(-0.1, 0.1, embed_dim)\n",
    "    print('{} words are out of vocabulary：'.format(count))\n",
    "    return emb_matrix\n"
   ]
  },
  {
   "cell_type": "code",
   "execution_count": 40,
   "id": "122820de",
   "metadata": {},
   "outputs": [
    {
     "name": "stdout",
     "output_type": "stream",
     "text": [
      "22 words are out of vocabulary：\n"
     ]
    }
   ],
   "source": [
    "w2v_embeddings = build_embeddings(vocab, w2v_embeddings, 300)"
   ]
  },
  {
   "cell_type": "markdown",
   "id": "c7cbf4f9",
   "metadata": {},
   "source": [
    "### building model"
   ]
  },
  {
   "cell_type": "code",
   "execution_count": 41,
   "id": "8def1f89",
   "metadata": {},
   "outputs": [],
   "source": [
    "class LSTMDecoder(tf.keras.Model):\n",
    "    def __init__(self, max_tokens, lstm_units, embeddings=None, dim=128):\n",
    "        super(LSTMDecoder, self).__init__()\n",
    "        self.embeddings = tf.keras.layers.Embedding(input_dim=max_tokens+1, output_dim=dim, name='embeddings',\n",
    "                                                   weights=[embeddings])\n",
    "        self.dropout = tf.keras.layers.SpatialDropout1D(0.2)\n",
    "        self.layer_norm = tf.keras.layers.LayerNormalization(epsilon=1e-6, name='layer_normalization')\n",
    "        self.lstm = tf.keras.layers.LSTM(units=lstm_units, return_state=True, name='lstm_decoder', recurrent_dropout=0.3)\n",
    "        self.output_dense = tf.keras.layers.Dense(units=max_tokens)\n",
    "        \n",
    "    def call(self, input, features):\n",
    "        embedded = self.dropout(self.embeddings(input))\n",
    "        result_lstm, state_h, state_c = self.lstm(embedded, initial_state=features)\n",
    "        normalized = self.layer_norm(result_lstm)\n",
    "        logits = self.output_dense(normalized)\n",
    "        return logits, [state_h, state_c]"
   ]
  },
  {
   "cell_type": "code",
   "execution_count": 42,
   "id": "2ca6a841",
   "metadata": {},
   "outputs": [
    {
     "name": "stdout",
     "output_type": "stream",
     "text": [
      "WARNING:tensorflow:Layer lstm_decoder will not use cuDNN kernel since it doesn't meet the cuDNN kernel criteria. It will use generic GPU kernel as fallback when running on GPU\n"
     ]
    }
   ],
   "source": [
    "lstm_decoder = LSTMDecoder(len(inverse_vocab), conv_res[0].shape[1], w2v_embeddings, dim=300)"
   ]
  },
  {
   "cell_type": "markdown",
   "id": "9860c629",
   "metadata": {},
   "source": [
    "### Training"
   ]
  },
  {
   "cell_type": "code",
   "execution_count": 43,
   "id": "2e4a5d75",
   "metadata": {},
   "outputs": [],
   "source": [
    "loss_object = tf.keras.losses.SparseCategoricalCrossentropy(reduction='none',\n",
    "                                                                         from_logits=True)\n",
    "lr_value = 1e-4\n",
    "reduction_power = 10\n",
    "optimizer = tf.keras.optimizers.RMSprop(learning_rate=lr_value)\n",
    "with_weights = True"
   ]
  },
  {
   "cell_type": "code",
   "execution_count": 44,
   "id": "beb835b6",
   "metadata": {},
   "outputs": [],
   "source": [
    "epochs = 30\n",
    "batch_size = 64\n",
    "patience_epochs = 2"
   ]
  },
  {
   "cell_type": "code",
   "execution_count": 45,
   "id": "d77922d3",
   "metadata": {},
   "outputs": [],
   "source": [
    "train_images, train_sequences, train_length = prepare(train_images, train_sequences, vocab, pad_token, start_token, end_token, batch_size=batch_size)"
   ]
  },
  {
   "cell_type": "code",
   "execution_count": 46,
   "id": "16cd3569",
   "metadata": {},
   "outputs": [],
   "source": [
    "val_images, val_sequences, val_length = prepare(val_images, val_sequences, vocab, pad_token, start_token, end_token, batch_size=batch_size)"
   ]
  },
  {
   "cell_type": "code",
   "execution_count": 47,
   "id": "fb143a07",
   "metadata": {},
   "outputs": [],
   "source": [
    "test_images, test_sequences, test_length = prepare(test_images, test_sequences, vocab, pad_token, start_token, end_token, batch_size=batch_size)"
   ]
  },
  {
   "cell_type": "code",
   "execution_count": 48,
   "id": "008abd1c",
   "metadata": {},
   "outputs": [],
   "source": [
    "def loss_function(real, pred, loss_weights):\n",
    "        mask = tf.math.logical_not(tf.math.equal(real, vocab[pad_token]))\n",
    "        loss_ = loss_object(real, pred)\n",
    "        mask = tf.cast(mask, dtype=loss_.dtype)\n",
    "        loss_ *= mask\n",
    "        loss_weights = tf.cast(loss_weights, dtype=loss_.dtype)\n",
    "        loss_*=loss_weights\n",
    "        return loss_"
   ]
  },
  {
   "cell_type": "code",
   "execution_count": 49,
   "id": "f4bad59e",
   "metadata": {},
   "outputs": [
    {
     "data": {
      "text/plain": [
       "((48, 64, 224, 224, 3), (64, 6), (48, 64))"
      ]
     },
     "execution_count": 49,
     "metadata": {},
     "output_type": "execute_result"
    }
   ],
   "source": [
    "train_images.shape, train_sequences[0].shape, train_length.shape "
   ]
  },
  {
   "cell_type": "code",
   "execution_count": 50,
   "id": "929683a4",
   "metadata": {},
   "outputs": [
    {
     "data": {
      "text/plain": [
       "((6, 64, 224, 224, 3), (64, 9), (6, 64))"
      ]
     },
     "execution_count": 50,
     "metadata": {},
     "output_type": "execute_result"
    }
   ],
   "source": [
    "val_images.shape, val_sequences[1].shape, val_length.shape "
   ]
  },
  {
   "cell_type": "code",
   "execution_count": 51,
   "id": "3aa618d4",
   "metadata": {},
   "outputs": [
    {
     "name": "stdout",
     "output_type": "stream",
     "text": [
      "Requirement already satisfied: tqdm in /home/ec2-user/anaconda3/envs/amazonei_tensorflow2_p36/lib/python3.6/site-packages (4.61.1)\n",
      "\u001b[33mWARNING: You are using pip version 21.1.2; however, version 21.1.3 is available.\n",
      "You should consider upgrading via the '/home/ec2-user/anaconda3/envs/amazonei_tensorflow2_p36/bin/python -m pip install --upgrade pip' command.\u001b[0m\n"
     ]
    }
   ],
   "source": [
    "!pip install tqdm"
   ]
  },
  {
   "cell_type": "code",
   "execution_count": 52,
   "id": "3846c651",
   "metadata": {},
   "outputs": [],
   "source": [
    "if not with_weights:\n",
    "    class_weights = np.array([1 for i in range(len(class_weights))])"
   ]
  },
  {
   "cell_type": "code",
   "execution_count": 53,
   "id": "a99bb04a",
   "metadata": {},
   "outputs": [],
   "source": [
    "from tqdm import tqdm"
   ]
  },
  {
   "cell_type": "code",
   "execution_count": 54,
   "id": "8edf180e",
   "metadata": {},
   "outputs": [],
   "source": [
    "tf.keras.backend.set_floatx('float64')"
   ]
  },
  {
   "cell_type": "code",
   "execution_count": 55,
   "id": "801b95c4",
   "metadata": {},
   "outputs": [],
   "source": [
    "def generator(images, text, length):\n",
    "    while True:\n",
    "        for batched_image, batched_text, batched_length in zip(images, text, length):\n",
    "            yield batched_image, batched_text, batched_length"
   ]
  },
  {
   "cell_type": "code",
   "execution_count": 56,
   "id": "7312686c",
   "metadata": {},
   "outputs": [],
   "source": [
    "train_generator = generator(train_images, train_sequences, train_length)"
   ]
  },
  {
   "cell_type": "code",
   "execution_count": 57,
   "id": "54ec68a3",
   "metadata": {},
   "outputs": [],
   "source": [
    "val_generator = generator(val_images, val_sequences, val_length)"
   ]
  },
  {
   "cell_type": "code",
   "execution_count": 58,
   "id": "34019775",
   "metadata": {},
   "outputs": [
    {
     "data": {
      "text/plain": [
       "48"
      ]
     },
     "execution_count": 58,
     "metadata": {},
     "output_type": "execute_result"
    }
   ],
   "source": [
    "train_images.shape[0]"
   ]
  },
  {
   "cell_type": "code",
   "execution_count": 59,
   "id": "59b00fb5",
   "metadata": {},
   "outputs": [],
   "source": [
    "@tf.function\n",
    "def train_step():\n",
    "    image, target,lengths =  next(train_generator)\n",
    "    with tf.GradientTape() as tape:\n",
    "        initial_state = conv_encoder(image)\n",
    "        # Teacher forcing - feeding the target as the next input\n",
    "        batched_loss = []\n",
    "        for t in range(1, target.shape[1]):\n",
    "            \n",
    "            dec_input = tf.expand_dims(target[:, t-1], 1)\n",
    "            result, initial_state = lstm_decoder(input=dec_input, features=initial_state)\n",
    "            weights = tf.broadcast_to(class_weights, shape=(target[:,t].shape[0], class_weights.shape[0]))\n",
    "            weights = tf.gather(weights, target[:,t],axis=1, batch_dims=1)\n",
    "            batched_loss.append(loss_function(target[:, t], result, weights))\n",
    "        batched_loss = tf.reshape(tf.stack(batched_loss), shape=target[:,1:].shape)\n",
    "        batched_loss = tf.reduce_sum(batched_loss, axis=1)\n",
    "        lengths = tf.cast(lengths, dtype=batched_loss.dtype)\n",
    "        loss = tf.reduce_mean(batched_loss / lengths)\n",
    "\n",
    "    perplexity = tf.exp(loss)\n",
    "\n",
    "    variables = conv_encoder.trainable_variables + lstm_decoder.trainable_variables\n",
    "    gradients = tape.gradient(loss, variables)\n",
    "\n",
    "    optimizer.apply_gradients(zip(gradients, variables))\n",
    "\n",
    "    return loss, perplexity"
   ]
  },
  {
   "cell_type": "code",
   "execution_count": 60,
   "id": "06527a15",
   "metadata": {},
   "outputs": [],
   "source": [
    "@tf.function\n",
    "def evaluate():\n",
    "    image, target, lengths = next(val_generator)\n",
    "    initial_state = conv_encoder(image)\n",
    "    # Teacher forcing - feeding the target as the next input\n",
    "    batched_loss = []\n",
    "    for t in range(1, target.shape[1]):\n",
    "\n",
    "        dec_input = tf.expand_dims(target[:, t-1], 1)\n",
    "        result, initial_state = lstm_decoder(input=dec_input, features=initial_state)\n",
    "        weights = tf.broadcast_to(class_weights, shape=(target[:,t].shape[0], class_weights.shape[0]))\n",
    "        weights = tf.gather(weights, target[:,t],axis=1, batch_dims=1)\n",
    "        batched_loss.append(loss_function(target[:, t], result, weights))\n",
    "    \n",
    "    batched_loss = tf.reshape(tf.stack(batched_loss), shape=target[:,1:].shape)\n",
    "    batched_loss = tf.reduce_sum(batched_loss, axis=1)\n",
    "    lengths = tf.cast(lengths, dtype=batched_loss.dtype)\n",
    "    loss = tf.reduce_mean(batched_loss / lengths)\n",
    "    perplexity = tf.exp(loss)\n",
    "\n",
    "\n",
    "    return loss, perplexity"
   ]
  },
  {
   "cell_type": "code",
   "execution_count": 61,
   "id": "53258ba1",
   "metadata": {},
   "outputs": [
    {
     "name": "stderr",
     "output_type": "stream",
     "text": [
      "100%|██████████| 48/48 [01:07<00:00,  1.42s/it]\n"
     ]
    },
    {
     "name": "stdout",
     "output_type": "stream",
     "text": [
      "Finished epoch 0; Train loss : 3.54453182220459; Train perplexity : 127.35286712646484\n"
     ]
    },
    {
     "name": "stderr",
     "output_type": "stream",
     "text": [
      "  0%|          | 0/48 [00:00<?, ?it/s]"
     ]
    },
    {
     "name": "stdout",
     "output_type": "stream",
     "text": [
      "Validation loss : 4.7834954261779785; Validation perplexity : 119.52140045166016\n"
     ]
    },
    {
     "name": "stderr",
     "output_type": "stream",
     "text": [
      "100%|██████████| 48/48 [00:45<00:00,  1.05it/s]\n"
     ]
    },
    {
     "name": "stdout",
     "output_type": "stream",
     "text": [
      "Finished epoch 1; Train loss : 1.1896458864212036; Train perplexity : 3.4609873294830322\n"
     ]
    },
    {
     "name": "stderr",
     "output_type": "stream",
     "text": [
      "  0%|          | 0/48 [00:00<?, ?it/s]"
     ]
    },
    {
     "name": "stdout",
     "output_type": "stream",
     "text": [
      "Validation loss : 4.7660346031188965; Validation perplexity : 117.45257568359375\n"
     ]
    },
    {
     "name": "stderr",
     "output_type": "stream",
     "text": [
      "100%|██████████| 48/48 [00:46<00:00,  1.03it/s]\n"
     ]
    },
    {
     "name": "stdout",
     "output_type": "stream",
     "text": [
      "Finished epoch 2; Train loss : 0.5002059936523438; Train perplexity : 1.6600269079208374\n"
     ]
    },
    {
     "name": "stderr",
     "output_type": "stream",
     "text": [
      "  0%|          | 0/48 [00:00<?, ?it/s]"
     ]
    },
    {
     "name": "stdout",
     "output_type": "stream",
     "text": [
      "Validation loss : 4.838261127471924; Validation perplexity : 126.24968719482422\n"
     ]
    },
    {
     "name": "stderr",
     "output_type": "stream",
     "text": [
      "100%|██████████| 48/48 [00:46<00:00,  1.03it/s]\n"
     ]
    },
    {
     "name": "stdout",
     "output_type": "stream",
     "text": [
      "Finished epoch 3; Train loss : 0.23594097793102264; Train perplexity : 1.2675715684890747\n"
     ]
    },
    {
     "name": "stderr",
     "output_type": "stream",
     "text": [
      "  0%|          | 0/48 [00:00<?, ?it/s]"
     ]
    },
    {
     "name": "stdout",
     "output_type": "stream",
     "text": [
      "Validation loss : 4.878942966461182; Validation perplexity : 131.49159240722656\n",
      "There was no improvement in validation loss for 2 epochs, thus reducing learning rate\n"
     ]
    },
    {
     "name": "stderr",
     "output_type": "stream",
     "text": [
      "100%|██████████| 48/48 [00:46<00:00,  1.04it/s]\n"
     ]
    },
    {
     "name": "stdout",
     "output_type": "stream",
     "text": [
      "Finished epoch 4; Train loss : 0.1492607295513153; Train perplexity : 1.160988211631775\n"
     ]
    },
    {
     "name": "stderr",
     "output_type": "stream",
     "text": [
      "  0%|          | 0/48 [00:00<?, ?it/s]"
     ]
    },
    {
     "name": "stdout",
     "output_type": "stream",
     "text": [
      "Validation loss : 4.924103260040283; Validation perplexity : 137.5659942626953\n"
     ]
    },
    {
     "name": "stderr",
     "output_type": "stream",
     "text": [
      "100%|██████████| 48/48 [00:45<00:00,  1.05it/s]\n"
     ]
    },
    {
     "name": "stdout",
     "output_type": "stream",
     "text": [
      "Finished epoch 5; Train loss : 0.13241447508335114; Train perplexity : 1.1415945291519165\n"
     ]
    },
    {
     "name": "stderr",
     "output_type": "stream",
     "text": [
      "  0%|          | 0/48 [00:00<?, ?it/s]"
     ]
    },
    {
     "name": "stdout",
     "output_type": "stream",
     "text": [
      "Validation loss : 4.914368152618408; Validation perplexity : 136.2332763671875\n"
     ]
    },
    {
     "name": "stderr",
     "output_type": "stream",
     "text": [
      "100%|██████████| 48/48 [00:46<00:00,  1.03it/s]\n"
     ]
    },
    {
     "name": "stdout",
     "output_type": "stream",
     "text": [
      "Finished epoch 6; Train loss : 0.11704687029123306; Train perplexity : 1.1241817474365234\n"
     ]
    },
    {
     "name": "stderr",
     "output_type": "stream",
     "text": [
      "  0%|          | 0/48 [00:00<?, ?it/s]"
     ]
    },
    {
     "name": "stdout",
     "output_type": "stream",
     "text": [
      "Validation loss : 4.904858112335205; Validation perplexity : 134.94383239746094\n"
     ]
    },
    {
     "name": "stderr",
     "output_type": "stream",
     "text": [
      "100%|██████████| 48/48 [00:45<00:00,  1.06it/s]\n"
     ]
    },
    {
     "name": "stdout",
     "output_type": "stream",
     "text": [
      "Finished epoch 7; Train loss : 0.10382136702537537; Train perplexity : 1.109409213066101\n"
     ]
    },
    {
     "name": "stderr",
     "output_type": "stream",
     "text": [
      "  0%|          | 0/48 [00:00<?, ?it/s]"
     ]
    },
    {
     "name": "stdout",
     "output_type": "stream",
     "text": [
      "Validation loss : 4.896690845489502; Validation perplexity : 133.84613037109375\n"
     ]
    },
    {
     "name": "stderr",
     "output_type": "stream",
     "text": [
      "100%|██████████| 48/48 [00:46<00:00,  1.04it/s]\n"
     ]
    },
    {
     "name": "stdout",
     "output_type": "stream",
     "text": [
      "Finished epoch 8; Train loss : 0.09229433536529541; Train perplexity : 1.0966929197311401\n"
     ]
    },
    {
     "name": "stderr",
     "output_type": "stream",
     "text": [
      "  0%|          | 0/48 [00:00<?, ?it/s]"
     ]
    },
    {
     "name": "stdout",
     "output_type": "stream",
     "text": [
      "Validation loss : 4.891456604003906; Validation perplexity : 133.14735412597656\n"
     ]
    },
    {
     "name": "stderr",
     "output_type": "stream",
     "text": [
      "100%|██████████| 48/48 [00:45<00:00,  1.06it/s]\n"
     ]
    },
    {
     "name": "stdout",
     "output_type": "stream",
     "text": [
      "Finished epoch 9; Train loss : 0.08216948807239532; Train perplexity : 1.0856438875198364\n"
     ]
    },
    {
     "name": "stderr",
     "output_type": "stream",
     "text": [
      "  0%|          | 0/48 [00:00<?, ?it/s]"
     ]
    },
    {
     "name": "stdout",
     "output_type": "stream",
     "text": [
      "Validation loss : 4.887143611907959; Validation perplexity : 132.57437133789062\n"
     ]
    },
    {
     "name": "stderr",
     "output_type": "stream",
     "text": [
      "100%|██████████| 48/48 [00:46<00:00,  1.03it/s]\n"
     ]
    },
    {
     "name": "stdout",
     "output_type": "stream",
     "text": [
      "Finished epoch 10; Train loss : 0.0732288584113121; Train perplexity : 1.0759798288345337\n"
     ]
    },
    {
     "name": "stderr",
     "output_type": "stream",
     "text": [
      "  0%|          | 0/48 [00:00<?, ?it/s]"
     ]
    },
    {
     "name": "stdout",
     "output_type": "stream",
     "text": [
      "Validation loss : 4.883774280548096; Validation perplexity : 132.12841796875\n"
     ]
    },
    {
     "name": "stderr",
     "output_type": "stream",
     "text": [
      "100%|██████████| 48/48 [00:46<00:00,  1.04it/s]\n"
     ]
    },
    {
     "name": "stdout",
     "output_type": "stream",
     "text": [
      "Finished epoch 11; Train loss : 0.0653129443526268; Train perplexity : 1.0674954652786255\n"
     ]
    },
    {
     "name": "stderr",
     "output_type": "stream",
     "text": [
      "  0%|          | 0/48 [00:00<?, ?it/s]"
     ]
    },
    {
     "name": "stdout",
     "output_type": "stream",
     "text": [
      "Validation loss : 4.881460189819336; Validation perplexity : 131.82301330566406\n"
     ]
    },
    {
     "name": "stderr",
     "output_type": "stream",
     "text": [
      "100%|██████████| 48/48 [00:46<00:00,  1.04it/s]\n"
     ]
    },
    {
     "name": "stdout",
     "output_type": "stream",
     "text": [
      "Finished epoch 12; Train loss : 0.058287739753723145; Train perplexity : 1.0600216388702393\n"
     ]
    },
    {
     "name": "stderr",
     "output_type": "stream",
     "text": [
      "  0%|          | 0/48 [00:00<?, ?it/s]"
     ]
    },
    {
     "name": "stdout",
     "output_type": "stream",
     "text": [
      "Validation loss : 4.881319522857666; Validation perplexity : 131.80445861816406\n"
     ]
    },
    {
     "name": "stderr",
     "output_type": "stream",
     "text": [
      "100%|██████████| 48/48 [00:45<00:00,  1.06it/s]\n"
     ]
    },
    {
     "name": "stdout",
     "output_type": "stream",
     "text": [
      "Finished epoch 13; Train loss : 0.052042294293642044; Train perplexity : 1.0534218549728394\n"
     ]
    },
    {
     "name": "stderr",
     "output_type": "stream",
     "text": [
      "  0%|          | 0/48 [00:00<?, ?it/s]"
     ]
    },
    {
     "name": "stdout",
     "output_type": "stream",
     "text": [
      "Validation loss : 4.883163928985596; Validation perplexity : 132.0478515625\n"
     ]
    },
    {
     "name": "stderr",
     "output_type": "stream",
     "text": [
      "100%|██████████| 48/48 [00:46<00:00,  1.03it/s]\n"
     ]
    },
    {
     "name": "stdout",
     "output_type": "stream",
     "text": [
      "Finished epoch 14; Train loss : 0.04648180678486824; Train perplexity : 1.047580361366272\n"
     ]
    },
    {
     "name": "stderr",
     "output_type": "stream",
     "text": [
      "  0%|          | 0/48 [00:00<?, ?it/s]"
     ]
    },
    {
     "name": "stdout",
     "output_type": "stream",
     "text": [
      "Validation loss : 4.885643005371094; Validation perplexity : 132.37554931640625\n",
      "There was no improvement in validation loss for 2 epochs, thus reducing learning rate\n"
     ]
    },
    {
     "name": "stderr",
     "output_type": "stream",
     "text": [
      "100%|██████████| 48/48 [00:45<00:00,  1.05it/s]\n"
     ]
    },
    {
     "name": "stdout",
     "output_type": "stream",
     "text": [
      "Finished epoch 15; Train loss : 0.04355728253722191; Train perplexity : 1.0445197820663452\n"
     ]
    },
    {
     "name": "stderr",
     "output_type": "stream",
     "text": [
      "  0%|          | 0/48 [00:00<?, ?it/s]"
     ]
    },
    {
     "name": "stdout",
     "output_type": "stream",
     "text": [
      "Validation loss : 4.875307559967041; Validation perplexity : 131.01441955566406\n"
     ]
    },
    {
     "name": "stderr",
     "output_type": "stream",
     "text": [
      "100%|██████████| 48/48 [00:46<00:00,  1.03it/s]\n"
     ]
    },
    {
     "name": "stdout",
     "output_type": "stream",
     "text": [
      "Finished epoch 16; Train loss : 0.04296751692891121; Train perplexity : 1.0439039468765259\n"
     ]
    },
    {
     "name": "stderr",
     "output_type": "stream",
     "text": [
      "  0%|          | 0/48 [00:00<?, ?it/s]"
     ]
    },
    {
     "name": "stdout",
     "output_type": "stream",
     "text": [
      "Validation loss : 4.874919414520264; Validation perplexity : 130.963623046875\n"
     ]
    },
    {
     "name": "stderr",
     "output_type": "stream",
     "text": [
      "100%|██████████| 48/48 [00:45<00:00,  1.05it/s]\n"
     ]
    },
    {
     "name": "stdout",
     "output_type": "stream",
     "text": [
      "Finished epoch 17; Train loss : 0.04237524792551994; Train perplexity : 1.0432859659194946\n"
     ]
    },
    {
     "name": "stderr",
     "output_type": "stream",
     "text": [
      "  0%|          | 0/48 [00:00<?, ?it/s]"
     ]
    },
    {
     "name": "stdout",
     "output_type": "stream",
     "text": [
      "Validation loss : 4.874673366546631; Validation perplexity : 130.93138122558594\n"
     ]
    },
    {
     "name": "stderr",
     "output_type": "stream",
     "text": [
      "100%|██████████| 48/48 [00:46<00:00,  1.03it/s]\n"
     ]
    },
    {
     "name": "stdout",
     "output_type": "stream",
     "text": [
      "Finished epoch 18; Train loss : 0.041793327778577805; Train perplexity : 1.042678952217102\n"
     ]
    },
    {
     "name": "stderr",
     "output_type": "stream",
     "text": [
      "  0%|          | 0/48 [00:00<?, ?it/s]"
     ]
    },
    {
     "name": "stdout",
     "output_type": "stream",
     "text": [
      "Validation loss : 4.874397277832031; Validation perplexity : 130.89524841308594\n"
     ]
    },
    {
     "name": "stderr",
     "output_type": "stream",
     "text": [
      "100%|██████████| 48/48 [00:45<00:00,  1.05it/s]\n"
     ]
    },
    {
     "name": "stdout",
     "output_type": "stream",
     "text": [
      "Finished epoch 19; Train loss : 0.04122098162770271; Train perplexity : 1.04208242893219\n"
     ]
    },
    {
     "name": "stderr",
     "output_type": "stream",
     "text": [
      "  0%|          | 0/48 [00:00<?, ?it/s]"
     ]
    },
    {
     "name": "stdout",
     "output_type": "stream",
     "text": [
      "Validation loss : 4.874208927154541; Validation perplexity : 130.87059020996094\n"
     ]
    },
    {
     "name": "stderr",
     "output_type": "stream",
     "text": [
      "100%|██████████| 48/48 [00:46<00:00,  1.04it/s]\n"
     ]
    },
    {
     "name": "stdout",
     "output_type": "stream",
     "text": [
      "Finished epoch 20; Train loss : 0.04065745696425438; Train perplexity : 1.0414952039718628\n"
     ]
    },
    {
     "name": "stderr",
     "output_type": "stream",
     "text": [
      "  0%|          | 0/48 [00:00<?, ?it/s]"
     ]
    },
    {
     "name": "stdout",
     "output_type": "stream",
     "text": [
      "Validation loss : 4.873997211456299; Validation perplexity : 130.84288024902344\n"
     ]
    },
    {
     "name": "stderr",
     "output_type": "stream",
     "text": [
      "100%|██████████| 48/48 [00:45<00:00,  1.05it/s]\n"
     ]
    },
    {
     "name": "stdout",
     "output_type": "stream",
     "text": [
      "Finished epoch 21; Train loss : 0.04010247811675072; Train perplexity : 1.0409175157546997\n"
     ]
    },
    {
     "name": "stderr",
     "output_type": "stream",
     "text": [
      "  0%|          | 0/48 [00:00<?, ?it/s]"
     ]
    },
    {
     "name": "stdout",
     "output_type": "stream",
     "text": [
      "Validation loss : 4.873852252960205; Validation perplexity : 130.823974609375\n"
     ]
    },
    {
     "name": "stderr",
     "output_type": "stream",
     "text": [
      "100%|██████████| 48/48 [00:46<00:00,  1.04it/s]\n"
     ]
    },
    {
     "name": "stdout",
     "output_type": "stream",
     "text": [
      "Finished epoch 22; Train loss : 0.03955565765500069; Train perplexity : 1.0403484106063843\n"
     ]
    },
    {
     "name": "stderr",
     "output_type": "stream",
     "text": [
      "  0%|          | 0/48 [00:00<?, ?it/s]"
     ]
    },
    {
     "name": "stdout",
     "output_type": "stream",
     "text": [
      "Validation loss : 4.873697757720947; Validation perplexity : 130.8037109375\n"
     ]
    },
    {
     "name": "stderr",
     "output_type": "stream",
     "text": [
      "100%|██████████| 48/48 [00:45<00:00,  1.05it/s]\n"
     ]
    },
    {
     "name": "stdout",
     "output_type": "stream",
     "text": [
      "Finished epoch 23; Train loss : 0.03901693969964981; Train perplexity : 1.0397878885269165\n"
     ]
    },
    {
     "name": "stderr",
     "output_type": "stream",
     "text": [
      "  0%|          | 0/48 [00:00<?, ?it/s]"
     ]
    },
    {
     "name": "stdout",
     "output_type": "stream",
     "text": [
      "Validation loss : 4.873549938201904; Validation perplexity : 130.7843017578125\n"
     ]
    },
    {
     "name": "stderr",
     "output_type": "stream",
     "text": [
      "100%|██████████| 48/48 [00:46<00:00,  1.04it/s]\n"
     ]
    },
    {
     "name": "stdout",
     "output_type": "stream",
     "text": [
      "Finished epoch 24; Train loss : 0.03848611190915108; Train perplexity : 1.039236068725586\n"
     ]
    },
    {
     "name": "stderr",
     "output_type": "stream",
     "text": [
      "  0%|          | 0/48 [00:00<?, ?it/s]"
     ]
    },
    {
     "name": "stdout",
     "output_type": "stream",
     "text": [
      "Validation loss : 4.873477458953857; Validation perplexity : 130.77490234375\n"
     ]
    },
    {
     "name": "stderr",
     "output_type": "stream",
     "text": [
      "100%|██████████| 48/48 [00:45<00:00,  1.06it/s]\n"
     ]
    },
    {
     "name": "stdout",
     "output_type": "stream",
     "text": [
      "Finished epoch 25; Train loss : 0.037962764501571655; Train perplexity : 1.038692593574524\n"
     ]
    },
    {
     "name": "stderr",
     "output_type": "stream",
     "text": [
      "  0%|          | 0/48 [00:00<?, ?it/s]"
     ]
    },
    {
     "name": "stdout",
     "output_type": "stream",
     "text": [
      "Validation loss : 4.873394012451172; Validation perplexity : 130.76397705078125\n"
     ]
    },
    {
     "name": "stderr",
     "output_type": "stream",
     "text": [
      "100%|██████████| 48/48 [00:45<00:00,  1.04it/s]\n"
     ]
    },
    {
     "name": "stdout",
     "output_type": "stream",
     "text": [
      "Finished epoch 26; Train loss : 0.03744679316878319; Train perplexity : 1.0381566286087036\n"
     ]
    },
    {
     "name": "stderr",
     "output_type": "stream",
     "text": [
      "  0%|          | 0/48 [00:00<?, ?it/s]"
     ]
    },
    {
     "name": "stdout",
     "output_type": "stream",
     "text": [
      "Validation loss : 4.873402118682861; Validation perplexity : 130.76512145996094\n"
     ]
    },
    {
     "name": "stderr",
     "output_type": "stream",
     "text": [
      "100%|██████████| 48/48 [00:45<00:00,  1.05it/s]\n"
     ]
    },
    {
     "name": "stdout",
     "output_type": "stream",
     "text": [
      "Finished epoch 27; Train loss : 0.036938149482011795; Train perplexity : 1.0376287698745728\n"
     ]
    },
    {
     "name": "stderr",
     "output_type": "stream",
     "text": [
      "  0%|          | 0/48 [00:00<?, ?it/s]"
     ]
    },
    {
     "name": "stdout",
     "output_type": "stream",
     "text": [
      "Validation loss : 4.873401641845703; Validation perplexity : 130.76499938964844\n"
     ]
    },
    {
     "name": "stderr",
     "output_type": "stream",
     "text": [
      "100%|██████████| 48/48 [00:46<00:00,  1.04it/s]\n"
     ]
    },
    {
     "name": "stdout",
     "output_type": "stream",
     "text": [
      "Finished epoch 28; Train loss : 0.03643663600087166; Train perplexity : 1.0371085405349731\n"
     ]
    },
    {
     "name": "stderr",
     "output_type": "stream",
     "text": [
      "  0%|          | 0/48 [00:00<?, ?it/s]"
     ]
    },
    {
     "name": "stdout",
     "output_type": "stream",
     "text": [
      "Validation loss : 4.873363494873047; Validation perplexity : 130.75999450683594\n"
     ]
    },
    {
     "name": "stderr",
     "output_type": "stream",
     "text": [
      "100%|██████████| 48/48 [00:46<00:00,  1.04it/s]\n"
     ]
    },
    {
     "name": "stdout",
     "output_type": "stream",
     "text": [
      "Finished epoch 29; Train loss : 0.03594202175736427; Train perplexity : 1.0365957021713257\n",
      "Validation loss : 4.873375415802002; Validation perplexity : 130.7615509033203\n"
     ]
    }
   ],
   "source": [
    "train_loss = []\n",
    "train_perplexity = []\n",
    "val_loss = []\n",
    "val_perplexity = []\n",
    "overfit_epochs = 0\n",
    "for epoch in range(epochs):\n",
    "    epoch_train_loss = 0\n",
    "    epoch_train_perplexity = 0\n",
    "    epoch_val_loss = 0\n",
    "    epoch_val_perplexity = 0\n",
    "    for i in tqdm(range(train_images.shape[0])):\n",
    "        batched_train_loss, batched_train_perplexity = train_step()\n",
    "        epoch_train_loss+=batched_train_loss\n",
    "        epoch_train_perplexity+=batched_train_perplexity\n",
    "    epoch_train_loss = epoch_train_loss/train_images.shape[0]\n",
    "    epoch_train_perplexity = epoch_train_perplexity/train_images.shape[0]\n",
    "    train_loss.append(epoch_train_loss)\n",
    "    train_perplexity.append(epoch_train_perplexity)\n",
    "    print('Finished epoch {}; Train loss : {}; Train perplexity : {}'.format(epoch,epoch_train_loss,epoch_train_perplexity))\n",
    "    for i in range(val_images.shape[0]):\n",
    "        batched_val_loss, batched_val_perplexity = evaluate()\n",
    "        epoch_val_loss+=batched_val_loss\n",
    "        epoch_val_perplexity+=batched_val_perplexity\n",
    "    epoch_val_loss = epoch_val_loss/val_images.shape[0]\n",
    "    epoch_val_perplexity = epoch_val_perplexity/val_images.shape[0]\n",
    "    val_perplexity.append(epoch_val_perplexity)\n",
    "    val_loss.append(epoch_val_loss)\n",
    "    print('Validation loss : {}; Validation perplexity : {}'.format(epoch_val_loss,epoch_val_perplexity))\n",
    "    if len(val_loss)>=2 and val_loss[-2]<val_loss[-1]:\n",
    "        overfit_epochs+=1\n",
    "    else:\n",
    "        overfit_epochs=0\n",
    "    if overfit_epochs==patience_epochs:\n",
    "        lr_value/=reduction_power\n",
    "        optimizer.lr.assign(lr_value)\n",
    "        print('There was no improvement in validation loss for {} epochs, thus reducing learning rate'.format(patience_epochs))"
   ]
  },
  {
   "cell_type": "markdown",
   "id": "078431b5",
   "metadata": {},
   "source": [
    "# Viewing and saving results"
   ]
  },
  {
   "cell_type": "code",
   "execution_count": 66,
   "id": "205824d4",
   "metadata": {},
   "outputs": [],
   "source": [
    "df = pd.DataFrame()\n",
    "model_name = 'conv_lstm_enc_dec_logits_transfer_w2v_resnet_learning_dynamic_length_weights'\n",
    "df['train_perplexity'] = [i.numpy() for i in train_perplexity]\n",
    "df['val_perplexity'] = [i.numpy() for i in val_perplexity]\n",
    "df['train_loss'] = [i.numpy() for i in train_loss]\n",
    "df['val_loss'] = [i.numpy() for i in val_loss]"
   ]
  },
  {
   "cell_type": "code",
   "execution_count": 67,
   "id": "2f426c1b",
   "metadata": {},
   "outputs": [],
   "source": [
    "import matplotlib.pyplot as plt\n",
    "import seaborn as sns\n",
    "sns.set()"
   ]
  },
  {
   "cell_type": "code",
   "execution_count": 68,
   "id": "728fec57",
   "metadata": {},
   "outputs": [
    {
     "data": {
      "image/png": "[encoded data removed]",
      "text/plain": [
       "<Figure size 1080x864 with 1 Axes>"
      ]
     },
     "metadata": {},
     "output_type": "display_data"
    }
   ],
   "source": [
    "plt.figure(figsize=(15,12))\n",
    "plt.title('Perplexity results')\n",
    "plt.plot(df['train_perplexity'])\n",
    "plt.plot(df['val_perplexity'])\n",
    "plt.xlabel('Epochs')\n",
    "plt.ylabel('Perplexity')\n",
    "plt.yticks(np.arange(min(df['train_perplexity']), max(df['train_perplexity'])+100,100))\n",
    "plt.legend(['Train', 'Validation']);"
   ]
  },
  {
   "cell_type": "code",
   "execution_count": 69,
   "id": "e720bd8c",
   "metadata": {},
   "outputs": [
    {
     "data": {
      "image/png": "[encoded data removed]",
      "text/plain": [
       "<Figure size 1080x864 with 1 Axes>"
      ]
     },
     "metadata": {},
     "output_type": "display_data"
    }
   ],
   "source": [
    "plt.figure(figsize=(15,12))\n",
    "plt.title('Loss results')\n",
    "plt.plot(df['train_loss'])\n",
    "plt.plot(df['val_loss'])\n",
    "plt.xlabel('Epochs')\n",
    "plt.ylabel('Loss')\n",
    "plt.yticks(np.arange(min(df['train_loss']),max(df['val_loss']),0.2))\n",
    "plt.legend(['Train', 'Validation']);"
   ]
  },
  {
   "cell_type": "markdown",
   "id": "c57ef8e3",
   "metadata": {},
   "source": [
    "# Testing model"
   ]
  },
  {
   "cell_type": "code",
   "execution_count": 70,
   "id": "01f309b2",
   "metadata": {},
   "outputs": [],
   "source": [
    "import matplotlib.pyplot as plt\n",
    "import seaborn as sns"
   ]
  },
  {
   "cell_type": "code",
   "execution_count": 71,
   "id": "436e9875",
   "metadata": {},
   "outputs": [],
   "source": [
    "class Decoder:\n",
    "    def __init__(self, encoder: tf.keras.Model,\n",
    "                 decoder: tf.keras.Model,\n",
    "                 start_token: int,\n",
    "                 end_token: int,\n",
    "                 max_len: int = None):\n",
    "        self.encoder = encoder\n",
    "        self.decoder = decoder\n",
    "        self.max_len = max_len if max_len else 100\n",
    "        self.start_token = start_token\n",
    "        self.end_token = end_token\n",
    "\n",
    "    def decode(self, input):\n",
    "        pass\n",
    "\n",
    "\n",
    "class GreedyDecoder(Decoder):\n",
    "    def __init__(self, encoder: tf.keras.Model,\n",
    "                 decoder: tf.keras.Model,\n",
    "                 start_token: int,\n",
    "                 end_token: int,\n",
    "                 max_len: int = 10,\n",
    "                 ):\n",
    "        super().__init__(encoder,\n",
    "                         decoder,\n",
    "                         start_token,\n",
    "                         end_token,\n",
    "                         max_len\n",
    "                         )\n",
    "\n",
    "    def decode(self, input):\n",
    "        initial_state = self.encoder(np.expand_dims(input, axis=0))\n",
    "        target_seq = np.zeros((1, 1))\n",
    "        target_seq[0, 0] = self.start_token\n",
    "        res = []\n",
    "        while True:\n",
    "            # Sample a token\n",
    "            output, initial_state = self.decoder(target_seq,initial_state)\n",
    "            sampled_token_index = np.argmax(tf.nn.softmax(output.numpy()))\n",
    "            if len(res) > self.max_len or sampled_token_index == self.end_token:\n",
    "                break\n",
    "\n",
    "            res.append(sampled_token_index)\n",
    "\n",
    "            target_seq = np.zeros((1, 1))\n",
    "            target_seq[0, 0] = sampled_token_index\n",
    "\n",
    "       \n",
    "        return res\n"
   ]
  },
  {
   "cell_type": "code",
   "execution_count": 72,
   "id": "1728a78e",
   "metadata": {},
   "outputs": [],
   "source": [
    "class BeamSearchDecoder(Decoder):\n",
    "    def __init__(self, encoder: tf.keras.Model,\n",
    "                 decoder: tf.keras.Model,\n",
    "                 start_token: int,\n",
    "                 end_token: int,\n",
    "                 max_len: int = 10,\n",
    "                 ):\n",
    "        super().__init__(encoder,\n",
    "                         decoder,\n",
    "                         start_token,\n",
    "                         end_token,\n",
    "                         max_len\n",
    "                         )\n",
    "\n",
    "    def decode(self, input, beam_size=3):\n",
    "        start = [self.start_token]\n",
    "        initial_state = self.encoder(np.expand_dims(input,axis=0))\n",
    "\n",
    "\n",
    "        start_word = [[start, 0.0, initial_state]]\n",
    "\n",
    "        while len(start_word[0][0]) < self.max_len:\n",
    "            temp = []\n",
    "            for s in start_word:\n",
    "                target_seq = np.array([[s[0][-1]]])\n",
    "                initial_state = s[-1]\n",
    "                output, initial_state = self.decoder(target_seq, initial_state)\n",
    "                output = np.hstack(output)\n",
    "                output = tf.nn.softmax(output).numpy()\n",
    "                word_preds = np.argsort(output)[-beam_size:]\n",
    "\n",
    "                for w in word_preds:\n",
    "                    next_cap, prob = s[0][:], s[1]\n",
    "                    next_cap.append(w)\n",
    "                    prob += output[w]\n",
    "                    temp.append([next_cap, prob, initial_state])\n",
    "\n",
    "            start_word = temp\n",
    "            # Sorting according to the probabilities\n",
    "            start_word = sorted(start_word, reverse=False, key=lambda l: l[1])\n",
    "            # Getting the top words\n",
    "            start_word = start_word[-beam_size:]\n",
    "\n",
    "        start_word = start_word[-1][0]\n",
    "\n",
    "        final_caption = []\n",
    "\n",
    "        for i in start_word:\n",
    "            if i != self.end_token:\n",
    "                final_caption.append(i)\n",
    "            else:\n",
    "                break\n",
    "        return final_caption[1:]"
   ]
  },
  {
   "cell_type": "code",
   "execution_count": 73,
   "id": "5ae0390d",
   "metadata": {},
   "outputs": [],
   "source": [
    "def predict(data, decoder, inverse_vocab,\n",
    "           beam_size=None):\n",
    "    if beam_size:\n",
    "        result = decoder.decode(data, beam_size=beam_size)\n",
    "    else:\n",
    "        result = decoder.decode(data)\n",
    "    return ' '.join([inverse_vocab[i] for i in result])"
   ]
  },
  {
   "cell_type": "code",
   "execution_count": 74,
   "id": "bad77236",
   "metadata": {},
   "outputs": [],
   "source": [
    "greedy_decoder = GreedyDecoder(conv_encoder, lstm_decoder, vocab[start_token], vocab[end_token],\n",
    "             max_len=10)"
   ]
  },
  {
   "cell_type": "code",
   "execution_count": 75,
   "id": "03fec53c",
   "metadata": {},
   "outputs": [],
   "source": [
    "beam_decoder = BeamSearchDecoder(conv_encoder, lstm_decoder, vocab[start_token], vocab[end_token],\n",
    "             max_len=10)"
   ]
  },
  {
   "cell_type": "code",
   "execution_count": 76,
   "id": "d07e4186",
   "metadata": {},
   "outputs": [
    {
     "data": {
      "text/plain": [
       "(3840, 224, 224, 3)"
      ]
     },
     "execution_count": 76,
     "metadata": {},
     "output_type": "execute_result"
    }
   ],
   "source": [
    "images.shape"
   ]
  },
  {
   "cell_type": "code",
   "execution_count": 77,
   "id": "7dc0ad51",
   "metadata": {},
   "outputs": [],
   "source": [
    "idx = np.random.choice(range(len(images)))\n",
    "sample = images[idx]"
   ]
  },
  {
   "cell_type": "code",
   "execution_count": 78,
   "id": "2ddcffa0",
   "metadata": {},
   "outputs": [
    {
     "name": "stdout",
     "output_type": "stream",
     "text": [
      "the couple is happy to be in focus during the event\n"
     ]
    },
    {
     "data": {
      "image/png": "[encoded data removed]",
      "text/plain": [
       "<Figure size 576x576 with 1 Axes>"
      ]
     },
     "metadata": {},
     "output_type": "display_data"
    }
   ],
   "source": [
    "plt.figure(figsize=(8,8))\n",
    "plt.imshow(sample)\n",
    "plt.grid([])\n",
    "plt.axis('off');\n",
    "print(annotations[idx])"
   ]
  },
  {
   "cell_type": "code",
   "execution_count": 79,
   "id": "fbe03b05",
   "metadata": {},
   "outputs": [
    {
     "name": "stdout",
     "output_type": "stream",
     "text": [
      "WARNING:tensorflow:Layer lstm_decoder is casting an input tensor from dtype float64 to the layer's dtype of float32, which is new behavior in TensorFlow 2.  The layer has dtype float32 because its dtype defaults to floatx.\n",
      "\n",
      "If you intended to run this layer in float32, you can safely ignore this warning. If in doubt, this warning is likely only an issue if you are porting a TensorFlow 1.X model to TensorFlow 2.\n",
      "\n",
      "To change all layers to have dtype float64 by default, call `tf.keras.backend.set_floatx('float64')`. To change just this layer, pass dtype='float64' to the layer constructor. If you are the author of this layer, you can disable autocasting by passing autocast=False to the base Layer constructor.\n",
      "\n"
     ]
    },
    {
     "data": {
      "text/plain": [
       "'men are sad'"
      ]
     },
     "execution_count": 79,
     "metadata": {},
     "output_type": "execute_result"
    }
   ],
   "source": [
    "predict(sample, greedy_decoder, inverse_vocab)"
   ]
  },
  {
   "cell_type": "code",
   "execution_count": 80,
   "id": "b0699fbf",
   "metadata": {},
   "outputs": [
    {
     "data": {
      "text/plain": [
       "'serious men are discussing something'"
      ]
     },
     "execution_count": 80,
     "metadata": {},
     "output_type": "execute_result"
    }
   ],
   "source": [
    "predict(sample, beam_decoder, inverse_vocab, beam_size=10)"
   ]
  },
  {
   "cell_type": "markdown",
   "id": "18489bef",
   "metadata": {},
   "source": [
    "# Blue score calculation"
   ]
  },
  {
   "cell_type": "code",
   "execution_count": 81,
   "id": "d28f7c8a",
   "metadata": {},
   "outputs": [],
   "source": [
    "from nltk.translate.bleu_score import sentence_bleu\n"
   ]
  },
  {
   "cell_type": "markdown",
   "id": "43d943e3",
   "metadata": {},
   "source": [
    "### making predictions on test dataset with beam_size of 5"
   ]
  },
  {
   "cell_type": "code",
   "execution_count": 82,
   "id": "b253a773",
   "metadata": {},
   "outputs": [
    {
     "name": "stderr",
     "output_type": "stream",
     "text": [
      "100%|██████████| 6/6 [03:53<00:00, 38.90s/it]\n"
     ]
    }
   ],
   "source": [
    "test_predictions = []\n",
    "for batch in tqdm(test_images):\n",
    "    for image in batch:\n",
    "        result = predict(image, beam_decoder, inverse_vocab, beam_size=5)\n",
    "        test_predictions.append(result)"
   ]
  },
  {
   "cell_type": "code",
   "execution_count": 83,
   "id": "32c47890",
   "metadata": {},
   "outputs": [],
   "source": [
    "test_predictions = [i.split(' ') for i in test_predictions]"
   ]
  },
  {
   "cell_type": "code",
   "execution_count": 84,
   "id": "6b6f704c",
   "metadata": {},
   "outputs": [
    {
     "data": {
      "text/plain": [
       "(64, 8)"
      ]
     },
     "execution_count": 84,
     "metadata": {},
     "output_type": "execute_result"
    }
   ],
   "source": [
    "test_sequences[0].shape"
   ]
  },
  {
   "cell_type": "code",
   "execution_count": 85,
   "id": "dcd48c54",
   "metadata": {},
   "outputs": [],
   "source": [
    "test_sentences = []\n",
    "for z in test_sequences:\n",
    "    for i in z:\n",
    "        tmp = []\n",
    "        for word in i:\n",
    "            if word!=0 and word!=1 and word!=2:\n",
    "                tmp.append(inverse_vocab[word])\n",
    "        test_sentences.append(tmp)"
   ]
  },
  {
   "cell_type": "code",
   "execution_count": 86,
   "id": "dfb4785e",
   "metadata": {},
   "outputs": [
    {
     "name": "stdout",
     "output_type": "stream",
     "text": [
      "Overall bleu score on test data : 2.905614758594547e-80\n"
     ]
    },
    {
     "name": "stderr",
     "output_type": "stream",
     "text": [
      "/home/ec2-user/anaconda3/envs/amazonei_tensorflow2_p36/lib/python3.6/site-packages/nltk/translate/bleu_score.py:523: UserWarning: \n",
      "The hypothesis contains 0 counts of 2-gram overlaps.\n",
      "Therefore the BLEU score evaluates to 0, independently of\n",
      "how many N-gram overlaps of lower order it contains.\n",
      "Consider using lower n-gram order or use SmoothingFunction()\n",
      "  warnings.warn(_msg)\n",
      "/home/ec2-user/anaconda3/envs/amazonei_tensorflow2_p36/lib/python3.6/site-packages/nltk/translate/bleu_score.py:523: UserWarning: \n",
      "The hypothesis contains 0 counts of 3-gram overlaps.\n",
      "Therefore the BLEU score evaluates to 0, independently of\n",
      "how many N-gram overlaps of lower order it contains.\n",
      "Consider using lower n-gram order or use SmoothingFunction()\n",
      "  warnings.warn(_msg)\n",
      "/home/ec2-user/anaconda3/envs/amazonei_tensorflow2_p36/lib/python3.6/site-packages/nltk/translate/bleu_score.py:523: UserWarning: \n",
      "The hypothesis contains 0 counts of 4-gram overlaps.\n",
      "Therefore the BLEU score evaluates to 0, independently of\n",
      "how many N-gram overlaps of lower order it contains.\n",
      "Consider using lower n-gram order or use SmoothingFunction()\n",
      "  warnings.warn(_msg)\n"
     ]
    }
   ],
   "source": [
    "bleu_score = []\n",
    "for reference, prediction in zip(test_sentences, test_predictions):\n",
    "    bleu_score.append(sentence_bleu([reference], prediction))\n",
    "print('Overall bleu score on test data : {}'.format(np.mean(bleu_score)))\n",
    "df['overall_bleu'] = np.mean(bleu_score)*100"
   ]
  },
  {
   "cell_type": "code",
   "execution_count": 87,
   "id": "b0bdc4de",
   "metadata": {},
   "outputs": [
    {
     "name": "stdout",
     "output_type": "stream",
     "text": [
      "Bleu score on test data for n-gram = 1 : 0.04492213234490663\n"
     ]
    }
   ],
   "source": [
    "bleu_score = []\n",
    "for reference, prediction in zip(test_sentences, test_predictions):\n",
    "    bleu_score.append(sentence_bleu([reference], prediction, weights=(1,)))\n",
    "print('Bleu score on test data for n-gram = 1 : {}'.format(np.mean(bleu_score)))\n",
    "df['n1_bleu'] = np.mean(bleu_score)*100"
   ]
  },
  {
   "cell_type": "code",
   "execution_count": 88,
   "id": "5fcfa039",
   "metadata": {},
   "outputs": [
    {
     "name": "stdout",
     "output_type": "stream",
     "text": [
      "Bleu score on test data for n-gram = 2 : 0.011743584828493638\n"
     ]
    }
   ],
   "source": [
    "bleu_score = []\n",
    "for reference, prediction in zip(test_sentences, test_predictions):\n",
    "    bleu_score.append(sentence_bleu([reference], prediction, weights=(0,1)))\n",
    "print('Bleu score on test data for n-gram = 2 : {}'.format(np.mean(bleu_score)))\n",
    "df['n2_bleu'] = np.mean(bleu_score)*100"
   ]
  },
  {
   "cell_type": "code",
   "execution_count": 89,
   "id": "c1ab7c1f",
   "metadata": {},
   "outputs": [
    {
     "name": "stdout",
     "output_type": "stream",
     "text": [
      "Bleu score on test data for n-gram = 3 : 0.0015699887764213947\n"
     ]
    }
   ],
   "source": [
    "bleu_score = []\n",
    "for reference, prediction in zip(test_sentences, test_predictions):\n",
    "    bleu_score.append(sentence_bleu([reference], prediction, weights=(0,0,1)))\n",
    "print('Bleu score on test data for n-gram = 3 : {}'.format(np.mean(bleu_score)))\n",
    "df['n3_bleu'] = np.mean(bleu_score)*100"
   ]
  },
  {
   "cell_type": "code",
   "execution_count": 90,
   "id": "be68ce62",
   "metadata": {},
   "outputs": [
    {
     "name": "stdout",
     "output_type": "stream",
     "text": [
      "Bleu score on test data for n-gram = 4 : 2.6940538984659e-309\n"
     ]
    }
   ],
   "source": [
    "bleu_score = []\n",
    "for reference, prediction in zip(test_sentences, test_predictions):\n",
    "    bleu_score.append(sentence_bleu([reference], prediction, weights=(0,0,0,1)))\n",
    "print('Bleu score on test data for n-gram = 4 : {}'.format(np.mean(bleu_score)))\n",
    "df['n4_bleu'] = np.mean(bleu_score)*100"
   ]
  },
  {
   "cell_type": "code",
   "execution_count": 91,
   "id": "e0938b55",
   "metadata": {},
   "outputs": [
    {
     "name": "stdout",
     "output_type": "stream",
     "text": [
      "Acuumulated bleu score on test data for n-gram = 4 : 2.905614758594547e-80\n"
     ]
    }
   ],
   "source": [
    "bleu_score = []\n",
    "for reference, prediction in zip(test_sentences, test_predictions):\n",
    "    bleu_score.append(sentence_bleu([reference], prediction, weights=(0.25,0.25,0.25,0.25)))\n",
    "print('Acuumulated bleu score on test data for n-gram = 4 : {}'.format(np.mean(bleu_score)))\n",
    "df['acc_bleu'] = np.mean(bleu_score)*100"
   ]
  },
  {
   "cell_type": "code",
   "execution_count": 92,
   "id": "c1b05022",
   "metadata": {},
   "outputs": [
    {
     "data": {
      "text/html": [
       "<div>\n",
       "<style scoped>\n",
       "    .dataframe tbody tr th:only-of-type {\n",
       "        vertical-align: middle;\n",
       "    }\n",
       "\n",
       "    .dataframe tbody tr th {\n",
       "        vertical-align: top;\n",
       "    }\n",
       "\n",
       "    .dataframe thead th {\n",
       "        text-align: right;\n",
       "    }\n",
       "</style>\n",
       "<table border=\"1\" class=\"dataframe\">\n",
       "  <thead>\n",
       "    <tr style=\"text-align: right;\">\n",
       "      <th></th>\n",
       "      <th>train_perplexity</th>\n",
       "      <th>val_perplexity</th>\n",
       "      <th>train_loss</th>\n",
       "      <th>val_loss</th>\n",
       "      <th>overall_bleu</th>\n",
       "      <th>n1_bleu</th>\n",
       "      <th>n2_bleu</th>\n",
       "      <th>n3_bleu</th>\n",
       "      <th>n4_bleu</th>\n",
       "      <th>acc_bleu</th>\n",
       "    </tr>\n",
       "  </thead>\n",
       "  <tbody>\n",
       "    <tr>\n",
       "      <th>0</th>\n",
       "      <td>127.352867</td>\n",
       "      <td>119.521400</td>\n",
       "      <td>3.544532</td>\n",
       "      <td>4.783495</td>\n",
       "      <td>2.905615e-78</td>\n",
       "      <td>4.492213</td>\n",
       "      <td>1.174358</td>\n",
       "      <td>0.156999</td>\n",
       "      <td>2.694054e-307</td>\n",
       "      <td>2.905615e-78</td>\n",
       "    </tr>\n",
       "    <tr>\n",
       "      <th>1</th>\n",
       "      <td>3.460987</td>\n",
       "      <td>117.452576</td>\n",
       "      <td>1.189646</td>\n",
       "      <td>4.766035</td>\n",
       "      <td>2.905615e-78</td>\n",
       "      <td>4.492213</td>\n",
       "      <td>1.174358</td>\n",
       "      <td>0.156999</td>\n",
       "      <td>2.694054e-307</td>\n",
       "      <td>2.905615e-78</td>\n",
       "    </tr>\n",
       "    <tr>\n",
       "      <th>2</th>\n",
       "      <td>1.660027</td>\n",
       "      <td>126.249687</td>\n",
       "      <td>0.500206</td>\n",
       "      <td>4.838261</td>\n",
       "      <td>2.905615e-78</td>\n",
       "      <td>4.492213</td>\n",
       "      <td>1.174358</td>\n",
       "      <td>0.156999</td>\n",
       "      <td>2.694054e-307</td>\n",
       "      <td>2.905615e-78</td>\n",
       "    </tr>\n",
       "    <tr>\n",
       "      <th>3</th>\n",
       "      <td>1.267572</td>\n",
       "      <td>131.491592</td>\n",
       "      <td>0.235941</td>\n",
       "      <td>4.878943</td>\n",
       "      <td>2.905615e-78</td>\n",
       "      <td>4.492213</td>\n",
       "      <td>1.174358</td>\n",
       "      <td>0.156999</td>\n",
       "      <td>2.694054e-307</td>\n",
       "      <td>2.905615e-78</td>\n",
       "    </tr>\n",
       "    <tr>\n",
       "      <th>4</th>\n",
       "      <td>1.160988</td>\n",
       "      <td>137.565994</td>\n",
       "      <td>0.149261</td>\n",
       "      <td>4.924103</td>\n",
       "      <td>2.905615e-78</td>\n",
       "      <td>4.492213</td>\n",
       "      <td>1.174358</td>\n",
       "      <td>0.156999</td>\n",
       "      <td>2.694054e-307</td>\n",
       "      <td>2.905615e-78</td>\n",
       "    </tr>\n",
       "  </tbody>\n",
       "</table>\n",
       "</div>"
      ],
      "text/plain": [
       "   train_perplexity  val_perplexity  train_loss  val_loss  overall_bleu  \\\n",
       "0        127.352867      119.521400    3.544532  4.783495  2.905615e-78   \n",
       "1          3.460987      117.452576    1.189646  4.766035  2.905615e-78   \n",
       "2          1.660027      126.249687    0.500206  4.838261  2.905615e-78   \n",
       "3          1.267572      131.491592    0.235941  4.878943  2.905615e-78   \n",
       "4          1.160988      137.565994    0.149261  4.924103  2.905615e-78   \n",
       "\n",
       "    n1_bleu   n2_bleu   n3_bleu        n4_bleu      acc_bleu  \n",
       "0  4.492213  1.174358  0.156999  2.694054e-307  2.905615e-78  \n",
       "1  4.492213  1.174358  0.156999  2.694054e-307  2.905615e-78  \n",
       "2  4.492213  1.174358  0.156999  2.694054e-307  2.905615e-78  \n",
       "3  4.492213  1.174358  0.156999  2.694054e-307  2.905615e-78  \n",
       "4  4.492213  1.174358  0.156999  2.694054e-307  2.905615e-78  "
      ]
     },
     "execution_count": 92,
     "metadata": {},
     "output_type": "execute_result"
    }
   ],
   "source": [
    "df.head()"
   ]
  },
  {
   "cell_type": "code",
   "execution_count": 93,
   "id": "32677e17",
   "metadata": {},
   "outputs": [],
   "source": [
    "df.to_csv('{}_logs.csv'.format(model_name),index=False)"
   ]
  },
  {
   "cell_type": "code",
   "execution_count": 94,
   "id": "5dc45ad7",
   "metadata": {},
   "outputs": [],
   "source": [
    "conv_encoder.save_weights('{}_encoder.h5'.format(model_name))"
   ]
  },
  {
   "cell_type": "code",
   "execution_count": 95,
   "id": "5fc458da",
   "metadata": {},
   "outputs": [],
   "source": [
    "lstm_decoder.save_weights('{}_decoder.h5'.format(model_name))"
   ]
  },
  {
   "cell_type": "markdown",
   "id": "0ade7c0e",
   "metadata": {},
   "source": [
    "# Predictions on own data"
   ]
  },
  {
   "cell_type": "code",
   "execution_count": 96,
   "id": "968e0692",
   "metadata": {},
   "outputs": [],
   "source": [
    "img = np.array(im.load_img('download.jpeg', target_size=(224,224)))/255"
   ]
  },
  {
   "cell_type": "code",
   "execution_count": 97,
   "id": "6aa344af",
   "metadata": {},
   "outputs": [
    {
     "data": {
      "text/plain": [
       "<matplotlib.image.AxesImage at 0x7fd35b7a5e80>"
      ]
     },
     "execution_count": 97,
     "metadata": {},
     "output_type": "execute_result"
    },
    {
     "data": {
      "image/png": "[encoded data removed]",
      "text/plain": [
       "<Figure size 432x288 with 1 Axes>"
      ]
     },
     "metadata": {},
     "output_type": "display_data"
    }
   ],
   "source": [
    "plt.imshow(img)"
   ]
  },
  {
   "cell_type": "code",
   "execution_count": 98,
   "id": "6f8ed9a2",
   "metadata": {},
   "outputs": [
    {
     "data": {
      "text/plain": [
       "'two men look cautious'"
      ]
     },
     "execution_count": 98,
     "metadata": {},
     "output_type": "execute_result"
    }
   ],
   "source": [
    "predict(img, greedy_decoder, inverse_vocab)"
   ]
  },
  {
   "cell_type": "code",
   "execution_count": 99,
   "id": "870bdb59",
   "metadata": {},
   "outputs": [
    {
     "data": {
      "text/plain": [
       "'two men researching something'"
      ]
     },
     "execution_count": 99,
     "metadata": {},
     "output_type": "execute_result"
    }
   ],
   "source": [
    "predict(img, beam_decoder, inverse_vocab, beam_size=7)"
   ]
  },
  {
   "cell_type": "code",
   "execution_count": null,
   "id": "08758843",
   "metadata": {},
   "outputs": [],
   "source": []
  }
 ],
 "metadata": {
  "kernelspec": {
   "display_name": "conda_amazonei_tensorflow2_p36",
   "language": "python",
   "name": "conda_amazonei_tensorflow2_p36"
  },
  "language_info": {
   "codemirror_mode": {
    "name": "ipython",
    "version": 3
   },
   "file_extension": ".py",
   "mimetype": "text/x-python",
   "name": "python",
   "nbconvert_exporter": "python",
   "pygments_lexer": "ipython3",
   "version": "3.6.13"
  }
 },
 "nbformat": 4,
 "nbformat_minor": 5
}
