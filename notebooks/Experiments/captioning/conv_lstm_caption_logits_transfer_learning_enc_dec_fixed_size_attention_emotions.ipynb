{
 "cells": [
  {
   "cell_type": "code",
   "execution_count": 1,
   "id": "f978a15d",
   "metadata": {
    "id": "e2d397db"
   },
   "outputs": [],
   "source": [
    "import tensorflow as tf"
   ]
  },
  {
   "cell_type": "code",
   "execution_count": 2,
   "id": "1518c45c",
   "metadata": {
    "id": "9964723c"
   },
   "outputs": [],
   "source": [
    "import pandas as pd\n",
    "import os\n",
    "import numpy as np\n",
    "from sklearn.utils import class_weight\n",
    "from keras_preprocessing import image as im\n",
    "tf.random.set_seed(\n",
    "    5\n",
    ")"
   ]
  },
  {
   "cell_type": "markdown",
   "id": "2131e8b3",
   "metadata": {
    "id": "8ce21b4a"
   },
   "source": [
    "# Loading data"
   ]
  },
  {
   "cell_type": "code",
   "execution_count": 3,
   "id": "5a89fab2",
   "metadata": {
    "id": "214a30af"
   },
   "outputs": [],
   "source": [
    "def load_data(image_path, annotations_path):\n",
    "    df = pd.read_csv(annotations_path)\n",
    "    df = df[~df['human_sentiment'].isna()]\n",
    "    in_folder = os.listdir(image_path)\n",
    "    df.loc[df['image_name'].isin(in_folder), 'image_name'] = \\\n",
    "    df.loc[df['image_name'].isin(in_folder), 'image_name'].apply(lambda x: os.path.join(image_path,x))\n",
    "    images = []\n",
    "    for image_name in df['image_name'].values:\n",
    "        images.append(np.array(im.load_img(image_name, target_size=(224,224))))\n",
    "    images = np.array(images)\n",
    "    images = images/255\n",
    "    annotations = df['annotation'].str.lower().values\n",
    "    return images, annotations"
   ]
  },
  {
   "cell_type": "code",
   "execution_count": 4,
   "id": "a06aba94",
   "metadata": {
    "id": "e483de83"
   },
   "outputs": [],
   "source": [
    "images, annotations = load_data(\"../../../../images/\", '../../../../emo-at-cap.csv')"
   ]
  },
  {
   "cell_type": "code",
   "execution_count": 5,
   "id": "771d9aa4",
   "metadata": {},
   "outputs": [],
   "source": [
    "import pickle"
   ]
  },
  {
   "cell_type": "code",
   "execution_count": 6,
   "id": "0fd82fed",
   "metadata": {},
   "outputs": [],
   "source": [
    "with open('emotion_features.pl', 'rb') as f:\n",
    "    emotion_features = pickle.load(f)"
   ]
  },
  {
   "cell_type": "markdown",
   "id": "142ff75d",
   "metadata": {
    "id": "3cb1f9e8"
   },
   "source": [
    "# Processing of data"
   ]
  },
  {
   "cell_type": "code",
   "execution_count": 7,
   "id": "de834013",
   "metadata": {
    "id": "4ba97451"
   },
   "outputs": [],
   "source": [
    "import nltk"
   ]
  },
  {
   "cell_type": "code",
   "execution_count": 8,
   "id": "458ede83",
   "metadata": {
    "id": "3898996e"
   },
   "outputs": [],
   "source": [
    "tokenizer = nltk.tokenize.WordPunctTokenizer()"
   ]
  },
  {
   "cell_type": "code",
   "execution_count": 9,
   "id": "21666df2",
   "metadata": {
    "id": "b568172f"
   },
   "outputs": [],
   "source": [
    "tokenized = [tokenizer.tokenize(i) for i in annotations]"
   ]
  },
  {
   "cell_type": "code",
   "execution_count": 10,
   "id": "b2e8682c",
   "metadata": {
    "id": "e1021302"
   },
   "outputs": [],
   "source": [
    "unique_tokens, unique_counts = np.unique(np.hstack(tokenized), return_counts=True)"
   ]
  },
  {
   "cell_type": "code",
   "execution_count": 11,
   "id": "e3c6cb7e",
   "metadata": {
    "id": "7eaea268",
    "outputId": "9d0d2069-1025-47e1-e098-24715fb6ec45"
   },
   "outputs": [
    {
     "name": "stderr",
     "output_type": "stream",
     "text": [
      "/home/ec2-user/anaconda3/envs/amazonei_tensorflow2_p36/lib/python3.6/site-packages/sklearn/utils/validation.py:72: FutureWarning: Pass classes=[\"'\" ',' '-' ... 'youth' 'исходный' 'текст'], y=['the' 'man' 'is' ... 'with' 'some' 'clothes'] as keyword args. From version 1.0 (renaming of 0.25) passing these as positional arguments will result in an error\n",
      "  \"will result in an error\", FutureWarning)\n"
     ]
    }
   ],
   "source": [
    "class_weights = class_weight.compute_class_weight('balanced', np.unique(np.hstack(tokenized)), np.hstack(tokenized))"
   ]
  },
  {
   "cell_type": "code",
   "execution_count": 12,
   "id": "405aa166",
   "metadata": {
    "id": "eb8ef5f2"
   },
   "outputs": [],
   "source": [
    "frequency = sorted(list(zip(unique_tokens, unique_counts)), key = lambda x: x[1])[::-1][:50]"
   ]
  },
  {
   "cell_type": "code",
   "execution_count": 13,
   "id": "b103cd70",
   "metadata": {
    "id": "f3f16b78",
    "outputId": "7ba159bf-6ea6-4ee2-bd5c-7ed65db04f20"
   },
   "outputs": [
    {
     "data": {
      "text/plain": [
       "[('the', 3261),\n",
       " ('is', 2031),\n",
       " ('man', 1905),\n",
       " ('and', 1536),\n",
       " ('woman', 1361),\n",
       " ('are', 1036),\n",
       " ('a', 963),\n",
       " ('to', 891),\n",
       " ('looks', 751),\n",
       " ('happy', 705),\n",
       " ('with', 547),\n",
       " ('something', 480),\n",
       " ('men', 478),\n",
       " ('of', 463),\n",
       " ('two', 408),\n",
       " ('other', 361),\n",
       " ('people', 343),\n",
       " ('couple', 334),\n",
       " (',', 330),\n",
       " ('in', 278),\n",
       " ('look', 270),\n",
       " ('because', 265),\n",
       " ('they', 256),\n",
       " ('about', 247),\n",
       " ('on', 246),\n",
       " ('at', 192),\n",
       " ('trying', 190),\n",
       " ('serious', 189),\n",
       " ('women', 184),\n",
       " ('each', 179),\n",
       " ('together', 176),\n",
       " ('by', 175),\n",
       " ('having', 171),\n",
       " ('flirting', 165),\n",
       " ('he', 155),\n",
       " ('smiling', 151),\n",
       " ('arguing', 141),\n",
       " ('angry', 140),\n",
       " ('scared', 138),\n",
       " ('worried', 137),\n",
       " ('hugging', 135),\n",
       " ('surprised', 134),\n",
       " ('calm', 133),\n",
       " ('company', 131),\n",
       " ('her', 129),\n",
       " ('group', 123),\n",
       " ('for', 121),\n",
       " ('she', 117),\n",
       " ('looking', 117),\n",
       " ('his', 115)]"
      ]
     },
     "execution_count": 13,
     "metadata": {},
     "output_type": "execute_result"
    }
   ],
   "source": [
    "frequency"
   ]
  },
  {
   "cell_type": "code",
   "execution_count": 14,
   "id": "9335c1ab",
   "metadata": {
    "id": "f950e507",
    "outputId": "98b430e4-e506-4337-c1ed-88e22edac668"
   },
   "outputs": [
    {
     "data": {
      "text/plain": [
       "2162"
      ]
     },
     "execution_count": 14,
     "metadata": {},
     "output_type": "execute_result"
    }
   ],
   "source": [
    "len(unique_tokens)"
   ]
  },
  {
   "cell_type": "code",
   "execution_count": 15,
   "id": "2f0c362a",
   "metadata": {
    "id": "6000f578"
   },
   "outputs": [],
   "source": [
    "pad_token = '<PAD>'\n",
    "start_token = '<S>'\n",
    "end_token = '<E>'"
   ]
  },
  {
   "cell_type": "code",
   "execution_count": 16,
   "id": "d1e284a9",
   "metadata": {
    "id": "4bc8861e"
   },
   "outputs": [],
   "source": [
    "vocab = dict(zip(unique_tokens,list(range(3,len(unique_tokens)+3))))\n",
    "vocab[pad_token] = 0\n",
    "vocab[start_token] = 1\n",
    "vocab[end_token] = 2"
   ]
  },
  {
   "cell_type": "code",
   "execution_count": 17,
   "id": "73145a6a",
   "metadata": {
    "id": "ea82ff64"
   },
   "outputs": [],
   "source": [
    "inverse_vocab = dict([(v,k) for k,v in vocab.items()])"
   ]
  },
  {
   "cell_type": "code",
   "execution_count": 18,
   "id": "48f30b3e",
   "metadata": {
    "id": "88aee17b"
   },
   "outputs": [],
   "source": [
    "def padd(sentences, pad_token, start_token, end_token, maxlen=10):\n",
    "    padded_sentences = []\n",
    "    for i in sentences:\n",
    "        sentence = [start_token] + i + [end_token]\n",
    "        if len(sentence)>=maxlen+2:\n",
    "            sentence = sentence[:maxlen+2]\n",
    "        else:\n",
    "            sentence = sentence+[pad_token for i in range(maxlen+2-len(sentence))]\n",
    "        padded_sentences.append(sentence)\n",
    "    return padded_sentences"
   ]
  },
  {
   "cell_type": "code",
   "execution_count": 19,
   "id": "9668d339",
   "metadata": {
    "id": "7c387246"
   },
   "outputs": [],
   "source": [
    "padded_sentences = padd(tokenized, pad_token, start_token, end_token, maxlen=10)"
   ]
  },
  {
   "cell_type": "code",
   "execution_count": 20,
   "id": "871160e4",
   "metadata": {
    "id": "dae31ba2",
    "outputId": "486e686d-f0b8-4618-af6d-1e7c60ea39c9"
   },
   "outputs": [
    {
     "data": {
      "text/plain": [
       "12.0"
      ]
     },
     "execution_count": 20,
     "metadata": {},
     "output_type": "execute_result"
    }
   ],
   "source": [
    "np.mean([len(i) for i in padded_sentences])"
   ]
  },
  {
   "cell_type": "code",
   "execution_count": 21,
   "id": "ae7e77a4",
   "metadata": {
    "id": "1dbf265e"
   },
   "outputs": [],
   "source": [
    "indexed = list(map(lambda x: [vocab[i] for i in x],padded_sentences))"
   ]
  },
  {
   "cell_type": "code",
   "execution_count": 22,
   "id": "4782cbe9",
   "metadata": {
    "id": "cf6c28d5",
    "outputId": "7d1336e9-b529-4aa8-b9bc-2ffcb1932e4f"
   },
   "outputs": [
    {
     "data": {
      "text/plain": [
       "(3840, 224, 224, 3)"
      ]
     },
     "execution_count": 22,
     "metadata": {},
     "output_type": "execute_result"
    }
   ],
   "source": [
    "images.shape"
   ]
  },
  {
   "cell_type": "code",
   "execution_count": 23,
   "id": "ad8e05d5",
   "metadata": {
    "id": "e0517b86",
    "outputId": "c6ec86e9-44db-4bcd-f81b-202d2d1a04b4"
   },
   "outputs": [
    {
     "data": {
      "text/plain": [
       "2162"
      ]
     },
     "execution_count": 23,
     "metadata": {},
     "output_type": "execute_result"
    }
   ],
   "source": [
    "len(class_weights)"
   ]
  },
  {
   "cell_type": "code",
   "execution_count": 24,
   "id": "5d35c495",
   "metadata": {
    "id": "ab0f6f4b"
   },
   "outputs": [],
   "source": [
    "class_weights = list(class_weights)\n",
    "class_weights.insert(0, 1)\n",
    "class_weights.insert(1, 1)\n",
    "class_weights.insert(2, 1)"
   ]
  },
  {
   "cell_type": "code",
   "execution_count": 25,
   "id": "23ff59b3",
   "metadata": {
    "id": "05479771",
    "outputId": "2c7a7e8f-765f-4f04-a736-13a683275744"
   },
   "outputs": [
    {
     "data": {
      "text/plain": [
       "(2165, 2165)"
      ]
     },
     "execution_count": 25,
     "metadata": {},
     "output_type": "execute_result"
    }
   ],
   "source": [
    "len(class_weights), len(vocab)"
   ]
  },
  {
   "cell_type": "code",
   "execution_count": 26,
   "id": "ee44238a",
   "metadata": {
    "id": "41ca43a8",
    "outputId": "bf3fd02b-b281-45d1-c2f5-ecde217c10c3"
   },
   "outputs": [
    {
     "data": {
      "text/plain": [
       "[1, 1, 1, 0.21013259327782918]"
      ]
     },
     "execution_count": 26,
     "metadata": {},
     "output_type": "execute_result"
    }
   ],
   "source": [
    "class_weights[:4]"
   ]
  },
  {
   "cell_type": "code",
   "execution_count": 27,
   "id": "6586cc9b",
   "metadata": {
    "id": "8a65a1f9"
   },
   "outputs": [],
   "source": [
    "class_weights = np.array(class_weights)"
   ]
  },
  {
   "cell_type": "code",
   "execution_count": 28,
   "id": "8dcc2a07",
   "metadata": {
    "id": "69a12138",
    "outputId": "58861466-75dd-46b2-e607-f3adf8280f92"
   },
   "outputs": [
    {
     "data": {
      "text/plain": [
       "(2165,)"
      ]
     },
     "execution_count": 28,
     "metadata": {},
     "output_type": "execute_result"
    }
   ],
   "source": [
    "class_weights.shape"
   ]
  },
  {
   "cell_type": "markdown",
   "id": "85fac8e3",
   "metadata": {
    "id": "87b12db3"
   },
   "source": [
    "# Model with transfer learning"
   ]
  },
  {
   "cell_type": "code",
   "execution_count": 29,
   "id": "3a2a9cda",
   "metadata": {
    "id": "1bc5b828"
   },
   "outputs": [],
   "source": [
    "def calc_size(x, f, s, padding='same'):\n",
    "    p = 2 if padding=='same' else 1\n",
    "    return (x-f+2)/s+1"
   ]
  },
  {
   "cell_type": "markdown",
   "id": "23c7c6f1",
   "metadata": {
    "id": "7b9f00b4"
   },
   "source": [
    "### Convolutional model"
   ]
  },
  {
   "cell_type": "code",
   "execution_count": 30,
   "id": "e389ec81",
   "metadata": {
    "id": "10203a8b"
   },
   "outputs": [],
   "source": [
    "import tensorflow.keras.applications as apps\n"
   ]
  },
  {
   "cell_type": "code",
   "execution_count": 136,
   "id": "bcd67d31",
   "metadata": {
    "colab": {
     "base_uri": "https://localhost:8080/",
     "height": 235
    },
    "id": "c8c52aa1",
    "outputId": "36d889da-8981-413e-bb50-72bce618f234"
   },
   "outputs": [],
   "source": [
    "class ConvEncoder(tf.keras.Model):\n",
    "    def __init__(self):\n",
    "        super(ConvEncoder, self).__init__()\n",
    "        #building resnet\n",
    "        self.resnet_extractor = apps.ResNet152V2(include_top=False, weights='imagenet')\n",
    "        self.resnet_extractor.trainable = False\n",
    "        self.pooling = tf.keras.layers.GlobalAveragePooling2D()\n",
    "        self.dense1 = tf.keras.layers.Dense(units=256, activation='relu')\n",
    "\n",
    "    def call(self, input):\n",
    "        extracted = self.pooling(self.resnet_extractor(input))\n",
    "        return self.dense1(extracted)"
   ]
  },
  {
   "cell_type": "code",
   "execution_count": 137,
   "id": "ccc7aa19",
   "metadata": {
    "id": "0433171b"
   },
   "outputs": [],
   "source": [
    "conv_encoder = ConvEncoder()"
   ]
  },
  {
   "cell_type": "code",
   "execution_count": 138,
   "id": "61e768b2",
   "metadata": {
    "id": "68116817"
   },
   "outputs": [
    {
     "name": "stdout",
     "output_type": "stream",
     "text": [
      "WARNING:tensorflow:Layer conv_encoder_2 is casting an input tensor from dtype float64 to the layer's dtype of float32, which is new behavior in TensorFlow 2.  The layer has dtype float32 because its dtype defaults to floatx.\n",
      "\n",
      "If you intended to run this layer in float32, you can safely ignore this warning. If in doubt, this warning is likely only an issue if you are porting a TensorFlow 1.X model to TensorFlow 2.\n",
      "\n",
      "To change all layers to have dtype float64 by default, call `tf.keras.backend.set_floatx('float64')`. To change just this layer, pass dtype='float64' to the layer constructor. If you are the author of this layer, you can disable autocasting by passing autocast=False to the base Layer constructor.\n",
      "\n"
     ]
    }
   ],
   "source": [
    "conv_res = conv_encoder(np.expand_dims(images[0],axis=0))"
   ]
  },
  {
   "cell_type": "code",
   "execution_count": 139,
   "id": "c0b6eccf",
   "metadata": {},
   "outputs": [
    {
     "data": {
      "text/plain": [
       "<tf.Tensor: shape=(1, 256), dtype=float32, numpy=\n",
       "array([[0.        , 0.        , 0.        , 0.3356801 , 0.16574502,\n",
       "        0.        , 0.06465492, 0.14414412, 0.451162  , 0.        ,\n",
       "        1.0860741 , 0.9117526 , 1.0798895 , 1.2178807 , 0.        ,\n",
       "        0.7440634 , 0.        , 0.        , 0.        , 0.64324963,\n",
       "        0.2066977 , 0.        , 0.07643223, 0.        , 0.27555907,\n",
       "        1.0308704 , 0.        , 1.1361771 , 0.33863866, 1.0292271 ,\n",
       "        0.        , 0.3339634 , 0.9932029 , 1.1174693 , 0.        ,\n",
       "        0.        , 0.8203671 , 0.18498412, 0.        , 1.7884114 ,\n",
       "        1.0417131 , 0.828557  , 0.        , 1.6460681 , 0.        ,\n",
       "        0.08498424, 0.        , 0.        , 0.        , 0.75868607,\n",
       "        0.        , 0.        , 0.        , 0.        , 0.        ,\n",
       "        0.17114162, 1.5702498 , 0.        , 0.        , 0.09601158,\n",
       "        1.4980857 , 1.3335825 , 0.515349  , 0.        , 0.        ,\n",
       "        0.        , 0.        , 0.54992366, 0.7877711 , 0.        ,\n",
       "        0.        , 0.        , 1.0506284 , 0.        , 0.        ,\n",
       "        0.42711574, 0.61044604, 1.9203444 , 0.        , 0.09323935,\n",
       "        0.18763585, 0.8552637 , 1.2667679 , 0.        , 0.7883328 ,\n",
       "        0.6837034 , 0.        , 0.8965039 , 0.15359253, 0.38334984,\n",
       "        0.6536552 , 0.        , 0.        , 0.        , 0.        ,\n",
       "        0.8604927 , 0.        , 0.12566149, 2.0659225 , 0.        ,\n",
       "        1.2156726 , 0.        , 0.        , 0.        , 1.2720773 ,\n",
       "        0.        , 0.94039714, 0.        , 0.538876  , 1.1933881 ,\n",
       "        2.2361708 , 0.32600117, 0.        , 0.4185199 , 0.        ,\n",
       "        0.        , 0.        , 0.        , 1.1133127 , 1.4020622 ,\n",
       "        0.8575017 , 0.        , 0.        , 0.        , 0.07277218,\n",
       "        0.        , 1.0797166 , 1.4913615 , 1.4568157 , 0.37178373,\n",
       "        0.        , 0.01425213, 0.        , 0.        , 0.9335135 ,\n",
       "        0.7253007 , 0.7186744 , 0.        , 1.0247604 , 0.        ,\n",
       "        0.83830094, 0.07944882, 1.214129  , 0.9666158 , 0.        ,\n",
       "        1.4012816 , 1.6742164 , 0.        , 0.        , 0.73135746,\n",
       "        0.        , 0.98897624, 0.        , 0.6461653 , 0.        ,\n",
       "        0.        , 0.33188802, 0.        , 0.        , 0.        ,\n",
       "        0.        , 0.        , 0.        , 0.        , 0.        ,\n",
       "        0.        , 0.02632234, 0.        , 0.        , 0.        ,\n",
       "        0.8498671 , 0.        , 0.        , 0.        , 0.5370672 ,\n",
       "        0.        , 0.        , 0.        , 1.5178821 , 0.09806829,\n",
       "        0.91180784, 0.        , 1.1081798 , 0.00907978, 0.        ,\n",
       "        0.20271757, 0.        , 0.        , 1.4601159 , 0.2992291 ,\n",
       "        0.50668657, 3.2722223 , 0.        , 0.        , 0.15121317,\n",
       "        0.41962767, 0.        , 0.13388762, 0.        , 0.        ,\n",
       "        0.80263555, 0.3908557 , 0.37937027, 0.75824416, 0.1230818 ,\n",
       "        0.        , 1.1212789 , 0.09252679, 0.        , 0.13032964,\n",
       "        1.7647015 , 0.        , 0.        , 0.37051594, 1.3732626 ,\n",
       "        0.        , 0.        , 1.3698674 , 0.        , 0.        ,\n",
       "        0.        , 0.        , 0.        , 0.        , 0.        ,\n",
       "        0.        , 0.        , 0.        , 0.37129074, 0.        ,\n",
       "        0.50301474, 0.87948537, 0.        , 0.13188654, 0.        ,\n",
       "        0.        , 0.        , 0.        , 0.40767846, 0.        ,\n",
       "        0.        , 0.03461707, 0.        , 0.        , 0.6500239 ,\n",
       "        0.7597283 , 0.        , 0.        , 0.8731015 , 0.15603322,\n",
       "        0.        , 1.0464854 , 1.1379099 , 0.        , 0.        ,\n",
       "        0.6509284 ]], dtype=float32)>"
      ]
     },
     "execution_count": 139,
     "metadata": {},
     "output_type": "execute_result"
    }
   ],
   "source": [
    "conv_res"
   ]
  },
  {
   "cell_type": "markdown",
   "id": "27dd4b97",
   "metadata": {
    "id": "999c2bc0"
   },
   "source": [
    "### LSTM model"
   ]
  },
  {
   "cell_type": "markdown",
   "id": "92dd6364",
   "metadata": {
    "id": "26590f4e"
   },
   "source": [
    "### making w2v embeddings"
   ]
  },
  {
   "cell_type": "code",
   "execution_count": 35,
   "id": "bb2cc1b3",
   "metadata": {
    "id": "a5f650c0",
    "outputId": "7120055b-7c8b-4c55-d4a7-0d4cc8dfce18"
   },
   "outputs": [
    {
     "name": "stdout",
     "output_type": "stream",
     "text": [
      "Requirement already satisfied: gensim in /home/ec2-user/anaconda3/envs/amazonei_tensorflow2_p36/lib/python3.6/site-packages (4.0.1)\n",
      "Requirement already satisfied: scipy>=0.18.1 in /home/ec2-user/anaconda3/envs/amazonei_tensorflow2_p36/lib/python3.6/site-packages (from gensim) (1.5.3)\n",
      "Requirement already satisfied: smart-open>=1.8.1 in /home/ec2-user/anaconda3/envs/amazonei_tensorflow2_p36/lib/python3.6/site-packages (from gensim) (5.1.0)\n",
      "Requirement already satisfied: dataclasses in /home/ec2-user/anaconda3/envs/amazonei_tensorflow2_p36/lib/python3.6/site-packages (from gensim) (0.8)\n",
      "Requirement already satisfied: numpy>=1.11.3 in /home/ec2-user/anaconda3/envs/amazonei_tensorflow2_p36/lib/python3.6/site-packages (from gensim) (1.18.5)\n",
      "\u001b[33mWARNING: You are using pip version 21.1.2; however, version 21.1.3 is available.\n",
      "You should consider upgrading via the '/home/ec2-user/anaconda3/envs/amazonei_tensorflow2_p36/bin/python -m pip install --upgrade pip' command.\u001b[0m\n"
     ]
    }
   ],
   "source": [
    "!pip install gensim"
   ]
  },
  {
   "cell_type": "code",
   "execution_count": 36,
   "id": "501d7834",
   "metadata": {
    "id": "715baa20",
    "outputId": "0a279aff-b57f-4416-b0cc-df0b524258cf"
   },
   "outputs": [
    {
     "name": "stderr",
     "output_type": "stream",
     "text": [
      "/home/ec2-user/anaconda3/envs/amazonei_tensorflow2_p36/lib/python3.6/site-packages/gensim/similarities/__init__.py:15: UserWarning: The gensim.similarities.levenshtein submodule is disabled, because the optional Levenshtein package <https://pypi.org/project/python-Levenshtein/> is unavailable. Install Levenhstein (e.g. `pip install python-Levenshtein`) to suppress this warning.\n",
      "  warnings.warn(msg)\n"
     ]
    }
   ],
   "source": [
    "import gensim.downloader as api"
   ]
  },
  {
   "cell_type": "code",
   "execution_count": 37,
   "id": "67e72531",
   "metadata": {
    "id": "623ef226"
   },
   "outputs": [],
   "source": [
    "w2v_embeddings = api.load('word2vec-google-news-300')"
   ]
  },
  {
   "cell_type": "code",
   "execution_count": 38,
   "id": "eee420a4",
   "metadata": {
    "id": "f6b2f48a"
   },
   "outputs": [],
   "source": [
    "def build_embeddings(vocab, word_vectors, embed_dim):\n",
    "    emb_matrix = np.zeros(shape=(len(vocab)+ 1 , embed_dim), dtype='float32')\n",
    "    count = 0\n",
    "    for word, i in vocab.items():\n",
    "        try:\n",
    "            emb_matrix[i, :] = word_vectors.get_vector(word)\n",
    "        except:\n",
    "            count += 1\n",
    "            emb_matrix[i, :] = np.random.uniform(-0.1, 0.1, embed_dim)\n",
    "    print('{} words are out of vocabulary：'.format(count))\n",
    "    return emb_matrix\n"
   ]
  },
  {
   "cell_type": "code",
   "execution_count": 39,
   "id": "4f308604",
   "metadata": {
    "id": "e893c531",
    "outputId": "8986b2db-0a92-4b04-ab3a-e08a716c4626"
   },
   "outputs": [
    {
     "name": "stdout",
     "output_type": "stream",
     "text": [
      "22 words are out of vocabulary：\n"
     ]
    }
   ],
   "source": [
    "w2v_embeddings = build_embeddings(vocab, w2v_embeddings, 300)"
   ]
  },
  {
   "cell_type": "markdown",
   "id": "ea31bd5d",
   "metadata": {},
   "source": [
    "### attention"
   ]
  },
  {
   "cell_type": "code",
   "execution_count": 140,
   "id": "37e5bde2",
   "metadata": {},
   "outputs": [],
   "source": [
    "class BahdanauAttention(tf.keras.Model):\n",
    "  def __init__(self, units):\n",
    "    super(BahdanauAttention, self).__init__()\n",
    "    self.W1 = tf.keras.layers.Dense(units)\n",
    "    self.W2 = tf.keras.layers.Dense(units)\n",
    "    self.V = tf.keras.layers.Dense(1)\n",
    "\n",
    "  def call(self, features, hidden):\n",
    "    # features(CNN_encoder output) shape == (batch_size, 64, embedding_dim)\n",
    "\n",
    "    # hidden shape == (batch_size, hidden_size)\n",
    "    # hidden_with_time_axis shape == (batch_size, 1, hidden_size)\n",
    "    hidden_with_time_axis = tf.expand_dims(hidden, 1)\n",
    "    # attention_hidden_layer shape == (batch_size, 64, units)\n",
    "    attention_hidden_layer = (tf.nn.tanh(self.W1(features) +\n",
    "                                         self.W2(hidden_with_time_axis)))\n",
    "\n",
    "    # score shape == (batch_size, 64, 1)\n",
    "    # This gives you an unnormalized score for each image feature.\n",
    "    score = self.V(attention_hidden_layer)\n",
    "\n",
    "    # attention_weights shape == (batch_size, 64, 1)\n",
    "    attention_weights = tf.nn.softmax(score, axis=1)\n",
    "\n",
    "    # context_vector shape after sum == (batch_size, hidden_size)\n",
    "    context_vector = attention_weights * features\n",
    "    context_vector = tf.reduce_sum(context_vector, axis=1)\n",
    "\n",
    "    return context_vector, attention_weights"
   ]
  },
  {
   "cell_type": "markdown",
   "id": "669123bb",
   "metadata": {
    "id": "0b62cbad"
   },
   "source": [
    "### building model"
   ]
  },
  {
   "cell_type": "code",
   "execution_count": 141,
   "id": "ce9619dd",
   "metadata": {
    "id": "02766a3f"
   },
   "outputs": [],
   "source": [
    "class LSTMDecoder(tf.keras.Model):\n",
    "    def __init__(self, max_tokens, units=512, embeddings=None, dim=128):\n",
    "        super(LSTMDecoder, self).__init__()\n",
    "        self.units = units\n",
    "        self.embeddings = tf.keras.layers.Embedding(input_dim=max_tokens+1, output_dim=dim, name='embeddings',\n",
    "                                                   weights=[embeddings])\n",
    "        self.dropout = tf.keras.layers.SpatialDropout1D(0.2)\n",
    "        self.lstm = tf.keras.layers.LSTM(units=self.units, return_state=True, return_sequences=True, name='lstm_decoder', \n",
    "                                         recurrent_dropout=0.1,recurrent_initializer='glorot_uniform')\n",
    "        self.intermidiate_dense = tf.keras.layers.Dense(units=self.units, activation='relu')\n",
    "        self.output_dense = tf.keras.layers.Dense(units=max_tokens)\n",
    "        self.attention = BahdanauAttention(self.units)\n",
    "\n",
    "    def call(self, input, features, hidden, state_c, emo_feature):\n",
    "        embedded = self.dropout(self.embeddings(input))\n",
    "        context_vector, attention_weights = self.attention(features, hidden)\n",
    "        concated = tf.concat([tf.expand_dims(context_vector, 1), embedded, tf.expand_dims(emo_feature, 1)], axis=-1)\n",
    "        result_lstm, state_h, state_c = self.lstm(concated, initial_state=[hidden, state_c])\n",
    "        intermidiate_dense = self.intermidiate_dense(result_lstm)\n",
    "        intermidiate_dense = tf.reshape(intermidiate_dense, (-1, intermidiate_dense.shape[2]))\n",
    "        logits = self.output_dense(intermidiate_dense)\n",
    "        return logits, state_h, state_c, attention_weights\n",
    "    \n",
    "    def reset_state(self, batch_size):\n",
    "        return tf.zeros((batch_size, self.units))"
   ]
  },
  {
   "cell_type": "code",
   "execution_count": 142,
   "id": "1e55d5d0",
   "metadata": {
    "id": "4dfe8136",
    "outputId": "c0ca843d-4ad1-4150-a61c-851506423007"
   },
   "outputs": [
    {
     "name": "stdout",
     "output_type": "stream",
     "text": [
      "WARNING:tensorflow:Layer lstm_decoder will not use cuDNN kernel since it doesn't meet the cuDNN kernel criteria. It will use generic GPU kernel as fallback when running on GPU\n"
     ]
    }
   ],
   "source": [
    "lstm_decoder = LSTMDecoder(len(inverse_vocab), 256, w2v_embeddings, dim=300)"
   ]
  },
  {
   "cell_type": "markdown",
   "id": "ea06a426",
   "metadata": {},
   "source": [
    "### emotion decoder"
   ]
  },
  {
   "cell_type": "code",
   "execution_count": 143,
   "id": "76f666ea",
   "metadata": {},
   "outputs": [],
   "source": [
    "class EmotionEncoder(tf.keras.Model):\n",
    "    def __init__(self, units=512):\n",
    "        super(EmotionEncoder, self).__init__()\n",
    "        self.h = tf.keras.layers.Dense(units=units, activation='relu')\n",
    "        self.c = tf.keras.layers.Dense(units=units, activation='relu')\n",
    "\n",
    "    def call(self, emotion_feature):\n",
    "        \n",
    "        return self.h(emotion_feature), self.c(emotion_feature)\n",
    " "
   ]
  },
  {
   "cell_type": "code",
   "execution_count": 144,
   "id": "e3f96fa4",
   "metadata": {},
   "outputs": [],
   "source": [
    "emotion_encoder = EmotionEncoder(256)"
   ]
  },
  {
   "cell_type": "code",
   "execution_count": 145,
   "id": "f5af0936",
   "metadata": {},
   "outputs": [
    {
     "name": "stdout",
     "output_type": "stream",
     "text": [
      "WARNING:tensorflow:Layer emotion_encoder_4 is casting an input tensor from dtype float64 to the layer's dtype of float32, which is new behavior in TensorFlow 2.  The layer has dtype float32 because its dtype defaults to floatx.\n",
      "\n",
      "If you intended to run this layer in float32, you can safely ignore this warning. If in doubt, this warning is likely only an issue if you are porting a TensorFlow 1.X model to TensorFlow 2.\n",
      "\n",
      "To change all layers to have dtype float64 by default, call `tf.keras.backend.set_floatx('float64')`. To change just this layer, pass dtype='float64' to the layer constructor. If you are the author of this layer, you can disable autocasting by passing autocast=False to the base Layer constructor.\n",
      "\n"
     ]
    },
    {
     "data": {
      "text/plain": [
       "(<tf.Tensor: shape=(1, 256), dtype=float32, numpy=\n",
       " array([[0.        , 0.03763812, 0.04546275, 0.        , 0.        ,\n",
       "         0.01950219, 0.02638444, 0.00773892, 0.07961226, 0.        ,\n",
       "         0.        , 0.        , 0.        , 0.02093898, 0.        ,\n",
       "         0.04067344, 0.09176856, 0.        , 0.        , 0.        ,\n",
       "         0.        , 0.0536245 , 0.03718359, 0.0481756 , 0.        ,\n",
       "         0.        , 0.00505926, 0.        , 0.        , 0.        ,\n",
       "         0.        , 0.06781891, 0.        , 0.0083142 , 0.01871156,\n",
       "         0.        , 0.        , 0.04517783, 0.02082223, 0.0352021 ,\n",
       "         0.06312175, 0.        , 0.01949755, 0.        , 0.04266611,\n",
       "         0.        , 0.00016937, 0.03865726, 0.        , 0.00174433,\n",
       "         0.        , 0.00123261, 0.04392024, 0.        , 0.02766182,\n",
       "         0.03417677, 0.02115616, 0.01493243, 0.0049016 , 0.00815593,\n",
       "         0.        , 0.        , 0.01056174, 0.        , 0.01452143,\n",
       "         0.        , 0.01913444, 0.        , 0.        , 0.        ,\n",
       "         0.        , 0.01802767, 0.        , 0.04736367, 0.        ,\n",
       "         0.00670278, 0.        , 0.        , 0.        , 0.        ,\n",
       "         0.02677383, 0.00206157, 0.04821144, 0.0040057 , 0.        ,\n",
       "         0.        , 0.03892233, 0.02795784, 0.02530694, 0.        ,\n",
       "         0.01640056, 0.        , 0.        , 0.01599815, 0.        ,\n",
       "         0.0198947 , 0.        , 0.02594646, 0.01549349, 0.        ,\n",
       "         0.        , 0.00423179, 0.02927028, 0.        , 0.00801709,\n",
       "         0.        , 0.0012136 , 0.        , 0.07003997, 0.02311379,\n",
       "         0.03658729, 0.        , 0.        , 0.        , 0.        ,\n",
       "         0.00430216, 0.02958222, 0.        , 0.        , 0.02687733,\n",
       "         0.01818077, 0.09117219, 0.00166176, 0.00272982, 0.        ,\n",
       "         0.06081883, 0.01661923, 0.0294625 , 0.09085253, 0.01463778,\n",
       "         0.        , 0.00287106, 0.        , 0.01927809, 0.00756493,\n",
       "         0.03657846, 0.02142274, 0.04009768, 0.        , 0.03881898,\n",
       "         0.        , 0.        , 0.        , 0.        , 0.04983439,\n",
       "         0.00853985, 0.        , 0.04112078, 0.04915237, 0.        ,\n",
       "         0.        , 0.        , 0.        , 0.0188456 , 0.        ,\n",
       "         0.01763174, 0.        , 0.        , 0.        , 0.        ,\n",
       "         0.0248177 , 0.        , 0.02959013, 0.00810705, 0.03588329,\n",
       "         0.00276313, 0.02999508, 0.02825428, 0.01098445, 0.06195387,\n",
       "         0.05677789, 0.01910412, 0.        , 0.        , 0.        ,\n",
       "         0.        , 0.04339945, 0.        , 0.00947085, 0.        ,\n",
       "         0.        , 0.        , 0.01715336, 0.        , 0.        ,\n",
       "         0.00652728, 0.00776671, 0.04402706, 0.        , 0.06189624,\n",
       "         0.        , 0.05615297, 0.00877746, 0.0310761 , 0.        ,\n",
       "         0.06469314, 0.        , 0.02561099, 0.012416  , 0.        ,\n",
       "         0.00438707, 0.        , 0.00506795, 0.        , 0.03029053,\n",
       "         0.        , 0.        , 0.        , 0.        , 0.02278269,\n",
       "         0.05395394, 0.01037617, 0.        , 0.00737272, 0.        ,\n",
       "         0.        , 0.02334007, 0.        , 0.02237719, 0.03143758,\n",
       "         0.        , 0.        , 0.00065093, 0.        , 0.01771781,\n",
       "         0.        , 0.02921591, 0.        , 0.03417307, 0.01753603,\n",
       "         0.        , 0.        , 0.        , 0.        , 0.        ,\n",
       "         0.0401246 , 0.        , 0.01794777, 0.01170675, 0.        ,\n",
       "         0.03095744, 0.        , 0.        , 0.02510078, 0.02332058,\n",
       "         0.06247719, 0.04245129, 0.02615926, 0.0005205 , 0.00820487,\n",
       "         0.026962  , 0.        , 0.        , 0.05003574, 0.01561235,\n",
       "         0.        ]], dtype=float32)>,\n",
       " <tf.Tensor: shape=(1, 256), dtype=float32, numpy=\n",
       " array([[0.0000000e+00, 0.0000000e+00, 4.0604424e-02, 2.1161553e-02,\n",
       "         0.0000000e+00, 0.0000000e+00, 2.6946375e-03, 5.6342192e-02,\n",
       "         0.0000000e+00, 0.0000000e+00, 0.0000000e+00, 3.6618944e-02,\n",
       "         0.0000000e+00, 0.0000000e+00, 0.0000000e+00, 0.0000000e+00,\n",
       "         0.0000000e+00, 0.0000000e+00, 3.2809190e-02, 0.0000000e+00,\n",
       "         8.1435209e-03, 0.0000000e+00, 0.0000000e+00, 0.0000000e+00,\n",
       "         3.5933711e-02, 0.0000000e+00, 0.0000000e+00, 6.7164399e-02,\n",
       "         0.0000000e+00, 5.1423654e-02, 0.0000000e+00, 7.0258975e-06,\n",
       "         0.0000000e+00, 6.1412798e-03, 2.8976824e-02, 1.1062511e-02,\n",
       "         0.0000000e+00, 8.1959963e-03, 4.7213875e-02, 0.0000000e+00,\n",
       "         0.0000000e+00, 0.0000000e+00, 0.0000000e+00, 0.0000000e+00,\n",
       "         2.0435913e-02, 2.9640242e-02, 0.0000000e+00, 3.7637353e-02,\n",
       "         0.0000000e+00, 0.0000000e+00, 1.8006420e-02, 1.6296566e-02,\n",
       "         1.0351370e-02, 0.0000000e+00, 4.8925474e-02, 1.7897906e-02,\n",
       "         0.0000000e+00, 0.0000000e+00, 2.4415793e-02, 0.0000000e+00,\n",
       "         0.0000000e+00, 1.8826943e-02, 0.0000000e+00, 1.6276397e-02,\n",
       "         0.0000000e+00, 0.0000000e+00, 0.0000000e+00, 0.0000000e+00,\n",
       "         0.0000000e+00, 3.3615090e-02, 3.3280421e-03, 0.0000000e+00,\n",
       "         0.0000000e+00, 0.0000000e+00, 1.1593236e-02, 0.0000000e+00,\n",
       "         0.0000000e+00, 6.7004450e-02, 3.4027711e-02, 0.0000000e+00,\n",
       "         4.7889203e-02, 1.0047261e-02, 4.4999700e-03, 0.0000000e+00,\n",
       "         8.5884146e-03, 4.6173409e-02, 1.2430729e-02, 8.3606616e-03,\n",
       "         0.0000000e+00, 2.0105070e-02, 2.7869124e-02, 1.2234226e-02,\n",
       "         0.0000000e+00, 6.7540631e-04, 0.0000000e+00, 0.0000000e+00,\n",
       "         0.0000000e+00, 0.0000000e+00, 6.0522705e-03, 0.0000000e+00,\n",
       "         0.0000000e+00, 2.6171522e-02, 0.0000000e+00, 0.0000000e+00,\n",
       "         0.0000000e+00, 0.0000000e+00, 0.0000000e+00, 0.0000000e+00,\n",
       "         0.0000000e+00, 0.0000000e+00, 2.9816203e-02, 1.0248596e-03,\n",
       "         8.0490606e-03, 2.4271797e-02, 2.2744533e-02, 0.0000000e+00,\n",
       "         1.3508263e-02, 3.1375535e-02, 4.1194446e-03, 0.0000000e+00,\n",
       "         1.3110224e-02, 2.3710364e-02, 6.1193489e-02, 2.4203556e-02,\n",
       "         0.0000000e+00, 0.0000000e+00, 0.0000000e+00, 1.7414123e-02,\n",
       "         4.1584950e-03, 2.2413347e-02, 0.0000000e+00, 8.9449175e-03,\n",
       "         2.9989704e-03, 2.3038998e-02, 0.0000000e+00, 0.0000000e+00,\n",
       "         1.6385177e-03, 3.9019588e-02, 3.9198019e-02, 8.4001115e-03,\n",
       "         1.1769149e-02, 0.0000000e+00, 3.0578421e-02, 0.0000000e+00,\n",
       "         3.3255403e-03, 3.9951310e-02, 0.0000000e+00, 0.0000000e+00,\n",
       "         1.5116132e-02, 3.8679585e-02, 0.0000000e+00, 1.7562542e-02,\n",
       "         3.1594910e-02, 0.0000000e+00, 4.9808543e-02, 0.0000000e+00,\n",
       "         4.7216631e-02, 0.0000000e+00, 3.2899141e-02, 2.6493629e-02,\n",
       "         2.5731206e-02, 0.0000000e+00, 9.1498289e-03, 0.0000000e+00,\n",
       "         2.0359440e-02, 7.7427113e-03, 2.8352655e-02, 0.0000000e+00,\n",
       "         0.0000000e+00, 0.0000000e+00, 0.0000000e+00, 7.6910947e-03,\n",
       "         3.6122883e-03, 2.4806444e-02, 7.6393619e-02, 0.0000000e+00,\n",
       "         7.0976332e-02, 4.2273443e-02, 5.5564968e-03, 0.0000000e+00,\n",
       "         3.8000040e-02, 0.0000000e+00, 1.7964123e-02, 0.0000000e+00,\n",
       "         0.0000000e+00, 0.0000000e+00, 2.1220282e-02, 1.9697623e-02,\n",
       "         0.0000000e+00, 6.0004666e-02, 0.0000000e+00, 0.0000000e+00,\n",
       "         0.0000000e+00, 2.6174953e-02, 0.0000000e+00, 1.5832938e-02,\n",
       "         1.1375399e-02, 0.0000000e+00, 2.9973846e-02, 8.0548078e-03,\n",
       "         0.0000000e+00, 2.1883361e-02, 5.0894395e-03, 0.0000000e+00,\n",
       "         7.2124787e-04, 0.0000000e+00, 0.0000000e+00, 1.1076811e-02,\n",
       "         0.0000000e+00, 0.0000000e+00, 0.0000000e+00, 1.9314089e-03,\n",
       "         0.0000000e+00, 3.2534480e-02, 6.8637550e-02, 0.0000000e+00,\n",
       "         0.0000000e+00, 0.0000000e+00, 3.8403161e-03, 0.0000000e+00,\n",
       "         1.5823431e-02, 3.9057106e-02, 0.0000000e+00, 2.7900878e-02,\n",
       "         0.0000000e+00, 7.5760037e-02, 0.0000000e+00, 4.8143812e-02,\n",
       "         0.0000000e+00, 4.1249521e-02, 0.0000000e+00, 0.0000000e+00,\n",
       "         0.0000000e+00, 4.2484108e-02, 4.9434919e-02, 2.4126355e-02,\n",
       "         0.0000000e+00, 0.0000000e+00, 2.2892093e-02, 0.0000000e+00,\n",
       "         9.9090040e-03, 0.0000000e+00, 0.0000000e+00, 1.3353196e-02,\n",
       "         0.0000000e+00, 1.8792568e-02, 5.8400137e-03, 2.2616051e-02,\n",
       "         0.0000000e+00, 3.2187782e-02, 0.0000000e+00, 1.3711655e-02,\n",
       "         6.1547346e-03, 0.0000000e+00, 0.0000000e+00, 0.0000000e+00]],\n",
       "       dtype=float32)>)"
      ]
     },
     "execution_count": 145,
     "metadata": {},
     "output_type": "execute_result"
    }
   ],
   "source": [
    "emotion_encoder(np.expand_dims(emotion_features[0],axis=0))"
   ]
  },
  {
   "cell_type": "markdown",
   "id": "f03fb37b",
   "metadata": {
    "id": "25dff32e"
   },
   "source": [
    "### Training"
   ]
  },
  {
   "cell_type": "code",
   "execution_count": 146,
   "id": "255ca11e",
   "metadata": {
    "id": "9559d09b"
   },
   "outputs": [],
   "source": [
    "from sklearn.model_selection import train_test_split"
   ]
  },
  {
   "cell_type": "code",
   "execution_count": 147,
   "id": "972cfc6f",
   "metadata": {
    "id": "3e38fa7d"
   },
   "outputs": [],
   "source": [
    "loss_object = tf.keras.losses.SparseCategoricalCrossentropy(reduction='none',\n",
    "                                                                         from_logits=True)\n",
    "lr_value = 1e-4\n",
    "reduction_power = 10\n",
    "optimizer = tf.keras.optimizers.RMSprop(learning_rate=lr_value)\n",
    "with_weights = False"
   ]
  },
  {
   "cell_type": "code",
   "execution_count": 148,
   "id": "e58c84cf",
   "metadata": {
    "id": "12a0f4ce"
   },
   "outputs": [],
   "source": [
    "epochs = 30\n",
    "batch_size = 64\n",
    "patience_epochs = 2"
   ]
  },
  {
   "cell_type": "code",
   "execution_count": 149,
   "id": "b1e64055",
   "metadata": {
    "id": "9cb2ce3a"
   },
   "outputs": [],
   "source": [
    "def loss_function(real, pred, loss_weights):\n",
    "        mask = tf.math.logical_not(tf.math.equal(real, vocab[pad_token]))\n",
    "        loss_ = loss_object(real, pred)\n",
    "        mask = tf.cast(mask, dtype=loss_.dtype)\n",
    "        loss_ *= mask\n",
    "        loss_weights = tf.cast(loss_weights, dtype=loss_.dtype)\n",
    "        loss_*=loss_weights\n",
    "        return loss_"
   ]
  },
  {
   "cell_type": "code",
   "execution_count": 177,
   "id": "44e73fd1",
   "metadata": {
    "id": "f1b5202f"
   },
   "outputs": [],
   "source": [
    "@tf.function\n",
    "def train_step(image, target, emo_feature, lengths, optimizer):\n",
    "    with tf.GradientTape() as tape:\n",
    "        features = conv_encoder(image)\n",
    "        hidden, state_c = emotion_encoder(emo_feature)\n",
    "\n",
    "        # Teacher forcing - feeding the target as the next input\n",
    "        batched_loss = []\n",
    "        for t in range(1, target.shape[1]):\n",
    "            \n",
    "            dec_input = tf.expand_dims(target[:, t-1], 1)\n",
    "            result, hidden, state_c, _ = lstm_decoder(dec_input, features, hidden, state_c,emo_feature)\n",
    "            weights = tf.broadcast_to(class_weights, shape=(target[:,t].shape[0], class_weights.shape[0]))\n",
    "            weights = tf.gather(weights, target[:,t],axis=1, batch_dims=1)\n",
    "            batched_loss.append(loss_function(target[:, t], result, weights))\n",
    "        batched_loss = tf.reshape(tf.stack(batched_loss), shape=target[:,1:].shape)\n",
    "        batched_loss = tf.reduce_sum(batched_loss, axis=1)\n",
    "        lengths = tf.cast(lengths, dtype=batched_loss.dtype)\n",
    "        loss = tf.reduce_mean(batched_loss / lengths)\n",
    "\n",
    "    perplexity = tf.exp(loss)\n",
    "\n",
    "    variables = conv_encoder.trainable_variables + lstm_decoder.trainable_variables + emotion_encoder.trainable_variables\n",
    "    gradients = tape.gradient(loss, variables)\n",
    "\n",
    "    optimizer.apply_gradients(zip(gradients, variables))\n",
    "\n",
    "    return loss, perplexity"
   ]
  },
  {
   "cell_type": "code",
   "execution_count": 178,
   "id": "90d3f164",
   "metadata": {
    "id": "aa6a4ec9"
   },
   "outputs": [],
   "source": [
    "@tf.function\n",
    "def evaluate(image, target,emo_feature, lengths, optimizer):\n",
    "    hidden, state_c = emotion_encoder(emo_feature)\n",
    "\n",
    "    features = conv_encoder(image)\n",
    "    # Teacher forcing - feeding the target as the next input\n",
    "    batched_loss = []\n",
    "    for t in range(1, target.shape[1]):\n",
    "\n",
    "        dec_input = tf.expand_dims(target[:, t-1], 1)\n",
    "        result, hidden, state_c, _ = lstm_decoder(dec_input, features, hidden, state_c, emo_feature)\n",
    "        weights = tf.broadcast_to(class_weights, shape=(target[:,t].shape[0], class_weights.shape[0]))\n",
    "        weights = tf.gather(weights, target[:,t],axis=1, batch_dims=1)\n",
    "        batched_loss.append(loss_function(target[:, t], result, weights))\n",
    "    \n",
    "    batched_loss = tf.reshape(tf.stack(batched_loss), shape=target[:,1:].shape)\n",
    "    batched_loss = tf.reduce_sum(batched_loss, axis=1)\n",
    "    lengths = tf.cast(lengths, dtype=batched_loss.dtype)\n",
    "    loss = tf.reduce_mean(batched_loss / lengths)\n",
    "    perplexity = tf.exp(loss)\n",
    "\n",
    "\n",
    "    return loss, perplexity"
   ]
  },
  {
   "cell_type": "code",
   "execution_count": 170,
   "id": "84179204",
   "metadata": {
    "id": "b9b86eed"
   },
   "outputs": [],
   "source": [
    "train_images, val_images, train_sequences, val_sequences, train_emo, val_emo =  train_test_split(images, indexed, emotion_features, test_size=0.2, random_state=10)\n",
    "val_images, test_images, val_sequences, test_sequences, val_emo, test_emo =  train_test_split(val_images, val_sequences,val_emo, test_size=0.5, random_state=10)"
   ]
  },
  {
   "cell_type": "code",
   "execution_count": 171,
   "id": "5276c42f",
   "metadata": {
    "id": "acba46dc"
   },
   "outputs": [],
   "source": [
    "train_length = (np.array(train_sequences)!=vocab[pad_token]).sum(axis=1)-2"
   ]
  },
  {
   "cell_type": "code",
   "execution_count": 172,
   "id": "a3860e5a",
   "metadata": {},
   "outputs": [],
   "source": [
    "val_length = (np.array(val_sequences)!=vocab[pad_token]).sum(axis=1)-2"
   ]
  },
  {
   "cell_type": "code",
   "execution_count": 173,
   "id": "55a3a842",
   "metadata": {
    "id": "114f3f4d"
   },
   "outputs": [],
   "source": [
    "test_length = (np.array(test_sequences)!=vocab[pad_token]).sum(axis=1)-2"
   ]
  },
  {
   "cell_type": "code",
   "execution_count": 174,
   "id": "309d5f9f",
   "metadata": {
    "id": "0e27f657"
   },
   "outputs": [],
   "source": [
    "train_images = np.array(np.array_split(train_images, len(train_images)//batch_size)).astype('float32')\n",
    "test_images = np.array(np.array_split(test_images, len(test_images)//batch_size)).astype('float32')\n",
    "val_images = np.array(np.array_split(val_images, len(val_images)//batch_size)).astype('float32')\n",
    "\n",
    "train_emo = np.array(np.array_split(train_emo, len(train_emo)//batch_size)).astype('float32')\n",
    "test_emo = np.array(np.array_split(test_emo, len(test_emo)//batch_size)).astype('float32')\n",
    "val_emo = np.array(np.array_split(val_emo, len(val_emo)//batch_size)).astype('float32')\n",
    "\n",
    "train_sequences = np.array(np.array_split(train_sequences, len(train_sequences)//batch_size))\n",
    "test_sequences = np.array(np.array_split(test_sequences, len(test_sequences)//batch_size))\n",
    "val_sequences = np.array(np.array_split(val_sequences, len(val_sequences)//batch_size))\n",
    "\n",
    "train_length = np.array(np.array_split(train_length, len(train_length)//batch_size)).astype('float32')\n",
    "test_length = np.array(np.array_split(test_length, len(test_length)//batch_size)).astype('float32')\n",
    "val_length = np.array(np.array_split(val_length, len(val_length)//batch_size)).astype('float32')\n"
   ]
  },
  {
   "cell_type": "code",
   "execution_count": 175,
   "id": "dc654e90",
   "metadata": {
    "id": "552ed89c",
    "outputId": "54b68180-8df5-4e71-c80a-9009ed49b74a"
   },
   "outputs": [
    {
     "data": {
      "text/plain": [
       "((48, 64, 224, 224, 3), (48, 64, 12), (48, 64), (48, 64, 7))"
      ]
     },
     "execution_count": 175,
     "metadata": {},
     "output_type": "execute_result"
    }
   ],
   "source": [
    "train_images.shape, train_sequences.shape, train_length.shape, train_emo.shape"
   ]
  },
  {
   "cell_type": "code",
   "execution_count": 86,
   "id": "d7836f0b",
   "metadata": {
    "id": "25f6490c",
    "outputId": "79c4fa3b-5786-44c1-faa3-075c5d0d804b"
   },
   "outputs": [
    {
     "name": "stdout",
     "output_type": "stream",
     "text": [
      "Collecting tqdm\n",
      "  Using cached tqdm-4.61.2-py2.py3-none-any.whl (76 kB)\n",
      "Installing collected packages: tqdm\n",
      "Successfully installed tqdm-4.61.2\n",
      "\u001b[33mWARNING: You are using pip version 21.1.2; however, version 21.1.3 is available.\n",
      "You should consider upgrading via the '/home/ec2-user/anaconda3/envs/amazonei_tensorflow2_p36/bin/python -m pip install --upgrade pip' command.\u001b[0m\n"
     ]
    }
   ],
   "source": [
    "!pip install tqdm"
   ]
  },
  {
   "cell_type": "code",
   "execution_count": 87,
   "id": "307568f5",
   "metadata": {
    "id": "c233a386"
   },
   "outputs": [],
   "source": [
    "if not with_weights:\n",
    "    class_weights = np.array([1 for i in range(len(class_weights))])"
   ]
  },
  {
   "cell_type": "code",
   "execution_count": 88,
   "id": "b3c09596",
   "metadata": {
    "id": "4c609b61"
   },
   "outputs": [],
   "source": [
    "from tqdm import tqdm"
   ]
  },
  {
   "cell_type": "code",
   "execution_count": 179,
   "id": "8577ce12",
   "metadata": {
    "id": "1144f320",
    "outputId": "6b3fe07f-3098-43f9-bf97-30657ac3723b"
   },
   "outputs": [
    {
     "name": "stderr",
     "output_type": "stream",
     "text": [
      "48it [01:18,  1.64s/it]\n"
     ]
    },
    {
     "name": "stdout",
     "output_type": "stream",
     "text": [
      "Finished epoch 0; Train loss : 7.44605016708374; Train perplexity : 2646.327880859375\n",
      "Validation loss : 6.1060004234313965; Validation perplexity : 453.7125244140625\n"
     ]
    },
    {
     "name": "stderr",
     "output_type": "stream",
     "text": [
      "48it [00:47,  1.00it/s]\n"
     ]
    },
    {
     "name": "stdout",
     "output_type": "stream",
     "text": [
      "Finished epoch 1; Train loss : 5.789498805999756; Train perplexity : 330.68951416015625\n",
      "Validation loss : 5.714325428009033; Validation perplexity : 306.7153625488281\n"
     ]
    },
    {
     "name": "stderr",
     "output_type": "stream",
     "text": [
      "48it [00:47,  1.00it/s]\n"
     ]
    },
    {
     "name": "stdout",
     "output_type": "stream",
     "text": [
      "Finished epoch 2; Train loss : 5.581444263458252; Train perplexity : 268.03228759765625\n",
      "Validation loss : 5.594034194946289; Validation perplexity : 272.21337890625\n"
     ]
    },
    {
     "name": "stderr",
     "output_type": "stream",
     "text": [
      "48it [00:48,  1.00s/it]\n"
     ]
    },
    {
     "name": "stdout",
     "output_type": "stream",
     "text": [
      "Finished epoch 3; Train loss : 5.413810729980469; Train perplexity : 226.7266845703125\n",
      "Validation loss : 5.454564571380615; Validation perplexity : 237.05535888671875\n"
     ]
    },
    {
     "name": "stderr",
     "output_type": "stream",
     "text": [
      "48it [00:48,  1.01s/it]\n"
     ]
    },
    {
     "name": "stdout",
     "output_type": "stream",
     "text": [
      "Finished epoch 4; Train loss : 5.252772808074951; Train perplexity : 193.0530548095703\n",
      "Validation loss : 5.335048198699951; Validation perplexity : 210.48170471191406\n"
     ]
    },
    {
     "name": "stderr",
     "output_type": "stream",
     "text": [
      "48it [00:48,  1.01s/it]\n"
     ]
    },
    {
     "name": "stdout",
     "output_type": "stream",
     "text": [
      "Finished epoch 5; Train loss : 5.107113361358643; Train perplexity : 166.82894897460938\n",
      "Validation loss : 5.213046550750732; Validation perplexity : 186.4616241455078\n"
     ]
    },
    {
     "name": "stderr",
     "output_type": "stream",
     "text": [
      "48it [00:48,  1.01s/it]\n"
     ]
    },
    {
     "name": "stdout",
     "output_type": "stream",
     "text": [
      "Finished epoch 6; Train loss : 4.969766139984131; Train perplexity : 145.58116149902344\n",
      "Validation loss : 5.110049724578857; Validation perplexity : 168.4003143310547\n"
     ]
    },
    {
     "name": "stderr",
     "output_type": "stream",
     "text": [
      "48it [00:48,  1.00s/it]\n"
     ]
    },
    {
     "name": "stdout",
     "output_type": "stream",
     "text": [
      "Finished epoch 7; Train loss : 4.8330464363098145; Train perplexity : 127.051513671875\n",
      "Validation loss : 5.0705671310424805; Validation perplexity : 162.44569396972656\n"
     ]
    },
    {
     "name": "stderr",
     "output_type": "stream",
     "text": [
      "48it [00:48,  1.01s/it]\n"
     ]
    },
    {
     "name": "stdout",
     "output_type": "stream",
     "text": [
      "Finished epoch 8; Train loss : 4.702624320983887; Train perplexity : 111.51219940185547\n",
      "Validation loss : 4.901880264282227; Validation perplexity : 137.24539184570312\n"
     ]
    },
    {
     "name": "stderr",
     "output_type": "stream",
     "text": [
      "48it [00:48,  1.00s/it]\n"
     ]
    },
    {
     "name": "stdout",
     "output_type": "stream",
     "text": [
      "Finished epoch 9; Train loss : 4.571197986602783; Train perplexity : 97.84622192382812\n",
      "Validation loss : 4.875864028930664; Validation perplexity : 134.3500213623047\n"
     ]
    },
    {
     "name": "stderr",
     "output_type": "stream",
     "text": [
      "48it [00:51,  1.07s/it]\n"
     ]
    },
    {
     "name": "stdout",
     "output_type": "stream",
     "text": [
      "Finished epoch 10; Train loss : 4.451480388641357; Train perplexity : 86.80743408203125\n",
      "Validation loss : 4.698462963104248; Validation perplexity : 112.1812515258789\n"
     ]
    },
    {
     "name": "stderr",
     "output_type": "stream",
     "text": [
      "48it [00:52,  1.10s/it]\n"
     ]
    },
    {
     "name": "stdout",
     "output_type": "stream",
     "text": [
      "Finished epoch 11; Train loss : 4.334532737731934; Train perplexity : 77.21623992919922\n",
      "Validation loss : 4.629523754119873; Validation perplexity : 105.00079345703125\n"
     ]
    },
    {
     "name": "stderr",
     "output_type": "stream",
     "text": [
      "48it [00:48,  1.02s/it]\n"
     ]
    },
    {
     "name": "stdout",
     "output_type": "stream",
     "text": [
      "Finished epoch 12; Train loss : 4.226802349090576; Train perplexity : 69.43781280517578\n",
      "Validation loss : 4.528106212615967; Validation perplexity : 94.83978271484375\n"
     ]
    },
    {
     "name": "stderr",
     "output_type": "stream",
     "text": [
      "48it [00:48,  1.00s/it]\n"
     ]
    },
    {
     "name": "stdout",
     "output_type": "stream",
     "text": [
      "Finished epoch 13; Train loss : 4.12919282913208; Train perplexity : 62.933231353759766\n",
      "Validation loss : 4.443572044372559; Validation perplexity : 87.27922821044922\n"
     ]
    },
    {
     "name": "stderr",
     "output_type": "stream",
     "text": [
      "48it [00:48,  1.00s/it]\n"
     ]
    },
    {
     "name": "stdout",
     "output_type": "stream",
     "text": [
      "Finished epoch 14; Train loss : 4.042227745056152; Train perplexity : 57.78289794921875\n",
      "Validation loss : 4.401548862457275; Validation perplexity : 84.1372299194336\n"
     ]
    },
    {
     "name": "stderr",
     "output_type": "stream",
     "text": [
      "48it [00:48,  1.00s/it]\n"
     ]
    },
    {
     "name": "stdout",
     "output_type": "stream",
     "text": [
      "Finished epoch 15; Train loss : 3.960115671157837; Train perplexity : 53.15586853027344\n",
      "Validation loss : 4.33203649520874; Validation perplexity : 78.5009994506836\n"
     ]
    },
    {
     "name": "stderr",
     "output_type": "stream",
     "text": [
      "48it [00:48,  1.00s/it]\n"
     ]
    },
    {
     "name": "stdout",
     "output_type": "stream",
     "text": [
      "Finished epoch 16; Train loss : 3.8854801654815674; Train perplexity : 49.39152145385742\n",
      "Validation loss : 4.244001865386963; Validation perplexity : 71.75760650634766\n"
     ]
    },
    {
     "name": "stderr",
     "output_type": "stream",
     "text": [
      "48it [00:48,  1.00s/it]\n"
     ]
    },
    {
     "name": "stdout",
     "output_type": "stream",
     "text": [
      "Finished epoch 17; Train loss : 3.8157167434692383; Train perplexity : 46.01228713989258\n",
      "Validation loss : 4.216319561004639; Validation perplexity : 69.92074584960938\n"
     ]
    },
    {
     "name": "stderr",
     "output_type": "stream",
     "text": [
      "48it [00:47,  1.00it/s]\n"
     ]
    },
    {
     "name": "stdout",
     "output_type": "stream",
     "text": [
      "Finished epoch 18; Train loss : 3.750231981277466; Train perplexity : 43.12263488769531\n",
      "Validation loss : 4.1453857421875; Validation perplexity : 65.24781036376953\n"
     ]
    },
    {
     "name": "stderr",
     "output_type": "stream",
     "text": [
      "48it [00:48,  1.00s/it]\n"
     ]
    },
    {
     "name": "stdout",
     "output_type": "stream",
     "text": [
      "Finished epoch 19; Train loss : 3.6942710876464844; Train perplexity : 40.76609802246094\n",
      "Validation loss : 4.143374443054199; Validation perplexity : 65.44165802001953\n"
     ]
    },
    {
     "name": "stderr",
     "output_type": "stream",
     "text": [
      "48it [00:48,  1.01s/it]\n"
     ]
    },
    {
     "name": "stdout",
     "output_type": "stream",
     "text": [
      "Finished epoch 20; Train loss : 3.6374666690826416; Train perplexity : 38.51799392700195\n",
      "Validation loss : 4.064839839935303; Validation perplexity : 60.283447265625\n"
     ]
    },
    {
     "name": "stderr",
     "output_type": "stream",
     "text": [
      "48it [00:48,  1.01s/it]\n"
     ]
    },
    {
     "name": "stdout",
     "output_type": "stream",
     "text": [
      "Finished epoch 21; Train loss : 3.5841434001922607; Train perplexity : 36.51634216308594\n",
      "Validation loss : 4.038229465484619; Validation perplexity : 58.8861198425293\n"
     ]
    },
    {
     "name": "stderr",
     "output_type": "stream",
     "text": [
      "48it [00:48,  1.01s/it]\n"
     ]
    },
    {
     "name": "stdout",
     "output_type": "stream",
     "text": [
      "Finished epoch 22; Train loss : 3.5328118801116943; Train perplexity : 34.683414459228516\n",
      "Validation loss : 4.017344951629639; Validation perplexity : 57.51198959350586\n"
     ]
    },
    {
     "name": "stderr",
     "output_type": "stream",
     "text": [
      "48it [00:48,  1.00s/it]\n"
     ]
    },
    {
     "name": "stdout",
     "output_type": "stream",
     "text": [
      "Finished epoch 23; Train loss : 3.4903786182403564; Train perplexity : 33.253841400146484\n",
      "Validation loss : 3.9532787799835205; Validation perplexity : 54.00715637207031\n"
     ]
    },
    {
     "name": "stderr",
     "output_type": "stream",
     "text": [
      "48it [00:48,  1.01s/it]\n"
     ]
    },
    {
     "name": "stdout",
     "output_type": "stream",
     "text": [
      "Finished epoch 24; Train loss : 3.4442341327667236; Train perplexity : 31.743940353393555\n",
      "Validation loss : 3.9307994842529297; Validation perplexity : 52.85758590698242\n"
     ]
    },
    {
     "name": "stderr",
     "output_type": "stream",
     "text": [
      "48it [00:48,  1.01s/it]\n"
     ]
    },
    {
     "name": "stdout",
     "output_type": "stream",
     "text": [
      "Finished epoch 25; Train loss : 3.403632164001465; Train perplexity : 30.480806350708008\n",
      "Validation loss : 3.915989637374878; Validation perplexity : 52.16469192504883\n"
     ]
    },
    {
     "name": "stderr",
     "output_type": "stream",
     "text": [
      "48it [00:48,  1.01s/it]\n"
     ]
    },
    {
     "name": "stdout",
     "output_type": "stream",
     "text": [
      "Finished epoch 26; Train loss : 3.362133026123047; Train perplexity : 29.230194091796875\n",
      "Validation loss : 3.893991470336914; Validation perplexity : 51.08392333984375\n"
     ]
    },
    {
     "name": "stderr",
     "output_type": "stream",
     "text": [
      "48it [00:48,  1.01s/it]\n"
     ]
    },
    {
     "name": "stdout",
     "output_type": "stream",
     "text": [
      "Finished epoch 27; Train loss : 3.323732614517212; Train perplexity : 28.130537033081055\n",
      "Validation loss : 3.857680559158325; Validation perplexity : 49.1314582824707\n"
     ]
    },
    {
     "name": "stderr",
     "output_type": "stream",
     "text": [
      "48it [00:48,  1.01s/it]\n"
     ]
    },
    {
     "name": "stdout",
     "output_type": "stream",
     "text": [
      "Finished epoch 28; Train loss : 3.289405584335327; Train perplexity : 27.18096923828125\n",
      "Validation loss : 3.829559087753296; Validation perplexity : 47.93450927734375\n"
     ]
    },
    {
     "name": "stderr",
     "output_type": "stream",
     "text": [
      "48it [00:48,  1.01s/it]\n"
     ]
    },
    {
     "name": "stdout",
     "output_type": "stream",
     "text": [
      "Finished epoch 29; Train loss : 3.253570795059204; Train perplexity : 26.212158203125\n",
      "Validation loss : 3.8169775009155273; Validation perplexity : 47.200897216796875\n"
     ]
    }
   ],
   "source": [
    "train_loss = []\n",
    "train_perplexity = []\n",
    "val_loss = []\n",
    "val_perplexity = []\n",
    "overfit_epochs = 0\n",
    "for epoch in range(epochs):\n",
    "    epoch_train_loss = 0\n",
    "    epoch_train_perplexity = 0\n",
    "    epoch_val_loss = 0\n",
    "    epoch_val_perplexity = 0\n",
    "    for batch_train_images, batch_train_sequences, batched_train_length, batched_train_emo in tqdm(zip(train_images,train_sequences,train_length, train_emo)):\n",
    "        batched_train_loss, batched_train_perplexity = train_step(batch_train_images,batch_train_sequences,batched_train_emo, batched_train_length, optimizer)\n",
    "        epoch_train_loss+=batched_train_loss\n",
    "        epoch_train_perplexity+=batched_train_perplexity\n",
    "    epoch_train_loss = epoch_train_loss/train_images.shape[0]\n",
    "    epoch_train_perplexity = epoch_train_perplexity/train_images.shape[0]\n",
    "    train_loss.append(epoch_train_loss)\n",
    "    train_perplexity.append(epoch_train_perplexity)\n",
    "    print('Finished epoch {}; Train loss : {}; Train perplexity : {}'.format(epoch,epoch_train_loss,epoch_train_perplexity))\n",
    "    for batch_val_images, batch_val_sequences, batched_val_length, batched_test_emo in zip(val_images,val_sequences,val_length, val_emo):\n",
    "        batched_val_loss, batched_val_perplexity = evaluate(batch_val_images, batch_val_sequences, batched_test_emo, batched_val_length, optimizer)\n",
    "        epoch_val_loss+=batched_val_loss\n",
    "        epoch_val_perplexity+=batched_val_perplexity\n",
    "    epoch_val_loss = epoch_val_loss/val_images.shape[0]\n",
    "    epoch_val_perplexity = epoch_val_perplexity/val_images.shape[0]\n",
    "    val_perplexity.append(epoch_val_perplexity)\n",
    "    val_loss.append(epoch_val_loss)\n",
    "    print('Validation loss : {}; Validation perplexity : {}'.format(epoch_val_loss,epoch_val_perplexity))\n",
    "    if len(val_loss)>=2 and val_loss[-2]<val_loss[-1]:\n",
    "        overfit_epochs+=1\n",
    "    else:\n",
    "        overfit_epochs=0\n",
    "    if overfit_epochs==patience_epochs:\n",
    "        lr_value/=reduction_power\n",
    "        optimizer.lr.assign(lr_value)\n",
    "        print('There was no improvement in validation loss for {} epochs, thus reducing learning rate'.format(patience_epochs))"
   ]
  },
  {
   "cell_type": "markdown",
   "id": "8e1d8e2b",
   "metadata": {
    "id": "b20edf6a"
   },
   "source": [
    "# Viewing and saving results"
   ]
  },
  {
   "cell_type": "code",
   "execution_count": 180,
   "id": "e80aeab5",
   "metadata": {
    "id": "b775f40b"
   },
   "outputs": [],
   "source": [
    "df = pd.DataFrame()\n",
    "model_name = 'conv_lstm_logits_transfer_learning_w2v_fixed_size_attention_emotions'\n",
    "df['train_perplexity'] = [i.numpy() for i in train_perplexity]\n",
    "df['val_perplexity'] = [i.numpy() for i in val_perplexity]\n",
    "df['train_loss'] = [i.numpy() for i in train_loss]\n",
    "df['val_loss'] = [i.numpy() for i in val_loss]\n"
   ]
  },
  {
   "cell_type": "code",
   "execution_count": 181,
   "id": "b8acef45",
   "metadata": {
    "id": "4bf89741"
   },
   "outputs": [],
   "source": [
    "import matplotlib.pyplot as plt\n",
    "import seaborn as sns\n",
    "sns.set()"
   ]
  },
  {
   "cell_type": "code",
   "execution_count": 182,
   "id": "64e1fc53",
   "metadata": {
    "id": "e372ef85"
   },
   "outputs": [
    {
     "data": {
      "image/png": "[encoded data removed]",
      "text/plain": [
       "<Figure size 1080x864 with 1 Axes>"
      ]
     },
     "metadata": {},
     "output_type": "display_data"
    }
   ],
   "source": [
    "plt.figure(figsize=(15,12))\n",
    "plt.title('Perplexity results')\n",
    "plt.plot(df['train_perplexity'])\n",
    "plt.plot(df['val_perplexity'])\n",
    "plt.xlabel('Epochs')\n",
    "plt.ylabel('Perplexity')\n",
    "plt.yticks(np.arange(min(df['train_perplexity']), max(df['train_perplexity'])+100,100))\n",
    "plt.legend(['Train', 'Validation']);"
   ]
  },
  {
   "cell_type": "code",
   "execution_count": 183,
   "id": "157789ad",
   "metadata": {
    "id": "1f615389",
    "outputId": "a9f1734b-8d3e-4c31-a17b-8ff7c257277e"
   },
   "outputs": [
    {
     "data": {
      "image/png": "[encoded data removed]",
      "text/plain": [
       "<Figure size 1080x864 with 1 Axes>"
      ]
     },
     "metadata": {},
     "output_type": "display_data"
    }
   ],
   "source": [
    "plt.figure(figsize=(15,12))\n",
    "plt.title('Loss results')\n",
    "plt.plot(df['train_loss'])\n",
    "plt.plot(df['val_loss'])\n",
    "plt.xlabel('Epochs')\n",
    "plt.ylabel('Loss')\n",
    "plt.yticks(np.arange(min(df['train_loss']),max(df['train_loss']),0.2))\n",
    "plt.legend(['Train', 'Validation']);"
   ]
  },
  {
   "cell_type": "markdown",
   "id": "5e64fb35",
   "metadata": {
    "id": "ad1ee3d5"
   },
   "source": [
    "# Testing model"
   ]
  },
  {
   "cell_type": "code",
   "execution_count": 184,
   "id": "268cd24e",
   "metadata": {
    "id": "444505ed"
   },
   "outputs": [],
   "source": [
    "import matplotlib.pyplot as plt\n",
    "import seaborn as sns"
   ]
  },
  {
   "cell_type": "code",
   "execution_count": 210,
   "id": "e078ec4d",
   "metadata": {
    "id": "aa2085b8"
   },
   "outputs": [],
   "source": [
    "class Decoder:\n",
    "    def __init__(self, encoder: tf.keras.Model,\n",
    "                 decoder: tf.keras.Model,\n",
    "                 start_token: int,\n",
    "                 end_token: int,\n",
    "                 max_len: int = None,\n",
    "                 units:int = 256):\n",
    "        self.encoder = encoder\n",
    "        self.decoder = decoder\n",
    "        self.max_len = max_len if max_len else 100\n",
    "        self.start_token = start_token\n",
    "        self.end_token = end_token\n",
    "        self.units = units\n",
    "\n",
    "    def decode(self, input):\n",
    "        pass\n",
    "\n",
    "\n",
    "class GreedyDecoder(Decoder):\n",
    "    def __init__(self, encoder: tf.keras.Model,\n",
    "                 decoder: tf.keras.Model,\n",
    "                 emo_encoder:tf.keras.Model,\n",
    "                 start_token: int,\n",
    "                 end_token: int,\n",
    "                 max_len: int = 10,\n",
    "                 units:int = 256\n",
    "                 ):\n",
    "        \n",
    "        super().__init__(encoder,\n",
    "                         decoder,\n",
    "                         start_token,\n",
    "                         end_token,\n",
    "                         max_len,\n",
    "                         units\n",
    "                         )\n",
    "        self.emo_encoder = emo_encoder\n",
    "\n",
    "    def decode(self, input, emo_feature):\n",
    "        features = self.encoder(np.expand_dims(input, axis=0))\n",
    "        emo_feature = np.expand_dims(emo_feature,axis=0)\n",
    "        hidden, state_c = self.emo_encoder(emo_feature)\n",
    "        target_seq = np.zeros((1, 1))\n",
    "        target_seq[0, 0] = self.start_token\n",
    "        res = []\n",
    "        while True:\n",
    "            # Sample a token\n",
    "            output, hidden, state_c, _ = self.decoder(target_seq,features,hidden,state_c,emo_feature)\n",
    "            sampled_token_index = np.argmax(tf.nn.softmax(output.numpy()))\n",
    "            if len(res) > self.max_len or sampled_token_index == self.end_token:\n",
    "                break\n",
    "\n",
    "            res.append(sampled_token_index)\n",
    "\n",
    "            target_seq = np.zeros((1, 1))\n",
    "            target_seq[0, 0] = sampled_token_index\n",
    "\n",
    "       \n",
    "        return res\n"
   ]
  },
  {
   "cell_type": "code",
   "execution_count": 221,
   "id": "a941849d",
   "metadata": {
    "id": "27c864a3"
   },
   "outputs": [],
   "source": [
    "class BeamSearchDecoder(Decoder):\n",
    "    def __init__(self, encoder: tf.keras.Model,\n",
    "                 decoder: tf.keras.Model,\n",
    "                  emo_encoder:tf.keras.Model,\n",
    "                 start_token: int,\n",
    "                 end_token: int,\n",
    "                 max_len: int = 10,\n",
    "                 units:int = 256\n",
    "                 ):\n",
    "        super().__init__(encoder,\n",
    "                         decoder,\n",
    "                         start_token,\n",
    "                         end_token,\n",
    "                         max_len,\n",
    "                         units\n",
    "                         )\n",
    "        self.emo_encoder = emo_encoder\n",
    "\n",
    "\n",
    "    def decode(self, input, emo_feature, beam_size=3):\n",
    "        start = [self.start_token]\n",
    "        features = self.encoder(np.expand_dims(input,axis=0))\n",
    "        emo_feature = np.expand_dims(emo_feature,axis=0)\n",
    "        hidden, state_c = self.emo_encoder(emo_feature)\n",
    "        start_word = [[start, 0.0, hidden, state_c]]\n",
    "\n",
    "        while len(start_word[0][0]) < self.max_len:\n",
    "            temp = []\n",
    "            for s in start_word:\n",
    "                target_seq = np.array([[s[0][-1]]])\n",
    "                hidden = s[-1]\n",
    "                state_c = s[-2]\n",
    "                output, hidden, state_c, _ = self.decoder(target_seq, features, hidden, state_c, emo_feature)\n",
    "                output = np.hstack(output)\n",
    "                output = tf.nn.softmax(output).numpy()\n",
    "                word_preds = np.argsort(output)[-beam_size:]\n",
    "\n",
    "                for w in word_preds:\n",
    "                    next_cap, prob = s[0][:], s[1]\n",
    "                    next_cap.append(w)\n",
    "                    prob += output[w]\n",
    "                    temp.append([next_cap, prob, hidden, state_c])\n",
    "\n",
    "            start_word = temp\n",
    "            # Sorting according to the probabilities\n",
    "            start_word = sorted(start_word, reverse=False, key=lambda l: l[1])\n",
    "            # Getting the top words\n",
    "            start_word = start_word[-beam_size:]\n",
    "\n",
    "        start_word = start_word[-1][0]\n",
    "\n",
    "        final_caption = []\n",
    "\n",
    "        for i in start_word:\n",
    "            if i != self.end_token:\n",
    "                final_caption.append(i)\n",
    "            else:\n",
    "                break\n",
    "        return final_caption[1:]"
   ]
  },
  {
   "cell_type": "code",
   "execution_count": 212,
   "id": "af8072f3",
   "metadata": {
    "id": "a1adf0a9"
   },
   "outputs": [],
   "source": [
    "def predict(data, emo_feature, decoder, inverse_vocab,\n",
    "           beam_size=None):\n",
    "    if beam_size:\n",
    "        result = decoder.decode(data, emo_feature, beam_size=beam_size)\n",
    "    else:\n",
    "        result = decoder.decode(data, emo_feature)\n",
    "    return ' '.join([inverse_vocab[i] for i in result])"
   ]
  },
  {
   "cell_type": "code",
   "execution_count": 222,
   "id": "17ec7848",
   "metadata": {
    "id": "73319486"
   },
   "outputs": [],
   "source": [
    "greedy_decoder = GreedyDecoder(conv_encoder, lstm_decoder,emotion_encoder, vocab[start_token], vocab[end_token],\n",
    "             max_len=10, units=256)"
   ]
  },
  {
   "cell_type": "code",
   "execution_count": 223,
   "id": "262d2485",
   "metadata": {
    "id": "8532e4bd"
   },
   "outputs": [],
   "source": [
    "beam_decoder = BeamSearchDecoder(conv_encoder, lstm_decoder,emotion_encoder, vocab[start_token], vocab[end_token],\n",
    "             max_len=10, units=256)"
   ]
  },
  {
   "cell_type": "code",
   "execution_count": 224,
   "id": "89a3fb9b",
   "metadata": {
    "id": "6f1270b6",
    "outputId": "b539b8ba-9ec6-41e6-a010-d6a51aac7daa"
   },
   "outputs": [
    {
     "data": {
      "text/plain": [
       "(3840, 224, 224, 3)"
      ]
     },
     "execution_count": 224,
     "metadata": {},
     "output_type": "execute_result"
    }
   ],
   "source": [
    "images.shape"
   ]
  },
  {
   "cell_type": "code",
   "execution_count": 261,
   "id": "ecb18fad",
   "metadata": {
    "id": "5aef8f6f"
   },
   "outputs": [],
   "source": [
    "idx = np.random.choice(range(len(images)))\n",
    "sample = images[idx]"
   ]
  },
  {
   "cell_type": "code",
   "execution_count": 262,
   "id": "6a2c1779",
   "metadata": {
    "id": "eab38846",
    "outputId": "cff5d836-1670-437b-fa05-37b4d1323c46"
   },
   "outputs": [
    {
     "name": "stdout",
     "output_type": "stream",
     "text": [
      "the group of people are laughing\n"
     ]
    },
    {
     "data": {
      "image/png": "[encoded data removed]",
      "text/plain": [
       "<Figure size 576x576 with 1 Axes>"
      ]
     },
     "metadata": {},
     "output_type": "display_data"
    }
   ],
   "source": [
    "plt.figure(figsize=(8,8))\n",
    "plt.imshow(sample)\n",
    "plt.grid([])\n",
    "plt.axis('off');\n",
    "print(annotations[idx])"
   ]
  },
  {
   "cell_type": "code",
   "execution_count": 263,
   "id": "50e5397d",
   "metadata": {
    "id": "73100527",
    "outputId": "9ea366c9-f621-4cee-e012-ec5dc2beaebd"
   },
   "outputs": [
    {
     "data": {
      "text/plain": [
       "'the man looks woman looks woman looks woman looks woman looks'"
      ]
     },
     "execution_count": 263,
     "metadata": {},
     "output_type": "execute_result"
    }
   ],
   "source": [
    "predict(sample, emotion_features[idx], greedy_decoder, inverse_vocab)"
   ]
  },
  {
   "cell_type": "code",
   "execution_count": 264,
   "id": "40e381d9",
   "metadata": {},
   "outputs": [
    {
     "data": {
      "text/plain": [
       "'the man is happy to woman'"
      ]
     },
     "execution_count": 264,
     "metadata": {},
     "output_type": "execute_result"
    }
   ],
   "source": [
    "predict(sample,emotion_features[idx], beam_decoder, inverse_vocab, beam_size=3)"
   ]
  },
  {
   "cell_type": "code",
   "execution_count": 265,
   "id": "454578db",
   "metadata": {},
   "outputs": [
    {
     "data": {
      "text/plain": [
       "'the man is trying to the woman'"
      ]
     },
     "execution_count": 265,
     "metadata": {},
     "output_type": "execute_result"
    }
   ],
   "source": [
    "predict(sample,emotion_features[idx], beam_decoder, inverse_vocab, beam_size=5)"
   ]
  },
  {
   "cell_type": "code",
   "execution_count": 266,
   "id": "57456648",
   "metadata": {},
   "outputs": [
    {
     "data": {
      "text/plain": [
       "'the man is trying to the woman'"
      ]
     },
     "execution_count": 266,
     "metadata": {},
     "output_type": "execute_result"
    }
   ],
   "source": [
    "predict(sample,emotion_features[idx], beam_decoder, inverse_vocab, beam_size=7)"
   ]
  },
  {
   "cell_type": "code",
   "execution_count": 267,
   "id": "4deb254b",
   "metadata": {
    "id": "687f2739",
    "outputId": "deb0509a-c3f9-4ba6-95a7-e3fd80bdef93"
   },
   "outputs": [
    {
     "data": {
      "text/plain": [
       "'the man is trying to the woman'"
      ]
     },
     "execution_count": 267,
     "metadata": {},
     "output_type": "execute_result"
    }
   ],
   "source": [
    "predict(sample,emotion_features[idx], beam_decoder, inverse_vocab, beam_size=10)"
   ]
  },
  {
   "cell_type": "markdown",
   "id": "316cc8fa",
   "metadata": {
    "id": "df35cb03"
   },
   "source": [
    "# Blue score calculation"
   ]
  },
  {
   "cell_type": "code",
   "execution_count": 268,
   "id": "62aa8f2c",
   "metadata": {
    "id": "32df0196"
   },
   "outputs": [],
   "source": [
    "from nltk.translate.bleu_score import sentence_bleu\n"
   ]
  },
  {
   "cell_type": "markdown",
   "id": "572c6fa8",
   "metadata": {
    "id": "0ab649e9"
   },
   "source": [
    "### making predictions on test dataset with beam_size of 5"
   ]
  },
  {
   "cell_type": "code",
   "execution_count": 270,
   "id": "2210db17",
   "metadata": {
    "id": "c58e0513",
    "outputId": "cd586145-cdf4-4c04-8724-fa154eb17c70"
   },
   "outputs": [
    {
     "name": "stderr",
     "output_type": "stream",
     "text": [
      "6it [05:37, 56.17s/it]\n"
     ]
    }
   ],
   "source": [
    "test_predictions = []\n",
    "for batch_image, batch_emo in tqdm(zip(test_images, test_emo)):\n",
    "    for image, emo in zip(batch_image, batch_emo):\n",
    "        result = predict(image, emo, beam_decoder, inverse_vocab, beam_size=5)\n",
    "        test_predictions.append(result)"
   ]
  },
  {
   "cell_type": "code",
   "execution_count": 271,
   "id": "38b90468",
   "metadata": {
    "id": "d5b3a561"
   },
   "outputs": [],
   "source": [
    "test_predictions = [i.split(' ') for i in test_predictions]"
   ]
  },
  {
   "cell_type": "code",
   "execution_count": 272,
   "id": "5106ccf1",
   "metadata": {
    "id": "321a7d79"
   },
   "outputs": [],
   "source": [
    "reshaped_sequences = test_sequences.reshape(test_sequences.shape[0]*test_sequences.shape[1],-1)"
   ]
  },
  {
   "cell_type": "code",
   "execution_count": 273,
   "id": "40a4a210",
   "metadata": {
    "id": "f08b271c"
   },
   "outputs": [],
   "source": [
    "test_sentences = []\n",
    "for i in reshaped_sequences:\n",
    "    tmp = []\n",
    "    for word in i:\n",
    "        if word!=0 and word!=1 and word!=2:\n",
    "            tmp.append(inverse_vocab[word])\n",
    "    test_sentences.append(tmp)"
   ]
  },
  {
   "cell_type": "code",
   "execution_count": 274,
   "id": "411ab7c0",
   "metadata": {
    "id": "d59c5885",
    "outputId": "ef47af55-ff52-46c5-eca2-b29eb57e0773"
   },
   "outputs": [
    {
     "name": "stdout",
     "output_type": "stream",
     "text": [
      "Overall bleu score on test data : 0.00925130106249421\n"
     ]
    },
    {
     "name": "stderr",
     "output_type": "stream",
     "text": [
      "/home/ec2-user/anaconda3/envs/amazonei_tensorflow2_p36/lib/python3.6/site-packages/nltk/translate/bleu_score.py:523: UserWarning: \n",
      "The hypothesis contains 0 counts of 2-gram overlaps.\n",
      "Therefore the BLEU score evaluates to 0, independently of\n",
      "how many N-gram overlaps of lower order it contains.\n",
      "Consider using lower n-gram order or use SmoothingFunction()\n",
      "  warnings.warn(_msg)\n",
      "/home/ec2-user/anaconda3/envs/amazonei_tensorflow2_p36/lib/python3.6/site-packages/nltk/translate/bleu_score.py:523: UserWarning: \n",
      "The hypothesis contains 0 counts of 3-gram overlaps.\n",
      "Therefore the BLEU score evaluates to 0, independently of\n",
      "how many N-gram overlaps of lower order it contains.\n",
      "Consider using lower n-gram order or use SmoothingFunction()\n",
      "  warnings.warn(_msg)\n",
      "/home/ec2-user/anaconda3/envs/amazonei_tensorflow2_p36/lib/python3.6/site-packages/nltk/translate/bleu_score.py:523: UserWarning: \n",
      "The hypothesis contains 0 counts of 4-gram overlaps.\n",
      "Therefore the BLEU score evaluates to 0, independently of\n",
      "how many N-gram overlaps of lower order it contains.\n",
      "Consider using lower n-gram order or use SmoothingFunction()\n",
      "  warnings.warn(_msg)\n"
     ]
    }
   ],
   "source": [
    "bleu_score = []\n",
    "for reference, prediction in zip(test_sentences, test_predictions):\n",
    "    bleu_score.append(sentence_bleu([reference], prediction))\n",
    "print('Overall bleu score on test data : {}'.format(np.mean(bleu_score)))\n",
    "df['overall_bleu'] = np.mean(bleu_score)*100"
   ]
  },
  {
   "cell_type": "code",
   "execution_count": 275,
   "id": "e46ebb97",
   "metadata": {},
   "outputs": [
    {
     "name": "stdout",
     "output_type": "stream",
     "text": [
      "Bleu score on test data for n-gram = 1 : 0.23009516569528835\n"
     ]
    }
   ],
   "source": [
    "bleu_score = []\n",
    "for reference, prediction in zip(test_sentences, test_predictions):\n",
    "    bleu_score.append(sentence_bleu([reference], prediction, weights=(1,)))\n",
    "print('Bleu score on test data for n-gram = 1 : {}'.format(np.mean(bleu_score)))\n",
    "df['n1_bleu'] = np.mean(bleu_score)*100"
   ]
  },
  {
   "cell_type": "code",
   "execution_count": 276,
   "id": "183c297b",
   "metadata": {},
   "outputs": [
    {
     "name": "stdout",
     "output_type": "stream",
     "text": [
      "Bleu score on test data for n-gram = 2 : 0.08536539216025803\n"
     ]
    }
   ],
   "source": [
    "bleu_score = []\n",
    "for reference, prediction in zip(test_sentences, test_predictions):\n",
    "    bleu_score.append(sentence_bleu([reference], prediction, weights=(0,1)))\n",
    "print('Bleu score on test data for n-gram = 2 : {}'.format(np.mean(bleu_score)))\n",
    "df['n2_bleu'] = np.mean(bleu_score)*100"
   ]
  },
  {
   "cell_type": "code",
   "execution_count": 277,
   "id": "02e2faf6",
   "metadata": {},
   "outputs": [
    {
     "name": "stdout",
     "output_type": "stream",
     "text": [
      "Bleu score on test data for n-gram = 3 : 0.03450833305919363\n"
     ]
    }
   ],
   "source": [
    "bleu_score = []\n",
    "for reference, prediction in zip(test_sentences, test_predictions):\n",
    "    bleu_score.append(sentence_bleu([reference], prediction, weights=(0,0,1)))\n",
    "print('Bleu score on test data for n-gram = 3 : {}'.format(np.mean(bleu_score)))\n",
    "df['n3_bleu'] = np.mean(bleu_score)*100"
   ]
  },
  {
   "cell_type": "code",
   "execution_count": 278,
   "id": "e3e3f14d",
   "metadata": {},
   "outputs": [
    {
     "name": "stdout",
     "output_type": "stream",
     "text": [
      "Bleu score on test data for n-gram = 4 : 0.006279449878388107\n"
     ]
    }
   ],
   "source": [
    "bleu_score = []\n",
    "for reference, prediction in zip(test_sentences, test_predictions):\n",
    "    bleu_score.append(sentence_bleu([reference], prediction, weights=(0,0,0,1)))\n",
    "print('Bleu score on test data for n-gram = 4 : {}'.format(np.mean(bleu_score)))\n",
    "df['n4_bleu'] = np.mean(bleu_score)*100"
   ]
  },
  {
   "cell_type": "code",
   "execution_count": 279,
   "id": "9eea1590",
   "metadata": {},
   "outputs": [
    {
     "name": "stdout",
     "output_type": "stream",
     "text": [
      "Acuumulated bleu score on test data for n-gram = 4 : 0.00925130106249421\n"
     ]
    }
   ],
   "source": [
    "bleu_score = []\n",
    "for reference, prediction in zip(test_sentences, test_predictions):\n",
    "    bleu_score.append(sentence_bleu([reference], prediction, weights=(0.25,0.25,0.25,0.25)))\n",
    "print('Acuumulated bleu score on test data for n-gram = 4 : {}'.format(np.mean(bleu_score)))\n",
    "df['acc_bleu'] = np.mean(bleu_score)*100"
   ]
  },
  {
   "cell_type": "code",
   "execution_count": 280,
   "id": "43188ac1",
   "metadata": {},
   "outputs": [
    {
     "data": {
      "text/html": [
       "<div>\n",
       "<style scoped>\n",
       "    .dataframe tbody tr th:only-of-type {\n",
       "        vertical-align: middle;\n",
       "    }\n",
       "\n",
       "    .dataframe tbody tr th {\n",
       "        vertical-align: top;\n",
       "    }\n",
       "\n",
       "    .dataframe thead th {\n",
       "        text-align: right;\n",
       "    }\n",
       "</style>\n",
       "<table border=\"1\" class=\"dataframe\">\n",
       "  <thead>\n",
       "    <tr style=\"text-align: right;\">\n",
       "      <th></th>\n",
       "      <th>train_perplexity</th>\n",
       "      <th>val_perplexity</th>\n",
       "      <th>train_loss</th>\n",
       "      <th>val_loss</th>\n",
       "      <th>overall_bleu</th>\n",
       "      <th>n1_bleu</th>\n",
       "      <th>n2_bleu</th>\n",
       "      <th>n3_bleu</th>\n",
       "      <th>n4_bleu</th>\n",
       "      <th>acc_bleu</th>\n",
       "    </tr>\n",
       "  </thead>\n",
       "  <tbody>\n",
       "    <tr>\n",
       "      <th>0</th>\n",
       "      <td>2646.327881</td>\n",
       "      <td>453.712524</td>\n",
       "      <td>7.446050</td>\n",
       "      <td>6.106000</td>\n",
       "      <td>0.92513</td>\n",
       "      <td>23.009517</td>\n",
       "      <td>8.536539</td>\n",
       "      <td>3.450833</td>\n",
       "      <td>0.627945</td>\n",
       "      <td>0.92513</td>\n",
       "    </tr>\n",
       "    <tr>\n",
       "      <th>1</th>\n",
       "      <td>330.689514</td>\n",
       "      <td>306.715363</td>\n",
       "      <td>5.789499</td>\n",
       "      <td>5.714325</td>\n",
       "      <td>0.92513</td>\n",
       "      <td>23.009517</td>\n",
       "      <td>8.536539</td>\n",
       "      <td>3.450833</td>\n",
       "      <td>0.627945</td>\n",
       "      <td>0.92513</td>\n",
       "    </tr>\n",
       "    <tr>\n",
       "      <th>2</th>\n",
       "      <td>268.032288</td>\n",
       "      <td>272.213379</td>\n",
       "      <td>5.581444</td>\n",
       "      <td>5.594034</td>\n",
       "      <td>0.92513</td>\n",
       "      <td>23.009517</td>\n",
       "      <td>8.536539</td>\n",
       "      <td>3.450833</td>\n",
       "      <td>0.627945</td>\n",
       "      <td>0.92513</td>\n",
       "    </tr>\n",
       "    <tr>\n",
       "      <th>3</th>\n",
       "      <td>226.726685</td>\n",
       "      <td>237.055359</td>\n",
       "      <td>5.413811</td>\n",
       "      <td>5.454565</td>\n",
       "      <td>0.92513</td>\n",
       "      <td>23.009517</td>\n",
       "      <td>8.536539</td>\n",
       "      <td>3.450833</td>\n",
       "      <td>0.627945</td>\n",
       "      <td>0.92513</td>\n",
       "    </tr>\n",
       "    <tr>\n",
       "      <th>4</th>\n",
       "      <td>193.053055</td>\n",
       "      <td>210.481705</td>\n",
       "      <td>5.252773</td>\n",
       "      <td>5.335048</td>\n",
       "      <td>0.92513</td>\n",
       "      <td>23.009517</td>\n",
       "      <td>8.536539</td>\n",
       "      <td>3.450833</td>\n",
       "      <td>0.627945</td>\n",
       "      <td>0.92513</td>\n",
       "    </tr>\n",
       "  </tbody>\n",
       "</table>\n",
       "</div>"
      ],
      "text/plain": [
       "   train_perplexity  val_perplexity  train_loss  val_loss  overall_bleu  \\\n",
       "0       2646.327881      453.712524    7.446050  6.106000       0.92513   \n",
       "1        330.689514      306.715363    5.789499  5.714325       0.92513   \n",
       "2        268.032288      272.213379    5.581444  5.594034       0.92513   \n",
       "3        226.726685      237.055359    5.413811  5.454565       0.92513   \n",
       "4        193.053055      210.481705    5.252773  5.335048       0.92513   \n",
       "\n",
       "     n1_bleu   n2_bleu   n3_bleu   n4_bleu  acc_bleu  \n",
       "0  23.009517  8.536539  3.450833  0.627945   0.92513  \n",
       "1  23.009517  8.536539  3.450833  0.627945   0.92513  \n",
       "2  23.009517  8.536539  3.450833  0.627945   0.92513  \n",
       "3  23.009517  8.536539  3.450833  0.627945   0.92513  \n",
       "4  23.009517  8.536539  3.450833  0.627945   0.92513  "
      ]
     },
     "execution_count": 280,
     "metadata": {},
     "output_type": "execute_result"
    }
   ],
   "source": [
    "df.head()"
   ]
  },
  {
   "cell_type": "code",
   "execution_count": 281,
   "id": "b791c86d",
   "metadata": {},
   "outputs": [],
   "source": [
    "df.to_csv('{}_logs.csv'.format(model_name),index=False)"
   ]
  },
  {
   "cell_type": "code",
   "execution_count": 88,
   "id": "2db4edb3",
   "metadata": {},
   "outputs": [],
   "source": [
    "conv_encoder.save_weights('{}_encoder.h5'.format(model_name))"
   ]
  },
  {
   "cell_type": "code",
   "execution_count": 89,
   "id": "8def35a6",
   "metadata": {},
   "outputs": [],
   "source": [
    "lstm_decoder.save_weights('{}_decoder.h5'.format(model_name))"
   ]
  },
  {
   "cell_type": "code",
   "execution_count": null,
   "id": "e1dd55a3",
   "metadata": {},
   "outputs": [],
   "source": []
  },
  {
   "cell_type": "code",
   "execution_count": null,
   "id": "c5d9156d",
   "metadata": {},
   "outputs": [],
   "source": []
  }
 ],
 "metadata": {
  "colab": {
   "name": "conv_lstm_caption_full_transfer_learning_enc_dec.ipynb",
   "provenance": []
  },
  "kernelspec": {
   "display_name": "conda_amazonei_tensorflow2_p36",
   "language": "python",
   "name": "conda_amazonei_tensorflow2_p36"
  },
  "language_info": {
   "codemirror_mode": {
    "name": "ipython",
    "version": 3
   },
   "file_extension": ".py",
   "mimetype": "text/x-python",
   "name": "python",
   "nbconvert_exporter": "python",
   "pygments_lexer": "ipython3",
   "version": "3.6.13"
  }
 },
 "nbformat": 4,
 "nbformat_minor": 5
}
