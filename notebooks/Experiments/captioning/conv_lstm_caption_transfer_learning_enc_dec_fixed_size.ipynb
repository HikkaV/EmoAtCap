{
 "cells": [
  {
   "cell_type": "code",
   "execution_count": 1,
   "id": "4a1c96aa",
   "metadata": {
    "id": "e2d397db"
   },
   "outputs": [],
   "source": [
    "import tensorflow as tf"
   ]
  },
  {
   "cell_type": "code",
   "execution_count": 2,
   "id": "8a2e723f",
   "metadata": {
    "id": "9964723c"
   },
   "outputs": [],
   "source": [
    "import pandas as pd\n",
    "import os\n",
    "import numpy as np\n",
    "from sklearn.utils import class_weight\n",
    "from keras_preprocessing import image as im\n",
    "tf.random.set_seed(\n",
    "    5\n",
    ")"
   ]
  },
  {
   "cell_type": "markdown",
   "id": "e4fc4849",
   "metadata": {
    "id": "8ce21b4a"
   },
   "source": [
    "# Loading data"
   ]
  },
  {
   "cell_type": "code",
   "execution_count": 3,
   "id": "e8aafea1",
   "metadata": {
    "id": "214a30af"
   },
   "outputs": [],
   "source": [
    "def load_data(image_path, annotations_path):\n",
    "    df = pd.read_csv(annotations_path)\n",
    "    df = df[~df['human_sentiment'].isna()]\n",
    "    in_folder = os.listdir(image_path)\n",
    "    df.loc[df['image_name'].isin(in_folder), 'image_name'] = \\\n",
    "    df.loc[df['image_name'].isin(in_folder), 'image_name'].apply(lambda x: os.path.join(image_path,x))\n",
    "    images = []\n",
    "    for image_name in df['image_name'].values:\n",
    "        images.append(np.array(im.load_img(image_name, target_size=(224,224))))\n",
    "    images = np.array(images)\n",
    "    images = images/255\n",
    "    annotations = df['annotation'].str.lower().values\n",
    "    return images, annotations"
   ]
  },
  {
   "cell_type": "code",
   "execution_count": 4,
   "id": "161fc535",
   "metadata": {
    "id": "e483de83"
   },
   "outputs": [],
   "source": [
    "images, annotations = load_data(\"../../../../images/\", '../../../../emo-at-cap.csv')"
   ]
  },
  {
   "cell_type": "markdown",
   "id": "a1bc73eb",
   "metadata": {
    "id": "3cb1f9e8"
   },
   "source": [
    "# Processing of data"
   ]
  },
  {
   "cell_type": "code",
   "execution_count": 5,
   "id": "7ce5cd85",
   "metadata": {
    "id": "4ba97451"
   },
   "outputs": [],
   "source": [
    "import nltk"
   ]
  },
  {
   "cell_type": "code",
   "execution_count": 6,
   "id": "68c4abb8",
   "metadata": {
    "id": "3898996e"
   },
   "outputs": [],
   "source": [
    "tokenizer = nltk.tokenize.WordPunctTokenizer()"
   ]
  },
  {
   "cell_type": "code",
   "execution_count": 7,
   "id": "8d8c2101",
   "metadata": {
    "id": "b568172f"
   },
   "outputs": [],
   "source": [
    "tokenized = [tokenizer.tokenize(i) for i in annotations]"
   ]
  },
  {
   "cell_type": "code",
   "execution_count": 8,
   "id": "d39d8c8b",
   "metadata": {
    "id": "e1021302"
   },
   "outputs": [],
   "source": [
    "unique_tokens, unique_counts = np.unique(np.hstack(tokenized), return_counts=True)"
   ]
  },
  {
   "cell_type": "code",
   "execution_count": 9,
   "id": "73e436ac",
   "metadata": {
    "id": "7eaea268",
    "outputId": "9d0d2069-1025-47e1-e098-24715fb6ec45"
   },
   "outputs": [
    {
     "name": "stderr",
     "output_type": "stream",
     "text": [
      "/home/ec2-user/anaconda3/envs/amazonei_tensorflow2_p36/lib/python3.6/site-packages/sklearn/utils/validation.py:72: FutureWarning: Pass classes=[\"'\" ',' '-' ... 'youth' 'исходный' 'текст'], y=['the' 'man' 'is' ... 'with' 'some' 'clothes'] as keyword args. From version 1.0 (renaming of 0.25) passing these as positional arguments will result in an error\n",
      "  \"will result in an error\", FutureWarning)\n"
     ]
    }
   ],
   "source": [
    "class_weights = class_weight.compute_class_weight('balanced', np.unique(np.hstack(tokenized)), np.hstack(tokenized))"
   ]
  },
  {
   "cell_type": "code",
   "execution_count": 10,
   "id": "ee19fa00",
   "metadata": {
    "id": "eb8ef5f2"
   },
   "outputs": [],
   "source": [
    "frequency = sorted(list(zip(unique_tokens, unique_counts)), key = lambda x: x[1])[::-1][:50]"
   ]
  },
  {
   "cell_type": "code",
   "execution_count": 11,
   "id": "e19247e6",
   "metadata": {
    "id": "f3f16b78",
    "outputId": "7ba159bf-6ea6-4ee2-bd5c-7ed65db04f20"
   },
   "outputs": [
    {
     "data": {
      "text/plain": [
       "[('the', 3261),\n",
       " ('is', 2031),\n",
       " ('man', 1905),\n",
       " ('and', 1536),\n",
       " ('woman', 1361),\n",
       " ('are', 1036),\n",
       " ('a', 963),\n",
       " ('to', 891),\n",
       " ('looks', 751),\n",
       " ('happy', 705),\n",
       " ('with', 547),\n",
       " ('something', 480),\n",
       " ('men', 478),\n",
       " ('of', 463),\n",
       " ('two', 408),\n",
       " ('other', 361),\n",
       " ('people', 343),\n",
       " ('couple', 334),\n",
       " (',', 330),\n",
       " ('in', 278),\n",
       " ('look', 270),\n",
       " ('because', 265),\n",
       " ('they', 256),\n",
       " ('about', 247),\n",
       " ('on', 246),\n",
       " ('at', 192),\n",
       " ('trying', 190),\n",
       " ('serious', 189),\n",
       " ('women', 184),\n",
       " ('each', 179),\n",
       " ('together', 176),\n",
       " ('by', 175),\n",
       " ('having', 171),\n",
       " ('flirting', 165),\n",
       " ('he', 155),\n",
       " ('smiling', 151),\n",
       " ('arguing', 141),\n",
       " ('angry', 140),\n",
       " ('scared', 138),\n",
       " ('worried', 137),\n",
       " ('hugging', 135),\n",
       " ('surprised', 134),\n",
       " ('calm', 133),\n",
       " ('company', 131),\n",
       " ('her', 129),\n",
       " ('group', 123),\n",
       " ('for', 121),\n",
       " ('she', 117),\n",
       " ('looking', 117),\n",
       " ('his', 115)]"
      ]
     },
     "execution_count": 11,
     "metadata": {},
     "output_type": "execute_result"
    }
   ],
   "source": [
    "frequency"
   ]
  },
  {
   "cell_type": "code",
   "execution_count": 12,
   "id": "7df2cfd1",
   "metadata": {
    "id": "f950e507",
    "outputId": "98b430e4-e506-4337-c1ed-88e22edac668"
   },
   "outputs": [
    {
     "data": {
      "text/plain": [
       "2162"
      ]
     },
     "execution_count": 12,
     "metadata": {},
     "output_type": "execute_result"
    }
   ],
   "source": [
    "len(unique_tokens)"
   ]
  },
  {
   "cell_type": "code",
   "execution_count": 13,
   "id": "7b1418e8",
   "metadata": {
    "id": "6000f578"
   },
   "outputs": [],
   "source": [
    "pad_token = '<PAD>'\n",
    "start_token = '<S>'\n",
    "end_token = '<E>'"
   ]
  },
  {
   "cell_type": "code",
   "execution_count": 14,
   "id": "34d961d6",
   "metadata": {
    "id": "4bc8861e"
   },
   "outputs": [],
   "source": [
    "vocab = dict(zip(unique_tokens,list(range(3,len(unique_tokens)+3))))\n",
    "vocab[pad_token] = 0\n",
    "vocab[start_token] = 1\n",
    "vocab[end_token] = 2"
   ]
  },
  {
   "cell_type": "code",
   "execution_count": 15,
   "id": "7a5c5fe8",
   "metadata": {
    "id": "ea82ff64"
   },
   "outputs": [],
   "source": [
    "inverse_vocab = dict([(v,k) for k,v in vocab.items()])"
   ]
  },
  {
   "cell_type": "code",
   "execution_count": 16,
   "id": "897a42da",
   "metadata": {
    "id": "88aee17b"
   },
   "outputs": [],
   "source": [
    "def padd(sentences, pad_token, start_token, end_token, maxlen=10):\n",
    "    padded_sentences = []\n",
    "    for i in sentences:\n",
    "        sentence = [start_token] + i + [end_token]\n",
    "        if len(sentence)>=maxlen+2:\n",
    "            sentence = sentence[:maxlen+2]\n",
    "        else:\n",
    "            sentence = sentence+[pad_token for i in range(maxlen+2-len(sentence))]\n",
    "        padded_sentences.append(sentence)\n",
    "    return padded_sentences"
   ]
  },
  {
   "cell_type": "code",
   "execution_count": 17,
   "id": "796532cc",
   "metadata": {
    "id": "7c387246"
   },
   "outputs": [],
   "source": [
    "padded_sentences = padd(tokenized, pad_token, start_token, end_token, maxlen=10)"
   ]
  },
  {
   "cell_type": "code",
   "execution_count": 18,
   "id": "ecd0685c",
   "metadata": {
    "id": "dae31ba2",
    "outputId": "486e686d-f0b8-4618-af6d-1e7c60ea39c9"
   },
   "outputs": [
    {
     "data": {
      "text/plain": [
       "12.0"
      ]
     },
     "execution_count": 18,
     "metadata": {},
     "output_type": "execute_result"
    }
   ],
   "source": [
    "np.mean([len(i) for i in padded_sentences])"
   ]
  },
  {
   "cell_type": "code",
   "execution_count": 19,
   "id": "205b0d95",
   "metadata": {
    "id": "1dbf265e"
   },
   "outputs": [],
   "source": [
    "indexed = list(map(lambda x: [vocab[i] for i in x],padded_sentences))"
   ]
  },
  {
   "cell_type": "code",
   "execution_count": 20,
   "id": "2631cde9",
   "metadata": {
    "id": "cf6c28d5",
    "outputId": "7d1336e9-b529-4aa8-b9bc-2ffcb1932e4f"
   },
   "outputs": [
    {
     "data": {
      "text/plain": [
       "(3840, 224, 224, 3)"
      ]
     },
     "execution_count": 20,
     "metadata": {},
     "output_type": "execute_result"
    }
   ],
   "source": [
    "images.shape"
   ]
  },
  {
   "cell_type": "code",
   "execution_count": 21,
   "id": "1de9457e",
   "metadata": {
    "id": "e0517b86",
    "outputId": "c6ec86e9-44db-4bcd-f81b-202d2d1a04b4"
   },
   "outputs": [
    {
     "data": {
      "text/plain": [
       "2162"
      ]
     },
     "execution_count": 21,
     "metadata": {},
     "output_type": "execute_result"
    }
   ],
   "source": [
    "len(class_weights)"
   ]
  },
  {
   "cell_type": "code",
   "execution_count": 22,
   "id": "3a43cc59",
   "metadata": {
    "id": "ab0f6f4b"
   },
   "outputs": [],
   "source": [
    "class_weights = list(class_weights)\n",
    "class_weights.insert(0, 1)\n",
    "class_weights.insert(1, 1)\n",
    "class_weights.insert(2, 1)"
   ]
  },
  {
   "cell_type": "code",
   "execution_count": 23,
   "id": "37ac4e33",
   "metadata": {
    "id": "05479771",
    "outputId": "2c7a7e8f-765f-4f04-a736-13a683275744"
   },
   "outputs": [
    {
     "data": {
      "text/plain": [
       "(2165, 2165)"
      ]
     },
     "execution_count": 23,
     "metadata": {},
     "output_type": "execute_result"
    }
   ],
   "source": [
    "len(class_weights), len(vocab)"
   ]
  },
  {
   "cell_type": "code",
   "execution_count": 24,
   "id": "a48c8d41",
   "metadata": {
    "id": "41ca43a8",
    "outputId": "bf3fd02b-b281-45d1-c2f5-ecde217c10c3"
   },
   "outputs": [
    {
     "data": {
      "text/plain": [
       "[1, 1, 1, 0.21013259327782918]"
      ]
     },
     "execution_count": 24,
     "metadata": {},
     "output_type": "execute_result"
    }
   ],
   "source": [
    "class_weights[:4]"
   ]
  },
  {
   "cell_type": "code",
   "execution_count": 25,
   "id": "3a8a471a",
   "metadata": {
    "id": "8a65a1f9"
   },
   "outputs": [],
   "source": [
    "class_weights = np.array(class_weights)"
   ]
  },
  {
   "cell_type": "code",
   "execution_count": 26,
   "id": "aceb2d97",
   "metadata": {
    "id": "69a12138",
    "outputId": "58861466-75dd-46b2-e607-f3adf8280f92"
   },
   "outputs": [
    {
     "data": {
      "text/plain": [
       "(2165,)"
      ]
     },
     "execution_count": 26,
     "metadata": {},
     "output_type": "execute_result"
    }
   ],
   "source": [
    "class_weights.shape"
   ]
  },
  {
   "cell_type": "markdown",
   "id": "93cadd4d",
   "metadata": {
    "id": "87b12db3"
   },
   "source": [
    "# Model with transfer learning"
   ]
  },
  {
   "cell_type": "code",
   "execution_count": 27,
   "id": "d9abe589",
   "metadata": {
    "id": "1bc5b828"
   },
   "outputs": [],
   "source": [
    "def calc_size(x, f, s, padding='same'):\n",
    "    p = 2 if padding=='same' else 1\n",
    "    return (x-f+2)/s+1"
   ]
  },
  {
   "cell_type": "markdown",
   "id": "55781a63",
   "metadata": {
    "id": "7b9f00b4"
   },
   "source": [
    "### Convolutional model"
   ]
  },
  {
   "cell_type": "code",
   "execution_count": 28,
   "id": "b5a8d0b4",
   "metadata": {
    "id": "10203a8b"
   },
   "outputs": [],
   "source": [
    "import tensorflow.keras.applications as apps\n"
   ]
  },
  {
   "cell_type": "code",
   "execution_count": 29,
   "id": "60b7695f",
   "metadata": {},
   "outputs": [
    {
     "name": "stdout",
     "output_type": "stream",
     "text": [
      "WARNING:tensorflow:No training configuration found in the save file, so the model was *not* compiled. Compile it manually.\n",
      "Model: \"encoder\"\n",
      "_________________________________________________________________\n",
      "Layer (type)                 Output Shape              Param #   \n",
      "=================================================================\n",
      "conv2d (Conv2D)              (None, 224, 224, 32)      896       \n",
      "_________________________________________________________________\n",
      "max_pooling2d (MaxPooling2D) (None, 112, 112, 32)      0         \n",
      "_________________________________________________________________\n",
      "conv2d_1 (Conv2D)            (None, 112, 112, 64)      18496     \n",
      "_________________________________________________________________\n",
      "max_pooling2d_1 (MaxPooling2 (None, 56, 56, 64)        0         \n",
      "_________________________________________________________________\n",
      "conv2d_2 (Conv2D)            (None, 56, 56, 128)       73856     \n",
      "_________________________________________________________________\n",
      "max_pooling2d_2 (MaxPooling2 (None, 28, 28, 128)       0         \n",
      "_________________________________________________________________\n",
      "conv2d_3 (Conv2D)            (None, 28, 28, 256)       295168    \n",
      "_________________________________________________________________\n",
      "max_pooling2d_3 (MaxPooling2 (None, 14, 14, 256)       0         \n",
      "_________________________________________________________________\n",
      "conv2d_4 (Conv2D)            (None, 14, 14, 512)       1180160   \n",
      "_________________________________________________________________\n",
      "max_pooling2d_4 (MaxPooling2 (None, 7, 7, 512)         0         \n",
      "_________________________________________________________________\n",
      "flatten (Flatten)            (None, 25088)             0         \n",
      "_________________________________________________________________\n",
      "dense (Dense)                (None, 128)               3211392   \n",
      "=================================================================\n",
      "Total params: 4,779,968\n",
      "Trainable params: 4,779,968\n",
      "Non-trainable params: 0\n",
      "_________________________________________________________________\n"
     ]
    }
   ],
   "source": [
    "tf.keras.models.load_model('encoder.h5').summary()"
   ]
  },
  {
   "cell_type": "code",
   "execution_count": 1,
   "id": "8aa5d3bb",
   "metadata": {
    "colab": {
     "base_uri": "https://localhost:8080/",
     "height": 235
    },
    "id": "c8c52aa1",
    "outputId": "36d889da-8981-413e-bb50-72bce618f234"
   },
   "outputs": [
    {
     "ename": "NameError",
     "evalue": "name 'tf' is not defined",
     "output_type": "error",
     "traceback": [
      "\u001b[0;31m---------------------------------------------------------------------------\u001b[0m",
      "\u001b[0;31mNameError\u001b[0m                                 Traceback (most recent call last)",
      "\u001b[0;32m<ipython-input-1-df68628287bc>\u001b[0m in \u001b[0;36m<module>\u001b[0;34m\u001b[0m\n\u001b[0;32m----> 1\u001b[0;31m \u001b[0;32mclass\u001b[0m \u001b[0mConvEncoder\u001b[0m\u001b[0;34m(\u001b[0m\u001b[0mtf\u001b[0m\u001b[0;34m.\u001b[0m\u001b[0mkeras\u001b[0m\u001b[0;34m.\u001b[0m\u001b[0mModel\u001b[0m\u001b[0;34m)\u001b[0m\u001b[0;34m:\u001b[0m\u001b[0;34m\u001b[0m\u001b[0;34m\u001b[0m\u001b[0m\n\u001b[0m\u001b[1;32m      2\u001b[0m     \u001b[0;32mdef\u001b[0m \u001b[0m__init__\u001b[0m\u001b[0;34m(\u001b[0m\u001b[0mself\u001b[0m\u001b[0;34m,\u001b[0m \u001b[0mtrainable\u001b[0m\u001b[0;34m=\u001b[0m\u001b[0;32mFalse\u001b[0m\u001b[0;34m,\u001b[0m \u001b[0mn_finetune\u001b[0m\u001b[0;34m=\u001b[0m\u001b[0;36m5\u001b[0m\u001b[0;34m)\u001b[0m\u001b[0;34m:\u001b[0m\u001b[0;34m\u001b[0m\u001b[0;34m\u001b[0m\u001b[0m\n\u001b[1;32m      3\u001b[0m         \u001b[0msuper\u001b[0m\u001b[0;34m(\u001b[0m\u001b[0mConvEncoder\u001b[0m\u001b[0;34m,\u001b[0m \u001b[0mself\u001b[0m\u001b[0;34m)\u001b[0m\u001b[0;34m.\u001b[0m\u001b[0m__init__\u001b[0m\u001b[0;34m(\u001b[0m\u001b[0;34m)\u001b[0m\u001b[0;34m\u001b[0m\u001b[0;34m\u001b[0m\u001b[0m\n\u001b[1;32m      4\u001b[0m         \u001b[0;31m#building resnet\u001b[0m\u001b[0;34m\u001b[0m\u001b[0;34m\u001b[0m\u001b[0;34m\u001b[0m\u001b[0m\n\u001b[1;32m      5\u001b[0m         \u001b[0mresnet\u001b[0m \u001b[0;34m=\u001b[0m \u001b[0mapps\u001b[0m\u001b[0;34m.\u001b[0m\u001b[0mResNet152V2\u001b[0m\u001b[0;34m(\u001b[0m\u001b[0minclude_top\u001b[0m\u001b[0;34m=\u001b[0m\u001b[0;32mFalse\u001b[0m\u001b[0;34m,\u001b[0m \u001b[0mweights\u001b[0m\u001b[0;34m=\u001b[0m\u001b[0;34m'imagenet'\u001b[0m\u001b[0;34m)\u001b[0m\u001b[0;34m\u001b[0m\u001b[0;34m\u001b[0m\u001b[0m\n",
      "\u001b[0;31mNameError\u001b[0m: name 'tf' is not defined"
     ]
    }
   ],
   "source": [
    "class ConvEncoder(tf.keras.Model):\n",
    "    def __init__(self, trainable=False, n_finetune=5):\n",
    "        super(ConvEncoder, self).__init__()\n",
    "        #building resnet\n",
    "        resnet = apps.ResNet152V2(include_top=False, weights='imagenet')\n",
    "        outputs = [i for i in resnet.layers if i.name=='conv4_block5_out'][0]\n",
    "        inputs = resnet.layers[0]\n",
    "        self.resnet_extractor = tf.keras.models.Model(inputs=inputs.input, outputs=outputs.output)\n",
    "        if trainable and n_finetune:\n",
    "            for layer in self.resnet_extractor.layers[:-n_finetune]:\n",
    "                layer.trainable = False\n",
    "        else:\n",
    "            self.resnet_extractor.trainable = trainable\n",
    "        \n",
    "        #batch norm\n",
    "        self.batch_norm1 =  tf.keras.layers.BatchNormalization()\n",
    "        self.batch_norm2 =  tf.keras.layers.BatchNormalization()\n",
    "        self.batch_norm3 =  tf.keras.layers.BatchNormalization()\n",
    "        #dropout\n",
    "        self.dropout = tf.keras.layers.Dropout(0.1)\n",
    "        \n",
    "        #on top extractors \n",
    "        self.conv1 = tf.keras.layers.Conv2D(filters=1024, kernel_size=7, activation='relu',\n",
    "                               padding='same', name='conv1', strides=(2,2))\n",
    "        self.conv2 = tf.keras.layers.Conv2D(filters=1024, kernel_size=5, activation='relu',\n",
    "                                       padding='same', name='conv2', strides=(2,2))\n",
    "        self.conv3 = tf.keras.layers.Conv2D(filters=512, kernel_size=4, activation='relu',\n",
    "                                       padding='same', name='conv3', strides=(2,2))\n",
    "        self.conv4 = tf.keras.layers.Conv2D(filters=512, kernel_size=1, activation='relu',\n",
    "                                       padding='same', name='conv4', strides=(2,2))\n",
    "        \n",
    "        self.conv5 = tf.keras.layers.Conv2D(filters=512, kernel_size=1, activation='relu',\n",
    "                                       padding='same', name='conv5', strides=(2,2))\n",
    "        self.flatten = tf.keras.layers.Flatten()\n",
    "        \n",
    "    def call(self, input):\n",
    "        resnet_features = self.resnet_extractor(input)\n",
    "        conv1_out = self.batch_norm1(self.conv1(resnet_features))\n",
    "        conv2_out = self.batch_norm2(self.conv2(conv1_out))\n",
    "        conv3_out = self.batch_norm3(self.conv3(conv2_out))\n",
    "        conv4_out = self.conv4(conv3_out)\n",
    "        conv5_out = self.conv5(conv3_out)\n",
    "        return [self.dropout(self.flatten(conv4_out)), self.dropout(self.flatten(conv5_out))]"
   ]
  },
  {
   "cell_type": "code",
   "execution_count": 31,
   "id": "3d633b4c",
   "metadata": {
    "id": "0433171b"
   },
   "outputs": [
    {
     "name": "stdout",
     "output_type": "stream",
     "text": [
      "WARNING:tensorflow:No training configuration found in the save file, so the model was *not* compiled. Compile it manually.\n"
     ]
    }
   ],
   "source": [
    "conv_encoder = ConvEncoder()"
   ]
  },
  {
   "cell_type": "code",
   "execution_count": 32,
   "id": "e2c17f2a",
   "metadata": {
    "id": "68116817"
   },
   "outputs": [
    {
     "name": "stdout",
     "output_type": "stream",
     "text": [
      "WARNING:tensorflow:Layer conv_encoder is casting an input tensor from dtype float64 to the layer's dtype of float32, which is new behavior in TensorFlow 2.  The layer has dtype float32 because its dtype defaults to floatx.\n",
      "\n",
      "If you intended to run this layer in float32, you can safely ignore this warning. If in doubt, this warning is likely only an issue if you are porting a TensorFlow 1.X model to TensorFlow 2.\n",
      "\n",
      "To change all layers to have dtype float64 by default, call `tf.keras.backend.set_floatx('float64')`. To change just this layer, pass dtype='float64' to the layer constructor. If you are the author of this layer, you can disable autocasting by passing autocast=False to the base Layer constructor.\n",
      "\n"
     ]
    }
   ],
   "source": [
    "conv_res = conv_encoder(np.expand_dims(images[0],axis=0))"
   ]
  },
  {
   "cell_type": "code",
   "execution_count": 33,
   "id": "62a49485",
   "metadata": {
    "collapsed": true,
    "jupyter": {
     "outputs_hidden": true
    }
   },
   "outputs": [
    {
     "data": {
      "text/plain": [
       "[<tf.Tensor: shape=(1, 128), dtype=float32, numpy=\n",
       " array([[ 3.892925  ,  1.6916088 ,  0.00570858,  1.0112987 ,  0.4297652 ,\n",
       "          0.96775097, -0.3451106 , -0.996479  , -0.02044451,  1.7852882 ,\n",
       "         -0.03025961,  2.1571085 ,  1.8869938 ,  0.20012403,  1.4193159 ,\n",
       "          0.45365408,  1.2579775 ,  0.7760458 , -0.9947332 ,  0.91881716,\n",
       "          1.3528395 , -0.8621257 ,  0.87626857, -0.8479652 , -0.76765466,\n",
       "          1.284748  ,  0.3093021 ,  0.45954576,  2.473575  ,  1.9502547 ,\n",
       "          1.8988252 , -0.9993044 ,  1.6085855 ,  0.4710661 ,  0.5903698 ,\n",
       "          2.1000845 , -0.60710055,  0.5455965 , -0.26280105,  0.03406882,\n",
       "          0.3795948 ,  0.24454258,  0.23393305, -0.94134235,  1.353725  ,\n",
       "         -0.96302044,  0.54988116,  0.56207925,  1.8568035 ,  3.2081697 ,\n",
       "         -0.8813664 ,  2.3474717 ,  2.749933  ,  0.41212484, -0.99736756,\n",
       "          1.657018  , -0.99869317,  2.4560733 ,  0.7414487 ,  0.7478813 ,\n",
       "         -0.25330955,  2.8545842 , -0.98293906, -0.99697936,  1.5371759 ,\n",
       "          1.5462168 ,  2.423408  ,  1.9356996 ,  0.90442336,  1.0760435 ,\n",
       "          2.1257439 ,  1.1603327 ,  2.0832806 , -0.9992605 , -0.46722782,\n",
       "          1.8083818 ,  1.4021397 ,  0.4515547 , -0.9189818 ,  1.973566  ,\n",
       "          2.9809616 ,  0.7498332 ,  1.2409604 , -0.14431757, -0.9683283 ,\n",
       "          0.40389875, -0.8788036 ,  0.884602  ,  1.868238  ,  1.4901373 ,\n",
       "         -0.9920209 , -0.47059554, -0.03231752,  1.354676  ,  2.8920667 ,\n",
       "          0.9869487 , -0.97936267,  0.7033793 , -0.9987693 , -0.9958878 ,\n",
       "          2.8497047 ,  0.78699374,  0.39235073,  1.9922081 , -0.05586064,\n",
       "          1.3384773 ,  0.18087126,  0.97492564, -0.9986177 ,  1.1345195 ,\n",
       "          1.7632769 , -0.91180336,  0.66004837, -0.9745025 , -0.43301648,\n",
       "          2.2953296 , -0.98695445, -0.9237865 , -0.08922207,  0.88269764,\n",
       "          1.1595366 , -0.45130438,  0.41458517, -0.47271466, -0.9989238 ,\n",
       "          2.0541875 , -0.8273143 ,  0.9168015 ]], dtype=float32)>,\n",
       " <tf.Tensor: shape=(1, 128), dtype=float32, numpy=\n",
       " array([[ 3.892925  ,  1.6916088 ,  0.00570858,  1.0112987 ,  0.4297652 ,\n",
       "          0.96775097, -0.3451106 , -0.996479  , -0.02044451,  1.7852882 ,\n",
       "         -0.03025961,  2.1571085 ,  1.8869938 ,  0.20012403,  1.4193159 ,\n",
       "          0.45365408,  1.2579775 ,  0.7760458 , -0.9947332 ,  0.91881716,\n",
       "          1.3528395 , -0.8621257 ,  0.87626857, -0.8479652 , -0.76765466,\n",
       "          1.284748  ,  0.3093021 ,  0.45954576,  2.473575  ,  1.9502547 ,\n",
       "          1.8988252 , -0.9993044 ,  1.6085855 ,  0.4710661 ,  0.5903698 ,\n",
       "          2.1000845 , -0.60710055,  0.5455965 , -0.26280105,  0.03406882,\n",
       "          0.3795948 ,  0.24454258,  0.23393305, -0.94134235,  1.353725  ,\n",
       "         -0.96302044,  0.54988116,  0.56207925,  1.8568035 ,  3.2081697 ,\n",
       "         -0.8813664 ,  2.3474717 ,  2.749933  ,  0.41212484, -0.99736756,\n",
       "          1.657018  , -0.99869317,  2.4560733 ,  0.7414487 ,  0.7478813 ,\n",
       "         -0.25330955,  2.8545842 , -0.98293906, -0.99697936,  1.5371759 ,\n",
       "          1.5462168 ,  2.423408  ,  1.9356996 ,  0.90442336,  1.0760435 ,\n",
       "          2.1257439 ,  1.1603327 ,  2.0832806 , -0.9992605 , -0.46722782,\n",
       "          1.8083818 ,  1.4021397 ,  0.4515547 , -0.9189818 ,  1.973566  ,\n",
       "          2.9809616 ,  0.7498332 ,  1.2409604 , -0.14431757, -0.9683283 ,\n",
       "          0.40389875, -0.8788036 ,  0.884602  ,  1.868238  ,  1.4901373 ,\n",
       "         -0.9920209 , -0.47059554, -0.03231752,  1.354676  ,  2.8920667 ,\n",
       "          0.9869487 , -0.97936267,  0.7033793 , -0.9987693 , -0.9958878 ,\n",
       "          2.8497047 ,  0.78699374,  0.39235073,  1.9922081 , -0.05586064,\n",
       "          1.3384773 ,  0.18087126,  0.97492564, -0.9986177 ,  1.1345195 ,\n",
       "          1.7632769 , -0.91180336,  0.66004837, -0.9745025 , -0.43301648,\n",
       "          2.2953296 , -0.98695445, -0.9237865 , -0.08922207,  0.88269764,\n",
       "          1.1595366 , -0.45130438,  0.41458517, -0.47271466, -0.9989238 ,\n",
       "          2.0541875 , -0.8273143 ,  0.9168015 ]], dtype=float32)>]"
      ]
     },
     "execution_count": 33,
     "metadata": {},
     "output_type": "execute_result"
    }
   ],
   "source": [
    "conv_res"
   ]
  },
  {
   "cell_type": "markdown",
   "id": "fddc3cc9",
   "metadata": {
    "id": "999c2bc0"
   },
   "source": [
    "### LSTM model"
   ]
  },
  {
   "cell_type": "markdown",
   "id": "050a3180",
   "metadata": {
    "id": "26590f4e"
   },
   "source": [
    "### making w2v embeddings"
   ]
  },
  {
   "cell_type": "code",
   "execution_count": 34,
   "id": "cd3f5657",
   "metadata": {
    "id": "a5f650c0",
    "outputId": "7120055b-7c8b-4c55-d4a7-0d4cc8dfce18"
   },
   "outputs": [
    {
     "name": "stdout",
     "output_type": "stream",
     "text": [
      "Collecting gensim\n",
      "  Downloading gensim-4.0.1-cp36-cp36m-manylinux1_x86_64.whl (23.9 MB)\n",
      "\u001b[K     |████████████████████████████████| 23.9 MB 17.4 MB/s eta 0:00:01\n",
      "\u001b[?25hRequirement already satisfied: scipy>=0.18.1 in /home/ec2-user/anaconda3/envs/amazonei_tensorflow2_p36/lib/python3.6/site-packages (from gensim) (1.5.3)\n",
      "Collecting smart-open>=1.8.1\n",
      "  Downloading smart_open-5.1.0-py3-none-any.whl (57 kB)\n",
      "\u001b[K     |████████████████████████████████| 57 kB 9.1 MB/s  eta 0:00:01\n",
      "\u001b[?25hRequirement already satisfied: dataclasses in /home/ec2-user/anaconda3/envs/amazonei_tensorflow2_p36/lib/python3.6/site-packages (from gensim) (0.8)\n",
      "Requirement already satisfied: numpy>=1.11.3 in /home/ec2-user/anaconda3/envs/amazonei_tensorflow2_p36/lib/python3.6/site-packages (from gensim) (1.18.5)\n",
      "Installing collected packages: smart-open, gensim\n",
      "Successfully installed gensim-4.0.1 smart-open-5.1.0\n",
      "\u001b[33mWARNING: You are using pip version 21.1.2; however, version 21.1.3 is available.\n",
      "You should consider upgrading via the '/home/ec2-user/anaconda3/envs/amazonei_tensorflow2_p36/bin/python -m pip install --upgrade pip' command.\u001b[0m\n"
     ]
    }
   ],
   "source": [
    "!pip install gensim"
   ]
  },
  {
   "cell_type": "code",
   "execution_count": 35,
   "id": "5dbac086",
   "metadata": {
    "id": "715baa20",
    "outputId": "0a279aff-b57f-4416-b0cc-df0b524258cf"
   },
   "outputs": [
    {
     "name": "stderr",
     "output_type": "stream",
     "text": [
      "/home/ec2-user/anaconda3/envs/amazonei_tensorflow2_p36/lib/python3.6/site-packages/gensim/similarities/__init__.py:15: UserWarning: The gensim.similarities.levenshtein submodule is disabled, because the optional Levenshtein package <https://pypi.org/project/python-Levenshtein/> is unavailable. Install Levenhstein (e.g. `pip install python-Levenshtein`) to suppress this warning.\n",
      "  warnings.warn(msg)\n"
     ]
    }
   ],
   "source": [
    "import gensim.downloader as api"
   ]
  },
  {
   "cell_type": "code",
   "execution_count": null,
   "id": "44aae735",
   "metadata": {
    "id": "623ef226"
   },
   "outputs": [
    {
     "name": "stdout",
     "output_type": "stream",
     "text": [
      "[=======-------------------------------------------] 14.2% 236.2/1662.8MB downloaded"
     ]
    }
   ],
   "source": [
    "w2v_embeddings = api.load('word2vec-google-news-300')"
   ]
  },
  {
   "cell_type": "code",
   "execution_count": null,
   "id": "ec25fcef",
   "metadata": {
    "id": "f6b2f48a"
   },
   "outputs": [],
   "source": [
    "def build_embeddings(vocab, word_vectors, embed_dim):\n",
    "    emb_matrix = np.zeros(shape=(len(vocab)+ 1 , embed_dim), dtype='float32')\n",
    "    count = 0\n",
    "    for word, i in vocab.items():\n",
    "        try:\n",
    "            emb_matrix[i, :] = word_vectors.get_vector(word)\n",
    "        except:\n",
    "            count += 1\n",
    "            emb_matrix[i, :] = np.random.uniform(-0.1, 0.1, embed_dim)\n",
    "    print('{} words are out of vocabulary：'.format(count))\n",
    "    return emb_matrix\n"
   ]
  },
  {
   "cell_type": "code",
   "execution_count": null,
   "id": "99ff91de",
   "metadata": {
    "id": "e893c531",
    "outputId": "8986b2db-0a92-4b04-ab3a-e08a716c4626"
   },
   "outputs": [],
   "source": [
    "w2v_embeddings = build_embeddings(vocab, w2v_embeddings, 300)"
   ]
  },
  {
   "cell_type": "markdown",
   "id": "0486ed10",
   "metadata": {
    "id": "0b62cbad"
   },
   "source": [
    "### building model"
   ]
  },
  {
   "cell_type": "code",
   "execution_count": null,
   "id": "d9cba75d",
   "metadata": {
    "id": "02766a3f"
   },
   "outputs": [],
   "source": [
    "class LSTMDecoder(tf.keras.Model):\n",
    "    def __init__(self, max_tokens, lstm_units, embeddings=None, dim=128):\n",
    "        super(LSTMDecoder, self).__init__()\n",
    "        self.embeddings = tf.keras.layers.Embedding(input_dim=max_tokens+1, output_dim=dim, name='embeddings',\n",
    "                                                   weights=[embeddings])\n",
    "        self.dropout = tf.keras.layers.SpatialDropout1D(0.2)\n",
    "        self.layer_norm = tf.keras.layers.LayerNormalization(epsilon=1e-6, name='layer_normalization')\n",
    "        self.lstm = tf.keras.layers.LSTM(units=lstm_units, return_state=True, name='lstm_decoder', recurrent_dropout=0.3)\n",
    "        self.output_dense = tf.keras.layers.Dense(units=max_tokens)\n",
    "        \n",
    "    def call(self, input, features):\n",
    "        embedded = self.dropout(self.embeddings(input))\n",
    "        result_lstm, state_h, state_c = self.lstm(embedded, initial_state=features)\n",
    "        normalized = self.layer_norm(result_lstm)\n",
    "        logits = self.output_dense(normalized)\n",
    "        return logits, [state_h, state_c]"
   ]
  },
  {
   "cell_type": "code",
   "execution_count": null,
   "id": "16e69fc5",
   "metadata": {
    "id": "4dfe8136",
    "outputId": "c0ca843d-4ad1-4150-a61c-851506423007"
   },
   "outputs": [],
   "source": [
    "lstm_decoder = LSTMDecoder(len(inverse_vocab), conv_res[0].shape[1], w2v_embeddings, dim=300)"
   ]
  },
  {
   "cell_type": "markdown",
   "id": "dea96117",
   "metadata": {
    "id": "25dff32e"
   },
   "source": [
    "### Training"
   ]
  },
  {
   "cell_type": "code",
   "execution_count": null,
   "id": "1766bb44",
   "metadata": {
    "id": "9559d09b"
   },
   "outputs": [],
   "source": [
    "from sklearn.model_selection import train_test_split"
   ]
  },
  {
   "cell_type": "code",
   "execution_count": null,
   "id": "afeec19d",
   "metadata": {
    "id": "3e38fa7d"
   },
   "outputs": [],
   "source": [
    "loss_object = tf.keras.losses.SparseCategoricalCrossentropy(reduction='none',\n",
    "                                                                         from_logits=True)\n",
    "lr_value = 1e-4\n",
    "reduction_power = 10\n",
    "optimizer = tf.keras.optimizers.RMSprop(learning_rate=lr_value)\n",
    "with_weights = False"
   ]
  },
  {
   "cell_type": "code",
   "execution_count": null,
   "id": "c6cbe261",
   "metadata": {
    "id": "12a0f4ce"
   },
   "outputs": [],
   "source": [
    "epochs = 30\n",
    "batch_size = 64\n",
    "patience_epochs = 2"
   ]
  },
  {
   "cell_type": "code",
   "execution_count": 42,
   "id": "f278bc74",
   "metadata": {
    "id": "9cb2ce3a"
   },
   "outputs": [],
   "source": [
    "def loss_function(real, pred, loss_weights):\n",
    "        mask = tf.math.logical_not(tf.math.equal(real, vocab[pad_token]))\n",
    "        loss_ = loss_object(real, pred)\n",
    "        mask = tf.cast(mask, dtype=loss_.dtype)\n",
    "        loss_ *= mask\n",
    "        loss_weights = tf.cast(loss_weights, dtype=loss_.dtype)\n",
    "        loss_*=loss_weights\n",
    "        return loss_"
   ]
  },
  {
   "cell_type": "code",
   "execution_count": 43,
   "id": "c1b8f798",
   "metadata": {
    "id": "f1b5202f"
   },
   "outputs": [],
   "source": [
    "@tf.function\n",
    "def train_step(image, target, lengths, optimizer):\n",
    "\n",
    "    with tf.GradientTape() as tape:\n",
    "        initial_state = conv_encoder(image)\n",
    "        # Teacher forcing - feeding the target as the next input\n",
    "        batched_loss = []\n",
    "        for t in range(1, target.shape[1]):\n",
    "            \n",
    "            dec_input = tf.expand_dims(target[:, t-1], 1)\n",
    "            result, initial_state = lstm_decoder(input=dec_input, features=initial_state)\n",
    "            weights = tf.broadcast_to(class_weights, shape=(target[:,t].shape[0], class_weights.shape[0]))\n",
    "            weights = tf.gather(weights, target[:,t],axis=1, batch_dims=1)\n",
    "            batched_loss.append(loss_function(target[:, t], result, weights))\n",
    "        batched_loss = tf.reshape(tf.stack(batched_loss), shape=target[:,1:].shape)\n",
    "        batched_loss = tf.reduce_sum(batched_loss, axis=1)\n",
    "        lengths = tf.cast(lengths, dtype=batched_loss.dtype)\n",
    "        loss = tf.reduce_mean(batched_loss / lengths)\n",
    "\n",
    "    perplexity = tf.exp(loss)\n",
    "\n",
    "    variables = conv_encoder.trainable_variables + lstm_decoder.trainable_variables\n",
    "    gradients = tape.gradient(loss, variables)\n",
    "\n",
    "    optimizer.apply_gradients(zip(gradients, variables))\n",
    "\n",
    "    return loss, perplexity"
   ]
  },
  {
   "cell_type": "code",
   "execution_count": 44,
   "id": "120a1c61",
   "metadata": {
    "id": "aa6a4ec9"
   },
   "outputs": [],
   "source": [
    "@tf.function\n",
    "def evaluate(image, target, lengths, optimizer):\n",
    "\n",
    "    initial_state = conv_encoder(image)\n",
    "    # Teacher forcing - feeding the target as the next input\n",
    "    batched_loss = []\n",
    "    for t in range(1, target.shape[1]):\n",
    "\n",
    "        dec_input = tf.expand_dims(target[:, t-1], 1)\n",
    "        result, initial_state = lstm_decoder(input=dec_input, features=initial_state)\n",
    "        weights = tf.broadcast_to(class_weights, shape=(target[:,t].shape[0], class_weights.shape[0]))\n",
    "        weights = tf.gather(weights, target[:,t],axis=1, batch_dims=1)\n",
    "        batched_loss.append(loss_function(target[:, t], result, weights))\n",
    "    \n",
    "    batched_loss = tf.reshape(tf.stack(batched_loss), shape=target[:,1:].shape)\n",
    "    batched_loss = tf.reduce_sum(batched_loss, axis=1)\n",
    "    lengths = tf.cast(lengths, dtype=batched_loss.dtype)\n",
    "    loss = tf.reduce_mean(batched_loss / lengths)\n",
    "    perplexity = tf.exp(loss)\n",
    "\n",
    "\n",
    "    return loss, perplexity"
   ]
  },
  {
   "cell_type": "code",
   "execution_count": 45,
   "id": "a1a4c514",
   "metadata": {
    "id": "b9b86eed"
   },
   "outputs": [],
   "source": [
    "train_images, val_images, train_sequences, val_sequences =  train_test_split(images, indexed, test_size=0.2, random_state=10)\n",
    "val_images, test_images, val_sequences, test_sequences =  train_test_split(val_images, val_sequences, test_size=0.5, random_state=10)"
   ]
  },
  {
   "cell_type": "code",
   "execution_count": 46,
   "id": "d8cb23dd",
   "metadata": {
    "id": "acba46dc"
   },
   "outputs": [],
   "source": [
    "train_length = (np.array(train_sequences)!=vocab[pad_token]).sum(axis=1)-2"
   ]
  },
  {
   "cell_type": "code",
   "execution_count": 47,
   "id": "12b55952",
   "metadata": {},
   "outputs": [],
   "source": [
    "val_length = (np.array(val_sequences)!=vocab[pad_token]).sum(axis=1)-2"
   ]
  },
  {
   "cell_type": "code",
   "execution_count": 48,
   "id": "428058c3",
   "metadata": {
    "id": "114f3f4d"
   },
   "outputs": [],
   "source": [
    "test_length = (np.array(test_sequences)!=vocab[pad_token]).sum(axis=1)-2"
   ]
  },
  {
   "cell_type": "code",
   "execution_count": 49,
   "id": "033f182c",
   "metadata": {
    "id": "0e27f657"
   },
   "outputs": [],
   "source": [
    "train_images = np.array(np.array_split(train_images, len(train_images)//batch_size))\n",
    "test_images = np.array(np.array_split(test_images, len(test_images)//batch_size))\n",
    "val_images = np.array(np.array_split(val_images, len(val_images)//batch_size))\n",
    "\n",
    "train_sequences = np.array(np.array_split(train_sequences, len(train_sequences)//batch_size))\n",
    "test_sequences = np.array(np.array_split(test_sequences, len(test_sequences)//batch_size))\n",
    "val_sequences = np.array(np.array_split(val_sequences, len(val_sequences)//batch_size))\n",
    "\n",
    "train_length = np.array(np.array_split(train_length, len(train_length)//batch_size))\n",
    "test_length = np.array(np.array_split(test_length, len(test_length)//batch_size))\n",
    "val_length = np.array(np.array_split(val_length, len(val_length)//batch_size))\n"
   ]
  },
  {
   "cell_type": "code",
   "execution_count": 50,
   "id": "0651b77b",
   "metadata": {
    "id": "552ed89c",
    "outputId": "54b68180-8df5-4e71-c80a-9009ed49b74a"
   },
   "outputs": [
    {
     "data": {
      "text/plain": [
       "((24, 128, 224, 224, 3), (24, 128, 12), (24, 128))"
      ]
     },
     "execution_count": 50,
     "metadata": {},
     "output_type": "execute_result"
    }
   ],
   "source": [
    "train_images.shape, train_sequences.shape, train_length.shape"
   ]
  },
  {
   "cell_type": "code",
   "execution_count": 51,
   "id": "8133509a",
   "metadata": {
    "id": "25f6490c",
    "outputId": "79c4fa3b-5786-44c1-faa3-075c5d0d804b"
   },
   "outputs": [
    {
     "name": "stdout",
     "output_type": "stream",
     "text": [
      "Requirement already satisfied: tqdm in /home/ec2-user/anaconda3/envs/amazonei_tensorflow2_p36/lib/python3.6/site-packages (4.61.1)\n",
      "\u001b[33mWARNING: You are using pip version 21.1.2; however, version 21.1.3 is available.\n",
      "You should consider upgrading via the '/home/ec2-user/anaconda3/envs/amazonei_tensorflow2_p36/bin/python -m pip install --upgrade pip' command.\u001b[0m\n"
     ]
    }
   ],
   "source": [
    "!pip install tqdm"
   ]
  },
  {
   "cell_type": "code",
   "execution_count": 52,
   "id": "cd212606",
   "metadata": {
    "id": "c233a386"
   },
   "outputs": [],
   "source": [
    "if not with_weights:\n",
    "    class_weights = np.array([1 for i in range(len(class_weights))])"
   ]
  },
  {
   "cell_type": "code",
   "execution_count": 53,
   "id": "40b027a0",
   "metadata": {
    "id": "4c609b61"
   },
   "outputs": [],
   "source": [
    "from tqdm import tqdm"
   ]
  },
  {
   "cell_type": "code",
   "execution_count": 54,
   "id": "628a614c",
   "metadata": {
    "id": "1144f320",
    "outputId": "6b3fe07f-3098-43f9-bf97-30657ac3723b"
   },
   "outputs": [
    {
     "name": "stderr",
     "output_type": "stream",
     "text": [
      "24it [01:24,  3.54s/it]\n"
     ]
    },
    {
     "name": "stdout",
     "output_type": "stream",
     "text": [
      "Finished epoch 0; Train loss : 6.4712700843811035; Train perplexity : 1230.5411376953125\n"
     ]
    },
    {
     "name": "stderr",
     "output_type": "stream",
     "text": [
      "0it [00:00, ?it/s]"
     ]
    },
    {
     "name": "stdout",
     "output_type": "stream",
     "text": [
      "Validation loss : 5.634289264678955; Validation perplexity : 279.9302062988281\n"
     ]
    },
    {
     "name": "stderr",
     "output_type": "stream",
     "text": [
      "24it [00:57,  2.40s/it]\n"
     ]
    },
    {
     "name": "stdout",
     "output_type": "stream",
     "text": [
      "Finished epoch 1; Train loss : 5.385011196136475; Train perplexity : 221.0137481689453\n"
     ]
    },
    {
     "name": "stderr",
     "output_type": "stream",
     "text": [
      "0it [00:00, ?it/s]"
     ]
    },
    {
     "name": "stdout",
     "output_type": "stream",
     "text": [
      "Validation loss : 5.231902599334717; Validation perplexity : 187.3235321044922\n"
     ]
    },
    {
     "name": "stderr",
     "output_type": "stream",
     "text": [
      "24it [00:57,  2.40s/it]\n"
     ]
    },
    {
     "name": "stdout",
     "output_type": "stream",
     "text": [
      "Finished epoch 2; Train loss : 5.1012492179870605; Train perplexity : 165.53048706054688\n"
     ]
    },
    {
     "name": "stderr",
     "output_type": "stream",
     "text": [
      "0it [00:00, ?it/s]"
     ]
    },
    {
     "name": "stdout",
     "output_type": "stream",
     "text": [
      "Validation loss : 5.006351947784424; Validation perplexity : 149.55496215820312\n"
     ]
    },
    {
     "name": "stderr",
     "output_type": "stream",
     "text": [
      "24it [00:57,  2.39s/it]\n"
     ]
    },
    {
     "name": "stdout",
     "output_type": "stream",
     "text": [
      "Finished epoch 3; Train loss : 4.874889373779297; Train perplexity : 132.1216583251953\n"
     ]
    },
    {
     "name": "stderr",
     "output_type": "stream",
     "text": [
      "0it [00:00, ?it/s]"
     ]
    },
    {
     "name": "stdout",
     "output_type": "stream",
     "text": [
      "Validation loss : 4.7857232093811035; Validation perplexity : 120.24201202392578\n"
     ]
    },
    {
     "name": "stderr",
     "output_type": "stream",
     "text": [
      "24it [00:57,  2.40s/it]\n"
     ]
    },
    {
     "name": "stdout",
     "output_type": "stream",
     "text": [
      "Finished epoch 4; Train loss : 4.60084867477417; Train perplexity : 100.65353393554688\n"
     ]
    },
    {
     "name": "stderr",
     "output_type": "stream",
     "text": [
      "0it [00:00, ?it/s]"
     ]
    },
    {
     "name": "stdout",
     "output_type": "stream",
     "text": [
      "Validation loss : 4.5565104484558105; Validation perplexity : 95.89466094970703\n"
     ]
    },
    {
     "name": "stderr",
     "output_type": "stream",
     "text": [
      "24it [00:57,  2.41s/it]\n"
     ]
    },
    {
     "name": "stdout",
     "output_type": "stream",
     "text": [
      "Finished epoch 5; Train loss : 4.297177791595459; Train perplexity : 74.34029388427734\n"
     ]
    },
    {
     "name": "stderr",
     "output_type": "stream",
     "text": [
      "0it [00:00, ?it/s]"
     ]
    },
    {
     "name": "stdout",
     "output_type": "stream",
     "text": [
      "Validation loss : 4.286541938781738; Validation perplexity : 73.50743103027344\n"
     ]
    },
    {
     "name": "stderr",
     "output_type": "stream",
     "text": [
      "24it [00:57,  2.40s/it]\n"
     ]
    },
    {
     "name": "stdout",
     "output_type": "stream",
     "text": [
      "Finished epoch 6; Train loss : 4.044796466827393; Train perplexity : 57.67629623413086\n"
     ]
    },
    {
     "name": "stderr",
     "output_type": "stream",
     "text": [
      "0it [00:00, ?it/s]"
     ]
    },
    {
     "name": "stdout",
     "output_type": "stream",
     "text": [
      "Validation loss : 4.1453680992126465; Validation perplexity : 63.90157699584961\n"
     ]
    },
    {
     "name": "stderr",
     "output_type": "stream",
     "text": [
      "24it [00:57,  2.39s/it]\n"
     ]
    },
    {
     "name": "stdout",
     "output_type": "stream",
     "text": [
      "Finished epoch 7; Train loss : 3.8343656063079834; Train perplexity : 46.66157531738281\n"
     ]
    },
    {
     "name": "stderr",
     "output_type": "stream",
     "text": [
      "0it [00:00, ?it/s]"
     ]
    },
    {
     "name": "stdout",
     "output_type": "stream",
     "text": [
      "Validation loss : 3.9971530437469482; Validation perplexity : 55.18397521972656\n"
     ]
    },
    {
     "name": "stderr",
     "output_type": "stream",
     "text": [
      "24it [00:57,  2.40s/it]\n"
     ]
    },
    {
     "name": "stdout",
     "output_type": "stream",
     "text": [
      "Finished epoch 8; Train loss : 3.6565961837768555; Train perplexity : 39.06312942504883\n"
     ]
    },
    {
     "name": "stderr",
     "output_type": "stream",
     "text": [
      "0it [00:00, ?it/s]"
     ]
    },
    {
     "name": "stdout",
     "output_type": "stream",
     "text": [
      "Validation loss : 3.8667728900909424; Validation perplexity : 48.5029182434082\n"
     ]
    },
    {
     "name": "stderr",
     "output_type": "stream",
     "text": [
      "24it [00:58,  2.42s/it]\n"
     ]
    },
    {
     "name": "stdout",
     "output_type": "stream",
     "text": [
      "Finished epoch 9; Train loss : 3.5046684741973877; Train perplexity : 33.52306365966797\n"
     ]
    },
    {
     "name": "stderr",
     "output_type": "stream",
     "text": [
      "0it [00:00, ?it/s]"
     ]
    },
    {
     "name": "stdout",
     "output_type": "stream",
     "text": [
      "Validation loss : 3.8053512573242188; Validation perplexity : 45.6049690246582\n"
     ]
    },
    {
     "name": "stderr",
     "output_type": "stream",
     "text": [
      "24it [00:57,  2.39s/it]\n"
     ]
    },
    {
     "name": "stdout",
     "output_type": "stream",
     "text": [
      "Finished epoch 10; Train loss : 3.3494598865509033; Train perplexity : 28.717384338378906\n"
     ]
    },
    {
     "name": "stderr",
     "output_type": "stream",
     "text": [
      "0it [00:00, ?it/s]"
     ]
    },
    {
     "name": "stdout",
     "output_type": "stream",
     "text": [
      "Validation loss : 3.7313449382781982; Validation perplexity : 42.3392448425293\n"
     ]
    },
    {
     "name": "stderr",
     "output_type": "stream",
     "text": [
      "24it [00:57,  2.42s/it]\n"
     ]
    },
    {
     "name": "stdout",
     "output_type": "stream",
     "text": [
      "Finished epoch 11; Train loss : 3.2208826541900635; Train perplexity : 25.236291885375977\n"
     ]
    },
    {
     "name": "stderr",
     "output_type": "stream",
     "text": [
      "0it [00:00, ?it/s]"
     ]
    },
    {
     "name": "stdout",
     "output_type": "stream",
     "text": [
      "Validation loss : 3.692493438720703; Validation perplexity : 40.829742431640625\n"
     ]
    },
    {
     "name": "stderr",
     "output_type": "stream",
     "text": [
      "24it [00:57,  2.41s/it]\n"
     ]
    },
    {
     "name": "stdout",
     "output_type": "stream",
     "text": [
      "Finished epoch 12; Train loss : 3.0852596759796143; Train perplexity : 22.03723907470703\n"
     ]
    },
    {
     "name": "stderr",
     "output_type": "stream",
     "text": [
      "0it [00:00, ?it/s]"
     ]
    },
    {
     "name": "stdout",
     "output_type": "stream",
     "text": [
      "Validation loss : 3.649590492248535; Validation perplexity : 39.00863265991211\n"
     ]
    },
    {
     "name": "stderr",
     "output_type": "stream",
     "text": [
      "24it [00:58,  2.42s/it]\n"
     ]
    },
    {
     "name": "stdout",
     "output_type": "stream",
     "text": [
      "Finished epoch 13; Train loss : 2.959502935409546; Train perplexity : 19.421720504760742\n"
     ]
    },
    {
     "name": "stderr",
     "output_type": "stream",
     "text": [
      "0it [00:00, ?it/s]"
     ]
    },
    {
     "name": "stdout",
     "output_type": "stream",
     "text": [
      "Validation loss : 3.635546922683716; Validation perplexity : 38.49481201171875\n"
     ]
    },
    {
     "name": "stderr",
     "output_type": "stream",
     "text": [
      "24it [00:57,  2.41s/it]\n"
     ]
    },
    {
     "name": "stdout",
     "output_type": "stream",
     "text": [
      "Finished epoch 14; Train loss : 2.8218421936035156; Train perplexity : 16.937088012695312\n"
     ]
    },
    {
     "name": "stderr",
     "output_type": "stream",
     "text": [
      "0it [00:00, ?it/s]"
     ]
    },
    {
     "name": "stdout",
     "output_type": "stream",
     "text": [
      "Validation loss : 3.57352352142334; Validation perplexity : 36.24365234375\n"
     ]
    },
    {
     "name": "stderr",
     "output_type": "stream",
     "text": [
      "24it [00:57,  2.39s/it]\n"
     ]
    },
    {
     "name": "stdout",
     "output_type": "stream",
     "text": [
      "Finished epoch 15; Train loss : 2.7065675258636475; Train perplexity : 15.076445579528809\n"
     ]
    },
    {
     "name": "stderr",
     "output_type": "stream",
     "text": [
      "0it [00:00, ?it/s]"
     ]
    },
    {
     "name": "stdout",
     "output_type": "stream",
     "text": [
      "Validation loss : 3.5865976810455322; Validation perplexity : 36.645938873291016\n"
     ]
    },
    {
     "name": "stderr",
     "output_type": "stream",
     "text": [
      "24it [00:57,  2.40s/it]\n"
     ]
    },
    {
     "name": "stdout",
     "output_type": "stream",
     "text": [
      "Finished epoch 16; Train loss : 2.569758176803589; Train perplexity : 13.153786659240723\n"
     ]
    },
    {
     "name": "stderr",
     "output_type": "stream",
     "text": [
      "0it [00:00, ?it/s]"
     ]
    },
    {
     "name": "stdout",
     "output_type": "stream",
     "text": [
      "Validation loss : 3.5780467987060547; Validation perplexity : 36.48252487182617\n"
     ]
    },
    {
     "name": "stderr",
     "output_type": "stream",
     "text": [
      "24it [00:57,  2.41s/it]\n"
     ]
    },
    {
     "name": "stdout",
     "output_type": "stream",
     "text": [
      "Finished epoch 17; Train loss : 2.441436529159546; Train perplexity : 11.56926441192627\n"
     ]
    },
    {
     "name": "stderr",
     "output_type": "stream",
     "text": [
      "0it [00:00, ?it/s]"
     ]
    },
    {
     "name": "stdout",
     "output_type": "stream",
     "text": [
      "Validation loss : 3.578563690185547; Validation perplexity : 36.402469635009766\n"
     ]
    },
    {
     "name": "stderr",
     "output_type": "stream",
     "text": [
      "24it [00:57,  2.41s/it]\n"
     ]
    },
    {
     "name": "stdout",
     "output_type": "stream",
     "text": [
      "Finished epoch 18; Train loss : 2.3356189727783203; Train perplexity : 10.393445014953613\n"
     ]
    },
    {
     "name": "stderr",
     "output_type": "stream",
     "text": [
      "0it [00:00, ?it/s]"
     ]
    },
    {
     "name": "stdout",
     "output_type": "stream",
     "text": [
      "Validation loss : 3.532646894454956; Validation perplexity : 34.760684967041016\n"
     ]
    },
    {
     "name": "stderr",
     "output_type": "stream",
     "text": [
      "24it [00:57,  2.42s/it]\n"
     ]
    },
    {
     "name": "stdout",
     "output_type": "stream",
     "text": [
      "Finished epoch 19; Train loss : 2.2084267139434814; Train perplexity : 9.156901359558105\n"
     ]
    },
    {
     "name": "stderr",
     "output_type": "stream",
     "text": [
      "0it [00:00, ?it/s]"
     ]
    },
    {
     "name": "stdout",
     "output_type": "stream",
     "text": [
      "Validation loss : 3.5316412448883057; Validation perplexity : 34.76924133300781\n"
     ]
    },
    {
     "name": "stderr",
     "output_type": "stream",
     "text": [
      "24it [00:58,  2.44s/it]\n"
     ]
    },
    {
     "name": "stdout",
     "output_type": "stream",
     "text": [
      "Finished epoch 20; Train loss : 2.065084934234619; Train perplexity : 7.922544956207275\n"
     ]
    },
    {
     "name": "stderr",
     "output_type": "stream",
     "text": [
      "0it [00:00, ?it/s]"
     ]
    },
    {
     "name": "stdout",
     "output_type": "stream",
     "text": [
      "Validation loss : 3.6331470012664795; Validation perplexity : 38.57615280151367\n"
     ]
    },
    {
     "name": "stderr",
     "output_type": "stream",
     "text": [
      "24it [00:57,  2.39s/it]\n"
     ]
    },
    {
     "name": "stdout",
     "output_type": "stream",
     "text": [
      "Finished epoch 21; Train loss : 1.9593915939331055; Train perplexity : 7.135913372039795\n"
     ]
    },
    {
     "name": "stderr",
     "output_type": "stream",
     "text": [
      "0it [00:00, ?it/s]"
     ]
    },
    {
     "name": "stdout",
     "output_type": "stream",
     "text": [
      "Validation loss : 3.657855749130249; Validation perplexity : 39.29267883300781\n",
      "There was no improvement in validation loss for 2 epochs, thus reducing learning rate\n"
     ]
    },
    {
     "name": "stderr",
     "output_type": "stream",
     "text": [
      "24it [00:57,  2.38s/it]\n"
     ]
    },
    {
     "name": "stdout",
     "output_type": "stream",
     "text": [
      "Finished epoch 22; Train loss : 1.8005709648132324; Train perplexity : 6.110279083251953\n"
     ]
    },
    {
     "name": "stderr",
     "output_type": "stream",
     "text": [
      "0it [00:00, ?it/s]"
     ]
    },
    {
     "name": "stdout",
     "output_type": "stream",
     "text": [
      "Validation loss : 3.481348752975464; Validation perplexity : 33.059104919433594\n"
     ]
    },
    {
     "name": "stderr",
     "output_type": "stream",
     "text": [
      "24it [00:57,  2.41s/it]\n"
     ]
    },
    {
     "name": "stdout",
     "output_type": "stream",
     "text": [
      "Finished epoch 23; Train loss : 1.6961997747421265; Train perplexity : 5.477230548858643\n"
     ]
    },
    {
     "name": "stderr",
     "output_type": "stream",
     "text": [
      "0it [00:00, ?it/s]"
     ]
    },
    {
     "name": "stdout",
     "output_type": "stream",
     "text": [
      "Validation loss : 3.4900076389312744; Validation perplexity : 33.338905334472656\n"
     ]
    },
    {
     "name": "stderr",
     "output_type": "stream",
     "text": [
      "24it [00:57,  2.42s/it]\n"
     ]
    },
    {
     "name": "stdout",
     "output_type": "stream",
     "text": [
      "Finished epoch 24; Train loss : 1.6555243730545044; Train perplexity : 5.257919788360596\n"
     ]
    },
    {
     "name": "stderr",
     "output_type": "stream",
     "text": [
      "0it [00:00, ?it/s]"
     ]
    },
    {
     "name": "stdout",
     "output_type": "stream",
     "text": [
      "Validation loss : 3.4967496395111084; Validation perplexity : 33.555816650390625\n",
      "There was no improvement in validation loss for 2 epochs, thus reducing learning rate\n"
     ]
    },
    {
     "name": "stderr",
     "output_type": "stream",
     "text": [
      "24it [00:58,  2.42s/it]\n"
     ]
    },
    {
     "name": "stdout",
     "output_type": "stream",
     "text": [
      "Finished epoch 25; Train loss : 1.6358122825622559; Train perplexity : 5.156921863555908\n"
     ]
    },
    {
     "name": "stderr",
     "output_type": "stream",
     "text": [
      "0it [00:00, ?it/s]"
     ]
    },
    {
     "name": "stdout",
     "output_type": "stream",
     "text": [
      "Validation loss : 3.493562936782837; Validation perplexity : 33.44453048706055\n"
     ]
    },
    {
     "name": "stderr",
     "output_type": "stream",
     "text": [
      "24it [00:57,  2.40s/it]\n"
     ]
    },
    {
     "name": "stdout",
     "output_type": "stream",
     "text": [
      "Finished epoch 26; Train loss : 1.6239022016525269; Train perplexity : 5.093959331512451\n"
     ]
    },
    {
     "name": "stderr",
     "output_type": "stream",
     "text": [
      "0it [00:00, ?it/s]"
     ]
    },
    {
     "name": "stdout",
     "output_type": "stream",
     "text": [
      "Validation loss : 3.4929943084716797; Validation perplexity : 33.41969680786133\n"
     ]
    },
    {
     "name": "stderr",
     "output_type": "stream",
     "text": [
      "24it [00:58,  2.43s/it]\n"
     ]
    },
    {
     "name": "stdout",
     "output_type": "stream",
     "text": [
      "Finished epoch 27; Train loss : 1.6171478033065796; Train perplexity : 5.0588178634643555\n"
     ]
    },
    {
     "name": "stderr",
     "output_type": "stream",
     "text": [
      "0it [00:00, ?it/s]"
     ]
    },
    {
     "name": "stdout",
     "output_type": "stream",
     "text": [
      "Validation loss : 3.493191957473755; Validation perplexity : 33.422245025634766\n"
     ]
    },
    {
     "name": "stderr",
     "output_type": "stream",
     "text": [
      "24it [00:57,  2.41s/it]\n"
     ]
    },
    {
     "name": "stdout",
     "output_type": "stream",
     "text": [
      "Finished epoch 28; Train loss : 1.6121066808700562; Train perplexity : 5.032924175262451\n"
     ]
    },
    {
     "name": "stderr",
     "output_type": "stream",
     "text": [
      "0it [00:00, ?it/s]"
     ]
    },
    {
     "name": "stdout",
     "output_type": "stream",
     "text": [
      "Validation loss : 3.493696928024292; Validation perplexity : 33.43673324584961\n",
      "There was no improvement in validation loss for 2 epochs, thus reducing learning rate\n"
     ]
    },
    {
     "name": "stderr",
     "output_type": "stream",
     "text": [
      "24it [00:58,  2.42s/it]\n"
     ]
    },
    {
     "name": "stdout",
     "output_type": "stream",
     "text": [
      "Finished epoch 29; Train loss : 1.6068841218948364; Train perplexity : 5.006883144378662\n",
      "Validation loss : 3.493744134902954; Validation perplexity : 33.43805694580078\n"
     ]
    }
   ],
   "source": [
    "train_loss = []\n",
    "train_perplexity = []\n",
    "val_loss = []\n",
    "val_perplexity = []\n",
    "overfit_epochs = 0\n",
    "for epoch in range(epochs):\n",
    "    epoch_train_loss = 0\n",
    "    epoch_train_perplexity = 0\n",
    "    epoch_val_loss = 0\n",
    "    epoch_val_perplexity = 0\n",
    "    for batch_train_images, batch_train_sequences, batched_train_length in tqdm(zip(train_images,train_sequences,train_length)):\n",
    "        batched_train_loss, batched_train_perplexity = train_step(batch_train_images,batch_train_sequences,batched_train_length, optimizer)\n",
    "        epoch_train_loss+=batched_train_loss\n",
    "        epoch_train_perplexity+=batched_train_perplexity\n",
    "    epoch_train_loss = epoch_train_loss/train_images.shape[0]\n",
    "    epoch_train_perplexity = epoch_train_perplexity/train_images.shape[0]\n",
    "    train_loss.append(epoch_train_loss)\n",
    "    train_perplexity.append(epoch_train_perplexity)\n",
    "    print('Finished epoch {}; Train loss : {}; Train perplexity : {}'.format(epoch,epoch_train_loss,epoch_train_perplexity))\n",
    "    for batch_val_images, batch_val_sequences, batched_val_length in zip(val_images,val_sequences,val_length):\n",
    "        batched_val_loss, batched_val_perplexity = evaluate(batch_val_images, batch_val_sequences, batched_val_length, optimizer)\n",
    "        epoch_val_loss+=batched_val_loss\n",
    "        epoch_val_perplexity+=batched_val_perplexity\n",
    "    epoch_val_loss = epoch_val_loss/val_images.shape[0]\n",
    "    epoch_val_perplexity = epoch_val_perplexity/val_images.shape[0]\n",
    "    val_perplexity.append(epoch_val_perplexity)\n",
    "    val_loss.append(epoch_val_loss)\n",
    "    print('Validation loss : {}; Validation perplexity : {}'.format(epoch_val_loss,epoch_val_perplexity))\n",
    "    if len(val_loss)>=2 and val_loss[-2]<val_loss[-1]:\n",
    "        overfit_epochs+=1\n",
    "    else:\n",
    "        overfit_epochs=0\n",
    "    if overfit_epochs==patience_epochs:\n",
    "        lr_value/=reduction_power\n",
    "        optimizer.lr.assign(lr_value)\n",
    "        print('There was no improvement in validation loss for {} epochs, thus reducing learning rate'.format(patience_epochs))"
   ]
  },
  {
   "cell_type": "markdown",
   "id": "32f175c6",
   "metadata": {
    "id": "b20edf6a"
   },
   "source": [
    "# Viewing and saving results"
   ]
  },
  {
   "cell_type": "code",
   "execution_count": 55,
   "id": "df88f0bb",
   "metadata": {
    "id": "b775f40b"
   },
   "outputs": [],
   "source": [
    "df = pd.DataFrame()\n",
    "model_name = 'conv_lstm_transfer_learning_w2v_resnet_fixed_size'\n",
    "df['train_perplexity'] = [i.numpy() for i in train_perplexity]\n",
    "df['val_perplexity'] = [i.numpy() for i in val_perplexity]\n",
    "df['train_loss'] = [i.numpy() for i in train_loss]\n",
    "df['val_loss'] = [i.numpy() for i in val_loss]\n"
   ]
  },
  {
   "cell_type": "code",
   "execution_count": 56,
   "id": "64d50793",
   "metadata": {
    "id": "4bf89741"
   },
   "outputs": [],
   "source": [
    "import matplotlib.pyplot as plt\n",
    "import seaborn as sns\n",
    "sns.set()"
   ]
  },
  {
   "cell_type": "code",
   "execution_count": 57,
   "id": "339a20be",
   "metadata": {
    "id": "e372ef85"
   },
   "outputs": [
    {
     "data": {
      "image/png": "[encoded data removed]",
      "text/plain": [
       "<Figure size 1080x864 with 1 Axes>"
      ]
     },
     "metadata": {},
     "output_type": "display_data"
    }
   ],
   "source": [
    "plt.figure(figsize=(15,12))\n",
    "plt.title('Perplexity results')\n",
    "plt.plot(df['train_perplexity'])\n",
    "plt.plot(df['val_perplexity'])\n",
    "plt.xlabel('Epochs')\n",
    "plt.ylabel('Perplexity')\n",
    "plt.yticks(np.arange(min(df['train_perplexity']), max(df['train_perplexity'])+100,100))\n",
    "plt.legend(['Train', 'Validation']);"
   ]
  },
  {
   "cell_type": "code",
   "execution_count": 58,
   "id": "68b78608",
   "metadata": {
    "id": "1f615389",
    "outputId": "a9f1734b-8d3e-4c31-a17b-8ff7c257277e"
   },
   "outputs": [
    {
     "data": {
      "image/png": "[encoded data removed]",
      "text/plain": [
       "<Figure size 1080x864 with 1 Axes>"
      ]
     },
     "metadata": {},
     "output_type": "display_data"
    }
   ],
   "source": [
    "plt.figure(figsize=(15,12))\n",
    "plt.title('Loss results')\n",
    "plt.plot(df['train_loss'])\n",
    "plt.plot(df['val_loss'])\n",
    "plt.xlabel('Epochs')\n",
    "plt.ylabel('Loss')\n",
    "plt.yticks(np.arange(min(df['train_loss']),max(df['train_loss']),0.2))\n",
    "plt.legend(['Train', 'Validation']);"
   ]
  },
  {
   "cell_type": "markdown",
   "id": "426a2f22",
   "metadata": {
    "id": "ad1ee3d5"
   },
   "source": [
    "# Testing model"
   ]
  },
  {
   "cell_type": "code",
   "execution_count": 59,
   "id": "204d526b",
   "metadata": {
    "id": "444505ed"
   },
   "outputs": [],
   "source": [
    "import matplotlib.pyplot as plt\n",
    "import seaborn as sns"
   ]
  },
  {
   "cell_type": "code",
   "execution_count": 60,
   "id": "85100bd5",
   "metadata": {
    "id": "aa2085b8"
   },
   "outputs": [],
   "source": [
    "class Decoder:\n",
    "    def __init__(self, encoder: tf.keras.Model,\n",
    "                 decoder: tf.keras.Model,\n",
    "                 start_token: int,\n",
    "                 end_token: int,\n",
    "                 max_len: int = None):\n",
    "        self.encoder = encoder\n",
    "        self.decoder = decoder\n",
    "        self.max_len = max_len if max_len else 100\n",
    "        self.start_token = start_token\n",
    "        self.end_token = end_token\n",
    "\n",
    "    def decode(self, input):\n",
    "        pass\n",
    "\n",
    "\n",
    "class GreedyDecoder(Decoder):\n",
    "    def __init__(self, encoder: tf.keras.Model,\n",
    "                 decoder: tf.keras.Model,\n",
    "                 start_token: int,\n",
    "                 end_token: int,\n",
    "                 max_len: int = 10,\n",
    "                 ):\n",
    "        super().__init__(encoder,\n",
    "                         decoder,\n",
    "                         start_token,\n",
    "                         end_token,\n",
    "                         max_len\n",
    "                         )\n",
    "\n",
    "    def decode(self, input):\n",
    "        initial_state = self.encoder(np.expand_dims(input, axis=0))\n",
    "        target_seq = np.zeros((1, 1))\n",
    "        target_seq[0, 0] = self.start_token\n",
    "        res = []\n",
    "        while True:\n",
    "            # Sample a token\n",
    "            output, initial_state = self.decoder(target_seq,initial_state)\n",
    "            sampled_token_index = np.argmax(tf.nn.softmax(output.numpy()))\n",
    "            if len(res) > self.max_len or sampled_token_index == self.end_token:\n",
    "                break\n",
    "\n",
    "            res.append(sampled_token_index)\n",
    "\n",
    "            target_seq = np.zeros((1, 1))\n",
    "            target_seq[0, 0] = sampled_token_index\n",
    "\n",
    "       \n",
    "        return res\n"
   ]
  },
  {
   "cell_type": "code",
   "execution_count": 61,
   "id": "0a936456",
   "metadata": {
    "id": "27c864a3"
   },
   "outputs": [],
   "source": [
    "class BeamSearchDecoder(Decoder):\n",
    "    def __init__(self, encoder: tf.keras.Model,\n",
    "                 decoder: tf.keras.Model,\n",
    "                 start_token: int,\n",
    "                 end_token: int,\n",
    "                 max_len: int = 10,\n",
    "                 ):\n",
    "        super().__init__(encoder,\n",
    "                         decoder,\n",
    "                         start_token,\n",
    "                         end_token,\n",
    "                         max_len\n",
    "                         )\n",
    "\n",
    "    def decode(self, input, beam_size=3):\n",
    "        start = [self.start_token]\n",
    "        initial_state = self.encoder(np.expand_dims(input,axis=0))\n",
    "\n",
    "\n",
    "        start_word = [[start, 0.0, initial_state]]\n",
    "\n",
    "        while len(start_word[0][0]) < self.max_len:\n",
    "            temp = []\n",
    "            for s in start_word:\n",
    "                target_seq = np.array([[s[0][-1]]])\n",
    "                initial_state = s[-1]\n",
    "                output, initial_state = self.decoder(target_seq, initial_state)\n",
    "                output = np.hstack(output)\n",
    "                output = tf.nn.softmax(output).numpy()\n",
    "                word_preds = np.argsort(output)[-beam_size:]\n",
    "\n",
    "                for w in word_preds:\n",
    "                    next_cap, prob = s[0][:], s[1]\n",
    "                    next_cap.append(w)\n",
    "                    prob += output[w]\n",
    "                    temp.append([next_cap, prob, initial_state])\n",
    "\n",
    "            start_word = temp\n",
    "            # Sorting according to the probabilities\n",
    "            start_word = sorted(start_word, reverse=False, key=lambda l: l[1])\n",
    "            # Getting the top words\n",
    "            start_word = start_word[-beam_size:]\n",
    "\n",
    "        start_word = start_word[-1][0]\n",
    "\n",
    "        final_caption = []\n",
    "\n",
    "        for i in start_word:\n",
    "            if i != self.end_token:\n",
    "                final_caption.append(i)\n",
    "            else:\n",
    "                break\n",
    "        return final_caption[1:]"
   ]
  },
  {
   "cell_type": "code",
   "execution_count": 62,
   "id": "f0ac4756",
   "metadata": {
    "id": "a1adf0a9"
   },
   "outputs": [],
   "source": [
    "def predict(data, decoder, inverse_vocab,\n",
    "           beam_size=None):\n",
    "    if beam_size:\n",
    "        result = decoder.decode(data, beam_size=beam_size)\n",
    "    else:\n",
    "        result = decoder.decode(data)\n",
    "    return ' '.join([inverse_vocab[i] for i in result])"
   ]
  },
  {
   "cell_type": "code",
   "execution_count": 63,
   "id": "f826d83b",
   "metadata": {
    "id": "73319486"
   },
   "outputs": [],
   "source": [
    "greedy_decoder = GreedyDecoder(conv_encoder, lstm_decoder, vocab[start_token], vocab[end_token],\n",
    "             max_len=10)"
   ]
  },
  {
   "cell_type": "code",
   "execution_count": 64,
   "id": "3301559a",
   "metadata": {
    "id": "8532e4bd"
   },
   "outputs": [],
   "source": [
    "beam_decoder = BeamSearchDecoder(conv_encoder, lstm_decoder, vocab[start_token], vocab[end_token],\n",
    "             max_len=10)"
   ]
  },
  {
   "cell_type": "code",
   "execution_count": 65,
   "id": "66c1da73",
   "metadata": {
    "id": "6f1270b6",
    "outputId": "b539b8ba-9ec6-41e6-a010-d6a51aac7daa"
   },
   "outputs": [
    {
     "data": {
      "text/plain": [
       "(3840, 224, 224, 3)"
      ]
     },
     "execution_count": 65,
     "metadata": {},
     "output_type": "execute_result"
    }
   ],
   "source": [
    "images.shape"
   ]
  },
  {
   "cell_type": "code",
   "execution_count": 66,
   "id": "224e4b0b",
   "metadata": {
    "id": "5aef8f6f"
   },
   "outputs": [],
   "source": [
    "idx = np.random.choice(range(len(images)))\n",
    "sample = images[idx]"
   ]
  },
  {
   "cell_type": "code",
   "execution_count": 67,
   "id": "2c229bea",
   "metadata": {
    "id": "eab38846",
    "outputId": "cff5d836-1670-437b-fa05-37b4d1323c46"
   },
   "outputs": [
    {
     "name": "stdout",
     "output_type": "stream",
     "text": [
      "woman looks ironic and confident and man looks indifferent\n"
     ]
    },
    {
     "data": {
      "image/png": "[encoded data removed]",
      "text/plain": [
       "<Figure size 576x576 with 1 Axes>"
      ]
     },
     "metadata": {},
     "output_type": "display_data"
    }
   ],
   "source": [
    "plt.figure(figsize=(8,8))\n",
    "plt.imshow(sample)\n",
    "plt.grid([])\n",
    "plt.axis('off');\n",
    "print(annotations[idx])"
   ]
  },
  {
   "cell_type": "code",
   "execution_count": 68,
   "id": "fb6afc27",
   "metadata": {
    "id": "73100527",
    "outputId": "9ea366c9-f621-4cee-e012-ec5dc2beaebd"
   },
   "outputs": [
    {
     "name": "stdout",
     "output_type": "stream",
     "text": [
      "WARNING:tensorflow:Layer lstm_decoder is casting an input tensor from dtype float64 to the layer's dtype of float32, which is new behavior in TensorFlow 2.  The layer has dtype float32 because its dtype defaults to floatx.\n",
      "\n",
      "If you intended to run this layer in float32, you can safely ignore this warning. If in doubt, this warning is likely only an issue if you are porting a TensorFlow 1.X model to TensorFlow 2.\n",
      "\n",
      "To change all layers to have dtype float64 by default, call `tf.keras.backend.set_floatx('float64')`. To change just this layer, pass dtype='float64' to the layer constructor. If you are the author of this layer, you can disable autocasting by passing autocast=False to the base Layer constructor.\n",
      "\n"
     ]
    },
    {
     "data": {
      "text/plain": [
       "'the man is trying to shoot somebody'"
      ]
     },
     "execution_count": 68,
     "metadata": {},
     "output_type": "execute_result"
    }
   ],
   "source": [
    "predict(sample, greedy_decoder, inverse_vocab)"
   ]
  },
  {
   "cell_type": "code",
   "execution_count": 69,
   "id": "744c6404",
   "metadata": {},
   "outputs": [
    {
     "data": {
      "text/plain": [
       "'the man is flirting with the woman'"
      ]
     },
     "execution_count": 69,
     "metadata": {},
     "output_type": "execute_result"
    }
   ],
   "source": [
    "predict(sample, beam_decoder, inverse_vocab, beam_size=3)"
   ]
  },
  {
   "cell_type": "code",
   "execution_count": 70,
   "id": "122893c0",
   "metadata": {},
   "outputs": [
    {
     "data": {
      "text/plain": [
       "'the man is flirting with the woman'"
      ]
     },
     "execution_count": 70,
     "metadata": {},
     "output_type": "execute_result"
    }
   ],
   "source": [
    "predict(sample, beam_decoder, inverse_vocab, beam_size=5)"
   ]
  },
  {
   "cell_type": "code",
   "execution_count": 71,
   "id": "f30766a4",
   "metadata": {},
   "outputs": [
    {
     "data": {
      "text/plain": [
       "'the man is flirting with the woman'"
      ]
     },
     "execution_count": 71,
     "metadata": {},
     "output_type": "execute_result"
    }
   ],
   "source": [
    "predict(sample, beam_decoder, inverse_vocab, beam_size=7)"
   ]
  },
  {
   "cell_type": "code",
   "execution_count": 72,
   "id": "f9ec5fc7",
   "metadata": {
    "id": "687f2739",
    "outputId": "deb0509a-c3f9-4ba6-95a7-e3fd80bdef93"
   },
   "outputs": [
    {
     "data": {
      "text/plain": [
       "'the man is flirting with the woman'"
      ]
     },
     "execution_count": 72,
     "metadata": {},
     "output_type": "execute_result"
    }
   ],
   "source": [
    "predict(sample, beam_decoder, inverse_vocab, beam_size=10)"
   ]
  },
  {
   "cell_type": "markdown",
   "id": "70e9ad81",
   "metadata": {
    "id": "df35cb03"
   },
   "source": [
    "# Blue score calculation"
   ]
  },
  {
   "cell_type": "code",
   "execution_count": 73,
   "id": "75badaa0",
   "metadata": {
    "id": "32df0196"
   },
   "outputs": [],
   "source": [
    "from nltk.translate.bleu_score import sentence_bleu\n"
   ]
  },
  {
   "cell_type": "markdown",
   "id": "704447a2",
   "metadata": {
    "id": "0ab649e9"
   },
   "source": [
    "### making predictions on test dataset with beam_size of 5"
   ]
  },
  {
   "cell_type": "code",
   "execution_count": 74,
   "id": "915dd38f",
   "metadata": {
    "id": "c58e0513",
    "outputId": "cd586145-cdf4-4c04-8724-fa154eb17c70"
   },
   "outputs": [
    {
     "name": "stderr",
     "output_type": "stream",
     "text": [
      "100%|██████████| 3/3 [03:48<00:00, 76.16s/it]\n"
     ]
    }
   ],
   "source": [
    "test_predictions = []\n",
    "for batch in tqdm(test_images):\n",
    "    for image in batch:\n",
    "        result = predict(image, beam_decoder, inverse_vocab, beam_size=5)\n",
    "        test_predictions.append(result)"
   ]
  },
  {
   "cell_type": "code",
   "execution_count": 75,
   "id": "7661e2bc",
   "metadata": {
    "id": "d5b3a561"
   },
   "outputs": [],
   "source": [
    "test_predictions = [i.split(' ') for i in test_predictions]"
   ]
  },
  {
   "cell_type": "code",
   "execution_count": 76,
   "id": "fbbf1bfe",
   "metadata": {
    "id": "321a7d79"
   },
   "outputs": [],
   "source": [
    "reshaped_sequences = test_sequences.reshape(test_sequences.shape[0]*test_sequences.shape[1],-1)"
   ]
  },
  {
   "cell_type": "code",
   "execution_count": 77,
   "id": "2376b57b",
   "metadata": {
    "id": "f08b271c"
   },
   "outputs": [],
   "source": [
    "test_sentences = []\n",
    "for i in reshaped_sequences:\n",
    "    tmp = []\n",
    "    for word in i:\n",
    "        if word!=0 and word!=1 and word!=2:\n",
    "            tmp.append(inverse_vocab[word])\n",
    "    test_sentences.append(tmp)"
   ]
  },
  {
   "cell_type": "code",
   "execution_count": 78,
   "id": "b9d85b41",
   "metadata": {
    "id": "d59c5885",
    "outputId": "ef47af55-ff52-46c5-eca2-b29eb57e0773"
   },
   "outputs": [
    {
     "name": "stdout",
     "output_type": "stream",
     "text": [
      "Overall bleu score on test data : 0.04963496716276996\n"
     ]
    },
    {
     "name": "stderr",
     "output_type": "stream",
     "text": [
      "/home/ec2-user/anaconda3/envs/amazonei_tensorflow2_p36/lib/python3.6/site-packages/nltk/translate/bleu_score.py:523: UserWarning: \n",
      "The hypothesis contains 0 counts of 2-gram overlaps.\n",
      "Therefore the BLEU score evaluates to 0, independently of\n",
      "how many N-gram overlaps of lower order it contains.\n",
      "Consider using lower n-gram order or use SmoothingFunction()\n",
      "  warnings.warn(_msg)\n",
      "/home/ec2-user/anaconda3/envs/amazonei_tensorflow2_p36/lib/python3.6/site-packages/nltk/translate/bleu_score.py:523: UserWarning: \n",
      "The hypothesis contains 0 counts of 3-gram overlaps.\n",
      "Therefore the BLEU score evaluates to 0, independently of\n",
      "how many N-gram overlaps of lower order it contains.\n",
      "Consider using lower n-gram order or use SmoothingFunction()\n",
      "  warnings.warn(_msg)\n",
      "/home/ec2-user/anaconda3/envs/amazonei_tensorflow2_p36/lib/python3.6/site-packages/nltk/translate/bleu_score.py:523: UserWarning: \n",
      "The hypothesis contains 0 counts of 4-gram overlaps.\n",
      "Therefore the BLEU score evaluates to 0, independently of\n",
      "how many N-gram overlaps of lower order it contains.\n",
      "Consider using lower n-gram order or use SmoothingFunction()\n",
      "  warnings.warn(_msg)\n"
     ]
    }
   ],
   "source": [
    "bleu_score = []\n",
    "for reference, prediction in zip(test_sentences, test_predictions):\n",
    "    bleu_score.append(sentence_bleu([reference], prediction))\n",
    "print('Overall bleu score on test data : {}'.format(np.mean(bleu_score)))\n",
    "df['overall_bleu'] = np.mean(bleu_score)*100"
   ]
  },
  {
   "cell_type": "code",
   "execution_count": 79,
   "id": "3dac4d65",
   "metadata": {},
   "outputs": [
    {
     "name": "stdout",
     "output_type": "stream",
     "text": [
      "Bleu score on test data for n-gram = 1 : 0.2791644731360667\n"
     ]
    }
   ],
   "source": [
    "bleu_score = []\n",
    "for reference, prediction in zip(test_sentences, test_predictions):\n",
    "    bleu_score.append(sentence_bleu([reference], prediction, weights=(1,)))\n",
    "print('Bleu score on test data for n-gram = 1 : {}'.format(np.mean(bleu_score)))\n",
    "df['n1_bleu'] = np.mean(bleu_score)*100"
   ]
  },
  {
   "cell_type": "code",
   "execution_count": 80,
   "id": "b2ad4882",
   "metadata": {},
   "outputs": [
    {
     "name": "stdout",
     "output_type": "stream",
     "text": [
      "Bleu score on test data for n-gram = 2 : 0.12719220071713225\n"
     ]
    }
   ],
   "source": [
    "bleu_score = []\n",
    "for reference, prediction in zip(test_sentences, test_predictions):\n",
    "    bleu_score.append(sentence_bleu([reference], prediction, weights=(0,1)))\n",
    "print('Bleu score on test data for n-gram = 2 : {}'.format(np.mean(bleu_score)))\n",
    "df['n2_bleu'] = np.mean(bleu_score)*100"
   ]
  },
  {
   "cell_type": "code",
   "execution_count": 81,
   "id": "b133e2c5",
   "metadata": {},
   "outputs": [
    {
     "name": "stdout",
     "output_type": "stream",
     "text": [
      "Bleu score on test data for n-gram = 3 : 0.06559554592661036\n"
     ]
    }
   ],
   "source": [
    "bleu_score = []\n",
    "for reference, prediction in zip(test_sentences, test_predictions):\n",
    "    bleu_score.append(sentence_bleu([reference], prediction, weights=(0,0,1)))\n",
    "print('Bleu score on test data for n-gram = 3 : {}'.format(np.mean(bleu_score)))\n",
    "df['n3_bleu'] = np.mean(bleu_score)*100"
   ]
  },
  {
   "cell_type": "code",
   "execution_count": 82,
   "id": "6cb86438",
   "metadata": {},
   "outputs": [
    {
     "name": "stdout",
     "output_type": "stream",
     "text": [
      "Bleu score on test data for n-gram = 4 : 0.0431603769429324\n"
     ]
    }
   ],
   "source": [
    "bleu_score = []\n",
    "for reference, prediction in zip(test_sentences, test_predictions):\n",
    "    bleu_score.append(sentence_bleu([reference], prediction, weights=(0,0,0,1)))\n",
    "print('Bleu score on test data for n-gram = 4 : {}'.format(np.mean(bleu_score)))\n",
    "df['n4_bleu'] = np.mean(bleu_score)*100"
   ]
  },
  {
   "cell_type": "code",
   "execution_count": 83,
   "id": "a77936fe",
   "metadata": {},
   "outputs": [
    {
     "name": "stdout",
     "output_type": "stream",
     "text": [
      "Acuumulated bleu score on test data for n-gram = 4 : 0.04963496716276996\n"
     ]
    }
   ],
   "source": [
    "bleu_score = []\n",
    "for reference, prediction in zip(test_sentences, test_predictions):\n",
    "    bleu_score.append(sentence_bleu([reference], prediction, weights=(0.25,0.25,0.25,0.25)))\n",
    "print('Acuumulated bleu score on test data for n-gram = 4 : {}'.format(np.mean(bleu_score)))\n",
    "df['acc_bleu'] = np.mean(bleu_score)*100"
   ]
  },
  {
   "cell_type": "code",
   "execution_count": 84,
   "id": "f1c269ff",
   "metadata": {},
   "outputs": [
    {
     "data": {
      "text/html": [
       "<div>\n",
       "<style scoped>\n",
       "    .dataframe tbody tr th:only-of-type {\n",
       "        vertical-align: middle;\n",
       "    }\n",
       "\n",
       "    .dataframe tbody tr th {\n",
       "        vertical-align: top;\n",
       "    }\n",
       "\n",
       "    .dataframe thead th {\n",
       "        text-align: right;\n",
       "    }\n",
       "</style>\n",
       "<table border=\"1\" class=\"dataframe\">\n",
       "  <thead>\n",
       "    <tr style=\"text-align: right;\">\n",
       "      <th></th>\n",
       "      <th>train_perplexity</th>\n",
       "      <th>val_perplexity</th>\n",
       "      <th>train_loss</th>\n",
       "      <th>val_loss</th>\n",
       "      <th>overall_bleu</th>\n",
       "      <th>n1_bleu</th>\n",
       "      <th>n2_bleu</th>\n",
       "      <th>n3_bleu</th>\n",
       "      <th>n4_bleu</th>\n",
       "      <th>acc_bleu</th>\n",
       "    </tr>\n",
       "  </thead>\n",
       "  <tbody>\n",
       "    <tr>\n",
       "      <th>0</th>\n",
       "      <td>1230.541138</td>\n",
       "      <td>279.930206</td>\n",
       "      <td>6.471270</td>\n",
       "      <td>5.634289</td>\n",
       "      <td>4.963497</td>\n",
       "      <td>27.916447</td>\n",
       "      <td>12.71922</td>\n",
       "      <td>6.559555</td>\n",
       "      <td>4.316038</td>\n",
       "      <td>4.963497</td>\n",
       "    </tr>\n",
       "    <tr>\n",
       "      <th>1</th>\n",
       "      <td>221.013748</td>\n",
       "      <td>187.323532</td>\n",
       "      <td>5.385011</td>\n",
       "      <td>5.231903</td>\n",
       "      <td>4.963497</td>\n",
       "      <td>27.916447</td>\n",
       "      <td>12.71922</td>\n",
       "      <td>6.559555</td>\n",
       "      <td>4.316038</td>\n",
       "      <td>4.963497</td>\n",
       "    </tr>\n",
       "    <tr>\n",
       "      <th>2</th>\n",
       "      <td>165.530487</td>\n",
       "      <td>149.554962</td>\n",
       "      <td>5.101249</td>\n",
       "      <td>5.006352</td>\n",
       "      <td>4.963497</td>\n",
       "      <td>27.916447</td>\n",
       "      <td>12.71922</td>\n",
       "      <td>6.559555</td>\n",
       "      <td>4.316038</td>\n",
       "      <td>4.963497</td>\n",
       "    </tr>\n",
       "    <tr>\n",
       "      <th>3</th>\n",
       "      <td>132.121658</td>\n",
       "      <td>120.242012</td>\n",
       "      <td>4.874889</td>\n",
       "      <td>4.785723</td>\n",
       "      <td>4.963497</td>\n",
       "      <td>27.916447</td>\n",
       "      <td>12.71922</td>\n",
       "      <td>6.559555</td>\n",
       "      <td>4.316038</td>\n",
       "      <td>4.963497</td>\n",
       "    </tr>\n",
       "    <tr>\n",
       "      <th>4</th>\n",
       "      <td>100.653534</td>\n",
       "      <td>95.894661</td>\n",
       "      <td>4.600849</td>\n",
       "      <td>4.556510</td>\n",
       "      <td>4.963497</td>\n",
       "      <td>27.916447</td>\n",
       "      <td>12.71922</td>\n",
       "      <td>6.559555</td>\n",
       "      <td>4.316038</td>\n",
       "      <td>4.963497</td>\n",
       "    </tr>\n",
       "  </tbody>\n",
       "</table>\n",
       "</div>"
      ],
      "text/plain": [
       "   train_perplexity  val_perplexity  train_loss  val_loss  overall_bleu  \\\n",
       "0       1230.541138      279.930206    6.471270  5.634289      4.963497   \n",
       "1        221.013748      187.323532    5.385011  5.231903      4.963497   \n",
       "2        165.530487      149.554962    5.101249  5.006352      4.963497   \n",
       "3        132.121658      120.242012    4.874889  4.785723      4.963497   \n",
       "4        100.653534       95.894661    4.600849  4.556510      4.963497   \n",
       "\n",
       "     n1_bleu   n2_bleu   n3_bleu   n4_bleu  acc_bleu  \n",
       "0  27.916447  12.71922  6.559555  4.316038  4.963497  \n",
       "1  27.916447  12.71922  6.559555  4.316038  4.963497  \n",
       "2  27.916447  12.71922  6.559555  4.316038  4.963497  \n",
       "3  27.916447  12.71922  6.559555  4.316038  4.963497  \n",
       "4  27.916447  12.71922  6.559555  4.316038  4.963497  "
      ]
     },
     "execution_count": 84,
     "metadata": {},
     "output_type": "execute_result"
    }
   ],
   "source": [
    "df.head()"
   ]
  },
  {
   "cell_type": "code",
   "execution_count": 85,
   "id": "c75426a3",
   "metadata": {},
   "outputs": [],
   "source": [
    "df.to_csv('{}_logs.csv'.format(model_name),index=False)"
   ]
  },
  {
   "cell_type": "code",
   "execution_count": 86,
   "id": "1b861617",
   "metadata": {},
   "outputs": [],
   "source": [
    "conv_encoder.save_weights('{}_encoder.h5'.format(model_name))"
   ]
  },
  {
   "cell_type": "code",
   "execution_count": 87,
   "id": "c0a9e263",
   "metadata": {},
   "outputs": [],
   "source": [
    "lstm_decoder.save_weights('{}_decoder.h5'.format(model_name))"
   ]
  },
  {
   "cell_type": "markdown",
   "id": "c700f4ea",
   "metadata": {
    "id": "7d830761"
   },
   "source": [
    "# Predictions on own data"
   ]
  },
  {
   "cell_type": "code",
   "execution_count": 102,
   "id": "4a52b6bc",
   "metadata": {
    "id": "392f9a4a"
   },
   "outputs": [],
   "source": [
    "img = np.array(im.load_img('lauging_people.jpeg', target_size=(224,224)))/255"
   ]
  },
  {
   "cell_type": "code",
   "execution_count": 103,
   "id": "33b835a5",
   "metadata": {
    "id": "0a3dd795",
    "outputId": "65bd83b8-c5c3-4d57-bb54-643fb393d8a6"
   },
   "outputs": [
    {
     "data": {
      "text/plain": [
       "<matplotlib.image.AxesImage at 0x7fe38d2ae1d0>"
      ]
     },
     "execution_count": 103,
     "metadata": {},
     "output_type": "execute_result"
    },
    {
     "data": {
      "image/png": "[encoded data removed]",
      "text/plain": [
       "<Figure size 432x288 with 1 Axes>"
      ]
     },
     "metadata": {},
     "output_type": "display_data"
    }
   ],
   "source": [
    "plt.imshow(img)"
   ]
  },
  {
   "cell_type": "code",
   "execution_count": 104,
   "id": "14b4c894",
   "metadata": {
    "id": "ab8385d3",
    "outputId": "667123cf-11a5-44e8-fd87-f879c9e7eacd"
   },
   "outputs": [
    {
     "data": {
      "text/plain": [
       "'a man and couple is having fun'"
      ]
     },
     "execution_count": 104,
     "metadata": {},
     "output_type": "execute_result"
    }
   ],
   "source": [
    "predict(img, greedy_decoder, inverse_vocab)"
   ]
  },
  {
   "cell_type": "code",
   "execution_count": 105,
   "id": "31ed691d",
   "metadata": {
    "id": "4376b243",
    "outputId": "021cb252-837e-4c8e-b5bb-d651f5f97827"
   },
   "outputs": [
    {
     "data": {
      "text/plain": [
       "'two men are worried about something'"
      ]
     },
     "execution_count": 105,
     "metadata": {},
     "output_type": "execute_result"
    }
   ],
   "source": [
    "predict(img, beam_decoder, inverse_vocab, beam_size=3)"
   ]
  },
  {
   "cell_type": "code",
   "execution_count": 106,
   "id": "3b0fcd1a",
   "metadata": {
    "id": "f9dcea20"
   },
   "outputs": [
    {
     "data": {
      "text/plain": [
       "'two men are worried about something'"
      ]
     },
     "execution_count": 106,
     "metadata": {},
     "output_type": "execute_result"
    }
   ],
   "source": [
    "predict(img, beam_decoder, inverse_vocab, beam_size=5)"
   ]
  },
  {
   "cell_type": "code",
   "execution_count": 107,
   "id": "7c1f2b65",
   "metadata": {},
   "outputs": [
    {
     "data": {
      "text/plain": [
       "'two men are trying to shoot somebody'"
      ]
     },
     "execution_count": 107,
     "metadata": {},
     "output_type": "execute_result"
    }
   ],
   "source": [
    "predict(img, beam_decoder, inverse_vocab, beam_size=7)"
   ]
  },
  {
   "cell_type": "code",
   "execution_count": 108,
   "id": "8dc6367a",
   "metadata": {},
   "outputs": [
    {
     "data": {
      "text/plain": [
       "'two men are trying to shoot somebody'"
      ]
     },
     "execution_count": 108,
     "metadata": {},
     "output_type": "execute_result"
    }
   ],
   "source": [
    "predict(img, beam_decoder, inverse_vocab, beam_size=10)"
   ]
  },
  {
   "cell_type": "code",
   "execution_count": null,
   "id": "621fe23c",
   "metadata": {},
   "outputs": [],
   "source": []
  },
  {
   "cell_type": "code",
   "execution_count": null,
   "id": "ebc0854c",
   "metadata": {},
   "outputs": [],
   "source": []
  }
 ],
 "metadata": {
  "colab": {
   "name": "conv_lstm_caption_full_transfer_learning_enc_dec.ipynb",
   "provenance": []
  },
  "kernelspec": {
   "display_name": "conda_amazonei_tensorflow2_p36",
   "language": "python",
   "name": "conda_amazonei_tensorflow2_p36"
  },
  "language_info": {
   "codemirror_mode": {
    "name": "ipython",
    "version": 3
   },
   "file_extension": ".py",
   "mimetype": "text/x-python",
   "name": "python",
   "nbconvert_exporter": "python",
   "pygments_lexer": "ipython3",
   "version": "3.6.13"
  }
 },
 "nbformat": 4,
 "nbformat_minor": 5
}
