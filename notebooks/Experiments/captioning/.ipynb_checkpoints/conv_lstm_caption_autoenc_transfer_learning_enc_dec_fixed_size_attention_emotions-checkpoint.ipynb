{
 "cells": [
  {
   "cell_type": "code",
   "execution_count": 1,
   "id": "be4537a6",
   "metadata": {
    "id": "e2d397db"
   },
   "outputs": [],
   "source": [
    "import tensorflow as tf"
   ]
  },
  {
   "cell_type": "code",
   "execution_count": 2,
   "id": "368ecf8b",
   "metadata": {
    "id": "9964723c"
   },
   "outputs": [],
   "source": [
    "import pandas as pd\n",
    "import os\n",
    "import numpy as np\n",
    "from sklearn.utils import class_weight\n",
    "from keras_preprocessing import image as im\n",
    "tf.random.set_seed(\n",
    "    5\n",
    ")"
   ]
  },
  {
   "cell_type": "markdown",
   "id": "25bb7c9f",
   "metadata": {
    "id": "8ce21b4a"
   },
   "source": [
    "# Loading data"
   ]
  },
  {
   "cell_type": "code",
   "execution_count": 3,
   "id": "30ac44b8",
   "metadata": {
    "id": "214a30af"
   },
   "outputs": [],
   "source": [
    "def load_data(image_path, annotations_path):\n",
    "    df = pd.read_csv(annotations_path)\n",
    "    df = df[~df['human_sentiment'].isna()]\n",
    "    in_folder = os.listdir(image_path)\n",
    "    df.loc[df['image_name'].isin(in_folder), 'image_name'] = \\\n",
    "    df.loc[df['image_name'].isin(in_folder), 'image_name'].apply(lambda x: os.path.join(image_path,x))\n",
    "    images = []\n",
    "    for image_name in df['image_name'].values:\n",
    "        images.append(np.array(im.load_img(image_name, target_size=(224,224))))\n",
    "    images = np.array(images)\n",
    "    images = images/255\n",
    "    annotations = df['annotation'].str.lower().values\n",
    "    return images, annotations"
   ]
  },
  {
   "cell_type": "code",
   "execution_count": 4,
   "id": "179ad40c",
   "metadata": {
    "id": "e483de83"
   },
   "outputs": [],
   "source": [
    "images, annotations = load_data(\"../../../../images/\", '../../../../emo-at-cap.csv')"
   ]
  },
  {
   "cell_type": "code",
   "execution_count": 5,
   "id": "9784a836",
   "metadata": {},
   "outputs": [],
   "source": [
    "import pickle"
   ]
  },
  {
   "cell_type": "code",
   "execution_count": 6,
   "id": "bf29924c",
   "metadata": {},
   "outputs": [],
   "source": [
    "with open('emotion_features.pl', 'rb') as f:\n",
    "    emotion_features = pickle.load(f)"
   ]
  },
  {
   "cell_type": "markdown",
   "id": "3ddb0c09",
   "metadata": {
    "id": "3cb1f9e8"
   },
   "source": [
    "# Processing of data"
   ]
  },
  {
   "cell_type": "code",
   "execution_count": 7,
   "id": "003868ff",
   "metadata": {
    "id": "4ba97451"
   },
   "outputs": [],
   "source": [
    "import nltk"
   ]
  },
  {
   "cell_type": "code",
   "execution_count": 8,
   "id": "b21437ff",
   "metadata": {
    "id": "3898996e"
   },
   "outputs": [],
   "source": [
    "tokenizer = nltk.tokenize.WordPunctTokenizer()"
   ]
  },
  {
   "cell_type": "code",
   "execution_count": 9,
   "id": "cd2242fd",
   "metadata": {
    "id": "b568172f"
   },
   "outputs": [],
   "source": [
    "tokenized = [tokenizer.tokenize(i) for i in annotations]"
   ]
  },
  {
   "cell_type": "code",
   "execution_count": 10,
   "id": "c9e624e7",
   "metadata": {
    "id": "e1021302"
   },
   "outputs": [],
   "source": [
    "unique_tokens, unique_counts = np.unique(np.hstack(tokenized), return_counts=True)"
   ]
  },
  {
   "cell_type": "code",
   "execution_count": 11,
   "id": "25cb6aef",
   "metadata": {
    "id": "7eaea268",
    "outputId": "9d0d2069-1025-47e1-e098-24715fb6ec45"
   },
   "outputs": [
    {
     "name": "stderr",
     "output_type": "stream",
     "text": [
      "/home/ec2-user/anaconda3/envs/amazonei_tensorflow2_p36/lib/python3.6/site-packages/sklearn/utils/validation.py:72: FutureWarning: Pass classes=[\"'\" ',' '-' ... 'youth' 'исходный' 'текст'], y=['the' 'man' 'is' ... 'with' 'some' 'clothes'] as keyword args. From version 1.0 (renaming of 0.25) passing these as positional arguments will result in an error\n",
      "  \"will result in an error\", FutureWarning)\n"
     ]
    }
   ],
   "source": [
    "class_weights = class_weight.compute_class_weight('balanced', np.unique(np.hstack(tokenized)), np.hstack(tokenized))"
   ]
  },
  {
   "cell_type": "code",
   "execution_count": 12,
   "id": "b38c1161",
   "metadata": {
    "id": "eb8ef5f2"
   },
   "outputs": [],
   "source": [
    "frequency = sorted(list(zip(unique_tokens, unique_counts)), key = lambda x: x[1])[::-1][:50]"
   ]
  },
  {
   "cell_type": "code",
   "execution_count": 13,
   "id": "420ed099",
   "metadata": {
    "id": "f3f16b78",
    "outputId": "7ba159bf-6ea6-4ee2-bd5c-7ed65db04f20"
   },
   "outputs": [
    {
     "data": {
      "text/plain": [
       "[('the', 3261),\n",
       " ('is', 2031),\n",
       " ('man', 1905),\n",
       " ('and', 1536),\n",
       " ('woman', 1361),\n",
       " ('are', 1036),\n",
       " ('a', 963),\n",
       " ('to', 891),\n",
       " ('looks', 751),\n",
       " ('happy', 705),\n",
       " ('with', 547),\n",
       " ('something', 480),\n",
       " ('men', 478),\n",
       " ('of', 463),\n",
       " ('two', 408),\n",
       " ('other', 361),\n",
       " ('people', 343),\n",
       " ('couple', 334),\n",
       " (',', 330),\n",
       " ('in', 278),\n",
       " ('look', 270),\n",
       " ('because', 265),\n",
       " ('they', 256),\n",
       " ('about', 247),\n",
       " ('on', 246),\n",
       " ('at', 192),\n",
       " ('trying', 190),\n",
       " ('serious', 189),\n",
       " ('women', 184),\n",
       " ('each', 179),\n",
       " ('together', 176),\n",
       " ('by', 175),\n",
       " ('having', 171),\n",
       " ('flirting', 165),\n",
       " ('he', 155),\n",
       " ('smiling', 151),\n",
       " ('arguing', 141),\n",
       " ('angry', 140),\n",
       " ('scared', 138),\n",
       " ('worried', 137),\n",
       " ('hugging', 135),\n",
       " ('surprised', 134),\n",
       " ('calm', 133),\n",
       " ('company', 131),\n",
       " ('her', 129),\n",
       " ('group', 123),\n",
       " ('for', 121),\n",
       " ('she', 117),\n",
       " ('looking', 117),\n",
       " ('his', 115)]"
      ]
     },
     "execution_count": 13,
     "metadata": {},
     "output_type": "execute_result"
    }
   ],
   "source": [
    "frequency"
   ]
  },
  {
   "cell_type": "code",
   "execution_count": 14,
   "id": "961f088f",
   "metadata": {
    "id": "f950e507",
    "outputId": "98b430e4-e506-4337-c1ed-88e22edac668"
   },
   "outputs": [
    {
     "data": {
      "text/plain": [
       "2162"
      ]
     },
     "execution_count": 14,
     "metadata": {},
     "output_type": "execute_result"
    }
   ],
   "source": [
    "len(unique_tokens)"
   ]
  },
  {
   "cell_type": "code",
   "execution_count": 15,
   "id": "9427f02d",
   "metadata": {
    "id": "6000f578"
   },
   "outputs": [],
   "source": [
    "pad_token = '<PAD>'\n",
    "start_token = '<S>'\n",
    "end_token = '<E>'"
   ]
  },
  {
   "cell_type": "code",
   "execution_count": 16,
   "id": "c03f4522",
   "metadata": {
    "id": "4bc8861e"
   },
   "outputs": [],
   "source": [
    "vocab = dict(zip(unique_tokens,list(range(3,len(unique_tokens)+3))))\n",
    "vocab[pad_token] = 0\n",
    "vocab[start_token] = 1\n",
    "vocab[end_token] = 2"
   ]
  },
  {
   "cell_type": "code",
   "execution_count": 17,
   "id": "1e4a24f6",
   "metadata": {
    "id": "ea82ff64"
   },
   "outputs": [],
   "source": [
    "inverse_vocab = dict([(v,k) for k,v in vocab.items()])"
   ]
  },
  {
   "cell_type": "code",
   "execution_count": 18,
   "id": "a40ae14f",
   "metadata": {
    "id": "88aee17b"
   },
   "outputs": [],
   "source": [
    "def padd(sentences, pad_token, start_token, end_token, maxlen=10):\n",
    "    padded_sentences = []\n",
    "    for i in sentences:\n",
    "        sentence = [start_token] + i + [end_token]\n",
    "        if len(sentence)>=maxlen+2:\n",
    "            sentence = sentence[:maxlen+2]\n",
    "        else:\n",
    "            sentence = sentence+[pad_token for i in range(maxlen+2-len(sentence))]\n",
    "        padded_sentences.append(sentence)\n",
    "    return padded_sentences"
   ]
  },
  {
   "cell_type": "code",
   "execution_count": 19,
   "id": "697166c8",
   "metadata": {
    "id": "7c387246"
   },
   "outputs": [],
   "source": [
    "padded_sentences = padd(tokenized, pad_token, start_token, end_token, maxlen=10)"
   ]
  },
  {
   "cell_type": "code",
   "execution_count": 20,
   "id": "475356f3",
   "metadata": {
    "id": "dae31ba2",
    "outputId": "486e686d-f0b8-4618-af6d-1e7c60ea39c9"
   },
   "outputs": [
    {
     "data": {
      "text/plain": [
       "12.0"
      ]
     },
     "execution_count": 20,
     "metadata": {},
     "output_type": "execute_result"
    }
   ],
   "source": [
    "np.mean([len(i) for i in padded_sentences])"
   ]
  },
  {
   "cell_type": "code",
   "execution_count": 21,
   "id": "b282aa7c",
   "metadata": {
    "id": "1dbf265e"
   },
   "outputs": [],
   "source": [
    "indexed = list(map(lambda x: [vocab[i] for i in x],padded_sentences))"
   ]
  },
  {
   "cell_type": "code",
   "execution_count": 22,
   "id": "d829314c",
   "metadata": {
    "id": "cf6c28d5",
    "outputId": "7d1336e9-b529-4aa8-b9bc-2ffcb1932e4f"
   },
   "outputs": [
    {
     "data": {
      "text/plain": [
       "(3840, 224, 224, 3)"
      ]
     },
     "execution_count": 22,
     "metadata": {},
     "output_type": "execute_result"
    }
   ],
   "source": [
    "images.shape"
   ]
  },
  {
   "cell_type": "code",
   "execution_count": 23,
   "id": "8a9363fa",
   "metadata": {
    "id": "e0517b86",
    "outputId": "c6ec86e9-44db-4bcd-f81b-202d2d1a04b4"
   },
   "outputs": [
    {
     "data": {
      "text/plain": [
       "2162"
      ]
     },
     "execution_count": 23,
     "metadata": {},
     "output_type": "execute_result"
    }
   ],
   "source": [
    "len(class_weights)"
   ]
  },
  {
   "cell_type": "code",
   "execution_count": 24,
   "id": "cde0f853",
   "metadata": {
    "id": "ab0f6f4b"
   },
   "outputs": [],
   "source": [
    "class_weights = list(class_weights)\n",
    "class_weights.insert(0, 1)\n",
    "class_weights.insert(1, 1)\n",
    "class_weights.insert(2, 1)"
   ]
  },
  {
   "cell_type": "code",
   "execution_count": 25,
   "id": "c857fd1d",
   "metadata": {
    "id": "05479771",
    "outputId": "2c7a7e8f-765f-4f04-a736-13a683275744"
   },
   "outputs": [
    {
     "data": {
      "text/plain": [
       "(2165, 2165)"
      ]
     },
     "execution_count": 25,
     "metadata": {},
     "output_type": "execute_result"
    }
   ],
   "source": [
    "len(class_weights), len(vocab)"
   ]
  },
  {
   "cell_type": "code",
   "execution_count": 26,
   "id": "1b3ebee8",
   "metadata": {
    "id": "41ca43a8",
    "outputId": "bf3fd02b-b281-45d1-c2f5-ecde217c10c3"
   },
   "outputs": [
    {
     "data": {
      "text/plain": [
       "[1, 1, 1, 0.21013259327782918]"
      ]
     },
     "execution_count": 26,
     "metadata": {},
     "output_type": "execute_result"
    }
   ],
   "source": [
    "class_weights[:4]"
   ]
  },
  {
   "cell_type": "code",
   "execution_count": 27,
   "id": "505b67d1",
   "metadata": {
    "id": "8a65a1f9"
   },
   "outputs": [],
   "source": [
    "class_weights = np.array(class_weights)"
   ]
  },
  {
   "cell_type": "code",
   "execution_count": 28,
   "id": "d36b6ebb",
   "metadata": {
    "id": "69a12138",
    "outputId": "58861466-75dd-46b2-e607-f3adf8280f92"
   },
   "outputs": [
    {
     "data": {
      "text/plain": [
       "(2165,)"
      ]
     },
     "execution_count": 28,
     "metadata": {},
     "output_type": "execute_result"
    }
   ],
   "source": [
    "class_weights.shape"
   ]
  },
  {
   "cell_type": "markdown",
   "id": "a6e29719",
   "metadata": {
    "id": "87b12db3"
   },
   "source": [
    "# Model with transfer learning"
   ]
  },
  {
   "cell_type": "code",
   "execution_count": 29,
   "id": "8fe6a987",
   "metadata": {
    "id": "1bc5b828"
   },
   "outputs": [],
   "source": [
    "def calc_size(x, f, s, padding='same'):\n",
    "    p = 2 if padding=='same' else 1\n",
    "    return (x-f+2)/s+1"
   ]
  },
  {
   "cell_type": "markdown",
   "id": "b58a9935",
   "metadata": {
    "id": "7b9f00b4"
   },
   "source": [
    "### Convolutional model"
   ]
  },
  {
   "cell_type": "code",
   "execution_count": 30,
   "id": "6b1c609b",
   "metadata": {
    "id": "10203a8b"
   },
   "outputs": [],
   "source": [
    "import tensorflow.keras.applications as apps\n"
   ]
  },
  {
   "cell_type": "code",
   "execution_count": 31,
   "id": "5f750889",
   "metadata": {
    "colab": {
     "base_uri": "https://localhost:8080/",
     "height": 235
    },
    "id": "c8c52aa1",
    "outputId": "36d889da-8981-413e-bb50-72bce618f234"
   },
   "outputs": [],
   "source": [
    "class ConvEncoder(tf.keras.Model):\n",
    "    def __init__(self, trainable=False):\n",
    "        super(ConvEncoder, self).__init__()\n",
    "        #loading pretrained encoder\n",
    "        self.encoder = tf.keras.models.load_model('encoder.h5')\n",
    "        self.encoder.trainable=trainable\n",
    "        \n",
    "        #on top layers\n",
    "        self.dense1 = tf.keras.layers.Dense(256, activation='relu')\n",
    "        \n",
    "    def call(self, input):\n",
    "        features = self.encoder(input)\n",
    "        return self.dense1(features)"
   ]
  },
  {
   "cell_type": "code",
   "execution_count": 32,
   "id": "0efc2000",
   "metadata": {
    "id": "0433171b"
   },
   "outputs": [
    {
     "name": "stdout",
     "output_type": "stream",
     "text": [
      "WARNING:tensorflow:No training configuration found in the save file, so the model was *not* compiled. Compile it manually.\n"
     ]
    }
   ],
   "source": [
    "conv_encoder = ConvEncoder()"
   ]
  },
  {
   "cell_type": "code",
   "execution_count": 33,
   "id": "9c17af3d",
   "metadata": {
    "id": "68116817"
   },
   "outputs": [
    {
     "name": "stdout",
     "output_type": "stream",
     "text": [
      "WARNING:tensorflow:Layer conv_encoder is casting an input tensor from dtype float64 to the layer's dtype of float32, which is new behavior in TensorFlow 2.  The layer has dtype float32 because its dtype defaults to floatx.\n",
      "\n",
      "If you intended to run this layer in float32, you can safely ignore this warning. If in doubt, this warning is likely only an issue if you are porting a TensorFlow 1.X model to TensorFlow 2.\n",
      "\n",
      "To change all layers to have dtype float64 by default, call `tf.keras.backend.set_floatx('float64')`. To change just this layer, pass dtype='float64' to the layer constructor. If you are the author of this layer, you can disable autocasting by passing autocast=False to the base Layer constructor.\n",
      "\n"
     ]
    }
   ],
   "source": [
    "conv_res = conv_encoder(np.expand_dims(images[0],axis=0))"
   ]
  },
  {
   "cell_type": "code",
   "execution_count": 34,
   "id": "2b49f43f",
   "metadata": {},
   "outputs": [
    {
     "data": {
      "text/plain": [
       "<tf.Tensor: shape=(1, 256), dtype=float32, numpy=\n",
       "array([[0.        , 0.03138161, 0.90139997, 0.1530464 , 0.        ,\n",
       "        0.        , 0.4331551 , 1.448478  , 0.        , 0.        ,\n",
       "        0.54014516, 0.        , 0.2345208 , 0.        , 1.7599672 ,\n",
       "        2.2833786 , 0.        , 0.6446878 , 0.        , 0.        ,\n",
       "        1.9025598 , 0.08810303, 0.11903951, 0.        , 0.10451436,\n",
       "        1.6270452 , 1.5704622 , 0.        , 0.17368805, 0.94622743,\n",
       "        0.7156482 , 0.92243934, 0.49381304, 0.        , 0.32112542,\n",
       "        0.21971312, 0.9188378 , 0.        , 0.34695274, 1.339732  ,\n",
       "        0.        , 2.4649563 , 0.8559554 , 2.1452699 , 0.27313313,\n",
       "        0.609342  , 2.0705836 , 0.        , 0.        , 0.42723823,\n",
       "        0.        , 0.20286131, 0.9459039 , 0.        , 0.        ,\n",
       "        0.        , 0.        , 1.4409425 , 1.0246812 , 0.        ,\n",
       "        0.3989364 , 0.        , 0.        , 0.49472904, 1.1246147 ,\n",
       "        0.        , 0.        , 0.        , 0.        , 0.5746299 ,\n",
       "        0.        , 0.8396273 , 0.0472784 , 0.36812028, 0.        ,\n",
       "        0.88280654, 0.34177706, 0.31561354, 0.        , 0.86386734,\n",
       "        0.22158706, 0.        , 0.        , 0.        , 1.6204529 ,\n",
       "        0.07969731, 0.        , 0.        , 0.        , 0.57666516,\n",
       "        1.8497119 , 0.        , 0.06809944, 0.        , 1.444943  ,\n",
       "        0.2102955 , 0.09936634, 1.7816527 , 0.        , 0.        ,\n",
       "        0.5839838 , 1.6332636 , 0.28284144, 0.        , 1.069628  ,\n",
       "        0.        , 0.        , 0.8772286 , 0.        , 0.        ,\n",
       "        0.        , 0.        , 0.19491681, 0.        , 0.        ,\n",
       "        2.497518  , 0.        , 0.        , 0.        , 1.6952302 ,\n",
       "        0.16541287, 0.        , 0.3609988 , 0.47201955, 0.        ,\n",
       "        0.        , 0.        , 0.        , 1.6035256 , 0.        ,\n",
       "        0.49137992, 0.        , 0.        , 2.1286082 , 0.        ,\n",
       "        0.7490022 , 0.4055848 , 0.        , 0.        , 1.1345836 ,\n",
       "        0.        , 0.13333285, 0.        , 0.502923  , 0.32622772,\n",
       "        0.46902   , 1.3540728 , 0.32908812, 0.23051706, 0.65414894,\n",
       "        1.2764673 , 0.        , 1.371294  , 0.        , 0.        ,\n",
       "        0.7533051 , 0.        , 0.        , 0.        , 0.3923363 ,\n",
       "        0.        , 0.49711126, 0.9247597 , 0.8482932 , 0.01667538,\n",
       "        0.        , 0.        , 0.        , 0.15845668, 0.        ,\n",
       "        1.755453  , 2.0478928 , 0.9873047 , 0.        , 1.7414124 ,\n",
       "        0.        , 0.        , 0.        , 0.        , 0.48602784,\n",
       "        0.17841035, 0.        , 2.5649397 , 0.        , 0.        ,\n",
       "        1.1231594 , 0.        , 0.        , 0.        , 0.        ,\n",
       "        0.        , 0.95190513, 0.        , 1.6252369 , 0.        ,\n",
       "        0.        , 0.53935957, 0.11008096, 0.0728662 , 0.31588465,\n",
       "        0.        , 1.3457232 , 0.        , 0.15184544, 0.        ,\n",
       "        0.        , 0.39490768, 0.        , 0.58528197, 0.        ,\n",
       "        0.73199004, 1.486873  , 0.9802181 , 0.        , 0.        ,\n",
       "        0.        , 0.        , 0.        , 0.5202682 , 0.03488958,\n",
       "        0.1510464 , 0.        , 0.        , 0.09813258, 0.21493602,\n",
       "        1.0666518 , 1.9750301 , 2.032999  , 0.        , 0.55319744,\n",
       "        0.        , 0.46162915, 0.        , 0.        , 0.        ,\n",
       "        0.        , 1.5656571 , 0.        , 1.7682906 , 0.88140947,\n",
       "        0.        , 0.17507909, 0.        , 0.23275334, 0.        ,\n",
       "        1.1001064 , 0.52141774, 0.24695358, 1.1519713 , 1.5414612 ,\n",
       "        0.8969289 , 0.4704333 , 0.        , 0.        , 0.        ,\n",
       "        0.5139296 ]], dtype=float32)>"
      ]
     },
     "execution_count": 34,
     "metadata": {},
     "output_type": "execute_result"
    }
   ],
   "source": [
    "conv_res"
   ]
  },
  {
   "cell_type": "markdown",
   "id": "2a3e5cd4",
   "metadata": {
    "id": "999c2bc0"
   },
   "source": [
    "### LSTM model"
   ]
  },
  {
   "cell_type": "markdown",
   "id": "484fca97",
   "metadata": {
    "id": "26590f4e"
   },
   "source": [
    "### making w2v embeddings"
   ]
  },
  {
   "cell_type": "code",
   "execution_count": 35,
   "id": "2a1c6a0b",
   "metadata": {
    "id": "a5f650c0",
    "outputId": "7120055b-7c8b-4c55-d4a7-0d4cc8dfce18"
   },
   "outputs": [
    {
     "name": "stdout",
     "output_type": "stream",
     "text": [
      "Requirement already satisfied: gensim in /home/ec2-user/anaconda3/envs/amazonei_tensorflow2_p36/lib/python3.6/site-packages (4.0.1)\n",
      "Requirement already satisfied: smart-open>=1.8.1 in /home/ec2-user/anaconda3/envs/amazonei_tensorflow2_p36/lib/python3.6/site-packages (from gensim) (5.1.0)\n",
      "Requirement already satisfied: dataclasses in /home/ec2-user/anaconda3/envs/amazonei_tensorflow2_p36/lib/python3.6/site-packages (from gensim) (0.8)\n",
      "Requirement already satisfied: numpy>=1.11.3 in /home/ec2-user/anaconda3/envs/amazonei_tensorflow2_p36/lib/python3.6/site-packages (from gensim) (1.18.5)\n",
      "Requirement already satisfied: scipy>=0.18.1 in /home/ec2-user/anaconda3/envs/amazonei_tensorflow2_p36/lib/python3.6/site-packages (from gensim) (1.5.3)\n",
      "\u001b[33mWARNING: You are using pip version 21.1.2; however, version 21.1.3 is available.\n",
      "You should consider upgrading via the '/home/ec2-user/anaconda3/envs/amazonei_tensorflow2_p36/bin/python -m pip install --upgrade pip' command.\u001b[0m\n"
     ]
    }
   ],
   "source": [
    "!pip install gensim"
   ]
  },
  {
   "cell_type": "code",
   "execution_count": 36,
   "id": "4689bfd0",
   "metadata": {
    "id": "715baa20",
    "outputId": "0a279aff-b57f-4416-b0cc-df0b524258cf"
   },
   "outputs": [
    {
     "name": "stderr",
     "output_type": "stream",
     "text": [
      "/home/ec2-user/anaconda3/envs/amazonei_tensorflow2_p36/lib/python3.6/site-packages/gensim/similarities/__init__.py:15: UserWarning: The gensim.similarities.levenshtein submodule is disabled, because the optional Levenshtein package <https://pypi.org/project/python-Levenshtein/> is unavailable. Install Levenhstein (e.g. `pip install python-Levenshtein`) to suppress this warning.\n",
      "  warnings.warn(msg)\n"
     ]
    }
   ],
   "source": [
    "import gensim.downloader as api"
   ]
  },
  {
   "cell_type": "code",
   "execution_count": 37,
   "id": "d9ad4656",
   "metadata": {
    "id": "623ef226"
   },
   "outputs": [],
   "source": [
    "w2v_embeddings = api.load('word2vec-google-news-300')"
   ]
  },
  {
   "cell_type": "code",
   "execution_count": 38,
   "id": "034542df",
   "metadata": {
    "id": "f6b2f48a"
   },
   "outputs": [],
   "source": [
    "def build_embeddings(vocab, word_vectors, embed_dim):\n",
    "    emb_matrix = np.zeros(shape=(len(vocab)+ 1 , embed_dim), dtype='float32')\n",
    "    count = 0\n",
    "    for word, i in vocab.items():\n",
    "        try:\n",
    "            emb_matrix[i, :] = word_vectors.get_vector(word)\n",
    "        except:\n",
    "            count += 1\n",
    "            emb_matrix[i, :] = np.random.uniform(-0.1, 0.1, embed_dim)\n",
    "    print('{} words are out of vocabulary：'.format(count))\n",
    "    return emb_matrix\n"
   ]
  },
  {
   "cell_type": "code",
   "execution_count": 39,
   "id": "6fc2886e",
   "metadata": {
    "id": "e893c531",
    "outputId": "8986b2db-0a92-4b04-ab3a-e08a716c4626"
   },
   "outputs": [
    {
     "name": "stdout",
     "output_type": "stream",
     "text": [
      "22 words are out of vocabulary：\n"
     ]
    }
   ],
   "source": [
    "w2v_embeddings = build_embeddings(vocab, w2v_embeddings, 300)"
   ]
  },
  {
   "cell_type": "markdown",
   "id": "dc39147b",
   "metadata": {},
   "source": [
    "### attention"
   ]
  },
  {
   "cell_type": "code",
   "execution_count": 40,
   "id": "762afec8",
   "metadata": {},
   "outputs": [],
   "source": [
    "class BahdanauAttention(tf.keras.Model):\n",
    "  def __init__(self, units):\n",
    "    super(BahdanauAttention, self).__init__()\n",
    "    self.W1 = tf.keras.layers.Dense(units)\n",
    "    self.W2 = tf.keras.layers.Dense(units)\n",
    "    self.V = tf.keras.layers.Dense(1)\n",
    "\n",
    "  def call(self, features, hidden):\n",
    "    # features(CNN_encoder output) shape == (batch_size, 64, embedding_dim)\n",
    "\n",
    "    # hidden shape == (batch_size, hidden_size)\n",
    "    # hidden_with_time_axis shape == (batch_size, 1, hidden_size)\n",
    "    hidden_with_time_axis = tf.expand_dims(hidden, 1)\n",
    "    # attention_hidden_layer shape == (batch_size, 64, units)\n",
    "    attention_hidden_layer = (tf.nn.tanh(self.W1(features) +\n",
    "                                         self.W2(hidden_with_time_axis)))\n",
    "\n",
    "    # score shape == (batch_size, 64, 1)\n",
    "    # This gives you an unnormalized score for each image feature.\n",
    "    score = self.V(attention_hidden_layer)\n",
    "\n",
    "    # attention_weights shape == (batch_size, 64, 1)\n",
    "    attention_weights = tf.nn.softmax(score, axis=1)\n",
    "\n",
    "    # context_vector shape after sum == (batch_size, hidden_size)\n",
    "    context_vector = attention_weights * features\n",
    "    context_vector = tf.reduce_sum(context_vector, axis=1)\n",
    "\n",
    "    return context_vector, attention_weights"
   ]
  },
  {
   "cell_type": "markdown",
   "id": "355958bc",
   "metadata": {
    "id": "0b62cbad"
   },
   "source": [
    "### building model"
   ]
  },
  {
   "cell_type": "code",
   "execution_count": 41,
   "id": "cc0a0abe",
   "metadata": {
    "id": "02766a3f"
   },
   "outputs": [],
   "source": [
    "class LSTMDecoder(tf.keras.Model):\n",
    "    def __init__(self, max_tokens, units=512, embeddings=None, dim=128):\n",
    "        super(LSTMDecoder, self).__init__()\n",
    "        self.units = units\n",
    "        self.embeddings = tf.keras.layers.Embedding(input_dim=max_tokens+1, output_dim=dim, name='embeddings',\n",
    "                                                   weights=[embeddings])\n",
    "        self.dropout = tf.keras.layers.SpatialDropout1D(0.2)\n",
    "        self.lstm = tf.keras.layers.LSTM(units=self.units, return_state=True, return_sequences=True, name='lstm_decoder', \n",
    "                                         recurrent_dropout=0.1,recurrent_initializer='glorot_uniform')\n",
    "        self.layer_norm = tf.keras.layers.LayerNormalization(epsilon=1e-6, name='layer_normalization')\n",
    "        self.intermidiate_dense = tf.keras.layers.Dense(units=self.units, activation='relu')\n",
    "        self.output_dense = tf.keras.layers.Dense(units=max_tokens)\n",
    "        self.attention = BahdanauAttention(self.units)\n",
    "\n",
    "    def call(self, input, features, hidden, state_c, emo_feature):\n",
    "        embedded = self.dropout(self.embeddings(input))\n",
    "        context_vector, attention_weights = self.attention(features, hidden)\n",
    "        concated = tf.concat([tf.expand_dims(context_vector, 1), embedded, tf.expand_dims(emo_feature, 1)], axis=-1)\n",
    "        result_lstm, state_h, state_c = self.lstm(concated, initial_state=[hidden, state_c])\n",
    "        result_lstm = self.layer_norm(result_lstm)\n",
    "        intermidiate_dense = self.intermidiate_dense(result_lstm)\n",
    "        intermidiate_dense = tf.reshape(intermidiate_dense, (-1, intermidiate_dense.shape[2]))\n",
    "        logits = self.output_dense(intermidiate_dense)\n",
    "        return logits, state_h, state_c, attention_weights\n",
    "    \n",
    "    def reset_state(self, batch_size):\n",
    "        return tf.zeros((batch_size, self.units))"
   ]
  },
  {
   "cell_type": "code",
   "execution_count": 42,
   "id": "e8d02b1c",
   "metadata": {
    "id": "4dfe8136",
    "outputId": "c0ca843d-4ad1-4150-a61c-851506423007"
   },
   "outputs": [
    {
     "name": "stdout",
     "output_type": "stream",
     "text": [
      "WARNING:tensorflow:Layer lstm_decoder will not use cuDNN kernel since it doesn't meet the cuDNN kernel criteria. It will use generic GPU kernel as fallback when running on GPU\n"
     ]
    }
   ],
   "source": [
    "lstm_decoder = LSTMDecoder(len(inverse_vocab), 256, w2v_embeddings, dim=300)"
   ]
  },
  {
   "cell_type": "markdown",
   "id": "14a8067e",
   "metadata": {},
   "source": [
    "### emotion decoder"
   ]
  },
  {
   "cell_type": "code",
   "execution_count": 43,
   "id": "6aff93f2",
   "metadata": {},
   "outputs": [],
   "source": [
    "class EmotionEncoder(tf.keras.Model):\n",
    "    def __init__(self, units=512):\n",
    "        super(EmotionEncoder, self).__init__()\n",
    "        self.h = tf.keras.layers.Dense(units=units, activation='relu')\n",
    "        self.c = tf.keras.layers.Dense(units=units, activation='relu')\n",
    "\n",
    "    def call(self, emotion_feature):\n",
    "        \n",
    "        return self.h(emotion_feature), self.c(emotion_feature)\n",
    " "
   ]
  },
  {
   "cell_type": "code",
   "execution_count": 44,
   "id": "e393a224",
   "metadata": {},
   "outputs": [],
   "source": [
    "emotion_encoder = EmotionEncoder(256)"
   ]
  },
  {
   "cell_type": "code",
   "execution_count": 45,
   "id": "4b1f279b",
   "metadata": {},
   "outputs": [
    {
     "name": "stdout",
     "output_type": "stream",
     "text": [
      "WARNING:tensorflow:Layer emotion_encoder is casting an input tensor from dtype float64 to the layer's dtype of float32, which is new behavior in TensorFlow 2.  The layer has dtype float32 because its dtype defaults to floatx.\n",
      "\n",
      "If you intended to run this layer in float32, you can safely ignore this warning. If in doubt, this warning is likely only an issue if you are porting a TensorFlow 1.X model to TensorFlow 2.\n",
      "\n",
      "To change all layers to have dtype float64 by default, call `tf.keras.backend.set_floatx('float64')`. To change just this layer, pass dtype='float64' to the layer constructor. If you are the author of this layer, you can disable autocasting by passing autocast=False to the base Layer constructor.\n",
      "\n"
     ]
    },
    {
     "data": {
      "text/plain": [
       "(<tf.Tensor: shape=(1, 256), dtype=float32, numpy=\n",
       " array([[0.        , 0.0025846 , 0.        , 0.        , 0.        ,\n",
       "         0.03784531, 0.02918529, 0.        , 0.04235475, 0.01632023,\n",
       "         0.00670166, 0.        , 0.02574178, 0.        , 0.0110131 ,\n",
       "         0.03501929, 0.01532016, 0.        , 0.00672387, 0.        ,\n",
       "         0.03641343, 0.        , 0.02301671, 0.0515212 , 0.03914176,\n",
       "         0.        , 0.        , 0.        , 0.03998164, 0.02858276,\n",
       "         0.061079  , 0.        , 0.        , 0.        , 0.        ,\n",
       "         0.        , 0.        , 0.00178318, 0.        , 0.        ,\n",
       "         0.        , 0.        , 0.0127151 , 0.        , 0.01252801,\n",
       "         0.        , 0.02421342, 0.        , 0.03298398, 0.        ,\n",
       "         0.        , 0.        , 0.        , 0.        , 0.08522198,\n",
       "         0.03160135, 0.        , 0.        , 0.        , 0.02179   ,\n",
       "         0.01332078, 0.        , 0.        , 0.04554076, 0.        ,\n",
       "         0.01975337, 0.01536281, 0.        , 0.        , 0.        ,\n",
       "         0.        , 0.        , 0.01789985, 0.05254065, 0.        ,\n",
       "         0.02708538, 0.01208304, 0.        , 0.03041441, 0.03295391,\n",
       "         0.        , 0.        , 0.03319708, 0.        , 0.        ,\n",
       "         0.        , 0.        , 0.        , 0.        , 0.        ,\n",
       "         0.04795434, 0.01515001, 0.0210907 , 0.00325689, 0.        ,\n",
       "         0.04785011, 0.        , 0.03668907, 0.        , 0.        ,\n",
       "         0.        , 0.03077962, 0.        , 0.03171401, 0.        ,\n",
       "         0.04124505, 0.        , 0.        , 0.02726032, 0.00894386,\n",
       "         0.        , 0.        , 0.04000179, 0.        , 0.        ,\n",
       "         0.02765505, 0.        , 0.        , 0.01549259, 0.        ,\n",
       "         0.        , 0.01015149, 0.01431084, 0.        , 0.        ,\n",
       "         0.0100006 , 0.0104594 , 0.        , 0.        , 0.0386485 ,\n",
       "         0.03982219, 0.00157197, 0.03709626, 0.03721044, 0.01862215,\n",
       "         0.02649698, 0.        , 0.        , 0.        , 0.        ,\n",
       "         0.        , 0.        , 0.02927362, 0.01353189, 0.04653339,\n",
       "         0.        , 0.        , 0.        , 0.        , 0.        ,\n",
       "         0.        , 0.00203152, 0.02976777, 0.03817416, 0.        ,\n",
       "         0.        , 0.02867233, 0.        , 0.        , 0.03758039,\n",
       "         0.        , 0.        , 0.0596954 , 0.0191091 , 0.02813923,\n",
       "         0.02771201, 0.        , 0.03136968, 0.03641241, 0.06310491,\n",
       "         0.03683922, 0.02598974, 0.        , 0.00379386, 0.0137779 ,\n",
       "         0.        , 0.00082261, 0.        , 0.0301669 , 0.02957332,\n",
       "         0.00204901, 0.001222  , 0.        , 0.        , 0.        ,\n",
       "         0.00577131, 0.04013583, 0.09200846, 0.03073563, 0.03383357,\n",
       "         0.03045847, 0.        , 0.07224146, 0.02166648, 0.        ,\n",
       "         0.00057158, 0.02094032, 0.01200323, 0.0638143 , 0.        ,\n",
       "         0.        , 0.01328888, 0.        , 0.00217772, 0.04175036,\n",
       "         0.00339944, 0.        , 0.        , 0.        , 0.03499681,\n",
       "         0.03895876, 0.        , 0.        , 0.        , 0.        ,\n",
       "         0.        , 0.06305707, 0.        , 0.03757199, 0.        ,\n",
       "         0.        , 0.0318799 , 0.        , 0.        , 0.0419504 ,\n",
       "         0.02097118, 0.        , 0.        , 0.        , 0.09433702,\n",
       "         0.        , 0.        , 0.        , 0.        , 0.        ,\n",
       "         0.01151896, 0.        , 0.01100961, 0.        , 0.        ,\n",
       "         0.        , 0.04904541, 0.        , 0.        , 0.01039471,\n",
       "         0.        , 0.03150483, 0.04189113, 0.01585506, 0.        ,\n",
       "         0.        , 0.        , 0.        , 0.        , 0.00463487,\n",
       "         0.00450504]], dtype=float32)>,\n",
       " <tf.Tensor: shape=(1, 256), dtype=float32, numpy=\n",
       " array([[0.00000000e+00, 3.44809592e-02, 4.52756137e-02, 2.57923715e-02,\n",
       "         8.12798291e-02, 1.56921484e-02, 0.00000000e+00, 1.08310273e-02,\n",
       "         2.13113297e-02, 0.00000000e+00, 0.00000000e+00, 2.44197343e-02,\n",
       "         4.64362791e-03, 2.18283050e-02, 2.80854367e-02, 4.97658364e-03,\n",
       "         0.00000000e+00, 0.00000000e+00, 1.61878839e-02, 0.00000000e+00,\n",
       "         4.31298763e-02, 1.60243735e-02, 0.00000000e+00, 0.00000000e+00,\n",
       "         0.00000000e+00, 0.00000000e+00, 8.79194029e-03, 0.00000000e+00,\n",
       "         4.14173538e-03, 0.00000000e+00, 0.00000000e+00, 8.15478433e-03,\n",
       "         1.11203864e-02, 0.00000000e+00, 5.22633605e-02, 0.00000000e+00,\n",
       "         2.97086462e-02, 3.57198045e-02, 0.00000000e+00, 0.00000000e+00,\n",
       "         0.00000000e+00, 0.00000000e+00, 0.00000000e+00, 0.00000000e+00,\n",
       "         1.19032888e-02, 0.00000000e+00, 0.00000000e+00, 1.38815604e-02,\n",
       "         0.00000000e+00, 3.85377742e-02, 0.00000000e+00, 0.00000000e+00,\n",
       "         0.00000000e+00, 5.64749911e-03, 0.00000000e+00, 0.00000000e+00,\n",
       "         0.00000000e+00, 4.10429463e-02, 0.00000000e+00, 3.05588562e-02,\n",
       "         8.21082294e-03, 1.02124189e-03, 0.00000000e+00, 0.00000000e+00,\n",
       "         7.45119974e-02, 0.00000000e+00, 1.66663900e-03, 0.00000000e+00,\n",
       "         0.00000000e+00, 3.75610813e-02, 1.50578953e-02, 5.11838496e-02,\n",
       "         6.06296994e-02, 1.25094317e-02, 0.00000000e+00, 6.91030324e-02,\n",
       "         2.58985627e-02, 3.05477530e-04, 2.28960756e-02, 0.00000000e+00,\n",
       "         2.72853412e-02, 7.76613057e-02, 4.54788357e-02, 3.30834650e-03,\n",
       "         2.85685342e-03, 4.33181860e-02, 8.58023204e-03, 6.44183755e-02,\n",
       "         0.00000000e+00, 0.00000000e+00, 7.80949323e-03, 0.00000000e+00,\n",
       "         2.40051001e-02, 1.68428384e-03, 0.00000000e+00, 4.45799157e-03,\n",
       "         0.00000000e+00, 1.98270269e-02, 0.00000000e+00, 0.00000000e+00,\n",
       "         8.67478456e-03, 0.00000000e+00, 0.00000000e+00, 5.20403758e-02,\n",
       "         3.52978855e-02, 0.00000000e+00, 3.16471308e-02, 0.00000000e+00,\n",
       "         7.17534870e-03, 2.68500075e-02, 0.00000000e+00, 4.15712688e-03,\n",
       "         0.00000000e+00, 0.00000000e+00, 1.21499188e-02, 4.89109010e-03,\n",
       "         0.00000000e+00, 0.00000000e+00, 0.00000000e+00, 3.80111858e-02,\n",
       "         0.00000000e+00, 0.00000000e+00, 1.41550014e-02, 1.57574192e-02,\n",
       "         2.01135147e-02, 0.00000000e+00, 0.00000000e+00, 0.00000000e+00,\n",
       "         3.04566137e-02, 4.76554558e-02, 0.00000000e+00, 0.00000000e+00,\n",
       "         0.00000000e+00, 0.00000000e+00, 8.62914789e-03, 0.00000000e+00,\n",
       "         0.00000000e+00, 0.00000000e+00, 1.54889822e-02, 3.24862562e-02,\n",
       "         1.60027593e-02, 5.59724867e-05, 0.00000000e+00, 0.00000000e+00,\n",
       "         4.60860040e-03, 2.12204959e-02, 4.27000597e-02, 6.92802668e-03,\n",
       "         0.00000000e+00, 8.10473710e-02, 0.00000000e+00, 0.00000000e+00,\n",
       "         1.12366518e-02, 0.00000000e+00, 1.90272257e-02, 2.39878278e-02,\n",
       "         4.23535779e-02, 0.00000000e+00, 1.74139366e-02, 3.68147641e-02,\n",
       "         6.28120080e-03, 0.00000000e+00, 7.40846545e-02, 7.74308741e-02,\n",
       "         0.00000000e+00, 5.66611588e-02, 9.17527173e-03, 0.00000000e+00,\n",
       "         0.00000000e+00, 7.02721328e-02, 7.70948455e-03, 0.00000000e+00,\n",
       "         7.85418674e-02, 0.00000000e+00, 2.47287173e-02, 5.12940343e-03,\n",
       "         0.00000000e+00, 5.23950718e-02, 0.00000000e+00, 0.00000000e+00,\n",
       "         0.00000000e+00, 0.00000000e+00, 0.00000000e+00, 3.08436435e-02,\n",
       "         0.00000000e+00, 8.19063932e-02, 1.96375903e-02, 1.33747598e-02,\n",
       "         2.22591311e-02, 0.00000000e+00, 0.00000000e+00, 0.00000000e+00,\n",
       "         3.09421159e-02, 0.00000000e+00, 0.00000000e+00, 0.00000000e+00,\n",
       "         1.06761549e-02, 0.00000000e+00, 2.37982143e-02, 9.29980911e-03,\n",
       "         0.00000000e+00, 0.00000000e+00, 0.00000000e+00, 1.24570699e-02,\n",
       "         0.00000000e+00, 0.00000000e+00, 0.00000000e+00, 2.09559202e-02,\n",
       "         3.48559506e-02, 0.00000000e+00, 1.84499603e-02, 0.00000000e+00,\n",
       "         0.00000000e+00, 4.93997149e-03, 4.13410775e-02, 5.31239398e-02,\n",
       "         0.00000000e+00, 0.00000000e+00, 5.31026535e-03, 1.40058249e-03,\n",
       "         0.00000000e+00, 0.00000000e+00, 0.00000000e+00, 1.73651688e-02,\n",
       "         2.31190547e-02, 2.26909742e-02, 3.12443096e-02, 0.00000000e+00,\n",
       "         0.00000000e+00, 0.00000000e+00, 3.55626605e-02, 7.00281560e-03,\n",
       "         6.60393294e-03, 1.37825822e-03, 5.88718504e-02, 1.73130706e-02,\n",
       "         3.76328602e-02, 1.30354185e-02, 3.09173837e-02, 0.00000000e+00,\n",
       "         5.94867300e-03, 0.00000000e+00, 0.00000000e+00, 4.11702693e-03,\n",
       "         0.00000000e+00, 0.00000000e+00, 4.29160427e-03, 2.71653384e-02,\n",
       "         0.00000000e+00, 0.00000000e+00, 0.00000000e+00, 0.00000000e+00,\n",
       "         0.00000000e+00, 0.00000000e+00, 1.98494066e-02, 1.91889293e-02]],\n",
       "       dtype=float32)>)"
      ]
     },
     "execution_count": 45,
     "metadata": {},
     "output_type": "execute_result"
    }
   ],
   "source": [
    "emotion_encoder(np.expand_dims(emotion_features[0],axis=0))"
   ]
  },
  {
   "cell_type": "markdown",
   "id": "d4949dea",
   "metadata": {
    "id": "25dff32e"
   },
   "source": [
    "### Training"
   ]
  },
  {
   "cell_type": "code",
   "execution_count": 46,
   "id": "3be4836c",
   "metadata": {
    "id": "9559d09b"
   },
   "outputs": [],
   "source": [
    "from sklearn.model_selection import train_test_split"
   ]
  },
  {
   "cell_type": "code",
   "execution_count": 47,
   "id": "836d9fcb",
   "metadata": {
    "id": "3e38fa7d"
   },
   "outputs": [],
   "source": [
    "loss_object = tf.keras.losses.SparseCategoricalCrossentropy(reduction='none',\n",
    "                                                                         from_logits=True)\n",
    "lr_value = 1e-4\n",
    "reduction_power = 10\n",
    "optimizer = tf.keras.optimizers.RMSprop(learning_rate=lr_value)\n",
    "with_weights = False"
   ]
  },
  {
   "cell_type": "code",
   "execution_count": 48,
   "id": "865e6573",
   "metadata": {
    "id": "12a0f4ce"
   },
   "outputs": [],
   "source": [
    "epochs = 30\n",
    "batch_size = 64\n",
    "patience_epochs = 2"
   ]
  },
  {
   "cell_type": "code",
   "execution_count": 49,
   "id": "039752ae",
   "metadata": {
    "id": "9cb2ce3a"
   },
   "outputs": [],
   "source": [
    "def loss_function(real, pred, loss_weights):\n",
    "        mask = tf.math.logical_not(tf.math.equal(real, vocab[pad_token]))\n",
    "        loss_ = loss_object(real, pred)\n",
    "        mask = tf.cast(mask, dtype=loss_.dtype)\n",
    "        loss_ *= mask\n",
    "        loss_weights = tf.cast(loss_weights, dtype=loss_.dtype)\n",
    "        loss_*=loss_weights\n",
    "        return loss_"
   ]
  },
  {
   "cell_type": "code",
   "execution_count": 50,
   "id": "b8947922",
   "metadata": {
    "id": "f1b5202f"
   },
   "outputs": [],
   "source": [
    "@tf.function\n",
    "def train_step(image, target, emo_feature, lengths, optimizer):\n",
    "    with tf.GradientTape() as tape:\n",
    "        features = conv_encoder(image)\n",
    "        hidden, state_c = emotion_encoder(emo_feature)\n",
    "\n",
    "        # Teacher forcing - feeding the target as the next input\n",
    "        batched_loss = []\n",
    "        for t in range(1, target.shape[1]):\n",
    "            \n",
    "            dec_input = tf.expand_dims(target[:, t-1], 1)\n",
    "            result, hidden, state_c, _ = lstm_decoder(dec_input, features, hidden, state_c,emo_feature)\n",
    "            weights = tf.broadcast_to(class_weights, shape=(target[:,t].shape[0], class_weights.shape[0]))\n",
    "            weights = tf.gather(weights, target[:,t],axis=1, batch_dims=1)\n",
    "            batched_loss.append(loss_function(target[:, t], result, weights))\n",
    "        batched_loss = tf.reshape(tf.stack(batched_loss), shape=target[:,1:].shape)\n",
    "        batched_loss = tf.reduce_sum(batched_loss, axis=1)\n",
    "        lengths = tf.cast(lengths, dtype=batched_loss.dtype)\n",
    "        loss = tf.reduce_mean(batched_loss / lengths)\n",
    "\n",
    "    perplexity = tf.exp(loss)\n",
    "\n",
    "    variables = conv_encoder.trainable_variables + lstm_decoder.trainable_variables + emotion_encoder.trainable_variables\n",
    "    gradients = tape.gradient(loss, variables)\n",
    "\n",
    "    optimizer.apply_gradients(zip(gradients, variables))\n",
    "\n",
    "    return loss, perplexity"
   ]
  },
  {
   "cell_type": "code",
   "execution_count": 51,
   "id": "27c0e839",
   "metadata": {
    "id": "aa6a4ec9"
   },
   "outputs": [],
   "source": [
    "@tf.function\n",
    "def evaluate(image, target,emo_feature, lengths, optimizer):\n",
    "    hidden, state_c = emotion_encoder(emo_feature)\n",
    "\n",
    "    features = conv_encoder(image)\n",
    "    # Teacher forcing - feeding the target as the next input\n",
    "    batched_loss = []\n",
    "    for t in range(1, target.shape[1]):\n",
    "\n",
    "        dec_input = tf.expand_dims(target[:, t-1], 1)\n",
    "        result, hidden, state_c, _ = lstm_decoder(dec_input, features, hidden, state_c, emo_feature)\n",
    "        weights = tf.broadcast_to(class_weights, shape=(target[:,t].shape[0], class_weights.shape[0]))\n",
    "        weights = tf.gather(weights, target[:,t],axis=1, batch_dims=1)\n",
    "        batched_loss.append(loss_function(target[:, t], result, weights))\n",
    "    \n",
    "    batched_loss = tf.reshape(tf.stack(batched_loss), shape=target[:,1:].shape)\n",
    "    batched_loss = tf.reduce_sum(batched_loss, axis=1)\n",
    "    lengths = tf.cast(lengths, dtype=batched_loss.dtype)\n",
    "    loss = tf.reduce_mean(batched_loss / lengths)\n",
    "    perplexity = tf.exp(loss)\n",
    "\n",
    "\n",
    "    return loss, perplexity"
   ]
  },
  {
   "cell_type": "code",
   "execution_count": 52,
   "id": "93741499",
   "metadata": {
    "id": "b9b86eed"
   },
   "outputs": [],
   "source": [
    "train_images, val_images, train_sequences, val_sequences, train_emo, val_emo =  train_test_split(images, indexed, emotion_features, test_size=0.2, random_state=10)\n",
    "val_images, test_images, val_sequences, test_sequences, val_emo, test_emo =  train_test_split(val_images, val_sequences,val_emo, test_size=0.5, random_state=10)"
   ]
  },
  {
   "cell_type": "code",
   "execution_count": 53,
   "id": "eea04166",
   "metadata": {
    "id": "acba46dc"
   },
   "outputs": [],
   "source": [
    "train_length = (np.array(train_sequences)!=vocab[pad_token]).sum(axis=1)-2"
   ]
  },
  {
   "cell_type": "code",
   "execution_count": 54,
   "id": "c3726987",
   "metadata": {},
   "outputs": [],
   "source": [
    "val_length = (np.array(val_sequences)!=vocab[pad_token]).sum(axis=1)-2"
   ]
  },
  {
   "cell_type": "code",
   "execution_count": 55,
   "id": "f6fb4778",
   "metadata": {
    "id": "114f3f4d"
   },
   "outputs": [],
   "source": [
    "test_length = (np.array(test_sequences)!=vocab[pad_token]).sum(axis=1)-2"
   ]
  },
  {
   "cell_type": "code",
   "execution_count": 56,
   "id": "af0c863e",
   "metadata": {
    "id": "0e27f657"
   },
   "outputs": [],
   "source": [
    "train_images = np.array(np.array_split(train_images, len(train_images)//batch_size)).astype('float32')\n",
    "test_images = np.array(np.array_split(test_images, len(test_images)//batch_size)).astype('float32')\n",
    "val_images = np.array(np.array_split(val_images, len(val_images)//batch_size)).astype('float32')\n",
    "\n",
    "train_emo = np.array(np.array_split(train_emo, len(train_emo)//batch_size)).astype('float32')\n",
    "test_emo = np.array(np.array_split(test_emo, len(test_emo)//batch_size)).astype('float32')\n",
    "val_emo = np.array(np.array_split(val_emo, len(val_emo)//batch_size)).astype('float32')\n",
    "\n",
    "train_sequences = np.array(np.array_split(train_sequences, len(train_sequences)//batch_size))\n",
    "test_sequences = np.array(np.array_split(test_sequences, len(test_sequences)//batch_size))\n",
    "val_sequences = np.array(np.array_split(val_sequences, len(val_sequences)//batch_size))\n",
    "\n",
    "train_length = np.array(np.array_split(train_length, len(train_length)//batch_size)).astype('float32')\n",
    "test_length = np.array(np.array_split(test_length, len(test_length)//batch_size)).astype('float32')\n",
    "val_length = np.array(np.array_split(val_length, len(val_length)//batch_size)).astype('float32')\n"
   ]
  },
  {
   "cell_type": "code",
   "execution_count": 57,
   "id": "79be834c",
   "metadata": {
    "id": "552ed89c",
    "outputId": "54b68180-8df5-4e71-c80a-9009ed49b74a"
   },
   "outputs": [
    {
     "data": {
      "text/plain": [
       "((48, 64, 224, 224, 3), (48, 64, 12), (48, 64), (48, 64, 7))"
      ]
     },
     "execution_count": 57,
     "metadata": {},
     "output_type": "execute_result"
    }
   ],
   "source": [
    "train_images.shape, train_sequences.shape, train_length.shape, train_emo.shape"
   ]
  },
  {
   "cell_type": "code",
   "execution_count": 58,
   "id": "ea72a040",
   "metadata": {
    "id": "25f6490c",
    "outputId": "79c4fa3b-5786-44c1-faa3-075c5d0d804b"
   },
   "outputs": [
    {
     "name": "stdout",
     "output_type": "stream",
     "text": [
      "Requirement already satisfied: tqdm in /home/ec2-user/anaconda3/envs/amazonei_tensorflow2_p36/lib/python3.6/site-packages (4.61.2)\n",
      "\u001b[33mWARNING: You are using pip version 21.1.2; however, version 21.1.3 is available.\n",
      "You should consider upgrading via the '/home/ec2-user/anaconda3/envs/amazonei_tensorflow2_p36/bin/python -m pip install --upgrade pip' command.\u001b[0m\n"
     ]
    }
   ],
   "source": [
    "!pip install tqdm"
   ]
  },
  {
   "cell_type": "code",
   "execution_count": 59,
   "id": "1041d711",
   "metadata": {
    "id": "c233a386"
   },
   "outputs": [],
   "source": [
    "if not with_weights:\n",
    "    class_weights = np.array([1 for i in range(len(class_weights))])"
   ]
  },
  {
   "cell_type": "code",
   "execution_count": 60,
   "id": "dc01129f",
   "metadata": {
    "id": "4c609b61"
   },
   "outputs": [],
   "source": [
    "from tqdm import tqdm"
   ]
  },
  {
   "cell_type": "code",
   "execution_count": 61,
   "id": "886ee76b",
   "metadata": {
    "id": "1144f320",
    "outputId": "6b3fe07f-3098-43f9-bf97-30657ac3723b"
   },
   "outputs": [
    {
     "name": "stderr",
     "output_type": "stream",
     "text": [
      "48it [00:29,  1.65it/s]\n"
     ]
    },
    {
     "name": "stdout",
     "output_type": "stream",
     "text": [
      "Finished epoch 0; Train loss : 7.0703558921813965; Train perplexity : 1767.6851806640625\n",
      "Validation loss : 5.901597499847412; Validation perplexity : 369.520263671875\n"
     ]
    },
    {
     "name": "stderr",
     "output_type": "stream",
     "text": [
      "48it [00:07,  6.05it/s]\n"
     ]
    },
    {
     "name": "stdout",
     "output_type": "stream",
     "text": [
      "Finished epoch 1; Train loss : 5.455282688140869; Train perplexity : 239.48793029785156\n",
      "Validation loss : 5.228837013244629; Validation perplexity : 188.3118438720703\n"
     ]
    },
    {
     "name": "stderr",
     "output_type": "stream",
     "text": [
      "48it [00:07,  6.08it/s]\n"
     ]
    },
    {
     "name": "stdout",
     "output_type": "stream",
     "text": [
      "Finished epoch 2; Train loss : 4.918460845947266; Train perplexity : 139.06219482421875\n",
      "Validation loss : 4.829615116119385; Validation perplexity : 126.35012817382812\n"
     ]
    },
    {
     "name": "stderr",
     "output_type": "stream",
     "text": [
      "48it [00:07,  6.04it/s]\n"
     ]
    },
    {
     "name": "stdout",
     "output_type": "stream",
     "text": [
      "Finished epoch 3; Train loss : 4.53834342956543; Train perplexity : 94.9538345336914\n",
      "Validation loss : 4.548917770385742; Validation perplexity : 95.63465118408203\n"
     ]
    },
    {
     "name": "stderr",
     "output_type": "stream",
     "text": [
      "48it [00:07,  6.04it/s]\n"
     ]
    },
    {
     "name": "stdout",
     "output_type": "stream",
     "text": [
      "Finished epoch 4; Train loss : 4.251557350158691; Train perplexity : 71.26980590820312\n",
      "Validation loss : 4.329536437988281; Validation perplexity : 77.032958984375\n"
     ]
    },
    {
     "name": "stderr",
     "output_type": "stream",
     "text": [
      "48it [00:07,  6.06it/s]\n"
     ]
    },
    {
     "name": "stdout",
     "output_type": "stream",
     "text": [
      "Finished epoch 5; Train loss : 4.014503479003906; Train perplexity : 56.220272064208984\n",
      "Validation loss : 4.150993824005127; Validation perplexity : 64.6637954711914\n"
     ]
    },
    {
     "name": "stderr",
     "output_type": "stream",
     "text": [
      "48it [00:07,  6.04it/s]\n"
     ]
    },
    {
     "name": "stdout",
     "output_type": "stream",
     "text": [
      "Finished epoch 6; Train loss : 3.8233718872070312; Train perplexity : 46.44761276245117\n",
      "Validation loss : 4.021316051483154; Validation perplexity : 56.95829772949219\n"
     ]
    },
    {
     "name": "stderr",
     "output_type": "stream",
     "text": [
      "48it [00:07,  6.02it/s]\n"
     ]
    },
    {
     "name": "stdout",
     "output_type": "stream",
     "text": [
      "Finished epoch 7; Train loss : 3.673567533493042; Train perplexity : 39.93062210083008\n",
      "Validation loss : 3.911128282546997; Validation perplexity : 51.10235595703125\n"
     ]
    },
    {
     "name": "stderr",
     "output_type": "stream",
     "text": [
      "48it [00:07,  6.03it/s]\n"
     ]
    },
    {
     "name": "stdout",
     "output_type": "stream",
     "text": [
      "Finished epoch 8; Train loss : 3.5416276454925537; Train perplexity : 34.98086166381836\n",
      "Validation loss : 3.851215362548828; Validation perplexity : 48.319454193115234\n"
     ]
    },
    {
     "name": "stderr",
     "output_type": "stream",
     "text": [
      "48it [00:07,  6.05it/s]\n"
     ]
    },
    {
     "name": "stdout",
     "output_type": "stream",
     "text": [
      "Finished epoch 9; Train loss : 3.432427167892456; Train perplexity : 31.404165267944336\n",
      "Validation loss : 3.807016372680664; Validation perplexity : 46.16733932495117\n"
     ]
    },
    {
     "name": "stderr",
     "output_type": "stream",
     "text": [
      "48it [00:07,  6.03it/s]\n"
     ]
    },
    {
     "name": "stdout",
     "output_type": "stream",
     "text": [
      "Finished epoch 10; Train loss : 3.339223623275757; Train perplexity : 28.588586807250977\n",
      "Validation loss : 3.7253644466400146; Validation perplexity : 42.72126388549805\n"
     ]
    },
    {
     "name": "stderr",
     "output_type": "stream",
     "text": [
      "48it [00:07,  6.04it/s]\n"
     ]
    },
    {
     "name": "stdout",
     "output_type": "stream",
     "text": [
      "Finished epoch 11; Train loss : 3.259993553161621; Train perplexity : 26.392793655395508\n",
      "Validation loss : 3.713620901107788; Validation perplexity : 42.32002258300781\n"
     ]
    },
    {
     "name": "stderr",
     "output_type": "stream",
     "text": [
      "48it [00:07,  6.05it/s]\n"
     ]
    },
    {
     "name": "stdout",
     "output_type": "stream",
     "text": [
      "Finished epoch 12; Train loss : 3.1861460208892822; Train perplexity : 24.54144287109375\n",
      "Validation loss : 3.681412935256958; Validation perplexity : 40.955318450927734\n"
     ]
    },
    {
     "name": "stderr",
     "output_type": "stream",
     "text": [
      "48it [00:08,  5.98it/s]\n"
     ]
    },
    {
     "name": "stdout",
     "output_type": "stream",
     "text": [
      "Finished epoch 13; Train loss : 3.117945909500122; Train perplexity : 22.88254737854004\n",
      "Validation loss : 3.6545164585113525; Validation perplexity : 39.87548828125\n"
     ]
    },
    {
     "name": "stderr",
     "output_type": "stream",
     "text": [
      "48it [00:07,  6.02it/s]\n"
     ]
    },
    {
     "name": "stdout",
     "output_type": "stream",
     "text": [
      "Finished epoch 14; Train loss : 3.058927297592163; Train perplexity : 21.55379295349121\n",
      "Validation loss : 3.667186975479126; Validation perplexity : 40.367958068847656\n"
     ]
    },
    {
     "name": "stderr",
     "output_type": "stream",
     "text": [
      "48it [00:07,  6.01it/s]\n"
     ]
    },
    {
     "name": "stdout",
     "output_type": "stream",
     "text": [
      "Finished epoch 15; Train loss : 3.0004050731658936; Train perplexity : 20.32706642150879\n",
      "Validation loss : 3.6238155364990234; Validation perplexity : 38.653682708740234\n"
     ]
    },
    {
     "name": "stderr",
     "output_type": "stream",
     "text": [
      "48it [00:08,  5.99it/s]\n"
     ]
    },
    {
     "name": "stdout",
     "output_type": "stream",
     "text": [
      "Finished epoch 16; Train loss : 2.9485273361206055; Train perplexity : 19.295183181762695\n",
      "Validation loss : 3.6185543537139893; Validation perplexity : 38.56161117553711\n"
     ]
    },
    {
     "name": "stderr",
     "output_type": "stream",
     "text": [
      "48it [00:07,  6.03it/s]\n"
     ]
    },
    {
     "name": "stdout",
     "output_type": "stream",
     "text": [
      "Finished epoch 17; Train loss : 2.898599624633789; Train perplexity : 18.346744537353516\n",
      "Validation loss : 3.629944086074829; Validation perplexity : 38.9988899230957\n"
     ]
    },
    {
     "name": "stderr",
     "output_type": "stream",
     "text": [
      "48it [00:08,  5.99it/s]\n"
     ]
    },
    {
     "name": "stdout",
     "output_type": "stream",
     "text": [
      "Finished epoch 18; Train loss : 2.850379705429077; Train perplexity : 17.48338508605957\n",
      "Validation loss : 3.576488494873047; Validation perplexity : 36.96255111694336\n"
     ]
    },
    {
     "name": "stderr",
     "output_type": "stream",
     "text": [
      "48it [00:08,  5.98it/s]\n"
     ]
    },
    {
     "name": "stdout",
     "output_type": "stream",
     "text": [
      "Finished epoch 19; Train loss : 2.806764602661133; Train perplexity : 16.732202529907227\n",
      "Validation loss : 3.571061372756958; Validation perplexity : 36.748348236083984\n"
     ]
    },
    {
     "name": "stderr",
     "output_type": "stream",
     "text": [
      "48it [00:07,  6.03it/s]\n"
     ]
    },
    {
     "name": "stdout",
     "output_type": "stream",
     "text": [
      "Finished epoch 20; Train loss : 2.7614223957061768; Train perplexity : 15.969779014587402\n",
      "Validation loss : 3.5590457916259766; Validation perplexity : 36.3682975769043\n"
     ]
    },
    {
     "name": "stderr",
     "output_type": "stream",
     "text": [
      "48it [00:07,  6.08it/s]\n"
     ]
    },
    {
     "name": "stdout",
     "output_type": "stream",
     "text": [
      "Finished epoch 21; Train loss : 2.720752716064453; Train perplexity : 15.34372329711914\n",
      "Validation loss : 3.5380094051361084; Validation perplexity : 35.661800384521484\n"
     ]
    },
    {
     "name": "stderr",
     "output_type": "stream",
     "text": [
      "48it [00:07,  6.03it/s]\n"
     ]
    },
    {
     "name": "stdout",
     "output_type": "stream",
     "text": [
      "Finished epoch 22; Train loss : 2.6795899868011475; Train perplexity : 14.714836120605469\n",
      "Validation loss : 3.5451948642730713; Validation perplexity : 35.908329010009766\n"
     ]
    },
    {
     "name": "stderr",
     "output_type": "stream",
     "text": [
      "48it [00:08,  6.00it/s]\n"
     ]
    },
    {
     "name": "stdout",
     "output_type": "stream",
     "text": [
      "Finished epoch 23; Train loss : 2.6404013633728027; Train perplexity : 14.14520263671875\n",
      "Validation loss : 3.562525987625122; Validation perplexity : 36.54106903076172\n",
      "There was no improvement in validation loss for 2 epochs, thus reducing learning rate\n"
     ]
    },
    {
     "name": "stderr",
     "output_type": "stream",
     "text": [
      "48it [00:07,  6.02it/s]\n"
     ]
    },
    {
     "name": "stdout",
     "output_type": "stream",
     "text": [
      "Finished epoch 24; Train loss : 2.5884454250335693; Train perplexity : 13.4202299118042\n",
      "Validation loss : 3.5071098804473877; Validation perplexity : 34.506839752197266\n"
     ]
    },
    {
     "name": "stderr",
     "output_type": "stream",
     "text": [
      "48it [00:08,  5.99it/s]\n"
     ]
    },
    {
     "name": "stdout",
     "output_type": "stream",
     "text": [
      "Finished epoch 25; Train loss : 2.5811972618103027; Train perplexity : 13.3228120803833\n",
      "Validation loss : 3.5062243938446045; Validation perplexity : 34.473731994628906\n"
     ]
    },
    {
     "name": "stderr",
     "output_type": "stream",
     "text": [
      "48it [00:07,  6.02it/s]\n"
     ]
    },
    {
     "name": "stdout",
     "output_type": "stream",
     "text": [
      "Finished epoch 26; Train loss : 2.5759222507476807; Train perplexity : 13.25210189819336\n",
      "Validation loss : 3.5060415267944336; Validation perplexity : 34.467655181884766\n"
     ]
    },
    {
     "name": "stderr",
     "output_type": "stream",
     "text": [
      "48it [00:07,  6.00it/s]\n"
     ]
    },
    {
     "name": "stdout",
     "output_type": "stream",
     "text": [
      "Finished epoch 27; Train loss : 2.570910692214966; Train perplexity : 13.185275077819824\n",
      "Validation loss : 3.5058088302612305; Validation perplexity : 34.45990753173828\n"
     ]
    },
    {
     "name": "stderr",
     "output_type": "stream",
     "text": [
      "48it [00:08,  5.99it/s]\n"
     ]
    },
    {
     "name": "stdout",
     "output_type": "stream",
     "text": [
      "Finished epoch 28; Train loss : 2.566021203994751; Train perplexity : 13.120438575744629\n",
      "Validation loss : 3.505497694015503; Validation perplexity : 34.44955825805664\n"
     ]
    },
    {
     "name": "stderr",
     "output_type": "stream",
     "text": [
      "48it [00:07,  6.02it/s]\n"
     ]
    },
    {
     "name": "stdout",
     "output_type": "stream",
     "text": [
      "Finished epoch 29; Train loss : 2.561194658279419; Train perplexity : 13.056757926940918\n",
      "Validation loss : 3.505300283432007; Validation perplexity : 34.44346618652344\n"
     ]
    }
   ],
   "source": [
    "train_loss = []\n",
    "train_perplexity = []\n",
    "val_loss = []\n",
    "val_perplexity = []\n",
    "overfit_epochs = 0\n",
    "for epoch in range(epochs):\n",
    "    epoch_train_loss = 0\n",
    "    epoch_train_perplexity = 0\n",
    "    epoch_val_loss = 0\n",
    "    epoch_val_perplexity = 0\n",
    "    for batch_train_images, batch_train_sequences, batched_train_length, batched_train_emo in tqdm(zip(train_images,train_sequences,train_length, train_emo)):\n",
    "        batched_train_loss, batched_train_perplexity = train_step(batch_train_images,batch_train_sequences,batched_train_emo, batched_train_length, optimizer)\n",
    "        epoch_train_loss+=batched_train_loss\n",
    "        epoch_train_perplexity+=batched_train_perplexity\n",
    "    epoch_train_loss = epoch_train_loss/train_images.shape[0]\n",
    "    epoch_train_perplexity = epoch_train_perplexity/train_images.shape[0]\n",
    "    train_loss.append(epoch_train_loss)\n",
    "    train_perplexity.append(epoch_train_perplexity)\n",
    "    print('Finished epoch {}; Train loss : {}; Train perplexity : {}'.format(epoch,epoch_train_loss,epoch_train_perplexity))\n",
    "    for batch_val_images, batch_val_sequences, batched_val_length, batched_test_emo in zip(val_images,val_sequences,val_length, val_emo):\n",
    "        batched_val_loss, batched_val_perplexity = evaluate(batch_val_images, batch_val_sequences, batched_test_emo, batched_val_length, optimizer)\n",
    "        epoch_val_loss+=batched_val_loss\n",
    "        epoch_val_perplexity+=batched_val_perplexity\n",
    "    epoch_val_loss = epoch_val_loss/val_images.shape[0]\n",
    "    epoch_val_perplexity = epoch_val_perplexity/val_images.shape[0]\n",
    "    val_perplexity.append(epoch_val_perplexity)\n",
    "    val_loss.append(epoch_val_loss)\n",
    "    print('Validation loss : {}; Validation perplexity : {}'.format(epoch_val_loss,epoch_val_perplexity))\n",
    "    if len(val_loss)>=2 and val_loss[-2]<val_loss[-1]:\n",
    "        overfit_epochs+=1\n",
    "    else:\n",
    "        overfit_epochs=0\n",
    "    if overfit_epochs==patience_epochs:\n",
    "        lr_value/=reduction_power\n",
    "        optimizer.lr.assign(lr_value)\n",
    "        print('There was no improvement in validation loss for {} epochs, thus reducing learning rate'.format(patience_epochs))"
   ]
  },
  {
   "cell_type": "markdown",
   "id": "a33006d5",
   "metadata": {
    "id": "b20edf6a"
   },
   "source": [
    "# Viewing and saving results"
   ]
  },
  {
   "cell_type": "code",
   "execution_count": 62,
   "id": "9e5317d7",
   "metadata": {
    "id": "b775f40b"
   },
   "outputs": [],
   "source": [
    "df = pd.DataFrame()\n",
    "model_name = 'conv_lstm_autoenc_transfer_learning_w2v_fixed_size_attention_emotions'\n",
    "df['train_perplexity'] = [i.numpy() for i in train_perplexity]\n",
    "df['val_perplexity'] = [i.numpy() for i in val_perplexity]\n",
    "df['train_loss'] = [i.numpy() for i in train_loss]\n",
    "df['val_loss'] = [i.numpy() for i in val_loss]\n"
   ]
  },
  {
   "cell_type": "code",
   "execution_count": 63,
   "id": "314c0154",
   "metadata": {
    "id": "4bf89741"
   },
   "outputs": [],
   "source": [
    "import matplotlib.pyplot as plt\n",
    "import seaborn as sns\n",
    "sns.set()"
   ]
  },
  {
   "cell_type": "code",
   "execution_count": 64,
   "id": "df63bbd4",
   "metadata": {
    "id": "e372ef85"
   },
   "outputs": [
    {
     "data": {
      "image/png": "[encoded data removed]",
      "text/plain": [
       "<Figure size 1080x864 with 1 Axes>"
      ]
     },
     "metadata": {},
     "output_type": "display_data"
    }
   ],
   "source": [
    "plt.figure(figsize=(15,12))\n",
    "plt.title('Perplexity results')\n",
    "plt.plot(df['train_perplexity'])\n",
    "plt.plot(df['val_perplexity'])\n",
    "plt.xlabel('Epochs')\n",
    "plt.ylabel('Perplexity')\n",
    "plt.yticks(np.arange(min(df['train_perplexity']), max(df['train_perplexity'])+100,100))\n",
    "plt.legend(['Train', 'Validation']);"
   ]
  },
  {
   "cell_type": "code",
   "execution_count": 65,
   "id": "2ad3ffa7",
   "metadata": {
    "id": "1f615389",
    "outputId": "a9f1734b-8d3e-4c31-a17b-8ff7c257277e"
   },
   "outputs": [
    {
     "data": {
      "image/png": "[encoded data removed]",
      "text/plain": [
       "<Figure size 1080x864 with 1 Axes>"
      ]
     },
     "metadata": {},
     "output_type": "display_data"
    }
   ],
   "source": [
    "plt.figure(figsize=(15,12))\n",
    "plt.title('Loss results')\n",
    "plt.plot(df['train_loss'])\n",
    "plt.plot(df['val_loss'])\n",
    "plt.xlabel('Epochs')\n",
    "plt.ylabel('Loss')\n",
    "plt.yticks(np.arange(min(df['train_loss']),max(df['train_loss']),0.2))\n",
    "plt.legend(['Train', 'Validation']);"
   ]
  },
  {
   "cell_type": "markdown",
   "id": "88ee7d68",
   "metadata": {
    "id": "ad1ee3d5"
   },
   "source": [
    "# Testing model"
   ]
  },
  {
   "cell_type": "code",
   "execution_count": 66,
   "id": "daa3a0b2",
   "metadata": {
    "id": "444505ed"
   },
   "outputs": [],
   "source": [
    "import matplotlib.pyplot as plt\n",
    "import seaborn as sns"
   ]
  },
  {
   "cell_type": "code",
   "execution_count": 67,
   "id": "a3d675f4",
   "metadata": {
    "id": "aa2085b8"
   },
   "outputs": [],
   "source": [
    "class Decoder:\n",
    "    def __init__(self, encoder: tf.keras.Model,\n",
    "                 decoder: tf.keras.Model,\n",
    "                 start_token: int,\n",
    "                 end_token: int,\n",
    "                 max_len: int = None,\n",
    "                 units:int = 256):\n",
    "        self.encoder = encoder\n",
    "        self.decoder = decoder\n",
    "        self.max_len = max_len if max_len else 100\n",
    "        self.start_token = start_token\n",
    "        self.end_token = end_token\n",
    "        self.units = units\n",
    "\n",
    "    def decode(self, input):\n",
    "        pass\n",
    "\n",
    "\n",
    "class GreedyDecoder(Decoder):\n",
    "    def __init__(self, encoder: tf.keras.Model,\n",
    "                 decoder: tf.keras.Model,\n",
    "                 emo_encoder:tf.keras.Model,\n",
    "                 start_token: int,\n",
    "                 end_token: int,\n",
    "                 max_len: int = 10,\n",
    "                 units:int = 256\n",
    "                 ):\n",
    "        \n",
    "        super().__init__(encoder,\n",
    "                         decoder,\n",
    "                         start_token,\n",
    "                         end_token,\n",
    "                         max_len,\n",
    "                         units\n",
    "                         )\n",
    "        self.emo_encoder = emo_encoder\n",
    "\n",
    "    def decode(self, input, emo_feature):\n",
    "        features = self.encoder(np.expand_dims(input, axis=0))\n",
    "        emo_feature = np.expand_dims(emo_feature,axis=0)\n",
    "        hidden, state_c = self.emo_encoder(emo_feature)\n",
    "        target_seq = np.zeros((1, 1))\n",
    "        target_seq[0, 0] = self.start_token\n",
    "        res = []\n",
    "        while True:\n",
    "            # Sample a token\n",
    "            output, hidden, state_c, _ = self.decoder(target_seq,features,hidden,state_c,emo_feature)\n",
    "            sampled_token_index = np.argmax(tf.nn.softmax(output.numpy()))\n",
    "            if len(res) > self.max_len or sampled_token_index == self.end_token:\n",
    "                break\n",
    "\n",
    "            res.append(sampled_token_index)\n",
    "\n",
    "            target_seq = np.zeros((1, 1))\n",
    "            target_seq[0, 0] = sampled_token_index\n",
    "\n",
    "       \n",
    "        return res\n"
   ]
  },
  {
   "cell_type": "code",
   "execution_count": 68,
   "id": "114e5927",
   "metadata": {
    "id": "27c864a3"
   },
   "outputs": [],
   "source": [
    "class BeamSearchDecoder(Decoder):\n",
    "    def __init__(self, encoder: tf.keras.Model,\n",
    "                 decoder: tf.keras.Model,\n",
    "                  emo_encoder:tf.keras.Model,\n",
    "                 start_token: int,\n",
    "                 end_token: int,\n",
    "                 max_len: int = 10,\n",
    "                 units:int = 256\n",
    "                 ):\n",
    "        super().__init__(encoder,\n",
    "                         decoder,\n",
    "                         start_token,\n",
    "                         end_token,\n",
    "                         max_len,\n",
    "                         units\n",
    "                         )\n",
    "        self.emo_encoder = emo_encoder\n",
    "\n",
    "\n",
    "    def decode(self, input, emo_feature, beam_size=3):\n",
    "        start = [self.start_token]\n",
    "        features = self.encoder(np.expand_dims(input,axis=0))\n",
    "        emo_feature = np.expand_dims(emo_feature,axis=0)\n",
    "        hidden, state_c = self.emo_encoder(emo_feature)\n",
    "        start_word = [[start, 0.0, hidden, state_c]]\n",
    "\n",
    "        while len(start_word[0][0]) < self.max_len:\n",
    "            temp = []\n",
    "            for s in start_word:\n",
    "                target_seq = np.array([[s[0][-1]]])\n",
    "                hidden = s[-1]\n",
    "                state_c = s[-2]\n",
    "                output, hidden, state_c, _ = self.decoder(target_seq, features, hidden, state_c, emo_feature)\n",
    "                output = np.hstack(output)\n",
    "                output = tf.nn.softmax(output).numpy()\n",
    "                word_preds = np.argsort(output)[-beam_size:]\n",
    "\n",
    "                for w in word_preds:\n",
    "                    next_cap, prob = s[0][:], s[1]\n",
    "                    next_cap.append(w)\n",
    "                    prob += output[w]\n",
    "                    temp.append([next_cap, prob, hidden, state_c])\n",
    "\n",
    "            start_word = temp\n",
    "            # Sorting according to the probabilities\n",
    "            start_word = sorted(start_word, reverse=False, key=lambda l: l[1])\n",
    "            # Getting the top words\n",
    "            start_word = start_word[-beam_size:]\n",
    "\n",
    "        start_word = start_word[-1][0]\n",
    "\n",
    "        final_caption = []\n",
    "\n",
    "        for i in start_word:\n",
    "            if i != self.end_token:\n",
    "                final_caption.append(i)\n",
    "            else:\n",
    "                break\n",
    "        return final_caption[1:]"
   ]
  },
  {
   "cell_type": "code",
   "execution_count": 69,
   "id": "abaa9a36",
   "metadata": {
    "id": "a1adf0a9"
   },
   "outputs": [],
   "source": [
    "def predict(data, emo_feature, decoder, inverse_vocab,\n",
    "           beam_size=None):\n",
    "    if beam_size:\n",
    "        result = decoder.decode(data, emo_feature, beam_size=beam_size)\n",
    "    else:\n",
    "        result = decoder.decode(data, emo_feature)\n",
    "    return ' '.join([inverse_vocab[i] for i in result])"
   ]
  },
  {
   "cell_type": "code",
   "execution_count": 70,
   "id": "feb8c4bc",
   "metadata": {
    "id": "73319486"
   },
   "outputs": [],
   "source": [
    "greedy_decoder = GreedyDecoder(conv_encoder, lstm_decoder,emotion_encoder, vocab[start_token], vocab[end_token],\n",
    "             max_len=10, units=256)"
   ]
  },
  {
   "cell_type": "code",
   "execution_count": 71,
   "id": "bed41164",
   "metadata": {
    "id": "8532e4bd"
   },
   "outputs": [],
   "source": [
    "beam_decoder = BeamSearchDecoder(conv_encoder, lstm_decoder,emotion_encoder, vocab[start_token], vocab[end_token],\n",
    "             max_len=10, units=256)"
   ]
  },
  {
   "cell_type": "code",
   "execution_count": 72,
   "id": "7b38ed10",
   "metadata": {
    "id": "6f1270b6",
    "outputId": "b539b8ba-9ec6-41e6-a010-d6a51aac7daa"
   },
   "outputs": [
    {
     "data": {
      "text/plain": [
       "(3840, 224, 224, 3)"
      ]
     },
     "execution_count": 72,
     "metadata": {},
     "output_type": "execute_result"
    }
   ],
   "source": [
    "images.shape"
   ]
  },
  {
   "cell_type": "code",
   "execution_count": 73,
   "id": "3ab8dd68",
   "metadata": {
    "id": "5aef8f6f"
   },
   "outputs": [],
   "source": [
    "idx = np.random.choice(range(len(images)))\n",
    "sample = images[idx]"
   ]
  },
  {
   "cell_type": "code",
   "execution_count": 74,
   "id": "6e6b54d4",
   "metadata": {
    "id": "eab38846",
    "outputId": "cff5d836-1670-437b-fa05-37b4d1323c46"
   },
   "outputs": [
    {
     "name": "stdout",
     "output_type": "stream",
     "text": [
      "the man is happy to have a present from the woman\n"
     ]
    },
    {
     "data": {
      "image/png": "[encoded data removed]",
      "text/plain": [
       "<Figure size 576x576 with 1 Axes>"
      ]
     },
     "metadata": {},
     "output_type": "display_data"
    }
   ],
   "source": [
    "plt.figure(figsize=(8,8))\n",
    "plt.imshow(sample)\n",
    "plt.grid([])\n",
    "plt.axis('off');\n",
    "print(annotations[idx])"
   ]
  },
  {
   "cell_type": "code",
   "execution_count": 75,
   "id": "2e013632",
   "metadata": {
    "id": "73100527",
    "outputId": "9ea366c9-f621-4cee-e012-ec5dc2beaebd"
   },
   "outputs": [
    {
     "name": "stdout",
     "output_type": "stream",
     "text": [
      "WARNING:tensorflow:Layer lstm_decoder is casting an input tensor from dtype float64 to the layer's dtype of float32, which is new behavior in TensorFlow 2.  The layer has dtype float32 because its dtype defaults to floatx.\n",
      "\n",
      "If you intended to run this layer in float32, you can safely ignore this warning. If in doubt, this warning is likely only an issue if you are porting a TensorFlow 1.X model to TensorFlow 2.\n",
      "\n",
      "To change all layers to have dtype float64 by default, call `tf.keras.backend.set_floatx('float64')`. To change just this layer, pass dtype='float64' to the layer constructor. If you are the author of this layer, you can disable autocasting by passing autocast=False to the base Layer constructor.\n",
      "\n"
     ]
    },
    {
     "data": {
      "text/plain": [
       "'the man is happy man'"
      ]
     },
     "execution_count": 75,
     "metadata": {},
     "output_type": "execute_result"
    }
   ],
   "source": [
    "predict(sample, emotion_features[idx], greedy_decoder, inverse_vocab)"
   ]
  },
  {
   "cell_type": "code",
   "execution_count": 76,
   "id": "81ea2ac4",
   "metadata": {},
   "outputs": [
    {
     "data": {
      "text/plain": [
       "'woman is happy'"
      ]
     },
     "execution_count": 76,
     "metadata": {},
     "output_type": "execute_result"
    }
   ],
   "source": [
    "predict(sample,emotion_features[idx], beam_decoder, inverse_vocab, beam_size=3)"
   ]
  },
  {
   "cell_type": "code",
   "execution_count": 77,
   "id": "fb0e78d5",
   "metadata": {},
   "outputs": [
    {
     "data": {
      "text/plain": [
       "'a man and the woman'"
      ]
     },
     "execution_count": 77,
     "metadata": {},
     "output_type": "execute_result"
    }
   ],
   "source": [
    "predict(sample,emotion_features[idx], beam_decoder, inverse_vocab, beam_size=5)"
   ]
  },
  {
   "cell_type": "code",
   "execution_count": 78,
   "id": "4b2a940e",
   "metadata": {},
   "outputs": [
    {
     "data": {
      "text/plain": [
       "'a man and the woman'"
      ]
     },
     "execution_count": 78,
     "metadata": {},
     "output_type": "execute_result"
    }
   ],
   "source": [
    "predict(sample,emotion_features[idx], beam_decoder, inverse_vocab, beam_size=7)"
   ]
  },
  {
   "cell_type": "code",
   "execution_count": 79,
   "id": "edced532",
   "metadata": {
    "id": "687f2739",
    "outputId": "deb0509a-c3f9-4ba6-95a7-e3fd80bdef93"
   },
   "outputs": [
    {
     "data": {
      "text/plain": [
       "'happy couple is trying to somebody'"
      ]
     },
     "execution_count": 79,
     "metadata": {},
     "output_type": "execute_result"
    }
   ],
   "source": [
    "predict(sample,emotion_features[idx], beam_decoder, inverse_vocab, beam_size=10)"
   ]
  },
  {
   "cell_type": "markdown",
   "id": "b6d0e224",
   "metadata": {
    "id": "df35cb03"
   },
   "source": [
    "# Blue score calculation"
   ]
  },
  {
   "cell_type": "code",
   "execution_count": 80,
   "id": "861e0a9a",
   "metadata": {
    "id": "32df0196"
   },
   "outputs": [],
   "source": [
    "from nltk.translate.bleu_score import sentence_bleu\n"
   ]
  },
  {
   "cell_type": "markdown",
   "id": "92b561ed",
   "metadata": {
    "id": "0ab649e9"
   },
   "source": [
    "### making predictions on test dataset with beam_size of 5"
   ]
  },
  {
   "cell_type": "code",
   "execution_count": 81,
   "id": "fa600418",
   "metadata": {
    "id": "c58e0513",
    "outputId": "cd586145-cdf4-4c04-8724-fa154eb17c70"
   },
   "outputs": [
    {
     "name": "stderr",
     "output_type": "stream",
     "text": [
      "6it [04:45, 47.55s/it]\n"
     ]
    }
   ],
   "source": [
    "test_predictions = []\n",
    "for batch_image, batch_emo in tqdm(zip(test_images, test_emo)):\n",
    "    for image, emo in zip(batch_image, batch_emo):\n",
    "        result = predict(image, emo, beam_decoder, inverse_vocab, beam_size=5)\n",
    "        test_predictions.append(result)"
   ]
  },
  {
   "cell_type": "code",
   "execution_count": 82,
   "id": "f9ef6db9",
   "metadata": {
    "id": "d5b3a561"
   },
   "outputs": [],
   "source": [
    "test_predictions = [i.split(' ') for i in test_predictions]"
   ]
  },
  {
   "cell_type": "code",
   "execution_count": 83,
   "id": "7c0fedd4",
   "metadata": {
    "id": "321a7d79"
   },
   "outputs": [],
   "source": [
    "reshaped_sequences = test_sequences.reshape(test_sequences.shape[0]*test_sequences.shape[1],-1)"
   ]
  },
  {
   "cell_type": "code",
   "execution_count": 84,
   "id": "a01ca9f7",
   "metadata": {
    "id": "f08b271c"
   },
   "outputs": [],
   "source": [
    "test_sentences = []\n",
    "for i in reshaped_sequences:\n",
    "    tmp = []\n",
    "    for word in i:\n",
    "        if word!=0 and word!=1 and word!=2:\n",
    "            tmp.append(inverse_vocab[word])\n",
    "    test_sentences.append(tmp)"
   ]
  },
  {
   "cell_type": "code",
   "execution_count": 85,
   "id": "d3aab1cf",
   "metadata": {
    "id": "d59c5885",
    "outputId": "ef47af55-ff52-46c5-eca2-b29eb57e0773"
   },
   "outputs": [
    {
     "name": "stdout",
     "output_type": "stream",
     "text": [
      "Overall bleu score on test data : 0.0031381770931438566\n"
     ]
    },
    {
     "name": "stderr",
     "output_type": "stream",
     "text": [
      "/home/ec2-user/anaconda3/envs/amazonei_tensorflow2_p36/lib/python3.6/site-packages/nltk/translate/bleu_score.py:523: UserWarning: \n",
      "The hypothesis contains 0 counts of 2-gram overlaps.\n",
      "Therefore the BLEU score evaluates to 0, independently of\n",
      "how many N-gram overlaps of lower order it contains.\n",
      "Consider using lower n-gram order or use SmoothingFunction()\n",
      "  warnings.warn(_msg)\n",
      "/home/ec2-user/anaconda3/envs/amazonei_tensorflow2_p36/lib/python3.6/site-packages/nltk/translate/bleu_score.py:523: UserWarning: \n",
      "The hypothesis contains 0 counts of 3-gram overlaps.\n",
      "Therefore the BLEU score evaluates to 0, independently of\n",
      "how many N-gram overlaps of lower order it contains.\n",
      "Consider using lower n-gram order or use SmoothingFunction()\n",
      "  warnings.warn(_msg)\n",
      "/home/ec2-user/anaconda3/envs/amazonei_tensorflow2_p36/lib/python3.6/site-packages/nltk/translate/bleu_score.py:523: UserWarning: \n",
      "The hypothesis contains 0 counts of 4-gram overlaps.\n",
      "Therefore the BLEU score evaluates to 0, independently of\n",
      "how many N-gram overlaps of lower order it contains.\n",
      "Consider using lower n-gram order or use SmoothingFunction()\n",
      "  warnings.warn(_msg)\n"
     ]
    }
   ],
   "source": [
    "bleu_score = []\n",
    "for reference, prediction in zip(test_sentences, test_predictions):\n",
    "    bleu_score.append(sentence_bleu([reference], prediction))\n",
    "print('Overall bleu score on test data : {}'.format(np.mean(bleu_score)))\n",
    "df['overall_bleu'] = np.mean(bleu_score)*100"
   ]
  },
  {
   "cell_type": "code",
   "execution_count": 86,
   "id": "32aea9a0",
   "metadata": {},
   "outputs": [
    {
     "name": "stdout",
     "output_type": "stream",
     "text": [
      "Bleu score on test data for n-gram = 1 : 0.1614484601137922\n"
     ]
    }
   ],
   "source": [
    "bleu_score = []\n",
    "for reference, prediction in zip(test_sentences, test_predictions):\n",
    "    bleu_score.append(sentence_bleu([reference], prediction, weights=(1,)))\n",
    "print('Bleu score on test data for n-gram = 1 : {}'.format(np.mean(bleu_score)))\n",
    "df['n1_bleu'] = np.mean(bleu_score)*100"
   ]
  },
  {
   "cell_type": "code",
   "execution_count": 87,
   "id": "a005ed5c",
   "metadata": {},
   "outputs": [
    {
     "name": "stdout",
     "output_type": "stream",
     "text": [
      "Bleu score on test data for n-gram = 2 : 0.03989422418868759\n"
     ]
    }
   ],
   "source": [
    "bleu_score = []\n",
    "for reference, prediction in zip(test_sentences, test_predictions):\n",
    "    bleu_score.append(sentence_bleu([reference], prediction, weights=(0,1)))\n",
    "print('Bleu score on test data for n-gram = 2 : {}'.format(np.mean(bleu_score)))\n",
    "df['n2_bleu'] = np.mean(bleu_score)*100"
   ]
  },
  {
   "cell_type": "code",
   "execution_count": 88,
   "id": "a4dcd90d",
   "metadata": {},
   "outputs": [
    {
     "name": "stdout",
     "output_type": "stream",
     "text": [
      "Bleu score on test data for n-gram = 3 : 0.009307248036093813\n"
     ]
    }
   ],
   "source": [
    "bleu_score = []\n",
    "for reference, prediction in zip(test_sentences, test_predictions):\n",
    "    bleu_score.append(sentence_bleu([reference], prediction, weights=(0,0,1)))\n",
    "print('Bleu score on test data for n-gram = 3 : {}'.format(np.mean(bleu_score)))\n",
    "df['n3_bleu'] = np.mean(bleu_score)*100"
   ]
  },
  {
   "cell_type": "code",
   "execution_count": 89,
   "id": "6bf78c06",
   "metadata": {},
   "outputs": [
    {
     "name": "stdout",
     "output_type": "stream",
     "text": [
      "Bleu score on test data for n-gram = 4 : 0.002109259412334341\n"
     ]
    }
   ],
   "source": [
    "bleu_score = []\n",
    "for reference, prediction in zip(test_sentences, test_predictions):\n",
    "    bleu_score.append(sentence_bleu([reference], prediction, weights=(0,0,0,1)))\n",
    "print('Bleu score on test data for n-gram = 4 : {}'.format(np.mean(bleu_score)))\n",
    "df['n4_bleu'] = np.mean(bleu_score)*100"
   ]
  },
  {
   "cell_type": "code",
   "execution_count": 90,
   "id": "b00f2d81",
   "metadata": {},
   "outputs": [
    {
     "name": "stdout",
     "output_type": "stream",
     "text": [
      "Acuumulated bleu score on test data for n-gram = 4 : 0.0031381770931438566\n"
     ]
    }
   ],
   "source": [
    "bleu_score = []\n",
    "for reference, prediction in zip(test_sentences, test_predictions):\n",
    "    bleu_score.append(sentence_bleu([reference], prediction, weights=(0.25,0.25,0.25,0.25)))\n",
    "print('Acuumulated bleu score on test data for n-gram = 4 : {}'.format(np.mean(bleu_score)))\n",
    "df['acc_bleu'] = np.mean(bleu_score)*100"
   ]
  },
  {
   "cell_type": "code",
   "execution_count": 91,
   "id": "0f19bdce",
   "metadata": {},
   "outputs": [
    {
     "data": {
      "text/html": [
       "<div>\n",
       "<style scoped>\n",
       "    .dataframe tbody tr th:only-of-type {\n",
       "        vertical-align: middle;\n",
       "    }\n",
       "\n",
       "    .dataframe tbody tr th {\n",
       "        vertical-align: top;\n",
       "    }\n",
       "\n",
       "    .dataframe thead th {\n",
       "        text-align: right;\n",
       "    }\n",
       "</style>\n",
       "<table border=\"1\" class=\"dataframe\">\n",
       "  <thead>\n",
       "    <tr style=\"text-align: right;\">\n",
       "      <th></th>\n",
       "      <th>train_perplexity</th>\n",
       "      <th>val_perplexity</th>\n",
       "      <th>train_loss</th>\n",
       "      <th>val_loss</th>\n",
       "      <th>overall_bleu</th>\n",
       "      <th>n1_bleu</th>\n",
       "      <th>n2_bleu</th>\n",
       "      <th>n3_bleu</th>\n",
       "      <th>n4_bleu</th>\n",
       "      <th>acc_bleu</th>\n",
       "    </tr>\n",
       "  </thead>\n",
       "  <tbody>\n",
       "    <tr>\n",
       "      <th>0</th>\n",
       "      <td>1767.685181</td>\n",
       "      <td>369.520264</td>\n",
       "      <td>7.070356</td>\n",
       "      <td>5.901597</td>\n",
       "      <td>0.313818</td>\n",
       "      <td>16.144846</td>\n",
       "      <td>3.989422</td>\n",
       "      <td>0.930725</td>\n",
       "      <td>0.210926</td>\n",
       "      <td>0.313818</td>\n",
       "    </tr>\n",
       "    <tr>\n",
       "      <th>1</th>\n",
       "      <td>239.487930</td>\n",
       "      <td>188.311844</td>\n",
       "      <td>5.455283</td>\n",
       "      <td>5.228837</td>\n",
       "      <td>0.313818</td>\n",
       "      <td>16.144846</td>\n",
       "      <td>3.989422</td>\n",
       "      <td>0.930725</td>\n",
       "      <td>0.210926</td>\n",
       "      <td>0.313818</td>\n",
       "    </tr>\n",
       "    <tr>\n",
       "      <th>2</th>\n",
       "      <td>139.062195</td>\n",
       "      <td>126.350128</td>\n",
       "      <td>4.918461</td>\n",
       "      <td>4.829615</td>\n",
       "      <td>0.313818</td>\n",
       "      <td>16.144846</td>\n",
       "      <td>3.989422</td>\n",
       "      <td>0.930725</td>\n",
       "      <td>0.210926</td>\n",
       "      <td>0.313818</td>\n",
       "    </tr>\n",
       "    <tr>\n",
       "      <th>3</th>\n",
       "      <td>94.953835</td>\n",
       "      <td>95.634651</td>\n",
       "      <td>4.538343</td>\n",
       "      <td>4.548918</td>\n",
       "      <td>0.313818</td>\n",
       "      <td>16.144846</td>\n",
       "      <td>3.989422</td>\n",
       "      <td>0.930725</td>\n",
       "      <td>0.210926</td>\n",
       "      <td>0.313818</td>\n",
       "    </tr>\n",
       "    <tr>\n",
       "      <th>4</th>\n",
       "      <td>71.269806</td>\n",
       "      <td>77.032959</td>\n",
       "      <td>4.251557</td>\n",
       "      <td>4.329536</td>\n",
       "      <td>0.313818</td>\n",
       "      <td>16.144846</td>\n",
       "      <td>3.989422</td>\n",
       "      <td>0.930725</td>\n",
       "      <td>0.210926</td>\n",
       "      <td>0.313818</td>\n",
       "    </tr>\n",
       "  </tbody>\n",
       "</table>\n",
       "</div>"
      ],
      "text/plain": [
       "   train_perplexity  val_perplexity  train_loss  val_loss  overall_bleu  \\\n",
       "0       1767.685181      369.520264    7.070356  5.901597      0.313818   \n",
       "1        239.487930      188.311844    5.455283  5.228837      0.313818   \n",
       "2        139.062195      126.350128    4.918461  4.829615      0.313818   \n",
       "3         94.953835       95.634651    4.538343  4.548918      0.313818   \n",
       "4         71.269806       77.032959    4.251557  4.329536      0.313818   \n",
       "\n",
       "     n1_bleu   n2_bleu   n3_bleu   n4_bleu  acc_bleu  \n",
       "0  16.144846  3.989422  0.930725  0.210926  0.313818  \n",
       "1  16.144846  3.989422  0.930725  0.210926  0.313818  \n",
       "2  16.144846  3.989422  0.930725  0.210926  0.313818  \n",
       "3  16.144846  3.989422  0.930725  0.210926  0.313818  \n",
       "4  16.144846  3.989422  0.930725  0.210926  0.313818  "
      ]
     },
     "execution_count": 91,
     "metadata": {},
     "output_type": "execute_result"
    }
   ],
   "source": [
    "df.head()"
   ]
  },
  {
   "cell_type": "code",
   "execution_count": 92,
   "id": "dc24156a",
   "metadata": {},
   "outputs": [],
   "source": [
    "df.to_csv('{}_logs.csv'.format(model_name),index=False)"
   ]
  },
  {
   "cell_type": "code",
   "execution_count": 93,
   "id": "441ca3a5",
   "metadata": {},
   "outputs": [],
   "source": [
    "conv_encoder.save_weights('{}_encoder.h5'.format(model_name))"
   ]
  },
  {
   "cell_type": "code",
   "execution_count": 94,
   "id": "db8be535",
   "metadata": {},
   "outputs": [],
   "source": [
    "lstm_decoder.save_weights('{}_decoder.h5'.format(model_name))"
   ]
  },
  {
   "cell_type": "code",
   "execution_count": null,
   "id": "e34d05ff",
   "metadata": {},
   "outputs": [],
   "source": []
  },
  {
   "cell_type": "code",
   "execution_count": null,
   "id": "dac6e049",
   "metadata": {},
   "outputs": [],
   "source": []
  }
 ],
 "metadata": {
  "colab": {
   "name": "conv_lstm_caption_full_transfer_learning_enc_dec.ipynb",
   "provenance": []
  },
  "kernelspec": {
   "display_name": "conda_amazonei_tensorflow2_p36",
   "language": "python",
   "name": "conda_amazonei_tensorflow2_p36"
  },
  "language_info": {
   "codemirror_mode": {
    "name": "ipython",
    "version": 3
   },
   "file_extension": ".py",
   "mimetype": "text/x-python",
   "name": "python",
   "nbconvert_exporter": "python",
   "pygments_lexer": "ipython3",
   "version": "3.6.13"
  }
 },
 "nbformat": 4,
 "nbformat_minor": 5
}
