{
 "cells": [
  {
   "cell_type": "code",
   "execution_count": 1,
   "metadata": {},
   "outputs": [],
   "source": [
    "import tensorflow as tf"
   ]
  },
  {
   "cell_type": "code",
   "execution_count": 2,
   "metadata": {},
   "outputs": [],
   "source": [
    "import pandas as pd\n",
    "import os\n",
    "import numpy as np\n",
    "from keras_preprocessing import image as im\n",
    "tf.random.set_seed(\n",
    "    5\n",
    ")"
   ]
  },
  {
   "cell_type": "markdown",
   "metadata": {},
   "source": [
    "# Loading data"
   ]
  },
  {
   "cell_type": "code",
   "execution_count": 3,
   "metadata": {},
   "outputs": [],
   "source": [
    "def load_data(image_path, annotations_path):\n",
    "    df = pd.read_csv(annotations_path)\n",
    "    df = df[~df['human_sentiment'].isna()]\n",
    "    in_folder = os.listdir(image_path)\n",
    "    df.loc[df['image_name'].isin(in_folder), 'image_name'] = \\\n",
    "    df.loc[df['image_name'].isin(in_folder), 'image_name'].apply(lambda x: os.path.join(image_path,x))\n",
    "    images = []\n",
    "    for image_name in df['image_name'].values:\n",
    "        images.append(np.array(im.load_img(image_name, target_size=(224,224))))\n",
    "    images = np.array(images)\n",
    "    images = images/255\n",
    "    annotations = df['annotation'].str.lower().values\n",
    "    return images, annotations"
   ]
  },
  {
   "cell_type": "code",
   "execution_count": 4,
   "metadata": {},
   "outputs": [],
   "source": [
    "images, annotations = load_data(\"../../../data/emo-at-cap/images/\", '../../../data/emo-at-cap/emo-at-cap.csv')"
   ]
  },
  {
   "cell_type": "markdown",
   "metadata": {},
   "source": [
    "# Building autoencoder"
   ]
  },
  {
   "cell_type": "code",
   "execution_count": 5,
   "metadata": {},
   "outputs": [],
   "source": [
    "from tensorflow.keras import layers as L\n",
    "from tensorflow.keras import backend as K\n"
   ]
  },
  {
   "cell_type": "code",
   "execution_count": 6,
   "metadata": {},
   "outputs": [],
   "source": [
    "def create_encoder(input_shape,code_size, use_dropout=True):\n",
    "        encoder = tf.keras.models.Sequential(name='encoder')\n",
    "        encoder.add(L.InputLayer(input_shape))\n",
    "        if use_dropout:\n",
    "            encoder.add(L.Dropout(0.3))\n",
    "        encoder.add(L.Conv2D(filters=32,kernel_size=(3,3),padding='same',activation='elu'))\n",
    "        encoder.add(L.MaxPool2D())\n",
    "        encoder.add(L.Conv2D(filters=64,kernel_size=(3,3),padding='same',activation='elu'))\n",
    "        encoder.add(L.MaxPool2D())\n",
    "        encoder.add(L.Conv2D(filters=128,kernel_size=(3,3),padding='same',activation='elu'))\n",
    "        encoder.add(L.MaxPool2D())\n",
    "        encoder.add(L.Conv2D(filters=256,kernel_size=(3,3),padding='same',activation='elu'))\n",
    "        encoder.add(L.MaxPool2D())\n",
    "        encoder.add(L.Conv2D(filters=512,kernel_size=(3,3),padding='same',activation='elu'))\n",
    "        encoder.add(L.MaxPool2D())\n",
    "        encoder.add(L.Flatten())\n",
    "        encoder.add(L.Dense(units=code_size,activation='elu'))\n",
    "        return encoder \n",
    "    \n",
    "def create_decoder(code_size):\n",
    "        decoder = tf.keras.models.Sequential(name='decoder')\n",
    "        decoder.add(L.InputLayer((code_size,)))\n",
    "        decoder.add(L.Dense(3*3*512,activation='elu'))\n",
    "        decoder.add(L.Reshape(target_shape=(3,3,512)))\n",
    "        decoder.add(L.Conv2DTranspose(filters=512, kernel_size=(3, 3), strides=2, activation='elu', padding='valid'))\n",
    "        decoder.add(L.Conv2DTranspose(filters=256, kernel_size=(3, 3), strides=2, activation='elu', padding='same'))\n",
    "        decoder.add(L.Conv2DTranspose(filters=128, kernel_size=(3, 3), strides=2, activation='elu', padding='same'))\n",
    "        decoder.add(L.Conv2DTranspose(filters=64, kernel_size=(3, 3), strides=2, activation='elu', padding='same'))\n",
    "        decoder.add(L.Conv2DTranspose(filters=32, kernel_size=(3, 3), strides=2, activation='elu', padding='same'))\n",
    "        decoder.add(L.Conv2DTranspose(filters=3, kernel_size=(3, 3), strides=2, activation='relu', padding='same'))\n",
    "        return decoder\n",
    "    \n",
    "def build_model(input_shape,code_size, use_dropout=True,\n",
    "               print_summary=True,encoder_weights=None,\n",
    "               decoder_weights=None):\n",
    "    K.clear_session()\n",
    "    encoder = create_encoder(input_shape,code_size,use_dropout)\n",
    "    if encoder_weights:\n",
    "        encoder.load_weights(encoder_weights)\n",
    "    decoder = create_decoder(code_size)\n",
    "    if decoder_weights:\n",
    "        decoder.load_weights(decoder_weights)\n",
    "    inp = L.Input(original_dim)\n",
    "    code = encoder(inp)\n",
    "    reconstruction = decoder(code)\n",
    "    autoencoder = tf.keras.models.Model(inputs=inp, outputs=reconstruction)\n",
    "    autoencoder.compile(optimizer=\"adamax\", loss='mse')\n",
    "    if print_summary:\n",
    "        print(autoencoder.summary())\n",
    "    return autoencoder,encoder,decoder"
   ]
  },
  {
   "cell_type": "code",
   "execution_count": 7,
   "metadata": {},
   "outputs": [],
   "source": [
    "batch_size = 128\n",
    "original_dim = (224,224,3)\n",
    "code_size = 128\n",
    "epochs = 10\n",
    "use_dropout=False"
   ]
  },
  {
   "cell_type": "code",
   "execution_count": 8,
   "metadata": {},
   "outputs": [
    {
     "name": "stdout",
     "output_type": "stream",
     "text": [
      "Model: \"functional_1\"\n",
      "_________________________________________________________________\n",
      "Layer (type)                 Output Shape              Param #   \n",
      "=================================================================\n",
      "input_3 (InputLayer)         [(None, 224, 224, 3)]     0         \n",
      "_________________________________________________________________\n",
      "encoder (Sequential)         (None, 128)               4779968   \n",
      "_________________________________________________________________\n",
      "decoder (Sequential)         (None, 224, 224, 3)       4522307   \n",
      "=================================================================\n",
      "Total params: 9,302,275\n",
      "Trainable params: 9,302,275\n",
      "Non-trainable params: 0\n",
      "_________________________________________________________________\n",
      "None\n"
     ]
    }
   ],
   "source": [
    "autoencoder, encoder, decoder = build_model(original_dim, code_size, use_dropout)"
   ]
  },
  {
   "cell_type": "code",
   "execution_count": 9,
   "metadata": {},
   "outputs": [
    {
     "name": "stdout",
     "output_type": "stream",
     "text": [
      "Model: \"encoder\"\n",
      "_________________________________________________________________\n",
      "Layer (type)                 Output Shape              Param #   \n",
      "=================================================================\n",
      "conv2d (Conv2D)              (None, 224, 224, 32)      896       \n",
      "_________________________________________________________________\n",
      "max_pooling2d (MaxPooling2D) (None, 112, 112, 32)      0         \n",
      "_________________________________________________________________\n",
      "conv2d_1 (Conv2D)            (None, 112, 112, 64)      18496     \n",
      "_________________________________________________________________\n",
      "max_pooling2d_1 (MaxPooling2 (None, 56, 56, 64)        0         \n",
      "_________________________________________________________________\n",
      "conv2d_2 (Conv2D)            (None, 56, 56, 128)       73856     \n",
      "_________________________________________________________________\n",
      "max_pooling2d_2 (MaxPooling2 (None, 28, 28, 128)       0         \n",
      "_________________________________________________________________\n",
      "conv2d_3 (Conv2D)            (None, 28, 28, 256)       295168    \n",
      "_________________________________________________________________\n",
      "max_pooling2d_3 (MaxPooling2 (None, 14, 14, 256)       0         \n",
      "_________________________________________________________________\n",
      "conv2d_4 (Conv2D)            (None, 14, 14, 512)       1180160   \n",
      "_________________________________________________________________\n",
      "max_pooling2d_4 (MaxPooling2 (None, 7, 7, 512)         0         \n",
      "_________________________________________________________________\n",
      "flatten (Flatten)            (None, 25088)             0         \n",
      "_________________________________________________________________\n",
      "dense (Dense)                (None, 128)               3211392   \n",
      "=================================================================\n",
      "Total params: 4,779,968\n",
      "Trainable params: 4,779,968\n",
      "Non-trainable params: 0\n",
      "_________________________________________________________________\n"
     ]
    }
   ],
   "source": [
    "encoder.summary()"
   ]
  },
  {
   "cell_type": "code",
   "execution_count": 10,
   "metadata": {},
   "outputs": [
    {
     "name": "stdout",
     "output_type": "stream",
     "text": [
      "Model: \"decoder\"\n",
      "_________________________________________________________________\n",
      "Layer (type)                 Output Shape              Param #   \n",
      "=================================================================\n",
      "dense_1 (Dense)              (None, 4608)              594432    \n",
      "_________________________________________________________________\n",
      "reshape (Reshape)            (None, 3, 3, 512)         0         \n",
      "_________________________________________________________________\n",
      "conv2d_transpose (Conv2DTran (None, 7, 7, 512)         2359808   \n",
      "_________________________________________________________________\n",
      "conv2d_transpose_1 (Conv2DTr (None, 14, 14, 256)       1179904   \n",
      "_________________________________________________________________\n",
      "conv2d_transpose_2 (Conv2DTr (None, 28, 28, 128)       295040    \n",
      "_________________________________________________________________\n",
      "conv2d_transpose_3 (Conv2DTr (None, 56, 56, 64)        73792     \n",
      "_________________________________________________________________\n",
      "conv2d_transpose_4 (Conv2DTr (None, 112, 112, 32)      18464     \n",
      "_________________________________________________________________\n",
      "conv2d_transpose_5 (Conv2DTr (None, 224, 224, 3)       867       \n",
      "=================================================================\n",
      "Total params: 4,522,307\n",
      "Trainable params: 4,522,307\n",
      "Non-trainable params: 0\n",
      "_________________________________________________________________\n"
     ]
    }
   ],
   "source": [
    "decoder.summary()"
   ]
  },
  {
   "cell_type": "markdown",
   "metadata": {},
   "source": [
    "# Training"
   ]
  },
  {
   "cell_type": "code",
   "execution_count": 11,
   "metadata": {},
   "outputs": [
    {
     "data": {
      "text/plain": [
       "(3840, 224, 224, 3)"
      ]
     },
     "execution_count": 11,
     "metadata": {},
     "output_type": "execute_result"
    }
   ],
   "source": [
    "images.shape"
   ]
  },
  {
   "cell_type": "code",
   "execution_count": null,
   "metadata": {},
   "outputs": [],
   "source": [
    "history = autoencoder.fit(x=images,y=images, epochs=epochs, batch_size=batch_size, validation_split=0.1, shuffle=False)"
   ]
  },
  {
   "cell_type": "markdown",
   "metadata": {},
   "source": [
    "# Validating features"
   ]
  },
  {
   "cell_type": "code",
   "execution_count": null,
   "metadata": {},
   "outputs": [],
   "source": [
    "model = tf.keras.Model(inputs=encoder.inputs, outputs=encoder.layers[-4].output)\n",
    "print(model.summary())"
   ]
  },
  {
   "cell_type": "code",
   "execution_count": null,
   "metadata": {},
   "outputs": [],
   "source": [
    "import matplotlib.pyplot as plt\n",
    "import numpy as np\n",
    "import seaborn as sns\n",
    "sns.set()"
   ]
  },
  {
   "cell_type": "code",
   "execution_count": null,
   "metadata": {},
   "outputs": [],
   "source": [
    "img = images[np.random.choice(images.shape[0])]\n",
    "plt.imshow(img)\n",
    "feature_maps = model.predict(np.expand_dims(img,axis=0))\n",
    "square = 8\n",
    "ix = 1\n",
    "plt.figure(figsize=(15,12))\n",
    "for _ in range(square):\n",
    "    for _ in range(square):\n",
    "        ax = plt.subplot(square, square, ix)\n",
    "        ax.set_xticks([])\n",
    "        ax.set_yticks([])\n",
    "        plt.imshow(feature_maps[0, :, :, ix-1], cmap='magma')\n",
    "        ix += 1\n",
    "plt.show()"
   ]
  },
  {
   "cell_type": "markdown",
   "metadata": {},
   "source": [
    "# Saving model"
   ]
  },
  {
   "cell_type": "code",
   "execution_count": null,
   "metadata": {},
   "outputs": [],
   "source": [
    "encoder.save('encoder.h5')"
   ]
  },
  {
   "cell_type": "code",
   "execution_count": null,
   "metadata": {},
   "outputs": [],
   "source": []
  }
 ],
 "metadata": {
  "kernelspec": {
   "display_name": "Python 3",
   "language": "python",
   "name": "python3"
  },
  "language_info": {
   "codemirror_mode": {
    "name": "ipython",
    "version": 3
   },
   "file_extension": ".py",
   "mimetype": "text/x-python",
   "name": "python",
   "nbconvert_exporter": "python",
   "pygments_lexer": "ipython3",
   "version": "3.7.5"
  }
 },
 "nbformat": 4,
 "nbformat_minor": 5
}
