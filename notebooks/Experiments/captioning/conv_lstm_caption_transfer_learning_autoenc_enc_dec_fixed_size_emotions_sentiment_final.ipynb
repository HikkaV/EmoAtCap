{
 "cells": [
  {
   "cell_type": "code",
   "execution_count": 1,
   "id": "1723ef0a",
   "metadata": {
    "id": "e2d397db"
   },
   "outputs": [],
   "source": [
    "import tensorflow as tf"
   ]
  },
  {
   "cell_type": "code",
   "execution_count": 2,
   "id": "47767e7e",
   "metadata": {
    "id": "9964723c"
   },
   "outputs": [],
   "source": [
    "import pandas as pd\n",
    "import os\n",
    "import numpy as np\n",
    "from sklearn.utils import class_weight\n",
    "from keras_preprocessing import image as im\n",
    "tf.random.set_seed(\n",
    "    5\n",
    ")"
   ]
  },
  {
   "cell_type": "markdown",
   "id": "3abadf4b",
   "metadata": {
    "id": "8ce21b4a"
   },
   "source": [
    "# Loading data"
   ]
  },
  {
   "cell_type": "code",
   "execution_count": 3,
   "id": "03a4d0fe",
   "metadata": {
    "id": "214a30af"
   },
   "outputs": [],
   "source": [
    "def load_data(image_path, annotations_path):\n",
    "    df = pd.read_csv(annotations_path)\n",
    "    df = df[~df['human_sentiment'].isna()]\n",
    "    in_folder = os.listdir(image_path)\n",
    "    df.loc[df['image_name'].isin(in_folder), 'image_name'] = \\\n",
    "    df.loc[df['image_name'].isin(in_folder), 'image_name'].apply(lambda x: os.path.join(image_path,x))\n",
    "    images = []\n",
    "    for image_name in df['image_name'].values:\n",
    "        images.append(np.array(im.load_img(image_name, target_size=(224,224))))\n",
    "    images = np.array(images)\n",
    "    images = images/255\n",
    "    annotations = df['annotation'].str.lower().values\n",
    "    return images, annotations, df"
   ]
  },
  {
   "cell_type": "code",
   "execution_count": 4,
   "id": "01fa9639",
   "metadata": {
    "id": "e483de83"
   },
   "outputs": [],
   "source": [
    "images, annotations, df = load_data(\"../../../../images/\", '../../../../emo-at-cap.csv')"
   ]
  },
  {
   "cell_type": "code",
   "execution_count": 5,
   "id": "4224db2c",
   "metadata": {},
   "outputs": [],
   "source": [
    "import pickle\n",
    "with open('emotion_features.pl', 'rb') as f:\n",
    "    emotion_features = pickle.load(f)"
   ]
  },
  {
   "cell_type": "code",
   "execution_count": 6,
   "id": "2fa8ca6f",
   "metadata": {},
   "outputs": [],
   "source": [
    "sentiment = df['sentiment'].values"
   ]
  },
  {
   "cell_type": "markdown",
   "id": "a9adb583",
   "metadata": {
    "id": "3cb1f9e8"
   },
   "source": [
    "# Processing of data"
   ]
  },
  {
   "cell_type": "code",
   "execution_count": 7,
   "id": "4c9070e6",
   "metadata": {
    "id": "4ba97451"
   },
   "outputs": [],
   "source": [
    "import nltk"
   ]
  },
  {
   "cell_type": "code",
   "execution_count": 8,
   "id": "32f86a04",
   "metadata": {
    "id": "3898996e"
   },
   "outputs": [],
   "source": [
    "tokenizer = nltk.tokenize.WordPunctTokenizer()"
   ]
  },
  {
   "cell_type": "code",
   "execution_count": 9,
   "id": "335e2e62",
   "metadata": {},
   "outputs": [],
   "source": [
    "from sklearn.preprocessing import OneHotEncoder"
   ]
  },
  {
   "cell_type": "code",
   "execution_count": 10,
   "id": "639326cb",
   "metadata": {},
   "outputs": [],
   "source": [
    "one_hot_enc = OneHotEncoder()\n",
    "sentiment = one_hot_enc.fit_transform(sentiment.reshape(-1,1))"
   ]
  },
  {
   "cell_type": "code",
   "execution_count": 11,
   "id": "499d573d",
   "metadata": {
    "id": "b568172f"
   },
   "outputs": [],
   "source": [
    "tokenized = [tokenizer.tokenize(i) for i in annotations]"
   ]
  },
  {
   "cell_type": "code",
   "execution_count": 12,
   "id": "efdb754b",
   "metadata": {
    "id": "e1021302"
   },
   "outputs": [],
   "source": [
    "unique_tokens, unique_counts = np.unique(np.hstack(tokenized), return_counts=True)"
   ]
  },
  {
   "cell_type": "code",
   "execution_count": 13,
   "id": "50ceb65f",
   "metadata": {
    "id": "7eaea268",
    "outputId": "9d0d2069-1025-47e1-e098-24715fb6ec45"
   },
   "outputs": [
    {
     "name": "stderr",
     "output_type": "stream",
     "text": [
      "/home/ec2-user/anaconda3/envs/amazonei_tensorflow2_p36/lib/python3.6/site-packages/sklearn/utils/validation.py:72: FutureWarning: Pass classes=[\"'\" ',' '-' ... 'youth' 'исходный' 'текст'], y=['the' 'man' 'is' ... 'with' 'some' 'clothes'] as keyword args. From version 1.0 (renaming of 0.25) passing these as positional arguments will result in an error\n",
      "  \"will result in an error\", FutureWarning)\n"
     ]
    }
   ],
   "source": [
    "class_weights = class_weight.compute_class_weight('balanced', np.unique(np.hstack(tokenized)), np.hstack(tokenized))"
   ]
  },
  {
   "cell_type": "code",
   "execution_count": 14,
   "id": "f6324cbf",
   "metadata": {
    "id": "eb8ef5f2"
   },
   "outputs": [],
   "source": [
    "frequency = sorted(list(zip(unique_tokens, unique_counts)), key = lambda x: x[1])[::-1][:50]"
   ]
  },
  {
   "cell_type": "code",
   "execution_count": 15,
   "id": "3cdc873a",
   "metadata": {
    "id": "f3f16b78",
    "outputId": "7ba159bf-6ea6-4ee2-bd5c-7ed65db04f20"
   },
   "outputs": [
    {
     "data": {
      "text/plain": [
       "[('the', 3261),\n",
       " ('is', 2031),\n",
       " ('man', 1905),\n",
       " ('and', 1536),\n",
       " ('woman', 1361),\n",
       " ('are', 1036),\n",
       " ('a', 963),\n",
       " ('to', 891),\n",
       " ('looks', 751),\n",
       " ('happy', 705),\n",
       " ('with', 547),\n",
       " ('something', 480),\n",
       " ('men', 478),\n",
       " ('of', 463),\n",
       " ('two', 408),\n",
       " ('other', 361),\n",
       " ('people', 343),\n",
       " ('couple', 334),\n",
       " (',', 330),\n",
       " ('in', 278),\n",
       " ('look', 270),\n",
       " ('because', 265),\n",
       " ('they', 256),\n",
       " ('about', 247),\n",
       " ('on', 246),\n",
       " ('at', 192),\n",
       " ('trying', 190),\n",
       " ('serious', 189),\n",
       " ('women', 184),\n",
       " ('each', 179),\n",
       " ('together', 176),\n",
       " ('by', 175),\n",
       " ('having', 171),\n",
       " ('flirting', 165),\n",
       " ('he', 155),\n",
       " ('smiling', 151),\n",
       " ('arguing', 141),\n",
       " ('angry', 140),\n",
       " ('scared', 138),\n",
       " ('worried', 137),\n",
       " ('hugging', 135),\n",
       " ('surprised', 134),\n",
       " ('calm', 133),\n",
       " ('company', 131),\n",
       " ('her', 129),\n",
       " ('group', 123),\n",
       " ('for', 121),\n",
       " ('she', 117),\n",
       " ('looking', 117),\n",
       " ('his', 115)]"
      ]
     },
     "execution_count": 15,
     "metadata": {},
     "output_type": "execute_result"
    }
   ],
   "source": [
    "frequency"
   ]
  },
  {
   "cell_type": "code",
   "execution_count": 16,
   "id": "463f439a",
   "metadata": {
    "id": "f950e507",
    "outputId": "98b430e4-e506-4337-c1ed-88e22edac668"
   },
   "outputs": [
    {
     "data": {
      "text/plain": [
       "2162"
      ]
     },
     "execution_count": 16,
     "metadata": {},
     "output_type": "execute_result"
    }
   ],
   "source": [
    "len(unique_tokens)"
   ]
  },
  {
   "cell_type": "code",
   "execution_count": 17,
   "id": "43c78126",
   "metadata": {
    "id": "6000f578"
   },
   "outputs": [],
   "source": [
    "pad_token = '<PAD>'\n",
    "start_token = '<S>'\n",
    "end_token = '<E>'"
   ]
  },
  {
   "cell_type": "code",
   "execution_count": 18,
   "id": "4c328adb",
   "metadata": {
    "id": "4bc8861e"
   },
   "outputs": [],
   "source": [
    "vocab = dict(zip(unique_tokens,list(range(3,len(unique_tokens)+3))))\n",
    "vocab[pad_token] = 0\n",
    "vocab[start_token] = 1\n",
    "vocab[end_token] = 2"
   ]
  },
  {
   "cell_type": "code",
   "execution_count": 19,
   "id": "500e1b32",
   "metadata": {
    "id": "ea82ff64"
   },
   "outputs": [],
   "source": [
    "inverse_vocab = dict([(v,k) for k,v in vocab.items()])"
   ]
  },
  {
   "cell_type": "code",
   "execution_count": 20,
   "id": "4f609a6c",
   "metadata": {
    "id": "88aee17b"
   },
   "outputs": [],
   "source": [
    "def padd(sentences, pad_token, start_token, end_token, maxlen=10):\n",
    "    padded_sentences = []\n",
    "    for i in sentences:\n",
    "        sentence = [start_token] + i + [end_token]\n",
    "        if len(sentence)>=maxlen+2:\n",
    "            sentence = sentence[:maxlen+2]\n",
    "        else:\n",
    "            sentence = sentence+[pad_token for i in range(maxlen+2-len(sentence))]\n",
    "        padded_sentences.append(sentence)\n",
    "    return padded_sentences"
   ]
  },
  {
   "cell_type": "code",
   "execution_count": 21,
   "id": "4e0c2bbd",
   "metadata": {
    "id": "7c387246"
   },
   "outputs": [],
   "source": [
    "padded_sentences = padd(tokenized, pad_token, start_token, end_token, maxlen=10)"
   ]
  },
  {
   "cell_type": "code",
   "execution_count": 22,
   "id": "e20c71aa",
   "metadata": {
    "id": "dae31ba2",
    "outputId": "486e686d-f0b8-4618-af6d-1e7c60ea39c9"
   },
   "outputs": [
    {
     "data": {
      "text/plain": [
       "12.0"
      ]
     },
     "execution_count": 22,
     "metadata": {},
     "output_type": "execute_result"
    }
   ],
   "source": [
    "np.mean([len(i) for i in padded_sentences])"
   ]
  },
  {
   "cell_type": "code",
   "execution_count": 23,
   "id": "a77097ba",
   "metadata": {
    "id": "1dbf265e"
   },
   "outputs": [],
   "source": [
    "indexed = list(map(lambda x: [vocab[i] for i in x],padded_sentences))"
   ]
  },
  {
   "cell_type": "code",
   "execution_count": 24,
   "id": "1dd81d16",
   "metadata": {
    "id": "cf6c28d5",
    "outputId": "7d1336e9-b529-4aa8-b9bc-2ffcb1932e4f"
   },
   "outputs": [
    {
     "data": {
      "text/plain": [
       "(3840, 224, 224, 3)"
      ]
     },
     "execution_count": 24,
     "metadata": {},
     "output_type": "execute_result"
    }
   ],
   "source": [
    "images.shape"
   ]
  },
  {
   "cell_type": "code",
   "execution_count": 25,
   "id": "3dc3da5a",
   "metadata": {
    "id": "e0517b86",
    "outputId": "c6ec86e9-44db-4bcd-f81b-202d2d1a04b4"
   },
   "outputs": [
    {
     "data": {
      "text/plain": [
       "2162"
      ]
     },
     "execution_count": 25,
     "metadata": {},
     "output_type": "execute_result"
    }
   ],
   "source": [
    "len(class_weights)"
   ]
  },
  {
   "cell_type": "code",
   "execution_count": 26,
   "id": "e8335e8f",
   "metadata": {
    "id": "ab0f6f4b"
   },
   "outputs": [],
   "source": [
    "class_weights = list(class_weights)\n",
    "class_weights.insert(0, 1)\n",
    "class_weights.insert(1, 1)\n",
    "class_weights.insert(2, 1)"
   ]
  },
  {
   "cell_type": "code",
   "execution_count": 27,
   "id": "67328604",
   "metadata": {
    "id": "05479771",
    "outputId": "2c7a7e8f-765f-4f04-a736-13a683275744"
   },
   "outputs": [
    {
     "data": {
      "text/plain": [
       "(2165, 2165)"
      ]
     },
     "execution_count": 27,
     "metadata": {},
     "output_type": "execute_result"
    }
   ],
   "source": [
    "len(class_weights), len(vocab)"
   ]
  },
  {
   "cell_type": "code",
   "execution_count": 28,
   "id": "1abfb341",
   "metadata": {
    "id": "41ca43a8",
    "outputId": "bf3fd02b-b281-45d1-c2f5-ecde217c10c3"
   },
   "outputs": [
    {
     "data": {
      "text/plain": [
       "[1, 1, 1, 0.21013259327782918]"
      ]
     },
     "execution_count": 28,
     "metadata": {},
     "output_type": "execute_result"
    }
   ],
   "source": [
    "class_weights[:4]"
   ]
  },
  {
   "cell_type": "code",
   "execution_count": 29,
   "id": "37438fce",
   "metadata": {
    "id": "8a65a1f9"
   },
   "outputs": [],
   "source": [
    "class_weights = np.array(class_weights)"
   ]
  },
  {
   "cell_type": "code",
   "execution_count": 30,
   "id": "78183a25",
   "metadata": {
    "id": "69a12138",
    "outputId": "58861466-75dd-46b2-e607-f3adf8280f92"
   },
   "outputs": [
    {
     "data": {
      "text/plain": [
       "(2165,)"
      ]
     },
     "execution_count": 30,
     "metadata": {},
     "output_type": "execute_result"
    }
   ],
   "source": [
    "class_weights.shape"
   ]
  },
  {
   "cell_type": "markdown",
   "id": "b8b03496",
   "metadata": {
    "id": "87b12db3"
   },
   "source": [
    "# Model with transfer learning"
   ]
  },
  {
   "cell_type": "code",
   "execution_count": 31,
   "id": "4b501ba5",
   "metadata": {
    "id": "1bc5b828"
   },
   "outputs": [],
   "source": [
    "def calc_size(x, f, s, padding='same'):\n",
    "    p = 2 if padding=='same' else 1\n",
    "    return (x-f+2)/s+1"
   ]
  },
  {
   "cell_type": "markdown",
   "id": "0626db29",
   "metadata": {
    "id": "7b9f00b4"
   },
   "source": [
    "### Convolutional model"
   ]
  },
  {
   "cell_type": "code",
   "execution_count": 32,
   "id": "bb44d6e6",
   "metadata": {
    "id": "10203a8b"
   },
   "outputs": [],
   "source": [
    "import tensorflow.keras.applications as apps\n"
   ]
  },
  {
   "cell_type": "code",
   "execution_count": 33,
   "id": "2bf74056",
   "metadata": {},
   "outputs": [
    {
     "name": "stdout",
     "output_type": "stream",
     "text": [
      "WARNING:tensorflow:No training configuration found in the save file, so the model was *not* compiled. Compile it manually.\n",
      "Model: \"encoder\"\n",
      "_________________________________________________________________\n",
      "Layer (type)                 Output Shape              Param #   \n",
      "=================================================================\n",
      "conv2d (Conv2D)              (None, 224, 224, 32)      896       \n",
      "_________________________________________________________________\n",
      "max_pooling2d (MaxPooling2D) (None, 112, 112, 32)      0         \n",
      "_________________________________________________________________\n",
      "conv2d_1 (Conv2D)            (None, 112, 112, 64)      18496     \n",
      "_________________________________________________________________\n",
      "max_pooling2d_1 (MaxPooling2 (None, 56, 56, 64)        0         \n",
      "_________________________________________________________________\n",
      "conv2d_2 (Conv2D)            (None, 56, 56, 128)       73856     \n",
      "_________________________________________________________________\n",
      "max_pooling2d_2 (MaxPooling2 (None, 28, 28, 128)       0         \n",
      "_________________________________________________________________\n",
      "conv2d_3 (Conv2D)            (None, 28, 28, 256)       295168    \n",
      "_________________________________________________________________\n",
      "max_pooling2d_3 (MaxPooling2 (None, 14, 14, 256)       0         \n",
      "_________________________________________________________________\n",
      "conv2d_4 (Conv2D)            (None, 14, 14, 512)       1180160   \n",
      "_________________________________________________________________\n",
      "max_pooling2d_4 (MaxPooling2 (None, 7, 7, 512)         0         \n",
      "_________________________________________________________________\n",
      "flatten (Flatten)            (None, 25088)             0         \n",
      "_________________________________________________________________\n",
      "dense (Dense)                (None, 128)               3211392   \n",
      "=================================================================\n",
      "Total params: 4,779,968\n",
      "Trainable params: 4,779,968\n",
      "Non-trainable params: 0\n",
      "_________________________________________________________________\n"
     ]
    }
   ],
   "source": [
    "tf.keras.models.load_model('encoder.h5').summary()"
   ]
  },
  {
   "cell_type": "code",
   "execution_count": 165,
   "id": "5b5afab8",
   "metadata": {
    "colab": {
     "base_uri": "https://localhost:8080/",
     "height": 235
    },
    "id": "c8c52aa1",
    "outputId": "36d889da-8981-413e-bb50-72bce618f234"
   },
   "outputs": [],
   "source": [
    "class ConvEncoder(tf.keras.Model):\n",
    "    def __init__(self, trainable=False):\n",
    "        super(ConvEncoder, self).__init__()\n",
    "        #loading pretrained encoder\n",
    "        self.encoder = tf.keras.models.load_model('encoder.h5')\n",
    "        self.encoder.trainable=trainable\n",
    "        \n",
    "        #on top layers\n",
    "        self.dense1 = tf.keras.layers.Dense(256, activation='relu')\n",
    "        self.dense2 = tf.keras.layers.Dense(256, activation='relu')\n",
    "        \n",
    "    def call(self, input):\n",
    "        features = self.encoder(input)\n",
    "        return [self.dense1(features), self.dense2(features)]"
   ]
  },
  {
   "cell_type": "code",
   "execution_count": 166,
   "id": "2f8a1c1f",
   "metadata": {
    "id": "0433171b"
   },
   "outputs": [
    {
     "name": "stdout",
     "output_type": "stream",
     "text": [
      "WARNING:tensorflow:No training configuration found in the save file, so the model was *not* compiled. Compile it manually.\n"
     ]
    }
   ],
   "source": [
    "conv_encoder = ConvEncoder()"
   ]
  },
  {
   "cell_type": "code",
   "execution_count": 167,
   "id": "968c17ff",
   "metadata": {
    "id": "68116817"
   },
   "outputs": [
    {
     "name": "stdout",
     "output_type": "stream",
     "text": [
      "WARNING:tensorflow:Layer conv_encoder_3 is casting an input tensor from dtype float64 to the layer's dtype of float32, which is new behavior in TensorFlow 2.  The layer has dtype float32 because its dtype defaults to floatx.\n",
      "\n",
      "If you intended to run this layer in float32, you can safely ignore this warning. If in doubt, this warning is likely only an issue if you are porting a TensorFlow 1.X model to TensorFlow 2.\n",
      "\n",
      "To change all layers to have dtype float64 by default, call `tf.keras.backend.set_floatx('float64')`. To change just this layer, pass dtype='float64' to the layer constructor. If you are the author of this layer, you can disable autocasting by passing autocast=False to the base Layer constructor.\n",
      "\n"
     ]
    }
   ],
   "source": [
    "conv_res = conv_encoder(np.expand_dims(images[0],axis=0))"
   ]
  },
  {
   "cell_type": "code",
   "execution_count": 168,
   "id": "76caca40",
   "metadata": {},
   "outputs": [
    {
     "data": {
      "text/plain": [
       "[<tf.Tensor: shape=(1, 256), dtype=float32, numpy=\n",
       " array([[0.        , 0.        , 2.3916166 , 0.19692075, 2.4459236 ,\n",
       "         0.9046172 , 0.12288362, 0.        , 1.4968593 , 1.2414821 ,\n",
       "         0.        , 0.        , 0.25321698, 0.        , 0.        ,\n",
       "         0.        , 0.968341  , 0.        , 0.1594088 , 0.        ,\n",
       "         1.8142698 , 0.6656658 , 0.        , 0.        , 0.32309026,\n",
       "         0.6710354 , 1.4727839 , 0.        , 0.42563298, 0.        ,\n",
       "         0.        , 0.3947673 , 1.6627584 , 0.        , 0.        ,\n",
       "         0.        , 0.        , 1.605326  , 0.        , 0.48060203,\n",
       "         0.        , 0.        , 0.        , 0.6645522 , 0.14229588,\n",
       "         0.382629  , 0.9404049 , 1.1160002 , 0.        , 0.        ,\n",
       "         0.11296502, 2.2628489 , 0.        , 0.        , 0.        ,\n",
       "         0.37406078, 0.03069621, 0.        , 0.41584256, 0.        ,\n",
       "         0.        , 0.8657404 , 0.        , 1.5427568 , 0.66868085,\n",
       "         0.8108336 , 0.        , 0.22328275, 0.        , 0.        ,\n",
       "         0.17979395, 0.6693653 , 0.        , 0.8468563 , 0.        ,\n",
       "         0.        , 0.        , 0.4481315 , 0.        , 0.        ,\n",
       "         0.44497907, 0.        , 0.02788959, 0.61464775, 0.        ,\n",
       "         0.30349225, 0.        , 0.5567964 , 0.        , 1.6224253 ,\n",
       "         0.7560862 , 0.2903537 , 0.        , 2.1038191 , 0.43220723,\n",
       "         0.9298614 , 0.3019668 , 1.3297405 , 0.        , 0.98382086,\n",
       "         0.14845696, 0.28593966, 1.8113259 , 0.        , 0.        ,\n",
       "         0.        , 0.        , 0.09099984, 0.        , 0.02320474,\n",
       "         0.        , 0.        , 0.9905888 , 0.        , 0.63993466,\n",
       "         0.        , 0.        , 1.7615494 , 1.2020161 , 0.        ,\n",
       "         0.        , 1.8332734 , 0.        , 0.        , 0.57028246,\n",
       "         1.4920664 , 0.3039595 , 1.3629735 , 0.4097544 , 0.        ,\n",
       "         0.        , 0.        , 0.        , 0.14228891, 0.22435567,\n",
       "         0.        , 0.37422803, 0.18680857, 2.4704046 , 2.5939522 ,\n",
       "         0.6652845 , 0.        , 0.        , 0.26579922, 0.        ,\n",
       "         0.        , 0.        , 0.        , 1.5427074 , 0.        ,\n",
       "         0.74856293, 1.3873864 , 1.4295967 , 0.78109807, 0.        ,\n",
       "         0.        , 0.        , 0.        , 0.        , 0.1906029 ,\n",
       "         0.11859123, 0.        , 0.40611434, 0.        , 0.        ,\n",
       "         0.        , 0.        , 0.        , 0.08052021, 0.        ,\n",
       "         0.        , 0.        , 0.52040905, 1.5944386 , 0.        ,\n",
       "         0.4740276 , 0.49714065, 0.        , 0.        , 0.        ,\n",
       "         0.1749714 , 0.51443267, 0.        , 0.6029782 , 0.        ,\n",
       "         0.59690464, 0.        , 0.        , 2.7996588 , 0.        ,\n",
       "         0.        , 1.4719054 , 0.        , 0.        , 0.82830864,\n",
       "         1.7377217 , 0.        , 0.        , 0.13311726, 0.2507044 ,\n",
       "         0.        , 0.        , 1.3344845 , 0.91049176, 0.        ,\n",
       "         0.7153478 , 0.        , 0.        , 0.6129557 , 1.3089997 ,\n",
       "         0.        , 0.57434344, 0.        , 1.7971599 , 1.0408759 ,\n",
       "         0.        , 0.        , 0.        , 0.        , 0.20881955,\n",
       "         0.        , 0.        , 0.95166194, 0.73029155, 0.6647666 ,\n",
       "         0.36110568, 1.5141915 , 0.10903069, 0.        , 0.        ,\n",
       "         1.2067802 , 0.35690698, 0.7245959 , 0.        , 1.5119302 ,\n",
       "         0.        , 0.33997035, 0.        , 0.        , 0.        ,\n",
       "         0.2154595 , 0.        , 0.4252287 , 0.        , 0.44463015,\n",
       "         0.6725857 , 0.        , 0.9244318 , 0.        , 0.        ,\n",
       "         0.        , 0.        , 0.        , 0.6150166 , 2.1538496 ,\n",
       "         0.        ]], dtype=float32)>,\n",
       " <tf.Tensor: shape=(1, 256), dtype=float32, numpy=\n",
       " array([[0.        , 0.49072346, 1.4336462 , 0.        , 0.        ,\n",
       "         0.        , 0.97777385, 2.5256493 , 0.        , 0.63529706,\n",
       "         0.13160518, 0.9894267 , 0.        , 1.7945986 , 0.        ,\n",
       "         0.        , 0.        , 0.        , 0.        , 1.8020537 ,\n",
       "         0.        , 0.616361  , 0.        , 0.2594869 , 0.60065293,\n",
       "         1.8760184 , 0.        , 0.3218125 , 0.85820186, 0.        ,\n",
       "         1.609428  , 0.17580003, 0.        , 1.3216245 , 0.        ,\n",
       "         0.        , 0.17311573, 0.1843549 , 0.15963876, 0.        ,\n",
       "         0.        , 1.0861481 , 0.        , 0.37609208, 0.        ,\n",
       "         0.7748846 , 0.        , 1.5270681 , 0.05245513, 0.        ,\n",
       "         0.51474905, 0.        , 0.        , 0.22869182, 0.51724094,\n",
       "         0.        , 0.        , 0.5867105 , 1.926272  , 0.17351559,\n",
       "         0.25633597, 0.        , 0.8660277 , 0.        , 0.69932437,\n",
       "         0.99169576, 0.        , 0.        , 0.        , 0.2662333 ,\n",
       "         0.5568223 , 0.3479284 , 0.        , 0.        , 0.8639212 ,\n",
       "         1.4885545 , 1.0602238 , 1.3408262 , 1.2861195 , 0.        ,\n",
       "         1.2571095 , 0.29765314, 0.        , 0.39506254, 0.5097444 ,\n",
       "         0.8858659 , 0.        , 0.05609472, 1.3600397 , 0.        ,\n",
       "         0.39581692, 1.3244832 , 0.48192716, 0.24265227, 0.91838723,\n",
       "         0.        , 0.        , 0.        , 1.5622706 , 1.905479  ,\n",
       "         1.4654824 , 1.3478731 , 0.9930354 , 0.17331219, 1.2652111 ,\n",
       "         0.44201386, 0.        , 0.        , 0.22968513, 0.8715344 ,\n",
       "         0.        , 0.        , 0.09744854, 1.6910505 , 1.771195  ,\n",
       "         0.38884628, 0.        , 0.        , 0.        , 0.        ,\n",
       "         0.        , 0.9703779 , 1.3706857 , 1.5755694 , 0.36294994,\n",
       "         0.        , 0.18637037, 0.        , 0.        , 0.        ,\n",
       "         0.50448185, 2.4267821 , 0.84469706, 0.30595183, 0.        ,\n",
       "         0.        , 0.        , 0.        , 0.9405016 , 0.        ,\n",
       "         0.70498693, 0.07366639, 0.5189273 , 0.81469613, 0.        ,\n",
       "         0.350553  , 0.3949022 , 1.5213033 , 0.        , 0.        ,\n",
       "         0.        , 0.        , 0.802851  , 0.        , 2.2500706 ,\n",
       "         0.0795849 , 0.3695113 , 0.        , 0.        , 0.        ,\n",
       "         1.4172276 , 0.        , 0.        , 0.        , 0.        ,\n",
       "         0.        , 1.5242912 , 0.4879334 , 0.7554546 , 1.1094623 ,\n",
       "         0.        , 0.        , 0.        , 0.7233054 , 0.        ,\n",
       "         0.60770726, 2.486916  , 0.        , 0.        , 0.        ,\n",
       "         1.2136799 , 0.02838069, 1.0674562 , 0.        , 1.9486468 ,\n",
       "         0.        , 0.        , 0.5368864 , 0.        , 2.124103  ,\n",
       "         0.        , 0.        , 0.        , 0.        , 0.        ,\n",
       "         0.        , 0.        , 0.        , 0.16409945, 0.        ,\n",
       "         0.        , 0.        , 0.        , 0.17197973, 0.48479146,\n",
       "         0.04737866, 0.5624252 , 0.        , 0.        , 2.086948  ,\n",
       "         0.4172125 , 1.8460965 , 0.        , 0.6155069 , 0.2433641 ,\n",
       "         2.3532827 , 0.        , 0.        , 0.        , 0.7489523 ,\n",
       "         0.        , 1.6995862 , 0.        , 0.        , 0.        ,\n",
       "         0.35081083, 0.        , 0.5831009 , 0.        , 0.        ,\n",
       "         0.80045015, 0.5630059 , 0.        , 0.        , 0.5333523 ,\n",
       "         0.        , 0.        , 0.        , 3.009922  , 1.8019251 ,\n",
       "         0.        , 0.        , 0.        , 1.8927501 , 0.        ,\n",
       "         0.        , 0.41011494, 1.4412272 , 1.8339818 , 1.4001226 ,\n",
       "         0.4424939 , 0.96708846, 1.227659  , 0.        , 0.        ,\n",
       "         0.51935744]], dtype=float32)>]"
      ]
     },
     "execution_count": 168,
     "metadata": {},
     "output_type": "execute_result"
    }
   ],
   "source": [
    "conv_res"
   ]
  },
  {
   "cell_type": "markdown",
   "id": "99ac9e6d",
   "metadata": {
    "id": "999c2bc0"
   },
   "source": [
    "### LSTM model"
   ]
  },
  {
   "cell_type": "markdown",
   "id": "5e5c1f3d",
   "metadata": {
    "id": "26590f4e"
   },
   "source": [
    "### making w2v embeddings"
   ]
  },
  {
   "cell_type": "code",
   "execution_count": 169,
   "id": "dd4c4923",
   "metadata": {
    "id": "a5f650c0",
    "outputId": "7120055b-7c8b-4c55-d4a7-0d4cc8dfce18"
   },
   "outputs": [
    {
     "name": "stdout",
     "output_type": "stream",
     "text": [
      "Requirement already satisfied: gensim in /home/ec2-user/anaconda3/envs/amazonei_tensorflow2_p36/lib/python3.6/site-packages (4.0.1)\n",
      "Requirement already satisfied: dataclasses in /home/ec2-user/anaconda3/envs/amazonei_tensorflow2_p36/lib/python3.6/site-packages (from gensim) (0.8)\n",
      "Requirement already satisfied: scipy>=0.18.1 in /home/ec2-user/anaconda3/envs/amazonei_tensorflow2_p36/lib/python3.6/site-packages (from gensim) (1.5.3)\n",
      "Requirement already satisfied: numpy>=1.11.3 in /home/ec2-user/anaconda3/envs/amazonei_tensorflow2_p36/lib/python3.6/site-packages (from gensim) (1.18.5)\n",
      "Requirement already satisfied: smart-open>=1.8.1 in /home/ec2-user/anaconda3/envs/amazonei_tensorflow2_p36/lib/python3.6/site-packages (from gensim) (5.1.0)\n",
      "\u001b[33mWARNING: You are using pip version 21.1.2; however, version 21.1.3 is available.\n",
      "You should consider upgrading via the '/home/ec2-user/anaconda3/envs/amazonei_tensorflow2_p36/bin/python -m pip install --upgrade pip' command.\u001b[0m\n"
     ]
    }
   ],
   "source": [
    "!pip install gensim"
   ]
  },
  {
   "cell_type": "code",
   "execution_count": 170,
   "id": "316785fb",
   "metadata": {
    "id": "715baa20",
    "outputId": "0a279aff-b57f-4416-b0cc-df0b524258cf"
   },
   "outputs": [],
   "source": [
    "import gensim.downloader as api"
   ]
  },
  {
   "cell_type": "code",
   "execution_count": 133,
   "id": "402a8fa0",
   "metadata": {
    "id": "623ef226"
   },
   "outputs": [],
   "source": [
    "w2v_embeddings = api.load('word2vec-google-news-300')"
   ]
  },
  {
   "cell_type": "code",
   "execution_count": 134,
   "id": "2fad6777",
   "metadata": {
    "id": "f6b2f48a"
   },
   "outputs": [],
   "source": [
    "def build_embeddings(vocab, word_vectors, embed_dim):\n",
    "    emb_matrix = np.zeros(shape=(len(vocab)+ 1 , embed_dim), dtype='float32')\n",
    "    count = 0\n",
    "    for word, i in vocab.items():\n",
    "        try:\n",
    "            emb_matrix[i, :] = word_vectors.get_vector(word)\n",
    "        except:\n",
    "            count += 1\n",
    "            emb_matrix[i, :] = np.random.uniform(-0.1, 0.1, embed_dim)\n",
    "    print('{} words are out of vocabulary：'.format(count))\n",
    "    return emb_matrix\n"
   ]
  },
  {
   "cell_type": "code",
   "execution_count": 135,
   "id": "c58f86b1",
   "metadata": {
    "id": "e893c531",
    "outputId": "8986b2db-0a92-4b04-ab3a-e08a716c4626"
   },
   "outputs": [
    {
     "name": "stdout",
     "output_type": "stream",
     "text": [
      "22 words are out of vocabulary：\n"
     ]
    }
   ],
   "source": [
    "w2v_embeddings = build_embeddings(vocab, w2v_embeddings, 300)"
   ]
  },
  {
   "cell_type": "markdown",
   "id": "1e1377fc",
   "metadata": {
    "id": "0b62cbad"
   },
   "source": [
    "### building model"
   ]
  },
  {
   "cell_type": "code",
   "execution_count": 171,
   "id": "2bda66fd",
   "metadata": {
    "id": "02766a3f"
   },
   "outputs": [],
   "source": [
    "class LSTMDecoder(tf.keras.Model):\n",
    "    def __init__(self, max_tokens, lstm_units, embeddings=None, dim=128):\n",
    "        super(LSTMDecoder, self).__init__()\n",
    "        self.embeddings = tf.keras.layers.Embedding(input_dim=max_tokens+1, output_dim=dim, name='embeddings',\n",
    "                                                   weights=[embeddings])\n",
    "        self.dropout = tf.keras.layers.SpatialDropout1D(0.2)\n",
    "        self.layer_norm = tf.keras.layers.LayerNormalization(epsilon=1e-6, name='layer_normalization')\n",
    "        self.lstm = tf.keras.layers.LSTM(units=lstm_units, return_state=True, name='lstm_decoder', recurrent_dropout=0.3)\n",
    "        self.output_dense = tf.keras.layers.Dense(units=max_tokens)\n",
    "        self.dense_emo = tf.keras.layers.Dense(units=lstm_units, activation='relu')\n",
    "        self.dense_sen = tf.keras.layers.Dense(units=lstm_units, activation='relu')\n",
    "\n",
    "        \n",
    "    def call(self, input, features, emo_feature, sen_feature):\n",
    "        embedded = self.dropout(self.embeddings(input))\n",
    "        emo_feature = self.dense_emo(emo_feature)\n",
    "        sen_feature = self.dense_sen(sen_feature)\n",
    "        concated = tf.concat([embedded,\\\n",
    "                              tf.expand_dims(emo_feature, 1),tf.expand_dims(sen_feature, 1),], axis=-1)\n",
    "        result_lstm, state_h, state_c = self.lstm(concated, initial_state=features)\n",
    "        normalized = self.layer_norm(result_lstm)\n",
    "        logits = self.output_dense(normalized)\n",
    "        return logits, [state_h, state_c]"
   ]
  },
  {
   "cell_type": "code",
   "execution_count": 172,
   "id": "6b569649",
   "metadata": {
    "id": "4dfe8136",
    "outputId": "c0ca843d-4ad1-4150-a61c-851506423007"
   },
   "outputs": [
    {
     "name": "stdout",
     "output_type": "stream",
     "text": [
      "WARNING:tensorflow:Layer lstm_decoder will not use cuDNN kernel since it doesn't meet the cuDNN kernel criteria. It will use generic GPU kernel as fallback when running on GPU\n"
     ]
    }
   ],
   "source": [
    "lstm_decoder = LSTMDecoder(len(inverse_vocab), conv_res[0].shape[1], w2v_embeddings, dim=300)"
   ]
  },
  {
   "cell_type": "markdown",
   "id": "fe0075a1",
   "metadata": {
    "id": "25dff32e"
   },
   "source": [
    "### Training"
   ]
  },
  {
   "cell_type": "code",
   "execution_count": 173,
   "id": "9f163bd5",
   "metadata": {
    "id": "9559d09b"
   },
   "outputs": [],
   "source": [
    "from sklearn.model_selection import train_test_split"
   ]
  },
  {
   "cell_type": "code",
   "execution_count": 174,
   "id": "828bf039",
   "metadata": {
    "id": "3e38fa7d"
   },
   "outputs": [],
   "source": [
    "loss_object = tf.keras.losses.SparseCategoricalCrossentropy(reduction='none',\n",
    "                                                                         from_logits=True)\n",
    "lr_value = 1e-3\n",
    "reduction_power = 10\n",
    "optimizer = tf.keras.optimizers.RMSprop(learning_rate=lr_value)\n",
    "with_weights = False"
   ]
  },
  {
   "cell_type": "code",
   "execution_count": 175,
   "id": "92e89c28",
   "metadata": {
    "id": "12a0f4ce"
   },
   "outputs": [],
   "source": [
    "epochs = 20\n",
    "batch_size = 64\n",
    "patience_epochs = 2"
   ]
  },
  {
   "cell_type": "code",
   "execution_count": 176,
   "id": "62b416aa",
   "metadata": {
    "id": "9cb2ce3a"
   },
   "outputs": [],
   "source": [
    "def loss_function(real, pred, loss_weights):\n",
    "        mask = tf.math.logical_not(tf.math.equal(real, vocab[pad_token]))\n",
    "        loss_ = loss_object(real, pred)\n",
    "        mask = tf.cast(mask, dtype=loss_.dtype)\n",
    "        loss_ *= mask\n",
    "        loss_weights = tf.cast(loss_weights, dtype=loss_.dtype)\n",
    "        loss_*=loss_weights\n",
    "        return loss_"
   ]
  },
  {
   "cell_type": "code",
   "execution_count": 177,
   "id": "4549d90f",
   "metadata": {
    "id": "f1b5202f"
   },
   "outputs": [],
   "source": [
    "@tf.function\n",
    "def train_step(image, target, emo_feature, sen_feature, lengths, optimizer):\n",
    "\n",
    "    with tf.GradientTape() as tape:\n",
    "        initial_state = conv_encoder(image)\n",
    "        # Teacher forcing - feeding the target as the next input\n",
    "        batched_loss = []\n",
    "        for t in range(1, target.shape[1]):\n",
    "            \n",
    "            dec_input = tf.expand_dims(target[:, t-1], 1)\n",
    "            result, initial_state = lstm_decoder(input=dec_input, features=initial_state,emo_feature=emo_feature, sen_feature=sen_feature)\n",
    "            weights = tf.broadcast_to(class_weights, shape=(target[:,t].shape[0], class_weights.shape[0]))\n",
    "            weights = tf.gather(weights, target[:,t],axis=1, batch_dims=1)\n",
    "            batched_loss.append(loss_function(target[:, t], result, weights))\n",
    "        batched_loss = tf.reshape(tf.stack(batched_loss), shape=target[:,1:].shape)\n",
    "        batched_loss = tf.reduce_sum(batched_loss, axis=1)\n",
    "        lengths = tf.cast(lengths, dtype=batched_loss.dtype)\n",
    "        loss = tf.reduce_mean(batched_loss / lengths)\n",
    "\n",
    "    perplexity = tf.exp(loss)\n",
    "\n",
    "    variables = conv_encoder.trainable_variables + lstm_decoder.trainable_variables\n",
    "    gradients = tape.gradient(loss, variables)\n",
    "\n",
    "    optimizer.apply_gradients(zip(gradients, variables))\n",
    "\n",
    "    return loss, perplexity"
   ]
  },
  {
   "cell_type": "code",
   "execution_count": 178,
   "id": "fbc7c628",
   "metadata": {},
   "outputs": [
    {
     "ename": "AttributeError",
     "evalue": "'numpy.ndarray' object has no attribute 'toarray'",
     "output_type": "error",
     "traceback": [
      "\u001b[0;31m---------------------------------------------------------------------------\u001b[0m",
      "\u001b[0;31mAttributeError\u001b[0m                            Traceback (most recent call last)",
      "\u001b[0;32m<ipython-input-178-d9cb4bb26a2b>\u001b[0m in \u001b[0;36m<module>\u001b[0;34m\u001b[0m\n\u001b[0;32m----> 1\u001b[0;31m \u001b[0msentiment\u001b[0m \u001b[0;34m=\u001b[0m \u001b[0msentiment\u001b[0m\u001b[0;34m.\u001b[0m\u001b[0mtoarray\u001b[0m\u001b[0;34m(\u001b[0m\u001b[0;34m)\u001b[0m\u001b[0;34m\u001b[0m\u001b[0;34m\u001b[0m\u001b[0m\n\u001b[0m",
      "\u001b[0;31mAttributeError\u001b[0m: 'numpy.ndarray' object has no attribute 'toarray'"
     ]
    }
   ],
   "source": [
    "sentiment = sentiment.toarray()"
   ]
  },
  {
   "cell_type": "code",
   "execution_count": 179,
   "id": "0638be44",
   "metadata": {
    "id": "acba46dc"
   },
   "outputs": [],
   "source": [
    "length = (np.array(indexed)!=vocab[pad_token]).sum(axis=1)-2"
   ]
  },
  {
   "cell_type": "code",
   "execution_count": 180,
   "id": "24a9ba10",
   "metadata": {
    "id": "0e27f657"
   },
   "outputs": [],
   "source": [
    "train_images = np.array(np.array_split(images, len(images)//batch_size)).astype('float32')\n",
    "\n",
    "\n",
    "train_emo = np.array(np.array_split(emotion_features, len(emotion_features)//batch_size)).astype('float32')\n",
    "\n",
    "\n",
    "train_sequences = np.array(np.array_split(indexed, len(indexed)//batch_size))\n",
    "\n",
    "train_length = np.array(np.array_split(length, len(length)//batch_size)).astype('float32')\n",
    "\n",
    "\n",
    "train_sen = np.array(np.array_split(sentiment, len(sentiment)//batch_size)).astype('float32')\n"
   ]
  },
  {
   "cell_type": "code",
   "execution_count": 181,
   "id": "352d999c",
   "metadata": {
    "id": "552ed89c",
    "outputId": "54b68180-8df5-4e71-c80a-9009ed49b74a"
   },
   "outputs": [
    {
     "data": {
      "text/plain": [
       "((60, 64, 224, 224, 3), (60, 64, 12), (60, 64), (60, 64, 3))"
      ]
     },
     "execution_count": 181,
     "metadata": {},
     "output_type": "execute_result"
    }
   ],
   "source": [
    "train_images.shape, train_sequences.shape, train_length.shape, train_sen.shape"
   ]
  },
  {
   "cell_type": "code",
   "execution_count": 182,
   "id": "5bc0a45f",
   "metadata": {
    "id": "25f6490c",
    "outputId": "79c4fa3b-5786-44c1-faa3-075c5d0d804b"
   },
   "outputs": [
    {
     "name": "stdout",
     "output_type": "stream",
     "text": [
      "Requirement already satisfied: tqdm in /home/ec2-user/anaconda3/envs/amazonei_tensorflow2_p36/lib/python3.6/site-packages (4.61.2)\n",
      "\u001b[33mWARNING: You are using pip version 21.1.2; however, version 21.1.3 is available.\n",
      "You should consider upgrading via the '/home/ec2-user/anaconda3/envs/amazonei_tensorflow2_p36/bin/python -m pip install --upgrade pip' command.\u001b[0m\n"
     ]
    }
   ],
   "source": [
    "!pip install tqdm"
   ]
  },
  {
   "cell_type": "code",
   "execution_count": 183,
   "id": "4f764a26",
   "metadata": {
    "id": "c233a386"
   },
   "outputs": [],
   "source": [
    "if not with_weights:\n",
    "    class_weights = np.array([1 for i in range(len(class_weights))])"
   ]
  },
  {
   "cell_type": "code",
   "execution_count": 184,
   "id": "59eaac11",
   "metadata": {
    "id": "4c609b61"
   },
   "outputs": [],
   "source": [
    "from tqdm import tqdm"
   ]
  },
  {
   "cell_type": "code",
   "execution_count": 185,
   "id": "30b1ca70",
   "metadata": {
    "id": "1144f320",
    "outputId": "6b3fe07f-3098-43f9-bf97-30657ac3723b"
   },
   "outputs": [
    {
     "name": "stderr",
     "output_type": "stream",
     "text": [
      "60it [00:27,  2.15it/s]\n"
     ]
    },
    {
     "name": "stdout",
     "output_type": "stream",
     "text": [
      "Finished epoch 0; Train loss : 4.661726951599121; Train perplexity : 374.4742126464844\n"
     ]
    },
    {
     "name": "stderr",
     "output_type": "stream",
     "text": [
      "60it [00:09,  6.39it/s]\n"
     ]
    },
    {
     "name": "stdout",
     "output_type": "stream",
     "text": [
      "Finished epoch 1; Train loss : 3.2818281650543213; Train perplexity : 44.97085189819336\n"
     ]
    },
    {
     "name": "stderr",
     "output_type": "stream",
     "text": [
      "60it [00:09,  6.42it/s]\n"
     ]
    },
    {
     "name": "stdout",
     "output_type": "stream",
     "text": [
      "Finished epoch 2; Train loss : 2.8708322048187256; Train perplexity : 26.848886489868164\n"
     ]
    },
    {
     "name": "stderr",
     "output_type": "stream",
     "text": [
      "60it [00:09,  6.38it/s]\n"
     ]
    },
    {
     "name": "stdout",
     "output_type": "stream",
     "text": [
      "Finished epoch 3; Train loss : 2.636251211166382; Train perplexity : 20.11568260192871\n"
     ]
    },
    {
     "name": "stderr",
     "output_type": "stream",
     "text": [
      "60it [00:09,  6.39it/s]\n"
     ]
    },
    {
     "name": "stdout",
     "output_type": "stream",
     "text": [
      "Finished epoch 4; Train loss : 2.4563233852386475; Train perplexity : 15.986372947692871\n"
     ]
    },
    {
     "name": "stderr",
     "output_type": "stream",
     "text": [
      "60it [00:09,  6.38it/s]\n"
     ]
    },
    {
     "name": "stdout",
     "output_type": "stream",
     "text": [
      "Finished epoch 5; Train loss : 2.2966935634613037; Train perplexity : 13.01598072052002\n"
     ]
    },
    {
     "name": "stderr",
     "output_type": "stream",
     "text": [
      "60it [00:09,  6.40it/s]\n"
     ]
    },
    {
     "name": "stdout",
     "output_type": "stream",
     "text": [
      "Finished epoch 6; Train loss : 2.1552517414093018; Train perplexity : 10.83886432647705\n"
     ]
    },
    {
     "name": "stderr",
     "output_type": "stream",
     "text": [
      "60it [00:09,  6.40it/s]\n"
     ]
    },
    {
     "name": "stdout",
     "output_type": "stream",
     "text": [
      "Finished epoch 7; Train loss : 2.018097162246704; Train perplexity : 9.158689498901367\n"
     ]
    },
    {
     "name": "stderr",
     "output_type": "stream",
     "text": [
      "60it [00:09,  6.36it/s]\n"
     ]
    },
    {
     "name": "stdout",
     "output_type": "stream",
     "text": [
      "Finished epoch 8; Train loss : 1.8882675170898438; Train perplexity : 7.814367771148682\n"
     ]
    },
    {
     "name": "stderr",
     "output_type": "stream",
     "text": [
      "60it [00:09,  6.34it/s]\n"
     ]
    },
    {
     "name": "stdout",
     "output_type": "stream",
     "text": [
      "Finished epoch 9; Train loss : 1.7623698711395264; Train perplexity : 6.720098972320557\n"
     ]
    },
    {
     "name": "stderr",
     "output_type": "stream",
     "text": [
      "60it [00:09,  6.38it/s]\n"
     ]
    },
    {
     "name": "stdout",
     "output_type": "stream",
     "text": [
      "Finished epoch 10; Train loss : 1.6332725286483765; Train perplexity : 5.737505912780762\n"
     ]
    },
    {
     "name": "stderr",
     "output_type": "stream",
     "text": [
      "60it [00:09,  6.36it/s]\n"
     ]
    },
    {
     "name": "stdout",
     "output_type": "stream",
     "text": [
      "Finished epoch 11; Train loss : 1.5084800720214844; Train perplexity : 4.956312656402588\n"
     ]
    },
    {
     "name": "stderr",
     "output_type": "stream",
     "text": [
      "60it [00:09,  6.39it/s]\n"
     ]
    },
    {
     "name": "stdout",
     "output_type": "stream",
     "text": [
      "Finished epoch 12; Train loss : 1.405239224433899; Train perplexity : 4.415654182434082\n"
     ]
    },
    {
     "name": "stderr",
     "output_type": "stream",
     "text": [
      "60it [00:09,  6.36it/s]\n"
     ]
    },
    {
     "name": "stdout",
     "output_type": "stream",
     "text": [
      "Finished epoch 13; Train loss : 1.2875584363937378; Train perplexity : 3.847961902618408\n"
     ]
    },
    {
     "name": "stderr",
     "output_type": "stream",
     "text": [
      "60it [00:09,  6.42it/s]\n"
     ]
    },
    {
     "name": "stdout",
     "output_type": "stream",
     "text": [
      "Finished epoch 14; Train loss : 1.188167691230774; Train perplexity : 3.444289445877075\n"
     ]
    },
    {
     "name": "stderr",
     "output_type": "stream",
     "text": [
      "60it [00:09,  6.42it/s]\n"
     ]
    },
    {
     "name": "stdout",
     "output_type": "stream",
     "text": [
      "Finished epoch 15; Train loss : 1.0894551277160645; Train perplexity : 3.0871071815490723\n"
     ]
    },
    {
     "name": "stderr",
     "output_type": "stream",
     "text": [
      "60it [00:09,  6.38it/s]\n"
     ]
    },
    {
     "name": "stdout",
     "output_type": "stream",
     "text": [
      "Finished epoch 16; Train loss : 0.9951039552688599; Train perplexity : 2.784867763519287\n"
     ]
    },
    {
     "name": "stderr",
     "output_type": "stream",
     "text": [
      "60it [00:09,  6.27it/s]\n"
     ]
    },
    {
     "name": "stdout",
     "output_type": "stream",
     "text": [
      "Finished epoch 17; Train loss : 0.8975307941436768; Train perplexity : 2.5100507736206055\n"
     ]
    },
    {
     "name": "stderr",
     "output_type": "stream",
     "text": [
      "60it [00:09,  6.27it/s]\n"
     ]
    },
    {
     "name": "stdout",
     "output_type": "stream",
     "text": [
      "Finished epoch 18; Train loss : 0.8266823887825012; Train perplexity : 2.334733486175537\n"
     ]
    },
    {
     "name": "stderr",
     "output_type": "stream",
     "text": [
      "60it [00:09,  6.36it/s]"
     ]
    },
    {
     "name": "stdout",
     "output_type": "stream",
     "text": [
      "Finished epoch 19; Train loss : 0.7544091939926147; Train perplexity : 2.1563117504119873\n"
     ]
    },
    {
     "name": "stderr",
     "output_type": "stream",
     "text": [
      "\n"
     ]
    }
   ],
   "source": [
    "train_loss = []\n",
    "train_perplexity = []\n",
    "for epoch in range(epochs):\n",
    "    epoch_train_loss = 0\n",
    "    epoch_train_perplexity = 0\n",
    "    for batch_train_images, batch_train_sequences, batched_train_length, batched_train_emo, batched_train_sen in tqdm(zip(train_images,train_sequences,train_length, train_emo, train_sen)):\n",
    "        batched_train_loss, batched_train_perplexity = train_step(batch_train_images,batch_train_sequences,batched_train_emo,batched_train_sen, batched_train_length, optimizer)\n",
    "        epoch_train_loss+=batched_train_loss\n",
    "        epoch_train_perplexity+=batched_train_perplexity\n",
    "    epoch_train_loss = epoch_train_loss/train_images.shape[0]\n",
    "    epoch_train_perplexity = epoch_train_perplexity/train_images.shape[0]\n",
    "    train_loss.append(epoch_train_loss)\n",
    "    train_perplexity.append(epoch_train_perplexity)\n",
    "    print('Finished epoch {}; Train loss : {}; Train perplexity : {}'.format(epoch,epoch_train_loss,epoch_train_perplexity))\n",
    "#     if epoch%5==0 and epoch!=0:\n",
    "#         lr_value/=reduction_power\n",
    "#         optimizer.lr.assign(lr_value)\n",
    "#         print('Reducing learning rate')"
   ]
  },
  {
   "cell_type": "markdown",
   "id": "92154be7",
   "metadata": {
    "id": "ad1ee3d5"
   },
   "source": [
    "# Testing model"
   ]
  },
  {
   "cell_type": "code",
   "execution_count": 186,
   "id": "46fd0b24",
   "metadata": {
    "id": "444505ed"
   },
   "outputs": [],
   "source": [
    "import matplotlib.pyplot as plt\n",
    "import seaborn as sns"
   ]
  },
  {
   "cell_type": "code",
   "execution_count": 187,
   "id": "17454552",
   "metadata": {
    "id": "aa2085b8"
   },
   "outputs": [],
   "source": [
    "class Decoder:\n",
    "    def __init__(self, encoder: tf.keras.Model,\n",
    "                 decoder: tf.keras.Model,\n",
    "                 start_token: int,\n",
    "                 end_token: int,\n",
    "                 max_len: int = None):\n",
    "        self.encoder = encoder\n",
    "        self.decoder = decoder\n",
    "        self.max_len = max_len if max_len else 100\n",
    "        self.start_token = start_token\n",
    "        self.end_token = end_token\n",
    "\n",
    "    def decode(self, input):\n",
    "        pass\n",
    "\n",
    "\n",
    "class GreedyDecoder(Decoder):\n",
    "    def __init__(self, encoder: tf.keras.Model,\n",
    "                 decoder: tf.keras.Model,\n",
    "                 start_token: int,\n",
    "                 end_token: int,\n",
    "                 max_len: int = 10,\n",
    "                 ):\n",
    "        super().__init__(encoder,\n",
    "                         decoder,\n",
    "                         start_token,\n",
    "                         end_token,\n",
    "                         max_len\n",
    "                         )\n",
    "\n",
    "    def decode(self, input, emo_feature, sen_feature):\n",
    "        initial_state = self.encoder(np.expand_dims(input, axis=0))\n",
    "        emo_feature = tf.expand_dims(emo_feature, axis=0)\n",
    "        sen_feature = tf.expand_dims(sen_feature, axis=0)\n",
    "        target_seq = np.zeros((1, 1))\n",
    "        target_seq[0, 0] = self.start_token\n",
    "        res = []\n",
    "        while True:\n",
    "            # Sample a token\n",
    "            output, initial_state = self.decoder(target_seq,initial_state,  emo_feature, sen_feature)\n",
    "            sampled_token_index = np.argmax(tf.nn.softmax(output.numpy()))\n",
    "            if len(res) > self.max_len or sampled_token_index == self.end_token:\n",
    "                break\n",
    "\n",
    "            res.append(sampled_token_index)\n",
    "\n",
    "            target_seq = np.zeros((1, 1))\n",
    "            target_seq[0, 0] = sampled_token_index\n",
    "\n",
    "       \n",
    "        return res\n"
   ]
  },
  {
   "cell_type": "code",
   "execution_count": 188,
   "id": "954c7468",
   "metadata": {
    "id": "27c864a3"
   },
   "outputs": [],
   "source": [
    "class BeamSearchDecoder(Decoder):\n",
    "    def __init__(self, encoder: tf.keras.Model,\n",
    "                 decoder: tf.keras.Model,\n",
    "                 start_token: int,\n",
    "                 end_token: int,\n",
    "                 max_len: int = 10,\n",
    "                 ):\n",
    "        super().__init__(encoder,\n",
    "                         decoder,\n",
    "                         start_token,\n",
    "                         end_token,\n",
    "                         max_len\n",
    "                         )\n",
    "\n",
    "    def decode(self, input, emo_feature, sen_feature, beam_size=3):\n",
    "        start = [self.start_token]\n",
    "        initial_state = self.encoder(np.expand_dims(input,axis=0))\n",
    "        emo_feature = tf.expand_dims(emo_feature, axis=0)\n",
    "        sen_feature = tf.expand_dims(sen_feature, axis=0)\n",
    "\n",
    "        start_word = [[start, 0.0, initial_state]]\n",
    "\n",
    "        while len(start_word[0][0]) < self.max_len:\n",
    "            temp = []\n",
    "            for s in start_word:\n",
    "                target_seq = np.array([[s[0][-1]]])\n",
    "                initial_state = s[-1]\n",
    "                output, initial_state = self.decoder(target_seq, initial_state, emo_feature, sen_feature)\n",
    "                output = np.hstack(output)\n",
    "                output = tf.nn.softmax(output).numpy()\n",
    "                word_preds = np.argsort(output)[-beam_size:]\n",
    "\n",
    "                for w in word_preds:\n",
    "                    next_cap, prob = s[0][:], s[1]\n",
    "                    next_cap.append(w)\n",
    "                    prob += output[w]\n",
    "                    temp.append([next_cap, prob, initial_state])\n",
    "\n",
    "            start_word = temp\n",
    "            # Sorting according to the probabilities\n",
    "            start_word = sorted(start_word, reverse=False, key=lambda l: l[1])\n",
    "            # Getting the top words\n",
    "            start_word = start_word[-beam_size:]\n",
    "\n",
    "        start_word = start_word[-1][0]\n",
    "\n",
    "        final_caption = []\n",
    "\n",
    "        for i in start_word:\n",
    "            if i != self.end_token:\n",
    "                final_caption.append(i)\n",
    "            else:\n",
    "                break\n",
    "        return final_caption[1:]"
   ]
  },
  {
   "cell_type": "code",
   "execution_count": 189,
   "id": "d226bffa",
   "metadata": {
    "id": "a1adf0a9"
   },
   "outputs": [],
   "source": [
    "def predict(data, emo_feature, sen_feature, decoder, inverse_vocab,\n",
    "           beam_size=None):\n",
    "    if beam_size:\n",
    "        result = decoder.decode(data,emo_feature, sen_feature,  beam_size=beam_size)\n",
    "    else:\n",
    "        result = decoder.decode(data,emo_feature, sen_feature, )\n",
    "    return ' '.join([inverse_vocab[i] for i in result])"
   ]
  },
  {
   "cell_type": "code",
   "execution_count": 190,
   "id": "fb4b899e",
   "metadata": {
    "id": "73319486"
   },
   "outputs": [],
   "source": [
    "greedy_decoder = GreedyDecoder(conv_encoder, lstm_decoder, vocab[start_token], vocab[end_token],\n",
    "             max_len=20)"
   ]
  },
  {
   "cell_type": "code",
   "execution_count": 191,
   "id": "7f3834bf",
   "metadata": {
    "id": "8532e4bd"
   },
   "outputs": [],
   "source": [
    "beam_decoder = BeamSearchDecoder(conv_encoder, lstm_decoder, vocab[start_token], vocab[end_token],\n",
    "             max_len=20)"
   ]
  },
  {
   "cell_type": "code",
   "execution_count": 192,
   "id": "215dfc52",
   "metadata": {
    "id": "6f1270b6",
    "outputId": "b539b8ba-9ec6-41e6-a010-d6a51aac7daa"
   },
   "outputs": [
    {
     "data": {
      "text/plain": [
       "(3840, 224, 224, 3)"
      ]
     },
     "execution_count": 192,
     "metadata": {},
     "output_type": "execute_result"
    }
   ],
   "source": [
    "images.shape"
   ]
  },
  {
   "cell_type": "code",
   "execution_count": 200,
   "id": "88714bc9",
   "metadata": {
    "id": "5aef8f6f"
   },
   "outputs": [],
   "source": [
    "idx = np.random.choice(range(len(images)))\n",
    "sample = images[idx]"
   ]
  },
  {
   "cell_type": "code",
   "execution_count": 201,
   "id": "00de5bcf",
   "metadata": {
    "id": "eab38846",
    "outputId": "cff5d836-1670-437b-fa05-37b4d1323c46"
   },
   "outputs": [
    {
     "name": "stdout",
     "output_type": "stream",
     "text": [
      "two women are worried about something\n"
     ]
    },
    {
     "data": {
      "image/png": "[encoded data removed]",
      "text/plain": [
       "<Figure size 576x576 with 1 Axes>"
      ]
     },
     "metadata": {
      "needs_background": "light"
     },
     "output_type": "display_data"
    }
   ],
   "source": [
    "plt.figure(figsize=(8,8))\n",
    "plt.imshow(sample)\n",
    "plt.grid([])\n",
    "plt.axis('off');\n",
    "print(annotations[idx])"
   ]
  },
  {
   "cell_type": "code",
   "execution_count": 202,
   "id": "8d76cd02",
   "metadata": {
    "id": "73100527",
    "outputId": "9ea366c9-f621-4cee-e012-ec5dc2beaebd"
   },
   "outputs": [
    {
     "data": {
      "text/plain": [
       "'the man is worried about something'"
      ]
     },
     "execution_count": 202,
     "metadata": {},
     "output_type": "execute_result"
    }
   ],
   "source": [
    "predict(sample, emotion_features[idx], sentiment[idx], greedy_decoder, inverse_vocab)"
   ]
  },
  {
   "cell_type": "code",
   "execution_count": 196,
   "id": "ae52e2ce",
   "metadata": {},
   "outputs": [
    {
     "data": {
      "text/plain": [
       "'the man is trying to kill somebody'"
      ]
     },
     "execution_count": 196,
     "metadata": {},
     "output_type": "execute_result"
    }
   ],
   "source": [
    "predict(sample, emotion_features[idx], sentiment[idx], beam_decoder, inverse_vocab, beam_size=3)"
   ]
  },
  {
   "cell_type": "code",
   "execution_count": 197,
   "id": "d89b3693",
   "metadata": {},
   "outputs": [
    {
     "data": {
      "text/plain": [
       "'the group of people is investigating something'"
      ]
     },
     "execution_count": 197,
     "metadata": {},
     "output_type": "execute_result"
    }
   ],
   "source": [
    "predict(sample,emotion_features[idx], sentiment[idx],  beam_decoder, inverse_vocab, beam_size=5)"
   ]
  },
  {
   "cell_type": "code",
   "execution_count": 198,
   "id": "614692f7",
   "metadata": {},
   "outputs": [
    {
     "data": {
      "text/plain": [
       "'the group of people is investigating something'"
      ]
     },
     "execution_count": 198,
     "metadata": {},
     "output_type": "execute_result"
    }
   ],
   "source": [
    "predict(sample, emotion_features[idx], sentiment[idx], beam_decoder, inverse_vocab, beam_size=7)"
   ]
  },
  {
   "cell_type": "code",
   "execution_count": 199,
   "id": "c9af681c",
   "metadata": {
    "id": "687f2739",
    "outputId": "deb0509a-c3f9-4ba6-95a7-e3fd80bdef93"
   },
   "outputs": [
    {
     "data": {
      "text/plain": [
       "'the group of people is running from something'"
      ]
     },
     "execution_count": 199,
     "metadata": {},
     "output_type": "execute_result"
    }
   ],
   "source": [
    "predict(sample,emotion_features[idx], sentiment[idx],  beam_decoder, inverse_vocab, beam_size=10)"
   ]
  },
  {
   "cell_type": "markdown",
   "id": "4b09c5ee",
   "metadata": {
    "id": "df35cb03"
   },
   "source": [
    "# Blue score calculation"
   ]
  },
  {
   "cell_type": "code",
   "execution_count": 325,
   "id": "23f8d426",
   "metadata": {
    "id": "32df0196"
   },
   "outputs": [],
   "source": [
    "from nltk.translate.bleu_score import sentence_bleu\n"
   ]
  },
  {
   "cell_type": "markdown",
   "id": "e467d650",
   "metadata": {
    "id": "0ab649e9"
   },
   "source": [
    "### making predictions on test dataset with beam_size of 5"
   ]
  },
  {
   "cell_type": "code",
   "execution_count": 350,
   "id": "3b2bf1d9",
   "metadata": {
    "id": "c58e0513",
    "outputId": "cd586145-cdf4-4c04-8724-fa154eb17c70"
   },
   "outputs": [
    {
     "name": "stderr",
     "output_type": "stream",
     "text": [
      "0it [00:00, ?it/s]\n"
     ]
    },
    {
     "ename": "TypeError",
     "evalue": "decode() got an unexpected keyword argument 'beam_size'",
     "output_type": "error",
     "traceback": [
      "\u001b[0;31m---------------------------------------------------------------------------\u001b[0m",
      "\u001b[0;31mTypeError\u001b[0m                                 Traceback (most recent call last)",
      "\u001b[0;32m<ipython-input-350-f6a4d39be4f6>\u001b[0m in \u001b[0;36m<module>\u001b[0;34m\u001b[0m\n\u001b[1;32m      2\u001b[0m \u001b[0;32mfor\u001b[0m \u001b[0mbatch_image\u001b[0m\u001b[0;34m,\u001b[0m \u001b[0mbatch_emo\u001b[0m\u001b[0;34m,\u001b[0m \u001b[0mbatch_sentiment\u001b[0m \u001b[0;32min\u001b[0m \u001b[0mtqdm\u001b[0m\u001b[0;34m(\u001b[0m\u001b[0mzip\u001b[0m\u001b[0;34m(\u001b[0m\u001b[0mtest_images\u001b[0m\u001b[0;34m,\u001b[0m \u001b[0mtest_emo\u001b[0m\u001b[0;34m,\u001b[0m \u001b[0mtest_sen\u001b[0m\u001b[0;34m)\u001b[0m\u001b[0;34m)\u001b[0m\u001b[0;34m:\u001b[0m\u001b[0;34m\u001b[0m\u001b[0;34m\u001b[0m\u001b[0m\n\u001b[1;32m      3\u001b[0m     \u001b[0;32mfor\u001b[0m \u001b[0mimage\u001b[0m\u001b[0;34m,\u001b[0m \u001b[0memo\u001b[0m\u001b[0;34m,\u001b[0m \u001b[0msen\u001b[0m \u001b[0;32min\u001b[0m \u001b[0mzip\u001b[0m\u001b[0;34m(\u001b[0m\u001b[0mbatch_image\u001b[0m\u001b[0;34m,\u001b[0m \u001b[0mbatch_emo\u001b[0m\u001b[0;34m,\u001b[0m \u001b[0mbatch_sentiment\u001b[0m\u001b[0;34m)\u001b[0m\u001b[0;34m:\u001b[0m\u001b[0;34m\u001b[0m\u001b[0;34m\u001b[0m\u001b[0m\n\u001b[0;32m----> 4\u001b[0;31m         \u001b[0mresult\u001b[0m \u001b[0;34m=\u001b[0m \u001b[0mpredict\u001b[0m\u001b[0;34m(\u001b[0m\u001b[0mimage\u001b[0m\u001b[0;34m,\u001b[0m \u001b[0memo\u001b[0m\u001b[0;34m,\u001b[0m\u001b[0msen\u001b[0m\u001b[0;34m,\u001b[0m \u001b[0mgreedy_decoder\u001b[0m\u001b[0;34m,\u001b[0m \u001b[0minverse_vocab\u001b[0m\u001b[0;34m,\u001b[0m \u001b[0mbeam_size\u001b[0m\u001b[0;34m=\u001b[0m\u001b[0;36m5\u001b[0m\u001b[0;34m)\u001b[0m\u001b[0;34m\u001b[0m\u001b[0;34m\u001b[0m\u001b[0m\n\u001b[0m\u001b[1;32m      5\u001b[0m         \u001b[0mtest_predictions\u001b[0m\u001b[0;34m.\u001b[0m\u001b[0mappend\u001b[0m\u001b[0;34m(\u001b[0m\u001b[0mresult\u001b[0m\u001b[0;34m)\u001b[0m\u001b[0;34m\u001b[0m\u001b[0;34m\u001b[0m\u001b[0m\n",
      "\u001b[0;32m<ipython-input-300-82c3279a7b73>\u001b[0m in \u001b[0;36mpredict\u001b[0;34m(data, emo_feature, sen_feature, decoder, inverse_vocab, beam_size)\u001b[0m\n\u001b[1;32m      2\u001b[0m            beam_size=None):\n\u001b[1;32m      3\u001b[0m     \u001b[0;32mif\u001b[0m \u001b[0mbeam_size\u001b[0m\u001b[0;34m:\u001b[0m\u001b[0;34m\u001b[0m\u001b[0;34m\u001b[0m\u001b[0m\n\u001b[0;32m----> 4\u001b[0;31m         \u001b[0mresult\u001b[0m \u001b[0;34m=\u001b[0m \u001b[0mdecoder\u001b[0m\u001b[0;34m.\u001b[0m\u001b[0mdecode\u001b[0m\u001b[0;34m(\u001b[0m\u001b[0mdata\u001b[0m\u001b[0;34m,\u001b[0m\u001b[0memo_feature\u001b[0m\u001b[0;34m,\u001b[0m \u001b[0msen_feature\u001b[0m\u001b[0;34m,\u001b[0m  \u001b[0mbeam_size\u001b[0m\u001b[0;34m=\u001b[0m\u001b[0mbeam_size\u001b[0m\u001b[0;34m)\u001b[0m\u001b[0;34m\u001b[0m\u001b[0;34m\u001b[0m\u001b[0m\n\u001b[0m\u001b[1;32m      5\u001b[0m     \u001b[0;32melse\u001b[0m\u001b[0;34m:\u001b[0m\u001b[0;34m\u001b[0m\u001b[0;34m\u001b[0m\u001b[0m\n\u001b[1;32m      6\u001b[0m         \u001b[0mresult\u001b[0m \u001b[0;34m=\u001b[0m \u001b[0mdecoder\u001b[0m\u001b[0;34m.\u001b[0m\u001b[0mdecode\u001b[0m\u001b[0;34m(\u001b[0m\u001b[0mdata\u001b[0m\u001b[0;34m,\u001b[0m\u001b[0memo_feature\u001b[0m\u001b[0;34m,\u001b[0m \u001b[0msen_feature\u001b[0m\u001b[0;34m,\u001b[0m \u001b[0;34m)\u001b[0m\u001b[0;34m\u001b[0m\u001b[0;34m\u001b[0m\u001b[0m\n",
      "\u001b[0;31mTypeError\u001b[0m: decode() got an unexpected keyword argument 'beam_size'"
     ]
    }
   ],
   "source": [
    "test_predictions = []\n",
    "for batch_image, batch_emo, batch_sentiment in tqdm(zip(test_images, test_emo, test_sen)):\n",
    "    for image, emo, sen in zip(batch_image, batch_emo, batch_sentiment):\n",
    "        result = predict(image, emo,sen, beam_decoder, inverse_vocab, beam_size=5)\n",
    "        test_predictions.append(result)"
   ]
  },
  {
   "cell_type": "code",
   "execution_count": 351,
   "id": "174d5e7b",
   "metadata": {
    "id": "d5b3a561"
   },
   "outputs": [],
   "source": [
    "test_predictions = [i.split(' ') for i in test_predictions]"
   ]
  },
  {
   "cell_type": "code",
   "execution_count": 328,
   "id": "11cf996e",
   "metadata": {
    "id": "321a7d79"
   },
   "outputs": [],
   "source": [
    "reshaped_sequences = test_sequences.reshape(test_sequences.shape[0]*test_sequences.shape[1],-1)"
   ]
  },
  {
   "cell_type": "code",
   "execution_count": 341,
   "id": "bc6eb0ec",
   "metadata": {
    "id": "f08b271c"
   },
   "outputs": [],
   "source": [
    "test_sentences = []\n",
    "for i in reshaped_sequences:\n",
    "    tmp = []\n",
    "    for word in i:\n",
    "        if word!=0 and word!=1 and word!=2:\n",
    "            tmp.append(inverse_vocab[word])\n",
    "    test_sentences.append(tmp)"
   ]
  },
  {
   "cell_type": "code",
   "execution_count": 342,
   "id": "89280f2f",
   "metadata": {
    "id": "d59c5885",
    "outputId": "ef47af55-ff52-46c5-eca2-b29eb57e0773"
   },
   "outputs": [
    {
     "name": "stdout",
     "output_type": "stream",
     "text": [
      "Overall bleu score on test data : 0.05129540058358662\n"
     ]
    },
    {
     "name": "stderr",
     "output_type": "stream",
     "text": [
      "/home/ec2-user/anaconda3/envs/amazonei_tensorflow2_p36/lib/python3.6/site-packages/nltk/translate/bleu_score.py:523: UserWarning: \n",
      "The hypothesis contains 0 counts of 3-gram overlaps.\n",
      "Therefore the BLEU score evaluates to 0, independently of\n",
      "how many N-gram overlaps of lower order it contains.\n",
      "Consider using lower n-gram order or use SmoothingFunction()\n",
      "  warnings.warn(_msg)\n",
      "/home/ec2-user/anaconda3/envs/amazonei_tensorflow2_p36/lib/python3.6/site-packages/nltk/translate/bleu_score.py:523: UserWarning: \n",
      "The hypothesis contains 0 counts of 4-gram overlaps.\n",
      "Therefore the BLEU score evaluates to 0, independently of\n",
      "how many N-gram overlaps of lower order it contains.\n",
      "Consider using lower n-gram order or use SmoothingFunction()\n",
      "  warnings.warn(_msg)\n",
      "/home/ec2-user/anaconda3/envs/amazonei_tensorflow2_p36/lib/python3.6/site-packages/nltk/translate/bleu_score.py:523: UserWarning: \n",
      "The hypothesis contains 0 counts of 2-gram overlaps.\n",
      "Therefore the BLEU score evaluates to 0, independently of\n",
      "how many N-gram overlaps of lower order it contains.\n",
      "Consider using lower n-gram order or use SmoothingFunction()\n",
      "  warnings.warn(_msg)\n"
     ]
    }
   ],
   "source": [
    "bleu_score = []\n",
    "for reference, prediction in zip(test_sentences, test_predictions):\n",
    "    bleu_score.append(sentence_bleu([reference], prediction))\n",
    "print('Overall bleu score on test data : {}'.format(np.mean(bleu_score)))\n",
    "df['overall_bleu'] = np.mean(bleu_score)*100"
   ]
  },
  {
   "cell_type": "code",
   "execution_count": 343,
   "id": "b5034f30",
   "metadata": {},
   "outputs": [
    {
     "name": "stdout",
     "output_type": "stream",
     "text": [
      "Bleu score on test data for n-gram = 1 : 0.2598253373087054\n"
     ]
    }
   ],
   "source": [
    "bleu_score = []\n",
    "for reference, prediction in zip(test_sentences, test_predictions):\n",
    "    bleu_score.append(sentence_bleu([reference], prediction, weights=(1,)))\n",
    "print('Bleu score on test data for n-gram = 1 : {}'.format(np.mean(bleu_score)))\n",
    "df['n1_bleu'] = np.mean(bleu_score)*100"
   ]
  },
  {
   "cell_type": "code",
   "execution_count": 344,
   "id": "d8a6d488",
   "metadata": {},
   "outputs": [
    {
     "name": "stdout",
     "output_type": "stream",
     "text": [
      "Bleu score on test data for n-gram = 2 : 0.12008032537918824\n"
     ]
    }
   ],
   "source": [
    "bleu_score = []\n",
    "for reference, prediction in zip(test_sentences, test_predictions):\n",
    "    bleu_score.append(sentence_bleu([reference], prediction, weights=(0,1)))\n",
    "print('Bleu score on test data for n-gram = 2 : {}'.format(np.mean(bleu_score)))\n",
    "df['n2_bleu'] = np.mean(bleu_score)*100"
   ]
  },
  {
   "cell_type": "code",
   "execution_count": 345,
   "id": "40e62488",
   "metadata": {},
   "outputs": [
    {
     "name": "stdout",
     "output_type": "stream",
     "text": [
      "Bleu score on test data for n-gram = 3 : 0.06714694328176718\n"
     ]
    }
   ],
   "source": [
    "bleu_score = []\n",
    "for reference, prediction in zip(test_sentences, test_predictions):\n",
    "    bleu_score.append(sentence_bleu([reference], prediction, weights=(0,0,1)))\n",
    "print('Bleu score on test data for n-gram = 3 : {}'.format(np.mean(bleu_score)))\n",
    "df['n3_bleu'] = np.mean(bleu_score)*100"
   ]
  },
  {
   "cell_type": "code",
   "execution_count": 346,
   "id": "3ae7804d",
   "metadata": {},
   "outputs": [
    {
     "name": "stdout",
     "output_type": "stream",
     "text": [
      "Bleu score on test data for n-gram = 4 : 0.04436176104934993\n"
     ]
    }
   ],
   "source": [
    "bleu_score = []\n",
    "for reference, prediction in zip(test_sentences, test_predictions):\n",
    "    bleu_score.append(sentence_bleu([reference], prediction, weights=(0,0,0,1)))\n",
    "print('Bleu score on test data for n-gram = 4 : {}'.format(np.mean(bleu_score)))\n",
    "df['n4_bleu'] = np.mean(bleu_score)*100"
   ]
  },
  {
   "cell_type": "code",
   "execution_count": 347,
   "id": "545385b3",
   "metadata": {},
   "outputs": [
    {
     "name": "stdout",
     "output_type": "stream",
     "text": [
      "Acuumulated bleu score on test data for n-gram = 4 : 0.05129540058358662\n"
     ]
    }
   ],
   "source": [
    "bleu_score = []\n",
    "for reference, prediction in zip(test_sentences, test_predictions):\n",
    "    bleu_score.append(sentence_bleu([reference], prediction, weights=(0.25,0.25,0.25,0.25)))\n",
    "print('Acuumulated bleu score on test data for n-gram = 4 : {}'.format(np.mean(bleu_score)))\n",
    "df['acc_bleu'] = np.mean(bleu_score)*100"
   ]
  },
  {
   "cell_type": "code",
   "execution_count": 348,
   "id": "fb107d7e",
   "metadata": {},
   "outputs": [
    {
     "data": {
      "text/html": [
       "<div>\n",
       "<style scoped>\n",
       "    .dataframe tbody tr th:only-of-type {\n",
       "        vertical-align: middle;\n",
       "    }\n",
       "\n",
       "    .dataframe tbody tr th {\n",
       "        vertical-align: top;\n",
       "    }\n",
       "\n",
       "    .dataframe thead th {\n",
       "        text-align: right;\n",
       "    }\n",
       "</style>\n",
       "<table border=\"1\" class=\"dataframe\">\n",
       "  <thead>\n",
       "    <tr style=\"text-align: right;\">\n",
       "      <th></th>\n",
       "      <th>train_perplexity</th>\n",
       "      <th>val_perplexity</th>\n",
       "      <th>train_loss</th>\n",
       "      <th>val_loss</th>\n",
       "      <th>overall_bleu</th>\n",
       "      <th>n1_bleu</th>\n",
       "      <th>n2_bleu</th>\n",
       "      <th>n3_bleu</th>\n",
       "      <th>n4_bleu</th>\n",
       "      <th>acc_bleu</th>\n",
       "    </tr>\n",
       "  </thead>\n",
       "  <tbody>\n",
       "    <tr>\n",
       "      <th>0</th>\n",
       "      <td>396.218262</td>\n",
       "      <td>49.219929</td>\n",
       "      <td>4.903885</td>\n",
       "      <td>3.873484</td>\n",
       "      <td>5.12954</td>\n",
       "      <td>25.982534</td>\n",
       "      <td>12.008033</td>\n",
       "      <td>6.714694</td>\n",
       "      <td>4.436176</td>\n",
       "      <td>5.12954</td>\n",
       "    </tr>\n",
       "    <tr>\n",
       "      <th>1</th>\n",
       "      <td>32.396442</td>\n",
       "      <td>33.650906</td>\n",
       "      <td>3.451305</td>\n",
       "      <td>3.487539</td>\n",
       "      <td>5.12954</td>\n",
       "      <td>25.982534</td>\n",
       "      <td>12.008033</td>\n",
       "      <td>6.714694</td>\n",
       "      <td>4.436176</td>\n",
       "      <td>5.12954</td>\n",
       "    </tr>\n",
       "    <tr>\n",
       "      <th>2</th>\n",
       "      <td>20.933407</td>\n",
       "      <td>29.446531</td>\n",
       "      <td>3.025698</td>\n",
       "      <td>3.351174</td>\n",
       "      <td>5.12954</td>\n",
       "      <td>25.982534</td>\n",
       "      <td>12.008033</td>\n",
       "      <td>6.714694</td>\n",
       "      <td>4.436176</td>\n",
       "      <td>5.12954</td>\n",
       "    </tr>\n",
       "    <tr>\n",
       "      <th>3</th>\n",
       "      <td>15.941139</td>\n",
       "      <td>27.543989</td>\n",
       "      <td>2.756493</td>\n",
       "      <td>3.281753</td>\n",
       "      <td>5.12954</td>\n",
       "      <td>25.982534</td>\n",
       "      <td>12.008033</td>\n",
       "      <td>6.714694</td>\n",
       "      <td>4.436176</td>\n",
       "      <td>5.12954</td>\n",
       "    </tr>\n",
       "    <tr>\n",
       "      <th>4</th>\n",
       "      <td>12.705977</td>\n",
       "      <td>27.444311</td>\n",
       "      <td>2.533039</td>\n",
       "      <td>3.278174</td>\n",
       "      <td>5.12954</td>\n",
       "      <td>25.982534</td>\n",
       "      <td>12.008033</td>\n",
       "      <td>6.714694</td>\n",
       "      <td>4.436176</td>\n",
       "      <td>5.12954</td>\n",
       "    </tr>\n",
       "  </tbody>\n",
       "</table>\n",
       "</div>"
      ],
      "text/plain": [
       "   train_perplexity  val_perplexity  train_loss  val_loss  overall_bleu  \\\n",
       "0        396.218262       49.219929    4.903885  3.873484       5.12954   \n",
       "1         32.396442       33.650906    3.451305  3.487539       5.12954   \n",
       "2         20.933407       29.446531    3.025698  3.351174       5.12954   \n",
       "3         15.941139       27.543989    2.756493  3.281753       5.12954   \n",
       "4         12.705977       27.444311    2.533039  3.278174       5.12954   \n",
       "\n",
       "     n1_bleu    n2_bleu   n3_bleu   n4_bleu  acc_bleu  \n",
       "0  25.982534  12.008033  6.714694  4.436176   5.12954  \n",
       "1  25.982534  12.008033  6.714694  4.436176   5.12954  \n",
       "2  25.982534  12.008033  6.714694  4.436176   5.12954  \n",
       "3  25.982534  12.008033  6.714694  4.436176   5.12954  \n",
       "4  25.982534  12.008033  6.714694  4.436176   5.12954  "
      ]
     },
     "execution_count": 348,
     "metadata": {},
     "output_type": "execute_result"
    }
   ],
   "source": [
    "df.head()"
   ]
  },
  {
   "cell_type": "code",
   "execution_count": 349,
   "id": "80fb3959",
   "metadata": {},
   "outputs": [],
   "source": [
    "df.to_csv('{}_logs.csv'.format(model_name),index=False)"
   ]
  },
  {
   "cell_type": "code",
   "execution_count": 151,
   "id": "0b7e8d74",
   "metadata": {},
   "outputs": [],
   "source": [
    "conv_encoder.save_weights('{}_encoder.h5'.format(model_name))"
   ]
  },
  {
   "cell_type": "code",
   "execution_count": 152,
   "id": "35e1f746",
   "metadata": {},
   "outputs": [],
   "source": [
    "lstm_decoder.save_weights('{}_decoder.h5'.format(model_name))"
   ]
  },
  {
   "cell_type": "code",
   "execution_count": null,
   "id": "1de5b9df",
   "metadata": {},
   "outputs": [],
   "source": []
  },
  {
   "cell_type": "code",
   "execution_count": null,
   "id": "81397d6b",
   "metadata": {},
   "outputs": [],
   "source": []
  }
 ],
 "metadata": {
  "colab": {
   "name": "conv_lstm_caption_full_transfer_learning_enc_dec.ipynb",
   "provenance": []
  },
  "kernelspec": {
   "display_name": "conda_amazonei_tensorflow2_p36",
   "language": "python",
   "name": "conda_amazonei_tensorflow2_p36"
  },
  "language_info": {
   "codemirror_mode": {
    "name": "ipython",
    "version": 3
   },
   "file_extension": ".py",
   "mimetype": "text/x-python",
   "name": "python",
   "nbconvert_exporter": "python",
   "pygments_lexer": "ipython3",
   "version": "3.6.13"
  }
 },
 "nbformat": 4,
 "nbformat_minor": 5
}
