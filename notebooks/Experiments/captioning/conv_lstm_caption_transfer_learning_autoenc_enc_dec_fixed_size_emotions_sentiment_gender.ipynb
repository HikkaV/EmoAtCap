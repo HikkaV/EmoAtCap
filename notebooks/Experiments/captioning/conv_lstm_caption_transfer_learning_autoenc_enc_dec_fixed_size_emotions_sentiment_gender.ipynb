{
 "cells": [
  {
   "cell_type": "code",
   "execution_count": 1,
   "id": "049fb20d",
   "metadata": {
    "id": "e2d397db"
   },
   "outputs": [],
   "source": [
    "import tensorflow as tf"
   ]
  },
  {
   "cell_type": "code",
   "execution_count": 2,
   "id": "8d08fb0a",
   "metadata": {
    "id": "9964723c"
   },
   "outputs": [],
   "source": [
    "import pandas as pd\n",
    "import os\n",
    "import numpy as np\n",
    "from sklearn.utils import class_weight\n",
    "from keras_preprocessing import image as im\n",
    "tf.random.set_seed(\n",
    "    5\n",
    ")"
   ]
  },
  {
   "cell_type": "markdown",
   "id": "6a3a6105",
   "metadata": {
    "id": "8ce21b4a"
   },
   "source": [
    "# Loading data"
   ]
  },
  {
   "cell_type": "code",
   "execution_count": 3,
   "id": "fd47b923",
   "metadata": {
    "id": "214a30af"
   },
   "outputs": [],
   "source": [
    "def load_data(image_path, annotations_path):\n",
    "    df = pd.read_csv(annotations_path)\n",
    "    df = df[~df['human_sentiment'].isna()]\n",
    "    in_folder = os.listdir(image_path)\n",
    "    df.loc[df['image_name'].isin(in_folder), 'image_name'] = \\\n",
    "    df.loc[df['image_name'].isin(in_folder), 'image_name'].apply(lambda x: os.path.join(image_path,x))\n",
    "    images = []\n",
    "    for image_name in df['image_name'].values:\n",
    "        images.append(np.array(im.load_img(image_name, target_size=(224,224))))\n",
    "    images = np.array(images)\n",
    "    images = images/255\n",
    "    annotations = df['annotation'].str.lower().values\n",
    "    return images, annotations, df"
   ]
  },
  {
   "cell_type": "code",
   "execution_count": 4,
   "id": "d55495d2",
   "metadata": {
    "id": "e483de83"
   },
   "outputs": [],
   "source": [
    "images, annotations, df = load_data(\"../../../../images/\", '../../../../emo-at-cap.csv')"
   ]
  },
  {
   "cell_type": "code",
   "execution_count": 5,
   "id": "5bc19379",
   "metadata": {},
   "outputs": [],
   "source": [
    "import pickle\n",
    "with open('emotion_features.pl', 'rb') as f:\n",
    "    emotion_features = pickle.load(f)"
   ]
  },
  {
   "cell_type": "code",
   "execution_count": 6,
   "id": "9a182339",
   "metadata": {},
   "outputs": [],
   "source": [
    "sentiment = df['sentiment'].values"
   ]
  },
  {
   "cell_type": "code",
   "execution_count": 7,
   "id": "a8310a1d",
   "metadata": {},
   "outputs": [],
   "source": [
    "with open('gender_features.pl', 'rb') as f:\n",
    "    gender_features = pickle.load(f)"
   ]
  },
  {
   "cell_type": "markdown",
   "id": "eb3d9cfa",
   "metadata": {
    "id": "3cb1f9e8"
   },
   "source": [
    "# Processing of data"
   ]
  },
  {
   "cell_type": "code",
   "execution_count": 8,
   "id": "78644a8f",
   "metadata": {
    "id": "4ba97451"
   },
   "outputs": [],
   "source": [
    "import nltk"
   ]
  },
  {
   "cell_type": "code",
   "execution_count": 9,
   "id": "1726d815",
   "metadata": {
    "id": "3898996e"
   },
   "outputs": [],
   "source": [
    "tokenizer = nltk.tokenize.WordPunctTokenizer()"
   ]
  },
  {
   "cell_type": "code",
   "execution_count": 10,
   "id": "40886902",
   "metadata": {},
   "outputs": [],
   "source": [
    "from sklearn.preprocessing import OneHotEncoder"
   ]
  },
  {
   "cell_type": "code",
   "execution_count": 11,
   "id": "62bdc795",
   "metadata": {},
   "outputs": [],
   "source": [
    "one_hot_enc = OneHotEncoder()\n",
    "sentiment = one_hot_enc.fit_transform(sentiment.reshape(-1,1))"
   ]
  },
  {
   "cell_type": "code",
   "execution_count": 12,
   "id": "8d66aaa9",
   "metadata": {
    "id": "b568172f"
   },
   "outputs": [],
   "source": [
    "tokenized = [tokenizer.tokenize(i) for i in annotations]"
   ]
  },
  {
   "cell_type": "code",
   "execution_count": 13,
   "id": "1891b6e9",
   "metadata": {
    "id": "e1021302"
   },
   "outputs": [],
   "source": [
    "unique_tokens, unique_counts = np.unique(np.hstack(tokenized), return_counts=True)"
   ]
  },
  {
   "cell_type": "code",
   "execution_count": 14,
   "id": "4eee0f5f",
   "metadata": {
    "id": "7eaea268",
    "outputId": "9d0d2069-1025-47e1-e098-24715fb6ec45"
   },
   "outputs": [
    {
     "name": "stderr",
     "output_type": "stream",
     "text": [
      "/home/ec2-user/anaconda3/envs/amazonei_tensorflow2_p36/lib/python3.6/site-packages/sklearn/utils/validation.py:72: FutureWarning: Pass classes=[\"'\" ',' '-' ... 'youth' 'исходный' 'текст'], y=['the' 'man' 'is' ... 'with' 'some' 'clothes'] as keyword args. From version 1.0 (renaming of 0.25) passing these as positional arguments will result in an error\n",
      "  \"will result in an error\", FutureWarning)\n"
     ]
    }
   ],
   "source": [
    "class_weights = class_weight.compute_class_weight('balanced', np.unique(np.hstack(tokenized)), np.hstack(tokenized))"
   ]
  },
  {
   "cell_type": "code",
   "execution_count": 15,
   "id": "7b91daba",
   "metadata": {
    "id": "eb8ef5f2"
   },
   "outputs": [],
   "source": [
    "frequency = sorted(list(zip(unique_tokens, unique_counts)), key = lambda x: x[1])[::-1][:50]"
   ]
  },
  {
   "cell_type": "code",
   "execution_count": 16,
   "id": "26ce55ab",
   "metadata": {
    "id": "f3f16b78",
    "outputId": "7ba159bf-6ea6-4ee2-bd5c-7ed65db04f20"
   },
   "outputs": [
    {
     "data": {
      "text/plain": [
       "[('the', 3261),\n",
       " ('is', 2031),\n",
       " ('man', 1905),\n",
       " ('and', 1536),\n",
       " ('woman', 1361),\n",
       " ('are', 1036),\n",
       " ('a', 963),\n",
       " ('to', 891),\n",
       " ('looks', 751),\n",
       " ('happy', 705),\n",
       " ('with', 547),\n",
       " ('something', 480),\n",
       " ('men', 478),\n",
       " ('of', 463),\n",
       " ('two', 408),\n",
       " ('other', 361),\n",
       " ('people', 343),\n",
       " ('couple', 334),\n",
       " (',', 330),\n",
       " ('in', 278),\n",
       " ('look', 270),\n",
       " ('because', 265),\n",
       " ('they', 256),\n",
       " ('about', 247),\n",
       " ('on', 246),\n",
       " ('at', 192),\n",
       " ('trying', 190),\n",
       " ('serious', 189),\n",
       " ('women', 184),\n",
       " ('each', 179),\n",
       " ('together', 176),\n",
       " ('by', 175),\n",
       " ('having', 171),\n",
       " ('flirting', 165),\n",
       " ('he', 155),\n",
       " ('smiling', 151),\n",
       " ('arguing', 141),\n",
       " ('angry', 140),\n",
       " ('scared', 138),\n",
       " ('worried', 137),\n",
       " ('hugging', 135),\n",
       " ('surprised', 134),\n",
       " ('calm', 133),\n",
       " ('company', 131),\n",
       " ('her', 129),\n",
       " ('group', 123),\n",
       " ('for', 121),\n",
       " ('she', 117),\n",
       " ('looking', 117),\n",
       " ('his', 115)]"
      ]
     },
     "execution_count": 16,
     "metadata": {},
     "output_type": "execute_result"
    }
   ],
   "source": [
    "frequency"
   ]
  },
  {
   "cell_type": "code",
   "execution_count": 17,
   "id": "13071873",
   "metadata": {
    "id": "f950e507",
    "outputId": "98b430e4-e506-4337-c1ed-88e22edac668"
   },
   "outputs": [
    {
     "data": {
      "text/plain": [
       "2162"
      ]
     },
     "execution_count": 17,
     "metadata": {},
     "output_type": "execute_result"
    }
   ],
   "source": [
    "len(unique_tokens)"
   ]
  },
  {
   "cell_type": "code",
   "execution_count": 18,
   "id": "8472604f",
   "metadata": {
    "id": "6000f578"
   },
   "outputs": [],
   "source": [
    "pad_token = '<PAD>'\n",
    "start_token = '<S>'\n",
    "end_token = '<E>'"
   ]
  },
  {
   "cell_type": "code",
   "execution_count": 19,
   "id": "53f9342f",
   "metadata": {
    "id": "4bc8861e"
   },
   "outputs": [],
   "source": [
    "vocab = dict(zip(unique_tokens,list(range(3,len(unique_tokens)+3))))\n",
    "vocab[pad_token] = 0\n",
    "vocab[start_token] = 1\n",
    "vocab[end_token] = 2"
   ]
  },
  {
   "cell_type": "code",
   "execution_count": 20,
   "id": "6be768a4",
   "metadata": {
    "id": "ea82ff64"
   },
   "outputs": [],
   "source": [
    "inverse_vocab = dict([(v,k) for k,v in vocab.items()])"
   ]
  },
  {
   "cell_type": "code",
   "execution_count": 21,
   "id": "36b8eab4",
   "metadata": {
    "id": "88aee17b"
   },
   "outputs": [],
   "source": [
    "def padd(sentences, pad_token, start_token, end_token, maxlen=10):\n",
    "    padded_sentences = []\n",
    "    for i in sentences:\n",
    "        sentence = [start_token] + i + [end_token]\n",
    "        if len(sentence)>=maxlen+2:\n",
    "            sentence = sentence[:maxlen+2]\n",
    "        else:\n",
    "            sentence = sentence+[pad_token for i in range(maxlen+2-len(sentence))]\n",
    "        padded_sentences.append(sentence)\n",
    "    return padded_sentences"
   ]
  },
  {
   "cell_type": "code",
   "execution_count": 22,
   "id": "21a959da",
   "metadata": {
    "id": "7c387246"
   },
   "outputs": [],
   "source": [
    "padded_sentences = padd(tokenized, pad_token, start_token, end_token, maxlen=10)"
   ]
  },
  {
   "cell_type": "code",
   "execution_count": 23,
   "id": "fbdce1e4",
   "metadata": {
    "id": "dae31ba2",
    "outputId": "486e686d-f0b8-4618-af6d-1e7c60ea39c9"
   },
   "outputs": [
    {
     "data": {
      "text/plain": [
       "12.0"
      ]
     },
     "execution_count": 23,
     "metadata": {},
     "output_type": "execute_result"
    }
   ],
   "source": [
    "np.mean([len(i) for i in padded_sentences])"
   ]
  },
  {
   "cell_type": "code",
   "execution_count": 24,
   "id": "789fd8b4",
   "metadata": {
    "id": "1dbf265e"
   },
   "outputs": [],
   "source": [
    "indexed = list(map(lambda x: [vocab[i] for i in x],padded_sentences))"
   ]
  },
  {
   "cell_type": "code",
   "execution_count": 25,
   "id": "9d5eb81a",
   "metadata": {
    "id": "cf6c28d5",
    "outputId": "7d1336e9-b529-4aa8-b9bc-2ffcb1932e4f"
   },
   "outputs": [
    {
     "data": {
      "text/plain": [
       "(3840, 224, 224, 3)"
      ]
     },
     "execution_count": 25,
     "metadata": {},
     "output_type": "execute_result"
    }
   ],
   "source": [
    "images.shape"
   ]
  },
  {
   "cell_type": "code",
   "execution_count": 26,
   "id": "7c13847f",
   "metadata": {
    "id": "e0517b86",
    "outputId": "c6ec86e9-44db-4bcd-f81b-202d2d1a04b4"
   },
   "outputs": [
    {
     "data": {
      "text/plain": [
       "2162"
      ]
     },
     "execution_count": 26,
     "metadata": {},
     "output_type": "execute_result"
    }
   ],
   "source": [
    "len(class_weights)"
   ]
  },
  {
   "cell_type": "code",
   "execution_count": 27,
   "id": "38d5556e",
   "metadata": {
    "id": "ab0f6f4b"
   },
   "outputs": [],
   "source": [
    "class_weights = list(class_weights)\n",
    "class_weights.insert(0, 1)\n",
    "class_weights.insert(1, 1)\n",
    "class_weights.insert(2, 1)"
   ]
  },
  {
   "cell_type": "code",
   "execution_count": 28,
   "id": "1eb7ed49",
   "metadata": {
    "id": "05479771",
    "outputId": "2c7a7e8f-765f-4f04-a736-13a683275744"
   },
   "outputs": [
    {
     "data": {
      "text/plain": [
       "(2165, 2165)"
      ]
     },
     "execution_count": 28,
     "metadata": {},
     "output_type": "execute_result"
    }
   ],
   "source": [
    "len(class_weights), len(vocab)"
   ]
  },
  {
   "cell_type": "code",
   "execution_count": 29,
   "id": "b5f7949a",
   "metadata": {
    "id": "41ca43a8",
    "outputId": "bf3fd02b-b281-45d1-c2f5-ecde217c10c3"
   },
   "outputs": [
    {
     "data": {
      "text/plain": [
       "[1, 1, 1, 0.21013259327782918]"
      ]
     },
     "execution_count": 29,
     "metadata": {},
     "output_type": "execute_result"
    }
   ],
   "source": [
    "class_weights[:4]"
   ]
  },
  {
   "cell_type": "code",
   "execution_count": 30,
   "id": "5b661713",
   "metadata": {
    "id": "8a65a1f9"
   },
   "outputs": [],
   "source": [
    "class_weights = np.array(class_weights)"
   ]
  },
  {
   "cell_type": "code",
   "execution_count": 31,
   "id": "63b9295a",
   "metadata": {
    "id": "69a12138",
    "outputId": "58861466-75dd-46b2-e607-f3adf8280f92"
   },
   "outputs": [
    {
     "data": {
      "text/plain": [
       "(2165,)"
      ]
     },
     "execution_count": 31,
     "metadata": {},
     "output_type": "execute_result"
    }
   ],
   "source": [
    "class_weights.shape"
   ]
  },
  {
   "cell_type": "markdown",
   "id": "53f3e821",
   "metadata": {
    "id": "87b12db3"
   },
   "source": [
    "# Model with transfer learning"
   ]
  },
  {
   "cell_type": "code",
   "execution_count": 32,
   "id": "5d02a1b8",
   "metadata": {
    "id": "1bc5b828"
   },
   "outputs": [],
   "source": [
    "def calc_size(x, f, s, padding='same'):\n",
    "    p = 2 if padding=='same' else 1\n",
    "    return (x-f+2)/s+1"
   ]
  },
  {
   "cell_type": "markdown",
   "id": "7e38be89",
   "metadata": {
    "id": "7b9f00b4"
   },
   "source": [
    "### Convolutional model"
   ]
  },
  {
   "cell_type": "code",
   "execution_count": 33,
   "id": "18ede84d",
   "metadata": {
    "id": "10203a8b"
   },
   "outputs": [],
   "source": [
    "import tensorflow.keras.applications as apps\n"
   ]
  },
  {
   "cell_type": "code",
   "execution_count": 33,
   "id": "eae0bec1",
   "metadata": {},
   "outputs": [
    {
     "name": "stdout",
     "output_type": "stream",
     "text": [
      "WARNING:tensorflow:No training configuration found in the save file, so the model was *not* compiled. Compile it manually.\n",
      "Model: \"encoder\"\n",
      "_________________________________________________________________\n",
      "Layer (type)                 Output Shape              Param #   \n",
      "=================================================================\n",
      "conv2d (Conv2D)              (None, 224, 224, 32)      896       \n",
      "_________________________________________________________________\n",
      "max_pooling2d (MaxPooling2D) (None, 112, 112, 32)      0         \n",
      "_________________________________________________________________\n",
      "conv2d_1 (Conv2D)            (None, 112, 112, 64)      18496     \n",
      "_________________________________________________________________\n",
      "max_pooling2d_1 (MaxPooling2 (None, 56, 56, 64)        0         \n",
      "_________________________________________________________________\n",
      "conv2d_2 (Conv2D)            (None, 56, 56, 128)       73856     \n",
      "_________________________________________________________________\n",
      "max_pooling2d_2 (MaxPooling2 (None, 28, 28, 128)       0         \n",
      "_________________________________________________________________\n",
      "conv2d_3 (Conv2D)            (None, 28, 28, 256)       295168    \n",
      "_________________________________________________________________\n",
      "max_pooling2d_3 (MaxPooling2 (None, 14, 14, 256)       0         \n",
      "_________________________________________________________________\n",
      "conv2d_4 (Conv2D)            (None, 14, 14, 512)       1180160   \n",
      "_________________________________________________________________\n",
      "max_pooling2d_4 (MaxPooling2 (None, 7, 7, 512)         0         \n",
      "_________________________________________________________________\n",
      "flatten (Flatten)            (None, 25088)             0         \n",
      "_________________________________________________________________\n",
      "dense (Dense)                (None, 128)               3211392   \n",
      "=================================================================\n",
      "Total params: 4,779,968\n",
      "Trainable params: 4,779,968\n",
      "Non-trainable params: 0\n",
      "_________________________________________________________________\n"
     ]
    }
   ],
   "source": [
    "tf.keras.models.load_model('encoder.h5').summary()"
   ]
  },
  {
   "cell_type": "code",
   "execution_count": 34,
   "id": "52c982b0",
   "metadata": {
    "colab": {
     "base_uri": "https://localhost:8080/",
     "height": 235
    },
    "id": "c8c52aa1",
    "outputId": "36d889da-8981-413e-bb50-72bce618f234"
   },
   "outputs": [],
   "source": [
    "class ConvEncoder(tf.keras.Model):\n",
    "    def __init__(self, trainable=False):\n",
    "        super(ConvEncoder, self).__init__()\n",
    "        #loading pretrained encoder\n",
    "        self.encoder = tf.keras.models.load_model('encoder.h5')\n",
    "        self.encoder.trainable=trainable\n",
    "        \n",
    "        #on top layers\n",
    "        self.dense1 = tf.keras.layers.Dense(256, activation='relu')\n",
    "        self.dense2 = tf.keras.layers.Dense(256, activation='relu')\n",
    "        \n",
    "    def call(self, input):\n",
    "        features = self.encoder(input)\n",
    "        return [self.dense1(features), self.dense2(features)]"
   ]
  },
  {
   "cell_type": "code",
   "execution_count": 35,
   "id": "1dd74d54",
   "metadata": {
    "id": "0433171b"
   },
   "outputs": [
    {
     "name": "stdout",
     "output_type": "stream",
     "text": [
      "WARNING:tensorflow:No training configuration found in the save file, so the model was *not* compiled. Compile it manually.\n"
     ]
    }
   ],
   "source": [
    "conv_encoder = ConvEncoder()"
   ]
  },
  {
   "cell_type": "code",
   "execution_count": 36,
   "id": "ce3e69ec",
   "metadata": {
    "id": "68116817"
   },
   "outputs": [
    {
     "name": "stdout",
     "output_type": "stream",
     "text": [
      "WARNING:tensorflow:Layer conv_encoder is casting an input tensor from dtype float64 to the layer's dtype of float32, which is new behavior in TensorFlow 2.  The layer has dtype float32 because its dtype defaults to floatx.\n",
      "\n",
      "If you intended to run this layer in float32, you can safely ignore this warning. If in doubt, this warning is likely only an issue if you are porting a TensorFlow 1.X model to TensorFlow 2.\n",
      "\n",
      "To change all layers to have dtype float64 by default, call `tf.keras.backend.set_floatx('float64')`. To change just this layer, pass dtype='float64' to the layer constructor. If you are the author of this layer, you can disable autocasting by passing autocast=False to the base Layer constructor.\n",
      "\n"
     ]
    }
   ],
   "source": [
    "conv_res = conv_encoder(np.expand_dims(images[0],axis=0))"
   ]
  },
  {
   "cell_type": "code",
   "execution_count": 37,
   "id": "7784ab1a",
   "metadata": {},
   "outputs": [
    {
     "data": {
      "text/plain": [
       "[<tf.Tensor: shape=(1, 256), dtype=float32, numpy=\n",
       " array([[0.        , 0.03138161, 0.90139997, 0.1530464 , 0.        ,\n",
       "         0.        , 0.4331551 , 1.448478  , 0.        , 0.        ,\n",
       "         0.54014516, 0.        , 0.2345208 , 0.        , 1.7599672 ,\n",
       "         2.2833786 , 0.        , 0.6446878 , 0.        , 0.        ,\n",
       "         1.9025598 , 0.08810303, 0.11903951, 0.        , 0.10451436,\n",
       "         1.6270452 , 1.5704622 , 0.        , 0.17368805, 0.94622743,\n",
       "         0.7156482 , 0.92243934, 0.49381304, 0.        , 0.32112542,\n",
       "         0.21971312, 0.9188378 , 0.        , 0.34695274, 1.339732  ,\n",
       "         0.        , 2.4649563 , 0.8559554 , 2.1452699 , 0.27313313,\n",
       "         0.609342  , 2.0705836 , 0.        , 0.        , 0.42723823,\n",
       "         0.        , 0.20286131, 0.9459039 , 0.        , 0.        ,\n",
       "         0.        , 0.        , 1.4409425 , 1.0246812 , 0.        ,\n",
       "         0.3989364 , 0.        , 0.        , 0.49472904, 1.1246147 ,\n",
       "         0.        , 0.        , 0.        , 0.        , 0.5746299 ,\n",
       "         0.        , 0.8396273 , 0.0472784 , 0.36812028, 0.        ,\n",
       "         0.88280654, 0.34177706, 0.31561354, 0.        , 0.86386734,\n",
       "         0.22158706, 0.        , 0.        , 0.        , 1.6204529 ,\n",
       "         0.07969731, 0.        , 0.        , 0.        , 0.57666516,\n",
       "         1.8497119 , 0.        , 0.06809944, 0.        , 1.444943  ,\n",
       "         0.2102955 , 0.09936634, 1.7816527 , 0.        , 0.        ,\n",
       "         0.5839838 , 1.6332636 , 0.28284144, 0.        , 1.069628  ,\n",
       "         0.        , 0.        , 0.8772286 , 0.        , 0.        ,\n",
       "         0.        , 0.        , 0.19491681, 0.        , 0.        ,\n",
       "         2.497518  , 0.        , 0.        , 0.        , 1.6952302 ,\n",
       "         0.16541287, 0.        , 0.3609988 , 0.47201955, 0.        ,\n",
       "         0.        , 0.        , 0.        , 1.6035256 , 0.        ,\n",
       "         0.49137992, 0.        , 0.        , 2.1286082 , 0.        ,\n",
       "         0.7490022 , 0.4055848 , 0.        , 0.        , 1.1345836 ,\n",
       "         0.        , 0.13333285, 0.        , 0.502923  , 0.32622772,\n",
       "         0.46902   , 1.3540728 , 0.32908812, 0.23051706, 0.65414894,\n",
       "         1.2764673 , 0.        , 1.371294  , 0.        , 0.        ,\n",
       "         0.7533051 , 0.        , 0.        , 0.        , 0.3923363 ,\n",
       "         0.        , 0.49711126, 0.9247597 , 0.8482932 , 0.01667538,\n",
       "         0.        , 0.        , 0.        , 0.15845668, 0.        ,\n",
       "         1.755453  , 2.0478928 , 0.9873047 , 0.        , 1.7414124 ,\n",
       "         0.        , 0.        , 0.        , 0.        , 0.48602784,\n",
       "         0.17841035, 0.        , 2.5649397 , 0.        , 0.        ,\n",
       "         1.1231594 , 0.        , 0.        , 0.        , 0.        ,\n",
       "         0.        , 0.95190513, 0.        , 1.6252369 , 0.        ,\n",
       "         0.        , 0.53935957, 0.11008096, 0.0728662 , 0.31588465,\n",
       "         0.        , 1.3457232 , 0.        , 0.15184544, 0.        ,\n",
       "         0.        , 0.39490768, 0.        , 0.58528197, 0.        ,\n",
       "         0.73199004, 1.486873  , 0.9802181 , 0.        , 0.        ,\n",
       "         0.        , 0.        , 0.        , 0.5202682 , 0.03488958,\n",
       "         0.1510464 , 0.        , 0.        , 0.09813258, 0.21493602,\n",
       "         1.0666518 , 1.9750301 , 2.032999  , 0.        , 0.55319744,\n",
       "         0.        , 0.46162915, 0.        , 0.        , 0.        ,\n",
       "         0.        , 1.5656571 , 0.        , 1.7682906 , 0.88140947,\n",
       "         0.        , 0.17507909, 0.        , 0.23275334, 0.        ,\n",
       "         1.1001064 , 0.52141774, 0.24695358, 1.1519713 , 1.5414612 ,\n",
       "         0.8969289 , 0.4704333 , 0.        , 0.        , 0.        ,\n",
       "         0.5139296 ]], dtype=float32)>,\n",
       " <tf.Tensor: shape=(1, 256), dtype=float32, numpy=\n",
       " array([[5.5364323e-01, 0.0000000e+00, 1.5509559e-01, 0.0000000e+00,\n",
       "         0.0000000e+00, 2.6073992e-01, 0.0000000e+00, 0.0000000e+00,\n",
       "         0.0000000e+00, 0.0000000e+00, 0.0000000e+00, 1.1001790e+00,\n",
       "         5.7094938e-01, 0.0000000e+00, 6.1233830e-01, 1.3378861e+00,\n",
       "         2.2429218e+00, 0.0000000e+00, 1.7265145e+00, 4.0763268e-01,\n",
       "         0.0000000e+00, 0.0000000e+00, 1.4096941e+00, 1.0493829e+00,\n",
       "         0.0000000e+00, 7.4068093e-01, 1.5727895e+00, 0.0000000e+00,\n",
       "         1.4443558e+00, 0.0000000e+00, 8.2749975e-01, 1.7918861e+00,\n",
       "         1.1358359e+00, 0.0000000e+00, 0.0000000e+00, 0.0000000e+00,\n",
       "         0.0000000e+00, 0.0000000e+00, 0.0000000e+00, 0.0000000e+00,\n",
       "         0.0000000e+00, 1.8111508e+00, 0.0000000e+00, 2.8293821e-01,\n",
       "         3.1874448e-01, 0.0000000e+00, 0.0000000e+00, 1.1871514e+00,\n",
       "         0.0000000e+00, 1.2275234e+00, 3.5927126e-01, 0.0000000e+00,\n",
       "         3.5176209e-01, 0.0000000e+00, 1.5727097e-01, 0.0000000e+00,\n",
       "         0.0000000e+00, 3.4016323e-01, 0.0000000e+00, 1.0550145e+00,\n",
       "         0.0000000e+00, 5.2399385e-01, 5.0101817e-01, 0.0000000e+00,\n",
       "         0.0000000e+00, 0.0000000e+00, 3.5402995e-01, 0.0000000e+00,\n",
       "         0.0000000e+00, 0.0000000e+00, 3.9191836e-01, 6.8033278e-01,\n",
       "         1.8054926e+00, 1.9283640e+00, 0.0000000e+00, 1.4360092e+00,\n",
       "         0.0000000e+00, 0.0000000e+00, 7.8246123e-01, 0.0000000e+00,\n",
       "         0.0000000e+00, 0.0000000e+00, 1.6607981e+00, 6.9840133e-01,\n",
       "         0.0000000e+00, 0.0000000e+00, 0.0000000e+00, 0.0000000e+00,\n",
       "         9.5505702e-01, 9.0264136e-01, 8.9904678e-01, 4.8715752e-01,\n",
       "         1.1779695e+00, 4.8968911e-02, 1.6874570e-01, 6.2214684e-01,\n",
       "         0.0000000e+00, 0.0000000e+00, 0.0000000e+00, 1.7296222e+00,\n",
       "         0.0000000e+00, 0.0000000e+00, 0.0000000e+00, 1.3988978e+00,\n",
       "         4.8532036e-01, 1.8440521e-01, 0.0000000e+00, 0.0000000e+00,\n",
       "         0.0000000e+00, 1.1877269e+00, 0.0000000e+00, 0.0000000e+00,\n",
       "         8.5134363e-01, 3.2956511e-01, 2.0449835e-01, 0.0000000e+00,\n",
       "         5.4101443e-01, 0.0000000e+00, 2.3712668e-01, 0.0000000e+00,\n",
       "         0.0000000e+00, 0.0000000e+00, 0.0000000e+00, 0.0000000e+00,\n",
       "         0.0000000e+00, 6.5532595e-02, 3.7919724e-01, 5.4524684e-01,\n",
       "         3.7802923e-01, 1.0645802e+00, 5.7249987e-01, 1.0152757e+00,\n",
       "         1.0313790e+00, 0.0000000e+00, 0.0000000e+00, 1.0901988e+00,\n",
       "         0.0000000e+00, 3.7417170e-01, 3.4890914e-01, 0.0000000e+00,\n",
       "         0.0000000e+00, 0.0000000e+00, 0.0000000e+00, 6.1443377e-01,\n",
       "         8.3265001e-01, 8.2661724e-01, 0.0000000e+00, 0.0000000e+00,\n",
       "         1.7629192e+00, 1.4034660e+00, 0.0000000e+00, 2.3219838e+00,\n",
       "         0.0000000e+00, 1.3428809e-01, 5.2937284e-02, 2.3911813e-01,\n",
       "         6.1255658e-01, 0.0000000e+00, 8.1956744e-01, 0.0000000e+00,\n",
       "         0.0000000e+00, 0.0000000e+00, 0.0000000e+00, 1.3005540e+00,\n",
       "         1.1092795e+00, 6.5166318e-01, 0.0000000e+00, 1.8522854e+00,\n",
       "         5.6144595e-04, 1.4121667e+00, 5.6453645e-02, 1.3829494e-01,\n",
       "         0.0000000e+00, 0.0000000e+00, 0.0000000e+00, 2.2499816e+00,\n",
       "         5.3376883e-01, 3.7674668e-01, 2.9058608e-01, 5.9915185e-01,\n",
       "         0.0000000e+00, 0.0000000e+00, 0.0000000e+00, 0.0000000e+00,\n",
       "         0.0000000e+00, 6.1711156e-01, 0.0000000e+00, 0.0000000e+00,\n",
       "         1.0984161e+00, 0.0000000e+00, 0.0000000e+00, 5.8422148e-01,\n",
       "         1.2102722e+00, 0.0000000e+00, 0.0000000e+00, 6.9168091e-02,\n",
       "         0.0000000e+00, 0.0000000e+00, 0.0000000e+00, 1.1400028e+00,\n",
       "         0.0000000e+00, 1.3337889e+00, 8.3858478e-01, 3.4483075e-01,\n",
       "         2.2834477e-01, 1.9163489e-03, 0.0000000e+00, 0.0000000e+00,\n",
       "         0.0000000e+00, 8.5743558e-01, 0.0000000e+00, 0.0000000e+00,\n",
       "         0.0000000e+00, 1.2245132e+00, 0.0000000e+00, 2.2553225e+00,\n",
       "         1.3086281e+00, 0.0000000e+00, 0.0000000e+00, 1.5915782e+00,\n",
       "         0.0000000e+00, 0.0000000e+00, 4.3775582e-01, 0.0000000e+00,\n",
       "         0.0000000e+00, 9.6765149e-01, 1.4940305e+00, 6.1913019e-01,\n",
       "         0.0000000e+00, 7.5559306e-01, 0.0000000e+00, 0.0000000e+00,\n",
       "         0.0000000e+00, 0.0000000e+00, 0.0000000e+00, 0.0000000e+00,\n",
       "         0.0000000e+00, 0.0000000e+00, 5.7657224e-01, 0.0000000e+00,\n",
       "         0.0000000e+00, 0.0000000e+00, 4.0404102e-01, 2.5780284e-01,\n",
       "         0.0000000e+00, 0.0000000e+00, 4.5275092e-03, 0.0000000e+00,\n",
       "         2.2484154e-02, 0.0000000e+00, 5.4128587e-02, 2.5508150e-02,\n",
       "         1.5675153e+00, 2.5337992e+00, 0.0000000e+00, 1.5494825e+00]],\n",
       "       dtype=float32)>]"
      ]
     },
     "execution_count": 37,
     "metadata": {},
     "output_type": "execute_result"
    }
   ],
   "source": [
    "conv_res"
   ]
  },
  {
   "cell_type": "markdown",
   "id": "10cccb33",
   "metadata": {
    "id": "999c2bc0"
   },
   "source": [
    "### LSTM model"
   ]
  },
  {
   "cell_type": "markdown",
   "id": "d8fdea9a",
   "metadata": {
    "id": "26590f4e"
   },
   "source": [
    "### making w2v embeddings"
   ]
  },
  {
   "cell_type": "code",
   "execution_count": 38,
   "id": "3bc4b5eb",
   "metadata": {
    "id": "a5f650c0",
    "outputId": "7120055b-7c8b-4c55-d4a7-0d4cc8dfce18"
   },
   "outputs": [
    {
     "name": "stdout",
     "output_type": "stream",
     "text": [
      "Requirement already satisfied: gensim in /home/ec2-user/anaconda3/envs/amazonei_tensorflow2_p36/lib/python3.6/site-packages (4.0.1)\n",
      "Requirement already satisfied: smart-open>=1.8.1 in /home/ec2-user/anaconda3/envs/amazonei_tensorflow2_p36/lib/python3.6/site-packages (from gensim) (5.1.0)\n",
      "Requirement already satisfied: numpy>=1.11.3 in /home/ec2-user/anaconda3/envs/amazonei_tensorflow2_p36/lib/python3.6/site-packages (from gensim) (1.18.5)\n",
      "Requirement already satisfied: scipy>=0.18.1 in /home/ec2-user/anaconda3/envs/amazonei_tensorflow2_p36/lib/python3.6/site-packages (from gensim) (1.5.3)\n",
      "Requirement already satisfied: dataclasses in /home/ec2-user/anaconda3/envs/amazonei_tensorflow2_p36/lib/python3.6/site-packages (from gensim) (0.8)\n",
      "\u001b[33mWARNING: You are using pip version 21.1.2; however, version 21.1.3 is available.\n",
      "You should consider upgrading via the '/home/ec2-user/anaconda3/envs/amazonei_tensorflow2_p36/bin/python -m pip install --upgrade pip' command.\u001b[0m\n"
     ]
    }
   ],
   "source": [
    "!pip install gensim"
   ]
  },
  {
   "cell_type": "code",
   "execution_count": 39,
   "id": "28748631",
   "metadata": {
    "id": "715baa20",
    "outputId": "0a279aff-b57f-4416-b0cc-df0b524258cf"
   },
   "outputs": [
    {
     "name": "stderr",
     "output_type": "stream",
     "text": [
      "/home/ec2-user/anaconda3/envs/amazonei_tensorflow2_p36/lib/python3.6/site-packages/gensim/similarities/__init__.py:15: UserWarning: The gensim.similarities.levenshtein submodule is disabled, because the optional Levenshtein package <https://pypi.org/project/python-Levenshtein/> is unavailable. Install Levenhstein (e.g. `pip install python-Levenshtein`) to suppress this warning.\n",
      "  warnings.warn(msg)\n"
     ]
    }
   ],
   "source": [
    "import gensim.downloader as api"
   ]
  },
  {
   "cell_type": "code",
   "execution_count": 40,
   "id": "bc2aa6c6",
   "metadata": {
    "id": "623ef226"
   },
   "outputs": [],
   "source": [
    "w2v_embeddings = api.load('word2vec-google-news-300')"
   ]
  },
  {
   "cell_type": "code",
   "execution_count": 41,
   "id": "acac7d93",
   "metadata": {
    "id": "f6b2f48a"
   },
   "outputs": [],
   "source": [
    "def build_embeddings(vocab, word_vectors, embed_dim):\n",
    "    emb_matrix = np.zeros(shape=(len(vocab)+ 1 , embed_dim), dtype='float32')\n",
    "    count = 0\n",
    "    for word, i in vocab.items():\n",
    "        try:\n",
    "            emb_matrix[i, :] = word_vectors.get_vector(word)\n",
    "        except:\n",
    "            count += 1\n",
    "            emb_matrix[i, :] = np.random.uniform(-0.1, 0.1, embed_dim)\n",
    "    print('{} words are out of vocabulary：'.format(count))\n",
    "    return emb_matrix\n"
   ]
  },
  {
   "cell_type": "code",
   "execution_count": 42,
   "id": "26b4510a",
   "metadata": {
    "id": "e893c531",
    "outputId": "8986b2db-0a92-4b04-ab3a-e08a716c4626"
   },
   "outputs": [
    {
     "name": "stdout",
     "output_type": "stream",
     "text": [
      "22 words are out of vocabulary：\n"
     ]
    }
   ],
   "source": [
    "w2v_embeddings = build_embeddings(vocab, w2v_embeddings, 300)"
   ]
  },
  {
   "cell_type": "markdown",
   "id": "ad088dd8",
   "metadata": {
    "id": "0b62cbad"
   },
   "source": [
    "### building model"
   ]
  },
  {
   "cell_type": "code",
   "execution_count": 43,
   "id": "852d9a01",
   "metadata": {
    "id": "02766a3f"
   },
   "outputs": [],
   "source": [
    "class LSTMDecoder(tf.keras.Model):\n",
    "    def __init__(self, max_tokens, lstm_units, embeddings=None, dim=128):\n",
    "        super(LSTMDecoder, self).__init__()\n",
    "        self.embeddings = tf.keras.layers.Embedding(input_dim=max_tokens+1, output_dim=dim, name='embeddings',\n",
    "                                                   weights=[embeddings])\n",
    "        self.dropout = tf.keras.layers.SpatialDropout1D(0.2)\n",
    "        self.layer_norm = tf.keras.layers.LayerNormalization(epsilon=1e-6, name='layer_normalization')\n",
    "        self.lstm = tf.keras.layers.LSTM(units=lstm_units, return_state=True, name='lstm_decoder', recurrent_dropout=0.3)\n",
    "        self.output_dense = tf.keras.layers.Dense(units=max_tokens)\n",
    "        self.dense_emo = tf.keras.layers.Dense(units=lstm_units, activation='relu')\n",
    "        self.dense_sen = tf.keras.layers.Dense(units=lstm_units, activation='relu')\n",
    "        self.dense_gen = tf.keras.layers.Dense(units=lstm_units, activation='relu')\n",
    "        \n",
    "    def call(self, input, features, emo_feature, sen_feature, gen_feature):\n",
    "        embedded = self.dropout(self.embeddings(input))\n",
    "        emo_feature = self.dense_emo(emo_feature)\n",
    "        sen_feature = self.dense_sen(sen_feature)\n",
    "        concated = tf.concat([embedded,\\\n",
    "                              tf.expand_dims(emo_feature, 1),tf.expand_dims(sen_feature, 1),tf.expand_dims(gen_feature, 1), ], axis=-1)\n",
    "        result_lstm, state_h, state_c = self.lstm(concated, initial_state=features)\n",
    "        normalized = self.layer_norm(result_lstm)\n",
    "        logits = self.output_dense(normalized)\n",
    "        return logits, [state_h, state_c]"
   ]
  },
  {
   "cell_type": "code",
   "execution_count": 44,
   "id": "5f68ae6a",
   "metadata": {
    "id": "4dfe8136",
    "outputId": "c0ca843d-4ad1-4150-a61c-851506423007"
   },
   "outputs": [
    {
     "name": "stdout",
     "output_type": "stream",
     "text": [
      "WARNING:tensorflow:Layer lstm_decoder will not use cuDNN kernel since it doesn't meet the cuDNN kernel criteria. It will use generic GPU kernel as fallback when running on GPU\n"
     ]
    }
   ],
   "source": [
    "lstm_decoder = LSTMDecoder(len(inverse_vocab), conv_res[0].shape[1], w2v_embeddings, dim=300)"
   ]
  },
  {
   "cell_type": "markdown",
   "id": "3e72c61e",
   "metadata": {
    "id": "25dff32e"
   },
   "source": [
    "### Training"
   ]
  },
  {
   "cell_type": "code",
   "execution_count": 45,
   "id": "5b7e6e94",
   "metadata": {
    "id": "9559d09b"
   },
   "outputs": [],
   "source": [
    "from sklearn.model_selection import train_test_split"
   ]
  },
  {
   "cell_type": "code",
   "execution_count": 46,
   "id": "d6b1b318",
   "metadata": {
    "id": "3e38fa7d"
   },
   "outputs": [],
   "source": [
    "loss_object = tf.keras.losses.SparseCategoricalCrossentropy(reduction='none',\n",
    "                                                                         from_logits=True)\n",
    "lr_value = 1e-4\n",
    "reduction_power = 10\n",
    "optimizer = tf.keras.optimizers.RMSprop(learning_rate=lr_value)\n",
    "with_weights = False"
   ]
  },
  {
   "cell_type": "code",
   "execution_count": 47,
   "id": "b338e976",
   "metadata": {
    "id": "12a0f4ce"
   },
   "outputs": [],
   "source": [
    "epochs = 30\n",
    "batch_size = 64\n",
    "patience_epochs = 2"
   ]
  },
  {
   "cell_type": "code",
   "execution_count": 48,
   "id": "9316eecf",
   "metadata": {
    "id": "9cb2ce3a"
   },
   "outputs": [],
   "source": [
    "def loss_function(real, pred, loss_weights):\n",
    "        mask = tf.math.logical_not(tf.math.equal(real, vocab[pad_token]))\n",
    "        loss_ = loss_object(real, pred)\n",
    "        mask = tf.cast(mask, dtype=loss_.dtype)\n",
    "        loss_ *= mask\n",
    "        loss_weights = tf.cast(loss_weights, dtype=loss_.dtype)\n",
    "        loss_*=loss_weights\n",
    "        return loss_"
   ]
  },
  {
   "cell_type": "code",
   "execution_count": 50,
   "id": "6e439f5b",
   "metadata": {
    "id": "f1b5202f"
   },
   "outputs": [],
   "source": [
    "@tf.function\n",
    "def train_step(image, target, emo_feature, sen_feature,gen_feature, lengths, optimizer):\n",
    "\n",
    "    with tf.GradientTape() as tape:\n",
    "        initial_state = conv_encoder(image)\n",
    "        # Teacher forcing - feeding the target as the next input\n",
    "        batched_loss = []\n",
    "        for t in range(1, target.shape[1]):\n",
    "            \n",
    "            dec_input = tf.expand_dims(target[:, t-1], 1)\n",
    "            result, initial_state = lstm_decoder(input=dec_input, features=initial_state,emo_feature=emo_feature, sen_feature=sen_feature, \n",
    "                                                gen_feature=gen_feature)\n",
    "            weights = tf.broadcast_to(class_weights, shape=(target[:,t].shape[0], class_weights.shape[0]))\n",
    "            weights = tf.gather(weights, target[:,t],axis=1, batch_dims=1)\n",
    "            batched_loss.append(loss_function(target[:, t], result, weights))\n",
    "        batched_loss = tf.reshape(tf.stack(batched_loss), shape=target[:,1:].shape)\n",
    "        batched_loss = tf.reduce_sum(batched_loss, axis=1)\n",
    "        lengths = tf.cast(lengths, dtype=batched_loss.dtype)\n",
    "        loss = tf.reduce_mean(batched_loss / lengths)\n",
    "\n",
    "    perplexity = tf.exp(loss)\n",
    "\n",
    "    variables = conv_encoder.trainable_variables + lstm_decoder.trainable_variables\n",
    "    gradients = tape.gradient(loss, variables)\n",
    "\n",
    "    optimizer.apply_gradients(zip(gradients, variables))\n",
    "\n",
    "    return loss, perplexity"
   ]
  },
  {
   "cell_type": "code",
   "execution_count": 51,
   "id": "219abfa9",
   "metadata": {
    "id": "aa6a4ec9"
   },
   "outputs": [],
   "source": [
    "@tf.function\n",
    "def evaluate(image, target, emo_feature, sen_feature, gen_feature, lengths, optimizer):\n",
    "\n",
    "    initial_state = conv_encoder(image)\n",
    "    # Teacher forcing - feeding the target as the next input\n",
    "    batched_loss = []\n",
    "    for t in range(1, target.shape[1]):\n",
    "\n",
    "        dec_input = tf.expand_dims(target[:, t-1], 1)\n",
    "        result, initial_state = lstm_decoder(input=dec_input, features=initial_state,emo_feature=emo_feature, sen_feature=sen_feature, \n",
    "                                                gen_feature=gen_feature)\n",
    "        weights = tf.broadcast_to(class_weights, shape=(target[:,t].shape[0], class_weights.shape[0]))\n",
    "        weights = tf.gather(weights, target[:,t],axis=1, batch_dims=1)\n",
    "        batched_loss.append(loss_function(target[:, t], result, weights))\n",
    "    \n",
    "    batched_loss = tf.reshape(tf.stack(batched_loss), shape=target[:,1:].shape)\n",
    "    batched_loss = tf.reduce_sum(batched_loss, axis=1)\n",
    "    lengths = tf.cast(lengths, dtype=batched_loss.dtype)\n",
    "    loss = tf.reduce_mean(batched_loss / lengths)\n",
    "    perplexity = tf.exp(loss)\n",
    "\n",
    "\n",
    "    return loss, perplexity"
   ]
  },
  {
   "cell_type": "code",
   "execution_count": 52,
   "id": "331c76f3",
   "metadata": {},
   "outputs": [],
   "source": [
    "sentiment = sentiment.toarray()"
   ]
  },
  {
   "cell_type": "code",
   "execution_count": 53,
   "id": "1620c93b",
   "metadata": {
    "id": "b9b86eed"
   },
   "outputs": [],
   "source": [
    "train_images, val_images, train_sequences, val_sequences, train_emo, val_emo,\\\n",
    "train_sen, val_sen, train_gen, val_gen =  train_test_split(images, indexed, emotion_features, \n",
    "                                                           sentiment,gender_features, test_size=0.2, random_state=10)\n",
    "val_images, test_images, val_sequences, test_sequences, val_emo, test_emo, val_sen, test_sen, val_gen, test_gen =  train_test_split(val_images, val_sequences,val_emo,\\\n",
    "                                                                                                                 val_sen, val_gen, test_size=0.5, random_state=10)\n",
    "\n",
    "\n"
   ]
  },
  {
   "cell_type": "code",
   "execution_count": 54,
   "id": "2b78cc23",
   "metadata": {
    "id": "acba46dc"
   },
   "outputs": [],
   "source": [
    "train_length = (np.array(train_sequences)!=vocab[pad_token]).sum(axis=1)-2"
   ]
  },
  {
   "cell_type": "code",
   "execution_count": 55,
   "id": "88c5914b",
   "metadata": {},
   "outputs": [],
   "source": [
    "val_length = (np.array(val_sequences)!=vocab[pad_token]).sum(axis=1)-2"
   ]
  },
  {
   "cell_type": "code",
   "execution_count": 56,
   "id": "852e580b",
   "metadata": {
    "id": "114f3f4d"
   },
   "outputs": [],
   "source": [
    "test_length = (np.array(test_sequences)!=vocab[pad_token]).sum(axis=1)-2"
   ]
  },
  {
   "cell_type": "code",
   "execution_count": 57,
   "id": "6a3ce32e",
   "metadata": {
    "id": "0e27f657"
   },
   "outputs": [],
   "source": [
    "train_images = np.array(np.array_split(train_images, len(train_images)//batch_size)).astype('float32')\n",
    "test_images = np.array(np.array_split(test_images, len(test_images)//batch_size)).astype('float32')\n",
    "val_images = np.array(np.array_split(val_images, len(val_images)//batch_size)).astype('float32')\n",
    "\n",
    "train_emo = np.array(np.array_split(train_emo, len(train_emo)//batch_size)).astype('float32')\n",
    "test_emo = np.array(np.array_split(test_emo, len(test_emo)//batch_size)).astype('float32')\n",
    "val_emo = np.array(np.array_split(val_emo, len(val_emo)//batch_size)).astype('float32')\n",
    "\n",
    "train_sequences = np.array(np.array_split(train_sequences, len(train_sequences)//batch_size))\n",
    "test_sequences = np.array(np.array_split(test_sequences, len(test_sequences)//batch_size))\n",
    "val_sequences = np.array(np.array_split(val_sequences, len(val_sequences)//batch_size))\n",
    "\n",
    "train_length = np.array(np.array_split(train_length, len(train_length)//batch_size)).astype('float32')\n",
    "test_length = np.array(np.array_split(test_length, len(test_length)//batch_size)).astype('float32')\n",
    "val_length = np.array(np.array_split(val_length, len(val_length)//batch_size)).astype('float32')\n",
    "\n",
    "train_sen = np.array(np.array_split(train_sen, len(train_sen)//batch_size)).astype('float32')\n",
    "test_sen = np.array(np.array_split(test_sen, len(test_sen)//batch_size)).astype('float32')\n",
    "val_sen = np.array(np.array_split(val_sen, len(val_sen)//batch_size)).astype('float32')\n",
    "\n",
    "train_gen = np.array(np.array_split(train_gen, len(train_gen)//batch_size)).astype('float32')\n",
    "test_gen = np.array(np.array_split(test_gen, len(test_gen)//batch_size)).astype('float32')\n",
    "val_gen = np.array(np.array_split(val_gen, len(val_gen)//batch_size)).astype('float32')"
   ]
  },
  {
   "cell_type": "code",
   "execution_count": 58,
   "id": "0a8e6092",
   "metadata": {
    "id": "552ed89c",
    "outputId": "54b68180-8df5-4e71-c80a-9009ed49b74a"
   },
   "outputs": [
    {
     "data": {
      "text/plain": [
       "((48, 64, 224, 224, 3), (48, 64, 12), (48, 64))"
      ]
     },
     "execution_count": 58,
     "metadata": {},
     "output_type": "execute_result"
    }
   ],
   "source": [
    "train_images.shape, train_sequences.shape, train_length.shape"
   ]
  },
  {
   "cell_type": "code",
   "execution_count": 59,
   "id": "30df93e7",
   "metadata": {
    "id": "25f6490c",
    "outputId": "79c4fa3b-5786-44c1-faa3-075c5d0d804b"
   },
   "outputs": [
    {
     "name": "stdout",
     "output_type": "stream",
     "text": [
      "Requirement already satisfied: tqdm in /home/ec2-user/anaconda3/envs/amazonei_tensorflow2_p36/lib/python3.6/site-packages (4.61.2)\n",
      "\u001b[33mWARNING: You are using pip version 21.1.2; however, version 21.1.3 is available.\n",
      "You should consider upgrading via the '/home/ec2-user/anaconda3/envs/amazonei_tensorflow2_p36/bin/python -m pip install --upgrade pip' command.\u001b[0m\n"
     ]
    }
   ],
   "source": [
    "!pip install tqdm"
   ]
  },
  {
   "cell_type": "code",
   "execution_count": 60,
   "id": "3aeff0bf",
   "metadata": {
    "id": "c233a386"
   },
   "outputs": [],
   "source": [
    "if not with_weights:\n",
    "    class_weights = np.array([1 for i in range(len(class_weights))])"
   ]
  },
  {
   "cell_type": "code",
   "execution_count": 61,
   "id": "55189c47",
   "metadata": {
    "id": "4c609b61"
   },
   "outputs": [],
   "source": [
    "from tqdm import tqdm"
   ]
  },
  {
   "cell_type": "code",
   "execution_count": 62,
   "id": "81296f0e",
   "metadata": {
    "id": "1144f320",
    "outputId": "6b3fe07f-3098-43f9-bf97-30657ac3723b"
   },
   "outputs": [
    {
     "name": "stderr",
     "output_type": "stream",
     "text": [
      "48it [00:25,  1.86it/s]\n"
     ]
    },
    {
     "name": "stdout",
     "output_type": "stream",
     "text": [
      "Finished epoch 0; Train loss : 7.259420394897461; Train perplexity : 2004.0389404296875\n",
      "Validation loss : 6.26045560836792; Validation perplexity : 530.11328125\n"
     ]
    },
    {
     "name": "stderr",
     "output_type": "stream",
     "text": [
      "48it [00:07,  6.30it/s]\n"
     ]
    },
    {
     "name": "stdout",
     "output_type": "stream",
     "text": [
      "Finished epoch 1; Train loss : 5.7253851890563965; Train perplexity : 316.52374267578125\n",
      "Validation loss : 5.433937072753906; Validation perplexity : 231.80145263671875\n"
     ]
    },
    {
     "name": "stderr",
     "output_type": "stream",
     "text": [
      "48it [00:07,  6.31it/s]\n"
     ]
    },
    {
     "name": "stdout",
     "output_type": "stream",
     "text": [
      "Finished epoch 2; Train loss : 5.122232913970947; Train perplexity : 170.35768127441406\n",
      "Validation loss : 5.017760753631592; Validation perplexity : 152.9972381591797\n"
     ]
    },
    {
     "name": "stderr",
     "output_type": "stream",
     "text": [
      "48it [00:07,  6.34it/s]\n"
     ]
    },
    {
     "name": "stdout",
     "output_type": "stream",
     "text": [
      "Finished epoch 3; Train loss : 4.715145111083984; Train perplexity : 113.31098175048828\n",
      "Validation loss : 4.686828136444092; Validation perplexity : 110.19318389892578\n"
     ]
    },
    {
     "name": "stderr",
     "output_type": "stream",
     "text": [
      "48it [00:07,  6.30it/s]\n"
     ]
    },
    {
     "name": "stdout",
     "output_type": "stream",
     "text": [
      "Finished epoch 4; Train loss : 4.380980968475342; Train perplexity : 81.13516998291016\n",
      "Validation loss : 4.421543598175049; Validation perplexity : 84.78759002685547\n"
     ]
    },
    {
     "name": "stderr",
     "output_type": "stream",
     "text": [
      "48it [00:07,  6.30it/s]\n"
     ]
    },
    {
     "name": "stdout",
     "output_type": "stream",
     "text": [
      "Finished epoch 5; Train loss : 4.112064838409424; Train perplexity : 62.018035888671875\n",
      "Validation loss : 4.21242094039917; Validation perplexity : 68.96930694580078\n"
     ]
    },
    {
     "name": "stderr",
     "output_type": "stream",
     "text": [
      "48it [00:07,  6.33it/s]\n"
     ]
    },
    {
     "name": "stdout",
     "output_type": "stream",
     "text": [
      "Finished epoch 6; Train loss : 3.893659830093384; Train perplexity : 49.85536193847656\n",
      "Validation loss : 4.045281887054443; Validation perplexity : 58.47529602050781\n"
     ]
    },
    {
     "name": "stderr",
     "output_type": "stream",
     "text": [
      "48it [00:07,  6.33it/s]\n"
     ]
    },
    {
     "name": "stdout",
     "output_type": "stream",
     "text": [
      "Finished epoch 7; Train loss : 3.714669942855835; Train perplexity : 41.68244552612305\n",
      "Validation loss : 3.912461042404175; Validation perplexity : 51.287296295166016\n"
     ]
    },
    {
     "name": "stderr",
     "output_type": "stream",
     "text": [
      "48it [00:07,  6.31it/s]\n"
     ]
    },
    {
     "name": "stdout",
     "output_type": "stream",
     "text": [
      "Finished epoch 8; Train loss : 3.5684874057769775; Train perplexity : 36.008174896240234\n",
      "Validation loss : 3.808079957962036; Validation perplexity : 46.266143798828125\n"
     ]
    },
    {
     "name": "stderr",
     "output_type": "stream",
     "text": [
      "48it [00:07,  6.30it/s]\n"
     ]
    },
    {
     "name": "stdout",
     "output_type": "stream",
     "text": [
      "Finished epoch 9; Train loss : 3.4483699798583984; Train perplexity : 31.925926208496094\n",
      "Validation loss : 3.7254836559295654; Validation perplexity : 42.64503479003906\n"
     ]
    },
    {
     "name": "stderr",
     "output_type": "stream",
     "text": [
      "48it [00:07,  6.23it/s]\n"
     ]
    },
    {
     "name": "stdout",
     "output_type": "stream",
     "text": [
      "Finished epoch 10; Train loss : 3.3476574420928955; Train perplexity : 28.85962677001953\n",
      "Validation loss : 3.658930778503418; Validation perplexity : 39.93376159667969\n"
     ]
    },
    {
     "name": "stderr",
     "output_type": "stream",
     "text": [
      "48it [00:07,  6.33it/s]\n"
     ]
    },
    {
     "name": "stdout",
     "output_type": "stream",
     "text": [
      "Finished epoch 11; Train loss : 3.261199712753296; Train perplexity : 26.461267471313477\n",
      "Validation loss : 3.604248285293579; Validation perplexity : 37.83392333984375\n"
     ]
    },
    {
     "name": "stderr",
     "output_type": "stream",
     "text": [
      "48it [00:07,  6.30it/s]\n"
     ]
    },
    {
     "name": "stdout",
     "output_type": "stream",
     "text": [
      "Finished epoch 12; Train loss : 3.185378313064575; Train perplexity : 24.52105140686035\n",
      "Validation loss : 3.558558225631714; Validation perplexity : 36.1623420715332\n"
     ]
    },
    {
     "name": "stderr",
     "output_type": "stream",
     "text": [
      "48it [00:07,  6.31it/s]\n"
     ]
    },
    {
     "name": "stdout",
     "output_type": "stream",
     "text": [
      "Finished epoch 13; Train loss : 3.117720365524292; Train perplexity : 22.908967971801758\n",
      "Validation loss : 3.5198376178741455; Validation perplexity : 34.80263900756836\n"
     ]
    },
    {
     "name": "stderr",
     "output_type": "stream",
     "text": [
      "48it [00:07,  6.33it/s]\n"
     ]
    },
    {
     "name": "stdout",
     "output_type": "stream",
     "text": [
      "Finished epoch 14; Train loss : 3.056499481201172; Train perplexity : 21.540985107421875\n",
      "Validation loss : 3.4867279529571533; Validation perplexity : 33.6804084777832\n"
     ]
    },
    {
     "name": "stderr",
     "output_type": "stream",
     "text": [
      "48it [00:07,  6.33it/s]\n"
     ]
    },
    {
     "name": "stdout",
     "output_type": "stream",
     "text": [
      "Finished epoch 15; Train loss : 3.0004656314849854; Train perplexity : 20.35999870300293\n",
      "Validation loss : 3.4582207202911377; Validation perplexity : 32.743324279785156\n"
     ]
    },
    {
     "name": "stderr",
     "output_type": "stream",
     "text": [
      "48it [00:07,  6.29it/s]\n"
     ]
    },
    {
     "name": "stdout",
     "output_type": "stream",
     "text": [
      "Finished epoch 16; Train loss : 2.948702096939087; Train perplexity : 19.326181411743164\n",
      "Validation loss : 3.433601140975952; Validation perplexity : 31.9556827545166\n"
     ]
    },
    {
     "name": "stderr",
     "output_type": "stream",
     "text": [
      "48it [00:07,  6.27it/s]\n"
     ]
    },
    {
     "name": "stdout",
     "output_type": "stream",
     "text": [
      "Finished epoch 17; Train loss : 2.9004745483398438; Train perplexity : 18.409934997558594\n",
      "Validation loss : 3.412229537963867; Validation perplexity : 31.288293838500977\n"
     ]
    },
    {
     "name": "stderr",
     "output_type": "stream",
     "text": [
      "48it [00:07,  6.33it/s]\n"
     ]
    },
    {
     "name": "stdout",
     "output_type": "stream",
     "text": [
      "Finished epoch 18; Train loss : 2.8552095890045166; Train perplexity : 17.58926010131836\n",
      "Validation loss : 3.3937642574310303; Validation perplexity : 30.72428321838379\n"
     ]
    },
    {
     "name": "stderr",
     "output_type": "stream",
     "text": [
      "48it [00:07,  6.31it/s]\n"
     ]
    },
    {
     "name": "stdout",
     "output_type": "stream",
     "text": [
      "Finished epoch 19; Train loss : 2.812457799911499; Train perplexity : 16.84758758544922\n",
      "Validation loss : 3.3777084350585938; Validation perplexity : 30.243362426757812\n"
     ]
    },
    {
     "name": "stderr",
     "output_type": "stream",
     "text": [
      "48it [00:07,  6.30it/s]\n"
     ]
    },
    {
     "name": "stdout",
     "output_type": "stream",
     "text": [
      "Finished epoch 20; Train loss : 2.7718563079833984; Train perplexity : 16.172008514404297\n",
      "Validation loss : 3.3638505935668945; Validation perplexity : 29.836217880249023\n"
     ]
    },
    {
     "name": "stderr",
     "output_type": "stream",
     "text": [
      "48it [00:07,  6.28it/s]\n"
     ]
    },
    {
     "name": "stdout",
     "output_type": "stream",
     "text": [
      "Finished epoch 21; Train loss : 2.733109712600708; Train perplexity : 15.552474021911621\n",
      "Validation loss : 3.351918935775757; Validation perplexity : 29.491989135742188\n"
     ]
    },
    {
     "name": "stderr",
     "output_type": "stream",
     "text": [
      "48it [00:07,  6.29it/s]\n"
     ]
    },
    {
     "name": "stdout",
     "output_type": "stream",
     "text": [
      "Finished epoch 22; Train loss : 2.695977210998535; Train perplexity : 14.980987548828125\n",
      "Validation loss : 3.3416945934295654; Validation perplexity : 29.201387405395508\n"
     ]
    },
    {
     "name": "stderr",
     "output_type": "stream",
     "text": [
      "48it [00:07,  6.29it/s]\n"
     ]
    },
    {
     "name": "stdout",
     "output_type": "stream",
     "text": [
      "Finished epoch 23; Train loss : 2.6602494716644287; Train perplexity : 14.450840950012207\n",
      "Validation loss : 3.333287239074707; Validation perplexity : 28.967599868774414\n"
     ]
    },
    {
     "name": "stderr",
     "output_type": "stream",
     "text": [
      "48it [00:07,  6.31it/s]\n"
     ]
    },
    {
     "name": "stdout",
     "output_type": "stream",
     "text": [
      "Finished epoch 24; Train loss : 2.625746011734009; Train perplexity : 13.95667552947998\n",
      "Validation loss : 3.326000213623047; Validation perplexity : 28.768136978149414\n"
     ]
    },
    {
     "name": "stderr",
     "output_type": "stream",
     "text": [
      "48it [00:07,  6.31it/s]\n"
     ]
    },
    {
     "name": "stdout",
     "output_type": "stream",
     "text": [
      "Finished epoch 25; Train loss : 2.5923550128936768; Train perplexity : 13.494418144226074\n",
      "Validation loss : 3.320726156234741; Validation perplexity : 28.62957763671875\n"
     ]
    },
    {
     "name": "stderr",
     "output_type": "stream",
     "text": [
      "48it [00:07,  6.29it/s]\n"
     ]
    },
    {
     "name": "stdout",
     "output_type": "stream",
     "text": [
      "Finished epoch 26; Train loss : 2.5599489212036133; Train perplexity : 13.06045150756836\n",
      "Validation loss : 3.316136598587036; Validation perplexity : 28.510778427124023\n"
     ]
    },
    {
     "name": "stderr",
     "output_type": "stream",
     "text": [
      "48it [00:07,  6.31it/s]\n"
     ]
    },
    {
     "name": "stdout",
     "output_type": "stream",
     "text": [
      "Finished epoch 27; Train loss : 2.528398036956787; Train perplexity : 12.651320457458496\n",
      "Validation loss : 3.3132541179656982; Validation perplexity : 28.442197799682617\n"
     ]
    },
    {
     "name": "stderr",
     "output_type": "stream",
     "text": [
      "48it [00:07,  6.32it/s]\n"
     ]
    },
    {
     "name": "stdout",
     "output_type": "stream",
     "text": [
      "Finished epoch 28; Train loss : 2.497657060623169; Train perplexity : 12.264948844909668\n",
      "Validation loss : 3.311796188354492; Validation perplexity : 28.415021896362305\n"
     ]
    },
    {
     "name": "stderr",
     "output_type": "stream",
     "text": [
      "48it [00:07,  6.34it/s]\n"
     ]
    },
    {
     "name": "stdout",
     "output_type": "stream",
     "text": [
      "Finished epoch 29; Train loss : 2.467611312866211; Train perplexity : 11.89864730834961\n",
      "Validation loss : 3.3116509914398193; Validation perplexity : 28.427377700805664\n"
     ]
    }
   ],
   "source": [
    "train_loss = []\n",
    "train_perplexity = []\n",
    "val_loss = []\n",
    "val_perplexity = []\n",
    "overfit_epochs = 0\n",
    "for epoch in range(epochs):\n",
    "    epoch_train_loss = 0\n",
    "    epoch_train_perplexity = 0\n",
    "    epoch_val_loss = 0\n",
    "    epoch_val_perplexity = 0\n",
    "    for batch_train_images, batch_train_sequences, batched_train_length, batched_train_emo, batched_train_sen, batched_train_gen in tqdm(zip(train_images,train_sequences,train_length, train_emo, train_sen, train_gen)):\n",
    "        batched_train_loss, batched_train_perplexity = train_step(batch_train_images,batch_train_sequences,batched_train_emo,batched_train_sen,batched_train_gen, batched_train_length, optimizer)\n",
    "        epoch_train_loss+=batched_train_loss\n",
    "        epoch_train_perplexity+=batched_train_perplexity\n",
    "    epoch_train_loss = epoch_train_loss/train_images.shape[0]\n",
    "    epoch_train_perplexity = epoch_train_perplexity/train_images.shape[0]\n",
    "    train_loss.append(epoch_train_loss)\n",
    "    train_perplexity.append(epoch_train_perplexity)\n",
    "    print('Finished epoch {}; Train loss : {}; Train perplexity : {}'.format(epoch,epoch_train_loss,epoch_train_perplexity))\n",
    "    for batch_val_images, batch_val_sequences, batched_val_length, batched_test_emo, batched_val_sen, batched_val_gen in zip(val_images,val_sequences,val_length, val_emo, val_sen, val_gen):\n",
    "        batched_val_loss, batched_val_perplexity = evaluate(batch_val_images, batch_val_sequences, batched_test_emo,batched_val_sen,batched_val_gen, batched_val_length, optimizer)\n",
    "        epoch_val_loss+=batched_val_loss\n",
    "        epoch_val_perplexity+=batched_val_perplexity\n",
    "    epoch_val_loss = epoch_val_loss/val_images.shape[0]\n",
    "    epoch_val_perplexity = epoch_val_perplexity/val_images.shape[0]\n",
    "    val_perplexity.append(epoch_val_perplexity)\n",
    "    val_loss.append(epoch_val_loss)\n",
    "    print('Validation loss : {}; Validation perplexity : {}'.format(epoch_val_loss,epoch_val_perplexity))\n",
    "    if len(val_loss)>=2 and val_loss[-2]<val_loss[-1]:\n",
    "        overfit_epochs+=1\n",
    "    else:\n",
    "        overfit_epochs=0\n",
    "    if overfit_epochs==patience_epochs:\n",
    "        lr_value/=reduction_power\n",
    "        optimizer.lr.assign(lr_value)\n",
    "        print('There was no improvement in validation loss for {} epochs, thus reducing learning rate'.format(patience_epochs))"
   ]
  },
  {
   "cell_type": "markdown",
   "id": "5bf712fa",
   "metadata": {
    "id": "b20edf6a"
   },
   "source": [
    "# Viewing and saving results"
   ]
  },
  {
   "cell_type": "code",
   "execution_count": 63,
   "id": "179a85a2",
   "metadata": {
    "id": "b775f40b"
   },
   "outputs": [],
   "source": [
    "df = pd.DataFrame()\n",
    "model_name = 'conv_lstm_transfer_learning_w2v_autoenc_fixed_size_emotions_sentiment_gender'\n",
    "df['train_perplexity'] = [i.numpy() for i in train_perplexity]\n",
    "df['val_perplexity'] = [i.numpy() for i in val_perplexity]\n",
    "df['train_loss'] = [i.numpy() for i in train_loss]\n",
    "df['val_loss'] = [i.numpy() for i in val_loss]\n"
   ]
  },
  {
   "cell_type": "code",
   "execution_count": 64,
   "id": "763727bc",
   "metadata": {
    "id": "4bf89741"
   },
   "outputs": [],
   "source": [
    "import matplotlib.pyplot as plt\n",
    "import seaborn as sns\n",
    "sns.set()"
   ]
  },
  {
   "cell_type": "code",
   "execution_count": 65,
   "id": "715f1bf8",
   "metadata": {
    "id": "e372ef85"
   },
   "outputs": [
    {
     "data": {
      "image/png": "[encoded data removed]",
      "text/plain": [
       "<Figure size 1080x864 with 1 Axes>"
      ]
     },
     "metadata": {},
     "output_type": "display_data"
    }
   ],
   "source": [
    "plt.figure(figsize=(15,12))\n",
    "plt.title('Perplexity results')\n",
    "plt.plot(df['train_perplexity'])\n",
    "plt.plot(df['val_perplexity'])\n",
    "plt.xlabel('Epochs')\n",
    "plt.ylabel('Perplexity')\n",
    "plt.yticks(np.arange(min(df['train_perplexity']), max(df['train_perplexity'])+100,100))\n",
    "plt.legend(['Train', 'Validation']);"
   ]
  },
  {
   "cell_type": "code",
   "execution_count": 66,
   "id": "e9306d7b",
   "metadata": {
    "id": "1f615389",
    "outputId": "a9f1734b-8d3e-4c31-a17b-8ff7c257277e"
   },
   "outputs": [
    {
     "data": {
      "image/png": "[encoded data removed]",
      "text/plain": [
       "<Figure size 1080x864 with 1 Axes>"
      ]
     },
     "metadata": {},
     "output_type": "display_data"
    }
   ],
   "source": [
    "plt.figure(figsize=(15,12))\n",
    "plt.title('Loss results')\n",
    "plt.plot(df['train_loss'])\n",
    "plt.plot(df['val_loss'])\n",
    "plt.xlabel('Epochs')\n",
    "plt.ylabel('Loss')\n",
    "plt.yticks(np.arange(min(df['train_loss']),max(df['train_loss']),0.2))\n",
    "plt.legend(['Train', 'Validation']);"
   ]
  },
  {
   "cell_type": "markdown",
   "id": "71f6ccd7",
   "metadata": {
    "id": "ad1ee3d5"
   },
   "source": [
    "# Testing model"
   ]
  },
  {
   "cell_type": "code",
   "execution_count": 67,
   "id": "ee4ab6c9",
   "metadata": {
    "id": "444505ed"
   },
   "outputs": [],
   "source": [
    "import matplotlib.pyplot as plt\n",
    "import seaborn as sns"
   ]
  },
  {
   "cell_type": "code",
   "execution_count": 68,
   "id": "55ef288b",
   "metadata": {
    "id": "aa2085b8"
   },
   "outputs": [],
   "source": [
    "class Decoder:\n",
    "    def __init__(self, encoder: tf.keras.Model,\n",
    "                 decoder: tf.keras.Model,\n",
    "                 start_token: int,\n",
    "                 end_token: int,\n",
    "                 max_len: int = None):\n",
    "        self.encoder = encoder\n",
    "        self.decoder = decoder\n",
    "        self.max_len = max_len if max_len else 100\n",
    "        self.start_token = start_token\n",
    "        self.end_token = end_token\n",
    "\n",
    "    def decode(self, input):\n",
    "        pass\n",
    "\n",
    "\n",
    "class GreedyDecoder(Decoder):\n",
    "    def __init__(self, encoder: tf.keras.Model,\n",
    "                 decoder: tf.keras.Model,\n",
    "                 start_token: int,\n",
    "                 end_token: int,\n",
    "                 max_len: int = 10,\n",
    "                 ):\n",
    "        super().__init__(encoder,\n",
    "                         decoder,\n",
    "                         start_token,\n",
    "                         end_token,\n",
    "                         max_len\n",
    "                         )\n",
    "\n",
    "    def decode(self, input, emo_feature, sen_feature, gen_feature):\n",
    "        initial_state = self.encoder(np.expand_dims(input, axis=0))\n",
    "        emo_feature = tf.expand_dims(emo_feature, axis=0)\n",
    "        sen_feature = tf.expand_dims(sen_feature, axis=0)\n",
    "        gen_feature = tf.expand_dims(gen_feature, axis=0)\n",
    "\n",
    "        target_seq = np.zeros((1, 1))\n",
    "        target_seq[0, 0] = self.start_token\n",
    "        res = []\n",
    "        while True:\n",
    "            # Sample a token\n",
    "            output, initial_state = self.decoder(target_seq,initial_state,  emo_feature, sen_feature,gen_feature)\n",
    "            sampled_token_index = np.argmax(tf.nn.softmax(output.numpy()))\n",
    "            if len(res) > self.max_len or sampled_token_index == self.end_token:\n",
    "                break\n",
    "\n",
    "            res.append(sampled_token_index)\n",
    "\n",
    "            target_seq = np.zeros((1, 1))\n",
    "            target_seq[0, 0] = sampled_token_index\n",
    "\n",
    "       \n",
    "        return res\n"
   ]
  },
  {
   "cell_type": "code",
   "execution_count": 69,
   "id": "69898982",
   "metadata": {
    "id": "27c864a3"
   },
   "outputs": [],
   "source": [
    "class BeamSearchDecoder(Decoder):\n",
    "    def __init__(self, encoder: tf.keras.Model,\n",
    "                 decoder: tf.keras.Model,\n",
    "                 start_token: int,\n",
    "                 end_token: int,\n",
    "                 max_len: int = 10,\n",
    "                 ):\n",
    "        super().__init__(encoder,\n",
    "                         decoder,\n",
    "                         start_token,\n",
    "                         end_token,\n",
    "                         max_len\n",
    "                         )\n",
    "\n",
    "    def decode(self, input, emo_feature, sen_feature, gen_feature, beam_size=3):\n",
    "        start = [self.start_token]\n",
    "        initial_state = self.encoder(np.expand_dims(input,axis=0))\n",
    "        emo_feature = tf.expand_dims(emo_feature, axis=0)\n",
    "        sen_feature = tf.expand_dims(sen_feature, axis=0)\n",
    "        gen_feature = tf.expand_dims(gen_feature, axis=0)\n",
    "\n",
    "        start_word = [[start, 0.0, initial_state]]\n",
    "\n",
    "        while len(start_word[0][0]) < self.max_len:\n",
    "            temp = []\n",
    "            for s in start_word:\n",
    "                target_seq = np.array([[s[0][-1]]])\n",
    "                initial_state = s[-1]\n",
    "                output, initial_state = self.decoder(target_seq, initial_state, emo_feature, sen_feature,gen_feature)\n",
    "                output = np.hstack(output)\n",
    "                output = tf.nn.softmax(output).numpy()\n",
    "                word_preds = np.argsort(output)[-beam_size:]\n",
    "\n",
    "                for w in word_preds:\n",
    "                    next_cap, prob = s[0][:], s[1]\n",
    "                    next_cap.append(w)\n",
    "                    prob += output[w]\n",
    "                    temp.append([next_cap, prob, initial_state])\n",
    "\n",
    "            start_word = temp\n",
    "            # Sorting according to the probabilities\n",
    "            start_word = sorted(start_word, reverse=False, key=lambda l: l[1])\n",
    "            # Getting the top words\n",
    "            start_word = start_word[-beam_size:]\n",
    "\n",
    "        start_word = start_word[-1][0]\n",
    "\n",
    "        final_caption = []\n",
    "\n",
    "        for i in start_word:\n",
    "            if i != self.end_token:\n",
    "                final_caption.append(i)\n",
    "            else:\n",
    "                break\n",
    "        return final_caption[1:]"
   ]
  },
  {
   "cell_type": "code",
   "execution_count": 70,
   "id": "d697db84",
   "metadata": {
    "id": "a1adf0a9"
   },
   "outputs": [],
   "source": [
    "def predict(data, emo_feature, sen_feature, gen_feature, decoder, inverse_vocab,\n",
    "           beam_size=None):\n",
    "    if beam_size:\n",
    "        result = decoder.decode(data,emo_feature, sen_feature,gen_feature,  beam_size=beam_size)\n",
    "    else:\n",
    "        result = decoder.decode(data,emo_feature, sen_feature, gen_feature)\n",
    "    return ' '.join([inverse_vocab[i] for i in result])"
   ]
  },
  {
   "cell_type": "code",
   "execution_count": 71,
   "id": "6e73ef5a",
   "metadata": {
    "id": "73319486"
   },
   "outputs": [],
   "source": [
    "greedy_decoder = GreedyDecoder(conv_encoder, lstm_decoder, vocab[start_token], vocab[end_token],\n",
    "             max_len=20)"
   ]
  },
  {
   "cell_type": "code",
   "execution_count": 72,
   "id": "865181f8",
   "metadata": {
    "id": "8532e4bd"
   },
   "outputs": [],
   "source": [
    "beam_decoder = BeamSearchDecoder(conv_encoder, lstm_decoder, vocab[start_token], vocab[end_token],\n",
    "             max_len=20)"
   ]
  },
  {
   "cell_type": "code",
   "execution_count": 73,
   "id": "237f725f",
   "metadata": {
    "id": "6f1270b6",
    "outputId": "b539b8ba-9ec6-41e6-a010-d6a51aac7daa"
   },
   "outputs": [
    {
     "data": {
      "text/plain": [
       "(3840, 224, 224, 3)"
      ]
     },
     "execution_count": 73,
     "metadata": {},
     "output_type": "execute_result"
    }
   ],
   "source": [
    "images.shape"
   ]
  },
  {
   "cell_type": "code",
   "execution_count": 131,
   "id": "3767c151",
   "metadata": {
    "id": "5aef8f6f"
   },
   "outputs": [],
   "source": [
    "idx = np.random.choice(range(len(images)))\n",
    "sample = images[idx]"
   ]
  },
  {
   "cell_type": "code",
   "execution_count": 132,
   "id": "4bc50b1f",
   "metadata": {
    "id": "eab38846",
    "outputId": "cff5d836-1670-437b-fa05-37b4d1323c46"
   },
   "outputs": [
    {
     "name": "stdout",
     "output_type": "stream",
     "text": [
      "the boss scolds the two anxious and terrified men\n"
     ]
    },
    {
     "data": {
      "image/png": "[encoded data removed]",
      "text/plain": [
       "<Figure size 576x576 with 1 Axes>"
      ]
     },
     "metadata": {},
     "output_type": "display_data"
    }
   ],
   "source": [
    "plt.figure(figsize=(8,8))\n",
    "plt.imshow(sample)\n",
    "plt.grid([])\n",
    "plt.axis('off');\n",
    "print(annotations[idx])"
   ]
  },
  {
   "cell_type": "code",
   "execution_count": 133,
   "id": "73681e28",
   "metadata": {},
   "outputs": [],
   "source": [
    "gender_features = np.array(gender_features).astype('float32')"
   ]
  },
  {
   "cell_type": "code",
   "execution_count": 134,
   "id": "6d444cf5",
   "metadata": {
    "id": "73100527",
    "outputId": "9ea366c9-f621-4cee-e012-ec5dc2beaebd"
   },
   "outputs": [
    {
     "data": {
      "text/plain": [
       "'the man is trying to shoot somebody'"
      ]
     },
     "execution_count": 134,
     "metadata": {},
     "output_type": "execute_result"
    }
   ],
   "source": [
    "predict(sample, emotion_features[idx], sentiment[idx], gender_features[idx], greedy_decoder, inverse_vocab)"
   ]
  },
  {
   "cell_type": "code",
   "execution_count": 135,
   "id": "a3580194",
   "metadata": {},
   "outputs": [
    {
     "data": {
      "text/plain": [
       "'the man is trying to shoot somebody'"
      ]
     },
     "execution_count": 135,
     "metadata": {},
     "output_type": "execute_result"
    }
   ],
   "source": [
    "predict(sample, emotion_features[idx], sentiment[idx], gender_features[idx], beam_decoder, inverse_vocab, beam_size=3)"
   ]
  },
  {
   "cell_type": "code",
   "execution_count": 136,
   "id": "c510fca7",
   "metadata": {},
   "outputs": [
    {
     "data": {
      "text/plain": [
       "'the man is trying to shoot somebody'"
      ]
     },
     "execution_count": 136,
     "metadata": {},
     "output_type": "execute_result"
    }
   ],
   "source": [
    "predict(sample,emotion_features[idx], sentiment[idx], gender_features[idx], beam_decoder, inverse_vocab, beam_size=5)"
   ]
  },
  {
   "cell_type": "code",
   "execution_count": 137,
   "id": "4d48acf7",
   "metadata": {},
   "outputs": [
    {
     "data": {
      "text/plain": [
       "'the man is trying to shoot somebody'"
      ]
     },
     "execution_count": 137,
     "metadata": {},
     "output_type": "execute_result"
    }
   ],
   "source": [
    "predict(sample, emotion_features[idx], sentiment[idx], gender_features[idx], beam_decoder, inverse_vocab, beam_size=7)"
   ]
  },
  {
   "cell_type": "code",
   "execution_count": 138,
   "id": "1c6539ba",
   "metadata": {
    "id": "687f2739",
    "outputId": "deb0509a-c3f9-4ba6-95a7-e3fd80bdef93"
   },
   "outputs": [
    {
     "data": {
      "text/plain": [
       "'the man is trying to shoot somebody'"
      ]
     },
     "execution_count": 138,
     "metadata": {},
     "output_type": "execute_result"
    }
   ],
   "source": [
    "predict(sample,emotion_features[idx], sentiment[idx], gender_features[idx], beam_decoder, inverse_vocab, beam_size=10)"
   ]
  },
  {
   "cell_type": "markdown",
   "id": "d5f6f3ee",
   "metadata": {
    "id": "df35cb03"
   },
   "source": [
    "# Blue score calculation"
   ]
  },
  {
   "cell_type": "code",
   "execution_count": 139,
   "id": "19bf4a47",
   "metadata": {
    "id": "32df0196"
   },
   "outputs": [],
   "source": [
    "from nltk.translate.bleu_score import sentence_bleu\n"
   ]
  },
  {
   "cell_type": "markdown",
   "id": "bec6ee43",
   "metadata": {
    "id": "0ab649e9"
   },
   "source": [
    "### making predictions on test dataset with beam_size of 5"
   ]
  },
  {
   "cell_type": "code",
   "execution_count": 140,
   "id": "0fad7625",
   "metadata": {
    "id": "c58e0513",
    "outputId": "cd586145-cdf4-4c04-8724-fa154eb17c70"
   },
   "outputs": [
    {
     "name": "stderr",
     "output_type": "stream",
     "text": [
      "6it [08:00, 80.07s/it]\n"
     ]
    }
   ],
   "source": [
    "test_predictions = []\n",
    "for batch_image, batch_emo, batch_sentiment, batch_gen in tqdm(zip(test_images, test_emo, test_sen, test_gen)):\n",
    "    for image, emo, sen, gen in zip(batch_image, batch_emo, batch_sentiment,batch_gen):\n",
    "        result = predict(image, emo,sen,gen, beam_decoder, inverse_vocab, beam_size=5)\n",
    "        test_predictions.append(result)"
   ]
  },
  {
   "cell_type": "code",
   "execution_count": 141,
   "id": "c855dcde",
   "metadata": {
    "id": "d5b3a561"
   },
   "outputs": [],
   "source": [
    "test_predictions = [i.split(' ') for i in test_predictions]"
   ]
  },
  {
   "cell_type": "code",
   "execution_count": 142,
   "id": "5018c30f",
   "metadata": {
    "id": "321a7d79"
   },
   "outputs": [],
   "source": [
    "reshaped_sequences = test_sequences.reshape(test_sequences.shape[0]*test_sequences.shape[1],-1)"
   ]
  },
  {
   "cell_type": "code",
   "execution_count": 143,
   "id": "ebec4497",
   "metadata": {
    "id": "f08b271c"
   },
   "outputs": [],
   "source": [
    "test_sentences = []\n",
    "for i in reshaped_sequences:\n",
    "    tmp = []\n",
    "    for word in i:\n",
    "        if word!=0 and word!=1 and word!=2:\n",
    "            tmp.append(inverse_vocab[word])\n",
    "    test_sentences.append(tmp)"
   ]
  },
  {
   "cell_type": "code",
   "execution_count": 144,
   "id": "a3220e0e",
   "metadata": {
    "id": "d59c5885",
    "outputId": "ef47af55-ff52-46c5-eca2-b29eb57e0773"
   },
   "outputs": [
    {
     "name": "stdout",
     "output_type": "stream",
     "text": [
      "Overall bleu score on test data : 0.05876966615751078\n"
     ]
    },
    {
     "name": "stderr",
     "output_type": "stream",
     "text": [
      "/home/ec2-user/anaconda3/envs/amazonei_tensorflow2_p36/lib/python3.6/site-packages/nltk/translate/bleu_score.py:523: UserWarning: \n",
      "The hypothesis contains 0 counts of 2-gram overlaps.\n",
      "Therefore the BLEU score evaluates to 0, independently of\n",
      "how many N-gram overlaps of lower order it contains.\n",
      "Consider using lower n-gram order or use SmoothingFunction()\n",
      "  warnings.warn(_msg)\n",
      "/home/ec2-user/anaconda3/envs/amazonei_tensorflow2_p36/lib/python3.6/site-packages/nltk/translate/bleu_score.py:523: UserWarning: \n",
      "The hypothesis contains 0 counts of 3-gram overlaps.\n",
      "Therefore the BLEU score evaluates to 0, independently of\n",
      "how many N-gram overlaps of lower order it contains.\n",
      "Consider using lower n-gram order or use SmoothingFunction()\n",
      "  warnings.warn(_msg)\n",
      "/home/ec2-user/anaconda3/envs/amazonei_tensorflow2_p36/lib/python3.6/site-packages/nltk/translate/bleu_score.py:523: UserWarning: \n",
      "The hypothesis contains 0 counts of 4-gram overlaps.\n",
      "Therefore the BLEU score evaluates to 0, independently of\n",
      "how many N-gram overlaps of lower order it contains.\n",
      "Consider using lower n-gram order or use SmoothingFunction()\n",
      "  warnings.warn(_msg)\n"
     ]
    }
   ],
   "source": [
    "bleu_score = []\n",
    "for reference, prediction in zip(test_sentences, test_predictions):\n",
    "    bleu_score.append(sentence_bleu([reference], prediction))\n",
    "print('Overall bleu score on test data : {}'.format(np.mean(bleu_score)))\n",
    "df['overall_bleu'] = np.mean(bleu_score)*100"
   ]
  },
  {
   "cell_type": "code",
   "execution_count": 145,
   "id": "f902e8a2",
   "metadata": {},
   "outputs": [
    {
     "name": "stdout",
     "output_type": "stream",
     "text": [
      "Bleu score on test data for n-gram = 1 : 0.2690033531838923\n"
     ]
    }
   ],
   "source": [
    "bleu_score = []\n",
    "for reference, prediction in zip(test_sentences, test_predictions):\n",
    "    bleu_score.append(sentence_bleu([reference], prediction, weights=(1,)))\n",
    "print('Bleu score on test data for n-gram = 1 : {}'.format(np.mean(bleu_score)))\n",
    "df['n1_bleu'] = np.mean(bleu_score)*100"
   ]
  },
  {
   "cell_type": "code",
   "execution_count": 146,
   "id": "6e949d54",
   "metadata": {},
   "outputs": [
    {
     "name": "stdout",
     "output_type": "stream",
     "text": [
      "Bleu score on test data for n-gram = 2 : 0.13386001052127752\n"
     ]
    }
   ],
   "source": [
    "bleu_score = []\n",
    "for reference, prediction in zip(test_sentences, test_predictions):\n",
    "    bleu_score.append(sentence_bleu([reference], prediction, weights=(0,1)))\n",
    "print('Bleu score on test data for n-gram = 2 : {}'.format(np.mean(bleu_score)))\n",
    "df['n2_bleu'] = np.mean(bleu_score)*100"
   ]
  },
  {
   "cell_type": "code",
   "execution_count": 147,
   "id": "9b55e803",
   "metadata": {},
   "outputs": [
    {
     "name": "stdout",
     "output_type": "stream",
     "text": [
      "Bleu score on test data for n-gram = 3 : 0.0766074271025194\n"
     ]
    }
   ],
   "source": [
    "bleu_score = []\n",
    "for reference, prediction in zip(test_sentences, test_predictions):\n",
    "    bleu_score.append(sentence_bleu([reference], prediction, weights=(0,0,1)))\n",
    "print('Bleu score on test data for n-gram = 3 : {}'.format(np.mean(bleu_score)))\n",
    "df['n3_bleu'] = np.mean(bleu_score)*100"
   ]
  },
  {
   "cell_type": "code",
   "execution_count": 148,
   "id": "5209b0d2",
   "metadata": {},
   "outputs": [
    {
     "name": "stdout",
     "output_type": "stream",
     "text": [
      "Bleu score on test data for n-gram = 4 : 0.05080992712604868\n"
     ]
    }
   ],
   "source": [
    "bleu_score = []\n",
    "for reference, prediction in zip(test_sentences, test_predictions):\n",
    "    bleu_score.append(sentence_bleu([reference], prediction, weights=(0,0,0,1)))\n",
    "print('Bleu score on test data for n-gram = 4 : {}'.format(np.mean(bleu_score)))\n",
    "df['n4_bleu'] = np.mean(bleu_score)*100"
   ]
  },
  {
   "cell_type": "code",
   "execution_count": 149,
   "id": "fe745f28",
   "metadata": {},
   "outputs": [
    {
     "name": "stdout",
     "output_type": "stream",
     "text": [
      "Acuumulated bleu score on test data for n-gram = 4 : 0.05876966615751078\n"
     ]
    }
   ],
   "source": [
    "bleu_score = []\n",
    "for reference, prediction in zip(test_sentences, test_predictions):\n",
    "    bleu_score.append(sentence_bleu([reference], prediction, weights=(0.25,0.25,0.25,0.25)))\n",
    "print('Acuumulated bleu score on test data for n-gram = 4 : {}'.format(np.mean(bleu_score)))\n",
    "df['acc_bleu'] = np.mean(bleu_score)*100"
   ]
  },
  {
   "cell_type": "code",
   "execution_count": 150,
   "id": "eb040072",
   "metadata": {},
   "outputs": [
    {
     "data": {
      "text/html": [
       "<div>\n",
       "<style scoped>\n",
       "    .dataframe tbody tr th:only-of-type {\n",
       "        vertical-align: middle;\n",
       "    }\n",
       "\n",
       "    .dataframe tbody tr th {\n",
       "        vertical-align: top;\n",
       "    }\n",
       "\n",
       "    .dataframe thead th {\n",
       "        text-align: right;\n",
       "    }\n",
       "</style>\n",
       "<table border=\"1\" class=\"dataframe\">\n",
       "  <thead>\n",
       "    <tr style=\"text-align: right;\">\n",
       "      <th></th>\n",
       "      <th>train_perplexity</th>\n",
       "      <th>val_perplexity</th>\n",
       "      <th>train_loss</th>\n",
       "      <th>val_loss</th>\n",
       "      <th>overall_bleu</th>\n",
       "      <th>n1_bleu</th>\n",
       "      <th>n2_bleu</th>\n",
       "      <th>n3_bleu</th>\n",
       "      <th>n4_bleu</th>\n",
       "      <th>acc_bleu</th>\n",
       "    </tr>\n",
       "  </thead>\n",
       "  <tbody>\n",
       "    <tr>\n",
       "      <th>0</th>\n",
       "      <td>2004.038940</td>\n",
       "      <td>530.113281</td>\n",
       "      <td>7.259420</td>\n",
       "      <td>6.260456</td>\n",
       "      <td>5.876967</td>\n",
       "      <td>26.900335</td>\n",
       "      <td>13.386001</td>\n",
       "      <td>7.660743</td>\n",
       "      <td>5.080993</td>\n",
       "      <td>5.876967</td>\n",
       "    </tr>\n",
       "    <tr>\n",
       "      <th>1</th>\n",
       "      <td>316.523743</td>\n",
       "      <td>231.801453</td>\n",
       "      <td>5.725385</td>\n",
       "      <td>5.433937</td>\n",
       "      <td>5.876967</td>\n",
       "      <td>26.900335</td>\n",
       "      <td>13.386001</td>\n",
       "      <td>7.660743</td>\n",
       "      <td>5.080993</td>\n",
       "      <td>5.876967</td>\n",
       "    </tr>\n",
       "    <tr>\n",
       "      <th>2</th>\n",
       "      <td>170.357681</td>\n",
       "      <td>152.997238</td>\n",
       "      <td>5.122233</td>\n",
       "      <td>5.017761</td>\n",
       "      <td>5.876967</td>\n",
       "      <td>26.900335</td>\n",
       "      <td>13.386001</td>\n",
       "      <td>7.660743</td>\n",
       "      <td>5.080993</td>\n",
       "      <td>5.876967</td>\n",
       "    </tr>\n",
       "    <tr>\n",
       "      <th>3</th>\n",
       "      <td>113.310982</td>\n",
       "      <td>110.193184</td>\n",
       "      <td>4.715145</td>\n",
       "      <td>4.686828</td>\n",
       "      <td>5.876967</td>\n",
       "      <td>26.900335</td>\n",
       "      <td>13.386001</td>\n",
       "      <td>7.660743</td>\n",
       "      <td>5.080993</td>\n",
       "      <td>5.876967</td>\n",
       "    </tr>\n",
       "    <tr>\n",
       "      <th>4</th>\n",
       "      <td>81.135170</td>\n",
       "      <td>84.787590</td>\n",
       "      <td>4.380981</td>\n",
       "      <td>4.421544</td>\n",
       "      <td>5.876967</td>\n",
       "      <td>26.900335</td>\n",
       "      <td>13.386001</td>\n",
       "      <td>7.660743</td>\n",
       "      <td>5.080993</td>\n",
       "      <td>5.876967</td>\n",
       "    </tr>\n",
       "  </tbody>\n",
       "</table>\n",
       "</div>"
      ],
      "text/plain": [
       "   train_perplexity  val_perplexity  train_loss  val_loss  overall_bleu  \\\n",
       "0       2004.038940      530.113281    7.259420  6.260456      5.876967   \n",
       "1        316.523743      231.801453    5.725385  5.433937      5.876967   \n",
       "2        170.357681      152.997238    5.122233  5.017761      5.876967   \n",
       "3        113.310982      110.193184    4.715145  4.686828      5.876967   \n",
       "4         81.135170       84.787590    4.380981  4.421544      5.876967   \n",
       "\n",
       "     n1_bleu    n2_bleu   n3_bleu   n4_bleu  acc_bleu  \n",
       "0  26.900335  13.386001  7.660743  5.080993  5.876967  \n",
       "1  26.900335  13.386001  7.660743  5.080993  5.876967  \n",
       "2  26.900335  13.386001  7.660743  5.080993  5.876967  \n",
       "3  26.900335  13.386001  7.660743  5.080993  5.876967  \n",
       "4  26.900335  13.386001  7.660743  5.080993  5.876967  "
      ]
     },
     "execution_count": 150,
     "metadata": {},
     "output_type": "execute_result"
    }
   ],
   "source": [
    "df.head()"
   ]
  },
  {
   "cell_type": "code",
   "execution_count": 151,
   "id": "72d23640",
   "metadata": {},
   "outputs": [],
   "source": [
    "df.to_csv('{}_logs.csv'.format(model_name),index=False)"
   ]
  },
  {
   "cell_type": "code",
   "execution_count": 151,
   "id": "409e78ae",
   "metadata": {},
   "outputs": [],
   "source": [
    "conv_encoder.save_weights('{}_encoder.h5'.format(model_name))"
   ]
  },
  {
   "cell_type": "code",
   "execution_count": 152,
   "id": "ea5ad44b",
   "metadata": {},
   "outputs": [],
   "source": [
    "lstm_decoder.save_weights('{}_decoder.h5'.format(model_name))"
   ]
  },
  {
   "cell_type": "code",
   "execution_count": null,
   "id": "543b7e06",
   "metadata": {},
   "outputs": [],
   "source": []
  },
  {
   "cell_type": "code",
   "execution_count": null,
   "id": "dbde922f",
   "metadata": {},
   "outputs": [],
   "source": []
  }
 ],
 "metadata": {
  "colab": {
   "name": "conv_lstm_caption_full_transfer_learning_enc_dec.ipynb",
   "provenance": []
  },
  "kernelspec": {
   "display_name": "conda_amazonei_tensorflow2_p36",
   "language": "python",
   "name": "conda_amazonei_tensorflow2_p36"
  },
  "language_info": {
   "codemirror_mode": {
    "name": "ipython",
    "version": 3
   },
   "file_extension": ".py",
   "mimetype": "text/x-python",
   "name": "python",
   "nbconvert_exporter": "python",
   "pygments_lexer": "ipython3",
   "version": "3.6.13"
  }
 },
 "nbformat": 4,
 "nbformat_minor": 5
}
