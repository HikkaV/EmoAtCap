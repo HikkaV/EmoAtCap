{
 "cells": [
  {
   "cell_type": "code",
   "execution_count": 1,
   "id": "6e247662",
   "metadata": {
    "id": "e2d397db"
   },
   "outputs": [],
   "source": [
    "import tensorflow as tf"
   ]
  },
  {
   "cell_type": "code",
   "execution_count": 2,
   "id": "aee4945b",
   "metadata": {
    "id": "9964723c"
   },
   "outputs": [],
   "source": [
    "import pandas as pd\n",
    "import os\n",
    "import numpy as np\n",
    "from sklearn.utils import class_weight\n",
    "from keras_preprocessing import image as im\n",
    "tf.random.set_seed(\n",
    "    5\n",
    ")"
   ]
  },
  {
   "cell_type": "markdown",
   "id": "7932c19a",
   "metadata": {
    "id": "8ce21b4a"
   },
   "source": [
    "# Loading data"
   ]
  },
  {
   "cell_type": "code",
   "execution_count": 3,
   "id": "3f180a8d",
   "metadata": {
    "id": "214a30af"
   },
   "outputs": [],
   "source": [
    "def load_data(image_path, annotations_path):\n",
    "    df = pd.read_csv(annotations_path)\n",
    "    df = df[~df['human_sentiment'].isna()]\n",
    "    in_folder = os.listdir(image_path)\n",
    "    df.loc[df['image_name'].isin(in_folder), 'image_name'] = \\\n",
    "    df.loc[df['image_name'].isin(in_folder), 'image_name'].apply(lambda x: os.path.join(image_path,x))\n",
    "    images = []\n",
    "    for image_name in df['image_name'].values:\n",
    "        images.append(np.array(im.load_img(image_name, target_size=(224,224))))\n",
    "    images = np.array(images)\n",
    "    images = images/255\n",
    "    annotations = df['annotation'].str.lower().values\n",
    "    return images, annotations"
   ]
  },
  {
   "cell_type": "code",
   "execution_count": 4,
   "id": "34f0d77e",
   "metadata": {
    "id": "e483de83"
   },
   "outputs": [],
   "source": [
    "images, annotations = load_data(\"../../../../images/\", '../../../../emo-at-cap.csv')"
   ]
  },
  {
   "cell_type": "markdown",
   "id": "21a79805",
   "metadata": {
    "id": "3cb1f9e8"
   },
   "source": [
    "# Processing of data"
   ]
  },
  {
   "cell_type": "code",
   "execution_count": 5,
   "id": "55c1a86b",
   "metadata": {
    "id": "4ba97451"
   },
   "outputs": [],
   "source": [
    "import nltk"
   ]
  },
  {
   "cell_type": "code",
   "execution_count": 6,
   "id": "de1f0247",
   "metadata": {
    "id": "3898996e"
   },
   "outputs": [],
   "source": [
    "tokenizer = nltk.tokenize.WordPunctTokenizer()"
   ]
  },
  {
   "cell_type": "code",
   "execution_count": 7,
   "id": "b07286bd",
   "metadata": {
    "id": "b568172f"
   },
   "outputs": [],
   "source": [
    "tokenized = [tokenizer.tokenize(i) for i in annotations]"
   ]
  },
  {
   "cell_type": "code",
   "execution_count": 8,
   "id": "dfb35d78",
   "metadata": {
    "id": "e1021302"
   },
   "outputs": [],
   "source": [
    "unique_tokens, unique_counts = np.unique(np.hstack(tokenized), return_counts=True)"
   ]
  },
  {
   "cell_type": "code",
   "execution_count": 9,
   "id": "54339738",
   "metadata": {
    "id": "7eaea268",
    "outputId": "9d0d2069-1025-47e1-e098-24715fb6ec45"
   },
   "outputs": [
    {
     "name": "stderr",
     "output_type": "stream",
     "text": [
      "/home/ec2-user/anaconda3/envs/amazonei_tensorflow2_p36/lib/python3.6/site-packages/sklearn/utils/validation.py:72: FutureWarning: Pass classes=[\"'\" ',' '-' ... 'youth' 'исходный' 'текст'], y=['the' 'man' 'is' ... 'with' 'some' 'clothes'] as keyword args. From version 1.0 (renaming of 0.25) passing these as positional arguments will result in an error\n",
      "  \"will result in an error\", FutureWarning)\n"
     ]
    }
   ],
   "source": [
    "class_weights = class_weight.compute_class_weight('balanced', np.unique(np.hstack(tokenized)), np.hstack(tokenized))"
   ]
  },
  {
   "cell_type": "code",
   "execution_count": 10,
   "id": "670f060e",
   "metadata": {
    "id": "eb8ef5f2"
   },
   "outputs": [],
   "source": [
    "frequency = sorted(list(zip(unique_tokens, unique_counts)), key = lambda x: x[1])[::-1][:50]"
   ]
  },
  {
   "cell_type": "code",
   "execution_count": 11,
   "id": "028f6874",
   "metadata": {
    "id": "f3f16b78",
    "outputId": "7ba159bf-6ea6-4ee2-bd5c-7ed65db04f20"
   },
   "outputs": [
    {
     "data": {
      "text/plain": [
       "[('the', 3261),\n",
       " ('is', 2031),\n",
       " ('man', 1905),\n",
       " ('and', 1536),\n",
       " ('woman', 1361),\n",
       " ('are', 1036),\n",
       " ('a', 963),\n",
       " ('to', 891),\n",
       " ('looks', 751),\n",
       " ('happy', 705),\n",
       " ('with', 547),\n",
       " ('something', 480),\n",
       " ('men', 478),\n",
       " ('of', 463),\n",
       " ('two', 408),\n",
       " ('other', 361),\n",
       " ('people', 343),\n",
       " ('couple', 334),\n",
       " (',', 330),\n",
       " ('in', 278),\n",
       " ('look', 270),\n",
       " ('because', 265),\n",
       " ('they', 256),\n",
       " ('about', 247),\n",
       " ('on', 246),\n",
       " ('at', 192),\n",
       " ('trying', 190),\n",
       " ('serious', 189),\n",
       " ('women', 184),\n",
       " ('each', 179),\n",
       " ('together', 176),\n",
       " ('by', 175),\n",
       " ('having', 171),\n",
       " ('flirting', 165),\n",
       " ('he', 155),\n",
       " ('smiling', 151),\n",
       " ('arguing', 141),\n",
       " ('angry', 140),\n",
       " ('scared', 138),\n",
       " ('worried', 137),\n",
       " ('hugging', 135),\n",
       " ('surprised', 134),\n",
       " ('calm', 133),\n",
       " ('company', 131),\n",
       " ('her', 129),\n",
       " ('group', 123),\n",
       " ('for', 121),\n",
       " ('she', 117),\n",
       " ('looking', 117),\n",
       " ('his', 115)]"
      ]
     },
     "execution_count": 11,
     "metadata": {},
     "output_type": "execute_result"
    }
   ],
   "source": [
    "frequency"
   ]
  },
  {
   "cell_type": "code",
   "execution_count": 12,
   "id": "b3fe4814",
   "metadata": {
    "id": "f950e507",
    "outputId": "98b430e4-e506-4337-c1ed-88e22edac668"
   },
   "outputs": [
    {
     "data": {
      "text/plain": [
       "2162"
      ]
     },
     "execution_count": 12,
     "metadata": {},
     "output_type": "execute_result"
    }
   ],
   "source": [
    "len(unique_tokens)"
   ]
  },
  {
   "cell_type": "code",
   "execution_count": 13,
   "id": "bbd262c5",
   "metadata": {
    "id": "6000f578"
   },
   "outputs": [],
   "source": [
    "pad_token = '<PAD>'\n",
    "start_token = '<S>'\n",
    "end_token = '<E>'"
   ]
  },
  {
   "cell_type": "code",
   "execution_count": 14,
   "id": "6332e5cb",
   "metadata": {
    "id": "4bc8861e"
   },
   "outputs": [],
   "source": [
    "vocab = dict(zip(unique_tokens,list(range(3,len(unique_tokens)+3))))\n",
    "vocab[pad_token] = 0\n",
    "vocab[start_token] = 1\n",
    "vocab[end_token] = 2"
   ]
  },
  {
   "cell_type": "code",
   "execution_count": 15,
   "id": "7a495b33",
   "metadata": {
    "id": "ea82ff64"
   },
   "outputs": [],
   "source": [
    "inverse_vocab = dict([(v,k) for k,v in vocab.items()])"
   ]
  },
  {
   "cell_type": "code",
   "execution_count": 16,
   "id": "07488116",
   "metadata": {
    "id": "88aee17b"
   },
   "outputs": [],
   "source": [
    "def padd(sentences, pad_token, start_token, end_token, maxlen=10):\n",
    "    padded_sentences = []\n",
    "    for i in sentences:\n",
    "        sentence = [start_token] + i + [end_token]\n",
    "        if len(sentence)>=maxlen+2:\n",
    "            sentence = sentence[:maxlen+2]\n",
    "        else:\n",
    "            sentence = sentence+[pad_token for i in range(maxlen+2-len(sentence))]\n",
    "        padded_sentences.append(sentence)\n",
    "    return padded_sentences"
   ]
  },
  {
   "cell_type": "code",
   "execution_count": 17,
   "id": "cc809d1c",
   "metadata": {
    "id": "7c387246"
   },
   "outputs": [],
   "source": [
    "padded_sentences = padd(tokenized, pad_token, start_token, end_token, maxlen=10)"
   ]
  },
  {
   "cell_type": "code",
   "execution_count": 18,
   "id": "d1325168",
   "metadata": {
    "id": "dae31ba2",
    "outputId": "486e686d-f0b8-4618-af6d-1e7c60ea39c9"
   },
   "outputs": [
    {
     "data": {
      "text/plain": [
       "12.0"
      ]
     },
     "execution_count": 18,
     "metadata": {},
     "output_type": "execute_result"
    }
   ],
   "source": [
    "np.mean([len(i) for i in padded_sentences])"
   ]
  },
  {
   "cell_type": "code",
   "execution_count": 19,
   "id": "c566138e",
   "metadata": {
    "id": "1dbf265e"
   },
   "outputs": [],
   "source": [
    "indexed = list(map(lambda x: [vocab[i] for i in x],padded_sentences))"
   ]
  },
  {
   "cell_type": "code",
   "execution_count": 20,
   "id": "ca3170e6",
   "metadata": {
    "id": "cf6c28d5",
    "outputId": "7d1336e9-b529-4aa8-b9bc-2ffcb1932e4f"
   },
   "outputs": [
    {
     "data": {
      "text/plain": [
       "(3840, 224, 224, 3)"
      ]
     },
     "execution_count": 20,
     "metadata": {},
     "output_type": "execute_result"
    }
   ],
   "source": [
    "images.shape"
   ]
  },
  {
   "cell_type": "code",
   "execution_count": 21,
   "id": "61a6e05a",
   "metadata": {
    "id": "e0517b86",
    "outputId": "c6ec86e9-44db-4bcd-f81b-202d2d1a04b4"
   },
   "outputs": [
    {
     "data": {
      "text/plain": [
       "2162"
      ]
     },
     "execution_count": 21,
     "metadata": {},
     "output_type": "execute_result"
    }
   ],
   "source": [
    "len(class_weights)"
   ]
  },
  {
   "cell_type": "code",
   "execution_count": 22,
   "id": "20386e38",
   "metadata": {
    "id": "ab0f6f4b"
   },
   "outputs": [],
   "source": [
    "class_weights = list(class_weights)\n",
    "class_weights.insert(0, 1)\n",
    "class_weights.insert(1, 1)\n",
    "class_weights.insert(2, 1)"
   ]
  },
  {
   "cell_type": "code",
   "execution_count": 23,
   "id": "56ed9b2d",
   "metadata": {
    "id": "05479771",
    "outputId": "2c7a7e8f-765f-4f04-a736-13a683275744"
   },
   "outputs": [
    {
     "data": {
      "text/plain": [
       "(2165, 2165)"
      ]
     },
     "execution_count": 23,
     "metadata": {},
     "output_type": "execute_result"
    }
   ],
   "source": [
    "len(class_weights), len(vocab)"
   ]
  },
  {
   "cell_type": "code",
   "execution_count": 24,
   "id": "6045fb40",
   "metadata": {
    "id": "41ca43a8",
    "outputId": "bf3fd02b-b281-45d1-c2f5-ecde217c10c3"
   },
   "outputs": [
    {
     "data": {
      "text/plain": [
       "[1, 1, 1, 0.21013259327782918]"
      ]
     },
     "execution_count": 24,
     "metadata": {},
     "output_type": "execute_result"
    }
   ],
   "source": [
    "class_weights[:4]"
   ]
  },
  {
   "cell_type": "code",
   "execution_count": 25,
   "id": "ee9c8da8",
   "metadata": {
    "id": "8a65a1f9"
   },
   "outputs": [],
   "source": [
    "class_weights = np.array(class_weights)"
   ]
  },
  {
   "cell_type": "code",
   "execution_count": 26,
   "id": "5d3f3036",
   "metadata": {
    "id": "69a12138",
    "outputId": "58861466-75dd-46b2-e607-f3adf8280f92"
   },
   "outputs": [
    {
     "data": {
      "text/plain": [
       "(2165,)"
      ]
     },
     "execution_count": 26,
     "metadata": {},
     "output_type": "execute_result"
    }
   ],
   "source": [
    "class_weights.shape"
   ]
  },
  {
   "cell_type": "markdown",
   "id": "4f9fc3c0",
   "metadata": {
    "id": "87b12db3"
   },
   "source": [
    "# Model with transfer learning"
   ]
  },
  {
   "cell_type": "code",
   "execution_count": 27,
   "id": "57f5e9bf",
   "metadata": {
    "id": "1bc5b828"
   },
   "outputs": [],
   "source": [
    "def calc_size(x, f, s, padding='same'):\n",
    "    p = 2 if padding=='same' else 1\n",
    "    return (x-f+2)/s+1"
   ]
  },
  {
   "cell_type": "markdown",
   "id": "e16d519c",
   "metadata": {
    "id": "7b9f00b4"
   },
   "source": [
    "### Convolutional model"
   ]
  },
  {
   "cell_type": "code",
   "execution_count": 28,
   "id": "08c52d61",
   "metadata": {
    "id": "10203a8b"
   },
   "outputs": [],
   "source": [
    "import tensorflow.keras.applications as apps\n"
   ]
  },
  {
   "cell_type": "code",
   "execution_count": 29,
   "id": "21604684",
   "metadata": {
    "colab": {
     "base_uri": "https://localhost:8080/",
     "height": 235
    },
    "id": "c8c52aa1",
    "outputId": "36d889da-8981-413e-bb50-72bce618f234"
   },
   "outputs": [],
   "source": [
    "class ConvEncoder(tf.keras.Model):\n",
    "    def __init__(self):\n",
    "        super(ConvEncoder, self).__init__()\n",
    "        #building resnet\n",
    "        self.resnet_extractor = apps.ResNet152V2(include_top=False, weights='imagenet')\n",
    "        self.resnet_extractor.trainable = False\n",
    "        self.pooling = tf.keras.layers.GlobalAveragePooling2D()\n",
    "        self.dense1 = tf.keras.layers.Dense(units=256, activation='relu')\n",
    "\n",
    "    def call(self, input):\n",
    "        extracted = self.pooling(self.resnet_extractor(input))\n",
    "        return self.dense1(extracted)"
   ]
  },
  {
   "cell_type": "code",
   "execution_count": 30,
   "id": "d5415ef5",
   "metadata": {
    "id": "0433171b"
   },
   "outputs": [],
   "source": [
    "conv_encoder = ConvEncoder()"
   ]
  },
  {
   "cell_type": "code",
   "execution_count": 31,
   "id": "efd2048b",
   "metadata": {
    "id": "68116817"
   },
   "outputs": [
    {
     "name": "stdout",
     "output_type": "stream",
     "text": [
      "WARNING:tensorflow:Layer conv_encoder is casting an input tensor from dtype float64 to the layer's dtype of float32, which is new behavior in TensorFlow 2.  The layer has dtype float32 because its dtype defaults to floatx.\n",
      "\n",
      "If you intended to run this layer in float32, you can safely ignore this warning. If in doubt, this warning is likely only an issue if you are porting a TensorFlow 1.X model to TensorFlow 2.\n",
      "\n",
      "To change all layers to have dtype float64 by default, call `tf.keras.backend.set_floatx('float64')`. To change just this layer, pass dtype='float64' to the layer constructor. If you are the author of this layer, you can disable autocasting by passing autocast=False to the base Layer constructor.\n",
      "\n"
     ]
    }
   ],
   "source": [
    "conv_res = conv_encoder(np.expand_dims(images[0],axis=0))"
   ]
  },
  {
   "cell_type": "code",
   "execution_count": 32,
   "id": "cf21782d",
   "metadata": {},
   "outputs": [
    {
     "data": {
      "text/plain": [
       "<tf.Tensor: shape=(1, 256), dtype=float32, numpy=\n",
       "array([[0.        , 0.45110387, 0.        , 0.8999197 , 0.04021239,\n",
       "        1.0338805 , 0.        , 1.2185142 , 0.        , 0.78247416,\n",
       "        0.17089391, 0.        , 0.395425  , 0.16711998, 0.15840748,\n",
       "        1.2803931 , 0.        , 0.        , 1.1242403 , 0.66152096,\n",
       "        0.17552578, 0.54913604, 0.3783183 , 0.91132635, 0.        ,\n",
       "        0.        , 0.911293  , 0.        , 0.        , 0.48045883,\n",
       "        0.92532384, 0.38483918, 0.55450535, 0.        , 0.        ,\n",
       "        0.64365196, 0.4652435 , 0.        , 0.88236743, 0.1019963 ,\n",
       "        0.14806342, 0.5517235 , 0.        , 0.5829716 , 0.        ,\n",
       "        0.        , 1.2746992 , 0.        , 1.9214394 , 0.70789796,\n",
       "        0.        , 0.84508026, 0.7652738 , 0.        , 0.        ,\n",
       "        0.5421097 , 0.5754764 , 0.        , 0.        , 0.        ,\n",
       "        0.        , 0.        , 0.16309988, 0.        , 1.6102335 ,\n",
       "        0.        , 0.        , 2.0704203 , 0.8703097 , 0.        ,\n",
       "        0.        , 0.        , 0.        , 0.        , 0.        ,\n",
       "        0.27534306, 0.        , 0.        , 0.        , 0.7528141 ,\n",
       "        0.        , 0.81093776, 0.        , 0.8201586 , 0.        ,\n",
       "        0.        , 0.        , 1.0331872 , 0.        , 1.8235571 ,\n",
       "        0.        , 0.        , 0.6332443 , 0.15406108, 0.        ,\n",
       "        0.        , 2.8022666 , 0.71444076, 1.0873613 , 0.        ,\n",
       "        0.53588617, 0.03134896, 0.29490775, 0.7721145 , 0.        ,\n",
       "        0.        , 0.        , 0.        , 0.        , 0.        ,\n",
       "        0.9647549 , 0.        , 0.        , 0.        , 0.39297438,\n",
       "        0.85214627, 0.        , 0.        , 0.6294123 , 0.07732022,\n",
       "        0.        , 0.        , 1.0305984 , 0.13386245, 0.6310453 ,\n",
       "        0.        , 1.4007909 , 0.        , 0.        , 0.        ,\n",
       "        0.        , 0.        , 0.40312946, 0.32541773, 1.7421968 ,\n",
       "        0.02255547, 0.        , 0.        , 0.1250926 , 0.29917863,\n",
       "        0.71371293, 0.        , 0.00821677, 0.        , 0.4591302 ,\n",
       "        0.69704795, 0.        , 0.81397444, 0.8847908 , 0.        ,\n",
       "        0.        , 0.        , 0.56859976, 0.        , 1.0443739 ,\n",
       "        0.3760622 , 0.7779468 , 0.        , 0.        , 0.        ,\n",
       "        0.        , 0.9569896 , 0.        , 0.        , 0.15808088,\n",
       "        0.        , 0.9504615 , 0.        , 0.46709412, 0.        ,\n",
       "        0.        , 0.        , 0.        , 0.78663456, 1.5394957 ,\n",
       "        0.        , 1.8510633 , 0.        , 0.        , 0.54882014,\n",
       "        0.        , 0.        , 0.        , 0.711838  , 0.20756839,\n",
       "        0.        , 1.5464618 , 0.42516983, 0.3995549 , 0.        ,\n",
       "        1.2161616 , 0.        , 0.7541039 , 0.34073707, 1.0788891 ,\n",
       "        1.3154405 , 0.        , 0.98613906, 0.        , 0.        ,\n",
       "        1.0067668 , 0.12794054, 0.20780149, 0.        , 0.        ,\n",
       "        0.        , 1.0816108 , 2.5355966 , 0.00944054, 0.66316414,\n",
       "        0.        , 0.        , 0.        , 2.1952248 , 0.14683568,\n",
       "        1.8667266 , 0.        , 0.        , 0.        , 1.7083161 ,\n",
       "        0.        , 0.05595022, 0.05248827, 0.        , 0.        ,\n",
       "        1.262636  , 0.5166594 , 0.        , 0.92354286, 0.        ,\n",
       "        0.45675468, 0.        , 0.        , 1.2941663 , 1.0332737 ,\n",
       "        0.29596093, 0.        , 0.03434849, 0.        , 0.23135428,\n",
       "        0.        , 0.00986922, 0.07034899, 0.        , 0.        ,\n",
       "        0.        , 1.135912  , 0.40485382, 0.        , 0.        ,\n",
       "        0.51951504, 0.41701663, 1.0187604 , 0.        , 0.        ,\n",
       "        1.3398452 ]], dtype=float32)>"
      ]
     },
     "execution_count": 32,
     "metadata": {},
     "output_type": "execute_result"
    }
   ],
   "source": [
    "conv_res"
   ]
  },
  {
   "cell_type": "markdown",
   "id": "0978c56f",
   "metadata": {
    "id": "999c2bc0"
   },
   "source": [
    "### LSTM model"
   ]
  },
  {
   "cell_type": "markdown",
   "id": "efbda99a",
   "metadata": {
    "id": "26590f4e"
   },
   "source": [
    "### making w2v embeddings"
   ]
  },
  {
   "cell_type": "code",
   "execution_count": 33,
   "id": "e414fff1",
   "metadata": {
    "id": "a5f650c0",
    "outputId": "7120055b-7c8b-4c55-d4a7-0d4cc8dfce18"
   },
   "outputs": [
    {
     "name": "stdout",
     "output_type": "stream",
     "text": [
      "Collecting gensim\n",
      "  Downloading gensim-4.0.1-cp36-cp36m-manylinux1_x86_64.whl (23.9 MB)\n",
      "\u001b[K     |████████████████████████████████| 23.9 MB 28.9 MB/s eta 0:00:01\n",
      "\u001b[?25hRequirement already satisfied: scipy>=0.18.1 in /home/ec2-user/anaconda3/envs/amazonei_tensorflow2_p36/lib/python3.6/site-packages (from gensim) (1.5.3)\n",
      "Collecting smart-open>=1.8.1\n",
      "  Downloading smart_open-5.1.0-py3-none-any.whl (57 kB)\n",
      "\u001b[K     |████████████████████████████████| 57 kB 7.7 MB/s  eta 0:00:01\n",
      "\u001b[?25hRequirement already satisfied: dataclasses in /home/ec2-user/anaconda3/envs/amazonei_tensorflow2_p36/lib/python3.6/site-packages (from gensim) (0.8)\n",
      "Requirement already satisfied: numpy>=1.11.3 in /home/ec2-user/anaconda3/envs/amazonei_tensorflow2_p36/lib/python3.6/site-packages (from gensim) (1.18.5)\n",
      "Installing collected packages: smart-open, gensim\n",
      "Successfully installed gensim-4.0.1 smart-open-5.1.0\n",
      "\u001b[33mWARNING: You are using pip version 21.1.2; however, version 21.1.3 is available.\n",
      "You should consider upgrading via the '/home/ec2-user/anaconda3/envs/amazonei_tensorflow2_p36/bin/python -m pip install --upgrade pip' command.\u001b[0m\n"
     ]
    }
   ],
   "source": [
    "!pip install gensim"
   ]
  },
  {
   "cell_type": "code",
   "execution_count": 34,
   "id": "a25ccd14",
   "metadata": {
    "id": "715baa20",
    "outputId": "0a279aff-b57f-4416-b0cc-df0b524258cf"
   },
   "outputs": [
    {
     "name": "stderr",
     "output_type": "stream",
     "text": [
      "/home/ec2-user/anaconda3/envs/amazonei_tensorflow2_p36/lib/python3.6/site-packages/gensim/similarities/__init__.py:15: UserWarning: The gensim.similarities.levenshtein submodule is disabled, because the optional Levenshtein package <https://pypi.org/project/python-Levenshtein/> is unavailable. Install Levenhstein (e.g. `pip install python-Levenshtein`) to suppress this warning.\n",
      "  warnings.warn(msg)\n"
     ]
    }
   ],
   "source": [
    "import gensim.downloader as api"
   ]
  },
  {
   "cell_type": "code",
   "execution_count": 35,
   "id": "b6bd6f2a",
   "metadata": {
    "id": "623ef226"
   },
   "outputs": [
    {
     "name": "stdout",
     "output_type": "stream",
     "text": [
      "[==================================================] 100.0% 1662.8/1662.8MB downloaded\n"
     ]
    }
   ],
   "source": [
    "w2v_embeddings = api.load('word2vec-google-news-300')"
   ]
  },
  {
   "cell_type": "code",
   "execution_count": 36,
   "id": "9160dcdd",
   "metadata": {
    "id": "f6b2f48a"
   },
   "outputs": [],
   "source": [
    "def build_embeddings(vocab, word_vectors, embed_dim):\n",
    "    emb_matrix = np.zeros(shape=(len(vocab)+ 1 , embed_dim), dtype='float32')\n",
    "    count = 0\n",
    "    for word, i in vocab.items():\n",
    "        try:\n",
    "            emb_matrix[i, :] = word_vectors.get_vector(word)\n",
    "        except:\n",
    "            count += 1\n",
    "            emb_matrix[i, :] = np.random.uniform(-0.1, 0.1, embed_dim)\n",
    "    print('{} words are out of vocabulary：'.format(count))\n",
    "    return emb_matrix\n"
   ]
  },
  {
   "cell_type": "code",
   "execution_count": 37,
   "id": "ecc2d8fe",
   "metadata": {
    "id": "e893c531",
    "outputId": "8986b2db-0a92-4b04-ab3a-e08a716c4626"
   },
   "outputs": [
    {
     "name": "stdout",
     "output_type": "stream",
     "text": [
      "22 words are out of vocabulary：\n"
     ]
    }
   ],
   "source": [
    "w2v_embeddings = build_embeddings(vocab, w2v_embeddings, 300)"
   ]
  },
  {
   "cell_type": "markdown",
   "id": "58aa6378",
   "metadata": {},
   "source": [
    "### attention"
   ]
  },
  {
   "cell_type": "code",
   "execution_count": 38,
   "id": "610a760c",
   "metadata": {},
   "outputs": [],
   "source": [
    "class BahdanauAttention(tf.keras.Model):\n",
    "  def __init__(self, units):\n",
    "    super(BahdanauAttention, self).__init__()\n",
    "    self.W1 = tf.keras.layers.Dense(units)\n",
    "    self.W2 = tf.keras.layers.Dense(units)\n",
    "    self.V = tf.keras.layers.Dense(1)\n",
    "\n",
    "  def call(self, features, hidden):\n",
    "    # features(CNN_encoder output) shape == (batch_size, 64, embedding_dim)\n",
    "\n",
    "    # hidden shape == (batch_size, hidden_size)\n",
    "    # hidden_with_time_axis shape == (batch_size, 1, hidden_size)\n",
    "    hidden_with_time_axis = tf.expand_dims(hidden, 1)\n",
    "\n",
    "    # attention_hidden_layer shape == (batch_size, 64, units)\n",
    "    attention_hidden_layer = (tf.nn.tanh(self.W1(features) +\n",
    "                                         self.W2(hidden_with_time_axis)))\n",
    "\n",
    "    # score shape == (batch_size, 64, 1)\n",
    "    # This gives you an unnormalized score for each image feature.\n",
    "    score = self.V(attention_hidden_layer)\n",
    "\n",
    "    # attention_weights shape == (batch_size, 64, 1)\n",
    "    attention_weights = tf.nn.softmax(score, axis=1)\n",
    "\n",
    "    # context_vector shape after sum == (batch_size, hidden_size)\n",
    "    context_vector = attention_weights * features\n",
    "    context_vector = tf.reduce_sum(context_vector, axis=1)\n",
    "\n",
    "    return context_vector, attention_weights"
   ]
  },
  {
   "cell_type": "markdown",
   "id": "37b75722",
   "metadata": {
    "id": "0b62cbad"
   },
   "source": [
    "### building model"
   ]
  },
  {
   "cell_type": "code",
   "execution_count": 39,
   "id": "166c2dd4",
   "metadata": {
    "id": "02766a3f"
   },
   "outputs": [],
   "source": [
    "class LSTMDecoder(tf.keras.Model):\n",
    "    def __init__(self, max_tokens, units=512, embeddings=None, dim=128):\n",
    "        super(LSTMDecoder, self).__init__()\n",
    "        self.units = units\n",
    "        self.embeddings = tf.keras.layers.Embedding(input_dim=max_tokens+1, output_dim=dim, name='embeddings',\n",
    "                                                   weights=[embeddings])\n",
    "        self.dropout = tf.keras.layers.SpatialDropout1D(0.2)\n",
    "        self.lstm = tf.keras.layers.LSTM(units=self.units, return_state=True, return_sequences=True, name='lstm_decoder', \n",
    "                                         recurrent_dropout=0.1,recurrent_initializer='glorot_uniform')\n",
    "        self.intermidiate_dense = tf.keras.layers.Dense(units=self.units, activation='relu')\n",
    "        self.output_dense = tf.keras.layers.Dense(units=max_tokens)\n",
    "        self.attention = BahdanauAttention(self.units)\n",
    "\n",
    "    def call(self, input, features, hidden):\n",
    "        embedded = self.dropout(self.embeddings(input))\n",
    "        context_vector, attention_weights = self.attention(features, hidden)\n",
    "        concated = tf.concat([tf.expand_dims(context_vector, 1), embedded], axis=-1)\n",
    "        result_lstm, state_h, state_c = self.lstm(concated)\n",
    "        intermidiate_dense = self.intermidiate_dense(result_lstm)\n",
    "        intermidiate_dense = tf.reshape(intermidiate_dense, (-1, intermidiate_dense.shape[2]))\n",
    "        logits = self.output_dense(intermidiate_dense)\n",
    "        return logits, state_h, attention_weights\n",
    "    \n",
    "    def reset_state(self, batch_size):\n",
    "        return tf.zeros((batch_size, self.units))"
   ]
  },
  {
   "cell_type": "code",
   "execution_count": 40,
   "id": "da02d711",
   "metadata": {
    "id": "4dfe8136",
    "outputId": "c0ca843d-4ad1-4150-a61c-851506423007"
   },
   "outputs": [
    {
     "name": "stdout",
     "output_type": "stream",
     "text": [
      "WARNING:tensorflow:Layer lstm_decoder will not use cuDNN kernel since it doesn't meet the cuDNN kernel criteria. It will use generic GPU kernel as fallback when running on GPU\n"
     ]
    }
   ],
   "source": [
    "lstm_decoder = LSTMDecoder(len(inverse_vocab), 256, w2v_embeddings, dim=300)"
   ]
  },
  {
   "cell_type": "markdown",
   "id": "27955e20",
   "metadata": {
    "id": "25dff32e"
   },
   "source": [
    "### Training"
   ]
  },
  {
   "cell_type": "code",
   "execution_count": 41,
   "id": "55e2fd97",
   "metadata": {
    "id": "9559d09b"
   },
   "outputs": [],
   "source": [
    "from sklearn.model_selection import train_test_split"
   ]
  },
  {
   "cell_type": "code",
   "execution_count": 42,
   "id": "c39d215a",
   "metadata": {
    "id": "3e38fa7d"
   },
   "outputs": [],
   "source": [
    "loss_object = tf.keras.losses.SparseCategoricalCrossentropy(reduction='none',\n",
    "                                                                         from_logits=True)\n",
    "lr_value = 1e-4\n",
    "reduction_power = 10\n",
    "optimizer = tf.keras.optimizers.RMSprop(learning_rate=lr_value)\n",
    "with_weights = False"
   ]
  },
  {
   "cell_type": "code",
   "execution_count": 43,
   "id": "39c26719",
   "metadata": {
    "id": "12a0f4ce"
   },
   "outputs": [],
   "source": [
    "epochs = 30\n",
    "batch_size = 64\n",
    "patience_epochs = 2"
   ]
  },
  {
   "cell_type": "code",
   "execution_count": 44,
   "id": "28444068",
   "metadata": {
    "id": "9cb2ce3a"
   },
   "outputs": [],
   "source": [
    "def loss_function(real, pred, loss_weights):\n",
    "        mask = tf.math.logical_not(tf.math.equal(real, vocab[pad_token]))\n",
    "        loss_ = loss_object(real, pred)\n",
    "        mask = tf.cast(mask, dtype=loss_.dtype)\n",
    "        loss_ *= mask\n",
    "        loss_weights = tf.cast(loss_weights, dtype=loss_.dtype)\n",
    "        loss_*=loss_weights\n",
    "        return loss_"
   ]
  },
  {
   "cell_type": "code",
   "execution_count": 45,
   "id": "fdcc7d89",
   "metadata": {
    "id": "f1b5202f"
   },
   "outputs": [],
   "source": [
    "@tf.function\n",
    "def train_step(image, target, lengths, optimizer):\n",
    "    hidden = lstm_decoder.reset_state(batch_size=target.shape[0])\n",
    "\n",
    "    with tf.GradientTape() as tape:\n",
    "        features = conv_encoder(image)\n",
    "        # Teacher forcing - feeding the target as the next input\n",
    "        batched_loss = []\n",
    "        for t in range(1, target.shape[1]):\n",
    "            \n",
    "            dec_input = tf.expand_dims(target[:, t-1], 1)\n",
    "            result, hidden, _ = lstm_decoder(dec_input, features, hidden)\n",
    "            weights = tf.broadcast_to(class_weights, shape=(target[:,t].shape[0], class_weights.shape[0]))\n",
    "            weights = tf.gather(weights, target[:,t],axis=1, batch_dims=1)\n",
    "            batched_loss.append(loss_function(target[:, t], result, weights))\n",
    "        batched_loss = tf.reshape(tf.stack(batched_loss), shape=target[:,1:].shape)\n",
    "        batched_loss = tf.reduce_sum(batched_loss, axis=1)\n",
    "        lengths = tf.cast(lengths, dtype=batched_loss.dtype)\n",
    "        loss = tf.reduce_mean(batched_loss / lengths)\n",
    "\n",
    "    perplexity = tf.exp(loss)\n",
    "\n",
    "    variables = conv_encoder.trainable_variables + lstm_decoder.trainable_variables\n",
    "    gradients = tape.gradient(loss, variables)\n",
    "\n",
    "    optimizer.apply_gradients(zip(gradients, variables))\n",
    "\n",
    "    return loss, perplexity"
   ]
  },
  {
   "cell_type": "code",
   "execution_count": 46,
   "id": "fa3c7d47",
   "metadata": {
    "id": "aa6a4ec9"
   },
   "outputs": [],
   "source": [
    "@tf.function\n",
    "def evaluate(image, target, lengths, optimizer):\n",
    "    hidden = lstm_decoder.reset_state(batch_size=target.shape[0])\n",
    "\n",
    "    features = conv_encoder(image)\n",
    "    # Teacher forcing - feeding the target as the next input\n",
    "    batched_loss = []\n",
    "    for t in range(1, target.shape[1]):\n",
    "\n",
    "        dec_input = tf.expand_dims(target[:, t-1], 1)\n",
    "        result, hidden, _ = lstm_decoder(dec_input, features, hidden)\n",
    "        weights = tf.broadcast_to(class_weights, shape=(target[:,t].shape[0], class_weights.shape[0]))\n",
    "        weights = tf.gather(weights, target[:,t],axis=1, batch_dims=1)\n",
    "        batched_loss.append(loss_function(target[:, t], result, weights))\n",
    "    \n",
    "    batched_loss = tf.reshape(tf.stack(batched_loss), shape=target[:,1:].shape)\n",
    "    batched_loss = tf.reduce_sum(batched_loss, axis=1)\n",
    "    lengths = tf.cast(lengths, dtype=batched_loss.dtype)\n",
    "    loss = tf.reduce_mean(batched_loss / lengths)\n",
    "    perplexity = tf.exp(loss)\n",
    "\n",
    "\n",
    "    return loss, perplexity"
   ]
  },
  {
   "cell_type": "code",
   "execution_count": 47,
   "id": "4eb54d95",
   "metadata": {
    "id": "b9b86eed"
   },
   "outputs": [],
   "source": [
    "train_images, val_images, train_sequences, val_sequences =  train_test_split(images, indexed, test_size=0.2, random_state=10)\n",
    "val_images, test_images, val_sequences, test_sequences =  train_test_split(val_images, val_sequences, test_size=0.5, random_state=10)"
   ]
  },
  {
   "cell_type": "code",
   "execution_count": 48,
   "id": "584648f7",
   "metadata": {
    "id": "acba46dc"
   },
   "outputs": [],
   "source": [
    "train_length = (np.array(train_sequences)!=vocab[pad_token]).sum(axis=1)-2"
   ]
  },
  {
   "cell_type": "code",
   "execution_count": 49,
   "id": "5f75dd49",
   "metadata": {},
   "outputs": [],
   "source": [
    "val_length = (np.array(val_sequences)!=vocab[pad_token]).sum(axis=1)-2"
   ]
  },
  {
   "cell_type": "code",
   "execution_count": 50,
   "id": "12cae0d1",
   "metadata": {
    "id": "114f3f4d"
   },
   "outputs": [],
   "source": [
    "test_length = (np.array(test_sequences)!=vocab[pad_token]).sum(axis=1)-2"
   ]
  },
  {
   "cell_type": "code",
   "execution_count": 51,
   "id": "f425820b",
   "metadata": {
    "id": "0e27f657"
   },
   "outputs": [],
   "source": [
    "train_images = np.array(np.array_split(train_images, len(train_images)//batch_size))\n",
    "test_images = np.array(np.array_split(test_images, len(test_images)//batch_size))\n",
    "val_images = np.array(np.array_split(val_images, len(val_images)//batch_size))\n",
    "\n",
    "train_sequences = np.array(np.array_split(train_sequences, len(train_sequences)//batch_size))\n",
    "test_sequences = np.array(np.array_split(test_sequences, len(test_sequences)//batch_size))\n",
    "val_sequences = np.array(np.array_split(val_sequences, len(val_sequences)//batch_size))\n",
    "\n",
    "train_length = np.array(np.array_split(train_length, len(train_length)//batch_size))\n",
    "test_length = np.array(np.array_split(test_length, len(test_length)//batch_size))\n",
    "val_length = np.array(np.array_split(val_length, len(val_length)//batch_size))\n"
   ]
  },
  {
   "cell_type": "code",
   "execution_count": 52,
   "id": "4e6ac0c7",
   "metadata": {
    "id": "552ed89c",
    "outputId": "54b68180-8df5-4e71-c80a-9009ed49b74a"
   },
   "outputs": [
    {
     "data": {
      "text/plain": [
       "((48, 64, 224, 224, 3), (48, 64, 12), (48, 64))"
      ]
     },
     "execution_count": 52,
     "metadata": {},
     "output_type": "execute_result"
    }
   ],
   "source": [
    "train_images.shape, train_sequences.shape, train_length.shape"
   ]
  },
  {
   "cell_type": "code",
   "execution_count": 53,
   "id": "1e8e64c3",
   "metadata": {
    "id": "25f6490c",
    "outputId": "79c4fa3b-5786-44c1-faa3-075c5d0d804b"
   },
   "outputs": [
    {
     "name": "stdout",
     "output_type": "stream",
     "text": [
      "Collecting tqdm\n",
      "  Downloading tqdm-4.61.2-py2.py3-none-any.whl (76 kB)\n",
      "\u001b[K     |████████████████████████████████| 76 kB 6.1 MB/s  eta 0:00:01\n",
      "\u001b[?25hInstalling collected packages: tqdm\n",
      "Successfully installed tqdm-4.61.2\n",
      "\u001b[33mWARNING: You are using pip version 21.1.2; however, version 21.1.3 is available.\n",
      "You should consider upgrading via the '/home/ec2-user/anaconda3/envs/amazonei_tensorflow2_p36/bin/python -m pip install --upgrade pip' command.\u001b[0m\n"
     ]
    }
   ],
   "source": [
    "!pip install tqdm"
   ]
  },
  {
   "cell_type": "code",
   "execution_count": 54,
   "id": "212bf2a6",
   "metadata": {
    "id": "c233a386"
   },
   "outputs": [],
   "source": [
    "if not with_weights:\n",
    "    class_weights = np.array([1 for i in range(len(class_weights))])"
   ]
  },
  {
   "cell_type": "code",
   "execution_count": 55,
   "id": "f7e02d21",
   "metadata": {
    "id": "4c609b61"
   },
   "outputs": [],
   "source": [
    "from tqdm import tqdm"
   ]
  },
  {
   "cell_type": "code",
   "execution_count": 56,
   "id": "3e7d5be5",
   "metadata": {
    "id": "1144f320",
    "outputId": "6b3fe07f-3098-43f9-bf97-30657ac3723b"
   },
   "outputs": [
    {
     "name": "stderr",
     "output_type": "stream",
     "text": [
      "48it [01:20,  1.67s/it]\n"
     ]
    },
    {
     "name": "stdout",
     "output_type": "stream",
     "text": [
      "Finished epoch 0; Train loss : 7.713783264160156; Train perplexity : 3322.46875\n",
      "Validation loss : 6.209583282470703; Validation perplexity : 504.005859375\n"
     ]
    },
    {
     "name": "stderr",
     "output_type": "stream",
     "text": [
      "48it [00:48,  1.02s/it]\n"
     ]
    },
    {
     "name": "stdout",
     "output_type": "stream",
     "text": [
      "Finished epoch 1; Train loss : 5.830974578857422; Train perplexity : 345.0384826660156\n",
      "Validation loss : 5.736627578735352; Validation perplexity : 313.3835144042969\n"
     ]
    },
    {
     "name": "stderr",
     "output_type": "stream",
     "text": [
      "48it [00:49,  1.03s/it]\n"
     ]
    },
    {
     "name": "stdout",
     "output_type": "stream",
     "text": [
      "Finished epoch 2; Train loss : 5.669843673706055; Train perplexity : 292.6361389160156\n",
      "Validation loss : 5.7072014808654785; Validation perplexity : 304.5351867675781\n"
     ]
    },
    {
     "name": "stderr",
     "output_type": "stream",
     "text": [
      "48it [00:49,  1.03s/it]\n"
     ]
    },
    {
     "name": "stdout",
     "output_type": "stream",
     "text": [
      "Finished epoch 3; Train loss : 5.580689907073975; Train perplexity : 267.7345886230469\n",
      "Validation loss : 5.612168788909912; Validation perplexity : 277.49444580078125\n"
     ]
    },
    {
     "name": "stderr",
     "output_type": "stream",
     "text": [
      "48it [00:49,  1.04s/it]\n"
     ]
    },
    {
     "name": "stdout",
     "output_type": "stream",
     "text": [
      "Finished epoch 4; Train loss : 5.423477649688721; Train perplexity : 228.99102783203125\n",
      "Validation loss : 5.496044635772705; Validation perplexity : 247.6101531982422\n"
     ]
    },
    {
     "name": "stderr",
     "output_type": "stream",
     "text": [
      "48it [00:48,  1.02s/it]\n"
     ]
    },
    {
     "name": "stdout",
     "output_type": "stream",
     "text": [
      "Finished epoch 5; Train loss : 5.265373229980469; Train perplexity : 195.6326141357422\n",
      "Validation loss : 5.360291004180908; Validation perplexity : 216.38148498535156\n"
     ]
    },
    {
     "name": "stderr",
     "output_type": "stream",
     "text": [
      "48it [00:49,  1.02s/it]\n"
     ]
    },
    {
     "name": "stdout",
     "output_type": "stream",
     "text": [
      "Finished epoch 6; Train loss : 5.112905025482178; Train perplexity : 168.0128173828125\n",
      "Validation loss : 5.241258144378662; Validation perplexity : 192.48951721191406\n"
     ]
    },
    {
     "name": "stderr",
     "output_type": "stream",
     "text": [
      "48it [00:48,  1.02s/it]\n"
     ]
    },
    {
     "name": "stdout",
     "output_type": "stream",
     "text": [
      "Finished epoch 7; Train loss : 4.975520610809326; Train perplexity : 146.56407165527344\n",
      "Validation loss : 5.142752170562744; Validation perplexity : 174.8878631591797\n"
     ]
    },
    {
     "name": "stderr",
     "output_type": "stream",
     "text": [
      "48it [00:49,  1.03s/it]\n"
     ]
    },
    {
     "name": "stdout",
     "output_type": "stream",
     "text": [
      "Finished epoch 8; Train loss : 4.835031509399414; Train perplexity : 127.30863189697266\n",
      "Validation loss : 5.05100154876709; Validation perplexity : 161.06826782226562\n"
     ]
    },
    {
     "name": "stderr",
     "output_type": "stream",
     "text": [
      "48it [00:49,  1.02s/it]\n"
     ]
    },
    {
     "name": "stdout",
     "output_type": "stream",
     "text": [
      "Finished epoch 9; Train loss : 4.707993030548096; Train perplexity : 112.36226654052734\n",
      "Validation loss : 4.901970863342285; Validation perplexity : 138.24693298339844\n"
     ]
    },
    {
     "name": "stderr",
     "output_type": "stream",
     "text": [
      "48it [00:49,  1.02s/it]\n"
     ]
    },
    {
     "name": "stdout",
     "output_type": "stream",
     "text": [
      "Finished epoch 10; Train loss : 4.590696811676025; Train perplexity : 100.5475082397461\n",
      "Validation loss : 4.828010082244873; Validation perplexity : 129.3452606201172\n"
     ]
    },
    {
     "name": "stderr",
     "output_type": "stream",
     "text": [
      "48it [00:49,  1.04s/it]\n"
     ]
    },
    {
     "name": "stdout",
     "output_type": "stream",
     "text": [
      "Finished epoch 11; Train loss : 4.461187839508057; Train perplexity : 87.84061431884766\n",
      "Validation loss : 4.706614971160889; Validation perplexity : 113.95654296875\n"
     ]
    },
    {
     "name": "stderr",
     "output_type": "stream",
     "text": [
      "48it [00:50,  1.05s/it]\n"
     ]
    },
    {
     "name": "stdout",
     "output_type": "stream",
     "text": [
      "Finished epoch 12; Train loss : 4.350745677947998; Train perplexity : 78.51351165771484\n",
      "Validation loss : 4.658327579498291; Validation perplexity : 109.46517944335938\n"
     ]
    },
    {
     "name": "stderr",
     "output_type": "stream",
     "text": [
      "48it [00:49,  1.02s/it]\n"
     ]
    },
    {
     "name": "stdout",
     "output_type": "stream",
     "text": [
      "Finished epoch 13; Train loss : 4.263441562652588; Train perplexity : 72.23896026611328\n",
      "Validation loss : 4.538976192474365; Validation perplexity : 96.22555541992188\n"
     ]
    },
    {
     "name": "stderr",
     "output_type": "stream",
     "text": [
      "48it [00:49,  1.04s/it]\n"
     ]
    },
    {
     "name": "stdout",
     "output_type": "stream",
     "text": [
      "Finished epoch 14; Train loss : 4.167473316192627; Train perplexity : 65.46126556396484\n",
      "Validation loss : 4.478452682495117; Validation perplexity : 90.0842514038086\n"
     ]
    },
    {
     "name": "stderr",
     "output_type": "stream",
     "text": [
      "48it [00:50,  1.05s/it]\n"
     ]
    },
    {
     "name": "stdout",
     "output_type": "stream",
     "text": [
      "Finished epoch 15; Train loss : 4.086548805236816; Train perplexity : 60.47304153442383\n",
      "Validation loss : 4.411447048187256; Validation perplexity : 84.52164459228516\n"
     ]
    },
    {
     "name": "stderr",
     "output_type": "stream",
     "text": [
      "48it [00:52,  1.10s/it]\n"
     ]
    },
    {
     "name": "stdout",
     "output_type": "stream",
     "text": [
      "Finished epoch 16; Train loss : 4.020841121673584; Train perplexity : 56.51936340332031\n",
      "Validation loss : 4.609804630279541; Validation perplexity : 101.61648559570312\n"
     ]
    },
    {
     "name": "stderr",
     "output_type": "stream",
     "text": [
      "48it [00:56,  1.18s/it]\n"
     ]
    },
    {
     "name": "stdout",
     "output_type": "stream",
     "text": [
      "Finished epoch 17; Train loss : 3.96109938621521; Train perplexity : 53.29623031616211\n",
      "Validation loss : 4.3196330070495605; Validation perplexity : 77.08638763427734\n"
     ]
    },
    {
     "name": "stderr",
     "output_type": "stream",
     "text": [
      "48it [01:03,  1.32s/it]\n"
     ]
    },
    {
     "name": "stdout",
     "output_type": "stream",
     "text": [
      "Finished epoch 18; Train loss : 3.898318290710449; Train perplexity : 49.98745346069336\n",
      "Validation loss : 4.330982208251953; Validation perplexity : 79.02396392822266\n"
     ]
    },
    {
     "name": "stderr",
     "output_type": "stream",
     "text": [
      "48it [00:49,  1.02s/it]\n"
     ]
    },
    {
     "name": "stdout",
     "output_type": "stream",
     "text": [
      "Finished epoch 19; Train loss : 3.8571622371673584; Train perplexity : 48.02592468261719\n",
      "Validation loss : 4.253018856048584; Validation perplexity : 72.05107116699219\n"
     ]
    },
    {
     "name": "stderr",
     "output_type": "stream",
     "text": [
      "48it [00:49,  1.04s/it]\n"
     ]
    },
    {
     "name": "stdout",
     "output_type": "stream",
     "text": [
      "Finished epoch 20; Train loss : 3.79934024810791; Train perplexity : 45.40969467163086\n",
      "Validation loss : 4.209603786468506; Validation perplexity : 69.36430358886719\n"
     ]
    },
    {
     "name": "stderr",
     "output_type": "stream",
     "text": [
      "48it [00:48,  1.02s/it]\n"
     ]
    },
    {
     "name": "stdout",
     "output_type": "stream",
     "text": [
      "Finished epoch 21; Train loss : 3.771559476852417; Train perplexity : 44.2363395690918\n",
      "Validation loss : 4.193394184112549; Validation perplexity : 68.35504913330078\n"
     ]
    },
    {
     "name": "stderr",
     "output_type": "stream",
     "text": [
      "48it [00:49,  1.02s/it]\n"
     ]
    },
    {
     "name": "stdout",
     "output_type": "stream",
     "text": [
      "Finished epoch 22; Train loss : 3.720245599746704; Train perplexity : 41.77998733520508\n",
      "Validation loss : 4.164291858673096; Validation perplexity : 66.54451751708984\n"
     ]
    },
    {
     "name": "stderr",
     "output_type": "stream",
     "text": [
      "48it [00:48,  1.01s/it]\n"
     ]
    },
    {
     "name": "stdout",
     "output_type": "stream",
     "text": [
      "Finished epoch 23; Train loss : 3.6749942302703857; Train perplexity : 39.974449157714844\n",
      "Validation loss : 4.233492374420166; Validation perplexity : 70.2017593383789\n"
     ]
    },
    {
     "name": "stderr",
     "output_type": "stream",
     "text": [
      "48it [00:49,  1.03s/it]\n"
     ]
    },
    {
     "name": "stdout",
     "output_type": "stream",
     "text": [
      "Finished epoch 24; Train loss : 3.6444005966186523; Train perplexity : 38.750762939453125\n",
      "Validation loss : 4.157243728637695; Validation perplexity : 66.5087890625\n"
     ]
    },
    {
     "name": "stderr",
     "output_type": "stream",
     "text": [
      "48it [00:49,  1.02s/it]\n"
     ]
    },
    {
     "name": "stdout",
     "output_type": "stream",
     "text": [
      "Finished epoch 25; Train loss : 3.600078582763672; Train perplexity : 37.084598541259766\n",
      "Validation loss : 4.099969387054443; Validation perplexity : 62.27548599243164\n"
     ]
    },
    {
     "name": "stderr",
     "output_type": "stream",
     "text": [
      "48it [00:49,  1.04s/it]\n"
     ]
    },
    {
     "name": "stdout",
     "output_type": "stream",
     "text": [
      "Finished epoch 26; Train loss : 3.5745561122894287; Train perplexity : 36.10860061645508\n",
      "Validation loss : 4.085587978363037; Validation perplexity : 61.852054595947266\n"
     ]
    },
    {
     "name": "stderr",
     "output_type": "stream",
     "text": [
      "48it [00:49,  1.04s/it]\n"
     ]
    },
    {
     "name": "stdout",
     "output_type": "stream",
     "text": [
      "Finished epoch 27; Train loss : 3.53759503364563; Train perplexity : 34.811180114746094\n",
      "Validation loss : 4.044961452484131; Validation perplexity : 58.57761001586914\n"
     ]
    },
    {
     "name": "stderr",
     "output_type": "stream",
     "text": [
      "48it [00:50,  1.05s/it]\n"
     ]
    },
    {
     "name": "stdout",
     "output_type": "stream",
     "text": [
      "Finished epoch 28; Train loss : 3.507171392440796; Train perplexity : 33.77035903930664\n",
      "Validation loss : 4.048913478851318; Validation perplexity : 59.315155029296875\n"
     ]
    },
    {
     "name": "stderr",
     "output_type": "stream",
     "text": [
      "48it [00:49,  1.02s/it]\n"
     ]
    },
    {
     "name": "stdout",
     "output_type": "stream",
     "text": [
      "Finished epoch 29; Train loss : 3.4855706691741943; Train perplexity : 33.08759689331055\n",
      "Validation loss : 4.0069050788879395; Validation perplexity : 56.714202880859375\n"
     ]
    }
   ],
   "source": [
    "train_loss = []\n",
    "train_perplexity = []\n",
    "val_loss = []\n",
    "val_perplexity = []\n",
    "overfit_epochs = 0\n",
    "for epoch in range(epochs):\n",
    "    epoch_train_loss = 0\n",
    "    epoch_train_perplexity = 0\n",
    "    epoch_val_loss = 0\n",
    "    epoch_val_perplexity = 0\n",
    "    for batch_train_images, batch_train_sequences, batched_train_length in tqdm(zip(train_images,train_sequences,train_length)):\n",
    "        batched_train_loss, batched_train_perplexity = train_step(batch_train_images,batch_train_sequences,batched_train_length, optimizer)\n",
    "        epoch_train_loss+=batched_train_loss\n",
    "        epoch_train_perplexity+=batched_train_perplexity\n",
    "    epoch_train_loss = epoch_train_loss/train_images.shape[0]\n",
    "    epoch_train_perplexity = epoch_train_perplexity/train_images.shape[0]\n",
    "    train_loss.append(epoch_train_loss)\n",
    "    train_perplexity.append(epoch_train_perplexity)\n",
    "    print('Finished epoch {}; Train loss : {}; Train perplexity : {}'.format(epoch,epoch_train_loss,epoch_train_perplexity))\n",
    "    for batch_val_images, batch_val_sequences, batched_val_length in zip(val_images,val_sequences,val_length):\n",
    "        batched_val_loss, batched_val_perplexity = evaluate(batch_val_images, batch_val_sequences, batched_val_length, optimizer)\n",
    "        epoch_val_loss+=batched_val_loss\n",
    "        epoch_val_perplexity+=batched_val_perplexity\n",
    "    epoch_val_loss = epoch_val_loss/val_images.shape[0]\n",
    "    epoch_val_perplexity = epoch_val_perplexity/val_images.shape[0]\n",
    "    val_perplexity.append(epoch_val_perplexity)\n",
    "    val_loss.append(epoch_val_loss)\n",
    "    print('Validation loss : {}; Validation perplexity : {}'.format(epoch_val_loss,epoch_val_perplexity))\n",
    "    if len(val_loss)>=2 and val_loss[-2]<val_loss[-1]:\n",
    "        overfit_epochs+=1\n",
    "    else:\n",
    "        overfit_epochs=0\n",
    "    if overfit_epochs==patience_epochs:\n",
    "        lr_value/=reduction_power\n",
    "        optimizer.lr.assign(lr_value)\n",
    "        print('There was no improvement in validation loss for {} epochs, thus reducing learning rate'.format(patience_epochs))"
   ]
  },
  {
   "cell_type": "markdown",
   "id": "a686bf14",
   "metadata": {
    "id": "b20edf6a"
   },
   "source": [
    "# Viewing and saving results"
   ]
  },
  {
   "cell_type": "code",
   "execution_count": 57,
   "id": "7abe5186",
   "metadata": {
    "id": "b775f40b"
   },
   "outputs": [],
   "source": [
    "df = pd.DataFrame()\n",
    "model_name = 'conv_lstm_logits_transfer_learning_w2v_fixed_size_attention'\n",
    "df['train_perplexity'] = [i.numpy() for i in train_perplexity]\n",
    "df['val_perplexity'] = [i.numpy() for i in val_perplexity]\n",
    "df['train_loss'] = [i.numpy() for i in train_loss]\n",
    "df['val_loss'] = [i.numpy() for i in val_loss]\n"
   ]
  },
  {
   "cell_type": "code",
   "execution_count": 58,
   "id": "e775735b",
   "metadata": {
    "id": "4bf89741"
   },
   "outputs": [],
   "source": [
    "import matplotlib.pyplot as plt\n",
    "import seaborn as sns\n",
    "sns.set()"
   ]
  },
  {
   "cell_type": "code",
   "execution_count": 59,
   "id": "fd8517c7",
   "metadata": {
    "id": "e372ef85"
   },
   "outputs": [
    {
     "data": {
      "image/png": "[encoded data removed]",
      "text/plain": [
       "<Figure size 1080x864 with 1 Axes>"
      ]
     },
     "metadata": {},
     "output_type": "display_data"
    }
   ],
   "source": [
    "plt.figure(figsize=(15,12))\n",
    "plt.title('Perplexity results')\n",
    "plt.plot(df['train_perplexity'])\n",
    "plt.plot(df['val_perplexity'])\n",
    "plt.xlabel('Epochs')\n",
    "plt.ylabel('Perplexity')\n",
    "plt.yticks(np.arange(min(df['train_perplexity']), max(df['train_perplexity'])+100,100))\n",
    "plt.legend(['Train', 'Validation']);"
   ]
  },
  {
   "cell_type": "code",
   "execution_count": 60,
   "id": "f5f18038",
   "metadata": {
    "id": "1f615389",
    "outputId": "a9f1734b-8d3e-4c31-a17b-8ff7c257277e"
   },
   "outputs": [
    {
     "data": {
      "image/png": "[encoded data removed]",
      "text/plain": [
       "<Figure size 1080x864 with 1 Axes>"
      ]
     },
     "metadata": {},
     "output_type": "display_data"
    }
   ],
   "source": [
    "plt.figure(figsize=(15,12))\n",
    "plt.title('Loss results')\n",
    "plt.plot(df['train_loss'])\n",
    "plt.plot(df['val_loss'])\n",
    "plt.xlabel('Epochs')\n",
    "plt.ylabel('Loss')\n",
    "plt.yticks(np.arange(min(df['train_loss']),max(df['train_loss']),0.2))\n",
    "plt.legend(['Train', 'Validation']);"
   ]
  },
  {
   "cell_type": "markdown",
   "id": "aa8f9f03",
   "metadata": {
    "id": "ad1ee3d5"
   },
   "source": [
    "# Testing model"
   ]
  },
  {
   "cell_type": "code",
   "execution_count": 61,
   "id": "c4ff7529",
   "metadata": {
    "id": "444505ed"
   },
   "outputs": [],
   "source": [
    "import matplotlib.pyplot as plt\n",
    "import seaborn as sns"
   ]
  },
  {
   "cell_type": "code",
   "execution_count": 62,
   "id": "47626afb",
   "metadata": {
    "id": "aa2085b8"
   },
   "outputs": [],
   "source": [
    "class Decoder:\n",
    "    def __init__(self, encoder: tf.keras.Model,\n",
    "                 decoder: tf.keras.Model,\n",
    "                 start_token: int,\n",
    "                 end_token: int,\n",
    "                 max_len: int = None,\n",
    "                 units:int = 256):\n",
    "        self.encoder = encoder\n",
    "        self.decoder = decoder\n",
    "        self.max_len = max_len if max_len else 100\n",
    "        self.start_token = start_token\n",
    "        self.end_token = end_token\n",
    "        self.units = units\n",
    "\n",
    "    def decode(self, input):\n",
    "        pass\n",
    "\n",
    "\n",
    "class GreedyDecoder(Decoder):\n",
    "    def __init__(self, encoder: tf.keras.Model,\n",
    "                 decoder: tf.keras.Model,\n",
    "                 start_token: int,\n",
    "                 end_token: int,\n",
    "                 max_len: int = 10,\n",
    "                 units:int = 256\n",
    "                 ):\n",
    "        super().__init__(encoder,\n",
    "                         decoder,\n",
    "                         start_token,\n",
    "                         end_token,\n",
    "                         max_len,\n",
    "                         units\n",
    "                         )\n",
    "\n",
    "    def decode(self, input):\n",
    "        features = self.encoder(np.expand_dims(input, axis=0))\n",
    "        hidden = np.zeros((1,self.units))\n",
    "        target_seq = np.zeros((1, 1))\n",
    "        target_seq[0, 0] = self.start_token\n",
    "        res = []\n",
    "        while True:\n",
    "            # Sample a token\n",
    "            output, hidden, _ = self.decoder(target_seq,features,hidden)\n",
    "            sampled_token_index = np.argmax(tf.nn.softmax(output.numpy()))\n",
    "            if len(res) > self.max_len or sampled_token_index == self.end_token:\n",
    "                break\n",
    "\n",
    "            res.append(sampled_token_index)\n",
    "\n",
    "            target_seq = np.zeros((1, 1))\n",
    "            target_seq[0, 0] = sampled_token_index\n",
    "\n",
    "       \n",
    "        return res\n"
   ]
  },
  {
   "cell_type": "code",
   "execution_count": 63,
   "id": "fe95fb4d",
   "metadata": {
    "id": "27c864a3"
   },
   "outputs": [],
   "source": [
    "class BeamSearchDecoder(Decoder):\n",
    "    def __init__(self, encoder: tf.keras.Model,\n",
    "                 decoder: tf.keras.Model,\n",
    "                 start_token: int,\n",
    "                 end_token: int,\n",
    "                 max_len: int = 10,\n",
    "                 units:int = 256\n",
    "                 ):\n",
    "        super().__init__(encoder,\n",
    "                         decoder,\n",
    "                         start_token,\n",
    "                         end_token,\n",
    "                         max_len,\n",
    "                         units\n",
    "                         )\n",
    "\n",
    "    def decode(self, input, beam_size=3):\n",
    "        start = [self.start_token]\n",
    "        features = self.encoder(np.expand_dims(input,axis=0))\n",
    "\n",
    "        hidden = np.zeros((1,self.units))\n",
    "        start_word = [[start, 0.0, hidden]]\n",
    "\n",
    "        while len(start_word[0][0]) < self.max_len:\n",
    "            temp = []\n",
    "            for s in start_word:\n",
    "                target_seq = np.array([[s[0][-1]]])\n",
    "                hidden = s[-1]\n",
    "                output, hidden, _ = self.decoder(target_seq, features, hidden)\n",
    "                output = np.hstack(output)\n",
    "                output = tf.nn.softmax(output).numpy()\n",
    "                word_preds = np.argsort(output)[-beam_size:]\n",
    "\n",
    "                for w in word_preds:\n",
    "                    next_cap, prob = s[0][:], s[1]\n",
    "                    next_cap.append(w)\n",
    "                    prob += output[w]\n",
    "                    temp.append([next_cap, prob, hidden])\n",
    "\n",
    "            start_word = temp\n",
    "            # Sorting according to the probabilities\n",
    "            start_word = sorted(start_word, reverse=False, key=lambda l: l[1])\n",
    "            # Getting the top words\n",
    "            start_word = start_word[-beam_size:]\n",
    "\n",
    "        start_word = start_word[-1][0]\n",
    "\n",
    "        final_caption = []\n",
    "\n",
    "        for i in start_word:\n",
    "            if i != self.end_token:\n",
    "                final_caption.append(i)\n",
    "            else:\n",
    "                break\n",
    "        return final_caption[1:]"
   ]
  },
  {
   "cell_type": "code",
   "execution_count": 64,
   "id": "185806fc",
   "metadata": {
    "id": "a1adf0a9"
   },
   "outputs": [],
   "source": [
    "def predict(data, decoder, inverse_vocab,\n",
    "           beam_size=None):\n",
    "    if beam_size:\n",
    "        result = decoder.decode(data, beam_size=beam_size)\n",
    "    else:\n",
    "        result = decoder.decode(data)\n",
    "    return ' '.join([inverse_vocab[i] for i in result])"
   ]
  },
  {
   "cell_type": "code",
   "execution_count": 65,
   "id": "46cb0d7e",
   "metadata": {
    "id": "73319486"
   },
   "outputs": [],
   "source": [
    "greedy_decoder = GreedyDecoder(conv_encoder, lstm_decoder, vocab[start_token], vocab[end_token],\n",
    "             max_len=10, units=256)"
   ]
  },
  {
   "cell_type": "code",
   "execution_count": 66,
   "id": "062d0fcd",
   "metadata": {
    "id": "8532e4bd"
   },
   "outputs": [],
   "source": [
    "beam_decoder = BeamSearchDecoder(conv_encoder, lstm_decoder, vocab[start_token], vocab[end_token],\n",
    "             max_len=10, units=256)"
   ]
  },
  {
   "cell_type": "code",
   "execution_count": 67,
   "id": "fd19a9e0",
   "metadata": {
    "id": "6f1270b6",
    "outputId": "b539b8ba-9ec6-41e6-a010-d6a51aac7daa"
   },
   "outputs": [
    {
     "data": {
      "text/plain": [
       "(3840, 224, 224, 3)"
      ]
     },
     "execution_count": 67,
     "metadata": {},
     "output_type": "execute_result"
    }
   ],
   "source": [
    "images.shape"
   ]
  },
  {
   "cell_type": "code",
   "execution_count": 68,
   "id": "89b1a3f8",
   "metadata": {
    "id": "5aef8f6f"
   },
   "outputs": [],
   "source": [
    "idx = np.random.choice(range(len(images)))\n",
    "sample = images[idx]"
   ]
  },
  {
   "cell_type": "code",
   "execution_count": 69,
   "id": "e5545fc2",
   "metadata": {
    "id": "eab38846",
    "outputId": "cff5d836-1670-437b-fa05-37b4d1323c46"
   },
   "outputs": [
    {
     "name": "stdout",
     "output_type": "stream",
     "text": [
      "the man is enjoying the time with pigs\n"
     ]
    },
    {
     "data": {
      "image/png": "[encoded data removed]",
      "text/plain": [
       "<Figure size 576x576 with 1 Axes>"
      ]
     },
     "metadata": {},
     "output_type": "display_data"
    }
   ],
   "source": [
    "plt.figure(figsize=(8,8))\n",
    "plt.imshow(sample)\n",
    "plt.grid([])\n",
    "plt.axis('off');\n",
    "print(annotations[idx])"
   ]
  },
  {
   "cell_type": "code",
   "execution_count": 70,
   "id": "8dbb3e1f",
   "metadata": {
    "id": "73100527",
    "outputId": "9ea366c9-f621-4cee-e012-ec5dc2beaebd"
   },
   "outputs": [
    {
     "name": "stdout",
     "output_type": "stream",
     "text": [
      "WARNING:tensorflow:Layer lstm_decoder is casting an input tensor from dtype float64 to the layer's dtype of float32, which is new behavior in TensorFlow 2.  The layer has dtype float32 because its dtype defaults to floatx.\n",
      "\n",
      "If you intended to run this layer in float32, you can safely ignore this warning. If in doubt, this warning is likely only an issue if you are porting a TensorFlow 1.X model to TensorFlow 2.\n",
      "\n",
      "To change all layers to have dtype float64 by default, call `tf.keras.backend.set_floatx('float64')`. To change just this layer, pass dtype='float64' to the layer constructor. If you are the author of this layer, you can disable autocasting by passing autocast=False to the base Layer constructor.\n",
      "\n",
      "WARNING:tensorflow:Layer dense_4 is casting an input tensor from dtype float64 to the layer's dtype of float32, which is new behavior in TensorFlow 2.  The layer has dtype float32 because its dtype defaults to floatx.\n",
      "\n",
      "If you intended to run this layer in float32, you can safely ignore this warning. If in doubt, this warning is likely only an issue if you are porting a TensorFlow 1.X model to TensorFlow 2.\n",
      "\n",
      "To change all layers to have dtype float64 by default, call `tf.keras.backend.set_floatx('float64')`. To change just this layer, pass dtype='float64' to the layer constructor. If you are the author of this layer, you can disable autocasting by passing autocast=False to the base Layer constructor.\n",
      "\n"
     ]
    },
    {
     "data": {
      "text/plain": [
       "'the man looks couple looks couple looks couple looks couple looks'"
      ]
     },
     "execution_count": 70,
     "metadata": {},
     "output_type": "execute_result"
    }
   ],
   "source": [
    "predict(sample, greedy_decoder, inverse_vocab)"
   ]
  },
  {
   "cell_type": "code",
   "execution_count": 71,
   "id": "f85a43c5",
   "metadata": {},
   "outputs": [
    {
     "data": {
      "text/plain": [
       "'the man looks happy man looks happy man looks'"
      ]
     },
     "execution_count": 71,
     "metadata": {},
     "output_type": "execute_result"
    }
   ],
   "source": [
    "predict(sample, beam_decoder, inverse_vocab, beam_size=3)"
   ]
  },
  {
   "cell_type": "code",
   "execution_count": 72,
   "id": "1ee92f2c",
   "metadata": {},
   "outputs": [
    {
     "data": {
      "text/plain": [
       "'the man looks happy man looks happy man looks'"
      ]
     },
     "execution_count": 72,
     "metadata": {},
     "output_type": "execute_result"
    }
   ],
   "source": [
    "predict(sample, beam_decoder, inverse_vocab, beam_size=5)"
   ]
  },
  {
   "cell_type": "code",
   "execution_count": 73,
   "id": "fc5620a0",
   "metadata": {},
   "outputs": [
    {
     "data": {
      "text/plain": [
       "'the man looks serious man looks happy man looks'"
      ]
     },
     "execution_count": 73,
     "metadata": {},
     "output_type": "execute_result"
    }
   ],
   "source": [
    "predict(sample, beam_decoder, inverse_vocab, beam_size=7)"
   ]
  },
  {
   "cell_type": "code",
   "execution_count": 74,
   "id": "522b2a01",
   "metadata": {
    "id": "687f2739",
    "outputId": "deb0509a-c3f9-4ba6-95a7-e3fd80bdef93"
   },
   "outputs": [
    {
     "data": {
      "text/plain": [
       "'the man looks serious man looks happy man looks'"
      ]
     },
     "execution_count": 74,
     "metadata": {},
     "output_type": "execute_result"
    }
   ],
   "source": [
    "predict(sample, beam_decoder, inverse_vocab, beam_size=10)"
   ]
  },
  {
   "cell_type": "markdown",
   "id": "a17598c3",
   "metadata": {
    "id": "df35cb03"
   },
   "source": [
    "# Blue score calculation"
   ]
  },
  {
   "cell_type": "code",
   "execution_count": 75,
   "id": "93d8f3c8",
   "metadata": {
    "id": "32df0196"
   },
   "outputs": [],
   "source": [
    "from nltk.translate.bleu_score import sentence_bleu\n"
   ]
  },
  {
   "cell_type": "markdown",
   "id": "ffc0d1dd",
   "metadata": {
    "id": "0ab649e9"
   },
   "source": [
    "### making predictions on test dataset with beam_size of 5"
   ]
  },
  {
   "cell_type": "code",
   "execution_count": 76,
   "id": "88546b09",
   "metadata": {
    "id": "c58e0513",
    "outputId": "cd586145-cdf4-4c04-8724-fa154eb17c70"
   },
   "outputs": [
    {
     "name": "stderr",
     "output_type": "stream",
     "text": [
      "100%|██████████| 6/6 [04:57<00:00, 49.51s/it]\n"
     ]
    }
   ],
   "source": [
    "test_predictions = []\n",
    "for batch in tqdm(test_images):\n",
    "    for image in batch:\n",
    "        result = predict(image, beam_decoder, inverse_vocab, beam_size=5)\n",
    "        test_predictions.append(result)"
   ]
  },
  {
   "cell_type": "code",
   "execution_count": 77,
   "id": "3594de63",
   "metadata": {
    "id": "d5b3a561"
   },
   "outputs": [],
   "source": [
    "test_predictions = [i.split(' ') for i in test_predictions]"
   ]
  },
  {
   "cell_type": "code",
   "execution_count": 78,
   "id": "ecab1a9c",
   "metadata": {
    "id": "321a7d79"
   },
   "outputs": [],
   "source": [
    "reshaped_sequences = test_sequences.reshape(test_sequences.shape[0]*test_sequences.shape[1],-1)"
   ]
  },
  {
   "cell_type": "code",
   "execution_count": 79,
   "id": "b0e819b0",
   "metadata": {
    "id": "f08b271c"
   },
   "outputs": [],
   "source": [
    "test_sentences = []\n",
    "for i in reshaped_sequences:\n",
    "    tmp = []\n",
    "    for word in i:\n",
    "        if word!=0 and word!=1 and word!=2:\n",
    "            tmp.append(inverse_vocab[word])\n",
    "    test_sentences.append(tmp)"
   ]
  },
  {
   "cell_type": "code",
   "execution_count": 80,
   "id": "71dd6388",
   "metadata": {
    "id": "d59c5885",
    "outputId": "ef47af55-ff52-46c5-eca2-b29eb57e0773"
   },
   "outputs": [
    {
     "name": "stdout",
     "output_type": "stream",
     "text": [
      "Overall bleu score on test data : 0.0035680503674724376\n"
     ]
    },
    {
     "name": "stderr",
     "output_type": "stream",
     "text": [
      "/home/ec2-user/anaconda3/envs/amazonei_tensorflow2_p36/lib/python3.6/site-packages/nltk/translate/bleu_score.py:523: UserWarning: \n",
      "The hypothesis contains 0 counts of 2-gram overlaps.\n",
      "Therefore the BLEU score evaluates to 0, independently of\n",
      "how many N-gram overlaps of lower order it contains.\n",
      "Consider using lower n-gram order or use SmoothingFunction()\n",
      "  warnings.warn(_msg)\n",
      "/home/ec2-user/anaconda3/envs/amazonei_tensorflow2_p36/lib/python3.6/site-packages/nltk/translate/bleu_score.py:523: UserWarning: \n",
      "The hypothesis contains 0 counts of 3-gram overlaps.\n",
      "Therefore the BLEU score evaluates to 0, independently of\n",
      "how many N-gram overlaps of lower order it contains.\n",
      "Consider using lower n-gram order or use SmoothingFunction()\n",
      "  warnings.warn(_msg)\n",
      "/home/ec2-user/anaconda3/envs/amazonei_tensorflow2_p36/lib/python3.6/site-packages/nltk/translate/bleu_score.py:523: UserWarning: \n",
      "The hypothesis contains 0 counts of 4-gram overlaps.\n",
      "Therefore the BLEU score evaluates to 0, independently of\n",
      "how many N-gram overlaps of lower order it contains.\n",
      "Consider using lower n-gram order or use SmoothingFunction()\n",
      "  warnings.warn(_msg)\n"
     ]
    }
   ],
   "source": [
    "bleu_score = []\n",
    "for reference, prediction in zip(test_sentences, test_predictions):\n",
    "    bleu_score.append(sentence_bleu([reference], prediction))\n",
    "print('Overall bleu score on test data : {}'.format(np.mean(bleu_score)))\n",
    "df['overall_bleu'] = np.mean(bleu_score)*100"
   ]
  },
  {
   "cell_type": "code",
   "execution_count": 81,
   "id": "e89ef32a",
   "metadata": {},
   "outputs": [
    {
     "name": "stdout",
     "output_type": "stream",
     "text": [
      "Bleu score on test data for n-gram = 1 : 0.16853465946086357\n"
     ]
    }
   ],
   "source": [
    "bleu_score = []\n",
    "for reference, prediction in zip(test_sentences, test_predictions):\n",
    "    bleu_score.append(sentence_bleu([reference], prediction, weights=(1,)))\n",
    "print('Bleu score on test data for n-gram = 1 : {}'.format(np.mean(bleu_score)))\n",
    "df['n1_bleu'] = np.mean(bleu_score)*100"
   ]
  },
  {
   "cell_type": "code",
   "execution_count": 82,
   "id": "61ce06f9",
   "metadata": {},
   "outputs": [
    {
     "name": "stdout",
     "output_type": "stream",
     "text": [
      "Bleu score on test data for n-gram = 2 : 0.053516911928791044\n"
     ]
    }
   ],
   "source": [
    "bleu_score = []\n",
    "for reference, prediction in zip(test_sentences, test_predictions):\n",
    "    bleu_score.append(sentence_bleu([reference], prediction, weights=(0,1)))\n",
    "print('Bleu score on test data for n-gram = 2 : {}'.format(np.mean(bleu_score)))\n",
    "df['n2_bleu'] = np.mean(bleu_score)*100"
   ]
  },
  {
   "cell_type": "code",
   "execution_count": 83,
   "id": "e269c844",
   "metadata": {},
   "outputs": [
    {
     "name": "stdout",
     "output_type": "stream",
     "text": [
      "Bleu score on test data for n-gram = 3 : 0.013967540317059088\n"
     ]
    }
   ],
   "source": [
    "bleu_score = []\n",
    "for reference, prediction in zip(test_sentences, test_predictions):\n",
    "    bleu_score.append(sentence_bleu([reference], prediction, weights=(0,0,1)))\n",
    "print('Bleu score on test data for n-gram = 3 : {}'.format(np.mean(bleu_score)))\n",
    "df['n3_bleu'] = np.mean(bleu_score)*100"
   ]
  },
  {
   "cell_type": "code",
   "execution_count": 84,
   "id": "850086ed",
   "metadata": {},
   "outputs": [
    {
     "name": "stdout",
     "output_type": "stream",
     "text": [
      "Bleu score on test data for n-gram = 4 : 0.0026041666666666665\n"
     ]
    }
   ],
   "source": [
    "bleu_score = []\n",
    "for reference, prediction in zip(test_sentences, test_predictions):\n",
    "    bleu_score.append(sentence_bleu([reference], prediction, weights=(0,0,0,1)))\n",
    "print('Bleu score on test data for n-gram = 4 : {}'.format(np.mean(bleu_score)))\n",
    "df['n4_bleu'] = np.mean(bleu_score)*100"
   ]
  },
  {
   "cell_type": "code",
   "execution_count": 85,
   "id": "967f4699",
   "metadata": {},
   "outputs": [
    {
     "name": "stdout",
     "output_type": "stream",
     "text": [
      "Acuumulated bleu score on test data for n-gram = 4 : 0.0035680503674724376\n"
     ]
    }
   ],
   "source": [
    "bleu_score = []\n",
    "for reference, prediction in zip(test_sentences, test_predictions):\n",
    "    bleu_score.append(sentence_bleu([reference], prediction, weights=(0.25,0.25,0.25,0.25)))\n",
    "print('Acuumulated bleu score on test data for n-gram = 4 : {}'.format(np.mean(bleu_score)))\n",
    "df['acc_bleu'] = np.mean(bleu_score)*100"
   ]
  },
  {
   "cell_type": "code",
   "execution_count": 86,
   "id": "82a605d2",
   "metadata": {},
   "outputs": [
    {
     "data": {
      "text/html": [
       "<div>\n",
       "<style scoped>\n",
       "    .dataframe tbody tr th:only-of-type {\n",
       "        vertical-align: middle;\n",
       "    }\n",
       "\n",
       "    .dataframe tbody tr th {\n",
       "        vertical-align: top;\n",
       "    }\n",
       "\n",
       "    .dataframe thead th {\n",
       "        text-align: right;\n",
       "    }\n",
       "</style>\n",
       "<table border=\"1\" class=\"dataframe\">\n",
       "  <thead>\n",
       "    <tr style=\"text-align: right;\">\n",
       "      <th></th>\n",
       "      <th>train_perplexity</th>\n",
       "      <th>val_perplexity</th>\n",
       "      <th>train_loss</th>\n",
       "      <th>val_loss</th>\n",
       "      <th>overall_bleu</th>\n",
       "      <th>n1_bleu</th>\n",
       "      <th>n2_bleu</th>\n",
       "      <th>n3_bleu</th>\n",
       "      <th>n4_bleu</th>\n",
       "      <th>acc_bleu</th>\n",
       "    </tr>\n",
       "  </thead>\n",
       "  <tbody>\n",
       "    <tr>\n",
       "      <th>0</th>\n",
       "      <td>3322.468750</td>\n",
       "      <td>504.005859</td>\n",
       "      <td>7.713783</td>\n",
       "      <td>6.209583</td>\n",
       "      <td>0.356805</td>\n",
       "      <td>16.853466</td>\n",
       "      <td>5.351691</td>\n",
       "      <td>1.396754</td>\n",
       "      <td>0.260417</td>\n",
       "      <td>0.356805</td>\n",
       "    </tr>\n",
       "    <tr>\n",
       "      <th>1</th>\n",
       "      <td>345.038483</td>\n",
       "      <td>313.383514</td>\n",
       "      <td>5.830975</td>\n",
       "      <td>5.736628</td>\n",
       "      <td>0.356805</td>\n",
       "      <td>16.853466</td>\n",
       "      <td>5.351691</td>\n",
       "      <td>1.396754</td>\n",
       "      <td>0.260417</td>\n",
       "      <td>0.356805</td>\n",
       "    </tr>\n",
       "    <tr>\n",
       "      <th>2</th>\n",
       "      <td>292.636139</td>\n",
       "      <td>304.535187</td>\n",
       "      <td>5.669844</td>\n",
       "      <td>5.707201</td>\n",
       "      <td>0.356805</td>\n",
       "      <td>16.853466</td>\n",
       "      <td>5.351691</td>\n",
       "      <td>1.396754</td>\n",
       "      <td>0.260417</td>\n",
       "      <td>0.356805</td>\n",
       "    </tr>\n",
       "    <tr>\n",
       "      <th>3</th>\n",
       "      <td>267.734589</td>\n",
       "      <td>277.494446</td>\n",
       "      <td>5.580690</td>\n",
       "      <td>5.612169</td>\n",
       "      <td>0.356805</td>\n",
       "      <td>16.853466</td>\n",
       "      <td>5.351691</td>\n",
       "      <td>1.396754</td>\n",
       "      <td>0.260417</td>\n",
       "      <td>0.356805</td>\n",
       "    </tr>\n",
       "    <tr>\n",
       "      <th>4</th>\n",
       "      <td>228.991028</td>\n",
       "      <td>247.610153</td>\n",
       "      <td>5.423478</td>\n",
       "      <td>5.496045</td>\n",
       "      <td>0.356805</td>\n",
       "      <td>16.853466</td>\n",
       "      <td>5.351691</td>\n",
       "      <td>1.396754</td>\n",
       "      <td>0.260417</td>\n",
       "      <td>0.356805</td>\n",
       "    </tr>\n",
       "  </tbody>\n",
       "</table>\n",
       "</div>"
      ],
      "text/plain": [
       "   train_perplexity  val_perplexity  train_loss  val_loss  overall_bleu  \\\n",
       "0       3322.468750      504.005859    7.713783  6.209583      0.356805   \n",
       "1        345.038483      313.383514    5.830975  5.736628      0.356805   \n",
       "2        292.636139      304.535187    5.669844  5.707201      0.356805   \n",
       "3        267.734589      277.494446    5.580690  5.612169      0.356805   \n",
       "4        228.991028      247.610153    5.423478  5.496045      0.356805   \n",
       "\n",
       "     n1_bleu   n2_bleu   n3_bleu   n4_bleu  acc_bleu  \n",
       "0  16.853466  5.351691  1.396754  0.260417  0.356805  \n",
       "1  16.853466  5.351691  1.396754  0.260417  0.356805  \n",
       "2  16.853466  5.351691  1.396754  0.260417  0.356805  \n",
       "3  16.853466  5.351691  1.396754  0.260417  0.356805  \n",
       "4  16.853466  5.351691  1.396754  0.260417  0.356805  "
      ]
     },
     "execution_count": 86,
     "metadata": {},
     "output_type": "execute_result"
    }
   ],
   "source": [
    "df.head()"
   ]
  },
  {
   "cell_type": "code",
   "execution_count": 87,
   "id": "bb5290ae",
   "metadata": {},
   "outputs": [],
   "source": [
    "df.to_csv('{}_logs.csv'.format(model_name),index=False)"
   ]
  },
  {
   "cell_type": "code",
   "execution_count": 88,
   "id": "895b5d07",
   "metadata": {},
   "outputs": [],
   "source": [
    "conv_encoder.save_weights('{}_encoder.h5'.format(model_name))"
   ]
  },
  {
   "cell_type": "code",
   "execution_count": 89,
   "id": "1ece209a",
   "metadata": {},
   "outputs": [],
   "source": [
    "lstm_decoder.save_weights('{}_decoder.h5'.format(model_name))"
   ]
  },
  {
   "cell_type": "markdown",
   "id": "9f220b68",
   "metadata": {
    "id": "7d830761"
   },
   "source": [
    "# Predictions on own data"
   ]
  },
  {
   "cell_type": "code",
   "execution_count": 90,
   "id": "931f57f7",
   "metadata": {
    "id": "392f9a4a"
   },
   "outputs": [],
   "source": [
    "img = np.array(im.load_img('hospital-birth.jpg', target_size=(224,224)))/255"
   ]
  },
  {
   "cell_type": "code",
   "execution_count": 91,
   "id": "211a387f",
   "metadata": {
    "id": "0a3dd795",
    "outputId": "65bd83b8-c5c3-4d57-bb54-643fb393d8a6"
   },
   "outputs": [
    {
     "data": {
      "text/plain": [
       "<matplotlib.image.AxesImage at 0x7f63024ee8d0>"
      ]
     },
     "execution_count": 91,
     "metadata": {},
     "output_type": "execute_result"
    },
    {
     "data": {
      "image/png": "[encoded data removed]",
      "text/plain": [
       "<Figure size 432x288 with 1 Axes>"
      ]
     },
     "metadata": {},
     "output_type": "display_data"
    }
   ],
   "source": [
    "plt.imshow(img)"
   ]
  },
  {
   "cell_type": "code",
   "execution_count": 92,
   "id": "813f41f2",
   "metadata": {
    "id": "ab8385d3",
    "outputId": "667123cf-11a5-44e8-fd87-f879c9e7eacd"
   },
   "outputs": [
    {
     "data": {
      "text/plain": [
       "'the man is happy man is happy man is happy man'"
      ]
     },
     "execution_count": 92,
     "metadata": {},
     "output_type": "execute_result"
    }
   ],
   "source": [
    "predict(img, greedy_decoder, inverse_vocab)"
   ]
  },
  {
   "cell_type": "code",
   "execution_count": 93,
   "id": "65cde150",
   "metadata": {
    "id": "4376b243",
    "outputId": "021cb252-837e-4c8e-b5bb-d651f5f97827"
   },
   "outputs": [
    {
     "data": {
      "text/plain": [
       "'the man is happy man is happy man is'"
      ]
     },
     "execution_count": 93,
     "metadata": {},
     "output_type": "execute_result"
    }
   ],
   "source": [
    "predict(img, beam_decoder, inverse_vocab, beam_size=3)"
   ]
  },
  {
   "cell_type": "code",
   "execution_count": 94,
   "id": "edc5a4f5",
   "metadata": {
    "id": "f9dcea20"
   },
   "outputs": [
    {
     "data": {
      "text/plain": [
       "'the man is happy man is happy man is'"
      ]
     },
     "execution_count": 94,
     "metadata": {},
     "output_type": "execute_result"
    }
   ],
   "source": [
    "predict(img, beam_decoder, inverse_vocab, beam_size=5)"
   ]
  },
  {
   "cell_type": "code",
   "execution_count": 95,
   "id": "d703b78a",
   "metadata": {},
   "outputs": [
    {
     "data": {
      "text/plain": [
       "'the man is happy man is happy man is'"
      ]
     },
     "execution_count": 95,
     "metadata": {},
     "output_type": "execute_result"
    }
   ],
   "source": [
    "predict(img, beam_decoder, inverse_vocab, beam_size=7)"
   ]
  },
  {
   "cell_type": "code",
   "execution_count": 96,
   "id": "72b64335",
   "metadata": {},
   "outputs": [
    {
     "data": {
      "text/plain": [
       "'the man is happy man is happy man is'"
      ]
     },
     "execution_count": 96,
     "metadata": {},
     "output_type": "execute_result"
    }
   ],
   "source": [
    "predict(img, beam_decoder, inverse_vocab, beam_size=10)"
   ]
  },
  {
   "cell_type": "code",
   "execution_count": null,
   "id": "6766e2f7",
   "metadata": {},
   "outputs": [],
   "source": []
  },
  {
   "cell_type": "code",
   "execution_count": null,
   "id": "578deaf1",
   "metadata": {},
   "outputs": [],
   "source": []
  }
 ],
 "metadata": {
  "colab": {
   "name": "conv_lstm_caption_full_transfer_learning_enc_dec.ipynb",
   "provenance": []
  },
  "kernelspec": {
   "display_name": "conda_amazonei_tensorflow2_p36",
   "language": "python",
   "name": "conda_amazonei_tensorflow2_p36"
  },
  "language_info": {
   "codemirror_mode": {
    "name": "ipython",
    "version": 3
   },
   "file_extension": ".py",
   "mimetype": "text/x-python",
   "name": "python",
   "nbconvert_exporter": "python",
   "pygments_lexer": "ipython3",
   "version": "3.6.13"
  }
 },
 "nbformat": 4,
 "nbformat_minor": 5
}
