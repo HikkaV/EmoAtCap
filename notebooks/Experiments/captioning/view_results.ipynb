{
 "cells": [
  {
   "cell_type": "code",
   "execution_count": 1,
   "id": "3ed93bed",
   "metadata": {},
   "outputs": [],
   "source": [
    "import pandas as pd\n",
    "import seaborn as sns\n",
    "import matplotlib.pyplot as plt\n",
    "sns.set()"
   ]
  },
  {
   "cell_type": "code",
   "execution_count": 2,
   "id": "2917982e",
   "metadata": {},
   "outputs": [],
   "source": [
    "import os"
   ]
  },
  {
   "cell_type": "code",
   "execution_count": 5,
   "id": "9146e56e",
   "metadata": {},
   "outputs": [],
   "source": [
    "files = os.listdir()\n",
    "files = [i for i in files if i.endswith('csv')]"
   ]
  },
  {
   "cell_type": "code",
   "execution_count": 6,
   "id": "ca6d978d",
   "metadata": {},
   "outputs": [
    {
     "data": {
      "text/plain": [
       "['conv_lstm_enc_dec_logits_transfer_w2v_resnet_learning_dynamic_length_logs.csv',\n",
       " 'conv_lstm_transfer_learning_w2v_autoenc_fixed_size_logs.csv',\n",
       " 'conv_lstm_enc_dec_logits_transfer_w2v_resnet_learning_dynamic_length_weights_logs.csv',\n",
       " 'conv_lstm_enc_dec_logs.csv',\n",
       " 'conv_lstm_logits_transfer_learning_w2v_resnet_fixed_size_logs.csv',\n",
       " 'conv_lstm_transfer_learning_w2v_resnet_fixed_size_logs.csv']"
      ]
     },
     "execution_count": 6,
     "metadata": {},
     "output_type": "execute_result"
    }
   ],
   "source": [
    "files"
   ]
  },
  {
   "cell_type": "code",
   "execution_count": 8,
   "id": "8f5d9686",
   "metadata": {},
   "outputs": [
    {
     "data": {
      "text/plain": [
       "array([1.00055158e+000, 1.79158264e+002, 5.51475270e-004, 5.18827009e+000,\n",
       "       3.45057002e-078, 1.21369250e+001, 3.00670459e+000, 1.73501317e-001,\n",
       "       8.22233023e-307, 3.45057002e-078])"
      ]
     },
     "execution_count": 8,
     "metadata": {},
     "output_type": "execute_result"
    }
   ],
   "source": [
    "tmp_df = pd.read_csv(files[0])\n",
    "tmp_df.values[-1]"
   ]
  },
  {
   "cell_type": "code",
   "execution_count": 12,
   "id": "236a3768",
   "metadata": {},
   "outputs": [],
   "source": [
    "values = []\n",
    "for i in files:\n",
    "    tmp_df = pd.read_csv(i)\n",
    "    values.append([i,*list(tmp_df.values[-1])])\n",
    "df = pd.DataFrame(data=values, columns=['solution_name']+tmp_df.columns.tolist())"
   ]
  },
  {
   "cell_type": "code",
   "execution_count": 13,
   "id": "1ac30af2",
   "metadata": {},
   "outputs": [
    {
     "data": {
      "text/html": [
       "<div>\n",
       "<style scoped>\n",
       "    .dataframe tbody tr th:only-of-type {\n",
       "        vertical-align: middle;\n",
       "    }\n",
       "\n",
       "    .dataframe tbody tr th {\n",
       "        vertical-align: top;\n",
       "    }\n",
       "\n",
       "    .dataframe thead th {\n",
       "        text-align: right;\n",
       "    }\n",
       "</style>\n",
       "<table border=\"1\" class=\"dataframe\">\n",
       "  <thead>\n",
       "    <tr style=\"text-align: right;\">\n",
       "      <th></th>\n",
       "      <th>solution_name</th>\n",
       "      <th>train_perplexity</th>\n",
       "      <th>val_perplexity</th>\n",
       "      <th>train_loss</th>\n",
       "      <th>val_loss</th>\n",
       "      <th>overall_bleu</th>\n",
       "      <th>n1_bleu</th>\n",
       "      <th>n2_bleu</th>\n",
       "      <th>n3_bleu</th>\n",
       "      <th>n4_bleu</th>\n",
       "      <th>acc_bleu</th>\n",
       "    </tr>\n",
       "  </thead>\n",
       "  <tbody>\n",
       "    <tr>\n",
       "      <th>0</th>\n",
       "      <td>conv_lstm_enc_dec_logits_transfer_w2v_resnet_l...</td>\n",
       "      <td>1.000552</td>\n",
       "      <td>179.158264</td>\n",
       "      <td>0.000551</td>\n",
       "      <td>5.188270</td>\n",
       "      <td>3.450570e-78</td>\n",
       "      <td>12.136925</td>\n",
       "      <td>3.006705</td>\n",
       "      <td>0.173501</td>\n",
       "      <td>8.222330e-307</td>\n",
       "      <td>3.450570e-78</td>\n",
       "    </tr>\n",
       "    <tr>\n",
       "      <th>1</th>\n",
       "      <td>conv_lstm_transfer_learning_w2v_autoenc_fixed_...</td>\n",
       "      <td>12.970380</td>\n",
       "      <td>31.060196</td>\n",
       "      <td>2.553387</td>\n",
       "      <td>3.398756</td>\n",
       "      <td>4.123431e+00</td>\n",
       "      <td>27.799553</td>\n",
       "      <td>12.872687</td>\n",
       "      <td>6.250150</td>\n",
       "      <td>3.654926e+00</td>\n",
       "      <td>4.123431e+00</td>\n",
       "    </tr>\n",
       "    <tr>\n",
       "      <th>2</th>\n",
       "      <td>conv_lstm_enc_dec_logits_transfer_w2v_resnet_l...</td>\n",
       "      <td>1.036596</td>\n",
       "      <td>130.761551</td>\n",
       "      <td>0.035942</td>\n",
       "      <td>4.873375</td>\n",
       "      <td>2.905615e-78</td>\n",
       "      <td>4.492213</td>\n",
       "      <td>1.174358</td>\n",
       "      <td>0.156999</td>\n",
       "      <td>2.694054e-307</td>\n",
       "      <td>2.905615e-78</td>\n",
       "    </tr>\n",
       "    <tr>\n",
       "      <th>3</th>\n",
       "      <td>conv_lstm_enc_dec_logs.csv</td>\n",
       "      <td>12.479117</td>\n",
       "      <td>33.907391</td>\n",
       "      <td>2.514036</td>\n",
       "      <td>3.486385</td>\n",
       "      <td>2.833138e+00</td>\n",
       "      <td>23.258239</td>\n",
       "      <td>10.221963</td>\n",
       "      <td>4.748697</td>\n",
       "      <td>2.463248e+00</td>\n",
       "      <td>2.833138e+00</td>\n",
       "    </tr>\n",
       "    <tr>\n",
       "      <th>4</th>\n",
       "      <td>conv_lstm_logits_transfer_learning_w2v_resnet_...</td>\n",
       "      <td>12.252770</td>\n",
       "      <td>32.154438</td>\n",
       "      <td>2.501150</td>\n",
       "      <td>3.449293</td>\n",
       "      <td>5.090171e+00</td>\n",
       "      <td>30.314170</td>\n",
       "      <td>15.219200</td>\n",
       "      <td>7.934417</td>\n",
       "      <td>4.475970e+00</td>\n",
       "      <td>5.090171e+00</td>\n",
       "    </tr>\n",
       "    <tr>\n",
       "      <th>5</th>\n",
       "      <td>conv_lstm_transfer_learning_w2v_resnet_fixed_s...</td>\n",
       "      <td>5.006883</td>\n",
       "      <td>33.438057</td>\n",
       "      <td>1.606884</td>\n",
       "      <td>3.493744</td>\n",
       "      <td>4.963497e+00</td>\n",
       "      <td>27.916447</td>\n",
       "      <td>12.719220</td>\n",
       "      <td>6.559555</td>\n",
       "      <td>4.316038e+00</td>\n",
       "      <td>4.963497e+00</td>\n",
       "    </tr>\n",
       "  </tbody>\n",
       "</table>\n",
       "</div>"
      ],
      "text/plain": [
       "                                       solution_name  train_perplexity  \\\n",
       "0  conv_lstm_enc_dec_logits_transfer_w2v_resnet_l...          1.000552   \n",
       "1  conv_lstm_transfer_learning_w2v_autoenc_fixed_...         12.970380   \n",
       "2  conv_lstm_enc_dec_logits_transfer_w2v_resnet_l...          1.036596   \n",
       "3                         conv_lstm_enc_dec_logs.csv         12.479117   \n",
       "4  conv_lstm_logits_transfer_learning_w2v_resnet_...         12.252770   \n",
       "5  conv_lstm_transfer_learning_w2v_resnet_fixed_s...          5.006883   \n",
       "\n",
       "   val_perplexity  train_loss  val_loss  overall_bleu    n1_bleu    n2_bleu  \\\n",
       "0      179.158264    0.000551  5.188270  3.450570e-78  12.136925   3.006705   \n",
       "1       31.060196    2.553387  3.398756  4.123431e+00  27.799553  12.872687   \n",
       "2      130.761551    0.035942  4.873375  2.905615e-78   4.492213   1.174358   \n",
       "3       33.907391    2.514036  3.486385  2.833138e+00  23.258239  10.221963   \n",
       "4       32.154438    2.501150  3.449293  5.090171e+00  30.314170  15.219200   \n",
       "5       33.438057    1.606884  3.493744  4.963497e+00  27.916447  12.719220   \n",
       "\n",
       "    n3_bleu        n4_bleu      acc_bleu  \n",
       "0  0.173501  8.222330e-307  3.450570e-78  \n",
       "1  6.250150   3.654926e+00  4.123431e+00  \n",
       "2  0.156999  2.694054e-307  2.905615e-78  \n",
       "3  4.748697   2.463248e+00  2.833138e+00  \n",
       "4  7.934417   4.475970e+00  5.090171e+00  \n",
       "5  6.559555   4.316038e+00  4.963497e+00  "
      ]
     },
     "execution_count": 13,
     "metadata": {},
     "output_type": "execute_result"
    }
   ],
   "source": [
    "df"
   ]
  },
  {
   "cell_type": "code",
   "execution_count": 18,
   "id": "bdc44267",
   "metadata": {},
   "outputs": [
    {
     "data": {
      "text/html": [
       "<div>\n",
       "<style scoped>\n",
       "    .dataframe tbody tr th:only-of-type {\n",
       "        vertical-align: middle;\n",
       "    }\n",
       "\n",
       "    .dataframe tbody tr th {\n",
       "        vertical-align: top;\n",
       "    }\n",
       "\n",
       "    .dataframe thead th {\n",
       "        text-align: right;\n",
       "    }\n",
       "</style>\n",
       "<table border=\"1\" class=\"dataframe\">\n",
       "  <thead>\n",
       "    <tr style=\"text-align: right;\">\n",
       "      <th></th>\n",
       "      <th>solution_name</th>\n",
       "      <th>train_perplexity</th>\n",
       "      <th>val_perplexity</th>\n",
       "      <th>train_loss</th>\n",
       "      <th>val_loss</th>\n",
       "      <th>overall_bleu</th>\n",
       "      <th>n1_bleu</th>\n",
       "      <th>n2_bleu</th>\n",
       "      <th>n3_bleu</th>\n",
       "      <th>n4_bleu</th>\n",
       "      <th>acc_bleu</th>\n",
       "    </tr>\n",
       "  </thead>\n",
       "  <tbody>\n",
       "    <tr>\n",
       "      <th>0</th>\n",
       "      <td>conv_lstm_enc_dec_logits_transfer_w2v_resnet_l...</td>\n",
       "      <td>1.000552</td>\n",
       "      <td>179.158264</td>\n",
       "      <td>0.000551</td>\n",
       "      <td>5.18827</td>\n",
       "      <td>3.450570e-78</td>\n",
       "      <td>12.136925</td>\n",
       "      <td>3.006705</td>\n",
       "      <td>0.173501</td>\n",
       "      <td>8.222330e-307</td>\n",
       "      <td>3.450570e-78</td>\n",
       "    </tr>\n",
       "  </tbody>\n",
       "</table>\n",
       "</div>"
      ],
      "text/plain": [
       "                                       solution_name  train_perplexity  \\\n",
       "0  conv_lstm_enc_dec_logits_transfer_w2v_resnet_l...          1.000552   \n",
       "\n",
       "   val_perplexity  train_loss  val_loss  overall_bleu    n1_bleu   n2_bleu  \\\n",
       "0      179.158264    0.000551   5.18827  3.450570e-78  12.136925  3.006705   \n",
       "\n",
       "    n3_bleu        n4_bleu      acc_bleu  \n",
       "0  0.173501  8.222330e-307  3.450570e-78  "
      ]
     },
     "execution_count": 18,
     "metadata": {},
     "output_type": "execute_result"
    }
   ],
   "source": [
    "df[df['train_perplexity']==df['train_perplexity'].min()]"
   ]
  },
  {
   "cell_type": "code",
   "execution_count": 19,
   "id": "96ff586e",
   "metadata": {},
   "outputs": [
    {
     "data": {
      "text/html": [
       "<div>\n",
       "<style scoped>\n",
       "    .dataframe tbody tr th:only-of-type {\n",
       "        vertical-align: middle;\n",
       "    }\n",
       "\n",
       "    .dataframe tbody tr th {\n",
       "        vertical-align: top;\n",
       "    }\n",
       "\n",
       "    .dataframe thead th {\n",
       "        text-align: right;\n",
       "    }\n",
       "</style>\n",
       "<table border=\"1\" class=\"dataframe\">\n",
       "  <thead>\n",
       "    <tr style=\"text-align: right;\">\n",
       "      <th></th>\n",
       "      <th>solution_name</th>\n",
       "      <th>train_perplexity</th>\n",
       "      <th>val_perplexity</th>\n",
       "      <th>train_loss</th>\n",
       "      <th>val_loss</th>\n",
       "      <th>overall_bleu</th>\n",
       "      <th>n1_bleu</th>\n",
       "      <th>n2_bleu</th>\n",
       "      <th>n3_bleu</th>\n",
       "      <th>n4_bleu</th>\n",
       "      <th>acc_bleu</th>\n",
       "    </tr>\n",
       "  </thead>\n",
       "  <tbody>\n",
       "    <tr>\n",
       "      <th>1</th>\n",
       "      <td>conv_lstm_transfer_learning_w2v_autoenc_fixed_...</td>\n",
       "      <td>12.97038</td>\n",
       "      <td>31.060196</td>\n",
       "      <td>2.553387</td>\n",
       "      <td>3.398756</td>\n",
       "      <td>4.123431</td>\n",
       "      <td>27.799553</td>\n",
       "      <td>12.872687</td>\n",
       "      <td>6.25015</td>\n",
       "      <td>3.654926</td>\n",
       "      <td>4.123431</td>\n",
       "    </tr>\n",
       "  </tbody>\n",
       "</table>\n",
       "</div>"
      ],
      "text/plain": [
       "                                       solution_name  train_perplexity  \\\n",
       "1  conv_lstm_transfer_learning_w2v_autoenc_fixed_...          12.97038   \n",
       "\n",
       "   val_perplexity  train_loss  val_loss  overall_bleu    n1_bleu    n2_bleu  \\\n",
       "1       31.060196    2.553387  3.398756      4.123431  27.799553  12.872687   \n",
       "\n",
       "   n3_bleu   n4_bleu  acc_bleu  \n",
       "1  6.25015  3.654926  4.123431  "
      ]
     },
     "execution_count": 19,
     "metadata": {},
     "output_type": "execute_result"
    }
   ],
   "source": [
    "df[df['val_perplexity']==df['val_perplexity'].min()]"
   ]
  },
  {
   "cell_type": "code",
   "execution_count": 20,
   "id": "c79b0f08",
   "metadata": {},
   "outputs": [
    {
     "data": {
      "text/html": [
       "<div>\n",
       "<style scoped>\n",
       "    .dataframe tbody tr th:only-of-type {\n",
       "        vertical-align: middle;\n",
       "    }\n",
       "\n",
       "    .dataframe tbody tr th {\n",
       "        vertical-align: top;\n",
       "    }\n",
       "\n",
       "    .dataframe thead th {\n",
       "        text-align: right;\n",
       "    }\n",
       "</style>\n",
       "<table border=\"1\" class=\"dataframe\">\n",
       "  <thead>\n",
       "    <tr style=\"text-align: right;\">\n",
       "      <th></th>\n",
       "      <th>solution_name</th>\n",
       "      <th>train_perplexity</th>\n",
       "      <th>val_perplexity</th>\n",
       "      <th>train_loss</th>\n",
       "      <th>val_loss</th>\n",
       "      <th>overall_bleu</th>\n",
       "      <th>n1_bleu</th>\n",
       "      <th>n2_bleu</th>\n",
       "      <th>n3_bleu</th>\n",
       "      <th>n4_bleu</th>\n",
       "      <th>acc_bleu</th>\n",
       "    </tr>\n",
       "  </thead>\n",
       "  <tbody>\n",
       "    <tr>\n",
       "      <th>4</th>\n",
       "      <td>conv_lstm_logits_transfer_learning_w2v_resnet_...</td>\n",
       "      <td>12.25277</td>\n",
       "      <td>32.154438</td>\n",
       "      <td>2.50115</td>\n",
       "      <td>3.449293</td>\n",
       "      <td>5.090171</td>\n",
       "      <td>30.31417</td>\n",
       "      <td>15.2192</td>\n",
       "      <td>7.934417</td>\n",
       "      <td>4.47597</td>\n",
       "      <td>5.090171</td>\n",
       "    </tr>\n",
       "  </tbody>\n",
       "</table>\n",
       "</div>"
      ],
      "text/plain": [
       "                                       solution_name  train_perplexity  \\\n",
       "4  conv_lstm_logits_transfer_learning_w2v_resnet_...          12.25277   \n",
       "\n",
       "   val_perplexity  train_loss  val_loss  overall_bleu   n1_bleu  n2_bleu  \\\n",
       "4       32.154438     2.50115  3.449293      5.090171  30.31417  15.2192   \n",
       "\n",
       "    n3_bleu  n4_bleu  acc_bleu  \n",
       "4  7.934417  4.47597  5.090171  "
      ]
     },
     "execution_count": 20,
     "metadata": {},
     "output_type": "execute_result"
    }
   ],
   "source": [
    "df[df['acc_bleu']==df['acc_bleu'].max()]"
   ]
  },
  {
   "cell_type": "code",
   "execution_count": null,
   "id": "ee58f7d1",
   "metadata": {},
   "outputs": [],
   "source": []
  }
 ],
 "metadata": {
  "kernelspec": {
   "display_name": "conda_tensorflow2_p36",
   "language": "python",
   "name": "conda_tensorflow2_p36"
  },
  "language_info": {
   "codemirror_mode": {
    "name": "ipython",
    "version": 3
   },
   "file_extension": ".py",
   "mimetype": "text/x-python",
   "name": "python",
   "nbconvert_exporter": "python",
   "pygments_lexer": "ipython3",
   "version": "3.6.13"
  }
 },
 "nbformat": 4,
 "nbformat_minor": 5
}
