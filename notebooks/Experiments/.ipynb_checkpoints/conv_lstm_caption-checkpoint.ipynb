{
 "cells": [
  {
   "cell_type": "code",
   "execution_count": 1,
   "id": "b111eae4",
   "metadata": {},
   "outputs": [],
   "source": [
    "import tensorflow as tf"
   ]
  },
  {
   "cell_type": "code",
   "execution_count": 2,
   "id": "fe402523",
   "metadata": {},
   "outputs": [],
   "source": [
    "import pandas as pd\n",
    "import os\n",
    "import numpy as np\n",
    "from keras_preprocessing import image as im\n",
    "tf.random.set_seed(\n",
    "    5\n",
    ")"
   ]
  },
  {
   "cell_type": "markdown",
   "id": "c52e8ddf",
   "metadata": {},
   "source": [
    "# Loading data"
   ]
  },
  {
   "cell_type": "code",
   "execution_count": 3,
   "id": "b04b2d52",
   "metadata": {},
   "outputs": [],
   "source": [
    "def load_data(image_path, annotations_path):\n",
    "    df = pd.read_csv(annotations_path)\n",
    "    df = df[~df['human_sentiment'].isna()]\n",
    "    in_folder = os.listdir(image_path)\n",
    "    df.loc[df['image_name'].isin(in_folder), 'image_name'] = \\\n",
    "    df.loc[df['image_name'].isin(in_folder), 'image_name'].apply(lambda x: os.path.join(image_path,x))\n",
    "    images = []\n",
    "    for image_name in df['image_name'].values:\n",
    "        images.append(np.array(im.load_img(image_name, target_size=(224,224))))\n",
    "    images = np.array(images)\n",
    "    images = images/255\n",
    "    annotations = df['annotation'].str.lower().values\n",
    "    return images, annotations"
   ]
  },
  {
   "cell_type": "code",
   "execution_count": 4,
   "id": "2a215b39",
   "metadata": {},
   "outputs": [],
   "source": [
    "images, annotations = load_data(\"../../../images/\", '../../../emo-at-cap.csv')"
   ]
  },
  {
   "cell_type": "markdown",
   "id": "07936d2d",
   "metadata": {},
   "source": [
    "# Processing of data"
   ]
  },
  {
   "cell_type": "code",
   "execution_count": 5,
   "id": "19602c91",
   "metadata": {},
   "outputs": [],
   "source": [
    "import nltk"
   ]
  },
  {
   "cell_type": "code",
   "execution_count": 6,
   "id": "55b53d8f",
   "metadata": {},
   "outputs": [],
   "source": [
    "tokenizer = nltk.tokenize.WordPunctTokenizer()"
   ]
  },
  {
   "cell_type": "code",
   "execution_count": 7,
   "id": "abd739ee",
   "metadata": {},
   "outputs": [],
   "source": [
    "tokenized = [tokenizer.tokenize(i) for i in annotations]"
   ]
  },
  {
   "cell_type": "code",
   "execution_count": 8,
   "id": "d46b295e",
   "metadata": {},
   "outputs": [],
   "source": [
    "unique_tokens, unique_counts = np.unique(np.hstack(tokenized), return_counts=True)"
   ]
  },
  {
   "cell_type": "code",
   "execution_count": 9,
   "id": "293fd7ac",
   "metadata": {},
   "outputs": [
    {
     "data": {
      "text/plain": [
       "[('the', 3261),\n",
       " ('is', 2031),\n",
       " ('man', 1905),\n",
       " ('and', 1536),\n",
       " ('woman', 1361),\n",
       " ('are', 1036),\n",
       " ('a', 963),\n",
       " ('to', 891),\n",
       " ('looks', 751),\n",
       " ('happy', 705),\n",
       " ('with', 547),\n",
       " ('something', 480),\n",
       " ('men', 478),\n",
       " ('of', 463),\n",
       " ('two', 408),\n",
       " ('other', 361),\n",
       " ('people', 343),\n",
       " ('couple', 334),\n",
       " (',', 330),\n",
       " ('in', 278),\n",
       " ('look', 270),\n",
       " ('because', 265),\n",
       " ('they', 256),\n",
       " ('about', 247),\n",
       " ('on', 246),\n",
       " ('at', 192),\n",
       " ('trying', 190),\n",
       " ('serious', 189),\n",
       " ('women', 184),\n",
       " ('each', 179),\n",
       " ('together', 176),\n",
       " ('by', 175),\n",
       " ('having', 171),\n",
       " ('flirting', 165),\n",
       " ('he', 155),\n",
       " ('smiling', 151),\n",
       " ('arguing', 141),\n",
       " ('angry', 140),\n",
       " ('scared', 138),\n",
       " ('worried', 137),\n",
       " ('hugging', 135),\n",
       " ('surprised', 134),\n",
       " ('calm', 133),\n",
       " ('company', 131),\n",
       " ('her', 129),\n",
       " ('group', 123),\n",
       " ('for', 121),\n",
       " ('she', 117),\n",
       " ('looking', 117),\n",
       " ('his', 115)]"
      ]
     },
     "execution_count": 9,
     "metadata": {},
     "output_type": "execute_result"
    }
   ],
   "source": [
    "sorted(list(zip(unique_tokens, unique_counts)), key = lambda x: x[1])[::-1][:50]"
   ]
  },
  {
   "cell_type": "code",
   "execution_count": 10,
   "id": "abd376ab",
   "metadata": {},
   "outputs": [
    {
     "data": {
      "text/plain": [
       "2162"
      ]
     },
     "execution_count": 10,
     "metadata": {},
     "output_type": "execute_result"
    }
   ],
   "source": [
    "len(unique_tokens)"
   ]
  },
  {
   "cell_type": "code",
   "execution_count": 11,
   "id": "a21200af",
   "metadata": {},
   "outputs": [],
   "source": [
    "pad_token = '<PAD>'\n",
    "start_token = '<S>'\n",
    "end_token = '<E>'"
   ]
  },
  {
   "cell_type": "code",
   "execution_count": 12,
   "id": "4079837a",
   "metadata": {},
   "outputs": [],
   "source": [
    "vocab = dict(zip(unique_tokens,list(range(3,len(unique_tokens)+3))))\n",
    "vocab[pad_token] = 0\n",
    "vocab[start_token] = 1\n",
    "vocab[end_token] = 2"
   ]
  },
  {
   "cell_type": "code",
   "execution_count": 13,
   "id": "31cb7ea9",
   "metadata": {},
   "outputs": [],
   "source": [
    "inverse_vocab = dict([(v,k) for k,v in vocab.items()])"
   ]
  },
  {
   "cell_type": "code",
   "execution_count": 14,
   "id": "89c44dbd",
   "metadata": {},
   "outputs": [],
   "source": [
    "add_special_tokens = lambda x: [start_token] + x + [end_token]"
   ]
  },
  {
   "cell_type": "code",
   "execution_count": 15,
   "id": "eef3589d",
   "metadata": {},
   "outputs": [],
   "source": [
    "tokenized = list(map(add_special_tokens,tokenized))"
   ]
  },
  {
   "cell_type": "code",
   "execution_count": 16,
   "id": "0d338346",
   "metadata": {},
   "outputs": [],
   "source": [
    "max_len = len(max(tokenized, key=len))"
   ]
  },
  {
   "cell_type": "code",
   "execution_count": 17,
   "id": "2cc02203",
   "metadata": {},
   "outputs": [],
   "source": [
    "indexed = list(map(lambda x: [vocab[i] for i in x],tokenized))"
   ]
  },
  {
   "cell_type": "code",
   "execution_count": 18,
   "id": "a3c4ce6c",
   "metadata": {},
   "outputs": [],
   "source": [
    "padded = tf.keras.preprocessing.sequence.pad_sequences(indexed, truncating='post')"
   ]
  },
  {
   "cell_type": "code",
   "execution_count": 19,
   "id": "2b810df0",
   "metadata": {},
   "outputs": [
    {
     "data": {
      "text/plain": [
       "(3840, 224, 224, 3)"
      ]
     },
     "execution_count": 19,
     "metadata": {},
     "output_type": "execute_result"
    }
   ],
   "source": [
    "images.shape"
   ]
  },
  {
   "cell_type": "markdown",
   "id": "bfa53428",
   "metadata": {},
   "source": [
    "# Simple model without additional features, transfer learning and attention"
   ]
  },
  {
   "cell_type": "code",
   "execution_count": 20,
   "id": "784d61d8",
   "metadata": {},
   "outputs": [],
   "source": [
    "def calc_size(x, f, s, padding='same'):\n",
    "    p = 2 if padding=='same' else 1\n",
    "    return (x-f+2)/s+1"
   ]
  },
  {
   "cell_type": "markdown",
   "id": "9a0575a4",
   "metadata": {},
   "source": [
    "### Convolutional model"
   ]
  },
  {
   "cell_type": "code",
   "execution_count": 21,
   "id": "e9d46b15",
   "metadata": {},
   "outputs": [],
   "source": [
    "class ConvEncoder(tf.keras.Model):\n",
    "    def __init__(self, image_shape=(224,224,3)):\n",
    "        super(ConvEncoder, self).__init__()\n",
    "        self.input_conv = tf.keras.layers.Conv2D(filters=128, kernel_size=7, input_shape=image_shape, activation='relu',\n",
    "                           padding='same', name='input_conv', strides=(1,1))\n",
    "        self.conv1 = tf.keras.layers.Conv2D(filters=64, kernel_size=7, activation='relu',\n",
    "                               padding='same', name='conv1', strides=(2,2))\n",
    "        self.batch_norm1 =  tf.keras.layers.BatchNormalization()\n",
    "\n",
    "        self.conv2 = tf.keras.layers.Conv2D(filters=32, kernel_size=5, activation='relu',\n",
    "                               padding='same', name='conv2', strides=(2,2))\n",
    "        self.batch_norm2 =  tf.keras.layers.BatchNormalization()\n",
    "\n",
    "        self.conv3 = tf.keras.layers.Conv2D(filters=16, kernel_size=5, activation='relu',\n",
    "                               padding='same', name='conv3', strides=(2,2))\n",
    "        self.batch_norm3 =  tf.keras.layers.BatchNormalization()\n",
    "\n",
    "        self.conv4 = tf.keras.layers.Conv2D(filters=8, kernel_size=3, activation='relu',\n",
    "                               padding='same', name='conv4', strides=(2,2))\n",
    "        self.batch_norm4 =  tf.keras.layers.BatchNormalization()\n",
    "\n",
    "        self.conv5 = tf.keras.layers.Conv2D(filters=4, kernel_size=3, activation='relu',\n",
    "                               padding='same', name='conv5', strides=(2,2))\n",
    "        self.batch_norm5 =  tf.keras.layers.BatchNormalization()\n",
    "        self.conv6 = tf.keras.layers.Conv2D(filters=4, kernel_size=3, activation='relu',\n",
    "                               padding='same', name='conv5', strides=(2,2))\n",
    "        self.batch_norm6 =  tf.keras.layers.BatchNormalization()\n",
    "       \n",
    "        self.flatten = tf.keras.layers.Flatten(name='final_code')\n",
    "    \n",
    "    def call(self, input):\n",
    "        conv1_out = self.batch_norm1(self.conv1(self.input_conv(input)))\n",
    "        conv2_out = self.batch_norm2(self.conv2(conv1_out))\n",
    "        conv3_out = self.batch_norm3(self.conv3(conv2_out))\n",
    "        conv4_out = self.batch_norm4(self.conv4(conv3_out))\n",
    "        conv5_out = self.batch_norm5(self.conv5(conv4_out))\n",
    "        conv6_out = self.batch_norm6(self.conv6(conv4_out))\n",
    "        result = [self.flatten(conv5_out),self.flatten(conv6_out)]\n",
    "        return result"
   ]
  },
  {
   "cell_type": "code",
   "execution_count": 22,
   "id": "4558983d",
   "metadata": {},
   "outputs": [],
   "source": [
    "conv_encoder = ConvEncoder()"
   ]
  },
  {
   "cell_type": "code",
   "execution_count": 23,
   "id": "a2230c04",
   "metadata": {},
   "outputs": [
    {
     "name": "stdout",
     "output_type": "stream",
     "text": [
      "WARNING:tensorflow:Layer conv_encoder is casting an input tensor from dtype float64 to the layer's dtype of float32, which is new behavior in TensorFlow 2.  The layer has dtype float32 because its dtype defaults to floatx.\n",
      "\n",
      "If you intended to run this layer in float32, you can safely ignore this warning. If in doubt, this warning is likely only an issue if you are porting a TensorFlow 1.X model to TensorFlow 2.\n",
      "\n",
      "To change all layers to have dtype float64 by default, call `tf.keras.backend.set_floatx('float64')`. To change just this layer, pass dtype='float64' to the layer constructor. If you are the author of this layer, you can disable autocasting by passing autocast=False to the base Layer constructor.\n",
      "\n"
     ]
    }
   ],
   "source": [
    "conv_res = conv_encoder(np.expand_dims(images[0],axis=0))"
   ]
  },
  {
   "cell_type": "code",
   "execution_count": 24,
   "id": "34faf107",
   "metadata": {},
   "outputs": [
    {
     "data": {
      "text/plain": [
       "[<tf.Tensor: shape=(1, 196), dtype=float32, numpy=\n",
       " array([[0.03541412, 0.        , 0.        , 0.        , 0.03431314,\n",
       "         0.        , 0.        , 0.        , 0.03511075, 0.        ,\n",
       "         0.        , 0.        , 0.03858706, 0.        , 0.        ,\n",
       "         0.        , 0.03401231, 0.        , 0.0095075 , 0.        ,\n",
       "         0.01219947, 0.        , 0.00254467, 0.        , 0.0155682 ,\n",
       "         0.        , 0.00344956, 0.        , 0.03075555, 0.        ,\n",
       "         0.        , 0.        , 0.01905342, 0.        , 0.00023597,\n",
       "         0.        , 0.01857958, 0.        , 0.        , 0.        ,\n",
       "         0.02713345, 0.        , 0.00038457, 0.        , 0.0171647 ,\n",
       "         0.        , 0.        , 0.        , 0.02065606, 0.        ,\n",
       "         0.        , 0.        , 0.01070538, 0.        , 0.00641992,\n",
       "         0.        , 0.03221574, 0.        , 0.        , 0.        ,\n",
       "         0.03148388, 0.        , 0.        , 0.        , 0.01389854,\n",
       "         0.        , 0.        , 0.        , 0.02733264, 0.        ,\n",
       "         0.        , 0.        , 0.01664943, 0.        , 0.00154873,\n",
       "         0.        , 0.03586247, 0.        , 0.00185332, 0.        ,\n",
       "         0.02458641, 0.        , 0.00775103, 0.        , 0.02631147,\n",
       "         0.        , 0.        , 0.        , 0.02388914, 0.        ,\n",
       "         0.        , 0.        , 0.0254466 , 0.        , 0.        ,\n",
       "         0.        , 0.00988577, 0.        , 0.        , 0.        ,\n",
       "         0.02356378, 0.        , 0.0031899 , 0.        , 0.0323026 ,\n",
       "         0.        , 0.        , 0.        , 0.02584806, 0.        ,\n",
       "         0.00579135, 0.        , 0.03211553, 0.        , 0.        ,\n",
       "         0.        , 0.03494063, 0.        , 0.00100446, 0.        ,\n",
       "         0.0165511 , 0.        , 0.        , 0.        , 0.02982197,\n",
       "         0.        , 0.        , 0.        , 0.03427428, 0.        ,\n",
       "         0.        , 0.        , 0.02934893, 0.        , 0.        ,\n",
       "         0.        , 0.02785261, 0.        , 0.00435045, 0.        ,\n",
       "         0.01988844, 0.        , 0.        , 0.        , 0.0232024 ,\n",
       "         0.        , 0.        , 0.        , 0.02749868, 0.        ,\n",
       "         0.        , 0.        , 0.02805473, 0.        , 0.        ,\n",
       "         0.        , 0.02197655, 0.        , 0.        , 0.        ,\n",
       "         0.02357392, 0.        , 0.        , 0.        , 0.02639013,\n",
       "         0.        , 0.01963627, 0.        , 0.00109563, 0.        ,\n",
       "         0.00642332, 0.        , 0.        , 0.        , 0.01016977,\n",
       "         0.        , 0.        , 0.        , 0.01445634, 0.        ,\n",
       "         0.00405947, 0.        , 0.01131674, 0.        , 0.        ,\n",
       "         0.        , 0.01313123, 0.        , 0.        , 0.        ,\n",
       "         0.01632051, 0.        , 0.0067893 , 0.        , 0.00506778,\n",
       "         0.        ]], dtype=float32)>,\n",
       " <tf.Tensor: shape=(1, 196), dtype=float32, numpy=\n",
       " array([[0.0000000e+00, 0.0000000e+00, 0.0000000e+00, 0.0000000e+00,\n",
       "         9.8283244e-03, 0.0000000e+00, 0.0000000e+00, 0.0000000e+00,\n",
       "         9.9348659e-03, 0.0000000e+00, 0.0000000e+00, 0.0000000e+00,\n",
       "         3.4146421e-03, 0.0000000e+00, 0.0000000e+00, 8.6766704e-06,\n",
       "         4.5939744e-03, 0.0000000e+00, 0.0000000e+00, 1.4129196e-02,\n",
       "         2.0051764e-02, 0.0000000e+00, 0.0000000e+00, 0.0000000e+00,\n",
       "         3.1755487e-03, 2.4521402e-03, 9.4903988e-04, 0.0000000e+00,\n",
       "         9.3517068e-04, 0.0000000e+00, 0.0000000e+00, 0.0000000e+00,\n",
       "         1.9151758e-02, 0.0000000e+00, 0.0000000e+00, 0.0000000e+00,\n",
       "         1.7265750e-02, 0.0000000e+00, 0.0000000e+00, 0.0000000e+00,\n",
       "         2.1216212e-02, 0.0000000e+00, 0.0000000e+00, 0.0000000e+00,\n",
       "         3.1762965e-02, 0.0000000e+00, 0.0000000e+00, 0.0000000e+00,\n",
       "         5.0596986e-03, 4.6921354e-03, 0.0000000e+00, 0.0000000e+00,\n",
       "         0.0000000e+00, 1.1896715e-02, 3.9329240e-03, 0.0000000e+00,\n",
       "         0.0000000e+00, 0.0000000e+00, 0.0000000e+00, 0.0000000e+00,\n",
       "         1.4873009e-02, 0.0000000e+00, 0.0000000e+00, 0.0000000e+00,\n",
       "         2.2127718e-02, 0.0000000e+00, 0.0000000e+00, 0.0000000e+00,\n",
       "         2.4174379e-02, 0.0000000e+00, 0.0000000e+00, 0.0000000e+00,\n",
       "         2.6495857e-02, 0.0000000e+00, 0.0000000e+00, 6.6030184e-03,\n",
       "         1.9485524e-02, 0.0000000e+00, 0.0000000e+00, 0.0000000e+00,\n",
       "         1.4879539e-03, 3.0696722e-02, 0.0000000e+00, 0.0000000e+00,\n",
       "         1.4152591e-02, 0.0000000e+00, 0.0000000e+00, 0.0000000e+00,\n",
       "         1.7401893e-02, 0.0000000e+00, 0.0000000e+00, 0.0000000e+00,\n",
       "         2.7305115e-02, 0.0000000e+00, 0.0000000e+00, 0.0000000e+00,\n",
       "         1.5903749e-02, 0.0000000e+00, 0.0000000e+00, 0.0000000e+00,\n",
       "         2.8200116e-02, 0.0000000e+00, 0.0000000e+00, 0.0000000e+00,\n",
       "         1.2825963e-02, 0.0000000e+00, 0.0000000e+00, 0.0000000e+00,\n",
       "         1.4892390e-02, 3.1636219e-02, 0.0000000e+00, 0.0000000e+00,\n",
       "         1.3251567e-02, 0.0000000e+00, 0.0000000e+00, 0.0000000e+00,\n",
       "         2.0731969e-02, 0.0000000e+00, 0.0000000e+00, 0.0000000e+00,\n",
       "         3.2518983e-02, 0.0000000e+00, 0.0000000e+00, 0.0000000e+00,\n",
       "         2.4093745e-02, 0.0000000e+00, 0.0000000e+00, 0.0000000e+00,\n",
       "         2.4776721e-02, 0.0000000e+00, 0.0000000e+00, 0.0000000e+00,\n",
       "         3.2442138e-03, 0.0000000e+00, 0.0000000e+00, 0.0000000e+00,\n",
       "         1.2640391e-02, 3.2403160e-02, 0.0000000e+00, 0.0000000e+00,\n",
       "         3.7229073e-03, 0.0000000e+00, 0.0000000e+00, 0.0000000e+00,\n",
       "         2.3972169e-02, 0.0000000e+00, 0.0000000e+00, 0.0000000e+00,\n",
       "         1.5309164e-02, 0.0000000e+00, 0.0000000e+00, 0.0000000e+00,\n",
       "         2.6635798e-02, 0.0000000e+00, 0.0000000e+00, 0.0000000e+00,\n",
       "         2.4886714e-02, 0.0000000e+00, 0.0000000e+00, 0.0000000e+00,\n",
       "         2.4430217e-02, 0.0000000e+00, 0.0000000e+00, 0.0000000e+00,\n",
       "         5.0921827e-03, 4.5660090e-02, 0.0000000e+00, 0.0000000e+00,\n",
       "         5.6367959e-03, 0.0000000e+00, 4.4459137e-03, 0.0000000e+00,\n",
       "         1.9567676e-02, 0.0000000e+00, 4.5107608e-03, 0.0000000e+00,\n",
       "         2.3111932e-02, 0.0000000e+00, 1.3312504e-03, 0.0000000e+00,\n",
       "         2.0143449e-02, 0.0000000e+00, 0.0000000e+00, 0.0000000e+00,\n",
       "         2.4922442e-02, 0.0000000e+00, 5.7853176e-03, 0.0000000e+00,\n",
       "         2.4204135e-02, 0.0000000e+00, 1.6377149e-04, 0.0000000e+00,\n",
       "         1.6106993e-02, 1.0643350e-03, 9.7853057e-03, 0.0000000e+00]],\n",
       "       dtype=float32)>]"
      ]
     },
     "execution_count": 24,
     "metadata": {},
     "output_type": "execute_result"
    }
   ],
   "source": [
    "conv_res"
   ]
  },
  {
   "cell_type": "markdown",
   "id": "58e0a1fe",
   "metadata": {},
   "source": [
    "### LSTM model"
   ]
  },
  {
   "cell_type": "code",
   "execution_count": 36,
   "id": "f526d5c3",
   "metadata": {},
   "outputs": [],
   "source": [
    "class LSTMDecoder(tf.keras.Model):\n",
    "    def __init__(self, max_tokens, lstm_units, embeddings=None):\n",
    "        super(LSTMDecoder, self).__init__()\n",
    "        if not (embeddings is None):\n",
    "            self.embeddings = tf.keras.layers.Embedding(input_dim=max_tokens+1, output_dim=128, name='embeddings',\n",
    "                                                   weights=[embeddings])\n",
    "        else:\n",
    "            self.embeddings = tf.keras.layers.Embedding(input_dim=max_tokens+1, output_dim=128, name='embeddings'\n",
    "                                                   )\n",
    "        self.layer_norm = tf.keras.layers.LayerNormalization(epsilon=1e-6, name='layer_normalization')\n",
    "        self.lstm = tf.keras.layers.LSTM(units=lstm_units, return_state=True, name='lstm_decoder')\n",
    "        self.output_dense = tf.keras.layers.Dense(units=max_tokens)\n",
    "        \n",
    "    def call(self, input, features):\n",
    "        embedded = self.embeddings(input)\n",
    "        result_lstm, state_h, state_c = self.lstm(embedded, initial_state=features)\n",
    "        normalized = self.layer_norm(result_lstm)\n",
    "        logits = self.output_dense(normalized)\n",
    "        return logits, [state_h, state_c]"
   ]
  },
  {
   "cell_type": "code",
   "execution_count": 37,
   "id": "77351161",
   "metadata": {},
   "outputs": [],
   "source": [
    "lstm_decoder = LSTMDecoder(len(inverse_vocab), conv_res[0].shape[1])"
   ]
  },
  {
   "cell_type": "code",
   "execution_count": 38,
   "id": "ebde1e2a",
   "metadata": {},
   "outputs": [
    {
     "data": {
      "text/plain": [
       "(<tf.Tensor: shape=(1, 2165), dtype=float32, numpy=\n",
       " array([[-0.4341635 , -0.45953253,  0.34176856, ..., -0.152489  ,\n",
       "          0.16677044, -0.01063484]], dtype=float32)>,\n",
       " [<tf.Tensor: shape=(1, 196), dtype=float32, numpy=\n",
       "  array([[-2.50293151e-03, -7.51462206e-03,  9.07676667e-03,\n",
       "          -3.39981867e-03, -9.60575708e-04, -4.80203889e-03,\n",
       "           3.00842174e-03,  9.56389878e-04, -3.73204681e-03,\n",
       "          -2.86116824e-03,  8.18586559e-04,  4.92249941e-03,\n",
       "           6.56776642e-03,  8.38932581e-03, -4.46226401e-03,\n",
       "           9.64908581e-03, -8.61363392e-03, -2.16025091e-03,\n",
       "           9.97928437e-03, -1.41555844e-02, -3.02197947e-03,\n",
       "           1.08310860e-02,  2.60363636e-03,  7.35619850e-03,\n",
       "           8.06839392e-03, -4.91044193e-04, -1.43954717e-03,\n",
       "          -1.19259441e-03,  1.23213686e-03, -6.77924510e-03,\n",
       "           5.41970076e-04,  1.77985837e-03, -1.10691870e-02,\n",
       "           4.71447408e-03, -2.74067977e-03, -2.87593412e-03,\n",
       "          -1.00188702e-02,  5.99587150e-03, -1.75797986e-03,\n",
       "          -1.05188927e-02,  1.50177972e-02,  3.40182823e-03,\n",
       "          -2.60656723e-03,  1.41716888e-03,  8.21823627e-03,\n",
       "          -7.94824958e-03,  3.98072909e-04,  6.99309446e-03,\n",
       "           6.48731831e-03,  1.07421968e-02,  1.21056605e-02,\n",
       "          -1.60642434e-03, -1.01438947e-02, -1.05379522e-03,\n",
       "           1.11332824e-02, -1.64709368e-03,  2.60362029e-03,\n",
       "           6.61062496e-03, -1.23722088e-02, -6.54732902e-03,\n",
       "          -4.68383543e-03, -6.37695473e-03,  2.94279261e-03,\n",
       "           3.64258187e-03,  3.60784470e-03, -2.72227288e-03,\n",
       "           9.69007332e-03, -7.87814613e-03, -3.36070219e-03,\n",
       "           9.66107845e-03,  1.17370468e-02,  2.11502193e-03,\n",
       "          -1.49758561e-02,  9.07528400e-03, -1.03754085e-02,\n",
       "           2.15443945e-03, -3.17728356e-03, -4.29535471e-03,\n",
       "          -1.39474531e-03, -5.93359536e-03,  1.57334805e-02,\n",
       "          -6.46378496e-04,  2.55154981e-03,  9.65632219e-03,\n",
       "          -1.66708673e-03,  6.44939486e-03,  9.24977753e-03,\n",
       "          -1.15702702e-02,  6.27835980e-03,  2.91895610e-03,\n",
       "           7.86150154e-03,  1.55001273e-02, -6.17277328e-05,\n",
       "           5.58173005e-03, -3.46208084e-03,  9.59083904e-03,\n",
       "           8.25604890e-03,  7.38590816e-03,  5.01958840e-03,\n",
       "          -6.69325050e-03, -1.65078195e-03,  3.36488802e-03,\n",
       "          -4.38167388e-03, -3.90775176e-03, -3.14312964e-03,\n",
       "           7.49203609e-03, -8.77778977e-03,  7.43118988e-04,\n",
       "          -1.47819072e-02, -4.03463794e-03, -1.12634273e-02,\n",
       "           1.28976405e-02, -9.32601979e-04, -1.08891530e-02,\n",
       "          -4.56457608e-04, -6.23589335e-03,  2.55394611e-03,\n",
       "           7.50794820e-03,  4.43485891e-03, -1.21975234e-02,\n",
       "          -5.44983894e-03,  7.37108116e-04,  5.18138660e-03,\n",
       "          -4.19350481e-03,  1.30986737e-03, -1.02949729e-02,\n",
       "           7.63942022e-03,  3.58901266e-03, -1.64104011e-02,\n",
       "          -9.86981392e-03,  5.87748829e-03,  8.39895010e-03,\n",
       "          -2.50310870e-03,  8.18949193e-03, -6.97301049e-03,\n",
       "          -9.02026799e-03,  6.45651808e-03,  7.07025733e-03,\n",
       "          -1.70050357e-02, -5.71477273e-03, -6.88758958e-03,\n",
       "           7.80753559e-04,  5.32066030e-03, -1.37795194e-03,\n",
       "           5.45334350e-03, -1.37920706e-02,  1.57983303e-02,\n",
       "          -2.68604513e-03, -6.70889020e-03,  1.68305601e-03,\n",
       "           2.89132702e-04,  1.03256002e-03,  2.88353022e-03,\n",
       "           7.34436978e-03, -2.34713987e-03, -2.17635352e-02,\n",
       "           1.26338669e-03, -8.78917798e-03, -9.02100559e-03,\n",
       "          -9.58609954e-03,  4.89994045e-03,  7.52776302e-03,\n",
       "           5.26697701e-03, -1.15301330e-02, -5.69434650e-03,\n",
       "           1.32490229e-02, -4.77722497e-04, -4.48482251e-03,\n",
       "           6.98717590e-03,  1.15708739e-03,  1.65883475e-03,\n",
       "           2.41387915e-03,  9.66200978e-03, -5.56975091e-03,\n",
       "          -1.70062408e-02, -8.27067706e-04, -1.47624942e-03,\n",
       "           6.25117263e-03,  3.39736347e-03, -8.86728335e-03,\n",
       "          -1.60261581e-03,  1.80704508e-03, -1.84803549e-03,\n",
       "           1.57943100e-03,  4.51014098e-03,  9.86059196e-03,\n",
       "          -3.57460859e-03,  8.88439827e-03, -2.49193516e-03,\n",
       "           1.09744389e-02,  9.44623258e-03, -1.68619305e-03,\n",
       "          -9.82399564e-04, -8.67821160e-04,  1.31366700e-02,\n",
       "           9.22339875e-03]], dtype=float32)>,\n",
       "  <tf.Tensor: shape=(1, 196), dtype=float32, numpy=\n",
       "  array([[-0.00500392, -0.01515088,  0.01833563, -0.00683715, -0.00190559,\n",
       "          -0.00961475,  0.00593853,  0.00193028, -0.00754485, -0.00574774,\n",
       "           0.00161015,  0.00989578,  0.01296635,  0.01668891, -0.00894912,\n",
       "           0.01936688, -0.01715927, -0.00437002,  0.01986112, -0.02892084,\n",
       "          -0.00597821,  0.02171689,  0.00521045,  0.01468637,  0.01604697,\n",
       "          -0.00098729, -0.00287096, -0.00239544,  0.00248147, -0.01357448,\n",
       "           0.00107086,  0.00359035, -0.02183817,  0.00952592, -0.00546229,\n",
       "          -0.00573944, -0.02031616,  0.01183202, -0.00354698, -0.02101251,\n",
       "           0.02988883,  0.00681199, -0.00519694,  0.00289042,  0.01651275,\n",
       "          -0.01610647,  0.00079047,  0.01400939,  0.01296449,  0.02138772,\n",
       "           0.02418777, -0.00320227, -0.02036321, -0.00210168,  0.02207708,\n",
       "          -0.00326928,  0.00523901,  0.013324  , -0.02508043, -0.01313476,\n",
       "          -0.00940744, -0.01293533,  0.0058934 ,  0.00734183,  0.00722246,\n",
       "          -0.00549197,  0.01897899, -0.0155523 , -0.00669483,  0.01948432,\n",
       "           0.02308834,  0.00420945, -0.02980175,  0.0180127 , -0.02093702,\n",
       "           0.00429293, -0.00642221, -0.00869889, -0.00279395, -0.01190046,\n",
       "           0.03145619, -0.00127988,  0.00507839,  0.01943168, -0.00335129,\n",
       "           0.01295477,  0.01859471, -0.02332854,  0.01247017,  0.00591018,\n",
       "           0.01564535,  0.03109378, -0.00012271,  0.01117772, -0.0069311 ,\n",
       "           0.01906278,  0.01633575,  0.01466623,  0.00996149, -0.01354707,\n",
       "          -0.00330593,  0.00666874, -0.0087211 , -0.00788324, -0.00629221,\n",
       "           0.01494675, -0.0174762 ,  0.00149225, -0.02971173, -0.00815553,\n",
       "          -0.02232903,  0.02581665, -0.00185369, -0.02184354, -0.00090956,\n",
       "          -0.01258654,  0.00515343,  0.01509366,  0.00896388, -0.02450674,\n",
       "          -0.01086071,  0.00147563,  0.01026145, -0.00840448,  0.00261017,\n",
       "          -0.02074122,  0.01508227,  0.00717351, -0.03312775, -0.01975104,\n",
       "           0.01173649,  0.01694674, -0.0049952 ,  0.01644493, -0.01381419,\n",
       "          -0.01792956,  0.01289787,  0.01410176, -0.03408946, -0.01132176,\n",
       "          -0.01360768,  0.00152984,  0.01056506, -0.00280807,  0.0108191 ,\n",
       "          -0.02748397,  0.03111631, -0.0053899 , -0.01348949,  0.00340997,\n",
       "           0.00058047,  0.00207426,  0.00578732,  0.01469284, -0.00468155,\n",
       "          -0.04385361,  0.00252937, -0.01762665, -0.018362  , -0.01913765,\n",
       "           0.00971216,  0.01522093,  0.01070049, -0.02318906, -0.01136085,\n",
       "           0.02637306, -0.00095272, -0.00894649,  0.01390567,  0.00235368,\n",
       "           0.00332359,  0.00480696,  0.01906411, -0.01118444, -0.03418078,\n",
       "          -0.00166405, -0.00291698,  0.01238536,  0.00689763, -0.01785902,\n",
       "          -0.00314303,  0.00360398, -0.00375297,  0.00317477,  0.00897207,\n",
       "           0.01951859, -0.00717042,  0.01748482, -0.00502171,  0.02188545,\n",
       "           0.01880242, -0.00340453, -0.00197233, -0.00172277,  0.02622721,\n",
       "           0.01885063]], dtype=float32)>])"
      ]
     },
     "execution_count": 38,
     "metadata": {},
     "output_type": "execute_result"
    }
   ],
   "source": [
    "lstm_decoder(np.expand_dims(padded[0],axis=0), conv_res)"
   ]
  },
  {
   "cell_type": "markdown",
   "id": "14d2d179",
   "metadata": {},
   "source": [
    "### Training"
   ]
  },
  {
   "cell_type": "code",
   "execution_count": 39,
   "id": "6733fc15",
   "metadata": {},
   "outputs": [],
   "source": [
    "from sklearn.model_selection import train_test_split"
   ]
  },
  {
   "cell_type": "code",
   "execution_count": 52,
   "id": "a0b9e9d5",
   "metadata": {},
   "outputs": [],
   "source": [
    "loss_object = tf.keras.losses.SparseCategoricalCrossentropy(reduction='none',\n",
    "                                                                         from_logits=True)\n",
    "optimizer = tf.keras.optimizers.RMSprop(learning_rate=1e-5)\n"
   ]
  },
  {
   "cell_type": "code",
   "execution_count": 53,
   "id": "0d556637",
   "metadata": {},
   "outputs": [],
   "source": [
    "def loss_function(real, pred):\n",
    "        mask = tf.math.logical_not(tf.math.equal(real, vocab[pad_token]))\n",
    "        loss_ = loss_object(real, pred)\n",
    "\n",
    "        mask = tf.cast(mask, dtype=loss_.dtype)\n",
    "        loss_ *= mask\n",
    "        return loss_"
   ]
  },
  {
   "cell_type": "code",
   "execution_count": 54,
   "id": "f124b056",
   "metadata": {},
   "outputs": [],
   "source": [
    "@tf.function\n",
    "def train_step(image, target, lengths, optimizer):\n",
    "\n",
    "    with tf.GradientTape() as tape:\n",
    "        initial_state = conv_encoder(image)\n",
    "        # Teacher forcing - feeding the target as the next input\n",
    "        batched_loss = []\n",
    "        for t in range(1, target.shape[1]):\n",
    "            \n",
    "            dec_input = tf.expand_dims(target[:, t-1], 1)\n",
    "            result, initial_state = lstm_decoder(input=dec_input, features=initial_state)\n",
    "\n",
    "            batched_loss.append(loss_function(target[:, t], result))\n",
    "        batched_loss = tf.reshape(tf.stack(batched_loss), shape=target[:,1:].shape)\n",
    "        batched_loss = tf.reduce_sum(batched_loss, axis=1)\n",
    "        lengths = tf.cast(lengths, dtype=batched_loss.dtype)\n",
    "        loss = tf.reduce_mean(batched_loss / lengths)\n",
    "\n",
    "    perplexity = tf.exp(loss)\n",
    "\n",
    "    variables = conv_encoder.trainable_variables + lstm_decoder.trainable_variables\n",
    "    gradients = tape.gradient(loss, variables)\n",
    "\n",
    "    optimizer.apply_gradients(zip(gradients, variables))\n",
    "\n",
    "    return loss, perplexity"
   ]
  },
  {
   "cell_type": "code",
   "execution_count": 55,
   "id": "7890e272",
   "metadata": {},
   "outputs": [],
   "source": [
    "@tf.function\n",
    "def evaluate(image, target, lengths, optimizer):\n",
    "\n",
    "    initial_state = conv_encoder(image)\n",
    "    # Teacher forcing - feeding the target as the next input\n",
    "    batched_loss = []\n",
    "    for t in range(1, target.shape[1]):\n",
    "\n",
    "        dec_input = tf.expand_dims(target[:, t-1], 1)\n",
    "        result, initial_state = lstm_decoder(input=dec_input, features=initial_state)\n",
    "\n",
    "        batched_loss.append(loss_function(target[:, t], result))\n",
    "\n",
    "    batched_loss = tf.reshape(tf.stack(batched_loss), shape=target[:,1:].shape)\n",
    "    batched_loss = tf.reduce_sum(batched_loss, axis=1)\n",
    "    lengths = tf.cast(lengths, dtype=batched_loss.dtype)\n",
    "    loss = tf.reduce_mean(batched_loss / lengths)\n",
    "\n",
    "    perplexity = tf.exp(loss)\n",
    "\n",
    "\n",
    "    return loss, perplexity"
   ]
  },
  {
   "cell_type": "code",
   "execution_count": 44,
   "id": "d19d6a3e",
   "metadata": {},
   "outputs": [],
   "source": [
    "train_images, test_images, train_sequences, test_sequences =  train_test_split(images, padded, test_size=0.1, random_state=9)"
   ]
  },
  {
   "cell_type": "code",
   "execution_count": 45,
   "id": "d2cf9647",
   "metadata": {},
   "outputs": [],
   "source": [
    "train_length = (train_sequences!=vocab[pad_token]).sum(axis=1)-2"
   ]
  },
  {
   "cell_type": "code",
   "execution_count": 46,
   "id": "dba45c71",
   "metadata": {},
   "outputs": [],
   "source": [
    "test_length = (test_sequences!=vocab[pad_token]).sum(axis=1)-2"
   ]
  },
  {
   "cell_type": "code",
   "execution_count": 47,
   "id": "51eb39fd",
   "metadata": {},
   "outputs": [],
   "source": [
    "epochs = 50\n",
    "batch_size= 64\n",
    "train_images = np.array(np.array_split(train_images, len(train_images)//batch_size))\n",
    "test_images = np.array(np.array_split(test_images, len(test_images)//batch_size))\n",
    "train_sequences = np.array(np.array_split(train_sequences, len(train_sequences)//batch_size))\n",
    "test_sequences = np.array(np.array_split(test_sequences, len(test_sequences)//batch_size))\n",
    "train_length = np.array(np.array_split(train_length, len(train_length)//batch_size))\n",
    "test_length = np.array(np.array_split(test_length, len(test_length)//batch_size))"
   ]
  },
  {
   "cell_type": "code",
   "execution_count": 48,
   "id": "eb0549fb",
   "metadata": {},
   "outputs": [
    {
     "data": {
      "text/plain": [
       "((54, 64, 224, 224, 3), (54, 64, 37), (54, 64))"
      ]
     },
     "execution_count": 48,
     "metadata": {},
     "output_type": "execute_result"
    }
   ],
   "source": [
    "train_images.shape, train_sequences.shape, train_length.shape"
   ]
  },
  {
   "cell_type": "code",
   "execution_count": 49,
   "id": "e8b895fa",
   "metadata": {},
   "outputs": [
    {
     "name": "stdout",
     "output_type": "stream",
     "text": [
      "Requirement already satisfied: tqdm in /home/ec2-user/anaconda3/envs/amazonei_tensorflow2_p36/lib/python3.6/site-packages (4.61.1)\n"
     ]
    }
   ],
   "source": [
    "!pip install tqdm"
   ]
  },
  {
   "cell_type": "code",
   "execution_count": 50,
   "id": "e1082573",
   "metadata": {},
   "outputs": [],
   "source": [
    "from tqdm import tqdm"
   ]
  },
  {
   "cell_type": "code",
   "execution_count": 56,
   "id": "aed162c1",
   "metadata": {},
   "outputs": [
    {
     "name": "stderr",
     "output_type": "stream",
     "text": [
      "54it [02:15,  2.50s/it]\n"
     ]
    },
    {
     "name": "stdout",
     "output_type": "stream",
     "text": [
      "Finished epoch 0; Train loss : 10.454346656799316; Train perplexity : 44395.7734375\n"
     ]
    },
    {
     "name": "stderr",
     "output_type": "stream",
     "text": [
      "0it [00:00, ?it/s]"
     ]
    },
    {
     "name": "stdout",
     "output_type": "stream",
     "text": [
      "Test loss : 10.151829719543457; Test perplexity : 29917.4921875\n"
     ]
    },
    {
     "name": "stderr",
     "output_type": "stream",
     "text": [
      "54it [01:22,  1.52s/it]\n"
     ]
    },
    {
     "name": "stdout",
     "output_type": "stream",
     "text": [
      "Finished epoch 1; Train loss : 10.049839973449707; Train perplexity : 28940.05859375\n"
     ]
    },
    {
     "name": "stderr",
     "output_type": "stream",
     "text": [
      "0it [00:00, ?it/s]"
     ]
    },
    {
     "name": "stdout",
     "output_type": "stream",
     "text": [
      "Test loss : 9.78747272491455; Test perplexity : 20597.654296875\n"
     ]
    },
    {
     "name": "stderr",
     "output_type": "stream",
     "text": [
      "54it [01:22,  1.52s/it]\n"
     ]
    },
    {
     "name": "stdout",
     "output_type": "stream",
     "text": [
      "Finished epoch 2; Train loss : 9.696529388427734; Train perplexity : 19962.830078125\n"
     ]
    },
    {
     "name": "stderr",
     "output_type": "stream",
     "text": [
      "0it [00:00, ?it/s]"
     ]
    },
    {
     "name": "stdout",
     "output_type": "stream",
     "text": [
      "Test loss : 9.463305473327637; Test perplexity : 14785.6083984375\n"
     ]
    },
    {
     "name": "stderr",
     "output_type": "stream",
     "text": [
      "54it [01:22,  1.53s/it]\n"
     ]
    },
    {
     "name": "stdout",
     "output_type": "stream",
     "text": [
      "Finished epoch 3; Train loss : 9.381457328796387; Train perplexity : 14343.951171875\n"
     ]
    },
    {
     "name": "stderr",
     "output_type": "stream",
     "text": [
      "0it [00:00, ?it/s]"
     ]
    },
    {
     "name": "stdout",
     "output_type": "stream",
     "text": [
      "Test loss : 9.172344207763672; Test perplexity : 10982.3818359375\n"
     ]
    },
    {
     "name": "stderr",
     "output_type": "stream",
     "text": [
      "54it [01:22,  1.53s/it]\n"
     ]
    },
    {
     "name": "stdout",
     "output_type": "stream",
     "text": [
      "Finished epoch 4; Train loss : 9.096826553344727; Train perplexity : 10648.8447265625\n"
     ]
    },
    {
     "name": "stderr",
     "output_type": "stream",
     "text": [
      "0it [00:00, ?it/s]"
     ]
    },
    {
     "name": "stdout",
     "output_type": "stream",
     "text": [
      "Test loss : 8.906952857971191; Test perplexity : 8374.6767578125\n"
     ]
    },
    {
     "name": "stderr",
     "output_type": "stream",
     "text": [
      "54it [01:22,  1.53s/it]\n"
     ]
    },
    {
     "name": "stdout",
     "output_type": "stream",
     "text": [
      "Finished epoch 5; Train loss : 8.836348533630371; Train perplexity : 8113.06884765625\n"
     ]
    },
    {
     "name": "stderr",
     "output_type": "stream",
     "text": [
      "0it [00:00, ?it/s]"
     ]
    },
    {
     "name": "stdout",
     "output_type": "stream",
     "text": [
      "Test loss : 8.662556648254395; Test perplexity : 6525.810546875\n"
     ]
    },
    {
     "name": "stderr",
     "output_type": "stream",
     "text": [
      "54it [01:22,  1.53s/it]\n"
     ]
    },
    {
     "name": "stdout",
     "output_type": "stream",
     "text": [
      "Finished epoch 6; Train loss : 8.596189498901367; Train perplexity : 6317.3720703125\n"
     ]
    },
    {
     "name": "stderr",
     "output_type": "stream",
     "text": [
      "0it [00:00, ?it/s]"
     ]
    },
    {
     "name": "stdout",
     "output_type": "stream",
     "text": [
      "Test loss : 8.436083793640137; Test perplexity : 5179.92333984375\n"
     ]
    },
    {
     "name": "stderr",
     "output_type": "stream",
     "text": [
      "54it [01:22,  1.54s/it]\n"
     ]
    },
    {
     "name": "stdout",
     "output_type": "stream",
     "text": [
      "Finished epoch 7; Train loss : 8.373594284057617; Train perplexity : 5012.4658203125\n"
     ]
    },
    {
     "name": "stderr",
     "output_type": "stream",
     "text": [
      "0it [00:00, ?it/s]"
     ]
    },
    {
     "name": "stdout",
     "output_type": "stream",
     "text": [
      "Test loss : 8.225370407104492; Test perplexity : 4178.73583984375\n"
     ]
    },
    {
     "name": "stderr",
     "output_type": "stream",
     "text": [
      "54it [01:23,  1.54s/it]\n"
     ]
    },
    {
     "name": "stdout",
     "output_type": "stream",
     "text": [
      "Finished epoch 8; Train loss : 8.166536331176758; Train perplexity : 4043.5703125\n"
     ]
    },
    {
     "name": "stderr",
     "output_type": "stream",
     "text": [
      "0it [00:00, ?it/s]"
     ]
    },
    {
     "name": "stdout",
     "output_type": "stream",
     "text": [
      "Test loss : 8.028735160827637; Test perplexity : 3420.1396484375\n"
     ]
    },
    {
     "name": "stderr",
     "output_type": "stream",
     "text": [
      "54it [01:23,  1.54s/it]\n"
     ]
    },
    {
     "name": "stdout",
     "output_type": "stream",
     "text": [
      "Finished epoch 9; Train loss : 7.973146915435791; Train perplexity : 3309.79736328125\n"
     ]
    },
    {
     "name": "stderr",
     "output_type": "stream",
     "text": [
      "0it [00:00, ?it/s]"
     ]
    },
    {
     "name": "stdout",
     "output_type": "stream",
     "text": [
      "Test loss : 7.844336986541748; Test perplexity : 2834.646240234375\n"
     ]
    },
    {
     "name": "stderr",
     "output_type": "stream",
     "text": [
      "54it [01:23,  1.54s/it]\n"
     ]
    },
    {
     "name": "stdout",
     "output_type": "stream",
     "text": [
      "Finished epoch 10; Train loss : 7.791536808013916; Train perplexity : 2743.33154296875\n"
     ]
    },
    {
     "name": "stderr",
     "output_type": "stream",
     "text": [
      "0it [00:00, ?it/s]"
     ]
    },
    {
     "name": "stdout",
     "output_type": "stream",
     "text": [
      "Test loss : 7.670536518096924; Test perplexity : 2375.109130859375\n"
     ]
    },
    {
     "name": "stderr",
     "output_type": "stream",
     "text": [
      "54it [01:23,  1.54s/it]\n"
     ]
    },
    {
     "name": "stdout",
     "output_type": "stream",
     "text": [
      "Finished epoch 11; Train loss : 7.620163440704346; Train perplexity : 2298.630126953125\n"
     ]
    },
    {
     "name": "stderr",
     "output_type": "stream",
     "text": [
      "0it [00:00, ?it/s]"
     ]
    },
    {
     "name": "stdout",
     "output_type": "stream",
     "text": [
      "Test loss : 7.506078243255615; Test perplexity : 2009.3114013671875\n"
     ]
    },
    {
     "name": "stderr",
     "output_type": "stream",
     "text": [
      "54it [01:23,  1.54s/it]\n"
     ]
    },
    {
     "name": "stdout",
     "output_type": "stream",
     "text": [
      "Finished epoch 12; Train loss : 7.457860946655273; Train perplexity : 1944.5826416015625\n"
     ]
    },
    {
     "name": "stderr",
     "output_type": "stream",
     "text": [
      "0it [00:00, ?it/s]"
     ]
    },
    {
     "name": "stdout",
     "output_type": "stream",
     "text": [
      "Test loss : 7.350046634674072; Test perplexity : 1714.6463623046875\n"
     ]
    },
    {
     "name": "stderr",
     "output_type": "stream",
     "text": [
      "54it [01:23,  1.54s/it]\n"
     ]
    },
    {
     "name": "stdout",
     "output_type": "stream",
     "text": [
      "Finished epoch 13; Train loss : 7.303799152374268; Train perplexity : 1659.417724609375\n"
     ]
    },
    {
     "name": "stderr",
     "output_type": "stream",
     "text": [
      "0it [00:00, ?it/s]"
     ]
    },
    {
     "name": "stdout",
     "output_type": "stream",
     "text": [
      "Test loss : 7.20182991027832; Test perplexity : 1474.99267578125\n"
     ]
    },
    {
     "name": "stderr",
     "output_type": "stream",
     "text": [
      "54it [01:23,  1.55s/it]\n"
     ]
    },
    {
     "name": "stdout",
     "output_type": "stream",
     "text": [
      "Finished epoch 14; Train loss : 7.157425403594971; Train perplexity : 1427.55419921875\n"
     ]
    },
    {
     "name": "stderr",
     "output_type": "stream",
     "text": [
      "0it [00:00, ?it/s]"
     ]
    },
    {
     "name": "stdout",
     "output_type": "stream",
     "text": [
      "Test loss : 7.061038970947266; Test perplexity : 1278.558349609375\n"
     ]
    },
    {
     "name": "stderr",
     "output_type": "stream",
     "text": [
      "54it [01:23,  1.54s/it]\n"
     ]
    },
    {
     "name": "stdout",
     "output_type": "stream",
     "text": [
      "Finished epoch 15; Train loss : 7.018373966217041; Train perplexity : 1237.5390625\n"
     ]
    },
    {
     "name": "stderr",
     "output_type": "stream",
     "text": [
      "0it [00:00, ?it/s]"
     ]
    },
    {
     "name": "stdout",
     "output_type": "stream",
     "text": [
      "Test loss : 6.927400588989258; Test perplexity : 1116.4385986328125\n"
     ]
    },
    {
     "name": "stderr",
     "output_type": "stream",
     "text": [
      "54it [01:23,  1.54s/it]\n"
     ]
    },
    {
     "name": "stdout",
     "output_type": "stream",
     "text": [
      "Finished epoch 16; Train loss : 6.886453628540039; Train perplexity : 1080.83251953125\n"
     ]
    },
    {
     "name": "stderr",
     "output_type": "stream",
     "text": [
      "0it [00:00, ?it/s]"
     ]
    },
    {
     "name": "stdout",
     "output_type": "stream",
     "text": [
      "Test loss : 6.800745487213135; Test perplexity : 981.88427734375\n"
     ]
    },
    {
     "name": "stderr",
     "output_type": "stream",
     "text": [
      "54it [01:23,  1.54s/it]\n"
     ]
    },
    {
     "name": "stdout",
     "output_type": "stream",
     "text": [
      "Finished epoch 17; Train loss : 6.761500835418701; Train perplexity : 950.8574829101562\n"
     ]
    },
    {
     "name": "stderr",
     "output_type": "stream",
     "text": [
      "0it [00:00, ?it/s]"
     ]
    },
    {
     "name": "stdout",
     "output_type": "stream",
     "text": [
      "Test loss : 6.680854797363281; Test perplexity : 869.5452270507812\n"
     ]
    },
    {
     "name": "stderr",
     "output_type": "stream",
     "text": [
      "54it [01:23,  1.54s/it]\n"
     ]
    },
    {
     "name": "stdout",
     "output_type": "stream",
     "text": [
      "Finished epoch 18; Train loss : 6.6433186531066895; Train perplexity : 842.4315795898438\n"
     ]
    },
    {
     "name": "stderr",
     "output_type": "stream",
     "text": [
      "0it [00:00, ?it/s]"
     ]
    },
    {
     "name": "stdout",
     "output_type": "stream",
     "text": [
      "Test loss : 6.567514896392822; Test perplexity : 775.22705078125\n"
     ]
    },
    {
     "name": "stderr",
     "output_type": "stream",
     "text": [
      "54it [01:22,  1.54s/it]\n"
     ]
    },
    {
     "name": "stdout",
     "output_type": "stream",
     "text": [
      "Finished epoch 19; Train loss : 6.53166389465332; Train perplexity : 751.4539184570312\n"
     ]
    },
    {
     "name": "stderr",
     "output_type": "stream",
     "text": [
      "0it [00:00, ?it/s]"
     ]
    },
    {
     "name": "stdout",
     "output_type": "stream",
     "text": [
      "Test loss : 6.460535049438477; Test perplexity : 695.6439819335938\n"
     ]
    },
    {
     "name": "stderr",
     "output_type": "stream",
     "text": [
      "54it [01:22,  1.54s/it]\n"
     ]
    },
    {
     "name": "stdout",
     "output_type": "stream",
     "text": [
      "Finished epoch 20; Train loss : 6.426285266876221; Train perplexity : 674.6880493164062\n"
     ]
    },
    {
     "name": "stderr",
     "output_type": "stream",
     "text": [
      "0it [00:00, ?it/s]"
     ]
    },
    {
     "name": "stdout",
     "output_type": "stream",
     "text": [
      "Test loss : 6.3596510887146; Test perplexity : 628.1163940429688\n"
     ]
    },
    {
     "name": "stderr",
     "output_type": "stream",
     "text": [
      "54it [01:23,  1.54s/it]\n"
     ]
    },
    {
     "name": "stdout",
     "output_type": "stream",
     "text": [
      "Finished epoch 21; Train loss : 6.326898574829102; Train perplexity : 609.545166015625\n"
     ]
    },
    {
     "name": "stderr",
     "output_type": "stream",
     "text": [
      "0it [00:00, ?it/s]"
     ]
    },
    {
     "name": "stdout",
     "output_type": "stream",
     "text": [
      "Test loss : 6.264612197875977; Test perplexity : 570.529541015625\n"
     ]
    },
    {
     "name": "stderr",
     "output_type": "stream",
     "text": [
      "54it [01:23,  1.54s/it]\n"
     ]
    },
    {
     "name": "stdout",
     "output_type": "stream",
     "text": [
      "Finished epoch 22; Train loss : 6.233246803283691; Train perplexity : 553.9794311523438\n"
     ]
    },
    {
     "name": "stderr",
     "output_type": "stream",
     "text": [
      "0it [00:00, ?it/s]"
     ]
    },
    {
     "name": "stdout",
     "output_type": "stream",
     "text": [
      "Test loss : 6.175222396850586; Test perplexity : 521.212158203125\n"
     ]
    },
    {
     "name": "stderr",
     "output_type": "stream",
     "text": [
      "54it [01:23,  1.54s/it]\n"
     ]
    },
    {
     "name": "stdout",
     "output_type": "stream",
     "text": [
      "Finished epoch 23; Train loss : 6.1450629234313965; Train perplexity : 506.3384094238281\n"
     ]
    },
    {
     "name": "stderr",
     "output_type": "stream",
     "text": [
      "0it [00:00, ?it/s]"
     ]
    },
    {
     "name": "stdout",
     "output_type": "stream",
     "text": [
      "Test loss : 6.091227054595947; Test perplexity : 478.7734680175781\n"
     ]
    },
    {
     "name": "stderr",
     "output_type": "stream",
     "text": [
      "54it [01:23,  1.54s/it]\n"
     ]
    },
    {
     "name": "stdout",
     "output_type": "stream",
     "text": [
      "Finished epoch 24; Train loss : 6.0620574951171875; Train perplexity : 465.2827453613281\n"
     ]
    },
    {
     "name": "stderr",
     "output_type": "stream",
     "text": [
      "0it [00:00, ?it/s]"
     ]
    },
    {
     "name": "stdout",
     "output_type": "stream",
     "text": [
      "Test loss : 6.012365818023682; Test perplexity : 442.0893859863281\n"
     ]
    },
    {
     "name": "stderr",
     "output_type": "stream",
     "text": [
      "54it [01:23,  1.54s/it]\n"
     ]
    },
    {
     "name": "stdout",
     "output_type": "stream",
     "text": [
      "Finished epoch 25; Train loss : 5.983906269073486; Train perplexity : 429.70806884765625\n"
     ]
    },
    {
     "name": "stderr",
     "output_type": "stream",
     "text": [
      "0it [00:00, ?it/s]"
     ]
    },
    {
     "name": "stdout",
     "output_type": "stream",
     "text": [
      "Test loss : 5.938324451446533; Test perplexity : 410.2091369628906\n"
     ]
    },
    {
     "name": "stderr",
     "output_type": "stream",
     "text": [
      "54it [01:23,  1.54s/it]\n"
     ]
    },
    {
     "name": "stdout",
     "output_type": "stream",
     "text": [
      "Finished epoch 26; Train loss : 5.910311698913574; Train perplexity : 398.72381591796875\n"
     ]
    },
    {
     "name": "stderr",
     "output_type": "stream",
     "text": [
      "0it [00:00, ?it/s]"
     ]
    },
    {
     "name": "stdout",
     "output_type": "stream",
     "text": [
      "Test loss : 5.868833065032959; Test perplexity : 382.3831481933594\n"
     ]
    },
    {
     "name": "stderr",
     "output_type": "stream",
     "text": [
      "54it [01:23,  1.54s/it]\n"
     ]
    },
    {
     "name": "stdout",
     "output_type": "stream",
     "text": [
      "Finished epoch 27; Train loss : 5.840975761413574; Train perplexity : 371.6029052734375\n"
     ]
    },
    {
     "name": "stderr",
     "output_type": "stream",
     "text": [
      "0it [00:00, ?it/s]"
     ]
    },
    {
     "name": "stdout",
     "output_type": "stream",
     "text": [
      "Test loss : 5.803590774536133; Test perplexity : 357.9749755859375\n"
     ]
    },
    {
     "name": "stderr",
     "output_type": "stream",
     "text": [
      "54it [01:23,  1.55s/it]\n"
     ]
    },
    {
     "name": "stdout",
     "output_type": "stream",
     "text": [
      "Finished epoch 28; Train loss : 5.775576591491699; Train perplexity : 347.7335510253906\n"
     ]
    },
    {
     "name": "stderr",
     "output_type": "stream",
     "text": [
      "0it [00:00, ?it/s]"
     ]
    },
    {
     "name": "stdout",
     "output_type": "stream",
     "text": [
      "Test loss : 5.742295742034912; Test perplexity : 336.46044921875\n"
     ]
    },
    {
     "name": "stderr",
     "output_type": "stream",
     "text": [
      "54it [01:23,  1.54s/it]\n"
     ]
    },
    {
     "name": "stdout",
     "output_type": "stream",
     "text": [
      "Finished epoch 29; Train loss : 5.71378231048584; Train perplexity : 326.6064147949219\n"
     ]
    },
    {
     "name": "stderr",
     "output_type": "stream",
     "text": [
      "0it [00:00, ?it/s]"
     ]
    },
    {
     "name": "stdout",
     "output_type": "stream",
     "text": [
      "Test loss : 5.684607028961182; Test perplexity : 317.3876647949219\n"
     ]
    },
    {
     "name": "stderr",
     "output_type": "stream",
     "text": [
      "54it [01:23,  1.54s/it]\n"
     ]
    },
    {
     "name": "stdout",
     "output_type": "stream",
     "text": [
      "Finished epoch 30; Train loss : 5.6552581787109375; Train perplexity : 307.7950439453125\n"
     ]
    },
    {
     "name": "stderr",
     "output_type": "stream",
     "text": [
      "0it [00:00, ?it/s]"
     ]
    },
    {
     "name": "stdout",
     "output_type": "stream",
     "text": [
      "Test loss : 5.63017463684082; Test perplexity : 300.3765563964844\n"
     ]
    },
    {
     "name": "stderr",
     "output_type": "stream",
     "text": [
      "54it [01:23,  1.54s/it]\n"
     ]
    },
    {
     "name": "stdout",
     "output_type": "stream",
     "text": [
      "Finished epoch 31; Train loss : 5.599676609039307; Train perplexity : 290.9444274902344\n"
     ]
    },
    {
     "name": "stderr",
     "output_type": "stream",
     "text": [
      "0it [00:00, ?it/s]"
     ]
    },
    {
     "name": "stdout",
     "output_type": "stream",
     "text": [
      "Test loss : 5.578688144683838; Test perplexity : 285.1205749511719\n"
     ]
    },
    {
     "name": "stderr",
     "output_type": "stream",
     "text": [
      "54it [01:22,  1.54s/it]\n"
     ]
    },
    {
     "name": "stdout",
     "output_type": "stream",
     "text": [
      "Finished epoch 32; Train loss : 5.54674768447876; Train perplexity : 275.76519775390625\n"
     ]
    },
    {
     "name": "stderr",
     "output_type": "stream",
     "text": [
      "0it [00:00, ?it/s]"
     ]
    },
    {
     "name": "stdout",
     "output_type": "stream",
     "text": [
      "Test loss : 5.529841899871826; Test perplexity : 271.3589782714844\n"
     ]
    },
    {
     "name": "stderr",
     "output_type": "stream",
     "text": [
      "54it [01:23,  1.54s/it]\n"
     ]
    },
    {
     "name": "stdout",
     "output_type": "stream",
     "text": [
      "Finished epoch 33; Train loss : 5.4961981773376465; Train perplexity : 262.0149841308594\n"
     ]
    },
    {
     "name": "stderr",
     "output_type": "stream",
     "text": [
      "0it [00:00, ?it/s]"
     ]
    },
    {
     "name": "stdout",
     "output_type": "stream",
     "text": [
      "Test loss : 5.4833831787109375; Test perplexity : 258.8816223144531\n"
     ]
    },
    {
     "name": "stderr",
     "output_type": "stream",
     "text": [
      "54it [01:23,  1.54s/it]\n"
     ]
    },
    {
     "name": "stdout",
     "output_type": "stream",
     "text": [
      "Finished epoch 34; Train loss : 5.447783946990967; Train perplexity : 249.49473571777344\n"
     ]
    },
    {
     "name": "stderr",
     "output_type": "stream",
     "text": [
      "0it [00:00, ?it/s]"
     ]
    },
    {
     "name": "stdout",
     "output_type": "stream",
     "text": [
      "Test loss : 5.439060211181641; Test perplexity : 247.51182556152344\n"
     ]
    },
    {
     "name": "stderr",
     "output_type": "stream",
     "text": [
      "54it [01:23,  1.54s/it]\n"
     ]
    },
    {
     "name": "stdout",
     "output_type": "stream",
     "text": [
      "Finished epoch 35; Train loss : 5.401291370391846; Train perplexity : 238.0397186279297\n"
     ]
    },
    {
     "name": "stderr",
     "output_type": "stream",
     "text": [
      "0it [00:00, ?it/s]"
     ]
    },
    {
     "name": "stdout",
     "output_type": "stream",
     "text": [
      "Test loss : 5.396669864654541; Test perplexity : 237.1006622314453\n"
     ]
    },
    {
     "name": "stderr",
     "output_type": "stream",
     "text": [
      "54it [01:23,  1.54s/it]\n"
     ]
    },
    {
     "name": "stdout",
     "output_type": "stream",
     "text": [
      "Finished epoch 36; Train loss : 5.356542110443115; Train perplexity : 227.5144805908203\n"
     ]
    },
    {
     "name": "stderr",
     "output_type": "stream",
     "text": [
      "0it [00:00, ?it/s]"
     ]
    },
    {
     "name": "stdout",
     "output_type": "stream",
     "text": [
      "Test loss : 5.356016635894775; Test perplexity : 227.52685546875\n"
     ]
    },
    {
     "name": "stderr",
     "output_type": "stream",
     "text": [
      "54it [01:23,  1.54s/it]\n"
     ]
    },
    {
     "name": "stdout",
     "output_type": "stream",
     "text": [
      "Finished epoch 37; Train loss : 5.31337308883667; Train perplexity : 217.80462646484375\n"
     ]
    },
    {
     "name": "stderr",
     "output_type": "stream",
     "text": [
      "0it [00:00, ?it/s]"
     ]
    },
    {
     "name": "stdout",
     "output_type": "stream",
     "text": [
      "Test loss : 5.316934585571289; Test perplexity : 218.6856231689453\n"
     ]
    },
    {
     "name": "stderr",
     "output_type": "stream",
     "text": [
      "54it [01:23,  1.54s/it]\n"
     ]
    },
    {
     "name": "stdout",
     "output_type": "stream",
     "text": [
      "Finished epoch 38; Train loss : 5.2716522216796875; Train perplexity : 208.81707763671875\n"
     ]
    },
    {
     "name": "stderr",
     "output_type": "stream",
     "text": [
      "0it [00:00, ?it/s]"
     ]
    },
    {
     "name": "stdout",
     "output_type": "stream",
     "text": [
      "Test loss : 5.279283046722412; Test perplexity : 210.4920196533203\n"
     ]
    },
    {
     "name": "stderr",
     "output_type": "stream",
     "text": [
      "54it [01:23,  1.54s/it]\n"
     ]
    },
    {
     "name": "stdout",
     "output_type": "stream",
     "text": [
      "Finished epoch 39; Train loss : 5.231265544891357; Train perplexity : 200.47189331054688\n"
     ]
    },
    {
     "name": "stderr",
     "output_type": "stream",
     "text": [
      "0it [00:00, ?it/s]"
     ]
    },
    {
     "name": "stdout",
     "output_type": "stream",
     "text": [
      "Test loss : 5.2429914474487305; Test perplexity : 202.8839874267578\n"
     ]
    },
    {
     "name": "stderr",
     "output_type": "stream",
     "text": [
      "54it [01:23,  1.54s/it]\n"
     ]
    },
    {
     "name": "stdout",
     "output_type": "stream",
     "text": [
      "Finished epoch 40; Train loss : 5.192117691040039; Train perplexity : 192.7018585205078\n"
     ]
    },
    {
     "name": "stderr",
     "output_type": "stream",
     "text": [
      "0it [00:00, ?it/s]"
     ]
    },
    {
     "name": "stdout",
     "output_type": "stream",
     "text": [
      "Test loss : 5.207911968231201; Test perplexity : 195.7905731201172\n"
     ]
    },
    {
     "name": "stderr",
     "output_type": "stream",
     "text": [
      "54it [01:23,  1.54s/it]\n"
     ]
    },
    {
     "name": "stdout",
     "output_type": "stream",
     "text": [
      "Finished epoch 41; Train loss : 5.154126167297363; Train perplexity : 185.45050048828125\n"
     ]
    },
    {
     "name": "stderr",
     "output_type": "stream",
     "text": [
      "0it [00:00, ?it/s]"
     ]
    },
    {
     "name": "stdout",
     "output_type": "stream",
     "text": [
      "Test loss : 5.17399787902832; Test perplexity : 189.1681365966797\n"
     ]
    },
    {
     "name": "stderr",
     "output_type": "stream",
     "text": [
      "54it [01:23,  1.54s/it]\n"
     ]
    },
    {
     "name": "stdout",
     "output_type": "stream",
     "text": [
      "Finished epoch 42; Train loss : 5.117212295532227; Train perplexity : 178.66702270507812\n"
     ]
    },
    {
     "name": "stderr",
     "output_type": "stream",
     "text": [
      "0it [00:00, ?it/s]"
     ]
    },
    {
     "name": "stdout",
     "output_type": "stream",
     "text": [
      "Test loss : 5.141129493713379; Test perplexity : 182.96263122558594\n"
     ]
    },
    {
     "name": "stderr",
     "output_type": "stream",
     "text": [
      "54it [01:23,  1.55s/it]\n"
     ]
    },
    {
     "name": "stdout",
     "output_type": "stream",
     "text": [
      "Finished epoch 43; Train loss : 5.0813140869140625; Train perplexity : 172.30796813964844\n"
     ]
    },
    {
     "name": "stderr",
     "output_type": "stream",
     "text": [
      "0it [00:00, ?it/s]"
     ]
    },
    {
     "name": "stdout",
     "output_type": "stream",
     "text": [
      "Test loss : 5.109298229217529; Test perplexity : 177.1468963623047\n"
     ]
    },
    {
     "name": "stderr",
     "output_type": "stream",
     "text": [
      "54it [01:23,  1.55s/it]\n"
     ]
    },
    {
     "name": "stdout",
     "output_type": "stream",
     "text": [
      "Finished epoch 44; Train loss : 5.046378135681152; Train perplexity : 166.33694458007812\n"
     ]
    },
    {
     "name": "stderr",
     "output_type": "stream",
     "text": [
      "0it [00:00, ?it/s]"
     ]
    },
    {
     "name": "stdout",
     "output_type": "stream",
     "text": [
      "Test loss : 5.078427791595459; Test perplexity : 171.6830291748047\n"
     ]
    },
    {
     "name": "stderr",
     "output_type": "stream",
     "text": [
      "54it [01:23,  1.54s/it]\n"
     ]
    },
    {
     "name": "stdout",
     "output_type": "stream",
     "text": [
      "Finished epoch 45; Train loss : 5.012355804443359; Train perplexity : 160.72067260742188\n"
     ]
    },
    {
     "name": "stderr",
     "output_type": "stream",
     "text": [
      "0it [00:00, ?it/s]"
     ]
    },
    {
     "name": "stdout",
     "output_type": "stream",
     "text": [
      "Test loss : 5.0484514236450195; Test perplexity : 166.5382080078125\n"
     ]
    },
    {
     "name": "stderr",
     "output_type": "stream",
     "text": [
      "54it [01:23,  1.54s/it]\n"
     ]
    },
    {
     "name": "stdout",
     "output_type": "stream",
     "text": [
      "Finished epoch 46; Train loss : 4.979208946228027; Train perplexity : 155.43185424804688\n"
     ]
    },
    {
     "name": "stderr",
     "output_type": "stream",
     "text": [
      "0it [00:00, ?it/s]"
     ]
    },
    {
     "name": "stdout",
     "output_type": "stream",
     "text": [
      "Test loss : 5.019322872161865; Test perplexity : 161.68682861328125\n"
     ]
    },
    {
     "name": "stderr",
     "output_type": "stream",
     "text": [
      "54it [01:23,  1.54s/it]\n"
     ]
    },
    {
     "name": "stdout",
     "output_type": "stream",
     "text": [
      "Finished epoch 47; Train loss : 4.946893215179443; Train perplexity : 150.44268798828125\n"
     ]
    },
    {
     "name": "stderr",
     "output_type": "stream",
     "text": [
      "0it [00:00, ?it/s]"
     ]
    },
    {
     "name": "stdout",
     "output_type": "stream",
     "text": [
      "Test loss : 4.991026401519775; Test perplexity : 157.10862731933594\n"
     ]
    },
    {
     "name": "stderr",
     "output_type": "stream",
     "text": [
      "54it [01:23,  1.54s/it]\n"
     ]
    },
    {
     "name": "stdout",
     "output_type": "stream",
     "text": [
      "Finished epoch 48; Train loss : 4.915380001068115; Train perplexity : 145.73126220703125\n"
     ]
    },
    {
     "name": "stderr",
     "output_type": "stream",
     "text": [
      "0it [00:00, ?it/s]"
     ]
    },
    {
     "name": "stdout",
     "output_type": "stream",
     "text": [
      "Test loss : 4.963555335998535; Test perplexity : 152.78758239746094\n"
     ]
    },
    {
     "name": "stderr",
     "output_type": "stream",
     "text": [
      "54it [01:23,  1.54s/it]\n"
     ]
    },
    {
     "name": "stdout",
     "output_type": "stream",
     "text": [
      "Finished epoch 49; Train loss : 4.884636402130127; Train perplexity : 141.27671813964844\n",
      "Test loss : 4.936820030212402; Test perplexity : 148.69618225097656\n"
     ]
    }
   ],
   "source": [
    "train_loss = []\n",
    "train_perplexity = []\n",
    "test_loss = []\n",
    "test_perplexity = []\n",
    "for epoch in range(epochs):\n",
    "    epoch_train_loss = 0\n",
    "    epoch_train_perplexity = 0\n",
    "    epoch_test_loss = 0\n",
    "    epoch_test_perplexity = 0\n",
    "    for batch_train_images, batch_train_sequences, batched_train_length in tqdm(zip(train_images,train_sequences,train_length)):\n",
    "        batched_train_loss, batched_train_perplexity = train_step(batch_train_images,batch_train_sequences,batched_train_length, optimizer)\n",
    "        epoch_train_loss+=batched_train_loss\n",
    "        epoch_train_perplexity+=batched_train_perplexity\n",
    "    epoch_train_loss = epoch_train_loss/train_images.shape[0]\n",
    "    epoch_train_perplexity = epoch_train_perplexity/train_images.shape[0]\n",
    "    train_loss.append(epoch_train_loss)\n",
    "    train_perplexity.append(epoch_train_perplexity)\n",
    "    print('Finished epoch {}; Train loss : {}; Train perplexity : {}'.format(epoch,epoch_train_loss,epoch_train_perplexity))\n",
    "    for batch_test_images, batch_test_sequences, batched_test_length in zip(test_images,test_sequences,test_length):\n",
    "        batched_test_loss, batched_test_perplexity = evaluate(batch_test_images,batch_test_sequences,batched_test_length, optimizer)\n",
    "        epoch_test_loss+=batched_test_loss\n",
    "        epoch_test_perplexity+=batched_test_perplexity\n",
    "    epoch_test_loss = epoch_test_loss/test_images.shape[0]\n",
    "    epoch_test_perplexity = epoch_test_perplexity/test_images.shape[0]\n",
    "    test_perplexity.append(epoch_test_perplexity)\n",
    "    test_loss.append(epoch_test_loss)\n",
    "    print('Test loss : {}; Test perplexity : {}'.format(epoch_test_loss,epoch_test_perplexity))\n"
   ]
  },
  {
   "cell_type": "markdown",
   "id": "aa0ec77b",
   "metadata": {},
   "source": [
    "# Viewing and saving results"
   ]
  },
  {
   "cell_type": "code",
   "execution_count": 57,
   "id": "5a62adbd",
   "metadata": {},
   "outputs": [],
   "source": [
    "df = pd.DataFrame()\n",
    "model_name = 'conv_lstm'\n",
    "df['train_perplexity_{}'.format(model_name)] = [i.numpy() for i in train_perplexity]\n",
    "df['test_perplexity_{}'.format(model_name)] = [i.numpy() for i in test_perplexity]\n",
    "df['train_loss_{}'.format(model_name)] = [i.numpy() for i in train_loss]\n",
    "df['test_loss_{}'.format(model_name)] = [i.numpy() for i in test_loss]\n",
    "df.to_csv('{}_logs.csv'.format(model_name),index=False)"
   ]
  },
  {
   "cell_type": "code",
   "execution_count": 58,
   "id": "4c64a1ec",
   "metadata": {},
   "outputs": [],
   "source": [
    "import matplotlib.pyplot as plt\n",
    "import seaborn as sns\n",
    "sns.set()"
   ]
  },
  {
   "cell_type": "code",
   "execution_count": 59,
   "id": "f7e2960e",
   "metadata": {},
   "outputs": [
    {
     "data": {
      "image/png": "[encoded data removed]",
      "text/plain": [
       "<Figure size 1080x864 with 1 Axes>"
      ]
     },
     "metadata": {},
     "output_type": "display_data"
    }
   ],
   "source": [
    "plt.figure(figsize=(15,12))\n",
    "plt.title('Perplexity results')\n",
    "plt.plot(df['train_perplexity_{}'.format(model_name)])\n",
    "plt.plot(df['test_perplexity_{}'.format(model_name)])\n",
    "plt.xlabel('Epochs')\n",
    "plt.ylabel('Perplexity')\n",
    "plt.yticks(np.arange(min(df['train_perplexity_{}'.format(model_name)]), max(df['train_perplexity_{}'.format(model_name)]),5000))\n",
    "plt.legend(['Train', 'Test']);"
   ]
  },
  {
   "cell_type": "code",
   "execution_count": 60,
   "id": "2f86e197",
   "metadata": {},
   "outputs": [
    {
     "data": {
      "image/png": "[encoded data removed]",
      "text/plain": [
       "<Figure size 1080x864 with 1 Axes>"
      ]
     },
     "metadata": {},
     "output_type": "display_data"
    }
   ],
   "source": [
    "plt.figure(figsize=(15,12))\n",
    "plt.title('Loss results')\n",
    "plt.plot(df['train_loss_{}'.format(model_name)])\n",
    "plt.plot(df['test_loss_{}'.format(model_name)])\n",
    "plt.xlabel('Epochs')\n",
    "plt.ylabel('Loss')\n",
    "plt.yticks(np.arange(min(df['train_loss_{}'.format(model_name)]),max(df['train_loss_{}'.format(model_name)]),0.1));"
   ]
  },
  {
   "cell_type": "markdown",
   "id": "f0d2be3f",
   "metadata": {},
   "source": [
    "# Testing model"
   ]
  },
  {
   "cell_type": "code",
   "execution_count": 61,
   "id": "644d4fab",
   "metadata": {},
   "outputs": [],
   "source": [
    "import matplotlib.pyplot as plt\n",
    "import seaborn as sns"
   ]
  },
  {
   "cell_type": "code",
   "execution_count": 62,
   "id": "9b6a2ac9",
   "metadata": {},
   "outputs": [],
   "source": [
    "class Decoder:\n",
    "    def __init__(self, encoder: tf.keras.Model,\n",
    "                 decoder: tf.keras.Model,\n",
    "                 start_token: int,\n",
    "                 end_token: int,\n",
    "                 max_len: int = 10, ):\n",
    "        self.encoder = encoder\n",
    "        self.decoder = decoder\n",
    "        self.max_len = max_len\n",
    "        self.start_token = start_token\n",
    "        self.end_token = end_token\n",
    "\n",
    "    def decode(self, input):\n",
    "        pass\n",
    "\n",
    "\n",
    "class GreedyDecoder(Decoder):\n",
    "    def __init__(self, encoder: tf.keras.Model,\n",
    "                 decoder: tf.keras.Model,\n",
    "                 start_token: int,\n",
    "                 end_token: int,\n",
    "                 max_len: int = 10,\n",
    "                 ):\n",
    "        super().__init__(encoder,\n",
    "                         decoder,\n",
    "                         start_token,\n",
    "                         end_token,\n",
    "                         max_len\n",
    "                         )\n",
    "\n",
    "    def decode(self, input, max_len_output=50):\n",
    "        initial_state = self.encoder(np.expand_dims(input, axis=0))\n",
    "\n",
    "        target_seq = np.zeros((1, 1))\n",
    "        target_seq[0, 0] = self.start_token\n",
    "\n",
    "        res = []\n",
    "        while True:\n",
    "            # Sample a token\n",
    "            output, initial_state = self.decoder(target_seq,initial_state)\n",
    "            sampled_token_index = np.argmax(output)\n",
    "\n",
    "            if len(res) > max_len_output or sampled_token_index == self.end_token:\n",
    "                break\n",
    "\n",
    "            res.append(sampled_token_index)\n",
    "\n",
    "            target_seq = np.zeros((1, 1))\n",
    "            target_seq[0, 0] = sampled_token_index\n",
    "\n",
    "       \n",
    "        return res\n"
   ]
  },
  {
   "cell_type": "code",
   "execution_count": 63,
   "id": "dabdd561",
   "metadata": {},
   "outputs": [],
   "source": [
    "class BeamSearchDecoder(Decoder):\n",
    "    def __init__(self, encoder: tf.keras.Model,\n",
    "                 decoder: tf.keras.Model,\n",
    "                 start_token: int,\n",
    "                 end_token: int,\n",
    "                 max_len: int = 10,\n",
    "                 ):\n",
    "        super().__init__(encoder,\n",
    "                         decoder,\n",
    "                         start_token,\n",
    "                         end_token,\n",
    "                         max_len\n",
    "                         )\n",
    "\n",
    "    def decode(self, input, beam_size=3):\n",
    "        start = [self.start_token]\n",
    "        initial_state = self.encoder(np.expand_dims(input,axis=0))\n",
    "\n",
    "\n",
    "        start_word = [[start, 0.0, initial_state]]\n",
    "\n",
    "        while len(start_word[0][0]) < self.max_len:\n",
    "            temp = []\n",
    "            for s in start_word:\n",
    "                target_seq = np.array([[s[0][-1]]])\n",
    "                initial_state = s[-1]\n",
    "                output, initial_state= self.decoder(target_seq, initial_state)\n",
    "                output = np.hstack(output)\n",
    "                output = tf.nn.softmax(output).numpy()\n",
    "                word_preds = np.argsort(output)[-beam_size:]\n",
    "\n",
    "                for w in word_preds:\n",
    "                    next_cap, prob = s[0][:], s[1]\n",
    "                    next_cap.append(w)\n",
    "                    prob += output[w]\n",
    "                    temp.append([next_cap, prob, initial_state])\n",
    "\n",
    "            start_word = temp\n",
    "            # Sorting according to the probabilities\n",
    "            start_word = sorted(start_word, reverse=False, key=lambda l: l[1])\n",
    "            # Getting the top words\n",
    "            start_word = start_word[-beam_size:]\n",
    "\n",
    "        start_word = start_word[-1][0]\n",
    "\n",
    "        final_caption = []\n",
    "\n",
    "        for i in start_word:\n",
    "            if i != self.end_token:\n",
    "                final_caption.append(i)\n",
    "            else:\n",
    "                break\n",
    "        return final_caption[1:]"
   ]
  },
  {
   "cell_type": "code",
   "execution_count": 64,
   "id": "2d17b3d7",
   "metadata": {},
   "outputs": [],
   "source": [
    "def predict(data, decoder, inverse_vocab,\n",
    "           beam_size=None):\n",
    "    if beam_size:\n",
    "        result = decoder.decode(data, beam_size=beam_size)\n",
    "    else:\n",
    "        result = decoder.decode(data)\n",
    "    return ' '.join([inverse_vocab[i] for i in result])"
   ]
  },
  {
   "cell_type": "code",
   "execution_count": 65,
   "id": "5dad2e7c",
   "metadata": {},
   "outputs": [],
   "source": [
    "greedy_decoder = GreedyDecoder(conv_encoder, lstm_decoder, vocab[start_token], vocab[end_token],\n",
    "             max_len=39)"
   ]
  },
  {
   "cell_type": "code",
   "execution_count": 66,
   "id": "87a8235a",
   "metadata": {},
   "outputs": [],
   "source": [
    "beam_decoder = BeamSearchDecoder(conv_encoder, lstm_decoder, vocab[start_token], vocab[end_token],\n",
    "             max_len=39)"
   ]
  },
  {
   "cell_type": "code",
   "execution_count": 67,
   "id": "525d0449",
   "metadata": {},
   "outputs": [
    {
     "data": {
      "text/plain": [
       "(3840, 224, 224, 3)"
      ]
     },
     "execution_count": 67,
     "metadata": {},
     "output_type": "execute_result"
    }
   ],
   "source": [
    "images.shape"
   ]
  },
  {
   "cell_type": "code",
   "execution_count": 78,
   "id": "47360305",
   "metadata": {},
   "outputs": [],
   "source": [
    "sample = np.random.choice(range(len(images)))\n",
    "sample = images[sample]"
   ]
  },
  {
   "cell_type": "code",
   "execution_count": 79,
   "id": "7450822e",
   "metadata": {},
   "outputs": [
    {
     "data": {
      "image/png": "[encoded data removed]",
      "text/plain": [
       "<Figure size 576x576 with 1 Axes>"
      ]
     },
     "metadata": {},
     "output_type": "display_data"
    }
   ],
   "source": [
    "plt.figure(figsize=(8,8))\n",
    "plt.imshow(sample)\n",
    "plt.grid([])\n",
    "plt.axis('off');"
   ]
  },
  {
   "cell_type": "code",
   "execution_count": 80,
   "id": "4d84d59a",
   "metadata": {},
   "outputs": [
    {
     "data": {
      "text/plain": [
       "'happy and a a man looks and a a a man looks and and a a and a man looks and and a and a woman looks and and a'"
      ]
     },
     "execution_count": 80,
     "metadata": {},
     "output_type": "execute_result"
    }
   ],
   "source": [
    "predict(sample, greedy_decoder, inverse_vocab)"
   ]
  },
  {
   "cell_type": "code",
   "execution_count": 81,
   "id": "7e7e5b9b",
   "metadata": {},
   "outputs": [
    {
     "data": {
      "text/plain": [
       "', and and a looks and a a man looks and looks and looks and , and a a man and woman looks and looks and , and to a and a woman'"
      ]
     },
     "execution_count": 81,
     "metadata": {},
     "output_type": "execute_result"
    }
   ],
   "source": [
    "predict(sample, beam_decoder, inverse_vocab, beam_size=12)"
   ]
  },
  {
   "cell_type": "markdown",
   "id": "9f2d6820",
   "metadata": {},
   "source": [
    "# Blue score calculation"
   ]
  },
  {
   "cell_type": "code",
   "execution_count": 72,
   "id": "40255b91",
   "metadata": {},
   "outputs": [],
   "source": [
    "from nltk.translate.bleu_score import sentence_bleu\n"
   ]
  },
  {
   "cell_type": "markdown",
   "id": "f4da50d3",
   "metadata": {},
   "source": [
    "### making predictions on test dataset with beam_size of 5"
   ]
  },
  {
   "cell_type": "code",
   "execution_count": 73,
   "id": "6a9a044c",
   "metadata": {},
   "outputs": [
    {
     "name": "stderr",
     "output_type": "stream",
     "text": [
      "100%|██████████| 6/6 [06:51<00:00, 68.57s/it]\n"
     ]
    }
   ],
   "source": [
    "test_predictions = []\n",
    "for batch in tqdm(test_images):\n",
    "    for image in batch:\n",
    "        result = predict(image, beam_decoder, inverse_vocab, beam_size=5)\n",
    "        test_predictions.append(result)"
   ]
  },
  {
   "cell_type": "code",
   "execution_count": 74,
   "id": "a8e18d06",
   "metadata": {},
   "outputs": [],
   "source": [
    "test_predictions = [i.split(' ') for i in test_predictions]"
   ]
  },
  {
   "cell_type": "code",
   "execution_count": 75,
   "id": "3d56df93",
   "metadata": {},
   "outputs": [],
   "source": [
    "reshaped_sequences = test_sequences.reshape(test_sequences.shape[0]*test_sequences.shape[1],-1)"
   ]
  },
  {
   "cell_type": "code",
   "execution_count": 76,
   "id": "a34cea19",
   "metadata": {},
   "outputs": [],
   "source": [
    "test_sentences = []\n",
    "for i in reshaped_sequences:\n",
    "    tmp = []\n",
    "    for word in i:\n",
    "        if word!=0 and word!=1 and word!=2:\n",
    "            tmp.append(inverse_vocab[word])\n",
    "    test_sentences.append(tmp)"
   ]
  },
  {
   "cell_type": "code",
   "execution_count": 77,
   "id": "2a51c689",
   "metadata": {},
   "outputs": [
    {
     "name": "stdout",
     "output_type": "stream",
     "text": [
      "Bleu score on test data : 2.7936917791942035e-155\n"
     ]
    },
    {
     "name": "stderr",
     "output_type": "stream",
     "text": [
      "/home/ec2-user/anaconda3/envs/amazonei_tensorflow2_p36/lib/python3.6/site-packages/nltk/translate/bleu_score.py:523: UserWarning: \n",
      "The hypothesis contains 0 counts of 2-gram overlaps.\n",
      "Therefore the BLEU score evaluates to 0, independently of\n",
      "how many N-gram overlaps of lower order it contains.\n",
      "Consider using lower n-gram order or use SmoothingFunction()\n",
      "  warnings.warn(_msg)\n"
     ]
    }
   ],
   "source": [
    "bleu_score = []\n",
    "for reference, prediction in zip(test_sentences, test_predictions):\n",
    "    bleu_score.append(sentence_bleu(reference, prediction, weights=(0.5,0.5)))\n",
    "print('Bleu score on test data : {}'.format(np.mean(bleu_score)))"
   ]
  },
  {
   "cell_type": "markdown",
   "id": "9d7abbab",
   "metadata": {},
   "source": [
    "### making predictions on test dataset with beam_size of 10"
   ]
  },
  {
   "cell_type": "code",
   "execution_count": 93,
   "id": "1e26ba63",
   "metadata": {},
   "outputs": [
    {
     "name": "stderr",
     "output_type": "stream",
     "text": [
      "100%|██████████| 6/6 [13:58<00:00, 139.70s/it]\n"
     ]
    }
   ],
   "source": [
    "test_predictions = []\n",
    "for batch in tqdm(test_images):\n",
    "    for image in batch:\n",
    "        result = predict(image, beam_decoder, inverse_vocab, beam_size=10)\n",
    "        test_predictions.append(result)"
   ]
  },
  {
   "cell_type": "code",
   "execution_count": 94,
   "id": "bf234959",
   "metadata": {},
   "outputs": [],
   "source": [
    "test_predictions = [i.split(' ') for i in test_predictions]"
   ]
  },
  {
   "cell_type": "code",
   "execution_count": 95,
   "id": "c0f17d93",
   "metadata": {},
   "outputs": [
    {
     "name": "stdout",
     "output_type": "stream",
     "text": [
      "Bleu score on test data : 4.368370909805482e-232\n"
     ]
    }
   ],
   "source": [
    "bleu_score = []\n",
    "for reference, prediction in zip(test_sentences, test_predictions):\n",
    "    bleu_score.append(sentence_bleu(reference, prediction))\n",
    "print('Bleu score on test data : {}'.format(np.mean(bleu_score)))"
   ]
  },
  {
   "cell_type": "code",
   "execution_count": null,
   "id": "e8790831",
   "metadata": {},
   "outputs": [],
   "source": []
  }
 ],
 "metadata": {
  "kernelspec": {
   "display_name": "conda_amazonei_tensorflow2_p36",
   "language": "python",
   "name": "conda_amazonei_tensorflow2_p36"
  },
  "language_info": {
   "codemirror_mode": {
    "name": "ipython",
    "version": 3
   },
   "file_extension": ".py",
   "mimetype": "text/x-python",
   "name": "python",
   "nbconvert_exporter": "python",
   "pygments_lexer": "ipython3",
   "version": "3.6.13"
  }
 },
 "nbformat": 4,
 "nbformat_minor": 5
}
