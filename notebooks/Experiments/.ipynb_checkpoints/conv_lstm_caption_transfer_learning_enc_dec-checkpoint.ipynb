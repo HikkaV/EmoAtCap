{
 "cells": [
  {
   "cell_type": "code",
   "execution_count": 1,
   "id": "9425ce3b",
   "metadata": {},
   "outputs": [],
   "source": [
    "import tensorflow as tf"
   ]
  },
  {
   "cell_type": "code",
   "execution_count": 2,
   "id": "322f7870",
   "metadata": {},
   "outputs": [],
   "source": [
    "import pandas as pd\n",
    "import os\n",
    "import numpy as np\n",
    "from sklearn.utils import class_weight\n",
    "from keras_preprocessing import image as im\n",
    "tf.random.set_seed(\n",
    "    5\n",
    ")"
   ]
  },
  {
   "cell_type": "markdown",
   "id": "98647975",
   "metadata": {},
   "source": [
    "# Loading data"
   ]
  },
  {
   "cell_type": "code",
   "execution_count": 3,
   "id": "975d8593",
   "metadata": {},
   "outputs": [],
   "source": [
    "def load_data(image_path, annotations_path):\n",
    "    df = pd.read_csv(annotations_path)\n",
    "    df = df[~df['human_sentiment'].isna()]\n",
    "    in_folder = os.listdir(image_path)\n",
    "    df.loc[df['image_name'].isin(in_folder), 'image_name'] = \\\n",
    "    df.loc[df['image_name'].isin(in_folder), 'image_name'].apply(lambda x: os.path.join(image_path,x))\n",
    "    images = []\n",
    "    for image_name in df['image_name'].values:\n",
    "        images.append(np.array(im.load_img(image_name, target_size=(224,224))))\n",
    "    images = np.array(images)\n",
    "    images = images/255\n",
    "    annotations = df['annotation'].str.lower().values\n",
    "    return images, annotations"
   ]
  },
  {
   "cell_type": "code",
   "execution_count": 4,
   "id": "bd651bba",
   "metadata": {},
   "outputs": [],
   "source": [
    "images, annotations = load_data(\"../../../images/\", '../../../emo-at-cap.csv')"
   ]
  },
  {
   "cell_type": "markdown",
   "id": "1f09141c",
   "metadata": {},
   "source": [
    "# Processing of data"
   ]
  },
  {
   "cell_type": "code",
   "execution_count": 5,
   "id": "5720c7e2",
   "metadata": {},
   "outputs": [],
   "source": [
    "import nltk"
   ]
  },
  {
   "cell_type": "code",
   "execution_count": 6,
   "id": "0df1cc0d",
   "metadata": {},
   "outputs": [],
   "source": [
    "tokenizer = nltk.tokenize.WordPunctTokenizer()"
   ]
  },
  {
   "cell_type": "code",
   "execution_count": 7,
   "id": "f0e7f77c",
   "metadata": {},
   "outputs": [],
   "source": [
    "tokenized = [tokenizer.tokenize(i) for i in annotations]"
   ]
  },
  {
   "cell_type": "code",
   "execution_count": 8,
   "id": "725e9f2f",
   "metadata": {},
   "outputs": [],
   "source": [
    "unique_tokens, unique_counts = np.unique(np.hstack(tokenized), return_counts=True)"
   ]
  },
  {
   "cell_type": "code",
   "execution_count": 9,
   "id": "c4a6d5b5",
   "metadata": {},
   "outputs": [
    {
     "name": "stderr",
     "output_type": "stream",
     "text": [
      "/home/ec2-user/anaconda3/envs/amazonei_tensorflow2_p36/lib/python3.6/site-packages/sklearn/utils/validation.py:72: FutureWarning: Pass classes=[\"'\" ',' '-' ... 'youth' 'исходный' 'текст'], y=['the' 'man' 'is' ... 'with' 'some' 'clothes'] as keyword args. From version 1.0 (renaming of 0.25) passing these as positional arguments will result in an error\n",
      "  \"will result in an error\", FutureWarning)\n"
     ]
    }
   ],
   "source": [
    "class_weights = class_weight.compute_class_weight('balanced', np.unique(np.hstack(tokenized)), np.hstack(tokenized))"
   ]
  },
  {
   "cell_type": "code",
   "execution_count": 10,
   "id": "fef24ceb",
   "metadata": {},
   "outputs": [],
   "source": [
    "frequency = sorted(list(zip(unique_tokens, unique_counts)), key = lambda x: x[1])[::-1][:50]"
   ]
  },
  {
   "cell_type": "code",
   "execution_count": 11,
   "id": "90488256",
   "metadata": {},
   "outputs": [
    {
     "data": {
      "text/plain": [
       "[('the', 3261),\n",
       " ('is', 2031),\n",
       " ('man', 1905),\n",
       " ('and', 1536),\n",
       " ('woman', 1361),\n",
       " ('are', 1036),\n",
       " ('a', 963),\n",
       " ('to', 891),\n",
       " ('looks', 751),\n",
       " ('happy', 705),\n",
       " ('with', 547),\n",
       " ('something', 480),\n",
       " ('men', 478),\n",
       " ('of', 463),\n",
       " ('two', 408),\n",
       " ('other', 361),\n",
       " ('people', 343),\n",
       " ('couple', 334),\n",
       " (',', 330),\n",
       " ('in', 278),\n",
       " ('look', 270),\n",
       " ('because', 265),\n",
       " ('they', 256),\n",
       " ('about', 247),\n",
       " ('on', 246),\n",
       " ('at', 192),\n",
       " ('trying', 190),\n",
       " ('serious', 189),\n",
       " ('women', 184),\n",
       " ('each', 179),\n",
       " ('together', 176),\n",
       " ('by', 175),\n",
       " ('having', 171),\n",
       " ('flirting', 165),\n",
       " ('he', 155),\n",
       " ('smiling', 151),\n",
       " ('arguing', 141),\n",
       " ('angry', 140),\n",
       " ('scared', 138),\n",
       " ('worried', 137),\n",
       " ('hugging', 135),\n",
       " ('surprised', 134),\n",
       " ('calm', 133),\n",
       " ('company', 131),\n",
       " ('her', 129),\n",
       " ('group', 123),\n",
       " ('for', 121),\n",
       " ('she', 117),\n",
       " ('looking', 117),\n",
       " ('his', 115)]"
      ]
     },
     "execution_count": 11,
     "metadata": {},
     "output_type": "execute_result"
    }
   ],
   "source": [
    "frequency"
   ]
  },
  {
   "cell_type": "code",
   "execution_count": 12,
   "id": "94378d66",
   "metadata": {},
   "outputs": [
    {
     "data": {
      "text/plain": [
       "2162"
      ]
     },
     "execution_count": 12,
     "metadata": {},
     "output_type": "execute_result"
    }
   ],
   "source": [
    "len(unique_tokens)"
   ]
  },
  {
   "cell_type": "code",
   "execution_count": 13,
   "id": "1936adeb",
   "metadata": {},
   "outputs": [],
   "source": [
    "pad_token = '<PAD>'\n",
    "start_token = '<S>'\n",
    "end_token = '<E>'"
   ]
  },
  {
   "cell_type": "code",
   "execution_count": 14,
   "id": "1d8c73ab",
   "metadata": {},
   "outputs": [],
   "source": [
    "vocab = dict(zip(unique_tokens,list(range(3,len(unique_tokens)+3))))\n",
    "vocab[pad_token] = 0\n",
    "vocab[start_token] = 1\n",
    "vocab[end_token] = 2"
   ]
  },
  {
   "cell_type": "code",
   "execution_count": 15,
   "id": "fdc0b03e",
   "metadata": {},
   "outputs": [],
   "source": [
    "inverse_vocab = dict([(v,k) for k,v in vocab.items()])"
   ]
  },
  {
   "cell_type": "code",
   "execution_count": 16,
   "id": "407c3382",
   "metadata": {},
   "outputs": [],
   "source": [
    "add_special_tokens = lambda x: [start_token] + x + [end_token]"
   ]
  },
  {
   "cell_type": "code",
   "execution_count": 17,
   "id": "e7331949",
   "metadata": {},
   "outputs": [],
   "source": [
    "tokenized_prepared = list(map(add_special_tokens,tokenized))"
   ]
  },
  {
   "cell_type": "code",
   "execution_count": 18,
   "id": "d294ced2",
   "metadata": {},
   "outputs": [],
   "source": [
    "max_len = len(max(tokenized_prepared, key=len))"
   ]
  },
  {
   "cell_type": "code",
   "execution_count": 19,
   "id": "6e8685fa",
   "metadata": {},
   "outputs": [],
   "source": [
    "indexed = list(map(lambda x: [vocab[i] for i in x],tokenized_prepared))"
   ]
  },
  {
   "cell_type": "code",
   "execution_count": 20,
   "id": "0dd260b6",
   "metadata": {},
   "outputs": [],
   "source": [
    "padded = tf.keras.preprocessing.sequence.pad_sequences(indexed, truncating='post')"
   ]
  },
  {
   "cell_type": "code",
   "execution_count": 21,
   "id": "b4348071",
   "metadata": {},
   "outputs": [
    {
     "data": {
      "text/plain": [
       "(3840, 224, 224, 3)"
      ]
     },
     "execution_count": 21,
     "metadata": {},
     "output_type": "execute_result"
    }
   ],
   "source": [
    "images.shape"
   ]
  },
  {
   "cell_type": "code",
   "execution_count": 22,
   "id": "205f739d",
   "metadata": {},
   "outputs": [
    {
     "data": {
      "text/plain": [
       "2162"
      ]
     },
     "execution_count": 22,
     "metadata": {},
     "output_type": "execute_result"
    }
   ],
   "source": [
    "len(class_weights)"
   ]
  },
  {
   "cell_type": "code",
   "execution_count": 23,
   "id": "3c7d8f07",
   "metadata": {},
   "outputs": [],
   "source": [
    "class_weights = list(class_weights)\n",
    "class_weights.insert(0, 1)\n",
    "class_weights.insert(1, 1)\n",
    "class_weights.insert(2, 1)"
   ]
  },
  {
   "cell_type": "code",
   "execution_count": 24,
   "id": "df154551",
   "metadata": {},
   "outputs": [
    {
     "data": {
      "text/plain": [
       "(2165, 2165)"
      ]
     },
     "execution_count": 24,
     "metadata": {},
     "output_type": "execute_result"
    }
   ],
   "source": [
    "len(class_weights), len(vocab)"
   ]
  },
  {
   "cell_type": "code",
   "execution_count": 25,
   "id": "ed24d634",
   "metadata": {},
   "outputs": [
    {
     "data": {
      "text/plain": [
       "[1, 1, 1, 0.21013259327782918]"
      ]
     },
     "execution_count": 25,
     "metadata": {},
     "output_type": "execute_result"
    }
   ],
   "source": [
    "class_weights[:4]"
   ]
  },
  {
   "cell_type": "code",
   "execution_count": 26,
   "id": "f9f8269b",
   "metadata": {},
   "outputs": [],
   "source": [
    "class_weights = np.array(class_weights)"
   ]
  },
  {
   "cell_type": "code",
   "execution_count": 27,
   "id": "40570935",
   "metadata": {},
   "outputs": [
    {
     "data": {
      "text/plain": [
       "(2165,)"
      ]
     },
     "execution_count": 27,
     "metadata": {},
     "output_type": "execute_result"
    }
   ],
   "source": [
    "class_weights.shape"
   ]
  },
  {
   "cell_type": "markdown",
   "id": "59f1cc66",
   "metadata": {},
   "source": [
    "# Model with transfer learning"
   ]
  },
  {
   "cell_type": "code",
   "execution_count": 28,
   "id": "33d0bc2b",
   "metadata": {},
   "outputs": [],
   "source": [
    "def calc_size(x, f, s, padding='same'):\n",
    "    p = 2 if padding=='same' else 1\n",
    "    return (x-f+2)/s+1"
   ]
  },
  {
   "cell_type": "markdown",
   "id": "5cd0c25a",
   "metadata": {},
   "source": [
    "### Convolutional model"
   ]
  },
  {
   "cell_type": "code",
   "execution_count": 29,
   "id": "4b2e7f37",
   "metadata": {},
   "outputs": [],
   "source": [
    "import tensorflow.keras.applications as apps\n"
   ]
  },
  {
   "cell_type": "code",
   "execution_count": 31,
   "id": "6f1281a6",
   "metadata": {},
   "outputs": [],
   "source": [
    "class ConvEncoder(tf.keras.Model):\n",
    "    def __init__(self, trainable=False, n_finetune=5):\n",
    "        super(ConvEncoder, self).__init__()\n",
    "        #building resnet\n",
    "        resnet = apps.ResNet152V2(include_top=False, weights='imagenet')\n",
    "        outputs = [i for i in resnet.layers if i.name=='conv4_block5_out'][0]\n",
    "        inputs = resnet.layers[0]\n",
    "        self.resnet_extractor = tf.keras.models.Model(inputs=inputs.input, outputs=outputs.output)\n",
    "        if trainable and n_finetune:\n",
    "            for layer in self.resnet_extractor.layers[:-n_finetune]:\n",
    "                layer.trainable = False\n",
    "        else:\n",
    "            self.resnet_extractor.trainable = trainable\n",
    "        \n",
    "        #batch norm\n",
    "        self.batch_norm1 =  tf.keras.layers.BatchNormalization()\n",
    "        self.batch_norm2 =  tf.keras.layers.BatchNormalization()\n",
    "        self.batch_norm3 =  tf.keras.layers.BatchNormalization()\n",
    "        #dropout\n",
    "        self.dropout = tf.keras.layers.Dropout(0.1)\n",
    "        \n",
    "        #on top extractors \n",
    "        self.conv1 = tf.keras.layers.Conv2D(filters=1024, kernel_size=7, activation='relu',\n",
    "                               padding='same', name='conv1', strides=(2,2))\n",
    "        self.conv2 = tf.keras.layers.Conv2D(filters=1024, kernel_size=5, activation='relu',\n",
    "                                       padding='same', name='conv2', strides=(2,2))\n",
    "        self.conv3 = tf.keras.layers.Conv2D(filters=512, kernel_size=4, activation='relu',\n",
    "                                       padding='same', name='conv3', strides=(2,2))\n",
    "        self.conv4 = tf.keras.layers.Conv2D(filters=512, kernel_size=1, activation='relu',\n",
    "                                       padding='same', name='conv4', strides=(2,2))\n",
    "        \n",
    "        self.conv5 = tf.keras.layers.Conv2D(filters=512, kernel_size=1, activation='relu',\n",
    "                                       padding='same', name='conv5', strides=(2,2))\n",
    "        self.flatten = tf.keras.layers.Flatten()\n",
    "        \n",
    "    def call(self, input):\n",
    "        resnet_features = self.resnet_extractor(input)\n",
    "        conv1_out = self.batch_norm1(self.conv1(resnet_features))\n",
    "        conv2_out = self.batch_norm2(self.conv2(conv1_out))\n",
    "        conv3_out = self.batch_norm3(self.conv3(conv2_out))\n",
    "        conv4_out = self.conv4(conv3_out)\n",
    "        conv5_out = self.conv5(conv3_out)\n",
    "        return [self.dropout(self.flatten(conv4_out)), self.dropout(self.flatten(conv5_out))]"
   ]
  },
  {
   "cell_type": "code",
   "execution_count": 32,
   "id": "6c827a7f",
   "metadata": {},
   "outputs": [],
   "source": [
    "conv_encoder = ConvEncoder(trainable=True, n_finetune=5)"
   ]
  },
  {
   "cell_type": "code",
   "execution_count": 33,
   "id": "90495054",
   "metadata": {},
   "outputs": [
    {
     "name": "stdout",
     "output_type": "stream",
     "text": [
      "WARNING:tensorflow:Layer conv_encoder is casting an input tensor from dtype float64 to the layer's dtype of float32, which is new behavior in TensorFlow 2.  The layer has dtype float32 because its dtype defaults to floatx.\n",
      "\n",
      "If you intended to run this layer in float32, you can safely ignore this warning. If in doubt, this warning is likely only an issue if you are porting a TensorFlow 1.X model to TensorFlow 2.\n",
      "\n",
      "To change all layers to have dtype float64 by default, call `tf.keras.backend.set_floatx('float64')`. To change just this layer, pass dtype='float64' to the layer constructor. If you are the author of this layer, you can disable autocasting by passing autocast=False to the base Layer constructor.\n",
      "\n"
     ]
    }
   ],
   "source": [
    "conv_res = conv_encoder(np.expand_dims(images[0],axis=0))"
   ]
  },
  {
   "cell_type": "code",
   "execution_count": 34,
   "id": "0a92d5cb",
   "metadata": {},
   "outputs": [
    {
     "data": {
      "text/plain": [
       "[<tf.Tensor: shape=(1, 512), dtype=float32, numpy=\n",
       " array([[0.02924642, 0.        , 0.        , 0.        , 0.10911995,\n",
       "         0.        , 0.        , 0.18338934, 0.05146744, 0.        ,\n",
       "         0.        , 0.        , 0.        , 0.16736335, 0.        ,\n",
       "         0.        , 0.09801978, 0.        , 0.        , 0.        ,\n",
       "         0.08093571, 0.        , 0.03379763, 0.02492007, 0.00236885,\n",
       "         0.        , 0.        , 0.0740217 , 0.        , 0.04225038,\n",
       "         0.04008117, 0.        , 0.        , 0.04454731, 0.16968551,\n",
       "         0.        , 0.12434446, 0.        , 0.02732593, 0.22684915,\n",
       "         0.14309222, 0.        , 0.        , 0.        , 0.        ,\n",
       "         0.        , 0.        , 0.03381285, 0.        , 0.2377917 ,\n",
       "         0.        , 0.06482898, 0.12469408, 0.07052656, 0.        ,\n",
       "         0.12978508, 0.12018974, 0.        , 0.09330165, 0.        ,\n",
       "         0.        , 0.14704132, 0.21045415, 0.        , 0.04664548,\n",
       "         0.09444183, 0.17320187, 0.26384944, 0.        , 0.24445231,\n",
       "         0.        , 0.14552796, 0.        , 0.00481588, 0.        ,\n",
       "         0.        , 0.04990786, 0.        , 0.10580807, 0.02813936,\n",
       "         0.        , 0.        , 0.        , 0.06212923, 0.        ,\n",
       "         0.        , 0.22139235, 0.10341942, 0.00393811, 0.04109482,\n",
       "         0.09885069, 0.13206269, 0.01477939, 0.        , 0.06898543,\n",
       "         0.00640286, 0.08503278, 0.        , 0.        , 0.        ,\n",
       "         0.19583878, 0.06428872, 0.16092592, 0.0019942 , 0.        ,\n",
       "         0.00318899, 0.00974144, 0.1304816 , 0.        , 0.06619066,\n",
       "         0.        , 0.066764  , 0.02873677, 0.        , 0.        ,\n",
       "         0.0637258 , 0.        , 0.        , 0.00671536, 0.12630066,\n",
       "         0.        , 0.07399755, 0.        , 0.1643165 , 0.        ,\n",
       "         0.08272818, 0.        , 0.10260881, 0.        , 0.3258604 ,\n",
       "         0.        , 0.07624793, 0.02733771, 0.        , 0.        ,\n",
       "         0.        , 0.        , 0.        , 0.        , 0.01388429,\n",
       "         0.04395809, 0.08292234, 0.        , 0.        , 0.        ,\n",
       "         0.05076347, 0.13118997, 0.13411394, 0.0160207 , 0.08303495,\n",
       "         0.        , 0.        , 0.09124269, 0.        , 0.20940909,\n",
       "         0.05446469, 0.10312579, 0.15133967, 0.03100568, 0.03530316,\n",
       "         0.11614145, 0.        , 0.04823127, 0.00167897, 0.06909055,\n",
       "         0.22831868, 0.        , 0.04846091, 0.        , 0.        ,\n",
       "         0.08742131, 0.01915775, 0.15326624, 0.        , 0.        ,\n",
       "         0.22226638, 0.0057127 , 0.        , 0.16920637, 0.        ,\n",
       "         0.        , 0.        , 0.        , 0.10477593, 0.02530984,\n",
       "         0.        , 0.        , 0.        , 0.11666563, 0.04467868,\n",
       "         0.10812409, 0.        , 0.07482322, 0.        , 0.        ,\n",
       "         0.        , 0.13605657, 0.        , 0.21939877, 0.        ,\n",
       "         0.11307999, 0.        , 0.        , 0.006923  , 0.        ,\n",
       "         0.0998972 , 0.03237242, 0.        , 0.01920678, 0.        ,\n",
       "         0.        , 0.01056937, 0.12913655, 0.00161777, 0.05430267,\n",
       "         0.        , 0.11215705, 0.        , 0.        , 0.        ,\n",
       "         0.16071247, 0.        , 0.        , 0.16430573, 0.        ,\n",
       "         0.151611  , 0.        , 0.        , 0.        , 0.        ,\n",
       "         0.        , 0.        , 0.        , 0.        , 0.        ,\n",
       "         0.09747604, 0.        , 0.        , 0.08452473, 0.        ,\n",
       "         0.        , 0.08342507, 0.        , 0.02331108, 0.06931657,\n",
       "         0.        , 0.        , 0.01088042, 0.        , 0.        ,\n",
       "         0.06531156, 0.09080444, 0.        , 0.03575675, 0.        ,\n",
       "         0.1322839 , 0.        , 0.        , 0.        , 0.23835297,\n",
       "         0.11386161, 0.        , 0.        , 0.        , 0.01406203,\n",
       "         0.        , 0.03050632, 0.1418318 , 0.        , 0.        ,\n",
       "         0.        , 0.07411949, 0.        , 0.        , 0.        ,\n",
       "         0.        , 0.        , 0.        , 0.08676016, 0.12993927,\n",
       "         0.10774229, 0.11745367, 0.0687    , 0.        , 0.        ,\n",
       "         0.        , 0.07532338, 0.01024963, 0.11005621, 0.21217197,\n",
       "         0.08229627, 0.        , 0.        , 0.        , 0.08961538,\n",
       "         0.03133925, 0.        , 0.13326193, 0.10065121, 0.15490028,\n",
       "         0.        , 0.09484908, 0.01411562, 0.        , 0.06357665,\n",
       "         0.        , 0.12277786, 0.        , 0.        , 0.10516781,\n",
       "         0.        , 0.00036738, 0.        , 0.        , 0.03162533,\n",
       "         0.01027558, 0.        , 0.        , 0.19352607, 0.2298955 ,\n",
       "         0.06402598, 0.        , 0.1960259 , 0.        , 0.09265671,\n",
       "         0.        , 0.        , 0.01455455, 0.08345034, 0.11696098,\n",
       "         0.        , 0.1507828 , 0.        , 0.        , 0.02721994,\n",
       "         0.        , 0.        , 0.03918841, 0.        , 0.00164011,\n",
       "         0.        , 0.04635853, 0.10410648, 0.04365083, 0.06851535,\n",
       "         0.08044489, 0.        , 0.        , 0.0844707 , 0.04865795,\n",
       "         0.07501531, 0.        , 0.27394572, 0.        , 0.        ,\n",
       "         0.05842686, 0.        , 0.02279297, 0.17125756, 0.        ,\n",
       "         0.05071137, 0.17839149, 0.        , 0.0436936 , 0.1289203 ,\n",
       "         0.        , 0.        , 0.        , 0.        , 0.07350507,\n",
       "         0.00996522, 0.18674256, 0.03376146, 0.00544092, 0.28978068,\n",
       "         0.        , 0.01621824, 0.        , 0.        , 0.        ,\n",
       "         0.08428098, 0.19007018, 0.09077849, 0.18895   , 0.26129115,\n",
       "         0.        , 0.18493482, 0.00987206, 0.04933367, 0.02293506,\n",
       "         0.14599825, 0.        , 0.        , 0.        , 0.00265989,\n",
       "         0.        , 0.00728227, 0.        , 0.        , 0.14093313,\n",
       "         0.        , 0.        , 0.03683586, 0.08913919, 0.12257522,\n",
       "         0.0910075 , 0.00980666, 0.02492698, 0.        , 0.        ,\n",
       "         0.        , 0.01154257, 0.10675383, 0.10191637, 0.        ,\n",
       "         0.01960122, 0.11652847, 0.        , 0.        , 0.        ,\n",
       "         0.05752358, 0.00074283, 0.08926302, 0.0426746 , 0.        ,\n",
       "         0.        , 0.        , 0.03954701, 0.        , 0.02710372,\n",
       "         0.        , 0.        , 0.03317815, 0.        , 0.16992195,\n",
       "         0.        , 0.        , 0.        , 0.        , 0.02663777,\n",
       "         0.        , 0.22489855, 0.04013527, 0.        , 0.        ,\n",
       "         0.        , 0.0450165 , 0.        , 0.11654438, 0.04654648,\n",
       "         0.17343512, 0.29050782, 0.21230657, 0.0444773 , 0.0886068 ,\n",
       "         0.        , 0.15111637, 0.00046293, 0.        , 0.        ,\n",
       "         0.00293725, 0.0880415 , 0.        , 0.1571895 , 0.13957615,\n",
       "         0.01661038, 0.        , 0.        , 0.        , 0.        ,\n",
       "         0.        , 0.        , 0.        , 0.10424782, 0.01489125,\n",
       "         0.02179209, 0.0254285 , 0.        , 0.        , 0.01793323,\n",
       "         0.17103334, 0.00863822, 0.07015081, 0.0881449 , 0.        ,\n",
       "         0.03179928, 0.01469395, 0.09415025, 0.        , 0.06166547,\n",
       "         0.00196257, 0.        , 0.09314147, 0.17359877, 0.        ,\n",
       "         0.        , 0.        , 0.01686736, 0.16175885, 0.        ,\n",
       "         0.        , 0.        , 0.        , 0.0089019 , 0.        ,\n",
       "         0.        , 0.        , 0.        , 0.        , 0.        ,\n",
       "         0.20685296, 0.        ]], dtype=float32)>,\n",
       " <tf.Tensor: shape=(1, 512), dtype=float32, numpy=\n",
       " array([[0.        , 0.        , 0.        , 0.        , 0.        ,\n",
       "         0.        , 0.16194339, 0.        , 0.        , 0.11681178,\n",
       "         0.        , 0.        , 0.        , 0.11497288, 0.15271299,\n",
       "         0.        , 0.23861538, 0.15470538, 0.        , 0.        ,\n",
       "         0.08139948, 0.        , 0.        , 0.        , 0.01379374,\n",
       "         0.03960023, 0.        , 0.        , 0.2702401 , 0.08566725,\n",
       "         0.        , 0.06333628, 0.        , 0.07800115, 0.        ,\n",
       "         0.        , 0.12345546, 0.0704084 , 0.08482195, 0.08828799,\n",
       "         0.07028335, 0.08866298, 0.        , 0.00929341, 0.23596649,\n",
       "         0.05456494, 0.        , 0.06105591, 0.27994233, 0.0613366 ,\n",
       "         0.        , 0.11252844, 0.12188754, 0.        , 0.        ,\n",
       "         0.00536865, 0.        , 0.        , 0.        , 0.        ,\n",
       "         0.11052547, 0.07398833, 0.        , 0.        , 0.10643109,\n",
       "         0.40054435, 0.3045091 , 0.00811815, 0.        , 0.        ,\n",
       "         0.11030784, 0.        , 0.0995262 , 0.        , 0.        ,\n",
       "         0.        , 0.        , 0.00140493, 0.14963411, 0.0623917 ,\n",
       "         0.00398804, 0.10095218, 0.        , 0.13667199, 0.        ,\n",
       "         0.05091201, 0.02537002, 0.00565218, 0.00194867, 0.11907251,\n",
       "         0.20292519, 0.        , 0.09125417, 0.01643095, 0.        ,\n",
       "         0.07920922, 0.        , 0.01980209, 0.2169844 , 0.        ,\n",
       "         0.        , 0.        , 0.22122315, 0.05352799, 0.        ,\n",
       "         0.        , 0.03425792, 0.05418216, 0.22933948, 0.        ,\n",
       "         0.15143396, 0.02625544, 0.        , 0.02229661, 0.        ,\n",
       "         0.        , 0.19843437, 0.        , 0.20096138, 0.02110402,\n",
       "         0.04396637, 0.        , 0.        , 0.        , 0.        ,\n",
       "         0.        , 0.        , 0.07632994, 0.11196174, 0.25271067,\n",
       "         0.        , 0.        , 0.        , 0.14795686, 0.        ,\n",
       "         0.09920863, 0.00937367, 0.        , 0.04937617, 0.        ,\n",
       "         0.        , 0.02007716, 0.15354766, 0.14340775, 0.15216081,\n",
       "         0.        , 0.        , 0.01688329, 0.04262889, 0.08947819,\n",
       "         0.04328059, 0.        , 0.14991254, 0.        , 0.08283529,\n",
       "         0.09797345, 0.18975404, 0.07333532, 0.1345243 , 0.        ,\n",
       "         0.        , 0.04188108, 0.0575918 , 0.11999062, 0.        ,\n",
       "         0.        , 0.        , 0.        , 0.        , 0.01094674,\n",
       "         0.        , 0.0741974 , 0.0320839 , 0.30347756, 0.        ,\n",
       "         0.        , 0.        , 0.09059813, 0.        , 0.05490427,\n",
       "         0.        , 0.        , 0.        , 0.        , 0.06328695,\n",
       "         0.        , 0.01593619, 0.17718732, 0.        , 0.        ,\n",
       "         0.        , 0.03277084, 0.        , 0.        , 0.22556259,\n",
       "         0.08498563, 0.05145888, 0.        , 0.        , 0.        ,\n",
       "         0.03779041, 0.        , 0.        , 0.15915388, 0.        ,\n",
       "         0.        , 0.08707073, 0.        , 0.        , 0.10071915,\n",
       "         0.        , 0.00126123, 0.        , 0.        , 0.        ,\n",
       "         0.06411816, 0.01985713, 0.        , 0.        , 0.        ,\n",
       "         0.06710882, 0.09157573, 0.05716559, 0.        , 0.        ,\n",
       "         0.        , 0.01305577, 0.16758151, 0.        , 0.13514873,\n",
       "         0.20221364, 0.        , 0.        , 0.00399146, 0.        ,\n",
       "         0.        , 0.        , 0.        , 0.        , 0.        ,\n",
       "         0.        , 0.14627416, 0.        , 0.06787144, 0.        ,\n",
       "         0.21189108, 0.15840146, 0.        , 0.        , 0.        ,\n",
       "         0.2589753 , 0.05004289, 0.16322775, 0.        , 0.01997811,\n",
       "         0.19358088, 0.31168482, 0.        , 0.0374446 , 0.05560761,\n",
       "         0.05915339, 0.        , 0.35993055, 0.        , 0.        ,\n",
       "         0.        , 0.        , 0.        , 0.04441604, 0.08723125,\n",
       "         0.02247469, 0.        , 0.08591933, 0.        , 0.06911177,\n",
       "         0.        , 0.08343593, 0.08237908, 0.00985176, 0.25543132,\n",
       "         0.07501184, 0.17579123, 0.1064404 , 0.11088063, 0.        ,\n",
       "         0.        , 0.        , 0.16107818, 0.14137332, 0.01936943,\n",
       "         0.06255153, 0.        , 0.19502527, 0.        , 0.07404468,\n",
       "         0.00621944, 0.18878722, 0.        , 0.        , 0.1328817 ,\n",
       "         0.        , 0.        , 0.10512087, 0.06992573, 0.10478368,\n",
       "         0.        , 0.17492677, 0.        , 0.06250742, 0.        ,\n",
       "         0.02635641, 0.20783284, 0.00763255, 0.        , 0.        ,\n",
       "         0.06752945, 0.        , 0.03323054, 0.        , 0.08416708,\n",
       "         0.        , 0.00561818, 0.        , 0.02664419, 0.        ,\n",
       "         0.        , 0.1504067 , 0.04851469, 0.02633265, 0.        ,\n",
       "         0.        , 0.14677547, 0.0848967 , 0.        , 0.        ,\n",
       "         0.08824778, 0.07341282, 0.08945429, 0.        , 0.        ,\n",
       "         0.        , 0.0926139 , 0.        , 0.        , 0.06738351,\n",
       "         0.        , 0.        , 0.07959961, 0.06304906, 0.        ,\n",
       "         0.11836712, 0.09653363, 0.00449302, 0.08614682, 0.        ,\n",
       "         0.        , 0.08082686, 0.        , 0.        , 0.02674722,\n",
       "         0.16146228, 0.        , 0.        , 0.16155104, 0.        ,\n",
       "         0.        , 0.11777165, 0.03435538, 0.        , 0.        ,\n",
       "         0.09613746, 0.27029628, 0.        , 0.        , 0.00214591,\n",
       "         0.        , 0.08746617, 0.        , 0.        , 0.12198187,\n",
       "         0.        , 0.        , 0.        , 0.        , 0.        ,\n",
       "         0.1375158 , 0.17782328, 0.        , 0.        , 0.        ,\n",
       "         0.09328014, 0.16981311, 0.        , 0.        , 0.        ,\n",
       "         0.        , 0.0604087 , 0.        , 0.        , 0.19866225,\n",
       "         0.0589832 , 0.18474035, 0.01557977, 0.13983798, 0.        ,\n",
       "         0.        , 0.        , 0.01106394, 0.18400174, 0.        ,\n",
       "         0.        , 0.        , 0.1566121 , 0.        , 0.        ,\n",
       "         0.05914339, 0.        , 0.01858112, 0.        , 0.        ,\n",
       "         0.        , 0.        , 0.        , 0.00643887, 0.        ,\n",
       "         0.06551503, 0.        , 0.        , 0.        , 0.        ,\n",
       "         0.        , 0.        , 0.14829157, 0.15080859, 0.18499467,\n",
       "         0.12680691, 0.        , 0.        , 0.        , 0.        ,\n",
       "         0.15967833, 0.        , 0.14918524, 0.02524454, 0.        ,\n",
       "         0.04659801, 0.19308306, 0.        , 0.00795668, 0.        ,\n",
       "         0.04415267, 0.        , 0.01517529, 0.12304707, 0.        ,\n",
       "         0.11489289, 0.15279019, 0.        , 0.        , 0.03975064,\n",
       "         0.        , 0.        , 0.        , 0.        , 0.27621737,\n",
       "         0.01361321, 0.08995008, 0.        , 0.12961876, 0.        ,\n",
       "         0.        , 0.        , 0.16996565, 0.00909228, 0.08338468,\n",
       "         0.        , 0.        , 0.        , 0.09876211, 0.        ,\n",
       "         0.03903699, 0.13144606, 0.        , 0.        , 0.14325891,\n",
       "         0.        , 0.        , 0.26752463, 0.14317551, 0.004862  ,\n",
       "         0.07488265, 0.17921492, 0.05162782, 0.1024321 , 0.        ,\n",
       "         0.        , 0.        , 0.        , 0.01160464, 0.07803228,\n",
       "         0.27404955, 0.03663741, 0.15127908, 0.        , 0.        ,\n",
       "         0.        , 0.12534288, 0.        , 0.        , 0.00282597,\n",
       "         0.        , 0.10113692]], dtype=float32)>]"
      ]
     },
     "execution_count": 34,
     "metadata": {},
     "output_type": "execute_result"
    }
   ],
   "source": [
    "conv_res"
   ]
  },
  {
   "cell_type": "markdown",
   "id": "9329da3f",
   "metadata": {},
   "source": [
    "### LSTM model"
   ]
  },
  {
   "cell_type": "markdown",
   "id": "63619e02",
   "metadata": {},
   "source": [
    "### making w2v embeddings"
   ]
  },
  {
   "cell_type": "code",
   "execution_count": 35,
   "id": "e400635c",
   "metadata": {},
   "outputs": [
    {
     "name": "stdout",
     "output_type": "stream",
     "text": [
      "Requirement already satisfied: gensim in /home/ec2-user/anaconda3/envs/amazonei_tensorflow2_p36/lib/python3.6/site-packages (4.0.1)\n",
      "Requirement already satisfied: smart-open>=1.8.1 in /home/ec2-user/anaconda3/envs/amazonei_tensorflow2_p36/lib/python3.6/site-packages (from gensim) (5.1.0)\n",
      "Requirement already satisfied: numpy>=1.11.3 in /home/ec2-user/anaconda3/envs/amazonei_tensorflow2_p36/lib/python3.6/site-packages (from gensim) (1.18.5)\n",
      "Requirement already satisfied: dataclasses in /home/ec2-user/anaconda3/envs/amazonei_tensorflow2_p36/lib/python3.6/site-packages (from gensim) (0.8)\n",
      "Requirement already satisfied: scipy>=0.18.1 in /home/ec2-user/anaconda3/envs/amazonei_tensorflow2_p36/lib/python3.6/site-packages (from gensim) (1.5.3)\n",
      "\u001b[33mWARNING: You are using pip version 21.1.2; however, version 21.1.3 is available.\n",
      "You should consider upgrading via the '/home/ec2-user/anaconda3/envs/amazonei_tensorflow2_p36/bin/python -m pip install --upgrade pip' command.\u001b[0m\n"
     ]
    }
   ],
   "source": [
    "!pip install gensim"
   ]
  },
  {
   "cell_type": "code",
   "execution_count": 36,
   "id": "439a80f1",
   "metadata": {},
   "outputs": [
    {
     "name": "stderr",
     "output_type": "stream",
     "text": [
      "/home/ec2-user/anaconda3/envs/amazonei_tensorflow2_p36/lib/python3.6/site-packages/gensim/similarities/__init__.py:15: UserWarning: The gensim.similarities.levenshtein submodule is disabled, because the optional Levenshtein package <https://pypi.org/project/python-Levenshtein/> is unavailable. Install Levenhstein (e.g. `pip install python-Levenshtein`) to suppress this warning.\n",
      "  warnings.warn(msg)\n"
     ]
    }
   ],
   "source": [
    "import gensim.downloader as api"
   ]
  },
  {
   "cell_type": "code",
   "execution_count": 37,
   "id": "014feebd",
   "metadata": {},
   "outputs": [],
   "source": [
    "w2v_embeddings = api.load('word2vec-google-news-300')"
   ]
  },
  {
   "cell_type": "code",
   "execution_count": 38,
   "id": "6d40a427",
   "metadata": {},
   "outputs": [],
   "source": [
    "def build_embeddings(vocab, word_vectors, embed_dim):\n",
    "    emb_matrix = np.zeros(shape=(len(vocab)+ 1 , embed_dim), dtype='float32')\n",
    "    count = 0\n",
    "    for word, i in vocab.items():\n",
    "        try:\n",
    "            emb_matrix[i, :] = word_vectors.get_vector(word)\n",
    "        except:\n",
    "            count += 1\n",
    "            emb_matrix[i, :] = np.random.uniform(-0.1, 0.1, embed_dim)\n",
    "    print('{} words are out of vocabulary：'.format(count))\n",
    "    return emb_matrix\n"
   ]
  },
  {
   "cell_type": "code",
   "execution_count": 39,
   "id": "7bff372b",
   "metadata": {},
   "outputs": [
    {
     "name": "stdout",
     "output_type": "stream",
     "text": [
      "22 words are out of vocabulary：\n"
     ]
    }
   ],
   "source": [
    "w2v_embeddings = build_embeddings(vocab, w2v_embeddings, 300)"
   ]
  },
  {
   "cell_type": "markdown",
   "id": "27d430b9",
   "metadata": {},
   "source": [
    "### building model"
   ]
  },
  {
   "cell_type": "code",
   "execution_count": 40,
   "id": "f2268479",
   "metadata": {},
   "outputs": [],
   "source": [
    "class LSTMDecoder(tf.keras.Model):\n",
    "    def __init__(self, max_tokens, lstm_units, embeddings=None, dim=128):\n",
    "        super(LSTMDecoder, self).__init__()\n",
    "        self.embeddings = tf.keras.layers.Embedding(input_dim=max_tokens+1, output_dim=dim, name='embeddings',\n",
    "                                                   weights=[embeddings])\n",
    "        self.dropout = tf.keras.layers.SpatialDropout1D(0.2)\n",
    "        self.layer_norm = tf.keras.layers.LayerNormalization(epsilon=1e-6, name='layer_normalization')\n",
    "        self.lstm = tf.keras.layers.LSTM(units=lstm_units, return_state=True, name='lstm_decoder', recurrent_dropout=0.3)\n",
    "        self.output_dense = tf.keras.layers.Dense(units=max_tokens)\n",
    "        \n",
    "    def call(self, input, features):\n",
    "        embedded = self.dropout(self.embeddings(input))\n",
    "        result_lstm, state_h, state_c = self.lstm(embedded, initial_state=features)\n",
    "        normalized = self.layer_norm(result_lstm)\n",
    "        logits = self.output_dense(normalized)\n",
    "        return logits, [state_h, state_c]"
   ]
  },
  {
   "cell_type": "code",
   "execution_count": 41,
   "id": "0f9f8284",
   "metadata": {},
   "outputs": [
    {
     "name": "stdout",
     "output_type": "stream",
     "text": [
      "WARNING:tensorflow:Layer lstm_decoder will not use cuDNN kernel since it doesn't meet the cuDNN kernel criteria. It will use generic GPU kernel as fallback when running on GPU\n"
     ]
    }
   ],
   "source": [
    "lstm_decoder = LSTMDecoder(len(inverse_vocab), conv_res[0].shape[1], w2v_embeddings, dim=300)"
   ]
  },
  {
   "cell_type": "code",
   "execution_count": 42,
   "id": "f86e5719",
   "metadata": {},
   "outputs": [
    {
     "data": {
      "text/plain": [
       "(<tf.Tensor: shape=(1, 2165), dtype=float32, numpy=\n",
       " array([[-0.48332375,  0.5019406 ,  0.3691842 , ..., -1.5895913 ,\n",
       "         -0.64764845,  0.21898055]], dtype=float32)>,\n",
       " [<tf.Tensor: shape=(1, 512), dtype=float32, numpy=\n",
       "  array([[ 5.26001453e-02, -1.69118792e-02,  2.89620887e-02,\n",
       "          -1.11082438e-02, -7.93501642e-03,  1.40176034e-02,\n",
       "          -1.76163949e-02,  3.23661044e-02,  9.00775660e-03,\n",
       "          -1.23221921e-02,  2.11801380e-04,  9.92069114e-03,\n",
       "          -1.73981730e-02,  1.21062566e-02,  2.00472809e-02,\n",
       "          -2.30478309e-02,  1.84603594e-02,  8.30704230e-04,\n",
       "          -1.61230415e-02,  4.10544872e-02, -2.02876721e-02,\n",
       "           4.47607897e-02, -5.30215651e-02,  1.41531350e-02,\n",
       "          -5.61552821e-03, -1.26754772e-02,  3.04835699e-02,\n",
       "           4.41064220e-03, -1.46762142e-02,  4.11301851e-02,\n",
       "           3.79293524e-02,  8.03737342e-03, -5.53493015e-02,\n",
       "           3.17714140e-02,  6.05577463e-03,  2.38899188e-03,\n",
       "          -4.46022581e-03, -1.51393525e-02, -4.75610010e-02,\n",
       "           1.45010306e-02,  1.19454730e-02, -2.61863950e-03,\n",
       "          -2.48130411e-02,  1.68532524e-02,  1.71130393e-02,\n",
       "          -1.28965627e-03, -3.78730856e-02, -2.80898940e-02,\n",
       "           1.49186666e-03, -1.57846250e-02,  2.19168654e-03,\n",
       "           1.93118844e-02, -2.38670297e-02, -3.95617113e-02,\n",
       "           1.08961193e-02,  1.28700733e-02,  1.82298906e-02,\n",
       "           1.05005354e-02, -1.64962672e-02,  9.63922706e-04,\n",
       "           2.23051440e-02, -1.42259402e-02,  2.71582659e-02,\n",
       "           5.42687252e-03,  1.68756247e-02,  1.24270236e-02,\n",
       "           3.08860792e-03, -3.18894722e-02, -1.72529444e-02,\n",
       "          -1.32064288e-02,  1.24534797e-02, -1.87122133e-02,\n",
       "          -2.92734616e-02,  4.05015200e-02, -2.05704551e-02,\n",
       "           3.24643329e-02,  3.06802671e-02,  1.51871936e-02,\n",
       "          -1.04219019e-02,  4.48474996e-02,  1.22267092e-02,\n",
       "           7.46338489e-03,  1.76800396e-02, -2.16053836e-02,\n",
       "           1.59602109e-02,  2.56496072e-02,  3.93610187e-02,\n",
       "          -2.18151533e-03,  4.45939694e-03,  2.64535495e-03,\n",
       "           2.11169086e-02, -4.63251636e-05,  1.09176813e-02,\n",
       "          -3.43922409e-03, -5.23193926e-02,  5.98034747e-02,\n",
       "          -8.10816418e-03,  2.57083140e-02,  2.48278398e-02,\n",
       "          -4.42571044e-02, -1.77879874e-02, -4.22859639e-02,\n",
       "           2.53452584e-02, -2.06919331e-02, -7.50057166e-03,\n",
       "           1.70326717e-02, -1.84397362e-02,  6.13656128e-03,\n",
       "          -3.22528556e-03,  5.14806882e-02, -2.41017644e-03,\n",
       "           1.71039347e-03, -9.14374180e-03,  9.14102886e-03,\n",
       "           2.79054344e-02, -1.46819837e-03, -6.78568520e-03,\n",
       "           3.22006382e-02,  1.44632589e-02,  3.64980251e-02,\n",
       "          -1.43609503e-02,  9.02619306e-03,  1.85724329e-02,\n",
       "          -6.89694844e-03,  5.92858018e-03, -9.47071426e-03,\n",
       "          -5.93331177e-03,  7.08157429e-03, -1.19636848e-03,\n",
       "          -1.11584365e-02,  2.74147969e-02, -2.86220498e-02,\n",
       "          -1.58726925e-03, -2.13808920e-02,  5.42656099e-03,\n",
       "           1.09079536e-02,  6.88645756e-03, -3.33303921e-02,\n",
       "           3.00452728e-02,  3.71868499e-02, -2.06038468e-02,\n",
       "          -3.78100621e-03, -1.41644543e-02, -2.34967470e-03,\n",
       "          -2.25613527e-02, -2.10626237e-02,  2.03467999e-02,\n",
       "          -8.70792940e-03, -1.73078272e-02,  4.14628489e-03,\n",
       "          -7.62304477e-03, -6.16830122e-03, -5.25723817e-03,\n",
       "           2.35310104e-02,  1.88386310e-02, -7.29308650e-03,\n",
       "          -6.96215257e-02,  7.25116767e-03, -1.46145225e-02,\n",
       "          -1.41583811e-02,  4.34132814e-02,  9.32004582e-03,\n",
       "           2.91829742e-02,  1.85462013e-02, -2.87755430e-02,\n",
       "           7.62638811e-04, -4.97453613e-03, -8.93371543e-06,\n",
       "          -5.22522703e-02, -2.29411963e-02,  1.34015661e-02,\n",
       "           7.11941021e-03,  1.04949307e-02,  4.03384157e-02,\n",
       "          -7.74454186e-03, -3.03217821e-05,  4.98943143e-02,\n",
       "           2.34587491e-03,  1.39577687e-02,  1.87194999e-02,\n",
       "          -1.52417365e-02,  2.43267175e-02,  3.66839208e-02,\n",
       "           8.03119596e-03, -9.83865466e-03, -4.40910645e-02,\n",
       "          -8.55129119e-03, -2.73957779e-03, -1.65284406e-02,\n",
       "          -2.08161846e-02,  3.73856053e-02,  3.47923487e-02,\n",
       "          -3.79477814e-03, -2.58240476e-02,  4.38811854e-02,\n",
       "          -3.55809182e-03,  1.36810346e-02, -3.43149006e-02,\n",
       "          -2.57589621e-03, -3.70044485e-02, -6.67619240e-03,\n",
       "           6.95595890e-03,  4.02062871e-02, -4.95345332e-04,\n",
       "           2.50805970e-02,  2.74450760e-02, -3.56701501e-02,\n",
       "           4.43057567e-02, -6.19691284e-03, -3.09766959e-02,\n",
       "          -1.25048710e-02,  6.47459365e-03, -1.21613489e-02,\n",
       "           2.25985907e-02,  1.01103317e-02, -6.99967286e-03,\n",
       "          -3.85273919e-02,  6.03664443e-02, -3.35162245e-02,\n",
       "          -1.87300518e-02, -1.51924230e-02,  2.05068178e-02,\n",
       "           1.20922765e-02, -4.95320559e-03, -1.62928812e-02,\n",
       "           2.28446983e-02,  9.33576189e-03,  2.81116329e-02,\n",
       "          -2.76461244e-02, -3.18502029e-03, -3.37505117e-02,\n",
       "           5.49644744e-03,  1.21255647e-02,  1.14199948e-02,\n",
       "           5.27434284e-03, -1.15894340e-02,  1.99783104e-03,\n",
       "           1.10406736e-02,  1.86414998e-02,  2.15139184e-02,\n",
       "          -2.86648329e-02, -2.05055578e-03, -2.24706475e-02,\n",
       "          -3.31320763e-02,  6.16117567e-03, -1.04794092e-02,\n",
       "          -2.63767317e-02, -2.38463860e-02, -1.39131732e-02,\n",
       "          -6.33034036e-02, -8.08916287e-04, -4.32678126e-02,\n",
       "          -1.22026792e-02,  9.42394696e-03,  5.81881404e-03,\n",
       "          -2.34308820e-02,  3.72499134e-03, -2.18485091e-02,\n",
       "           1.93493608e-02, -2.91933492e-03,  1.23431263e-02,\n",
       "          -3.02674770e-02,  9.63615160e-03,  2.85940170e-02,\n",
       "           1.64679457e-02, -7.64111523e-03,  1.32683842e-02,\n",
       "           1.98904099e-03,  3.26011144e-02,  1.04740979e-02,\n",
       "          -9.13095940e-03, -7.52434181e-03,  1.99679602e-02,\n",
       "           2.36016084e-02, -2.12815944e-02, -1.76358186e-02,\n",
       "           1.63377058e-02, -3.39029953e-02,  1.49277672e-02,\n",
       "           1.42942714e-02,  2.69259531e-02, -5.06287348e-03,\n",
       "          -4.92351875e-02,  4.58862400e-03,  1.08368658e-02,\n",
       "           2.45574093e-03, -3.83069217e-02,  1.97704472e-02,\n",
       "          -1.52862249e-02,  1.84429958e-02, -2.33236197e-02,\n",
       "          -4.42321114e-02,  2.55820714e-02,  3.01585793e-02,\n",
       "           2.45167944e-03, -6.39800201e-05, -1.72043499e-02,\n",
       "          -1.59077309e-02, -1.05322953e-02, -4.67097806e-03,\n",
       "          -1.83622396e-04,  4.05354798e-02, -2.11538095e-02,\n",
       "          -6.84090657e-03, -1.90232210e-02,  4.26192470e-02,\n",
       "          -1.71682294e-02, -1.87044293e-02,  1.36960438e-02,\n",
       "           1.30573835e-03, -2.54231319e-02, -3.56030348e-03,\n",
       "           1.70872826e-02,  3.15296650e-02,  2.90340129e-02,\n",
       "          -2.50078440e-02,  3.81623954e-02,  1.98991261e-02,\n",
       "          -6.67672930e-03, -2.31878757e-02,  2.30436716e-02,\n",
       "          -1.18546821e-02,  2.43429858e-02,  1.06747961e-02,\n",
       "          -4.40065935e-03,  3.95132182e-03, -2.01003794e-02,\n",
       "           2.58179125e-03,  1.31572923e-03,  2.64696614e-03,\n",
       "          -1.21919746e-02, -2.47007329e-02,  2.24060696e-02,\n",
       "           1.52020501e-02, -1.10409083e-02,  6.58744900e-03,\n",
       "           9.89367720e-03, -4.42828424e-02,  2.22317148e-02,\n",
       "          -1.40072331e-02,  1.49572454e-02, -2.56863399e-03,\n",
       "          -1.76198091e-02,  1.63746271e-02,  2.52422597e-02,\n",
       "           2.27044299e-02, -1.19171124e-02, -1.74531005e-02,\n",
       "           2.15064222e-03,  5.91398142e-02,  3.60993994e-03,\n",
       "          -3.31106745e-02, -1.01652518e-02, -7.81616138e-04,\n",
       "           3.08078323e-02,  1.61219332e-02, -1.53956399e-03,\n",
       "          -4.39467393e-02, -7.44822249e-03, -1.14012677e-02,\n",
       "           2.99901497e-02, -1.69024453e-03,  2.83320863e-02,\n",
       "          -1.52449170e-02,  1.95430405e-02, -6.87072100e-03,\n",
       "          -3.38328779e-02,  2.79935589e-03, -3.25153545e-02,\n",
       "           3.23988535e-02,  2.81405952e-02, -2.34623998e-02,\n",
       "          -2.05923039e-02, -2.43074447e-02, -3.27945389e-02,\n",
       "           2.53174547e-02, -8.83604120e-03, -2.64354609e-02,\n",
       "           1.64089650e-02,  1.30552733e-02,  5.60040353e-03,\n",
       "          -2.95903012e-02,  5.46926633e-03, -1.90664064e-02,\n",
       "          -1.64779946e-02, -1.35070710e-02, -1.49976304e-02,\n",
       "           2.78291907e-02,  6.49626404e-02, -3.62212136e-02,\n",
       "          -2.79688705e-02, -1.13974428e-02, -4.27431576e-02,\n",
       "           2.85862628e-02,  3.64637338e-02, -1.44485869e-02,\n",
       "          -2.64924229e-03,  1.35379136e-02, -2.76566222e-02,\n",
       "          -2.18493287e-02, -1.30873304e-02, -3.99559783e-03,\n",
       "           1.31140333e-02,  4.71142726e-03,  3.32271750e-03,\n",
       "           2.54349653e-02,  1.88499521e-02, -1.74554379e-03,\n",
       "          -2.61308048e-02,  2.11396124e-02,  1.25707341e-02,\n",
       "          -3.08209900e-02,  1.52351782e-02, -1.49991307e-02,\n",
       "           1.03369979e-02,  2.18716022e-02,  3.24671753e-02,\n",
       "          -7.03778304e-03, -1.25426920e-02,  1.23905418e-02,\n",
       "           5.78616466e-03, -2.97082559e-04,  6.62722252e-03,\n",
       "           8.65460653e-03, -4.46677133e-02,  1.65891275e-02,\n",
       "          -2.00169906e-02,  1.36611499e-02,  8.67743697e-03,\n",
       "          -2.03983057e-02,  2.10174602e-02,  4.36656526e-04,\n",
       "           6.96484838e-03, -2.74326541e-02,  7.84586184e-03,\n",
       "          -3.22379777e-03,  6.44187862e-03, -1.34400362e-02,\n",
       "          -4.29118238e-03, -1.58702079e-02,  1.47925587e-02,\n",
       "          -3.21820681e-03,  1.23626348e-02,  2.14610547e-02,\n",
       "          -3.71795311e-03,  2.72346530e-02,  2.14942582e-02,\n",
       "           1.53985620e-02, -4.47560381e-03, -1.13945901e-02,\n",
       "           3.58125456e-02, -2.13103164e-02, -3.29586398e-03,\n",
       "           5.54816891e-03, -1.61674023e-02,  8.56222212e-03,\n",
       "           1.52819529e-02, -1.30023668e-02,  2.46049836e-02,\n",
       "           2.93173660e-02, -8.28951225e-03, -1.02156261e-02,\n",
       "          -5.36282780e-03, -9.81026888e-03, -2.87620295e-02,\n",
       "          -1.36251310e-02, -9.41606518e-03,  2.79754046e-02,\n",
       "           1.97472665e-02, -4.04304676e-02, -9.55894776e-03,\n",
       "           1.26745133e-02,  2.41749943e-03, -2.40927935e-03,\n",
       "           2.25297622e-02,  1.47844048e-03, -2.47924495e-02,\n",
       "           1.29466681e-02,  3.05548497e-03, -2.54599527e-02,\n",
       "          -1.89988520e-02, -3.63765880e-02,  8.30801949e-03,\n",
       "           9.25954524e-03, -1.92939630e-03, -8.37312452e-03,\n",
       "          -1.81607285e-03, -1.72608234e-02, -3.24654318e-02,\n",
       "          -2.15280652e-02,  5.52525595e-02,  1.93280878e-03,\n",
       "           1.54367173e-02,  5.93078323e-02,  4.49828394e-02,\n",
       "          -5.69694191e-02,  2.69018169e-02,  1.60789080e-02,\n",
       "          -1.06490182e-03,  1.38798531e-03, -1.94115248e-02,\n",
       "          -5.50565030e-03, -2.41470188e-02, -1.54268080e-02,\n",
       "           2.77443677e-02, -2.98956465e-02, -3.77619006e-02,\n",
       "           2.13906504e-02, -5.32228090e-02,  1.62094031e-02,\n",
       "           1.26141543e-03, -2.03512027e-03]], dtype=float32)>,\n",
       "  <tf.Tensor: shape=(1, 512), dtype=float32, numpy=\n",
       "  array([[ 1.03179730e-01, -3.45122889e-02,  5.89776933e-02,\n",
       "          -2.23255567e-02, -1.58486553e-02,  2.88392641e-02,\n",
       "          -3.41980085e-02,  6.48623854e-02,  1.80243831e-02,\n",
       "          -2.42712237e-02,  4.30653337e-04,  2.07728259e-02,\n",
       "          -3.40077505e-02,  2.37101950e-02,  4.01599407e-02,\n",
       "          -4.72605415e-02,  3.71958092e-02,  1.64285302e-03,\n",
       "          -3.28971222e-02,  8.17242339e-02, -4.04951498e-02,\n",
       "           9.19737890e-02, -1.06781214e-01,  2.76154950e-02,\n",
       "          -1.10148713e-02, -2.58302670e-02,  6.11397810e-02,\n",
       "           8.76114145e-03, -2.90121827e-02,  8.21071416e-02,\n",
       "           7.58044198e-02,  1.63413920e-02, -1.09550521e-01,\n",
       "           6.30741641e-02,  1.21745728e-02,  4.88228165e-03,\n",
       "          -9.04496107e-03, -2.99083479e-02, -9.42463204e-02,\n",
       "           2.86227763e-02,  2.36500315e-02, -5.09211048e-03,\n",
       "          -4.98864576e-02,  3.35131362e-02,  3.51990238e-02,\n",
       "          -2.61011976e-03, -7.63646737e-02, -5.57935610e-02,\n",
       "           3.03406827e-03, -3.13798264e-02,  4.33326513e-03,\n",
       "           3.90196964e-02, -4.66202386e-02, -8.11063200e-02,\n",
       "           2.15509422e-02,  2.55267620e-02,  3.67847085e-02,\n",
       "           2.07778104e-02, -3.23462114e-02,  1.97623763e-03,\n",
       "           4.44493368e-02, -2.91193277e-02,  5.33118062e-02,\n",
       "           1.09360497e-02,  3.45721506e-02,  2.47505978e-02,\n",
       "           6.25424925e-03, -6.31094426e-02, -3.39677371e-02,\n",
       "          -2.56691445e-02,  2.47064587e-02, -3.74883115e-02,\n",
       "          -5.77636808e-02,  8.15992057e-02, -4.00635377e-02,\n",
       "           6.38134181e-02,  6.09702058e-02,  3.04454323e-02,\n",
       "          -2.09232625e-02,  9.08253714e-02,  2.41306275e-02,\n",
       "           1.44977290e-02,  3.47631723e-02, -4.43841293e-02,\n",
       "           3.11049167e-02,  5.06024733e-02,  8.25547203e-02,\n",
       "          -4.39160131e-03,  9.05372016e-03,  5.20544313e-03,\n",
       "           4.26006094e-02, -9.13129188e-05,  2.19314657e-02,\n",
       "          -6.73287688e-03, -1.03876017e-01,  1.17359959e-01,\n",
       "          -1.60876531e-02,  5.16718440e-02,  4.96691838e-02,\n",
       "          -8.85691792e-02, -3.53217348e-02, -8.36212263e-02,\n",
       "           5.09570464e-02, -4.14960235e-02, -1.50148999e-02,\n",
       "           3.42700072e-02, -3.81041132e-02,  1.22366371e-02,\n",
       "          -6.47812337e-03,  1.01786926e-01, -4.84828465e-03,\n",
       "           3.51692922e-03, -1.75540671e-02,  1.82516314e-02,\n",
       "           5.57600707e-02, -2.86945142e-03, -1.33525962e-02,\n",
       "           6.36928082e-02,  2.90860850e-02,  7.36923516e-02,\n",
       "          -2.86346972e-02,  1.80620328e-02,  3.79997827e-02,\n",
       "          -1.33747831e-02,  1.16571737e-02, -1.87535677e-02,\n",
       "          -1.21362414e-02,  1.39309214e-02, -2.41219671e-03,\n",
       "          -2.19221301e-02,  5.60820475e-02, -5.82386032e-02,\n",
       "          -3.23193311e-03, -4.28374484e-02,  1.11298319e-02,\n",
       "           2.16892902e-02,  1.36126690e-02, -6.53302521e-02,\n",
       "           6.12659007e-02,  7.51580745e-02, -4.14077491e-02,\n",
       "          -7.43628480e-03, -2.75464319e-02, -4.80601564e-03,\n",
       "          -4.60955165e-02, -4.22400907e-02,  4.05283459e-02,\n",
       "          -1.74256526e-02, -3.56856175e-02,  8.27359594e-03,\n",
       "          -1.55163864e-02, -1.23787336e-02, -1.05254361e-02,\n",
       "           4.76617031e-02,  3.75774391e-02, -1.49795227e-02,\n",
       "          -1.40103206e-01,  1.43183656e-02, -2.97685154e-02,\n",
       "          -2.84461118e-02,  8.67808908e-02,  1.88678391e-02,\n",
       "           5.87820113e-02,  3.67647409e-02, -5.66074178e-02,\n",
       "           1.51539675e-03, -1.01552820e-02, -1.84252858e-05,\n",
       "          -1.04953840e-01, -4.58319411e-02,  2.64506377e-02,\n",
       "           1.44637059e-02,  2.16542389e-02,  8.08667988e-02,\n",
       "          -1.51694119e-02, -6.04651868e-05,  1.02619693e-01,\n",
       "           4.75860201e-03,  2.77961455e-02,  3.86787765e-02,\n",
       "          -3.04654799e-02,  4.80864868e-02,  7.31449649e-02,\n",
       "           1.59185324e-02, -1.96979903e-02, -8.96560624e-02,\n",
       "          -1.72001719e-02, -5.50263887e-03, -3.22111472e-02,\n",
       "          -4.18201461e-02,  7.17503056e-02,  7.00403824e-02,\n",
       "          -7.59621337e-03, -5.20774424e-02,  8.85825530e-02,\n",
       "          -7.35043176e-03,  2.80735232e-02, -6.82772174e-02,\n",
       "          -5.20952605e-03, -7.42337257e-02, -1.31459637e-02,\n",
       "           1.42297968e-02,  8.02372769e-02, -9.86990286e-04,\n",
       "           4.99688610e-02,  5.47412299e-02, -7.12604225e-02,\n",
       "           8.81773904e-02, -1.20484605e-02, -6.19364381e-02,\n",
       "          -2.45510414e-02,  1.33726811e-02, -2.36841440e-02,\n",
       "           4.67366874e-02,  2.01065484e-02, -1.38863157e-02,\n",
       "          -7.85681680e-02,  1.20655082e-01, -6.80584162e-02,\n",
       "          -3.68245766e-02, -3.06958146e-02,  4.19024602e-02,\n",
       "           2.45061032e-02, -9.78787802e-03, -3.24480832e-02,\n",
       "           4.46225964e-02,  1.85572971e-02,  5.81511259e-02,\n",
       "          -5.38829528e-02, -6.35534851e-03, -6.63520843e-02,\n",
       "           1.07088760e-02,  2.36483477e-02,  2.26186030e-02,\n",
       "           1.07995812e-02, -2.34853625e-02,  4.02960181e-03,\n",
       "           2.18638554e-02,  3.84530351e-02,  4.29813676e-02,\n",
       "          -5.81166334e-02, -4.12404723e-03, -4.45834137e-02,\n",
       "          -6.70441613e-02,  1.22867348e-02, -2.03884337e-02,\n",
       "          -5.27472794e-02, -4.93048988e-02, -2.79258005e-02,\n",
       "          -1.25219107e-01, -1.63035933e-03, -8.75364393e-02,\n",
       "          -2.46743187e-02,  1.86701007e-02,  1.16320597e-02,\n",
       "          -4.67116721e-02,  7.53942132e-03, -4.38636094e-02,\n",
       "           3.94331813e-02, -5.63891605e-03,  2.40676012e-02,\n",
       "          -6.15755245e-02,  1.91645771e-02,  5.66592813e-02,\n",
       "           3.31682973e-02, -1.51880151e-02,  2.58114692e-02,\n",
       "           4.00308706e-03,  6.54877871e-02,  2.08027456e-02,\n",
       "          -1.85711011e-02, -1.49639472e-02,  3.85296270e-02,\n",
       "           4.65394519e-02, -4.22286168e-02, -3.52932736e-02,\n",
       "           3.27036045e-02, -6.99714050e-02,  2.90321261e-02,\n",
       "           2.87075415e-02,  5.46968281e-02, -9.95275751e-03,\n",
       "          -9.80381072e-02,  9.42105614e-03,  2.17739157e-02,\n",
       "           4.87398962e-03, -7.40361512e-02,  3.93869951e-02,\n",
       "          -3.06664445e-02,  3.69218253e-02, -4.76498455e-02,\n",
       "          -9.02008116e-02,  5.10792173e-02,  5.99489957e-02,\n",
       "           4.81054652e-03, -1.33289024e-04, -3.48965302e-02,\n",
       "          -3.21999453e-02, -2.06458643e-02, -9.52962972e-03,\n",
       "          -3.76790762e-04,  8.24670121e-02, -4.45514843e-02,\n",
       "          -1.39041431e-02, -3.78646217e-02,  8.74754936e-02,\n",
       "          -3.44325453e-02, -3.79928648e-02,  2.74404995e-02,\n",
       "           2.62589147e-03, -5.14001213e-02, -6.97025657e-03,\n",
       "           3.35179307e-02,  6.27466291e-02,  5.83291464e-02,\n",
       "          -4.89008427e-02,  7.49073029e-02,  3.88863459e-02,\n",
       "          -1.32920183e-02, -4.65565398e-02,  4.55148183e-02,\n",
       "          -2.25787237e-02,  4.97434363e-02,  2.12448742e-02,\n",
       "          -8.85761064e-03,  7.98331853e-03, -4.07545827e-02,\n",
       "           5.03430609e-03,  2.59146839e-03,  5.29657118e-03,\n",
       "          -2.38146707e-02, -4.97622564e-02,  4.45718765e-02,\n",
       "           3.12512033e-02, -2.15818472e-02,  1.32953245e-02,\n",
       "           1.92789342e-02, -8.86920765e-02,  4.42428999e-02,\n",
       "          -2.83842161e-02,  2.97309496e-02, -5.20630786e-03,\n",
       "          -3.52688506e-02,  3.38327326e-02,  4.99638617e-02,\n",
       "           4.51787896e-02, -2.35293284e-02, -3.43807638e-02,\n",
       "           4.16007452e-03,  1.18873201e-01,  7.21363910e-03,\n",
       "          -6.38317987e-02, -2.08084937e-02, -1.55816413e-03,\n",
       "           6.19501844e-02,  3.17209437e-02, -3.04156519e-03,\n",
       "          -8.56419504e-02, -1.49659757e-02, -2.23774873e-02,\n",
       "           6.00158945e-02, -3.47106042e-03,  5.61517701e-02,\n",
       "          -3.17133516e-02,  3.96905169e-02, -1.37266731e-02,\n",
       "          -6.67222291e-02,  5.72231226e-03, -6.39239624e-02,\n",
       "           6.43442422e-02,  5.67557290e-02, -4.75772992e-02,\n",
       "          -4.01218422e-02, -4.72925678e-02, -6.71466291e-02,\n",
       "           5.07001765e-02, -1.70806516e-02, -5.16400076e-02,\n",
       "           3.31527442e-02,  2.54749879e-02,  1.10011306e-02,\n",
       "          -5.96377701e-02,  1.08298417e-02, -3.73054184e-02,\n",
       "          -3.35215777e-02, -2.68923566e-02, -3.06388121e-02,\n",
       "           5.67722023e-02,  1.33589938e-01, -7.42743239e-02,\n",
       "          -5.70782162e-02, -2.38912981e-02, -8.42267573e-02,\n",
       "           5.74227124e-02,  7.52928033e-02, -2.85398997e-02,\n",
       "          -5.33362478e-03,  2.77420618e-02, -5.56229465e-02,\n",
       "          -4.52862903e-02, -2.60762572e-02, -8.09828378e-03,\n",
       "           2.65197121e-02,  9.16544814e-03,  6.71965908e-03,\n",
       "           5.00668660e-02,  3.80350500e-02, -3.45706381e-03,\n",
       "          -5.42551801e-02,  4.18645814e-02,  2.52545904e-02,\n",
       "          -6.01563677e-02,  3.04719955e-02, -3.00949998e-02,\n",
       "           2.05479581e-02,  4.43878397e-02,  6.45710602e-02,\n",
       "          -1.40584297e-02, -2.50086617e-02,  2.53653415e-02,\n",
       "           1.16881123e-02, -5.98853687e-04,  1.30887348e-02,\n",
       "           1.67265311e-02, -9.13421065e-02,  3.41018662e-02,\n",
       "          -4.03273478e-02,  2.65328102e-02,  1.77354682e-02,\n",
       "          -4.01365459e-02,  4.14253250e-02,  8.56959785e-04,\n",
       "           1.37922224e-02, -5.53473942e-02,  1.55945625e-02,\n",
       "          -6.49419613e-03,  1.28647629e-02, -2.65797731e-02,\n",
       "          -8.47014599e-03, -3.08421105e-02,  2.91607529e-02,\n",
       "          -6.51408173e-03,  2.49512121e-02,  4.31917720e-02,\n",
       "          -7.72222504e-03,  5.39023504e-02,  4.23194915e-02,\n",
       "           3.04372832e-02, -8.72318819e-03, -2.29927190e-02,\n",
       "           7.37875104e-02, -4.08328436e-02, -6.45347126e-03,\n",
       "           1.10834129e-02, -3.23199034e-02,  1.73276439e-02,\n",
       "           3.10854129e-02, -2.65307650e-02,  4.85241152e-02,\n",
       "           5.95981292e-02, -1.67798363e-02, -2.04997230e-02,\n",
       "          -1.08113512e-02, -1.95287019e-02, -5.58081195e-02,\n",
       "          -2.77773682e-02, -1.84320975e-02,  5.53397350e-02,\n",
       "           3.82752530e-02, -8.02659467e-02, -1.93347670e-02,\n",
       "           2.48127840e-02,  4.88858204e-03, -4.88037476e-03,\n",
       "           4.42082025e-02,  2.91157700e-03, -4.95275036e-02,\n",
       "           2.51961183e-02,  6.11241534e-03, -5.13491295e-02,\n",
       "          -3.92011851e-02, -7.21478015e-02,  1.69972256e-02,\n",
       "           1.85870696e-02, -3.94210080e-03, -1.66171081e-02,\n",
       "          -3.61262448e-03, -3.49060372e-02, -6.63585961e-02,\n",
       "          -4.22764309e-02,  1.08537354e-01,  3.90081294e-03,\n",
       "           3.10377963e-02,  1.16251826e-01,  8.96424204e-02,\n",
       "          -1.15321353e-01,  5.42206429e-02,  3.23331542e-02,\n",
       "          -2.15580780e-03,  2.77188048e-03, -3.91399227e-02,\n",
       "          -1.10831140e-02, -4.82849367e-02, -3.06056943e-02,\n",
       "           5.64546958e-02, -5.80468401e-02, -7.56446198e-02,\n",
       "           4.18427922e-02, -1.05126522e-01,  3.23545337e-02,\n",
       "           2.53423210e-03, -3.97583656e-03]], dtype=float32)>])"
      ]
     },
     "execution_count": 42,
     "metadata": {},
     "output_type": "execute_result"
    }
   ],
   "source": [
    "lstm_decoder(np.expand_dims(padded[0],axis=0), conv_res)"
   ]
  },
  {
   "cell_type": "markdown",
   "id": "220c92bd",
   "metadata": {},
   "source": [
    "### Training"
   ]
  },
  {
   "cell_type": "code",
   "execution_count": 43,
   "id": "da8c4233",
   "metadata": {},
   "outputs": [],
   "source": [
    "from sklearn.model_selection import train_test_split"
   ]
  },
  {
   "cell_type": "code",
   "execution_count": 44,
   "id": "beeb11cf",
   "metadata": {},
   "outputs": [],
   "source": [
    "loss_object = tf.keras.losses.SparseCategoricalCrossentropy(reduction='none',\n",
    "                                                                         from_logits=True)\n",
    "lr_value = 1e-3\n",
    "reduction_power = 10\n",
    "optimizer = tf.keras.optimizers.RMSprop(learning_rate=lr_value)\n",
    "with_weights = False"
   ]
  },
  {
   "cell_type": "code",
   "execution_count": 45,
   "id": "ae8fb923",
   "metadata": {},
   "outputs": [],
   "source": [
    "epochs = 30\n",
    "batch_size = 128\n",
    "patience_epochs = 2"
   ]
  },
  {
   "cell_type": "code",
   "execution_count": 46,
   "id": "a66c0d49",
   "metadata": {},
   "outputs": [],
   "source": [
    "def loss_function(real, pred, loss_weights):\n",
    "        mask = tf.math.logical_not(tf.math.equal(real, vocab[pad_token]))\n",
    "        loss_ = loss_object(real, pred)\n",
    "        mask = tf.cast(mask, dtype=loss_.dtype)\n",
    "        loss_ *= mask\n",
    "        loss_weights = tf.cast(loss_weights, dtype=loss_.dtype)\n",
    "        loss_*=loss_weights\n",
    "        return loss_"
   ]
  },
  {
   "cell_type": "code",
   "execution_count": 47,
   "id": "f488d274",
   "metadata": {},
   "outputs": [],
   "source": [
    "@tf.function\n",
    "def train_step(image, target, lengths, optimizer):\n",
    "\n",
    "    with tf.GradientTape() as tape:\n",
    "        initial_state = conv_encoder(image)\n",
    "        # Teacher forcing - feeding the target as the next input\n",
    "        batched_loss = []\n",
    "        for t in range(1, target.shape[1]):\n",
    "            \n",
    "            dec_input = tf.expand_dims(target[:, t-1], 1)\n",
    "            result, initial_state = lstm_decoder(input=dec_input, features=initial_state)\n",
    "            weights = tf.broadcast_to(class_weights, shape=(target[:,t].shape[0], class_weights.shape[0]))\n",
    "            weights = tf.gather(weights, target[:,t],axis=1, batch_dims=1)\n",
    "            batched_loss.append(loss_function(target[:, t], result, weights))\n",
    "        batched_loss = tf.reshape(tf.stack(batched_loss), shape=target[:,1:].shape)\n",
    "        batched_loss = tf.reduce_sum(batched_loss, axis=1)\n",
    "        lengths = tf.cast(lengths, dtype=batched_loss.dtype)\n",
    "        loss = tf.reduce_mean(batched_loss / lengths)\n",
    "\n",
    "    perplexity = tf.exp(loss)\n",
    "\n",
    "    variables = conv_encoder.trainable_variables + lstm_decoder.trainable_variables\n",
    "    gradients = tape.gradient(loss, variables)\n",
    "\n",
    "    optimizer.apply_gradients(zip(gradients, variables))\n",
    "\n",
    "    return loss, perplexity"
   ]
  },
  {
   "cell_type": "code",
   "execution_count": 48,
   "id": "10b93616",
   "metadata": {},
   "outputs": [],
   "source": [
    "@tf.function\n",
    "def evaluate(image, target, lengths, optimizer):\n",
    "\n",
    "    initial_state = conv_encoder(image)\n",
    "    # Teacher forcing - feeding the target as the next input\n",
    "    batched_loss = []\n",
    "    for t in range(1, target.shape[1]):\n",
    "\n",
    "        dec_input = tf.expand_dims(target[:, t-1], 1)\n",
    "        result, initial_state = lstm_decoder(input=dec_input, features=initial_state)\n",
    "        weights = tf.broadcast_to(class_weights, shape=(target[:,t].shape[0], class_weights.shape[0]))\n",
    "        weights = tf.gather(weights, target[:,t],axis=1, batch_dims=1)\n",
    "        batched_loss.append(loss_function(target[:, t], result,weights))\n",
    "    \n",
    "    batched_loss = tf.reshape(tf.stack(batched_loss), shape=target[:,1:].shape)\n",
    "    batched_loss = tf.reduce_sum(batched_loss, axis=1)\n",
    "    lengths = tf.cast(lengths, dtype=batched_loss.dtype)\n",
    "    loss = tf.reduce_mean(batched_loss / lengths)\n",
    "    perplexity = tf.exp(loss)\n",
    "\n",
    "\n",
    "    return loss, perplexity"
   ]
  },
  {
   "cell_type": "code",
   "execution_count": 49,
   "id": "f64915b3",
   "metadata": {},
   "outputs": [],
   "source": [
    "train_images, test_images, train_sequences, test_sequences =  train_test_split(images, padded, test_size=0.1, random_state=9)"
   ]
  },
  {
   "cell_type": "code",
   "execution_count": 50,
   "id": "4942b144",
   "metadata": {},
   "outputs": [],
   "source": [
    "train_length = (train_sequences!=vocab[pad_token]).sum(axis=1)-2"
   ]
  },
  {
   "cell_type": "code",
   "execution_count": 51,
   "id": "52940a15",
   "metadata": {},
   "outputs": [],
   "source": [
    "test_length = (test_sequences!=vocab[pad_token]).sum(axis=1)-2"
   ]
  },
  {
   "cell_type": "code",
   "execution_count": 52,
   "id": "ef709d00",
   "metadata": {},
   "outputs": [],
   "source": [
    "train_images = np.array(np.array_split(train_images, len(train_images)//batch_size))\n",
    "test_images = np.array(np.array_split(test_images, len(test_images)//batch_size))\n",
    "train_sequences = np.array(np.array_split(train_sequences, len(train_sequences)//batch_size))\n",
    "test_sequences = np.array(np.array_split(test_sequences, len(test_sequences)//batch_size))\n",
    "train_length = np.array(np.array_split(train_length, len(train_length)//batch_size))\n",
    "test_length = np.array(np.array_split(test_length, len(test_length)//batch_size))"
   ]
  },
  {
   "cell_type": "code",
   "execution_count": 53,
   "id": "2cf07755",
   "metadata": {},
   "outputs": [
    {
     "data": {
      "text/plain": [
       "((27, 128, 224, 224, 3), (27, 128, 37), (27, 128))"
      ]
     },
     "execution_count": 53,
     "metadata": {},
     "output_type": "execute_result"
    }
   ],
   "source": [
    "train_images.shape, train_sequences.shape, train_length.shape"
   ]
  },
  {
   "cell_type": "code",
   "execution_count": 54,
   "id": "5291edcb",
   "metadata": {},
   "outputs": [
    {
     "name": "stdout",
     "output_type": "stream",
     "text": [
      "Requirement already satisfied: tqdm in /home/ec2-user/anaconda3/envs/amazonei_tensorflow2_p36/lib/python3.6/site-packages (4.61.1)\n",
      "\u001b[33mWARNING: You are using pip version 21.1.2; however, version 21.1.3 is available.\n",
      "You should consider upgrading via the '/home/ec2-user/anaconda3/envs/amazonei_tensorflow2_p36/bin/python -m pip install --upgrade pip' command.\u001b[0m\n"
     ]
    }
   ],
   "source": [
    "!pip install tqdm"
   ]
  },
  {
   "cell_type": "code",
   "execution_count": 55,
   "id": "a7274c3f",
   "metadata": {},
   "outputs": [],
   "source": [
    "if not with_weights:\n",
    "    class_weights = np.array([1 for i in range(len(class_weights))])"
   ]
  },
  {
   "cell_type": "code",
   "execution_count": 56,
   "id": "249004cd",
   "metadata": {},
   "outputs": [],
   "source": [
    "from tqdm import tqdm"
   ]
  },
  {
   "cell_type": "code",
   "execution_count": 57,
   "id": "0ef535ef",
   "metadata": {},
   "outputs": [
    {
     "name": "stderr",
     "output_type": "stream",
     "text": [
      "27it [02:29,  5.53s/it]\n"
     ]
    },
    {
     "name": "stdout",
     "output_type": "stream",
     "text": [
      "Finished epoch 0; Train loss : 6.726306438446045; Train perplexity : 3376.342529296875\n"
     ]
    },
    {
     "name": "stderr",
     "output_type": "stream",
     "text": [
      "0it [00:00, ?it/s]"
     ]
    },
    {
     "name": "stdout",
     "output_type": "stream",
     "text": [
      "Test loss : 6.1749444007873535; Test perplexity : 489.4914855957031\n"
     ]
    },
    {
     "name": "stderr",
     "output_type": "stream",
     "text": [
      "27it [01:22,  3.06s/it]\n"
     ]
    },
    {
     "name": "stdout",
     "output_type": "stream",
     "text": [
      "Finished epoch 1; Train loss : 5.27034330368042; Train perplexity : 216.611328125\n"
     ]
    },
    {
     "name": "stderr",
     "output_type": "stream",
     "text": [
      "0it [00:00, ?it/s]"
     ]
    },
    {
     "name": "stdout",
     "output_type": "stream",
     "text": [
      "Test loss : 4.868429660797119; Test perplexity : 131.65171813964844\n"
     ]
    },
    {
     "name": "stderr",
     "output_type": "stream",
     "text": [
      "27it [01:23,  3.10s/it]\n"
     ]
    },
    {
     "name": "stdout",
     "output_type": "stream",
     "text": [
      "Finished epoch 2; Train loss : 4.324431419372559; Train perplexity : 78.20356750488281\n"
     ]
    },
    {
     "name": "stderr",
     "output_type": "stream",
     "text": [
      "0it [00:00, ?it/s]"
     ]
    },
    {
     "name": "stdout",
     "output_type": "stream",
     "text": [
      "Test loss : 4.299644947052002; Test perplexity : 74.7761001586914\n"
     ]
    },
    {
     "name": "stderr",
     "output_type": "stream",
     "text": [
      "27it [01:24,  3.13s/it]\n"
     ]
    },
    {
     "name": "stdout",
     "output_type": "stream",
     "text": [
      "Finished epoch 3; Train loss : 3.7572481632232666; Train perplexity : 44.37887954711914\n"
     ]
    },
    {
     "name": "stderr",
     "output_type": "stream",
     "text": [
      "0it [00:00, ?it/s]"
     ]
    },
    {
     "name": "stdout",
     "output_type": "stream",
     "text": [
      "Test loss : 4.0659871101379395; Test perplexity : 59.29136657714844\n"
     ]
    },
    {
     "name": "stderr",
     "output_type": "stream",
     "text": [
      "27it [01:25,  3.16s/it]\n"
     ]
    },
    {
     "name": "stdout",
     "output_type": "stream",
     "text": [
      "Finished epoch 4; Train loss : 3.440006971359253; Train perplexity : 31.848636627197266\n"
     ]
    },
    {
     "name": "stderr",
     "output_type": "stream",
     "text": [
      "0it [00:00, ?it/s]"
     ]
    },
    {
     "name": "stdout",
     "output_type": "stream",
     "text": [
      "Test loss : 3.8746140003204346; Test perplexity : 48.7705192565918\n"
     ]
    },
    {
     "name": "stderr",
     "output_type": "stream",
     "text": [
      "27it [01:28,  3.28s/it]\n"
     ]
    },
    {
     "name": "stdout",
     "output_type": "stream",
     "text": [
      "Finished epoch 5; Train loss : 3.196138620376587; Train perplexity : 24.85237693786621\n"
     ]
    },
    {
     "name": "stderr",
     "output_type": "stream",
     "text": [
      "0it [00:00, ?it/s]"
     ]
    },
    {
     "name": "stdout",
     "output_type": "stream",
     "text": [
      "Test loss : 3.880397081375122; Test perplexity : 49.00774002075195\n"
     ]
    },
    {
     "name": "stderr",
     "output_type": "stream",
     "text": [
      "27it [01:28,  3.28s/it]\n"
     ]
    },
    {
     "name": "stdout",
     "output_type": "stream",
     "text": [
      "Finished epoch 6; Train loss : 2.9826323986053467; Train perplexity : 19.96853256225586\n"
     ]
    },
    {
     "name": "stderr",
     "output_type": "stream",
     "text": [
      "0it [00:00, ?it/s]"
     ]
    },
    {
     "name": "stdout",
     "output_type": "stream",
     "text": [
      "Test loss : 3.823805570602417; Test perplexity : 46.398223876953125\n"
     ]
    },
    {
     "name": "stderr",
     "output_type": "stream",
     "text": [
      "27it [01:23,  3.11s/it]\n"
     ]
    },
    {
     "name": "stdout",
     "output_type": "stream",
     "text": [
      "Finished epoch 7; Train loss : 2.812933921813965; Train perplexity : 16.80807113647461\n"
     ]
    },
    {
     "name": "stderr",
     "output_type": "stream",
     "text": [
      "0it [00:00, ?it/s]"
     ]
    },
    {
     "name": "stdout",
     "output_type": "stream",
     "text": [
      "Test loss : 3.765131711959839; Test perplexity : 43.70442199707031\n"
     ]
    },
    {
     "name": "stderr",
     "output_type": "stream",
     "text": [
      "27it [01:22,  3.06s/it]\n"
     ]
    },
    {
     "name": "stdout",
     "output_type": "stream",
     "text": [
      "Finished epoch 8; Train loss : 2.6398987770080566; Train perplexity : 14.152265548706055\n"
     ]
    },
    {
     "name": "stderr",
     "output_type": "stream",
     "text": [
      "0it [00:00, ?it/s]"
     ]
    },
    {
     "name": "stdout",
     "output_type": "stream",
     "text": [
      "Test loss : 3.7647411823272705; Test perplexity : 43.684814453125\n"
     ]
    },
    {
     "name": "stderr",
     "output_type": "stream",
     "text": [
      "27it [01:22,  3.05s/it]\n"
     ]
    },
    {
     "name": "stdout",
     "output_type": "stream",
     "text": [
      "Finished epoch 9; Train loss : 2.49131178855896; Train perplexity : 12.165546417236328\n"
     ]
    },
    {
     "name": "stderr",
     "output_type": "stream",
     "text": [
      "0it [00:00, ?it/s]"
     ]
    },
    {
     "name": "stdout",
     "output_type": "stream",
     "text": [
      "Test loss : 3.8366823196411133; Test perplexity : 46.87786865234375\n"
     ]
    },
    {
     "name": "stderr",
     "output_type": "stream",
     "text": [
      "27it [01:22,  3.04s/it]\n"
     ]
    },
    {
     "name": "stdout",
     "output_type": "stream",
     "text": [
      "Finished epoch 10; Train loss : 2.3412508964538574; Train perplexity : 10.444001197814941\n"
     ]
    },
    {
     "name": "stderr",
     "output_type": "stream",
     "text": [
      "0it [00:00, ?it/s]"
     ]
    },
    {
     "name": "stdout",
     "output_type": "stream",
     "text": [
      "Test loss : 3.7217910289764404; Test perplexity : 41.83255386352539\n"
     ]
    },
    {
     "name": "stderr",
     "output_type": "stream",
     "text": [
      "27it [01:22,  3.04s/it]\n"
     ]
    },
    {
     "name": "stdout",
     "output_type": "stream",
     "text": [
      "Finished epoch 11; Train loss : 2.218362808227539; Train perplexity : 9.23667049407959\n"
     ]
    },
    {
     "name": "stderr",
     "output_type": "stream",
     "text": [
      "0it [00:00, ?it/s]"
     ]
    },
    {
     "name": "stdout",
     "output_type": "stream",
     "text": [
      "Test loss : 3.7622272968292236; Test perplexity : 43.440120697021484\n"
     ]
    },
    {
     "name": "stderr",
     "output_type": "stream",
     "text": [
      "27it [01:22,  3.04s/it]\n"
     ]
    },
    {
     "name": "stdout",
     "output_type": "stream",
     "text": [
      "Finished epoch 12; Train loss : 2.107008218765259; Train perplexity : 8.256625175476074\n"
     ]
    },
    {
     "name": "stderr",
     "output_type": "stream",
     "text": [
      "0it [00:00, ?it/s]"
     ]
    },
    {
     "name": "stdout",
     "output_type": "stream",
     "text": [
      "Test loss : 3.8461878299713135; Test perplexity : 47.35322952270508\n",
      "There was no improvement in test loss for 2 epochs, thus reducing learning rate\n"
     ]
    },
    {
     "name": "stderr",
     "output_type": "stream",
     "text": [
      "27it [01:21,  3.04s/it]\n"
     ]
    },
    {
     "name": "stdout",
     "output_type": "stream",
     "text": [
      "Finished epoch 13; Train loss : 1.8804731369018555; Train perplexity : 6.6061882972717285\n"
     ]
    },
    {
     "name": "stderr",
     "output_type": "stream",
     "text": [
      "0it [00:00, ?it/s]"
     ]
    },
    {
     "name": "stdout",
     "output_type": "stream",
     "text": [
      "Test loss : 3.6752984523773193; Test perplexity : 39.831695556640625\n"
     ]
    },
    {
     "name": "stderr",
     "output_type": "stream",
     "text": [
      "27it [01:22,  3.04s/it]\n"
     ]
    },
    {
     "name": "stdout",
     "output_type": "stream",
     "text": [
      "Finished epoch 14; Train loss : 1.8171617984771729; Train perplexity : 6.177892208099365\n"
     ]
    },
    {
     "name": "stderr",
     "output_type": "stream",
     "text": [
      "0it [00:00, ?it/s]"
     ]
    },
    {
     "name": "stdout",
     "output_type": "stream",
     "text": [
      "Test loss : 3.6573925018310547; Test perplexity : 39.12544250488281\n"
     ]
    },
    {
     "name": "stderr",
     "output_type": "stream",
     "text": [
      "27it [01:22,  3.05s/it]\n"
     ]
    },
    {
     "name": "stdout",
     "output_type": "stream",
     "text": [
      "Finished epoch 15; Train loss : 1.7908737659454346; Train perplexity : 6.014473915100098\n"
     ]
    },
    {
     "name": "stderr",
     "output_type": "stream",
     "text": [
      "0it [00:00, ?it/s]"
     ]
    },
    {
     "name": "stdout",
     "output_type": "stream",
     "text": [
      "Test loss : 3.6435468196868896; Test perplexity : 38.58089828491211\n"
     ]
    },
    {
     "name": "stderr",
     "output_type": "stream",
     "text": [
      "27it [01:22,  3.05s/it]\n"
     ]
    },
    {
     "name": "stdout",
     "output_type": "stream",
     "text": [
      "Finished epoch 16; Train loss : 1.7685232162475586; Train perplexity : 5.87961483001709\n"
     ]
    },
    {
     "name": "stderr",
     "output_type": "stream",
     "text": [
      "0it [00:00, ?it/s]"
     ]
    },
    {
     "name": "stdout",
     "output_type": "stream",
     "text": [
      "Test loss : 3.637927770614624; Test perplexity : 38.36539077758789\n"
     ]
    },
    {
     "name": "stderr",
     "output_type": "stream",
     "text": [
      "27it [01:22,  3.04s/it]\n"
     ]
    },
    {
     "name": "stdout",
     "output_type": "stream",
     "text": [
      "Finished epoch 17; Train loss : 1.7485617399215698; Train perplexity : 5.76215124130249\n"
     ]
    },
    {
     "name": "stderr",
     "output_type": "stream",
     "text": [
      "0it [00:00, ?it/s]"
     ]
    },
    {
     "name": "stdout",
     "output_type": "stream",
     "text": [
      "Test loss : 3.6334078311920166; Test perplexity : 38.18874740600586\n"
     ]
    },
    {
     "name": "stderr",
     "output_type": "stream",
     "text": [
      "27it [01:21,  3.03s/it]\n"
     ]
    },
    {
     "name": "stdout",
     "output_type": "stream",
     "text": [
      "Finished epoch 18; Train loss : 1.7299171686172485; Train perplexity : 5.654812335968018\n"
     ]
    },
    {
     "name": "stderr",
     "output_type": "stream",
     "text": [
      "0it [00:00, ?it/s]"
     ]
    },
    {
     "name": "stdout",
     "output_type": "stream",
     "text": [
      "Test loss : 3.6301305294036865; Test perplexity : 38.0607795715332\n"
     ]
    },
    {
     "name": "stderr",
     "output_type": "stream",
     "text": [
      "27it [01:22,  3.07s/it]\n"
     ]
    },
    {
     "name": "stdout",
     "output_type": "stream",
     "text": [
      "Finished epoch 19; Train loss : 1.7125234603881836; Train perplexity : 5.556562423706055\n"
     ]
    },
    {
     "name": "stderr",
     "output_type": "stream",
     "text": [
      "0it [00:00, ?it/s]"
     ]
    },
    {
     "name": "stdout",
     "output_type": "stream",
     "text": [
      "Test loss : 3.6280717849731445; Test perplexity : 37.98063278198242\n"
     ]
    },
    {
     "name": "stderr",
     "output_type": "stream",
     "text": [
      "27it [01:22,  3.04s/it]\n"
     ]
    },
    {
     "name": "stdout",
     "output_type": "stream",
     "text": [
      "Finished epoch 20; Train loss : 1.6958376169204712; Train perplexity : 5.464054107666016\n"
     ]
    },
    {
     "name": "stderr",
     "output_type": "stream",
     "text": [
      "0it [00:00, ?it/s]"
     ]
    },
    {
     "name": "stdout",
     "output_type": "stream",
     "text": [
      "Test loss : 3.6267969608306885; Test perplexity : 37.929054260253906\n"
     ]
    },
    {
     "name": "stderr",
     "output_type": "stream",
     "text": [
      "27it [01:22,  3.07s/it]\n"
     ]
    },
    {
     "name": "stdout",
     "output_type": "stream",
     "text": [
      "Finished epoch 21; Train loss : 1.6801091432571411; Train perplexity : 5.378342628479004\n"
     ]
    },
    {
     "name": "stderr",
     "output_type": "stream",
     "text": [
      "0it [00:00, ?it/s]"
     ]
    },
    {
     "name": "stdout",
     "output_type": "stream",
     "text": [
      "Test loss : 3.62872314453125; Test perplexity : 38.00154495239258\n"
     ]
    },
    {
     "name": "stderr",
     "output_type": "stream",
     "text": [
      "27it [01:23,  3.11s/it]\n"
     ]
    },
    {
     "name": "stdout",
     "output_type": "stream",
     "text": [
      "Finished epoch 22; Train loss : 1.6684571504592896; Train perplexity : 5.315824031829834\n"
     ]
    },
    {
     "name": "stderr",
     "output_type": "stream",
     "text": [
      "0it [00:00, ?it/s]"
     ]
    },
    {
     "name": "stdout",
     "output_type": "stream",
     "text": [
      "Test loss : 3.6262218952178955; Test perplexity : 37.90189743041992\n"
     ]
    },
    {
     "name": "stderr",
     "output_type": "stream",
     "text": [
      "27it [01:24,  3.12s/it]\n"
     ]
    },
    {
     "name": "stdout",
     "output_type": "stream",
     "text": [
      "Finished epoch 23; Train loss : 1.6502058506011963; Train perplexity : 5.219220161437988\n"
     ]
    },
    {
     "name": "stderr",
     "output_type": "stream",
     "text": [
      "0it [00:00, ?it/s]"
     ]
    },
    {
     "name": "stdout",
     "output_type": "stream",
     "text": [
      "Test loss : 3.628103256225586; Test perplexity : 37.975257873535156\n"
     ]
    },
    {
     "name": "stderr",
     "output_type": "stream",
     "text": [
      "27it [01:23,  3.08s/it]\n"
     ]
    },
    {
     "name": "stdout",
     "output_type": "stream",
     "text": [
      "Finished epoch 24; Train loss : 1.6360557079315186; Train perplexity : 5.145604610443115\n"
     ]
    },
    {
     "name": "stderr",
     "output_type": "stream",
     "text": [
      "0it [00:00, ?it/s]"
     ]
    },
    {
     "name": "stdout",
     "output_type": "stream",
     "text": [
      "Test loss : 3.627680540084839; Test perplexity : 37.95869064331055\n"
     ]
    },
    {
     "name": "stderr",
     "output_type": "stream",
     "text": [
      "27it [01:31,  3.39s/it]\n"
     ]
    },
    {
     "name": "stdout",
     "output_type": "stream",
     "text": [
      "Finished epoch 25; Train loss : 1.6226379871368408; Train perplexity : 5.076684474945068\n"
     ]
    },
    {
     "name": "stderr",
     "output_type": "stream",
     "text": [
      "0it [00:00, ?it/s]"
     ]
    },
    {
     "name": "stdout",
     "output_type": "stream",
     "text": [
      "Test loss : 3.6309707164764404; Test perplexity : 38.08320999145508\n"
     ]
    },
    {
     "name": "stderr",
     "output_type": "stream",
     "text": [
      "27it [01:24,  3.13s/it]\n"
     ]
    },
    {
     "name": "stdout",
     "output_type": "stream",
     "text": [
      "Finished epoch 26; Train loss : 1.6113556623458862; Train perplexity : 5.019460678100586\n"
     ]
    },
    {
     "name": "stderr",
     "output_type": "stream",
     "text": [
      "0it [00:00, ?it/s]"
     ]
    },
    {
     "name": "stdout",
     "output_type": "stream",
     "text": [
      "Test loss : 3.6297943592071533; Test perplexity : 38.02646255493164\n"
     ]
    },
    {
     "name": "stderr",
     "output_type": "stream",
     "text": [
      "27it [01:23,  3.09s/it]\n"
     ]
    },
    {
     "name": "stdout",
     "output_type": "stream",
     "text": [
      "Finished epoch 27; Train loss : 1.5958058834075928; Train perplexity : 4.941821575164795\n"
     ]
    },
    {
     "name": "stderr",
     "output_type": "stream",
     "text": [
      "0it [00:00, ?it/s]"
     ]
    },
    {
     "name": "stdout",
     "output_type": "stream",
     "text": [
      "Test loss : 3.6319875717163086; Test perplexity : 38.114437103271484\n"
     ]
    },
    {
     "name": "stderr",
     "output_type": "stream",
     "text": [
      "27it [01:22,  3.05s/it]\n"
     ]
    },
    {
     "name": "stdout",
     "output_type": "stream",
     "text": [
      "Finished epoch 28; Train loss : 1.583735704421997; Train perplexity : 4.882404327392578\n"
     ]
    },
    {
     "name": "stderr",
     "output_type": "stream",
     "text": [
      "0it [00:00, ?it/s]"
     ]
    },
    {
     "name": "stdout",
     "output_type": "stream",
     "text": [
      "Test loss : 3.634873151779175; Test perplexity : 38.223697662353516\n",
      "There was no improvement in test loss for 2 epochs, thus reducing learning rate\n"
     ]
    },
    {
     "name": "stderr",
     "output_type": "stream",
     "text": [
      "27it [01:22,  3.04s/it]\n"
     ]
    },
    {
     "name": "stdout",
     "output_type": "stream",
     "text": [
      "Finished epoch 29; Train loss : 1.5695332288742065; Train perplexity : 4.814998149871826\n",
      "Test loss : 3.6385982036590576; Test perplexity : 38.35597610473633\n"
     ]
    }
   ],
   "source": [
    "train_loss = []\n",
    "train_perplexity = []\n",
    "test_loss = []\n",
    "test_perplexity = []\n",
    "overfit_epochs = 0\n",
    "for epoch in range(epochs):\n",
    "    epoch_train_loss = 0\n",
    "    epoch_train_perplexity = 0\n",
    "    epoch_test_loss = 0\n",
    "    epoch_test_perplexity = 0\n",
    "    for batch_train_images, batch_train_sequences, batched_train_length in tqdm(zip(train_images,train_sequences,train_length)):\n",
    "        batched_train_loss, batched_train_perplexity = train_step(batch_train_images,batch_train_sequences,batched_train_length, optimizer)\n",
    "        epoch_train_loss+=batched_train_loss\n",
    "        epoch_train_perplexity+=batched_train_perplexity\n",
    "    epoch_train_loss = epoch_train_loss/train_images.shape[0]\n",
    "    epoch_train_perplexity = epoch_train_perplexity/train_images.shape[0]\n",
    "    train_loss.append(epoch_train_loss)\n",
    "    train_perplexity.append(epoch_train_perplexity)\n",
    "    print('Finished epoch {}; Train loss : {}; Train perplexity : {}'.format(epoch,epoch_train_loss,epoch_train_perplexity))\n",
    "    for batch_test_images, batch_test_sequences, batched_test_length in zip(test_images,test_sequences,test_length):\n",
    "        batched_test_loss, batched_test_perplexity = evaluate(batch_test_images,batch_test_sequences,batched_test_length, optimizer)\n",
    "        epoch_test_loss+=batched_test_loss\n",
    "        epoch_test_perplexity+=batched_test_perplexity\n",
    "    epoch_test_loss = epoch_test_loss/test_images.shape[0]\n",
    "    epoch_test_perplexity = epoch_test_perplexity/test_images.shape[0]\n",
    "    test_perplexity.append(epoch_test_perplexity)\n",
    "    test_loss.append(epoch_test_loss)\n",
    "    print('Test loss : {}; Test perplexity : {}'.format(epoch_test_loss,epoch_test_perplexity))\n",
    "    if len(test_loss)>=2 and test_loss[-2]<test_loss[-1]:\n",
    "        overfit_epochs+=1\n",
    "    else:\n",
    "        overfit_epochs=0\n",
    "    if overfit_epochs==patience_epochs:\n",
    "        lr_value/=reduction_power\n",
    "        optimizer.lr.assign(lr_value)\n",
    "        print('There was no improvement in test loss for {} epochs, thus reducing learning rate'.format(patience_epochs))"
   ]
  },
  {
   "cell_type": "markdown",
   "id": "3fac76dc",
   "metadata": {},
   "source": [
    "# Viewing and saving results"
   ]
  },
  {
   "cell_type": "code",
   "execution_count": 58,
   "id": "ad37b557",
   "metadata": {},
   "outputs": [],
   "source": [
    "df = pd.DataFrame()\n",
    "model_name = 'conv_lstm_transfer_learning'\n",
    "df['train_perplexity_{}'.format(model_name)] = [i.numpy() for i in train_perplexity]\n",
    "df['test_perplexity_{}'.format(model_name)] = [i.numpy() for i in test_perplexity]\n",
    "df['train_loss_{}'.format(model_name)] = [i.numpy() for i in train_loss]\n",
    "df['test_loss_{}'.format(model_name)] = [i.numpy() for i in test_loss]\n",
    "df.to_csv('{}_logs.csv'.format(model_name),index=False)"
   ]
  },
  {
   "cell_type": "code",
   "execution_count": 59,
   "id": "56a69ff6",
   "metadata": {},
   "outputs": [],
   "source": [
    "import matplotlib.pyplot as plt\n",
    "import seaborn as sns\n",
    "sns.set()"
   ]
  },
  {
   "cell_type": "code",
   "execution_count": 60,
   "id": "9883bc3c",
   "metadata": {},
   "outputs": [
    {
     "data": {
      "image/png": "[encoded data removed]",
      "text/plain": [
       "<Figure size 1080x864 with 1 Axes>"
      ]
     },
     "metadata": {},
     "output_type": "display_data"
    }
   ],
   "source": [
    "plt.figure(figsize=(15,12))\n",
    "plt.title('Perplexity results')\n",
    "plt.plot(df['train_perplexity_{}'.format(model_name)])\n",
    "plt.plot(df['test_perplexity_{}'.format(model_name)])\n",
    "plt.xlabel('Epochs')\n",
    "plt.ylabel('Perplexity')\n",
    "plt.yticks(np.arange(min(df['train_perplexity_{}'.format(model_name)]), max(df['train_perplexity_{}'.format(model_name)]),5000))\n",
    "plt.legend(['Train', 'Test']);"
   ]
  },
  {
   "cell_type": "code",
   "execution_count": 61,
   "id": "a46c5de3",
   "metadata": {},
   "outputs": [
    {
     "data": {
      "image/png": "[encoded data removed]",
      "text/plain": [
       "<Figure size 1080x864 with 1 Axes>"
      ]
     },
     "metadata": {},
     "output_type": "display_data"
    }
   ],
   "source": [
    "plt.figure(figsize=(15,12))\n",
    "plt.title('Loss results')\n",
    "plt.plot(df['train_loss_{}'.format(model_name)])\n",
    "plt.plot(df['test_loss_{}'.format(model_name)])\n",
    "plt.xlabel('Epochs')\n",
    "plt.ylabel('Loss')\n",
    "plt.yticks(np.arange(min(df['train_loss_{}'.format(model_name)]),max(df['train_loss_{}'.format(model_name)]),0.1));"
   ]
  },
  {
   "cell_type": "markdown",
   "id": "5bf9e687",
   "metadata": {},
   "source": [
    "# Testing model"
   ]
  },
  {
   "cell_type": "code",
   "execution_count": 62,
   "id": "eabc718d",
   "metadata": {},
   "outputs": [],
   "source": [
    "import matplotlib.pyplot as plt\n",
    "import seaborn as sns"
   ]
  },
  {
   "cell_type": "code",
   "execution_count": 63,
   "id": "2cd9ffb1",
   "metadata": {},
   "outputs": [],
   "source": [
    "class Decoder:\n",
    "    def __init__(self, encoder: tf.keras.Model,\n",
    "                 decoder: tf.keras.Model,\n",
    "                 start_token: int,\n",
    "                 end_token: int,\n",
    "                 max_len: int = 10, ):\n",
    "        self.encoder = encoder\n",
    "        self.decoder = decoder\n",
    "        self.max_len = max_len\n",
    "        self.start_token = start_token\n",
    "        self.end_token = end_token\n",
    "\n",
    "    def decode(self, input):\n",
    "        pass\n",
    "\n",
    "\n",
    "class GreedyDecoder(Decoder):\n",
    "    def __init__(self, encoder: tf.keras.Model,\n",
    "                 decoder: tf.keras.Model,\n",
    "                 start_token: int,\n",
    "                 end_token: int,\n",
    "                 max_len: int = 10,\n",
    "                 ):\n",
    "        super().__init__(encoder,\n",
    "                         decoder,\n",
    "                         start_token,\n",
    "                         end_token,\n",
    "                         max_len\n",
    "                         )\n",
    "\n",
    "    def decode(self, input, max_len_output=50):\n",
    "        initial_state = self.encoder(np.expand_dims(input, axis=0))\n",
    "\n",
    "        target_seq = np.zeros((1, 1))\n",
    "        target_seq[0, 0] = self.start_token\n",
    "\n",
    "        res = []\n",
    "        while True:\n",
    "            # Sample a token\n",
    "            output, initial_state = self.decoder(target_seq,initial_state)\n",
    "            sampled_token_index = np.argmax(output.numpy()[0])\n",
    "\n",
    "            if len(res) > max_len_output or sampled_token_index == self.end_token:\n",
    "                break\n",
    "\n",
    "            res.append(sampled_token_index)\n",
    "\n",
    "            target_seq = np.zeros((1, 1))\n",
    "            target_seq[0, 0] = sampled_token_index\n",
    "\n",
    "       \n",
    "        return res\n"
   ]
  },
  {
   "cell_type": "code",
   "execution_count": 64,
   "id": "a68f0369",
   "metadata": {},
   "outputs": [],
   "source": [
    "class BeamSearchDecoder(Decoder):\n",
    "    def __init__(self, encoder: tf.keras.Model,\n",
    "                 decoder: tf.keras.Model,\n",
    "                 start_token: int,\n",
    "                 end_token: int,\n",
    "                 max_len: int = 10,\n",
    "                 ):\n",
    "        super().__init__(encoder,\n",
    "                         decoder,\n",
    "                         start_token,\n",
    "                         end_token,\n",
    "                         max_len\n",
    "                         )\n",
    "\n",
    "    def decode(self, input, beam_size=3):\n",
    "        start = [self.start_token]\n",
    "        initial_state = self.encoder(np.expand_dims(input,axis=0))\n",
    "\n",
    "\n",
    "        start_word = [[start, 0.0, initial_state]]\n",
    "\n",
    "        while len(start_word[0][0]) < self.max_len:\n",
    "            temp = []\n",
    "            for s in start_word:\n",
    "                target_seq = np.array([[s[0][-1]]])\n",
    "                initial_state = s[-1]\n",
    "                output, initial_state= self.decoder(target_seq, initial_state)\n",
    "                output = np.hstack(output)\n",
    "                output = tf.nn.softmax(output).numpy()\n",
    "                word_preds = np.argsort(output)[-beam_size:]\n",
    "\n",
    "                for w in word_preds:\n",
    "                    next_cap, prob = s[0][:], s[1]\n",
    "                    next_cap.append(w)\n",
    "                    prob += output[w]\n",
    "                    temp.append([next_cap, prob, initial_state])\n",
    "\n",
    "            start_word = temp\n",
    "            # Sorting according to the probabilities\n",
    "            start_word = sorted(start_word, reverse=False, key=lambda l: l[1])\n",
    "            # Getting the top words\n",
    "            start_word = start_word[-beam_size:]\n",
    "\n",
    "        start_word = start_word[-1][0]\n",
    "\n",
    "        final_caption = []\n",
    "\n",
    "        for i in start_word:\n",
    "            if i != self.end_token:\n",
    "                final_caption.append(i)\n",
    "            else:\n",
    "                break\n",
    "        return final_caption[1:]"
   ]
  },
  {
   "cell_type": "code",
   "execution_count": 65,
   "id": "d19fc38d",
   "metadata": {},
   "outputs": [],
   "source": [
    "def predict(data, decoder, inverse_vocab,\n",
    "           beam_size=None):\n",
    "    if beam_size:\n",
    "        result = decoder.decode(data, beam_size=beam_size)\n",
    "    else:\n",
    "        result = decoder.decode(data)\n",
    "    return ' '.join([inverse_vocab[i] for i in result])"
   ]
  },
  {
   "cell_type": "code",
   "execution_count": 66,
   "id": "4be12902",
   "metadata": {},
   "outputs": [],
   "source": [
    "greedy_decoder = GreedyDecoder(conv_encoder, lstm_decoder, vocab[start_token], vocab[end_token],\n",
    "             max_len=39)"
   ]
  },
  {
   "cell_type": "code",
   "execution_count": 67,
   "id": "6eed3a02",
   "metadata": {},
   "outputs": [],
   "source": [
    "beam_decoder = BeamSearchDecoder(conv_encoder, lstm_decoder, vocab[start_token], vocab[end_token],\n",
    "             max_len=39)"
   ]
  },
  {
   "cell_type": "code",
   "execution_count": 68,
   "id": "080f167e",
   "metadata": {},
   "outputs": [
    {
     "data": {
      "text/plain": [
       "(3840, 224, 224, 3)"
      ]
     },
     "execution_count": 68,
     "metadata": {},
     "output_type": "execute_result"
    }
   ],
   "source": [
    "images.shape"
   ]
  },
  {
   "cell_type": "code",
   "execution_count": 77,
   "id": "574080d2",
   "metadata": {},
   "outputs": [],
   "source": [
    "idx = np.random.choice(range(len(images)))\n",
    "sample = images[idx]"
   ]
  },
  {
   "cell_type": "code",
   "execution_count": 78,
   "id": "715e82ad",
   "metadata": {},
   "outputs": [
    {
     "name": "stdout",
     "output_type": "stream",
     "text": [
      "women are mysterious and flirty smiling\n"
     ]
    },
    {
     "data": {
      "image/png": "[encoded data removed]",
      "text/plain": [
       "<Figure size 576x576 with 1 Axes>"
      ]
     },
     "metadata": {},
     "output_type": "display_data"
    }
   ],
   "source": [
    "plt.figure(figsize=(8,8))\n",
    "plt.imshow(sample)\n",
    "plt.grid([])\n",
    "plt.axis('off');\n",
    "print(annotations[idx])"
   ]
  },
  {
   "cell_type": "code",
   "execution_count": 79,
   "id": "43822e86",
   "metadata": {},
   "outputs": [
    {
     "data": {
      "text/plain": [
       "'laughs woman laughs a woman laughs because she takes part in a traditional or national custom and a man looks a bit confused because he is up the strange , but with a man looks confident and'"
      ]
     },
     "execution_count": 79,
     "metadata": {},
     "output_type": "execute_result"
    }
   ],
   "source": [
    "predict(sample, greedy_decoder, inverse_vocab)"
   ]
  },
  {
   "cell_type": "code",
   "execution_count": 80,
   "id": "4c55cdce",
   "metadata": {},
   "outputs": [
    {
     "data": {
      "text/plain": [
       "\"laughs woman laughs as she takes part in some traditional or national custom and a man behind the screams with joy because he is going to give up the beach and doesn ' t pay attention\""
      ]
     },
     "execution_count": 80,
     "metadata": {},
     "output_type": "execute_result"
    }
   ],
   "source": [
    "predict(sample, beam_decoder, inverse_vocab, beam_size=3)"
   ]
  },
  {
   "cell_type": "markdown",
   "id": "968aa7e6",
   "metadata": {},
   "source": [
    "# Blue score calculation"
   ]
  },
  {
   "cell_type": "code",
   "execution_count": 92,
   "id": "8517bdbc",
   "metadata": {},
   "outputs": [],
   "source": [
    "from nltk.translate.bleu_score import sentence_bleu\n"
   ]
  },
  {
   "cell_type": "markdown",
   "id": "b7656495",
   "metadata": {},
   "source": [
    "### making predictions on test dataset with beam_size of 5"
   ]
  },
  {
   "cell_type": "code",
   "execution_count": 105,
   "id": "c6ef84e3",
   "metadata": {},
   "outputs": [
    {
     "name": "stderr",
     "output_type": "stream",
     "text": [
      "100%|██████████| 6/6 [13:56<00:00, 139.41s/it]\n"
     ]
    }
   ],
   "source": [
    "test_predictions = []\n",
    "for batch in tqdm(test_images):\n",
    "    for image in batch:\n",
    "        result = predict(image, beam_decoder, inverse_vocab, beam_size=5)\n",
    "        test_predictions.append(result)"
   ]
  },
  {
   "cell_type": "code",
   "execution_count": 111,
   "id": "04b30774",
   "metadata": {},
   "outputs": [],
   "source": [
    "test_predictions = [i.split(' ') for i in test_predictions]"
   ]
  },
  {
   "cell_type": "code",
   "execution_count": 107,
   "id": "cb44be84",
   "metadata": {},
   "outputs": [],
   "source": [
    "reshaped_sequences = test_sequences.reshape(test_sequences.shape[0]*test_sequences.shape[1],-1)"
   ]
  },
  {
   "cell_type": "code",
   "execution_count": 108,
   "id": "8df53f14",
   "metadata": {},
   "outputs": [],
   "source": [
    "test_sentences = []\n",
    "for i in reshaped_sequences:\n",
    "    tmp = []\n",
    "    for word in i:\n",
    "        if word!=0 and word!=1 and word!=2:\n",
    "            tmp.append(inverse_vocab[word])\n",
    "    test_sentences.append(tmp)"
   ]
  },
  {
   "cell_type": "code",
   "execution_count": 115,
   "id": "5c298c8d",
   "metadata": {},
   "outputs": [
    {
     "name": "stdout",
     "output_type": "stream",
     "text": [
      "Bleu score on test data : 4.2958840740224755e-156\n"
     ]
    }
   ],
   "source": [
    "bleu_score = []\n",
    "for reference, prediction in zip(test_sentences, test_predictions):\n",
    "    bleu_score.append(sentence_bleu(reference, prediction,weights=(0.5, 0.5)))\n",
    "print('Bleu score on test data : {}'.format(np.mean(bleu_score)))"
   ]
  },
  {
   "cell_type": "markdown",
   "id": "a761a622",
   "metadata": {},
   "source": [
    "### making predictions on test dataset with beam_size of 10"
   ]
  },
  {
   "cell_type": "code",
   "execution_count": null,
   "id": "e41d2f88",
   "metadata": {},
   "outputs": [],
   "source": [
    "test_predictions = []\n",
    "for batch in tqdm(test_images):\n",
    "    for image in batch:\n",
    "        result = predict(image, beam_decoder, inverse_vocab, beam_size=10)\n",
    "        test_predictions.append(result)"
   ]
  },
  {
   "cell_type": "code",
   "execution_count": null,
   "id": "e28b5740",
   "metadata": {},
   "outputs": [],
   "source": [
    "bleu_score = []\n",
    "for reference, prediction in zip(test_sentences, test_predictions):\n",
    "    bleu_score.append(sentence_bleu(reference, prediction))\n",
    "print('Bleu score on test data : {}'.format(np.mean(bleu_score)))"
   ]
  },
  {
   "cell_type": "code",
   "execution_count": null,
   "id": "40536e89",
   "metadata": {},
   "outputs": [],
   "source": []
  }
 ],
 "metadata": {
  "kernelspec": {
   "display_name": "conda_amazonei_tensorflow2_p36",
   "language": "python",
   "name": "conda_amazonei_tensorflow2_p36"
  },
  "language_info": {
   "codemirror_mode": {
    "name": "ipython",
    "version": 3
   },
   "file_extension": ".py",
   "mimetype": "text/x-python",
   "name": "python",
   "nbconvert_exporter": "python",
   "pygments_lexer": "ipython3",
   "version": "3.6.13"
  }
 },
 "nbformat": 4,
 "nbformat_minor": 5
}
