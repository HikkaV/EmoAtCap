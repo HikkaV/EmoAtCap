{
 "cells": [
  {
   "cell_type": "code",
   "execution_count": 1,
   "metadata": {},
   "outputs": [],
   "source": [
    "import pandas as pd\n",
    "import os\n",
    "os.environ['PYTHONHASHSEED']=str(2)\n",
    "\n",
    "import numpy as np\n",
    "from sklearn.utils import class_weight\n",
    "from keras_preprocessing import image as im\n",
    "import tensorflow as tf\n",
    "import random"
   ]
  },
  {
   "cell_type": "code",
   "execution_count": 2,
   "metadata": {},
   "outputs": [],
   "source": [
    "def reset_random_seeds():\n",
    "   os.environ['PYTHONHASHSEED']=str(2)\n",
    "   tf.random.set_seed(2)\n",
    "   np.random.seed(2)\n",
    "   random.seed(2)"
   ]
  },
  {
   "cell_type": "markdown",
   "metadata": {},
   "source": [
    "# Loading and preparing data"
   ]
  },
  {
   "cell_type": "code",
   "execution_count": 3,
   "metadata": {},
   "outputs": [],
   "source": [
    "df = pd.read_csv('../../../data/emo-at-cap/emo-at-cap.csv')"
   ]
  },
  {
   "cell_type": "code",
   "execution_count": 4,
   "metadata": {},
   "outputs": [
    {
     "data": {
      "text/plain": [
       "Index(['image_name', 'annotation', 'human_sentiment', 'sentiment'], dtype='object')"
      ]
     },
     "execution_count": 4,
     "metadata": {},
     "output_type": "execute_result"
    }
   ],
   "source": [
    "df.columns"
   ]
  },
  {
   "cell_type": "code",
   "execution_count": 5,
   "metadata": {},
   "outputs": [],
   "source": [
    "annotations = df['annotation'].str.lower().values\n",
    "sentiment = df['human_sentiment'].values"
   ]
  },
  {
   "cell_type": "code",
   "execution_count": 6,
   "metadata": {},
   "outputs": [
    {
     "data": {
      "text/plain": [
       "array(['Neutral', 'Positive', 'Positive', ..., 'Positive', 'Negative',\n",
       "       'Negative'], dtype=object)"
      ]
     },
     "execution_count": 6,
     "metadata": {},
     "output_type": "execute_result"
    }
   ],
   "source": [
    "sentiment"
   ]
  },
  {
   "cell_type": "code",
   "execution_count": 7,
   "metadata": {},
   "outputs": [],
   "source": [
    "mapping_sen = {'Negative' : 0, 'Neutral' : 1, 'Positive' : 2}"
   ]
  },
  {
   "cell_type": "code",
   "execution_count": 8,
   "metadata": {},
   "outputs": [],
   "source": [
    "from nltk.tokenize import WordPunctTokenizer"
   ]
  },
  {
   "cell_type": "code",
   "execution_count": 9,
   "metadata": {},
   "outputs": [],
   "source": [
    "tokenizer = WordPunctTokenizer()"
   ]
  },
  {
   "cell_type": "code",
   "execution_count": 10,
   "metadata": {},
   "outputs": [],
   "source": [
    "indexed = [tokenizer.tokenize(i) for i in annotations]"
   ]
  },
  {
   "cell_type": "code",
   "execution_count": 11,
   "metadata": {},
   "outputs": [],
   "source": [
    "unique_tokens = np.unique(np.hstack(indexed))"
   ]
  },
  {
   "cell_type": "code",
   "execution_count": 12,
   "metadata": {},
   "outputs": [],
   "source": [
    "mapping_tokens = dict([(c+1,i) for c, i in enumerate(unique_tokens)])"
   ]
  },
  {
   "cell_type": "code",
   "execution_count": 13,
   "metadata": {},
   "outputs": [],
   "source": [
    "mapping_tokens[0] = 'PAD'"
   ]
  },
  {
   "cell_type": "code",
   "execution_count": 14,
   "metadata": {},
   "outputs": [],
   "source": [
    "inverse_mapping = dict([(v,k) for k,v in mapping_tokens.items()])"
   ]
  },
  {
   "cell_type": "code",
   "execution_count": 15,
   "metadata": {},
   "outputs": [],
   "source": [
    "mapped = [list(map(lambda x: inverse_mapping[x], i)) for i in indexed]"
   ]
  },
  {
   "cell_type": "code",
   "execution_count": 16,
   "metadata": {},
   "outputs": [
    {
     "data": {
      "text/plain": [
       "8.873177083333333"
      ]
     },
     "execution_count": 16,
     "metadata": {},
     "output_type": "execute_result"
    }
   ],
   "source": [
    "np.mean(list(map(len,mapped)))"
   ]
  },
  {
   "cell_type": "code",
   "execution_count": 17,
   "metadata": {},
   "outputs": [],
   "source": [
    "from tensorflow.keras.preprocessing.sequence import pad_sequences"
   ]
  },
  {
   "cell_type": "code",
   "execution_count": 18,
   "metadata": {},
   "outputs": [
    {
     "data": {
      "text/plain": [
       "[1937, 1188, 1049, 1623, 796, 1784]"
      ]
     },
     "execution_count": 18,
     "metadata": {},
     "output_type": "execute_result"
    }
   ],
   "source": [
    "mapped[0]"
   ]
  },
  {
   "cell_type": "code",
   "execution_count": 19,
   "metadata": {},
   "outputs": [],
   "source": [
    "mapped = pad_sequences(mapped, maxlen=9, truncating='post', padding='post')"
   ]
  },
  {
   "cell_type": "code",
   "execution_count": 20,
   "metadata": {},
   "outputs": [
    {
     "data": {
      "text/plain": [
       "array([1937, 1188, 1049, 1623,  796, 1784,    0,    0,    0], dtype=int32)"
      ]
     },
     "execution_count": 20,
     "metadata": {},
     "output_type": "execute_result"
    }
   ],
   "source": [
    "mapped[0]"
   ]
  },
  {
   "cell_type": "code",
   "execution_count": 21,
   "metadata": {},
   "outputs": [],
   "source": [
    "y = [mapping_sen[i] for i in sentiment]"
   ]
  },
  {
   "cell_type": "code",
   "execution_count": 22,
   "metadata": {},
   "outputs": [
    {
     "data": {
      "text/plain": [
       "(array(['Negative', 'Neutral', 'Positive'], dtype=object),\n",
       " array([1530,  273, 2037]))"
      ]
     },
     "execution_count": 22,
     "metadata": {},
     "output_type": "execute_result"
    }
   ],
   "source": [
    "np.unique(sentiment, return_counts=True)"
   ]
  },
  {
   "cell_type": "code",
   "execution_count": 23,
   "metadata": {},
   "outputs": [],
   "source": [
    "from sklearn.utils.class_weight import compute_class_weight"
   ]
  },
  {
   "cell_type": "code",
   "execution_count": 24,
   "metadata": {},
   "outputs": [
    {
     "name": "stderr",
     "output_type": "stream",
     "text": [
      "/home/volodymyr/Parallel-emotional-intent-clustering/env/lib/python3.7/site-packages/sklearn/utils/validation.py:72: FutureWarning: Pass classes=['Negative' 'Neutral' 'Positive'], y=['Neutral' 'Positive' 'Positive' ... 'Positive' 'Negative' 'Negative'] as keyword args. From version 1.0 (renaming of 0.25) passing these as positional arguments will result in an error\n",
      "  \"will result in an error\", FutureWarning)\n"
     ]
    }
   ],
   "source": [
    "class_weights = compute_class_weight('balanced', np.unique(sentiment), sentiment)"
   ]
  },
  {
   "cell_type": "markdown",
   "metadata": {},
   "source": [
    "# Model "
   ]
  },
  {
   "cell_type": "code",
   "execution_count": 25,
   "metadata": {},
   "outputs": [
    {
     "name": "stderr",
     "output_type": "stream",
     "text": [
      "/home/volodymyr/Parallel-emotional-intent-clustering/env/lib/python3.7/site-packages/gensim/similarities/__init__.py:15: UserWarning: The gensim.similarities.levenshtein submodule is disabled, because the optional Levenshtein package <https://pypi.org/project/python-Levenshtein/> is unavailable. Install Levenhstein (e.g. `pip install python-Levenshtein`) to suppress this warning.\n",
      "  warnings.warn(msg)\n"
     ]
    }
   ],
   "source": [
    "import gensim.downloader as api"
   ]
  },
  {
   "cell_type": "code",
   "execution_count": 26,
   "metadata": {},
   "outputs": [],
   "source": [
    "w2v_embeddings = api.load('word2vec-google-news-300')"
   ]
  },
  {
   "cell_type": "code",
   "execution_count": 27,
   "metadata": {},
   "outputs": [],
   "source": [
    "def build_embeddings(vocab, word_vectors, embed_dim):\n",
    "    reset_random_seeds()\n",
    "    emb_matrix = np.zeros(shape=(len(vocab)+ 1 , embed_dim), dtype='float32')\n",
    "    count = 0\n",
    "    for word, i in vocab.items():\n",
    "        try:\n",
    "            emb_matrix[i, :] = word_vectors.get_vector(word)\n",
    "        except:\n",
    "            count += 1\n",
    "            emb_matrix[i, :] = np.random.uniform(-0.1, 0.1, embed_dim)\n",
    "    print('{} words are out of vocabulary：'.format(count))\n",
    "    return emb_matrix\n"
   ]
  },
  {
   "cell_type": "code",
   "execution_count": 28,
   "metadata": {},
   "outputs": [
    {
     "name": "stdout",
     "output_type": "stream",
     "text": [
      "19 words are out of vocabulary：\n"
     ]
    }
   ],
   "source": [
    "w2v_embeddings = build_embeddings(inverse_mapping, w2v_embeddings, 300)"
   ]
  },
  {
   "cell_type": "code",
   "execution_count": 29,
   "metadata": {},
   "outputs": [],
   "source": [
    "class LSTM_SA(tf.keras.Model):\n",
    "     def __init__(self, max_tokens, units=512, embeddings=None, dim=128):\n",
    "        super(LSTM_SA, self).__init__()\n",
    "        tf.keras.backend.clear_session()\n",
    "        reset_random_seeds()\n",
    "        self.units = units\n",
    "        self.embeddings = tf.keras.layers.Embedding(input_dim=max_tokens+1, output_dim=dim, name='embeddings',\n",
    "                                                   weights=[embeddings], mask_zero=True)\n",
    "        self.dropout = tf.keras.layers.SpatialDropout1D(0.2)\n",
    "        self.lstm = tf.keras.layers.LSTM(units=self.units, return_state=False, return_sequences=False, name='lstm_decoder', \n",
    "                                         recurrent_dropout=0.1,recurrent_initializer='glorot_uniform')\n",
    "        self.dense = tf.keras.layers.Dense(units=self.units//2, activation='relu')\n",
    "        self.output_dense = tf.keras.layers.Dense(units=max_tokens, activation='softmax')\n",
    "\n",
    "     def call(self, input):\n",
    "        embedded = self.dropout(self.embeddings(input))\n",
    "        result_lstm = self.lstm(embedded)\n",
    "        result_dense = self.dense(result_lstm)\n",
    "        probs = self.output_dense(result_dense)\n",
    "        return probs"
   ]
  },
  {
   "cell_type": "code",
   "execution_count": 30,
   "metadata": {},
   "outputs": [],
   "source": [
    "lstm_sa = LSTM_SA(len(inverse_mapping), units=256, embeddings=w2v_embeddings, dim=300)"
   ]
  },
  {
   "cell_type": "markdown",
   "metadata": {},
   "source": [
    "# Training "
   ]
  },
  {
   "cell_type": "code",
   "execution_count": 31,
   "metadata": {},
   "outputs": [],
   "source": [
    "from sklearn.model_selection import train_test_split"
   ]
  },
  {
   "cell_type": "code",
   "execution_count": 32,
   "metadata": {},
   "outputs": [],
   "source": [
    "X_train, X_val, y_train, y_val = train_test_split(mapped,np.array(y) , random_state=0, test_size=0.2)\n",
    "X_val, X_test, y_val , y_test = train_test_split(X_val,y_val , random_state=0, test_size=0.5)"
   ]
  },
  {
   "cell_type": "code",
   "execution_count": 33,
   "metadata": {},
   "outputs": [],
   "source": [
    "epochs = 25\n",
    "batch_size = 128\n",
    "weighted = True"
   ]
  },
  {
   "cell_type": "code",
   "execution_count": 34,
   "metadata": {},
   "outputs": [],
   "source": [
    "lstm_sa.compile(loss='sparse_categorical_crossentropy', metrics=['acc'], optimizer='adam')"
   ]
  },
  {
   "cell_type": "code",
   "execution_count": 35,
   "metadata": {},
   "outputs": [
    {
     "name": "stdout",
     "output_type": "stream",
     "text": [
      "Train on 3072 samples, validate on 384 samples\n",
      "Epoch 1/25\n",
      "3072/3072 [==============================] - 2s 654us/sample - loss: 4.0403 - acc: 0.4180 - val_loss: 1.1576 - val_acc: 0.3802\n",
      "Epoch 2/25\n",
      "3072/3072 [==============================] - 0s 130us/sample - loss: 1.1224 - acc: 0.3841 - val_loss: 1.1269 - val_acc: 0.3802\n",
      "Epoch 3/25\n",
      "3072/3072 [==============================] - 0s 131us/sample - loss: 1.1180 - acc: 0.3447 - val_loss: 1.1823 - val_acc: 0.0755\n",
      "Epoch 4/25\n",
      "3072/3072 [==============================] - 0s 133us/sample - loss: 1.1141 - acc: 0.3298 - val_loss: 1.1404 - val_acc: 0.5443\n",
      "Epoch 5/25\n",
      "3072/3072 [==============================] - 0s 140us/sample - loss: 1.1084 - acc: 0.3366 - val_loss: 1.1130 - val_acc: 0.0755\n",
      "Epoch 6/25\n",
      "3072/3072 [==============================] - 0s 136us/sample - loss: 1.0875 - acc: 0.3861 - val_loss: 1.1185 - val_acc: 0.4974\n",
      "Epoch 7/25\n",
      "3072/3072 [==============================] - 0s 135us/sample - loss: 1.0464 - acc: 0.4993 - val_loss: 1.0410 - val_acc: 0.3984\n",
      "Epoch 8/25\n",
      "3072/3072 [==============================] - 0s 163us/sample - loss: 0.9430 - acc: 0.6667 - val_loss: 0.9291 - val_acc: 0.7448\n",
      "Epoch 9/25\n",
      "3072/3072 [==============================] - 1s 194us/sample - loss: 0.7711 - acc: 0.7646 - val_loss: 0.8703 - val_acc: 0.8203\n",
      "Epoch 10/25\n",
      "3072/3072 [==============================] - 1s 193us/sample - loss: 0.5783 - acc: 0.8372 - val_loss: 0.7651 - val_acc: 0.6094\n",
      "Epoch 11/25\n",
      "3072/3072 [==============================] - 1s 190us/sample - loss: 0.4537 - acc: 0.8590 - val_loss: 0.7113 - val_acc: 0.8255\n",
      "Epoch 12/25\n",
      "3072/3072 [==============================] - 1s 190us/sample - loss: 0.3731 - acc: 0.8730 - val_loss: 0.7131 - val_acc: 0.8646\n",
      "Epoch 13/25\n",
      "3072/3072 [==============================] - 1s 196us/sample - loss: 0.2737 - acc: 0.9258 - val_loss: 0.6175 - val_acc: 0.8490\n",
      "Epoch 14/25\n",
      "3072/3072 [==============================] - 1s 193us/sample - loss: 0.1940 - acc: 0.9482 - val_loss: 0.6281 - val_acc: 0.8594\n",
      "Epoch 15/25\n",
      "3072/3072 [==============================] - 1s 187us/sample - loss: 0.1615 - acc: 0.9570 - val_loss: 0.7564 - val_acc: 0.8438\n",
      "Epoch 16/25\n",
      "3072/3072 [==============================] - 1s 197us/sample - loss: 0.1472 - acc: 0.9603 - val_loss: 0.6235 - val_acc: 0.8776\n",
      "Epoch 17/25\n",
      "3072/3072 [==============================] - 1s 186us/sample - loss: 0.1373 - acc: 0.9661 - val_loss: 0.6700 - val_acc: 0.8516\n",
      "Epoch 18/25\n",
      "3072/3072 [==============================] - 0s 150us/sample - loss: 0.1318 - acc: 0.9580 - val_loss: 0.7731 - val_acc: 0.8880\n",
      "Epoch 19/25\n",
      "3072/3072 [==============================] - 0s 142us/sample - loss: 0.0976 - acc: 0.9727 - val_loss: 0.7212 - val_acc: 0.8698\n",
      "Epoch 20/25\n",
      "3072/3072 [==============================] - 0s 126us/sample - loss: 0.0943 - acc: 0.9707 - val_loss: 0.7104 - val_acc: 0.8542\n",
      "Epoch 21/25\n",
      "3072/3072 [==============================] - 0s 134us/sample - loss: 0.0757 - acc: 0.9769 - val_loss: 0.8188 - val_acc: 0.8672\n",
      "Epoch 22/25\n",
      "3072/3072 [==============================] - 0s 131us/sample - loss: 0.0733 - acc: 0.9788 - val_loss: 0.8397 - val_acc: 0.8724\n",
      "Epoch 23/25\n",
      "3072/3072 [==============================] - 0s 138us/sample - loss: 0.0578 - acc: 0.9840 - val_loss: 0.8788 - val_acc: 0.8854\n",
      "Epoch 24/25\n",
      "3072/3072 [==============================] - 0s 132us/sample - loss: 0.0520 - acc: 0.9850 - val_loss: 0.9535 - val_acc: 0.8802\n",
      "Epoch 25/25\n",
      "3072/3072 [==============================] - 0s 137us/sample - loss: 0.0464 - acc: 0.9863 - val_loss: 1.0405 - val_acc: 0.8802\n"
     ]
    }
   ],
   "source": [
    "hist = lstm_sa.fit(x=X_train, y=y_train, validation_data=(X_val, y_val), epochs=epochs, batch_size=batch_size,\n",
    "                  class_weight=dict([(c,i) for c, i in enumerate(class_weights)]) if weighted else None)"
   ]
  },
  {
   "cell_type": "markdown",
   "metadata": {},
   "source": [
    "# Evaluation"
   ]
  },
  {
   "cell_type": "code",
   "execution_count": 36,
   "metadata": {},
   "outputs": [],
   "source": [
    "from sklearn.metrics import f1_score, accuracy_score"
   ]
  },
  {
   "cell_type": "code",
   "execution_count": 37,
   "metadata": {},
   "outputs": [],
   "source": [
    "inverse_sen_mapping = dict([(v,k) for k,v in mapping_sen.items()])"
   ]
  },
  {
   "cell_type": "code",
   "execution_count": 38,
   "metadata": {},
   "outputs": [],
   "source": [
    "predicted = []\n",
    "for i in X_test:\n",
    "    predicted.append(np.argmax(lstm_sa.predict(np.expand_dims(i,axis=0))))"
   ]
  },
  {
   "cell_type": "code",
   "execution_count": 39,
   "metadata": {},
   "outputs": [
    {
     "data": {
      "text/plain": [
       "0.7966308847698101"
      ]
     },
     "execution_count": 39,
     "metadata": {},
     "output_type": "execute_result"
    }
   ],
   "source": [
    "f1_score(y_true=y_test, y_pred=predicted, average='macro')"
   ]
  },
  {
   "cell_type": "code",
   "execution_count": 40,
   "metadata": {},
   "outputs": [
    {
     "data": {
      "text/plain": [
       "0.8867380500556491"
      ]
     },
     "execution_count": 40,
     "metadata": {},
     "output_type": "execute_result"
    }
   ],
   "source": [
    "f1_score(y_true=y_test, y_pred=predicted, average='weighted')"
   ]
  },
  {
   "cell_type": "code",
   "execution_count": 41,
   "metadata": {},
   "outputs": [
    {
     "data": {
      "text/plain": [
       "0.8880208333333334"
      ]
     },
     "execution_count": 41,
     "metadata": {},
     "output_type": "execute_result"
    }
   ],
   "source": [
    "accuracy_score(y_true=y_test, y_pred=predicted)"
   ]
  },
  {
   "cell_type": "markdown",
   "metadata": {},
   "source": [
    "# Validating results"
   ]
  },
  {
   "cell_type": "code",
   "execution_count": 42,
   "metadata": {},
   "outputs": [
    {
     "data": {
      "text/plain": [
       "{'Negative': 0, 'Neutral': 1, 'Positive': 2}"
      ]
     },
     "execution_count": 42,
     "metadata": {},
     "output_type": "execute_result"
    }
   ],
   "source": [
    "mapping_sen"
   ]
  },
  {
   "cell_type": "code",
   "execution_count": 43,
   "metadata": {},
   "outputs": [],
   "source": [
    "inverse_sen_mapping = dict([(v,k) for k,v in mapping_sen.items()])"
   ]
  },
  {
   "cell_type": "code",
   "execution_count": 44,
   "metadata": {},
   "outputs": [],
   "source": [
    "def predict(model, inverse_mapping, sen_mapping, sentence):\n",
    "    sentence = [inverse_mapping.get(i,0) for i in tokenizer.tokenize(sentence)]\n",
    "    sentence = pad_sequences([sentence], maxlen=9,  truncating='post', padding='post')\n",
    "    return sen_mapping[np.argmax(model.predict(sentence))]"
   ]
  },
  {
   "cell_type": "code",
   "execution_count": 45,
   "metadata": {},
   "outputs": [
    {
     "data": {
      "text/plain": [
       "'Negative'"
      ]
     },
     "execution_count": 45,
     "metadata": {},
     "output_type": "execute_result"
    }
   ],
   "source": [
    "predict(lstm_sa, inverse_mapping,inverse_sen_mapping, 'man is trying to shoot someone')"
   ]
  },
  {
   "cell_type": "markdown",
   "metadata": {},
   "source": [
    "# Saving results"
   ]
  },
  {
   "cell_type": "code",
   "execution_count": 46,
   "metadata": {},
   "outputs": [],
   "source": [
    "df = pd.DataFrame()"
   ]
  },
  {
   "cell_type": "code",
   "execution_count": 47,
   "metadata": {},
   "outputs": [],
   "source": [
    "df['name'] = ['sa_lstm_w2v']\n",
    "df['f1_macro'] = [f1_score(y_true=y_test, y_pred=predicted, average='macro')]\n",
    "df['f1_weighted'] = [f1_score(y_true=y_test, y_pred=predicted, average='weighted')]\n",
    "df['acc'] = [accuracy_score(y_true=y_test, y_pred=predicted)]\n",
    "df.to_csv('sa_w2v_logs.csv', index=False)"
   ]
  },
  {
   "cell_type": "code",
   "execution_count": null,
   "metadata": {},
   "outputs": [],
   "source": []
  }
 ],
 "metadata": {
  "kernelspec": {
   "display_name": "Python 3",
   "language": "python",
   "name": "python3"
  },
  "language_info": {
   "codemirror_mode": {
    "name": "ipython",
    "version": 3
   },
   "file_extension": ".py",
   "mimetype": "text/x-python",
   "name": "python",
   "nbconvert_exporter": "python",
   "pygments_lexer": "ipython3",
   "version": "3.7.5"
  }
 },
 "nbformat": 4,
 "nbformat_minor": 2
}
