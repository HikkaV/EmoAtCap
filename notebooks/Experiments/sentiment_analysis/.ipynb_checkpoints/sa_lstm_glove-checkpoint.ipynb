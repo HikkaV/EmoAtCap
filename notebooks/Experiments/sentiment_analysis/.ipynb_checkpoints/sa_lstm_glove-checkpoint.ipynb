{
 "cells": [
  {
   "cell_type": "code",
   "execution_count": 1,
   "metadata": {},
   "outputs": [],
   "source": [
    "import pandas as pd\n",
    "import os\n",
    "os.environ['PYTHONHASHSEED']=str(2)\n",
    "\n",
    "import numpy as np\n",
    "from sklearn.utils import class_weight\n",
    "from keras_preprocessing import image as im\n",
    "import tensorflow as tf\n",
    "import random"
   ]
  },
  {
   "cell_type": "code",
   "execution_count": 2,
   "metadata": {},
   "outputs": [],
   "source": [
    "def reset_random_seeds():\n",
    "   os.environ['PYTHONHASHSEED']=str(2)\n",
    "   tf.random.set_seed(2)\n",
    "   np.random.seed(2)\n",
    "   random.seed(2)"
   ]
  },
  {
   "cell_type": "markdown",
   "metadata": {},
   "source": [
    "# Loading and preparing data"
   ]
  },
  {
   "cell_type": "code",
   "execution_count": 3,
   "metadata": {},
   "outputs": [],
   "source": [
    "df = pd.read_csv('../../../data/emo-at-cap/emo-at-cap.csv')"
   ]
  },
  {
   "cell_type": "code",
   "execution_count": 4,
   "metadata": {},
   "outputs": [
    {
     "data": {
      "text/plain": [
       "Index(['image_name', 'annotation', 'human_sentiment', 'sentiment'], dtype='object')"
      ]
     },
     "execution_count": 4,
     "metadata": {},
     "output_type": "execute_result"
    }
   ],
   "source": [
    "df.columns"
   ]
  },
  {
   "cell_type": "code",
   "execution_count": 5,
   "metadata": {},
   "outputs": [],
   "source": [
    "annotations = df['annotation'].str.lower().values\n",
    "sentiment = df['human_sentiment'].values"
   ]
  },
  {
   "cell_type": "code",
   "execution_count": 6,
   "metadata": {},
   "outputs": [
    {
     "data": {
      "text/plain": [
       "array(['Neutral', 'Positive', 'Positive', ..., 'Positive', 'Negative',\n",
       "       'Negative'], dtype=object)"
      ]
     },
     "execution_count": 6,
     "metadata": {},
     "output_type": "execute_result"
    }
   ],
   "source": [
    "sentiment"
   ]
  },
  {
   "cell_type": "code",
   "execution_count": 7,
   "metadata": {},
   "outputs": [],
   "source": [
    "mapping_sen = {'Negative' : 0, 'Neutral' : 1, 'Positive' : 2}"
   ]
  },
  {
   "cell_type": "code",
   "execution_count": 8,
   "metadata": {},
   "outputs": [],
   "source": [
    "from nltk.tokenize import WordPunctTokenizer"
   ]
  },
  {
   "cell_type": "code",
   "execution_count": 9,
   "metadata": {},
   "outputs": [],
   "source": [
    "tokenizer = WordPunctTokenizer()"
   ]
  },
  {
   "cell_type": "code",
   "execution_count": 10,
   "metadata": {},
   "outputs": [],
   "source": [
    "indexed = [tokenizer.tokenize(i) for i in annotations]"
   ]
  },
  {
   "cell_type": "code",
   "execution_count": 11,
   "metadata": {},
   "outputs": [],
   "source": [
    "unique_tokens = np.unique(np.hstack(indexed))"
   ]
  },
  {
   "cell_type": "code",
   "execution_count": 12,
   "metadata": {},
   "outputs": [],
   "source": [
    "mapping_tokens = dict([(c+1,i) for c, i in enumerate(unique_tokens)])"
   ]
  },
  {
   "cell_type": "code",
   "execution_count": 13,
   "metadata": {},
   "outputs": [],
   "source": [
    "mapping_tokens[0] = 'PAD'"
   ]
  },
  {
   "cell_type": "code",
   "execution_count": 14,
   "metadata": {},
   "outputs": [],
   "source": [
    "inverse_mapping = dict([(v,k) for k,v in mapping_tokens.items()])"
   ]
  },
  {
   "cell_type": "code",
   "execution_count": 15,
   "metadata": {},
   "outputs": [],
   "source": [
    "mapped = [list(map(lambda x: inverse_mapping[x], i)) for i in indexed]"
   ]
  },
  {
   "cell_type": "code",
   "execution_count": 16,
   "metadata": {},
   "outputs": [
    {
     "data": {
      "text/plain": [
       "8.873177083333333"
      ]
     },
     "execution_count": 16,
     "metadata": {},
     "output_type": "execute_result"
    }
   ],
   "source": [
    "np.mean(list(map(len,mapped)))"
   ]
  },
  {
   "cell_type": "code",
   "execution_count": 17,
   "metadata": {},
   "outputs": [],
   "source": [
    "from tensorflow.keras.preprocessing.sequence import pad_sequences"
   ]
  },
  {
   "cell_type": "code",
   "execution_count": 18,
   "metadata": {},
   "outputs": [
    {
     "data": {
      "text/plain": [
       "[1937, 1188, 1049, 1623, 796, 1784]"
      ]
     },
     "execution_count": 18,
     "metadata": {},
     "output_type": "execute_result"
    }
   ],
   "source": [
    "mapped[0]"
   ]
  },
  {
   "cell_type": "code",
   "execution_count": 19,
   "metadata": {},
   "outputs": [],
   "source": [
    "mapped = pad_sequences(mapped, maxlen=9, truncating='post', padding='post')"
   ]
  },
  {
   "cell_type": "code",
   "execution_count": 20,
   "metadata": {},
   "outputs": [
    {
     "data": {
      "text/plain": [
       "array([1937, 1188, 1049, 1623,  796, 1784,    0,    0,    0], dtype=int32)"
      ]
     },
     "execution_count": 20,
     "metadata": {},
     "output_type": "execute_result"
    }
   ],
   "source": [
    "mapped[0]"
   ]
  },
  {
   "cell_type": "code",
   "execution_count": 21,
   "metadata": {},
   "outputs": [],
   "source": [
    "y = [mapping_sen[i] for i in sentiment]"
   ]
  },
  {
   "cell_type": "code",
   "execution_count": 22,
   "metadata": {},
   "outputs": [
    {
     "data": {
      "text/plain": [
       "(array(['Negative', 'Neutral', 'Positive'], dtype=object),\n",
       " array([1530,  273, 2037]))"
      ]
     },
     "execution_count": 22,
     "metadata": {},
     "output_type": "execute_result"
    }
   ],
   "source": [
    "np.unique(sentiment, return_counts=True)"
   ]
  },
  {
   "cell_type": "code",
   "execution_count": 23,
   "metadata": {},
   "outputs": [],
   "source": [
    "from sklearn.utils.class_weight import compute_class_weight"
   ]
  },
  {
   "cell_type": "code",
   "execution_count": 24,
   "metadata": {},
   "outputs": [
    {
     "name": "stderr",
     "output_type": "stream",
     "text": [
      "/usr/local/lib/python3.7/dist-packages/sklearn/utils/validation.py:72: FutureWarning: Pass classes=['Negative' 'Neutral' 'Positive'], y=['Neutral' 'Positive' 'Positive' ... 'Positive' 'Negative' 'Negative'] as keyword args. From version 1.0 (renaming of 0.25) passing these as positional arguments will result in an error\n",
      "  \"will result in an error\", FutureWarning)\n"
     ]
    }
   ],
   "source": [
    "class_weights = compute_class_weight('balanced', np.unique(sentiment), sentiment)"
   ]
  },
  {
   "cell_type": "markdown",
   "metadata": {},
   "source": [
    "# Model "
   ]
  },
  {
   "cell_type": "code",
   "execution_count": 25,
   "metadata": {},
   "outputs": [
    {
     "name": "stderr",
     "output_type": "stream",
     "text": [
      "/usr/local/lib/python3.7/dist-packages/gensim/similarities/__init__.py:15: UserWarning: The gensim.similarities.levenshtein submodule is disabled, because the optional Levenshtein package <https://pypi.org/project/python-Levenshtein/> is unavailable. Install Levenhstein (e.g. `pip install python-Levenshtein`) to suppress this warning.\n",
      "  warnings.warn(msg)\n"
     ]
    }
   ],
   "source": [
    "import gensim.downloader as api"
   ]
  },
  {
   "cell_type": "code",
   "execution_count": 29,
   "metadata": {},
   "outputs": [],
   "source": [
    "def load_glove(file):\n",
    "    print(\"Loading Glove Model\")\n",
    "    f = open(file, 'r')\n",
    "    glove_embeddings = {}\n",
    "    for line in f:\n",
    "        splitLines = line.split()\n",
    "        word = splitLines[0]\n",
    "        wordEmbedding = np.array([float(value) for value in splitLines[1:]])\n",
    "        glove_embeddings[word] = wordEmbedding\n",
    "    print(len(glove_embeddings), \" words loaded!\")\n",
    "    return glove_embeddings\n"
   ]
  },
  {
   "cell_type": "code",
   "execution_count": 31,
   "metadata": {},
   "outputs": [
    {
     "name": "stdout",
     "output_type": "stream",
     "text": [
      "Loading Glove Model\n",
      "400000  words loaded!\n"
     ]
    }
   ],
   "source": [
    "glove = load_glove('../../embeddings/glove.6B.300d.txt')"
   ]
  },
  {
   "cell_type": "code",
   "execution_count": 32,
   "metadata": {},
   "outputs": [],
   "source": [
    "def build_embeddings(vocab, word_vectors, embed_dim):\n",
    "    reset_random_seeds()\n",
    "    emb_matrix = np.zeros(shape=(len(vocab)+ 1 , embed_dim), dtype='float32')\n",
    "    count = 0\n",
    "    for word, i in vocab.items():\n",
    "        try:\n",
    "            emb_matrix[i, :] = word_vectors[word]\n",
    "        except:\n",
    "            count += 1\n",
    "            emb_matrix[i, :] = np.random.uniform(-0.1, 0.1, embed_dim)\n",
    "    print('{} words are out of vocabulary：'.format(count))\n",
    "    return emb_matrix\n"
   ]
  },
  {
   "cell_type": "code",
   "execution_count": 33,
   "metadata": {},
   "outputs": [
    {
     "name": "stdout",
     "output_type": "stream",
     "text": [
      "23 words are out of vocabulary：\n"
     ]
    }
   ],
   "source": [
    "glove = build_embeddings(inverse_mapping, glove, 300)"
   ]
  },
  {
   "cell_type": "code",
   "execution_count": 34,
   "metadata": {},
   "outputs": [],
   "source": [
    "class LSTM_SA(tf.keras.Model):\n",
    "     def __init__(self, max_tokens, units=512, embeddings=None, dim=128):\n",
    "        super(LSTM_SA, self).__init__()\n",
    "        tf.keras.backend.clear_session()\n",
    "        reset_random_seeds()\n",
    "        self.units = units\n",
    "        self.embeddings = tf.keras.layers.Embedding(input_dim=max_tokens+1, output_dim=dim, name='embeddings',\n",
    "                                                   weights=[embeddings], mask_zero=True)\n",
    "        self.dropout = tf.keras.layers.SpatialDropout1D(0.2)\n",
    "        self.lstm = tf.keras.layers.LSTM(units=self.units, return_state=False, return_sequences=False, name='lstm_decoder', \n",
    "                                         recurrent_dropout=0.1,recurrent_initializer='glorot_uniform')\n",
    "        self.dense = tf.keras.layers.Dense(units=self.units//2, activation='relu')\n",
    "        self.output_dense = tf.keras.layers.Dense(units=max_tokens, activation='softmax')\n",
    "\n",
    "     def call(self, input):\n",
    "        embedded = self.dropout(self.embeddings(input))\n",
    "        result_lstm = self.lstm(embedded)\n",
    "        result_dense = self.dense(result_lstm)\n",
    "        probs = self.output_dense(result_dense)\n",
    "        return probs"
   ]
  },
  {
   "cell_type": "code",
   "execution_count": 35,
   "metadata": {},
   "outputs": [
    {
     "name": "stdout",
     "output_type": "stream",
     "text": [
      "WARNING:tensorflow:Layer lstm_decoder will not use cuDNN kernel since it doesn't meet the cuDNN kernel criteria. It will use generic GPU kernel as fallback when running on GPU\n"
     ]
    }
   ],
   "source": [
    "lstm_sa = LSTM_SA(len(inverse_mapping), units=256, embeddings=glove, dim=300)"
   ]
  },
  {
   "cell_type": "markdown",
   "metadata": {},
   "source": [
    "# Training "
   ]
  },
  {
   "cell_type": "code",
   "execution_count": 36,
   "metadata": {},
   "outputs": [],
   "source": [
    "from sklearn.model_selection import train_test_split"
   ]
  },
  {
   "cell_type": "code",
   "execution_count": 37,
   "metadata": {},
   "outputs": [],
   "source": [
    "X_train, X_val, y_train, y_val = train_test_split(mapped,np.array(y) , random_state=0, test_size=0.2)\n",
    "X_val, X_test, y_val , y_test = train_test_split(X_val,y_val , random_state=0, test_size=0.5)"
   ]
  },
  {
   "cell_type": "code",
   "execution_count": 38,
   "metadata": {},
   "outputs": [],
   "source": [
    "epochs = 25\n",
    "batch_size = 128\n",
    "weighted = True"
   ]
  },
  {
   "cell_type": "code",
   "execution_count": 39,
   "metadata": {},
   "outputs": [],
   "source": [
    "lstm_sa.compile(loss='sparse_categorical_crossentropy', metrics=['acc'], optimizer='adam')"
   ]
  },
  {
   "cell_type": "code",
   "execution_count": 40,
   "metadata": {},
   "outputs": [
    {
     "name": "stdout",
     "output_type": "stream",
     "text": [
      "Epoch 1/25\n",
      "24/24 [==============================] - 1s 29ms/step - loss: 3.6723 - acc: 0.4268 - val_loss: 1.1896 - val_acc: 0.0755\n",
      "Epoch 2/25\n",
      "24/24 [==============================] - 0s 19ms/step - loss: 1.1215 - acc: 0.3730 - val_loss: 1.2165 - val_acc: 0.0755\n",
      "Epoch 3/25\n",
      "24/24 [==============================] - 0s 19ms/step - loss: 1.1124 - acc: 0.2747 - val_loss: 0.9794 - val_acc: 0.3802\n",
      "Epoch 4/25\n",
      "24/24 [==============================] - 0s 20ms/step - loss: 1.0955 - acc: 0.3434 - val_loss: 1.2357 - val_acc: 0.0833\n",
      "Epoch 5/25\n",
      "24/24 [==============================] - 0s 20ms/step - loss: 1.0615 - acc: 0.4619 - val_loss: 0.9749 - val_acc: 0.7188\n",
      "Epoch 6/25\n",
      "24/24 [==============================] - 0s 19ms/step - loss: 0.9728 - acc: 0.5723 - val_loss: 0.8810 - val_acc: 0.7266\n",
      "Epoch 7/25\n",
      "24/24 [==============================] - 0s 21ms/step - loss: 0.8353 - acc: 0.7340 - val_loss: 0.7438 - val_acc: 0.7604\n",
      "Epoch 8/25\n",
      "24/24 [==============================] - 0s 20ms/step - loss: 0.6298 - acc: 0.8252 - val_loss: 0.6529 - val_acc: 0.7604\n",
      "Epoch 9/25\n",
      "24/24 [==============================] - 0s 19ms/step - loss: 0.5068 - acc: 0.8431 - val_loss: 0.6692 - val_acc: 0.7500\n",
      "Epoch 10/25\n",
      "24/24 [==============================] - 0s 19ms/step - loss: 0.4151 - acc: 0.8779 - val_loss: 0.5254 - val_acc: 0.8177\n",
      "Epoch 11/25\n",
      "24/24 [==============================] - 0s 19ms/step - loss: 0.3309 - acc: 0.9027 - val_loss: 0.4244 - val_acc: 0.8646\n",
      "Epoch 12/25\n",
      "24/24 [==============================] - 0s 19ms/step - loss: 0.2639 - acc: 0.9255 - val_loss: 0.5058 - val_acc: 0.8385\n",
      "Epoch 13/25\n",
      "24/24 [==============================] - 0s 19ms/step - loss: 0.2277 - acc: 0.9427 - val_loss: 0.5808 - val_acc: 0.8073\n",
      "Epoch 14/25\n",
      "24/24 [==============================] - 0s 19ms/step - loss: 0.1920 - acc: 0.9450 - val_loss: 0.3869 - val_acc: 0.8802\n",
      "Epoch 15/25\n",
      "24/24 [==============================] - 0s 19ms/step - loss: 0.1521 - acc: 0.9626 - val_loss: 0.4192 - val_acc: 0.8776\n",
      "Epoch 16/25\n",
      "24/24 [==============================] - 0s 19ms/step - loss: 0.1322 - acc: 0.9635 - val_loss: 0.4161 - val_acc: 0.8802\n",
      "Epoch 17/25\n",
      "24/24 [==============================] - 0s 19ms/step - loss: 0.1088 - acc: 0.9710 - val_loss: 0.4187 - val_acc: 0.8802\n",
      "Epoch 18/25\n",
      "24/24 [==============================] - 0s 20ms/step - loss: 0.0973 - acc: 0.9720 - val_loss: 0.5095 - val_acc: 0.8594\n",
      "Epoch 19/25\n",
      "24/24 [==============================] - 0s 20ms/step - loss: 0.0821 - acc: 0.9746 - val_loss: 0.4729 - val_acc: 0.8802\n",
      "Epoch 20/25\n",
      "24/24 [==============================] - 0s 19ms/step - loss: 0.0712 - acc: 0.9769 - val_loss: 0.4680 - val_acc: 0.8854\n",
      "Epoch 21/25\n",
      "24/24 [==============================] - 0s 19ms/step - loss: 0.0694 - acc: 0.9795 - val_loss: 0.4732 - val_acc: 0.8750\n",
      "Epoch 22/25\n",
      "24/24 [==============================] - 0s 19ms/step - loss: 0.0530 - acc: 0.9814 - val_loss: 0.4940 - val_acc: 0.8828\n",
      "Epoch 23/25\n",
      "24/24 [==============================] - 0s 19ms/step - loss: 0.0622 - acc: 0.9795 - val_loss: 0.4812 - val_acc: 0.8880\n",
      "Epoch 24/25\n",
      "24/24 [==============================] - 0s 19ms/step - loss: 0.0477 - acc: 0.9847 - val_loss: 0.5172 - val_acc: 0.8828\n",
      "Epoch 25/25\n",
      "24/24 [==============================] - 0s 20ms/step - loss: 0.0400 - acc: 0.9889 - val_loss: 0.5093 - val_acc: 0.8698\n"
     ]
    }
   ],
   "source": [
    "hist = lstm_sa.fit(x=X_train, y=y_train, validation_data=(X_val, y_val), epochs=epochs, batch_size=batch_size,\n",
    "                  class_weight=dict([(c,i) for c, i in enumerate(class_weights)]) if weighted else None)"
   ]
  },
  {
   "cell_type": "markdown",
   "metadata": {},
   "source": [
    "# Evaluation"
   ]
  },
  {
   "cell_type": "code",
   "execution_count": 41,
   "metadata": {},
   "outputs": [],
   "source": [
    "from sklearn.metrics import f1_score, accuracy_score"
   ]
  },
  {
   "cell_type": "code",
   "execution_count": 42,
   "metadata": {},
   "outputs": [],
   "source": [
    "inverse_sen_mapping = dict([(v,k) for k,v in mapping_sen.items()])"
   ]
  },
  {
   "cell_type": "code",
   "execution_count": 43,
   "metadata": {},
   "outputs": [],
   "source": [
    "predicted = []\n",
    "for i in X_test:\n",
    "    predicted.append(np.argmax(lstm_sa.predict(np.expand_dims(i,axis=0))))"
   ]
  },
  {
   "cell_type": "code",
   "execution_count": 44,
   "metadata": {},
   "outputs": [
    {
     "data": {
      "text/plain": [
       "0.8198090162114147"
      ]
     },
     "execution_count": 44,
     "metadata": {},
     "output_type": "execute_result"
    }
   ],
   "source": [
    "f1_score(y_true=y_test, y_pred=predicted, average='macro')"
   ]
  },
  {
   "cell_type": "code",
   "execution_count": 45,
   "metadata": {},
   "outputs": [
    {
     "data": {
      "text/plain": [
       "0.8950442760381966"
      ]
     },
     "execution_count": 45,
     "metadata": {},
     "output_type": "execute_result"
    }
   ],
   "source": [
    "f1_score(y_true=y_test, y_pred=predicted, average='weighted')"
   ]
  },
  {
   "cell_type": "code",
   "execution_count": 46,
   "metadata": {},
   "outputs": [
    {
     "data": {
      "text/plain": [
       "0.8932291666666666"
      ]
     },
     "execution_count": 46,
     "metadata": {},
     "output_type": "execute_result"
    }
   ],
   "source": [
    "accuracy_score(y_true=y_test, y_pred=predicted)"
   ]
  },
  {
   "cell_type": "markdown",
   "metadata": {},
   "source": [
    "# Validating results"
   ]
  },
  {
   "cell_type": "code",
   "execution_count": 47,
   "metadata": {},
   "outputs": [
    {
     "data": {
      "text/plain": [
       "{'Negative': 0, 'Neutral': 1, 'Positive': 2}"
      ]
     },
     "execution_count": 47,
     "metadata": {},
     "output_type": "execute_result"
    }
   ],
   "source": [
    "mapping_sen"
   ]
  },
  {
   "cell_type": "code",
   "execution_count": 48,
   "metadata": {},
   "outputs": [],
   "source": [
    "inverse_sen_mapping = dict([(v,k) for k,v in mapping_sen.items()])"
   ]
  },
  {
   "cell_type": "code",
   "execution_count": 49,
   "metadata": {},
   "outputs": [],
   "source": [
    "def predict(model, inverse_mapping, sen_mapping, sentence):\n",
    "    sentence = [inverse_mapping.get(i,0) for i in tokenizer.tokenize(sentence)]\n",
    "    sentence = pad_sequences([sentence], maxlen=9,  truncating='post', padding='post')\n",
    "    return sen_mapping[np.argmax(model.predict(sentence))]"
   ]
  },
  {
   "cell_type": "code",
   "execution_count": 50,
   "metadata": {},
   "outputs": [
    {
     "data": {
      "text/plain": [
       "'Negative'"
      ]
     },
     "execution_count": 50,
     "metadata": {},
     "output_type": "execute_result"
    }
   ],
   "source": [
    "predict(lstm_sa, inverse_mapping,inverse_sen_mapping, 'man is trying to shoot someone')"
   ]
  },
  {
   "cell_type": "markdown",
   "metadata": {},
   "source": [
    "# Saving results"
   ]
  },
  {
   "cell_type": "code",
   "execution_count": 51,
   "metadata": {},
   "outputs": [],
   "source": [
    "df = pd.DataFrame()"
   ]
  },
  {
   "cell_type": "code",
   "execution_count": 52,
   "metadata": {},
   "outputs": [],
   "source": [
    "df['name'] = 'sa_lstm_glove'\n",
    "df['f1_macro'] = f1_score(y_true=y_test, y_pred=predicted, average='macro')\n",
    "df['f1_weighted'] = f1_score(y_true=y_test, y_pred=predicted, average='weighted')\n",
    "df['acc'] = accuracy_score(y_true=y_test, y_pred=predicted)\n",
    "df.to_csv('sa_lstm_glove_logs.csv', index=False)"
   ]
  },
  {
   "cell_type": "code",
   "execution_count": null,
   "metadata": {},
   "outputs": [],
   "source": []
  }
 ],
 "metadata": {
  "kernelspec": {
   "display_name": "Python 3",
   "language": "python",
   "name": "python3"
  },
  "language_info": {
   "codemirror_mode": {
    "name": "ipython",
    "version": 3
   },
   "file_extension": ".py",
   "mimetype": "text/x-python",
   "name": "python",
   "nbconvert_exporter": "python",
   "pygments_lexer": "ipython3",
   "version": "3.7.5"
  }
 },
 "nbformat": 4,
 "nbformat_minor": 2
}
