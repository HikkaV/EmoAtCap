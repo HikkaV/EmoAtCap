{
 "cells": [
  {
   "cell_type": "code",
   "execution_count": 6,
   "id": "sharing-pendant",
   "metadata": {},
   "outputs": [],
   "source": [
    "import pandas as pd\n",
    "import nltk\n",
    "from nltk.tokenize import word_tokenize, RegexpTokenizer\n",
    "from nltk.sentiment.vader import SentimentIntensityAnalyzer\n",
    "from vaderSentiment.vaderSentiment import SentimentIntensityAnalyzer\n",
    "import tqdm"
   ]
  },
  {
   "cell_type": "code",
   "execution_count": 7,
   "id": "packed-simulation",
   "metadata": {},
   "outputs": [],
   "source": [
    "df = pd.read_csv('../../data/emo-at-cap/emo-at-cap.csv')"
   ]
  },
  {
   "cell_type": "code",
   "execution_count": 8,
   "id": "linear-device",
   "metadata": {},
   "outputs": [
    {
     "data": {
      "text/html": [
       "<div>\n",
       "<style scoped>\n",
       "    .dataframe tbody tr th:only-of-type {\n",
       "        vertical-align: middle;\n",
       "    }\n",
       "\n",
       "    .dataframe tbody tr th {\n",
       "        vertical-align: top;\n",
       "    }\n",
       "\n",
       "    .dataframe thead th {\n",
       "        text-align: right;\n",
       "    }\n",
       "</style>\n",
       "<table border=\"1\" class=\"dataframe\">\n",
       "  <thead>\n",
       "    <tr style=\"text-align: right;\">\n",
       "      <th></th>\n",
       "      <th>image_name</th>\n",
       "      <th>annotation</th>\n",
       "      <th>human_sentiment</th>\n",
       "      <th>Done</th>\n",
       "    </tr>\n",
       "  </thead>\n",
       "  <tbody>\n",
       "    <tr>\n",
       "      <th>0</th>\n",
       "      <td>nm1055413_rm704041984_1977-4-2_2014.jpg</td>\n",
       "      <td>The man is running from something</td>\n",
       "      <td>NaN</td>\n",
       "      <td>-</td>\n",
       "    </tr>\n",
       "    <tr>\n",
       "      <th>1</th>\n",
       "      <td>nm0000113_rm1310297088_1964-7-26_2006.jpg</td>\n",
       "      <td>The worried woman is carrying for the other woman</td>\n",
       "      <td>NaN</td>\n",
       "      <td>-</td>\n",
       "    </tr>\n",
       "    <tr>\n",
       "      <th>2</th>\n",
       "      <td>nm0001713_rm271353088_1970-6-4_1995.jpg</td>\n",
       "      <td>The man and the woman are trying to protect th...</td>\n",
       "      <td>NaN</td>\n",
       "      <td>-</td>\n",
       "    </tr>\n",
       "    <tr>\n",
       "      <th>3</th>\n",
       "      <td>nm4237013_rm663142144_1985-0-0_2003.jpg</td>\n",
       "      <td>The man is flirting with the woman</td>\n",
       "      <td>NaN</td>\n",
       "      <td>-</td>\n",
       "    </tr>\n",
       "    <tr>\n",
       "      <th>4</th>\n",
       "      <td>nm0000113_rm1350277376_1964-7-26_2007.jpg</td>\n",
       "      <td>The man and the woman are surprised by something</td>\n",
       "      <td>NaN</td>\n",
       "      <td>-</td>\n",
       "    </tr>\n",
       "  </tbody>\n",
       "</table>\n",
       "</div>"
      ],
      "text/plain": [
       "                                  image_name  \\\n",
       "0    nm1055413_rm704041984_1977-4-2_2014.jpg   \n",
       "1  nm0000113_rm1310297088_1964-7-26_2006.jpg   \n",
       "2    nm0001713_rm271353088_1970-6-4_1995.jpg   \n",
       "3    nm4237013_rm663142144_1985-0-0_2003.jpg   \n",
       "4  nm0000113_rm1350277376_1964-7-26_2007.jpg   \n",
       "\n",
       "                                          annotation human_sentiment Done  \n",
       "0                  The man is running from something             NaN    -  \n",
       "1  The worried woman is carrying for the other woman             NaN    -  \n",
       "2  The man and the woman are trying to protect th...             NaN    -  \n",
       "3                 The man is flirting with the woman             NaN    -  \n",
       "4   The man and the woman are surprised by something             NaN    -  "
      ]
     },
     "execution_count": 8,
     "metadata": {},
     "output_type": "execute_result"
    }
   ],
   "source": [
    "df.head()"
   ]
  },
  {
   "cell_type": "code",
   "execution_count": 9,
   "id": "understood-vatican",
   "metadata": {},
   "outputs": [
    {
     "data": {
      "text/plain": [
       "3840"
      ]
     },
     "execution_count": 9,
     "metadata": {},
     "output_type": "execute_result"
    }
   ],
   "source": [
    "len(df)"
   ]
  },
  {
   "cell_type": "code",
   "execution_count": 10,
   "id": "impossible-mention",
   "metadata": {},
   "outputs": [],
   "source": [
    "def sentiment_scores(sentence): \n",
    "    sid_obj = SentimentIntensityAnalyzer() \n",
    "    sentece = ''.join(' '+i+' ' if i in [',','.','!','?'] else i for i in sentence).strip()\n",
    "    compounds = dict([(i,sid_obj.polarity_scores(i)['compound']) for i in sentence.split(' ') if sid_obj.polarity_scores(i)['compound']!=0])\n",
    "    compound_score = sid_obj.polarity_scores(sentence)['compound']\n",
    "    if compound_score >= 0.05 : \n",
    "        sentiment = \"Positive\"\n",
    "  \n",
    "    elif compound_score <= - 0.05 : \n",
    "        sentiment = \"Negative\" \n",
    "  \n",
    "    else : \n",
    "        sentiment =  \"Neutral\" \n",
    "    return sentiment, compounds"
   ]
  },
  {
   "cell_type": "code",
   "execution_count": 11,
   "id": "desperate-forth",
   "metadata": {},
   "outputs": [
    {
     "name": "stderr",
     "output_type": "stream",
     "text": [
      "100%|██████████| 3840/3840 [00:23<00:00, 164.67it/s]\n"
     ]
    }
   ],
   "source": [
    "sentiments = []\n",
    "for i in tqdm.tqdm(df['annotation']):\n",
    "    sentiments.append(sentiment_scores(i))"
   ]
  },
  {
   "cell_type": "code",
   "execution_count": 12,
   "id": "posted-expense",
   "metadata": {},
   "outputs": [],
   "source": [
    "sentiment, words_compound = zip(*sentiments)"
   ]
  },
  {
   "cell_type": "code",
   "execution_count": 13,
   "id": "afraid-discharge",
   "metadata": {},
   "outputs": [],
   "source": [
    "df['sentiment'] = sentiment"
   ]
  },
  {
   "cell_type": "code",
   "execution_count": 14,
   "id": "psychological-pittsburgh",
   "metadata": {},
   "outputs": [],
   "source": [
    "from IPython.display import clear_output\n"
   ]
  },
  {
   "cell_type": "code",
   "execution_count": 15,
   "id": "sticky-roberts",
   "metadata": {},
   "outputs": [
    {
     "data": {
      "text/html": [
       "<div>\n",
       "<style scoped>\n",
       "    .dataframe tbody tr th:only-of-type {\n",
       "        vertical-align: middle;\n",
       "    }\n",
       "\n",
       "    .dataframe tbody tr th {\n",
       "        vertical-align: top;\n",
       "    }\n",
       "\n",
       "    .dataframe thead th {\n",
       "        text-align: right;\n",
       "    }\n",
       "</style>\n",
       "<table border=\"1\" class=\"dataframe\">\n",
       "  <thead>\n",
       "    <tr style=\"text-align: right;\">\n",
       "      <th></th>\n",
       "      <th>image_name</th>\n",
       "      <th>annotation</th>\n",
       "      <th>human_sentiment</th>\n",
       "      <th>Done</th>\n",
       "      <th>sentiment</th>\n",
       "    </tr>\n",
       "  </thead>\n",
       "  <tbody>\n",
       "    <tr>\n",
       "      <th>0</th>\n",
       "      <td>nm1055413_rm704041984_1977-4-2_2014.jpg</td>\n",
       "      <td>The man is running from something</td>\n",
       "      <td>NaN</td>\n",
       "      <td>-</td>\n",
       "      <td>Neutral</td>\n",
       "    </tr>\n",
       "    <tr>\n",
       "      <th>1</th>\n",
       "      <td>nm0000113_rm1310297088_1964-7-26_2006.jpg</td>\n",
       "      <td>The worried woman is carrying for the other woman</td>\n",
       "      <td>NaN</td>\n",
       "      <td>-</td>\n",
       "      <td>Negative</td>\n",
       "    </tr>\n",
       "    <tr>\n",
       "      <th>2</th>\n",
       "      <td>nm0001713_rm271353088_1970-6-4_1995.jpg</td>\n",
       "      <td>The man and the woman are trying to protect th...</td>\n",
       "      <td>NaN</td>\n",
       "      <td>-</td>\n",
       "      <td>Positive</td>\n",
       "    </tr>\n",
       "    <tr>\n",
       "      <th>3</th>\n",
       "      <td>nm4237013_rm663142144_1985-0-0_2003.jpg</td>\n",
       "      <td>The man is flirting with the woman</td>\n",
       "      <td>NaN</td>\n",
       "      <td>-</td>\n",
       "      <td>Positive</td>\n",
       "    </tr>\n",
       "    <tr>\n",
       "      <th>4</th>\n",
       "      <td>nm0000113_rm1350277376_1964-7-26_2007.jpg</td>\n",
       "      <td>The man and the woman are surprised by something</td>\n",
       "      <td>NaN</td>\n",
       "      <td>-</td>\n",
       "      <td>Positive</td>\n",
       "    </tr>\n",
       "  </tbody>\n",
       "</table>\n",
       "</div>"
      ],
      "text/plain": [
       "                                  image_name  \\\n",
       "0    nm1055413_rm704041984_1977-4-2_2014.jpg   \n",
       "1  nm0000113_rm1310297088_1964-7-26_2006.jpg   \n",
       "2    nm0001713_rm271353088_1970-6-4_1995.jpg   \n",
       "3    nm4237013_rm663142144_1985-0-0_2003.jpg   \n",
       "4  nm0000113_rm1350277376_1964-7-26_2007.jpg   \n",
       "\n",
       "                                          annotation human_sentiment Done  \\\n",
       "0                  The man is running from something             NaN    -   \n",
       "1  The worried woman is carrying for the other woman             NaN    -   \n",
       "2  The man and the woman are trying to protect th...             NaN    -   \n",
       "3                 The man is flirting with the woman             NaN    -   \n",
       "4   The man and the woman are surprised by something             NaN    -   \n",
       "\n",
       "  sentiment  \n",
       "0   Neutral  \n",
       "1  Negative  \n",
       "2  Positive  \n",
       "3  Positive  \n",
       "4  Positive  "
      ]
     },
     "execution_count": 15,
     "metadata": {},
     "output_type": "execute_result"
    }
   ],
   "source": [
    "df.head()"
   ]
  },
  {
   "cell_type": "code",
   "execution_count": 16,
   "id": "studied-coverage",
   "metadata": {},
   "outputs": [],
   "source": [
    "df.to_csv('../../data/emo-at-cap/emo-at-cap.csv',index=False)"
   ]
  },
  {
   "cell_type": "code",
   "execution_count": null,
   "id": "listed-blogger",
   "metadata": {},
   "outputs": [],
   "source": []
  }
 ],
 "metadata": {
  "kernelspec": {
   "display_name": "Python 3",
   "language": "python",
   "name": "python3"
  },
  "language_info": {
   "codemirror_mode": {
    "name": "ipython",
    "version": 3
   },
   "file_extension": ".py",
   "mimetype": "text/x-python",
   "name": "python",
   "nbconvert_exporter": "python",
   "pygments_lexer": "ipython3",
   "version": "3.7.5"
  }
 },
 "nbformat": 4,
 "nbformat_minor": 5
}
