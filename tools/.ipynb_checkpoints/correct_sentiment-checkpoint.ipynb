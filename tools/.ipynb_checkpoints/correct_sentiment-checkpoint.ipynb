{
 "cells": [
  {
   "cell_type": "code",
   "execution_count": 2,
   "id": "critical-tours",
   "metadata": {},
   "outputs": [],
   "source": [
    "import os\n",
    "import pandas as pd\n",
    "from PIL import Image\n",
    "from IPython.display import clear_output\n",
    "import numpy as np\n"
   ]
  },
  {
   "cell_type": "code",
   "execution_count": 3,
   "id": "approximate-system",
   "metadata": {},
   "outputs": [],
   "source": [
    "path_images = \"../data/imdb/imdb/\"\n",
    "path_annotations = \"../data/emo-at-cap/emo-at-cap.csv\"\n",
    "size = (400, 400)"
   ]
  },
  {
   "cell_type": "code",
   "execution_count": 4,
   "id": "alternative-plaintiff",
   "metadata": {},
   "outputs": [],
   "source": [
    "if not os.path.exists(path_annotations):\n",
    "    df = pd.DataFrame(columns=['image_name','annotation','human_sentiment','sentiment'])\n",
    "    df.to_csv(path_annotations, index=False)\n",
    "all_pathes = os.listdir(path_images)\n",
    "new_sentiments = []\n",
    "new_images = []\n",
    "df = pd.read_csv(path_annotations)\n",
    "print('So far {} sentiments were corrected'.format((~df['human_sentiment'].isna()).sum()))\n",
    "images = df[df['human_sentiment'].isna()]['image_name'].values\n",
    "sentiments = df[df['human_sentiment'].isna()]['sentiment'].values\n",
    "annotations = df[df['human_sentiment'].isna()]['annotation'].values\n",
    "for annotation,sentiment,image in zip(annotations,sentiments,images):\n",
    "    display(Image.open(os.path.join(path_images,image)))\n",
    "    print(\"Machine sentiment : {}\".format(sentiment))\n",
    "    print('Annotation : {}'.format(annotation))\n",
    "    new_sentiment = str(input()).strip()\n",
    "    clear_output()\n",
    "    if new_sentiment and new_sentiment!='exit':\n",
    "        new_images.append(image)\n",
    "        new_sentiments.append(new_sentiment)\n",
    "    elif new_sentiment=='exit':\n",
    "        break\n",
    "    else:\n",
    "        new_images.append(image)\n",
    "        new_sentiments.append(sentiment)\n",
    "\n",
    "if new_images and new_sentiments:\n",
    "    ordered_images = df[df['image_name'].isin(new_images)]['image_name'].values\n",
    "    dict_ordering = dict([(i,c) for c,i in enumerate(new_images)])\n",
    "    indexes = [dict_ordering.get(i) for i in ordered_images]\n",
    "    new_sentiments = np.array(new_sentiments)[indexes]\n",
    "    df.loc[df['image_name'].isin(new_images), 'human_sentiment'] = new_sentiments\n",
    "df = df.reset_index().drop(columns='index')\n",
    "df.to_csv(path_annotations, index=False) "
   ]
  },
  {
   "cell_type": "code",
   "execution_count": null,
   "id": "printable-asian",
   "metadata": {},
   "outputs": [],
   "source": []
  }
 ],
 "metadata": {
  "kernelspec": {
   "display_name": "Python 3",
   "language": "python",
   "name": "python3"
  },
  "language_info": {
   "codemirror_mode": {
    "name": "ipython",
    "version": 3
   },
   "file_extension": ".py",
   "mimetype": "text/x-python",
   "name": "python",
   "nbconvert_exporter": "python",
   "pygments_lexer": "ipython3",
   "version": "3.7.5"
  }
 },
 "nbformat": 4,
 "nbformat_minor": 5
}
