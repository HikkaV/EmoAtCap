{
 "cells": [
  {
   "cell_type": "code",
   "execution_count": 4,
   "id": "express-contact",
   "metadata": {},
   "outputs": [],
   "source": [
    "import os\n",
    "import pandas as pd\n",
    "from PIL import Image\n",
    "from IPython.display import clear_output\n",
    "import numpy as np"
   ]
  },
  {
   "cell_type": "markdown",
   "id": "external-terrorist",
   "metadata": {
    "slideshow": {
     "slide_type": "-"
    }
   },
   "source": [
    "## change only the next cell for personalized configurations"
   ]
  },
  {
   "cell_type": "code",
   "execution_count": 2,
   "id": "labeled-gothic",
   "metadata": {},
   "outputs": [],
   "source": [
    "path_images = \"../data/imdb/Vova_0/\"\n",
    "path_annotations = \"../data/imdb/annotations.csv\"\n",
    "mode = 1\n",
    "size = (400, 400)"
   ]
  },
  {
   "cell_type": "markdown",
   "id": "featured-columbia",
   "metadata": {},
   "source": [
    "## actual annotator\n",
    "### mode=0 -> create annotation, mode=1 -> show existing annotations and change on premiss"
   ]
  },
  {
   "cell_type": "code",
   "execution_count": 8,
   "id": "deadly-parks",
   "metadata": {},
   "outputs": [],
   "source": [
    "if not os.path.exists(path_annotations):\n",
    "    df = pd.DataFrame(columns=['image_name','annotation'])\n",
    "    df.to_csv(path_annotations, index=False)\n",
    "all_pathes = os.listdir(path_images)\n",
    "new_images = []\n",
    "new_annotations = []\n",
    "if mode==0:\n",
    "    df = pd.read_csv(path_annotations)\n",
    "    images = df['image_name'].values\n",
    "    to_annotate = set(all_pathes).difference(images) if images else all_pathes\n",
    "    if to_annotate:\n",
    "        for image in to_annotate:\n",
    "            display(Image.open(os.path.join(path_images,image)).resize(size))\n",
    "            annotation = str(input()).strip()\n",
    "            clear_output()\n",
    "            if annotation and annotation!='exit':\n",
    "                new_images.append(image)\n",
    "                new_annotations.append(annotation)\n",
    "            elif annotation=='exit':\n",
    "                break\n",
    "        df['image_name'] = new_images\n",
    "        df['annotation'] = new_annotations\n",
    "        df.to_csv(path_annotations, index=False)\n",
    "                \n",
    "    else:\n",
    "        print('All the images are annotated. If you want to change them and view please use mode=1')\n",
    "elif mode==1:\n",
    "    df = pd.read_csv(path_annotations)\n",
    "    images = df['image_name'].values\n",
    "    annotations = df['annotation'].values\n",
    "    for annotation, image in zip(annotations,images):\n",
    "        display(Image.open(os.path.join(path_images,image)))\n",
    "        print(annotation)\n",
    "        annotation = str(input()).strip()\n",
    "        clear_output()\n",
    "        if annotation and annotation!='exit':\n",
    "            new_images.append(image)\n",
    "            new_annotations.append(annotation)\n",
    "        elif annotation=='exit':\n",
    "            break\n",
    "    if new_images and new_annotations:\n",
    "        ordered_images = df[df['image_name'].isin(new_images)]['image_name'].values\n",
    "        dict_ordering = dict([(i,c) for c,i in enumerate(new_images)])\n",
    "        indexes = [dict_ordering.get(i) for i in ordered_images]\n",
    "        new_annotations = np.array(new_annotations)[indexes]\n",
    "        df.loc[df['image_name'].isin(new_images), 'annotation'] = new_annotations\n",
    "    df.to_csv(path_annotations, index=False) "
   ]
  },
  {
   "cell_type": "code",
   "execution_count": null,
   "id": "exterior-kruger",
   "metadata": {},
   "outputs": [],
   "source": []
  }
 ],
 "metadata": {
  "celltoolbar": "Редактировать метаданные",
  "kernelspec": {
   "display_name": "Python 3",
   "language": "python",
   "name": "python3"
  },
  "language_info": {
   "codemirror_mode": {
    "name": "ipython",
    "version": 3
   },
   "file_extension": ".py",
   "mimetype": "text/x-python",
   "name": "python",
   "nbconvert_exporter": "python",
   "pygments_lexer": "ipython3",
   "version": "3.7.5"
  }
 },
 "nbformat": 4,
 "nbformat_minor": 5
}
