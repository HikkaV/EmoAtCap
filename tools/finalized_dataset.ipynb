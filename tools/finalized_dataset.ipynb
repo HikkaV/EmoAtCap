{
 "cells": [
  {
   "cell_type": "code",
   "execution_count": 2,
   "id": "under-george",
   "metadata": {},
   "outputs": [],
   "source": [
    "import pandas as pd\n",
    "import shutil\n",
    "import os"
   ]
  },
  {
   "cell_type": "code",
   "execution_count": 3,
   "id": "basic-asthma",
   "metadata": {},
   "outputs": [],
   "source": [
    "annotations = pd.read_csv('../data/emo-at-cap/emo-at-cap.csv')"
   ]
  },
  {
   "cell_type": "code",
   "execution_count": 5,
   "id": "fifty-michigan",
   "metadata": {},
   "outputs": [],
   "source": [
    "to_keep = annotations['image_name'].values"
   ]
  },
  {
   "cell_type": "code",
   "execution_count": 6,
   "id": "indoor-desire",
   "metadata": {},
   "outputs": [],
   "source": [
    "all_images =os.listdir('../data/imdb/imdb/')"
   ]
  },
  {
   "cell_type": "code",
   "execution_count": 7,
   "id": "insured-functionality",
   "metadata": {},
   "outputs": [],
   "source": [
    "import tqdm\n",
    "os.mkdir('../data/emo-at-cap/images')"
   ]
  },
  {
   "cell_type": "code",
   "execution_count": 8,
   "id": "weird-conservative",
   "metadata": {},
   "outputs": [
    {
     "name": "stderr",
     "output_type": "stream",
     "text": [
      "100%|██████████| 3840/3840 [00:00<00:00, 49371.98it/s]\n"
     ]
    }
   ],
   "source": [
    "for i in tqdm.tqdm(to_keep):\n",
    "    start_path = os.path.join('../data/imdb/imdb',i)\n",
    "    end_path = os.path.join('../data/emo-at-cap/images',i)\n",
    "    shutil.move(start_path,end_path)"
   ]
  },
  {
   "cell_type": "code",
   "execution_count": null,
   "id": "interesting-thailand",
   "metadata": {},
   "outputs": [],
   "source": []
  }
 ],
 "metadata": {
  "kernelspec": {
   "display_name": "Python 3",
   "language": "python",
   "name": "python3"
  },
  "language_info": {
   "codemirror_mode": {
    "name": "ipython",
    "version": 3
   },
   "file_extension": ".py",
   "mimetype": "text/x-python",
   "name": "python",
   "nbconvert_exporter": "python",
   "pygments_lexer": "ipython3",
   "version": "3.7.5"
  }
 },
 "nbformat": 4,
 "nbformat_minor": 5
}
